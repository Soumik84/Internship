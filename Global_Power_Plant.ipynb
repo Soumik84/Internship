{
 "cells": [
  {
   "cell_type": "code",
   "execution_count": 1,
   "id": "9a67aa5e",
   "metadata": {},
   "outputs": [],
   "source": [
    "import pandas as pd\n",
    "import matplotlib.pyplot as plt\n",
    "import numpy as np\n",
    "import seaborn as sn\n",
    "from sklearn.metrics import accuracy_score\n",
    "from sklearn.metrics import confusion_matrix,classification_report\n",
    "from sklearn.metrics import r2_score\n",
    "from sklearn.model_selection import train_test_split\n",
    "import warnings\n",
    "warnings.filterwarnings('ignore')"
   ]
  },
  {
   "cell_type": "code",
   "execution_count": 38,
   "id": "6c1be225",
   "metadata": {},
   "outputs": [
    {
     "data": {
      "text/html": [
       "<div>\n",
       "<style scoped>\n",
       "    .dataframe tbody tr th:only-of-type {\n",
       "        vertical-align: middle;\n",
       "    }\n",
       "\n",
       "    .dataframe tbody tr th {\n",
       "        vertical-align: top;\n",
       "    }\n",
       "\n",
       "    .dataframe thead th {\n",
       "        text-align: right;\n",
       "    }\n",
       "</style>\n",
       "<table border=\"1\" class=\"dataframe\">\n",
       "  <thead>\n",
       "    <tr style=\"text-align: right;\">\n",
       "      <th></th>\n",
       "      <th>country</th>\n",
       "      <th>country_long</th>\n",
       "      <th>name</th>\n",
       "      <th>gppd_idnr</th>\n",
       "      <th>capacity_mw</th>\n",
       "      <th>latitude</th>\n",
       "      <th>longitude</th>\n",
       "      <th>primary_fuel</th>\n",
       "      <th>other_fuel1</th>\n",
       "      <th>other_fuel2</th>\n",
       "      <th>...</th>\n",
       "      <th>geolocation_source</th>\n",
       "      <th>wepp_id</th>\n",
       "      <th>year_of_capacity_data</th>\n",
       "      <th>generation_gwh_2013</th>\n",
       "      <th>generation_gwh_2014</th>\n",
       "      <th>generation_gwh_2015</th>\n",
       "      <th>generation_gwh_2016</th>\n",
       "      <th>generation_gwh_2017</th>\n",
       "      <th>generation_data_source</th>\n",
       "      <th>estimated_generation_gwh</th>\n",
       "    </tr>\n",
       "  </thead>\n",
       "  <tbody>\n",
       "    <tr>\n",
       "      <th>0</th>\n",
       "      <td>IND</td>\n",
       "      <td>India</td>\n",
       "      <td>ACME Solar Tower</td>\n",
       "      <td>WRI1020239</td>\n",
       "      <td>2.5</td>\n",
       "      <td>28.1839</td>\n",
       "      <td>73.2407</td>\n",
       "      <td>Solar</td>\n",
       "      <td>NaN</td>\n",
       "      <td>NaN</td>\n",
       "      <td>...</td>\n",
       "      <td>National Renewable Energy Laboratory</td>\n",
       "      <td>NaN</td>\n",
       "      <td>NaN</td>\n",
       "      <td>NaN</td>\n",
       "      <td>NaN</td>\n",
       "      <td>NaN</td>\n",
       "      <td>NaN</td>\n",
       "      <td>NaN</td>\n",
       "      <td>NaN</td>\n",
       "      <td>NaN</td>\n",
       "    </tr>\n",
       "    <tr>\n",
       "      <th>1</th>\n",
       "      <td>IND</td>\n",
       "      <td>India</td>\n",
       "      <td>ADITYA CEMENT WORKS</td>\n",
       "      <td>WRI1019881</td>\n",
       "      <td>98.0</td>\n",
       "      <td>24.7663</td>\n",
       "      <td>74.6090</td>\n",
       "      <td>Coal</td>\n",
       "      <td>NaN</td>\n",
       "      <td>NaN</td>\n",
       "      <td>...</td>\n",
       "      <td>WRI</td>\n",
       "      <td>NaN</td>\n",
       "      <td>NaN</td>\n",
       "      <td>NaN</td>\n",
       "      <td>NaN</td>\n",
       "      <td>NaN</td>\n",
       "      <td>NaN</td>\n",
       "      <td>NaN</td>\n",
       "      <td>NaN</td>\n",
       "      <td>NaN</td>\n",
       "    </tr>\n",
       "    <tr>\n",
       "      <th>2</th>\n",
       "      <td>IND</td>\n",
       "      <td>India</td>\n",
       "      <td>AES Saurashtra Windfarms</td>\n",
       "      <td>WRI1026669</td>\n",
       "      <td>39.2</td>\n",
       "      <td>21.9038</td>\n",
       "      <td>69.3732</td>\n",
       "      <td>Wind</td>\n",
       "      <td>NaN</td>\n",
       "      <td>NaN</td>\n",
       "      <td>...</td>\n",
       "      <td>WRI</td>\n",
       "      <td>NaN</td>\n",
       "      <td>NaN</td>\n",
       "      <td>NaN</td>\n",
       "      <td>NaN</td>\n",
       "      <td>NaN</td>\n",
       "      <td>NaN</td>\n",
       "      <td>NaN</td>\n",
       "      <td>NaN</td>\n",
       "      <td>NaN</td>\n",
       "    </tr>\n",
       "    <tr>\n",
       "      <th>3</th>\n",
       "      <td>IND</td>\n",
       "      <td>India</td>\n",
       "      <td>AGARTALA GT</td>\n",
       "      <td>IND0000001</td>\n",
       "      <td>135.0</td>\n",
       "      <td>23.8712</td>\n",
       "      <td>91.3602</td>\n",
       "      <td>Gas</td>\n",
       "      <td>NaN</td>\n",
       "      <td>NaN</td>\n",
       "      <td>...</td>\n",
       "      <td>WRI</td>\n",
       "      <td>NaN</td>\n",
       "      <td>2018.0</td>\n",
       "      <td>631.777928</td>\n",
       "      <td>617.789264</td>\n",
       "      <td>843.747</td>\n",
       "      <td>886.004428</td>\n",
       "      <td>663.774500</td>\n",
       "      <td>Central Electricity Authority</td>\n",
       "      <td>NaN</td>\n",
       "    </tr>\n",
       "    <tr>\n",
       "      <th>4</th>\n",
       "      <td>IND</td>\n",
       "      <td>India</td>\n",
       "      <td>AKALTARA TPP</td>\n",
       "      <td>IND0000002</td>\n",
       "      <td>1800.0</td>\n",
       "      <td>21.9603</td>\n",
       "      <td>82.4091</td>\n",
       "      <td>Coal</td>\n",
       "      <td>Oil</td>\n",
       "      <td>NaN</td>\n",
       "      <td>...</td>\n",
       "      <td>WRI</td>\n",
       "      <td>NaN</td>\n",
       "      <td>2018.0</td>\n",
       "      <td>1668.290000</td>\n",
       "      <td>3035.550000</td>\n",
       "      <td>5916.370</td>\n",
       "      <td>6243.000000</td>\n",
       "      <td>5385.579736</td>\n",
       "      <td>Central Electricity Authority</td>\n",
       "      <td>NaN</td>\n",
       "    </tr>\n",
       "  </tbody>\n",
       "</table>\n",
       "<p>5 rows × 25 columns</p>\n",
       "</div>"
      ],
      "text/plain": [
       "  country country_long                      name   gppd_idnr  capacity_mw  \\\n",
       "0     IND        India          ACME Solar Tower  WRI1020239          2.5   \n",
       "1     IND        India       ADITYA CEMENT WORKS  WRI1019881         98.0   \n",
       "2     IND        India  AES Saurashtra Windfarms  WRI1026669         39.2   \n",
       "3     IND        India               AGARTALA GT  IND0000001        135.0   \n",
       "4     IND        India              AKALTARA TPP  IND0000002       1800.0   \n",
       "\n",
       "   latitude  longitude primary_fuel other_fuel1 other_fuel2  ...  \\\n",
       "0   28.1839    73.2407        Solar         NaN         NaN  ...   \n",
       "1   24.7663    74.6090         Coal         NaN         NaN  ...   \n",
       "2   21.9038    69.3732         Wind         NaN         NaN  ...   \n",
       "3   23.8712    91.3602          Gas         NaN         NaN  ...   \n",
       "4   21.9603    82.4091         Coal         Oil         NaN  ...   \n",
       "\n",
       "                     geolocation_source  wepp_id year_of_capacity_data  \\\n",
       "0  National Renewable Energy Laboratory      NaN                   NaN   \n",
       "1                                   WRI      NaN                   NaN   \n",
       "2                                   WRI      NaN                   NaN   \n",
       "3                                   WRI      NaN                2018.0   \n",
       "4                                   WRI      NaN                2018.0   \n",
       "\n",
       "  generation_gwh_2013 generation_gwh_2014 generation_gwh_2015  \\\n",
       "0                 NaN                 NaN                 NaN   \n",
       "1                 NaN                 NaN                 NaN   \n",
       "2                 NaN                 NaN                 NaN   \n",
       "3          631.777928          617.789264             843.747   \n",
       "4         1668.290000         3035.550000            5916.370   \n",
       "\n",
       "   generation_gwh_2016  generation_gwh_2017         generation_data_source  \\\n",
       "0                  NaN                  NaN                            NaN   \n",
       "1                  NaN                  NaN                            NaN   \n",
       "2                  NaN                  NaN                            NaN   \n",
       "3           886.004428           663.774500  Central Electricity Authority   \n",
       "4          6243.000000          5385.579736  Central Electricity Authority   \n",
       "\n",
       "   estimated_generation_gwh  \n",
       "0                       NaN  \n",
       "1                       NaN  \n",
       "2                       NaN  \n",
       "3                       NaN  \n",
       "4                       NaN  \n",
       "\n",
       "[5 rows x 25 columns]"
      ]
     },
     "execution_count": 38,
     "metadata": {},
     "output_type": "execute_result"
    }
   ],
   "source": [
    "df=pd.read_csv(\"Global_Power_Plant.csv\")\n",
    "df.head()"
   ]
  },
  {
   "cell_type": "code",
   "execution_count": 3,
   "id": "1a1af34e",
   "metadata": {},
   "outputs": [
    {
     "data": {
      "text/plain": [
       "(908, 25)"
      ]
     },
     "execution_count": 3,
     "metadata": {},
     "output_type": "execute_result"
    }
   ],
   "source": [
    "df.shape"
   ]
  },
  {
   "cell_type": "code",
   "execution_count": 4,
   "id": "7bc7d94b",
   "metadata": {},
   "outputs": [
    {
     "data": {
      "text/plain": [
       "country                      object\n",
       "country_long                 object\n",
       "name                         object\n",
       "gppd_idnr                    object\n",
       "capacity_mw                 float64\n",
       "latitude                    float64\n",
       "longitude                   float64\n",
       "primary_fuel                 object\n",
       "other_fuel1                  object\n",
       "other_fuel2                  object\n",
       "other_fuel3                 float64\n",
       "commissioning_year          float64\n",
       "owner                        object\n",
       "source                       object\n",
       "url                          object\n",
       "geolocation_source           object\n",
       "wepp_id                     float64\n",
       "year_of_capacity_data       float64\n",
       "generation_gwh_2013         float64\n",
       "generation_gwh_2014         float64\n",
       "generation_gwh_2015         float64\n",
       "generation_gwh_2016         float64\n",
       "generation_gwh_2017         float64\n",
       "generation_data_source       object\n",
       "estimated_generation_gwh    float64\n",
       "dtype: object"
      ]
     },
     "execution_count": 4,
     "metadata": {},
     "output_type": "execute_result"
    }
   ],
   "source": [
    "df.dtypes"
   ]
  },
  {
   "cell_type": "code",
   "execution_count": 5,
   "id": "a39f5a42",
   "metadata": {},
   "outputs": [
    {
     "data": {
      "text/plain": [
       "country                       0\n",
       "country_long                  0\n",
       "name                          0\n",
       "gppd_idnr                     0\n",
       "capacity_mw                   0\n",
       "latitude                     46\n",
       "longitude                    46\n",
       "primary_fuel                  0\n",
       "other_fuel1                 709\n",
       "other_fuel2                 907\n",
       "other_fuel3                 908\n",
       "commissioning_year          380\n",
       "owner                       566\n",
       "source                        0\n",
       "url                           0\n",
       "geolocation_source           19\n",
       "wepp_id                     908\n",
       "year_of_capacity_data       388\n",
       "generation_gwh_2013         524\n",
       "generation_gwh_2014         507\n",
       "generation_gwh_2015         483\n",
       "generation_gwh_2016         471\n",
       "generation_gwh_2017         465\n",
       "generation_data_source      458\n",
       "estimated_generation_gwh    908\n",
       "dtype: int64"
      ]
     },
     "execution_count": 5,
     "metadata": {},
     "output_type": "execute_result"
    }
   ],
   "source": [
    "df.isnull().sum()"
   ]
  },
  {
   "cell_type": "code",
   "execution_count": 6,
   "id": "800b7b1a",
   "metadata": {},
   "outputs": [
    {
     "data": {
      "text/plain": [
       "<AxesSubplot:>"
      ]
     },
     "execution_count": 6,
     "metadata": {},
     "output_type": "execute_result"
    },
    {
     "data": {
      "image/png": "[encoded data removed]",
      "text/plain": [
       "<Figure size 432x288 with 2 Axes>"
      ]
     },
     "metadata": {
      "needs_background": "light"
     },
     "output_type": "display_data"
    }
   ],
   "source": [
    "sn.heatmap(df.isnull())"
   ]
  },
  {
   "cell_type": "markdown",
   "id": "a5c5a648",
   "metadata": {},
   "source": [
    "Lots of missing value so creating a new dataset with the columns which have good numbers of values"
   ]
  },
  {
   "cell_type": "code",
   "execution_count": 39,
   "id": "3daf1b91",
   "metadata": {},
   "outputs": [],
   "source": [
    "df1=df[['name','gppd_idnr','capacity_mw','latitude','longitude','primary_fuel','source','url','geolocation_source']].copy()"
   ]
  },
  {
   "cell_type": "code",
   "execution_count": 40,
   "id": "395a6730",
   "metadata": {},
   "outputs": [
    {
     "data": {
      "text/html": [
       "<div>\n",
       "<style scoped>\n",
       "    .dataframe tbody tr th:only-of-type {\n",
       "        vertical-align: middle;\n",
       "    }\n",
       "\n",
       "    .dataframe tbody tr th {\n",
       "        vertical-align: top;\n",
       "    }\n",
       "\n",
       "    .dataframe thead th {\n",
       "        text-align: right;\n",
       "    }\n",
       "</style>\n",
       "<table border=\"1\" class=\"dataframe\">\n",
       "  <thead>\n",
       "    <tr style=\"text-align: right;\">\n",
       "      <th></th>\n",
       "      <th>name</th>\n",
       "      <th>gppd_idnr</th>\n",
       "      <th>capacity_mw</th>\n",
       "      <th>latitude</th>\n",
       "      <th>longitude</th>\n",
       "      <th>primary_fuel</th>\n",
       "      <th>source</th>\n",
       "      <th>url</th>\n",
       "      <th>geolocation_source</th>\n",
       "    </tr>\n",
       "  </thead>\n",
       "  <tbody>\n",
       "    <tr>\n",
       "      <th>0</th>\n",
       "      <td>ACME Solar Tower</td>\n",
       "      <td>WRI1020239</td>\n",
       "      <td>2.5</td>\n",
       "      <td>28.1839</td>\n",
       "      <td>73.2407</td>\n",
       "      <td>Solar</td>\n",
       "      <td>National Renewable Energy Laboratory</td>\n",
       "      <td>http://www.nrel.gov/csp/solarpaces/project_det...</td>\n",
       "      <td>National Renewable Energy Laboratory</td>\n",
       "    </tr>\n",
       "    <tr>\n",
       "      <th>1</th>\n",
       "      <td>ADITYA CEMENT WORKS</td>\n",
       "      <td>WRI1019881</td>\n",
       "      <td>98.0</td>\n",
       "      <td>24.7663</td>\n",
       "      <td>74.6090</td>\n",
       "      <td>Coal</td>\n",
       "      <td>Ultratech Cement ltd</td>\n",
       "      <td>http://www.ultratechcement.com/</td>\n",
       "      <td>WRI</td>\n",
       "    </tr>\n",
       "    <tr>\n",
       "      <th>2</th>\n",
       "      <td>AES Saurashtra Windfarms</td>\n",
       "      <td>WRI1026669</td>\n",
       "      <td>39.2</td>\n",
       "      <td>21.9038</td>\n",
       "      <td>69.3732</td>\n",
       "      <td>Wind</td>\n",
       "      <td>CDM</td>\n",
       "      <td>https://cdm.unfccc.int/Projects/DB/DNV-CUK1328...</td>\n",
       "      <td>WRI</td>\n",
       "    </tr>\n",
       "    <tr>\n",
       "      <th>3</th>\n",
       "      <td>AGARTALA GT</td>\n",
       "      <td>IND0000001</td>\n",
       "      <td>135.0</td>\n",
       "      <td>23.8712</td>\n",
       "      <td>91.3602</td>\n",
       "      <td>Gas</td>\n",
       "      <td>Central Electricity Authority</td>\n",
       "      <td>http://www.cea.nic.in/</td>\n",
       "      <td>WRI</td>\n",
       "    </tr>\n",
       "    <tr>\n",
       "      <th>4</th>\n",
       "      <td>AKALTARA TPP</td>\n",
       "      <td>IND0000002</td>\n",
       "      <td>1800.0</td>\n",
       "      <td>21.9603</td>\n",
       "      <td>82.4091</td>\n",
       "      <td>Coal</td>\n",
       "      <td>Central Electricity Authority</td>\n",
       "      <td>http://www.cea.nic.in/</td>\n",
       "      <td>WRI</td>\n",
       "    </tr>\n",
       "    <tr>\n",
       "      <th>...</th>\n",
       "      <td>...</td>\n",
       "      <td>...</td>\n",
       "      <td>...</td>\n",
       "      <td>...</td>\n",
       "      <td>...</td>\n",
       "      <td>...</td>\n",
       "      <td>...</td>\n",
       "      <td>...</td>\n",
       "      <td>...</td>\n",
       "    </tr>\n",
       "    <tr>\n",
       "      <th>903</th>\n",
       "      <td>YERMARUS TPP</td>\n",
       "      <td>IND0000513</td>\n",
       "      <td>1600.0</td>\n",
       "      <td>16.2949</td>\n",
       "      <td>77.3568</td>\n",
       "      <td>Coal</td>\n",
       "      <td>Central Electricity Authority</td>\n",
       "      <td>http://www.cea.nic.in/</td>\n",
       "      <td>WRI</td>\n",
       "    </tr>\n",
       "    <tr>\n",
       "      <th>904</th>\n",
       "      <td>Yelesandra Solar Power Plant</td>\n",
       "      <td>WRI1026222</td>\n",
       "      <td>3.0</td>\n",
       "      <td>12.8932</td>\n",
       "      <td>78.1654</td>\n",
       "      <td>Solar</td>\n",
       "      <td>Karnataka Power Corporation Limited</td>\n",
       "      <td>http://karnatakapower.com</td>\n",
       "      <td>Industry About</td>\n",
       "    </tr>\n",
       "    <tr>\n",
       "      <th>905</th>\n",
       "      <td>Yelisirur wind power project</td>\n",
       "      <td>WRI1026776</td>\n",
       "      <td>25.5</td>\n",
       "      <td>15.2758</td>\n",
       "      <td>75.5811</td>\n",
       "      <td>Wind</td>\n",
       "      <td>CDM</td>\n",
       "      <td>https://cdm.unfccc.int/Projects/DB/TUEV-RHEIN1...</td>\n",
       "      <td>WRI</td>\n",
       "    </tr>\n",
       "    <tr>\n",
       "      <th>906</th>\n",
       "      <td>ZAWAR MINES</td>\n",
       "      <td>WRI1019901</td>\n",
       "      <td>80.0</td>\n",
       "      <td>24.3500</td>\n",
       "      <td>73.7477</td>\n",
       "      <td>Coal</td>\n",
       "      <td>Hindustan Zinc ltd</td>\n",
       "      <td>http://www.hzlindia.com/</td>\n",
       "      <td>WRI</td>\n",
       "    </tr>\n",
       "    <tr>\n",
       "      <th>907</th>\n",
       "      <td>iEnergy Theni Wind Farm</td>\n",
       "      <td>WRI1026761</td>\n",
       "      <td>16.5</td>\n",
       "      <td>9.9344</td>\n",
       "      <td>77.4768</td>\n",
       "      <td>Wind</td>\n",
       "      <td>CDM</td>\n",
       "      <td>https://cdm.unfccc.int/Projects/DB/RWTUV134503...</td>\n",
       "      <td>WRI</td>\n",
       "    </tr>\n",
       "  </tbody>\n",
       "</table>\n",
       "<p>908 rows × 9 columns</p>\n",
       "</div>"
      ],
      "text/plain": [
       "                             name   gppd_idnr  capacity_mw  latitude  \\\n",
       "0                ACME Solar Tower  WRI1020239          2.5   28.1839   \n",
       "1             ADITYA CEMENT WORKS  WRI1019881         98.0   24.7663   \n",
       "2        AES Saurashtra Windfarms  WRI1026669         39.2   21.9038   \n",
       "3                     AGARTALA GT  IND0000001        135.0   23.8712   \n",
       "4                    AKALTARA TPP  IND0000002       1800.0   21.9603   \n",
       "..                            ...         ...          ...       ...   \n",
       "903                  YERMARUS TPP  IND0000513       1600.0   16.2949   \n",
       "904  Yelesandra Solar Power Plant  WRI1026222          3.0   12.8932   \n",
       "905  Yelisirur wind power project  WRI1026776         25.5   15.2758   \n",
       "906                   ZAWAR MINES  WRI1019901         80.0   24.3500   \n",
       "907       iEnergy Theni Wind Farm  WRI1026761         16.5    9.9344   \n",
       "\n",
       "     longitude primary_fuel                                source  \\\n",
       "0      73.2407        Solar  National Renewable Energy Laboratory   \n",
       "1      74.6090         Coal                  Ultratech Cement ltd   \n",
       "2      69.3732         Wind                                   CDM   \n",
       "3      91.3602          Gas         Central Electricity Authority   \n",
       "4      82.4091         Coal         Central Electricity Authority   \n",
       "..         ...          ...                                   ...   \n",
       "903    77.3568         Coal         Central Electricity Authority   \n",
       "904    78.1654        Solar   Karnataka Power Corporation Limited   \n",
       "905    75.5811         Wind                                   CDM   \n",
       "906    73.7477         Coal                    Hindustan Zinc ltd   \n",
       "907    77.4768         Wind                                   CDM   \n",
       "\n",
       "                                                   url  \\\n",
       "0    http://www.nrel.gov/csp/solarpaces/project_det...   \n",
       "1                      http://www.ultratechcement.com/   \n",
       "2    https://cdm.unfccc.int/Projects/DB/DNV-CUK1328...   \n",
       "3                               http://www.cea.nic.in/   \n",
       "4                               http://www.cea.nic.in/   \n",
       "..                                                 ...   \n",
       "903                             http://www.cea.nic.in/   \n",
       "904                          http://karnatakapower.com   \n",
       "905  https://cdm.unfccc.int/Projects/DB/TUEV-RHEIN1...   \n",
       "906                           http://www.hzlindia.com/   \n",
       "907  https://cdm.unfccc.int/Projects/DB/RWTUV134503...   \n",
       "\n",
       "                       geolocation_source  \n",
       "0    National Renewable Energy Laboratory  \n",
       "1                                     WRI  \n",
       "2                                     WRI  \n",
       "3                                     WRI  \n",
       "4                                     WRI  \n",
       "..                                    ...  \n",
       "903                                   WRI  \n",
       "904                        Industry About  \n",
       "905                                   WRI  \n",
       "906                                   WRI  \n",
       "907                                   WRI  \n",
       "\n",
       "[908 rows x 9 columns]"
      ]
     },
     "execution_count": 40,
     "metadata": {},
     "output_type": "execute_result"
    }
   ],
   "source": [
    "df1"
   ]
  },
  {
   "cell_type": "code",
   "execution_count": 41,
   "id": "1ed7f86f",
   "metadata": {},
   "outputs": [
    {
     "data": {
      "text/plain": [
       "name                   0\n",
       "gppd_idnr              0\n",
       "capacity_mw            0\n",
       "latitude              46\n",
       "longitude             46\n",
       "primary_fuel           0\n",
       "source                 0\n",
       "url                    0\n",
       "geolocation_source    19\n",
       "dtype: int64"
      ]
     },
     "execution_count": 41,
     "metadata": {},
     "output_type": "execute_result"
    }
   ],
   "source": [
    "df1.isnull().sum()"
   ]
  },
  {
   "cell_type": "markdown",
   "id": "68ec3601",
   "metadata": {},
   "source": [
    "# Replacing missing values"
   ]
  },
  {
   "cell_type": "code",
   "execution_count": 51,
   "id": "8d939ea8",
   "metadata": {},
   "outputs": [],
   "source": [
    "df1.dropna(axis=0,inplace=True)"
   ]
  },
  {
   "cell_type": "code",
   "execution_count": 52,
   "id": "f8fb618f",
   "metadata": {},
   "outputs": [
    {
     "data": {
      "text/plain": [
       "name                  0\n",
       "gppd_idnr             0\n",
       "capacity_mw           0\n",
       "latitude              0\n",
       "longitude             0\n",
       "primary_fuel          0\n",
       "source                0\n",
       "url                   0\n",
       "geolocation_source    0\n",
       "dtype: int64"
      ]
     },
     "execution_count": 52,
     "metadata": {},
     "output_type": "execute_result"
    }
   ],
   "source": [
    "df1.isnull().sum()"
   ]
  },
  {
   "cell_type": "code",
   "execution_count": 53,
   "id": "087029fe",
   "metadata": {},
   "outputs": [
    {
     "data": {
      "text/html": [
       "<div>\n",
       "<style scoped>\n",
       "    .dataframe tbody tr th:only-of-type {\n",
       "        vertical-align: middle;\n",
       "    }\n",
       "\n",
       "    .dataframe tbody tr th {\n",
       "        vertical-align: top;\n",
       "    }\n",
       "\n",
       "    .dataframe thead th {\n",
       "        text-align: right;\n",
       "    }\n",
       "</style>\n",
       "<table border=\"1\" class=\"dataframe\">\n",
       "  <thead>\n",
       "    <tr style=\"text-align: right;\">\n",
       "      <th></th>\n",
       "      <th>name</th>\n",
       "      <th>gppd_idnr</th>\n",
       "      <th>capacity_mw</th>\n",
       "      <th>latitude</th>\n",
       "      <th>longitude</th>\n",
       "      <th>primary_fuel</th>\n",
       "      <th>source</th>\n",
       "      <th>url</th>\n",
       "      <th>geolocation_source</th>\n",
       "    </tr>\n",
       "  </thead>\n",
       "  <tbody>\n",
       "    <tr>\n",
       "      <th>0</th>\n",
       "      <td>ACME Solar Tower</td>\n",
       "      <td>WRI1020239</td>\n",
       "      <td>2.5</td>\n",
       "      <td>28.1839</td>\n",
       "      <td>73.2407</td>\n",
       "      <td>Solar</td>\n",
       "      <td>National Renewable Energy Laboratory</td>\n",
       "      <td>http://www.nrel.gov/csp/solarpaces/project_det...</td>\n",
       "      <td>National Renewable Energy Laboratory</td>\n",
       "    </tr>\n",
       "    <tr>\n",
       "      <th>1</th>\n",
       "      <td>ADITYA CEMENT WORKS</td>\n",
       "      <td>WRI1019881</td>\n",
       "      <td>98.0</td>\n",
       "      <td>24.7663</td>\n",
       "      <td>74.6090</td>\n",
       "      <td>Coal</td>\n",
       "      <td>Ultratech Cement ltd</td>\n",
       "      <td>http://www.ultratechcement.com/</td>\n",
       "      <td>WRI</td>\n",
       "    </tr>\n",
       "    <tr>\n",
       "      <th>2</th>\n",
       "      <td>AES Saurashtra Windfarms</td>\n",
       "      <td>WRI1026669</td>\n",
       "      <td>39.2</td>\n",
       "      <td>21.9038</td>\n",
       "      <td>69.3732</td>\n",
       "      <td>Wind</td>\n",
       "      <td>CDM</td>\n",
       "      <td>https://cdm.unfccc.int/Projects/DB/DNV-CUK1328...</td>\n",
       "      <td>WRI</td>\n",
       "    </tr>\n",
       "    <tr>\n",
       "      <th>3</th>\n",
       "      <td>AGARTALA GT</td>\n",
       "      <td>IND0000001</td>\n",
       "      <td>135.0</td>\n",
       "      <td>23.8712</td>\n",
       "      <td>91.3602</td>\n",
       "      <td>Gas</td>\n",
       "      <td>Central Electricity Authority</td>\n",
       "      <td>http://www.cea.nic.in/</td>\n",
       "      <td>WRI</td>\n",
       "    </tr>\n",
       "    <tr>\n",
       "      <th>4</th>\n",
       "      <td>AKALTARA TPP</td>\n",
       "      <td>IND0000002</td>\n",
       "      <td>1800.0</td>\n",
       "      <td>21.9603</td>\n",
       "      <td>82.4091</td>\n",
       "      <td>Coal</td>\n",
       "      <td>Central Electricity Authority</td>\n",
       "      <td>http://www.cea.nic.in/</td>\n",
       "      <td>WRI</td>\n",
       "    </tr>\n",
       "    <tr>\n",
       "      <th>...</th>\n",
       "      <td>...</td>\n",
       "      <td>...</td>\n",
       "      <td>...</td>\n",
       "      <td>...</td>\n",
       "      <td>...</td>\n",
       "      <td>...</td>\n",
       "      <td>...</td>\n",
       "      <td>...</td>\n",
       "      <td>...</td>\n",
       "    </tr>\n",
       "    <tr>\n",
       "      <th>903</th>\n",
       "      <td>YERMARUS TPP</td>\n",
       "      <td>IND0000513</td>\n",
       "      <td>1600.0</td>\n",
       "      <td>16.2949</td>\n",
       "      <td>77.3568</td>\n",
       "      <td>Coal</td>\n",
       "      <td>Central Electricity Authority</td>\n",
       "      <td>http://www.cea.nic.in/</td>\n",
       "      <td>WRI</td>\n",
       "    </tr>\n",
       "    <tr>\n",
       "      <th>904</th>\n",
       "      <td>Yelesandra Solar Power Plant</td>\n",
       "      <td>WRI1026222</td>\n",
       "      <td>3.0</td>\n",
       "      <td>12.8932</td>\n",
       "      <td>78.1654</td>\n",
       "      <td>Solar</td>\n",
       "      <td>Karnataka Power Corporation Limited</td>\n",
       "      <td>http://karnatakapower.com</td>\n",
       "      <td>Industry About</td>\n",
       "    </tr>\n",
       "    <tr>\n",
       "      <th>905</th>\n",
       "      <td>Yelisirur wind power project</td>\n",
       "      <td>WRI1026776</td>\n",
       "      <td>25.5</td>\n",
       "      <td>15.2758</td>\n",
       "      <td>75.5811</td>\n",
       "      <td>Wind</td>\n",
       "      <td>CDM</td>\n",
       "      <td>https://cdm.unfccc.int/Projects/DB/TUEV-RHEIN1...</td>\n",
       "      <td>WRI</td>\n",
       "    </tr>\n",
       "    <tr>\n",
       "      <th>906</th>\n",
       "      <td>ZAWAR MINES</td>\n",
       "      <td>WRI1019901</td>\n",
       "      <td>80.0</td>\n",
       "      <td>24.3500</td>\n",
       "      <td>73.7477</td>\n",
       "      <td>Coal</td>\n",
       "      <td>Hindustan Zinc ltd</td>\n",
       "      <td>http://www.hzlindia.com/</td>\n",
       "      <td>WRI</td>\n",
       "    </tr>\n",
       "    <tr>\n",
       "      <th>907</th>\n",
       "      <td>iEnergy Theni Wind Farm</td>\n",
       "      <td>WRI1026761</td>\n",
       "      <td>16.5</td>\n",
       "      <td>9.9344</td>\n",
       "      <td>77.4768</td>\n",
       "      <td>Wind</td>\n",
       "      <td>CDM</td>\n",
       "      <td>https://cdm.unfccc.int/Projects/DB/RWTUV134503...</td>\n",
       "      <td>WRI</td>\n",
       "    </tr>\n",
       "  </tbody>\n",
       "</table>\n",
       "<p>862 rows × 9 columns</p>\n",
       "</div>"
      ],
      "text/plain": [
       "                             name   gppd_idnr  capacity_mw  latitude  \\\n",
       "0                ACME Solar Tower  WRI1020239          2.5   28.1839   \n",
       "1             ADITYA CEMENT WORKS  WRI1019881         98.0   24.7663   \n",
       "2        AES Saurashtra Windfarms  WRI1026669         39.2   21.9038   \n",
       "3                     AGARTALA GT  IND0000001        135.0   23.8712   \n",
       "4                    AKALTARA TPP  IND0000002       1800.0   21.9603   \n",
       "..                            ...         ...          ...       ...   \n",
       "903                  YERMARUS TPP  IND0000513       1600.0   16.2949   \n",
       "904  Yelesandra Solar Power Plant  WRI1026222          3.0   12.8932   \n",
       "905  Yelisirur wind power project  WRI1026776         25.5   15.2758   \n",
       "906                   ZAWAR MINES  WRI1019901         80.0   24.3500   \n",
       "907       iEnergy Theni Wind Farm  WRI1026761         16.5    9.9344   \n",
       "\n",
       "     longitude primary_fuel                                source  \\\n",
       "0      73.2407        Solar  National Renewable Energy Laboratory   \n",
       "1      74.6090         Coal                  Ultratech Cement ltd   \n",
       "2      69.3732         Wind                                   CDM   \n",
       "3      91.3602          Gas         Central Electricity Authority   \n",
       "4      82.4091         Coal         Central Electricity Authority   \n",
       "..         ...          ...                                   ...   \n",
       "903    77.3568         Coal         Central Electricity Authority   \n",
       "904    78.1654        Solar   Karnataka Power Corporation Limited   \n",
       "905    75.5811         Wind                                   CDM   \n",
       "906    73.7477         Coal                    Hindustan Zinc ltd   \n",
       "907    77.4768         Wind                                   CDM   \n",
       "\n",
       "                                                   url  \\\n",
       "0    http://www.nrel.gov/csp/solarpaces/project_det...   \n",
       "1                      http://www.ultratechcement.com/   \n",
       "2    https://cdm.unfccc.int/Projects/DB/DNV-CUK1328...   \n",
       "3                               http://www.cea.nic.in/   \n",
       "4                               http://www.cea.nic.in/   \n",
       "..                                                 ...   \n",
       "903                             http://www.cea.nic.in/   \n",
       "904                          http://karnatakapower.com   \n",
       "905  https://cdm.unfccc.int/Projects/DB/TUEV-RHEIN1...   \n",
       "906                           http://www.hzlindia.com/   \n",
       "907  https://cdm.unfccc.int/Projects/DB/RWTUV134503...   \n",
       "\n",
       "                       geolocation_source  \n",
       "0    National Renewable Energy Laboratory  \n",
       "1                                     WRI  \n",
       "2                                     WRI  \n",
       "3                                     WRI  \n",
       "4                                     WRI  \n",
       "..                                    ...  \n",
       "903                                   WRI  \n",
       "904                        Industry About  \n",
       "905                                   WRI  \n",
       "906                                   WRI  \n",
       "907                                   WRI  \n",
       "\n",
       "[862 rows x 9 columns]"
      ]
     },
     "execution_count": 53,
     "metadata": {},
     "output_type": "execute_result"
    }
   ],
   "source": [
    "df1"
   ]
  },
  {
   "cell_type": "markdown",
   "id": "6f10ad4f",
   "metadata": {},
   "source": [
    "# Visualization"
   ]
  },
  {
   "cell_type": "code",
   "execution_count": null,
   "id": "05ffdbfd",
   "metadata": {},
   "outputs": [],
   "source": []
  },
  {
   "cell_type": "code",
   "execution_count": 27,
   "id": "b9a41155",
   "metadata": {},
   "outputs": [
    {
     "data": {
      "text/plain": [
       "<AxesSubplot:xlabel='capacity_mw', ylabel='Density'>"
      ]
     },
     "execution_count": 27,
     "metadata": {},
     "output_type": "execute_result"
    },
    {
     "data": {
      "image/png": "[encoded data removed]",
      "text/plain": [
       "<Figure size 432x288 with 1 Axes>"
      ]
     },
     "metadata": {
      "needs_background": "light"
     },
     "output_type": "display_data"
    }
   ],
   "source": [
    "sn.distplot(df1['capacity_mw'], kde=True)"
   ]
  },
  {
   "cell_type": "code",
   "execution_count": 54,
   "id": "ec90b282",
   "metadata": {},
   "outputs": [
    {
     "data": {
      "text/plain": [
       "<AxesSubplot:xlabel='latitude', ylabel='Density'>"
      ]
     },
     "execution_count": 54,
     "metadata": {},
     "output_type": "execute_result"
    },
    {
     "data": {
      "image/png": "[encoded data removed]",
      "text/plain": [
       "<Figure size 432x288 with 1 Axes>"
      ]
     },
     "metadata": {
      "needs_background": "light"
     },
     "output_type": "display_data"
    }
   ],
   "source": [
    "sn.distplot(df1['latitude'], kde=True)"
   ]
  },
  {
   "cell_type": "code",
   "execution_count": 55,
   "id": "905abaec",
   "metadata": {},
   "outputs": [
    {
     "data": {
      "text/plain": [
       "<AxesSubplot:xlabel='longitude', ylabel='Density'>"
      ]
     },
     "execution_count": 55,
     "metadata": {},
     "output_type": "execute_result"
    },
    {
     "data": {
      "image/png": "[encoded data removed]",
      "text/plain": [
       "<Figure size 432x288 with 1 Axes>"
      ]
     },
     "metadata": {
      "needs_background": "light"
     },
     "output_type": "display_data"
    }
   ],
   "source": [
    "sn.distplot(df1['longitude'], kde=True)"
   ]
  },
  {
   "cell_type": "code",
   "execution_count": 15,
   "id": "9d6db63c",
   "metadata": {},
   "outputs": [
    {
     "name": "stdout",
     "output_type": "stream",
     "text": [
      "Coal       259\n",
      "Hydro      250\n",
      "Solar      127\n",
      "Wind       123\n",
      "Gas         69\n",
      "Biomass     50\n",
      "Oil         21\n",
      "Nuclear      9\n",
      "Name: primary_fuel, dtype: int64\n"
     ]
    },
    {
     "data": {
      "image/png": "[encoded data removed]",
      "text/plain": [
       "<Figure size 432x288 with 1 Axes>"
      ]
     },
     "metadata": {
      "needs_background": "light"
     },
     "output_type": "display_data"
    }
   ],
   "source": [
    "ax = sn.countplot(x=\"primary_fuel\", data=df)\n",
    "print(df[\"primary_fuel\"].value_counts())"
   ]
  },
  {
   "cell_type": "markdown",
   "id": "5d480ee0",
   "metadata": {},
   "source": [
    "Coal and Hydro is used in most of the company for primary fuel"
   ]
  },
  {
   "cell_type": "code",
   "execution_count": 16,
   "id": "c2079c20",
   "metadata": {},
   "outputs": [
    {
     "name": "stdout",
     "output_type": "stream",
     "text": [
      "Central Electricity Authority                520\n",
      "CDM                                          124\n",
      "Lancosola                                     10\n",
      "National Renewable Energy Laboratory           8\n",
      "National Thermal Power Corporation (NTPC)      6\n",
      "                                            ... \n",
      "Jai Industries ltd                             1\n",
      "Sterling and Wilson                            1\n",
      "Precision Technik Private Limited              1\n",
      "Konark Gujarat Private Limited                 1\n",
      "Ideal Projects ltd                             1\n",
      "Name: source, Length: 191, dtype: int64\n"
     ]
    },
    {
     "data": {
      "image/png": "[encoded data removed]",
      "text/plain": [
       "<Figure size 1440x360 with 1 Axes>"
      ]
     },
     "metadata": {
      "needs_background": "light"
     },
     "output_type": "display_data"
    }
   ],
   "source": [
    "plt.figure(figsize = (20,5))\n",
    "ax = sn.countplot(x=\"source\", data=df)\n",
    "print(df[\"source\"].value_counts())"
   ]
  },
  {
   "cell_type": "markdown",
   "id": "6887aed0",
   "metadata": {},
   "source": [
    "Most of the cases the source of data is Central Electricity Authority"
   ]
  },
  {
   "cell_type": "code",
   "execution_count": 17,
   "id": "24f48220",
   "metadata": {},
   "outputs": [
    {
     "name": "stdout",
     "output_type": "stream",
     "text": [
      "http://www.cea.nic.in/                                                              520\n",
      "http://www.lancosolar.com/pdfs/rajasthan-pv-project-details.pdf                       7\n",
      "http://www.ntpc.co.in                                                                 6\n",
      "http://viainfotech.biz/Biomass/theme5/document/green_market/REC-project-list.pdf      5\n",
      "http://www.welspunrenewables.com                                                      4\n",
      "                                                                                   ... \n",
      "https://cdm.unfccc.int/Projects/DB/BVQI1312546277.77/view                             1\n",
      "http://www.bloomberg.com/profiles/companies/4115076Z:IN-varam-bio-energy-pvt-ltd      1\n",
      "https://cdm.unfccc.int/Projects/DB/RWTUV1323884772.8/view                             1\n",
      "https://www.iocl.com                                                                  1\n",
      "https://cdm.unfccc.int/Projects/DB/BVQI1315830379.2/view                              1\n",
      "Name: url, Length: 304, dtype: int64\n"
     ]
    },
    {
     "data": {
      "image/png": "[encoded data removed]",
      "text/plain": [
       "<Figure size 1440x360 with 1 Axes>"
      ]
     },
     "metadata": {
      "needs_background": "light"
     },
     "output_type": "display_data"
    }
   ],
   "source": [
    "plt.figure(figsize = (20,5))\n",
    "ax = sn.countplot(x=\"url\", data=df)\n",
    "print(df[\"url\"].value_counts())"
   ]
  },
  {
   "cell_type": "markdown",
   "id": "379266f7",
   "metadata": {},
   "source": [
    "Most of the cases the  data sorced from http://www.cea.nic.in/   "
   ]
  },
  {
   "cell_type": "code",
   "execution_count": 18,
   "id": "9a343420",
   "metadata": {},
   "outputs": [
    {
     "name": "stdout",
     "output_type": "stream",
     "text": [
      "WRI                                     766\n",
      "Industry About                          119\n",
      "National Renewable Energy Laboratory      4\n",
      "Name: geolocation_source, dtype: int64\n"
     ]
    },
    {
     "data": {
      "image/png": "[encoded data removed]",
      "text/plain": [
       "<Figure size 432x288 with 1 Axes>"
      ]
     },
     "metadata": {
      "needs_background": "light"
     },
     "output_type": "display_data"
    }
   ],
   "source": [
    "\n",
    "ax = sn.countplot(x=\"geolocation_source\", data=df)\n",
    "print(df[\"geolocation_source\"].value_counts())"
   ]
  },
  {
   "cell_type": "markdown",
   "id": "a8fad159",
   "metadata": {},
   "source": [
    "Most geo_location sorces are WRI"
   ]
  },
  {
   "cell_type": "markdown",
   "id": "71e59720",
   "metadata": {},
   "source": [
    "# Checking Outlier"
   ]
  },
  {
   "cell_type": "code",
   "execution_count": 56,
   "id": "c7743811",
   "metadata": {},
   "outputs": [
    {
     "data": {
      "text/plain": [
       "<AxesSubplot:>"
      ]
     },
     "execution_count": 56,
     "metadata": {},
     "output_type": "execute_result"
    },
    {
     "data": {
      "image/png": "[encoded data removed]",
      "text/plain": [
       "<Figure size 432x288 with 1 Axes>"
      ]
     },
     "metadata": {
      "needs_background": "light"
     },
     "output_type": "display_data"
    }
   ],
   "source": [
    "df1[\"capacity_mw\"].plot.box()"
   ]
  },
  {
   "cell_type": "code",
   "execution_count": 57,
   "id": "abf6f352",
   "metadata": {},
   "outputs": [
    {
     "data": {
      "text/plain": [
       "<AxesSubplot:>"
      ]
     },
     "execution_count": 57,
     "metadata": {},
     "output_type": "execute_result"
    },
    {
     "data": {
      "image/png": "[encoded data removed]",
      "text/plain": [
       "<Figure size 432x288 with 1 Axes>"
      ]
     },
     "metadata": {
      "needs_background": "light"
     },
     "output_type": "display_data"
    }
   ],
   "source": [
    "df1[\"latitude\"].plot.box()"
   ]
  },
  {
   "cell_type": "code",
   "execution_count": 58,
   "id": "ea95c020",
   "metadata": {},
   "outputs": [
    {
     "data": {
      "text/plain": [
       "<AxesSubplot:>"
      ]
     },
     "execution_count": 58,
     "metadata": {},
     "output_type": "execute_result"
    },
    {
     "data": {
      "image/png": "[encoded data removed]",
      "text/plain": [
       "<Figure size 432x288 with 1 Axes>"
      ]
     },
     "metadata": {
      "needs_background": "light"
     },
     "output_type": "display_data"
    }
   ],
   "source": [
    "df1[\"longitude\"].plot.box()"
   ]
  },
  {
   "cell_type": "markdown",
   "id": "1a094730",
   "metadata": {},
   "source": [
    "# Encoding data"
   ]
  },
  {
   "cell_type": "code",
   "execution_count": 63,
   "id": "5859e93e",
   "metadata": {},
   "outputs": [],
   "source": [
    "from sklearn.preprocessing import LabelEncoder\n",
    "lb=LabelEncoder()\n",
    "df1['name']=lb.fit_transform(df1['name'])\n",
    "df1['gppd_idnr']=lb.fit_transform(df1['gppd_idnr'])\n",
    "df1['primary_fuel']=lb.fit_transform(df1['primary_fuel'])\n",
    "df1['source']=lb.fit_transform(df1['source'])\n",
    "df1['url']=lb.fit_transform(df1['url'])\n",
    "df1['geolocation_source']=lb.fit_transform(df1['geolocation_source'])"
   ]
  },
  {
   "cell_type": "code",
   "execution_count": 64,
   "id": "9c633792",
   "metadata": {},
   "outputs": [
    {
     "data": {
      "text/html": [
       "<div>\n",
       "<style scoped>\n",
       "    .dataframe tbody tr th:only-of-type {\n",
       "        vertical-align: middle;\n",
       "    }\n",
       "\n",
       "    .dataframe tbody tr th {\n",
       "        vertical-align: top;\n",
       "    }\n",
       "\n",
       "    .dataframe thead th {\n",
       "        text-align: right;\n",
       "    }\n",
       "</style>\n",
       "<table border=\"1\" class=\"dataframe\">\n",
       "  <thead>\n",
       "    <tr style=\"text-align: right;\">\n",
       "      <th></th>\n",
       "      <th>name</th>\n",
       "      <th>gppd_idnr</th>\n",
       "      <th>capacity_mw</th>\n",
       "      <th>latitude</th>\n",
       "      <th>longitude</th>\n",
       "      <th>primary_fuel</th>\n",
       "      <th>source</th>\n",
       "      <th>url</th>\n",
       "      <th>geolocation_source</th>\n",
       "    </tr>\n",
       "  </thead>\n",
       "  <tbody>\n",
       "    <tr>\n",
       "      <th>0</th>\n",
       "      <td>0</td>\n",
       "      <td>630</td>\n",
       "      <td>2.5</td>\n",
       "      <td>28.1839</td>\n",
       "      <td>73.2407</td>\n",
       "      <td>6</td>\n",
       "      <td>109</td>\n",
       "      <td>126</td>\n",
       "      <td>1</td>\n",
       "    </tr>\n",
       "    <tr>\n",
       "      <th>1</th>\n",
       "      <td>1</td>\n",
       "      <td>493</td>\n",
       "      <td>98.0</td>\n",
       "      <td>24.7663</td>\n",
       "      <td>74.6090</td>\n",
       "      <td>1</td>\n",
       "      <td>174</td>\n",
       "      <td>169</td>\n",
       "      <td>2</td>\n",
       "    </tr>\n",
       "    <tr>\n",
       "      <th>2</th>\n",
       "      <td>2</td>\n",
       "      <td>819</td>\n",
       "      <td>39.2</td>\n",
       "      <td>21.9038</td>\n",
       "      <td>69.3732</td>\n",
       "      <td>7</td>\n",
       "      <td>21</td>\n",
       "      <td>196</td>\n",
       "      <td>2</td>\n",
       "    </tr>\n",
       "    <tr>\n",
       "      <th>3</th>\n",
       "      <td>3</td>\n",
       "      <td>0</td>\n",
       "      <td>135.0</td>\n",
       "      <td>23.8712</td>\n",
       "      <td>91.3602</td>\n",
       "      <td>2</td>\n",
       "      <td>22</td>\n",
       "      <td>58</td>\n",
       "      <td>2</td>\n",
       "    </tr>\n",
       "    <tr>\n",
       "      <th>4</th>\n",
       "      <td>4</td>\n",
       "      <td>1</td>\n",
       "      <td>1800.0</td>\n",
       "      <td>21.9603</td>\n",
       "      <td>82.4091</td>\n",
       "      <td>1</td>\n",
       "      <td>22</td>\n",
       "      <td>58</td>\n",
       "      <td>2</td>\n",
       "    </tr>\n",
       "    <tr>\n",
       "      <th>...</th>\n",
       "      <td>...</td>\n",
       "      <td>...</td>\n",
       "      <td>...</td>\n",
       "      <td>...</td>\n",
       "      <td>...</td>\n",
       "      <td>...</td>\n",
       "      <td>...</td>\n",
       "      <td>...</td>\n",
       "      <td>...</td>\n",
       "    </tr>\n",
       "    <tr>\n",
       "      <th>903</th>\n",
       "      <td>857</td>\n",
       "      <td>471</td>\n",
       "      <td>1600.0</td>\n",
       "      <td>16.2949</td>\n",
       "      <td>77.3568</td>\n",
       "      <td>1</td>\n",
       "      <td>22</td>\n",
       "      <td>58</td>\n",
       "      <td>2</td>\n",
       "    </tr>\n",
       "    <tr>\n",
       "      <th>904</th>\n",
       "      <td>858</td>\n",
       "      <td>788</td>\n",
       "      <td>3.0</td>\n",
       "      <td>12.8932</td>\n",
       "      <td>78.1654</td>\n",
       "      <td>6</td>\n",
       "      <td>77</td>\n",
       "      <td>22</td>\n",
       "      <td>0</td>\n",
       "    </tr>\n",
       "    <tr>\n",
       "      <th>905</th>\n",
       "      <td>859</td>\n",
       "      <td>847</td>\n",
       "      <td>25.5</td>\n",
       "      <td>15.2758</td>\n",
       "      <td>75.5811</td>\n",
       "      <td>7</td>\n",
       "      <td>21</td>\n",
       "      <td>246</td>\n",
       "      <td>2</td>\n",
       "    </tr>\n",
       "    <tr>\n",
       "      <th>906</th>\n",
       "      <td>860</td>\n",
       "      <td>513</td>\n",
       "      <td>80.0</td>\n",
       "      <td>24.3500</td>\n",
       "      <td>73.7477</td>\n",
       "      <td>1</td>\n",
       "      <td>59</td>\n",
       "      <td>82</td>\n",
       "      <td>2</td>\n",
       "    </tr>\n",
       "    <tr>\n",
       "      <th>907</th>\n",
       "      <td>861</td>\n",
       "      <td>832</td>\n",
       "      <td>16.5</td>\n",
       "      <td>9.9344</td>\n",
       "      <td>77.4768</td>\n",
       "      <td>7</td>\n",
       "      <td>21</td>\n",
       "      <td>234</td>\n",
       "      <td>2</td>\n",
       "    </tr>\n",
       "  </tbody>\n",
       "</table>\n",
       "<p>862 rows × 9 columns</p>\n",
       "</div>"
      ],
      "text/plain": [
       "     name  gppd_idnr  capacity_mw  latitude  longitude  primary_fuel  source  \\\n",
       "0       0        630          2.5   28.1839    73.2407             6     109   \n",
       "1       1        493         98.0   24.7663    74.6090             1     174   \n",
       "2       2        819         39.2   21.9038    69.3732             7      21   \n",
       "3       3          0        135.0   23.8712    91.3602             2      22   \n",
       "4       4          1       1800.0   21.9603    82.4091             1      22   \n",
       "..    ...        ...          ...       ...        ...           ...     ...   \n",
       "903   857        471       1600.0   16.2949    77.3568             1      22   \n",
       "904   858        788          3.0   12.8932    78.1654             6      77   \n",
       "905   859        847         25.5   15.2758    75.5811             7      21   \n",
       "906   860        513         80.0   24.3500    73.7477             1      59   \n",
       "907   861        832         16.5    9.9344    77.4768             7      21   \n",
       "\n",
       "     url  geolocation_source  \n",
       "0    126                   1  \n",
       "1    169                   2  \n",
       "2    196                   2  \n",
       "3     58                   2  \n",
       "4     58                   2  \n",
       "..   ...                 ...  \n",
       "903   58                   2  \n",
       "904   22                   0  \n",
       "905  246                   2  \n",
       "906   82                   2  \n",
       "907  234                   2  \n",
       "\n",
       "[862 rows x 9 columns]"
      ]
     },
     "execution_count": 64,
     "metadata": {},
     "output_type": "execute_result"
    }
   ],
   "source": [
    "df1"
   ]
  },
  {
   "cell_type": "markdown",
   "id": "ac9f3739",
   "metadata": {},
   "source": [
    "# Handling Outlier"
   ]
  },
  {
   "cell_type": "code",
   "execution_count": 66,
   "id": "ab689330",
   "metadata": {},
   "outputs": [
    {
     "data": {
      "text/plain": [
       "(array([ 14,  67, 138, 173, 177, 185, 235, 289, 298, 311, 313, 320, 327,\n",
       "        347, 350, 351, 362, 402, 411, 431, 460, 470, 471, 476, 495, 611,\n",
       "        621, 629, 633, 641, 659, 665, 693, 744, 746, 766, 776, 789, 836,\n",
       "        837, 850, 855], dtype=int64),\n",
       " array([2, 6, 2, 4, 4, 6, 4, 6, 2, 6, 4, 4, 4, 4, 2, 2, 2, 4, 4, 7, 2, 2,\n",
       "        2, 4, 4, 4, 2, 2, 6, 6, 6, 2, 2, 2, 2, 2, 4, 6, 6, 2, 6, 6],\n",
       "       dtype=int64))"
      ]
     },
     "execution_count": 66,
     "metadata": {},
     "output_type": "execute_result"
    }
   ],
   "source": [
    "from scipy.stats import zscore\n",
    "import numpy as np\n",
    "z=np.abs(zscore(df1))\n",
    "threshold=3\n",
    "np.where(z>3)"
   ]
  },
  {
   "cell_type": "code",
   "execution_count": 67,
   "id": "5f5f2bd5",
   "metadata": {},
   "outputs": [
    {
     "data": {
      "text/html": [
       "<div>\n",
       "<style scoped>\n",
       "    .dataframe tbody tr th:only-of-type {\n",
       "        vertical-align: middle;\n",
       "    }\n",
       "\n",
       "    .dataframe tbody tr th {\n",
       "        vertical-align: top;\n",
       "    }\n",
       "\n",
       "    .dataframe thead th {\n",
       "        text-align: right;\n",
       "    }\n",
       "</style>\n",
       "<table border=\"1\" class=\"dataframe\">\n",
       "  <thead>\n",
       "    <tr style=\"text-align: right;\">\n",
       "      <th></th>\n",
       "      <th>name</th>\n",
       "      <th>gppd_idnr</th>\n",
       "      <th>capacity_mw</th>\n",
       "      <th>latitude</th>\n",
       "      <th>longitude</th>\n",
       "      <th>primary_fuel</th>\n",
       "      <th>source</th>\n",
       "      <th>url</th>\n",
       "      <th>geolocation_source</th>\n",
       "    </tr>\n",
       "  </thead>\n",
       "  <tbody>\n",
       "    <tr>\n",
       "      <th>0</th>\n",
       "      <td>0</td>\n",
       "      <td>630</td>\n",
       "      <td>2.5</td>\n",
       "      <td>28.1839</td>\n",
       "      <td>73.2407</td>\n",
       "      <td>6</td>\n",
       "      <td>109</td>\n",
       "      <td>126</td>\n",
       "      <td>1</td>\n",
       "    </tr>\n",
       "    <tr>\n",
       "      <th>1</th>\n",
       "      <td>1</td>\n",
       "      <td>493</td>\n",
       "      <td>98.0</td>\n",
       "      <td>24.7663</td>\n",
       "      <td>74.6090</td>\n",
       "      <td>1</td>\n",
       "      <td>174</td>\n",
       "      <td>169</td>\n",
       "      <td>2</td>\n",
       "    </tr>\n",
       "    <tr>\n",
       "      <th>2</th>\n",
       "      <td>2</td>\n",
       "      <td>819</td>\n",
       "      <td>39.2</td>\n",
       "      <td>21.9038</td>\n",
       "      <td>69.3732</td>\n",
       "      <td>7</td>\n",
       "      <td>21</td>\n",
       "      <td>196</td>\n",
       "      <td>2</td>\n",
       "    </tr>\n",
       "    <tr>\n",
       "      <th>3</th>\n",
       "      <td>3</td>\n",
       "      <td>0</td>\n",
       "      <td>135.0</td>\n",
       "      <td>23.8712</td>\n",
       "      <td>91.3602</td>\n",
       "      <td>2</td>\n",
       "      <td>22</td>\n",
       "      <td>58</td>\n",
       "      <td>2</td>\n",
       "    </tr>\n",
       "    <tr>\n",
       "      <th>4</th>\n",
       "      <td>4</td>\n",
       "      <td>1</td>\n",
       "      <td>1800.0</td>\n",
       "      <td>21.9603</td>\n",
       "      <td>82.4091</td>\n",
       "      <td>1</td>\n",
       "      <td>22</td>\n",
       "      <td>58</td>\n",
       "      <td>2</td>\n",
       "    </tr>\n",
       "    <tr>\n",
       "      <th>...</th>\n",
       "      <td>...</td>\n",
       "      <td>...</td>\n",
       "      <td>...</td>\n",
       "      <td>...</td>\n",
       "      <td>...</td>\n",
       "      <td>...</td>\n",
       "      <td>...</td>\n",
       "      <td>...</td>\n",
       "      <td>...</td>\n",
       "    </tr>\n",
       "    <tr>\n",
       "      <th>903</th>\n",
       "      <td>857</td>\n",
       "      <td>471</td>\n",
       "      <td>1600.0</td>\n",
       "      <td>16.2949</td>\n",
       "      <td>77.3568</td>\n",
       "      <td>1</td>\n",
       "      <td>22</td>\n",
       "      <td>58</td>\n",
       "      <td>2</td>\n",
       "    </tr>\n",
       "    <tr>\n",
       "      <th>904</th>\n",
       "      <td>858</td>\n",
       "      <td>788</td>\n",
       "      <td>3.0</td>\n",
       "      <td>12.8932</td>\n",
       "      <td>78.1654</td>\n",
       "      <td>6</td>\n",
       "      <td>77</td>\n",
       "      <td>22</td>\n",
       "      <td>0</td>\n",
       "    </tr>\n",
       "    <tr>\n",
       "      <th>905</th>\n",
       "      <td>859</td>\n",
       "      <td>847</td>\n",
       "      <td>25.5</td>\n",
       "      <td>15.2758</td>\n",
       "      <td>75.5811</td>\n",
       "      <td>7</td>\n",
       "      <td>21</td>\n",
       "      <td>246</td>\n",
       "      <td>2</td>\n",
       "    </tr>\n",
       "    <tr>\n",
       "      <th>906</th>\n",
       "      <td>860</td>\n",
       "      <td>513</td>\n",
       "      <td>80.0</td>\n",
       "      <td>24.3500</td>\n",
       "      <td>73.7477</td>\n",
       "      <td>1</td>\n",
       "      <td>59</td>\n",
       "      <td>82</td>\n",
       "      <td>2</td>\n",
       "    </tr>\n",
       "    <tr>\n",
       "      <th>907</th>\n",
       "      <td>861</td>\n",
       "      <td>832</td>\n",
       "      <td>16.5</td>\n",
       "      <td>9.9344</td>\n",
       "      <td>77.4768</td>\n",
       "      <td>7</td>\n",
       "      <td>21</td>\n",
       "      <td>234</td>\n",
       "      <td>2</td>\n",
       "    </tr>\n",
       "  </tbody>\n",
       "</table>\n",
       "<p>820 rows × 9 columns</p>\n",
       "</div>"
      ],
      "text/plain": [
       "     name  gppd_idnr  capacity_mw  latitude  longitude  primary_fuel  source  \\\n",
       "0       0        630          2.5   28.1839    73.2407             6     109   \n",
       "1       1        493         98.0   24.7663    74.6090             1     174   \n",
       "2       2        819         39.2   21.9038    69.3732             7      21   \n",
       "3       3          0        135.0   23.8712    91.3602             2      22   \n",
       "4       4          1       1800.0   21.9603    82.4091             1      22   \n",
       "..    ...        ...          ...       ...        ...           ...     ...   \n",
       "903   857        471       1600.0   16.2949    77.3568             1      22   \n",
       "904   858        788          3.0   12.8932    78.1654             6      77   \n",
       "905   859        847         25.5   15.2758    75.5811             7      21   \n",
       "906   860        513         80.0   24.3500    73.7477             1      59   \n",
       "907   861        832         16.5    9.9344    77.4768             7      21   \n",
       "\n",
       "     url  geolocation_source  \n",
       "0    126                   1  \n",
       "1    169                   2  \n",
       "2    196                   2  \n",
       "3     58                   2  \n",
       "4     58                   2  \n",
       "..   ...                 ...  \n",
       "903   58                   2  \n",
       "904   22                   0  \n",
       "905  246                   2  \n",
       "906   82                   2  \n",
       "907  234                   2  \n",
       "\n",
       "[820 rows x 9 columns]"
      ]
     },
     "execution_count": 67,
     "metadata": {},
     "output_type": "execute_result"
    }
   ],
   "source": [
    "df1=df1[(z<3).all(axis=1)]\n",
    "df1"
   ]
  },
  {
   "cell_type": "code",
   "execution_count": 68,
   "id": "8fb721de",
   "metadata": {},
   "outputs": [
    {
     "data": {
      "text/plain": [
       "name                  0.004776\n",
       "gppd_idnr            -0.018379\n",
       "capacity_mw           1.947447\n",
       "latitude             -0.114423\n",
       "longitude             0.932590\n",
       "primary_fuel          0.477293\n",
       "source                1.779954\n",
       "url                   1.486376\n",
       "geolocation_source   -2.075808\n",
       "dtype: float64"
      ]
     },
     "execution_count": 68,
     "metadata": {},
     "output_type": "execute_result"
    }
   ],
   "source": [
    "df1.skew()"
   ]
  },
  {
   "cell_type": "code",
   "execution_count": 69,
   "id": "3d8abc86",
   "metadata": {},
   "outputs": [
    {
     "data": {
      "text/html": [
       "<div>\n",
       "<style scoped>\n",
       "    .dataframe tbody tr th:only-of-type {\n",
       "        vertical-align: middle;\n",
       "    }\n",
       "\n",
       "    .dataframe tbody tr th {\n",
       "        vertical-align: top;\n",
       "    }\n",
       "\n",
       "    .dataframe thead th {\n",
       "        text-align: right;\n",
       "    }\n",
       "</style>\n",
       "<table border=\"1\" class=\"dataframe\">\n",
       "  <thead>\n",
       "    <tr style=\"text-align: right;\">\n",
       "      <th></th>\n",
       "      <th>name</th>\n",
       "      <th>gppd_idnr</th>\n",
       "      <th>capacity_mw</th>\n",
       "      <th>latitude</th>\n",
       "      <th>longitude</th>\n",
       "      <th>primary_fuel</th>\n",
       "      <th>source</th>\n",
       "      <th>url</th>\n",
       "      <th>geolocation_source</th>\n",
       "    </tr>\n",
       "  </thead>\n",
       "  <tbody>\n",
       "    <tr>\n",
       "      <th>count</th>\n",
       "      <td>820.000000</td>\n",
       "      <td>820.000000</td>\n",
       "      <td>820.000000</td>\n",
       "      <td>820.000000</td>\n",
       "      <td>820.000000</td>\n",
       "      <td>820.000000</td>\n",
       "      <td>820.000000</td>\n",
       "      <td>820.000000</td>\n",
       "      <td>820.000000</td>\n",
       "    </tr>\n",
       "    <tr>\n",
       "      <th>mean</th>\n",
       "      <td>427.886585</td>\n",
       "      <td>432.909756</td>\n",
       "      <td>285.918489</td>\n",
       "      <td>21.118795</td>\n",
       "      <td>77.157116</td>\n",
       "      <td>3.192683</td>\n",
       "      <td>43.375610</td>\n",
       "      <td>91.702439</td>\n",
       "      <td>1.719512</td>\n",
       "    </tr>\n",
       "    <tr>\n",
       "      <th>std</th>\n",
       "      <td>249.568767</td>\n",
       "      <td>250.284193</td>\n",
       "      <td>442.268283</td>\n",
       "      <td>6.335039</td>\n",
       "      <td>4.498334</td>\n",
       "      <td>2.276266</td>\n",
       "      <td>43.178737</td>\n",
       "      <td>65.950859</td>\n",
       "      <td>0.691381</td>\n",
       "    </tr>\n",
       "    <tr>\n",
       "      <th>min</th>\n",
       "      <td>0.000000</td>\n",
       "      <td>0.000000</td>\n",
       "      <td>0.000000</td>\n",
       "      <td>8.168900</td>\n",
       "      <td>68.644700</td>\n",
       "      <td>0.000000</td>\n",
       "      <td>0.000000</td>\n",
       "      <td>0.000000</td>\n",
       "      <td>0.000000</td>\n",
       "    </tr>\n",
       "    <tr>\n",
       "      <th>25%</th>\n",
       "      <td>210.750000</td>\n",
       "      <td>217.750000</td>\n",
       "      <td>18.000000</td>\n",
       "      <td>16.624700</td>\n",
       "      <td>74.227575</td>\n",
       "      <td>1.000000</td>\n",
       "      <td>22.000000</td>\n",
       "      <td>58.000000</td>\n",
       "      <td>2.000000</td>\n",
       "    </tr>\n",
       "    <tr>\n",
       "      <th>50%</th>\n",
       "      <td>428.500000</td>\n",
       "      <td>435.500000</td>\n",
       "      <td>60.000000</td>\n",
       "      <td>21.630200</td>\n",
       "      <td>76.639500</td>\n",
       "      <td>3.000000</td>\n",
       "      <td>22.000000</td>\n",
       "      <td>58.000000</td>\n",
       "      <td>2.000000</td>\n",
       "    </tr>\n",
       "    <tr>\n",
       "      <th>75%</th>\n",
       "      <td>644.250000</td>\n",
       "      <td>650.250000</td>\n",
       "      <td>391.000000</td>\n",
       "      <td>25.524875</td>\n",
       "      <td>79.178200</td>\n",
       "      <td>6.000000</td>\n",
       "      <td>34.250000</td>\n",
       "      <td>111.250000</td>\n",
       "      <td>2.000000</td>\n",
       "    </tr>\n",
       "    <tr>\n",
       "      <th>max</th>\n",
       "      <td>861.000000</td>\n",
       "      <td>861.000000</td>\n",
       "      <td>2100.000000</td>\n",
       "      <td>34.649000</td>\n",
       "      <td>91.981000</td>\n",
       "      <td>7.000000</td>\n",
       "      <td>180.000000</td>\n",
       "      <td>286.000000</td>\n",
       "      <td>2.000000</td>\n",
       "    </tr>\n",
       "  </tbody>\n",
       "</table>\n",
       "</div>"
      ],
      "text/plain": [
       "             name   gppd_idnr  capacity_mw    latitude   longitude  \\\n",
       "count  820.000000  820.000000   820.000000  820.000000  820.000000   \n",
       "mean   427.886585  432.909756   285.918489   21.118795   77.157116   \n",
       "std    249.568767  250.284193   442.268283    6.335039    4.498334   \n",
       "min      0.000000    0.000000     0.000000    8.168900   68.644700   \n",
       "25%    210.750000  217.750000    18.000000   16.624700   74.227575   \n",
       "50%    428.500000  435.500000    60.000000   21.630200   76.639500   \n",
       "75%    644.250000  650.250000   391.000000   25.524875   79.178200   \n",
       "max    861.000000  861.000000  2100.000000   34.649000   91.981000   \n",
       "\n",
       "       primary_fuel      source         url  geolocation_source  \n",
       "count    820.000000  820.000000  820.000000          820.000000  \n",
       "mean       3.192683   43.375610   91.702439            1.719512  \n",
       "std        2.276266   43.178737   65.950859            0.691381  \n",
       "min        0.000000    0.000000    0.000000            0.000000  \n",
       "25%        1.000000   22.000000   58.000000            2.000000  \n",
       "50%        3.000000   22.000000   58.000000            2.000000  \n",
       "75%        6.000000   34.250000  111.250000            2.000000  \n",
       "max        7.000000  180.000000  286.000000            2.000000  "
      ]
     },
     "execution_count": 69,
     "metadata": {},
     "output_type": "execute_result"
    }
   ],
   "source": [
    "df1.describe()"
   ]
  },
  {
   "cell_type": "markdown",
   "id": "5966cb01",
   "metadata": {},
   "source": [
    "# Correlation of the columns with the target columns"
   ]
  },
  {
   "cell_type": "code",
   "execution_count": 71,
   "id": "5c5a2287",
   "metadata": {},
   "outputs": [
    {
     "data": {
      "text/html": [
       "<div>\n",
       "<style scoped>\n",
       "    .dataframe tbody tr th:only-of-type {\n",
       "        vertical-align: middle;\n",
       "    }\n",
       "\n",
       "    .dataframe tbody tr th {\n",
       "        vertical-align: top;\n",
       "    }\n",
       "\n",
       "    .dataframe thead th {\n",
       "        text-align: right;\n",
       "    }\n",
       "</style>\n",
       "<table border=\"1\" class=\"dataframe\">\n",
       "  <thead>\n",
       "    <tr style=\"text-align: right;\">\n",
       "      <th></th>\n",
       "      <th>name</th>\n",
       "      <th>gppd_idnr</th>\n",
       "      <th>capacity_mw</th>\n",
       "      <th>latitude</th>\n",
       "      <th>longitude</th>\n",
       "      <th>primary_fuel</th>\n",
       "      <th>source</th>\n",
       "      <th>url</th>\n",
       "      <th>geolocation_source</th>\n",
       "    </tr>\n",
       "  </thead>\n",
       "  <tbody>\n",
       "    <tr>\n",
       "      <th>name</th>\n",
       "      <td>1.000000</td>\n",
       "      <td>0.322710</td>\n",
       "      <td>0.046841</td>\n",
       "      <td>-0.148664</td>\n",
       "      <td>0.029338</td>\n",
       "      <td>0.030516</td>\n",
       "      <td>-0.023113</td>\n",
       "      <td>0.027510</td>\n",
       "      <td>0.042719</td>\n",
       "    </tr>\n",
       "    <tr>\n",
       "      <th>gppd_idnr</th>\n",
       "      <td>0.322710</td>\n",
       "      <td>1.000000</td>\n",
       "      <td>-0.404585</td>\n",
       "      <td>-0.102820</td>\n",
       "      <td>-0.397314</td>\n",
       "      <td>0.604351</td>\n",
       "      <td>0.419724</td>\n",
       "      <td>0.582743</td>\n",
       "      <td>-0.475813</td>\n",
       "    </tr>\n",
       "    <tr>\n",
       "      <th>capacity_mw</th>\n",
       "      <td>0.046841</td>\n",
       "      <td>-0.404585</td>\n",
       "      <td>1.000000</td>\n",
       "      <td>0.050587</td>\n",
       "      <td>0.255747</td>\n",
       "      <td>-0.405465</td>\n",
       "      <td>-0.280361</td>\n",
       "      <td>-0.271776</td>\n",
       "      <td>0.244410</td>\n",
       "    </tr>\n",
       "    <tr>\n",
       "      <th>latitude</th>\n",
       "      <td>-0.148664</td>\n",
       "      <td>-0.102820</td>\n",
       "      <td>0.050587</td>\n",
       "      <td>1.000000</td>\n",
       "      <td>-0.002380</td>\n",
       "      <td>-0.016948</td>\n",
       "      <td>0.069369</td>\n",
       "      <td>-0.134165</td>\n",
       "      <td>-0.189286</td>\n",
       "    </tr>\n",
       "    <tr>\n",
       "      <th>longitude</th>\n",
       "      <td>0.029338</td>\n",
       "      <td>-0.397314</td>\n",
       "      <td>0.255747</td>\n",
       "      <td>-0.002380</td>\n",
       "      <td>1.000000</td>\n",
       "      <td>-0.396161</td>\n",
       "      <td>-0.247970</td>\n",
       "      <td>-0.322252</td>\n",
       "      <td>0.275287</td>\n",
       "    </tr>\n",
       "    <tr>\n",
       "      <th>primary_fuel</th>\n",
       "      <td>0.030516</td>\n",
       "      <td>0.604351</td>\n",
       "      <td>-0.405465</td>\n",
       "      <td>-0.016948</td>\n",
       "      <td>-0.396161</td>\n",
       "      <td>1.000000</td>\n",
       "      <td>0.057365</td>\n",
       "      <td>0.577139</td>\n",
       "      <td>-0.500951</td>\n",
       "    </tr>\n",
       "    <tr>\n",
       "      <th>source</th>\n",
       "      <td>-0.023113</td>\n",
       "      <td>0.419724</td>\n",
       "      <td>-0.280361</td>\n",
       "      <td>0.069369</td>\n",
       "      <td>-0.247970</td>\n",
       "      <td>0.057365</td>\n",
       "      <td>1.000000</td>\n",
       "      <td>0.172359</td>\n",
       "      <td>-0.507723</td>\n",
       "    </tr>\n",
       "    <tr>\n",
       "      <th>url</th>\n",
       "      <td>0.027510</td>\n",
       "      <td>0.582743</td>\n",
       "      <td>-0.271776</td>\n",
       "      <td>-0.134165</td>\n",
       "      <td>-0.322252</td>\n",
       "      <td>0.577139</td>\n",
       "      <td>0.172359</td>\n",
       "      <td>1.000000</td>\n",
       "      <td>-0.016507</td>\n",
       "    </tr>\n",
       "    <tr>\n",
       "      <th>geolocation_source</th>\n",
       "      <td>0.042719</td>\n",
       "      <td>-0.475813</td>\n",
       "      <td>0.244410</td>\n",
       "      <td>-0.189286</td>\n",
       "      <td>0.275287</td>\n",
       "      <td>-0.500951</td>\n",
       "      <td>-0.507723</td>\n",
       "      <td>-0.016507</td>\n",
       "      <td>1.000000</td>\n",
       "    </tr>\n",
       "  </tbody>\n",
       "</table>\n",
       "</div>"
      ],
      "text/plain": [
       "                        name  gppd_idnr  capacity_mw  latitude  longitude  \\\n",
       "name                1.000000   0.322710     0.046841 -0.148664   0.029338   \n",
       "gppd_idnr           0.322710   1.000000    -0.404585 -0.102820  -0.397314   \n",
       "capacity_mw         0.046841  -0.404585     1.000000  0.050587   0.255747   \n",
       "latitude           -0.148664  -0.102820     0.050587  1.000000  -0.002380   \n",
       "longitude           0.029338  -0.397314     0.255747 -0.002380   1.000000   \n",
       "primary_fuel        0.030516   0.604351    -0.405465 -0.016948  -0.396161   \n",
       "source             -0.023113   0.419724    -0.280361  0.069369  -0.247970   \n",
       "url                 0.027510   0.582743    -0.271776 -0.134165  -0.322252   \n",
       "geolocation_source  0.042719  -0.475813     0.244410 -0.189286   0.275287   \n",
       "\n",
       "                    primary_fuel    source       url  geolocation_source  \n",
       "name                    0.030516 -0.023113  0.027510            0.042719  \n",
       "gppd_idnr               0.604351  0.419724  0.582743           -0.475813  \n",
       "capacity_mw            -0.405465 -0.280361 -0.271776            0.244410  \n",
       "latitude               -0.016948  0.069369 -0.134165           -0.189286  \n",
       "longitude              -0.396161 -0.247970 -0.322252            0.275287  \n",
       "primary_fuel            1.000000  0.057365  0.577139           -0.500951  \n",
       "source                  0.057365  1.000000  0.172359           -0.507723  \n",
       "url                     0.577139  0.172359  1.000000           -0.016507  \n",
       "geolocation_source     -0.500951 -0.507723 -0.016507            1.000000  "
      ]
     },
     "execution_count": 71,
     "metadata": {},
     "output_type": "execute_result"
    }
   ],
   "source": [
    "df1.corr()"
   ]
  },
  {
   "cell_type": "code",
   "execution_count": 72,
   "id": "d8bdc528",
   "metadata": {},
   "outputs": [
    {
     "data": {
      "text/plain": [
       "<AxesSubplot:>"
      ]
     },
     "execution_count": 72,
     "metadata": {},
     "output_type": "execute_result"
    },
    {
     "data": {
      "image/png": "[encoded data removed]",
      "text/plain": [
       "<Figure size 1584x504 with 2 Axes>"
      ]
     },
     "metadata": {
      "needs_background": "light"
     },
     "output_type": "display_data"
    }
   ],
   "source": [
    "plt.figure(figsize=(22,7))\n",
    "sn.heatmap(df1.corr(),annot=True,linewidths=0.1,linecolor=\"black\",fmt=\"0.2f\")"
   ]
  },
  {
   "cell_type": "code",
   "execution_count": 73,
   "id": "d7d8a07d",
   "metadata": {},
   "outputs": [
    {
     "data": {
      "image/png": "[encoded data removed]",
      "text/plain": [
       "<Figure size 1584x504 with 1 Axes>"
      ]
     },
     "metadata": {
      "needs_background": "light"
     },
     "output_type": "display_data"
    }
   ],
   "source": [
    "plt.figure(figsize=(22,7))\n",
    "df1.corr()['primary_fuel'].sort_values(ascending=False).drop(['primary_fuel']).plot(kind='bar',color='c')\n",
    "plt.xlabel('Feature',fontsize=14)\n",
    "plt.ylabel('column with target names',fontsize=14)\n",
    "plt.title('correlation',fontsize=18)\n",
    "plt.show()"
   ]
  },
  {
   "cell_type": "code",
   "execution_count": 74,
   "id": "8c7d4e01",
   "metadata": {},
   "outputs": [
    {
     "data": {
      "image/png": "[encoded data removed]",
      "text/plain": [
       "<Figure size 1584x504 with 1 Axes>"
      ]
     },
     "metadata": {
      "needs_background": "light"
     },
     "output_type": "display_data"
    }
   ],
   "source": [
    "plt.figure(figsize=(22,7))\n",
    "df1.corr()['capacity_mw'].sort_values(ascending=False).drop(['capacity_mw']).plot(kind='bar',color='c')\n",
    "plt.xlabel('Feature',fontsize=14)\n",
    "plt.ylabel('column with target names',fontsize=14)\n",
    "plt.title('correlation',fontsize=18)\n",
    "plt.show()"
   ]
  },
  {
   "cell_type": "code",
   "execution_count": 76,
   "id": "bdc59c88",
   "metadata": {},
   "outputs": [
    {
     "data": {
      "text/html": [
       "<div>\n",
       "<style scoped>\n",
       "    .dataframe tbody tr th:only-of-type {\n",
       "        vertical-align: middle;\n",
       "    }\n",
       "\n",
       "    .dataframe tbody tr th {\n",
       "        vertical-align: top;\n",
       "    }\n",
       "\n",
       "    .dataframe thead th {\n",
       "        text-align: right;\n",
       "    }\n",
       "</style>\n",
       "<table border=\"1\" class=\"dataframe\">\n",
       "  <thead>\n",
       "    <tr style=\"text-align: right;\">\n",
       "      <th></th>\n",
       "      <th>name</th>\n",
       "      <th>gppd_idnr</th>\n",
       "      <th>capacity_mw</th>\n",
       "      <th>latitude</th>\n",
       "      <th>longitude</th>\n",
       "      <th>source</th>\n",
       "      <th>url</th>\n",
       "      <th>geolocation_source</th>\n",
       "    </tr>\n",
       "  </thead>\n",
       "  <tbody>\n",
       "    <tr>\n",
       "      <th>0</th>\n",
       "      <td>0</td>\n",
       "      <td>630</td>\n",
       "      <td>2.5</td>\n",
       "      <td>28.1839</td>\n",
       "      <td>73.2407</td>\n",
       "      <td>109</td>\n",
       "      <td>126</td>\n",
       "      <td>1</td>\n",
       "    </tr>\n",
       "    <tr>\n",
       "      <th>1</th>\n",
       "      <td>1</td>\n",
       "      <td>493</td>\n",
       "      <td>98.0</td>\n",
       "      <td>24.7663</td>\n",
       "      <td>74.6090</td>\n",
       "      <td>174</td>\n",
       "      <td>169</td>\n",
       "      <td>2</td>\n",
       "    </tr>\n",
       "    <tr>\n",
       "      <th>2</th>\n",
       "      <td>2</td>\n",
       "      <td>819</td>\n",
       "      <td>39.2</td>\n",
       "      <td>21.9038</td>\n",
       "      <td>69.3732</td>\n",
       "      <td>21</td>\n",
       "      <td>196</td>\n",
       "      <td>2</td>\n",
       "    </tr>\n",
       "    <tr>\n",
       "      <th>3</th>\n",
       "      <td>3</td>\n",
       "      <td>0</td>\n",
       "      <td>135.0</td>\n",
       "      <td>23.8712</td>\n",
       "      <td>91.3602</td>\n",
       "      <td>22</td>\n",
       "      <td>58</td>\n",
       "      <td>2</td>\n",
       "    </tr>\n",
       "    <tr>\n",
       "      <th>4</th>\n",
       "      <td>4</td>\n",
       "      <td>1</td>\n",
       "      <td>1800.0</td>\n",
       "      <td>21.9603</td>\n",
       "      <td>82.4091</td>\n",
       "      <td>22</td>\n",
       "      <td>58</td>\n",
       "      <td>2</td>\n",
       "    </tr>\n",
       "    <tr>\n",
       "      <th>...</th>\n",
       "      <td>...</td>\n",
       "      <td>...</td>\n",
       "      <td>...</td>\n",
       "      <td>...</td>\n",
       "      <td>...</td>\n",
       "      <td>...</td>\n",
       "      <td>...</td>\n",
       "      <td>...</td>\n",
       "    </tr>\n",
       "    <tr>\n",
       "      <th>903</th>\n",
       "      <td>857</td>\n",
       "      <td>471</td>\n",
       "      <td>1600.0</td>\n",
       "      <td>16.2949</td>\n",
       "      <td>77.3568</td>\n",
       "      <td>22</td>\n",
       "      <td>58</td>\n",
       "      <td>2</td>\n",
       "    </tr>\n",
       "    <tr>\n",
       "      <th>904</th>\n",
       "      <td>858</td>\n",
       "      <td>788</td>\n",
       "      <td>3.0</td>\n",
       "      <td>12.8932</td>\n",
       "      <td>78.1654</td>\n",
       "      <td>77</td>\n",
       "      <td>22</td>\n",
       "      <td>0</td>\n",
       "    </tr>\n",
       "    <tr>\n",
       "      <th>905</th>\n",
       "      <td>859</td>\n",
       "      <td>847</td>\n",
       "      <td>25.5</td>\n",
       "      <td>15.2758</td>\n",
       "      <td>75.5811</td>\n",
       "      <td>21</td>\n",
       "      <td>246</td>\n",
       "      <td>2</td>\n",
       "    </tr>\n",
       "    <tr>\n",
       "      <th>906</th>\n",
       "      <td>860</td>\n",
       "      <td>513</td>\n",
       "      <td>80.0</td>\n",
       "      <td>24.3500</td>\n",
       "      <td>73.7477</td>\n",
       "      <td>59</td>\n",
       "      <td>82</td>\n",
       "      <td>2</td>\n",
       "    </tr>\n",
       "    <tr>\n",
       "      <th>907</th>\n",
       "      <td>861</td>\n",
       "      <td>832</td>\n",
       "      <td>16.5</td>\n",
       "      <td>9.9344</td>\n",
       "      <td>77.4768</td>\n",
       "      <td>21</td>\n",
       "      <td>234</td>\n",
       "      <td>2</td>\n",
       "    </tr>\n",
       "  </tbody>\n",
       "</table>\n",
       "<p>820 rows × 8 columns</p>\n",
       "</div>"
      ],
      "text/plain": [
       "     name  gppd_idnr  capacity_mw  latitude  longitude  source  url  \\\n",
       "0       0        630          2.5   28.1839    73.2407     109  126   \n",
       "1       1        493         98.0   24.7663    74.6090     174  169   \n",
       "2       2        819         39.2   21.9038    69.3732      21  196   \n",
       "3       3          0        135.0   23.8712    91.3602      22   58   \n",
       "4       4          1       1800.0   21.9603    82.4091      22   58   \n",
       "..    ...        ...          ...       ...        ...     ...  ...   \n",
       "903   857        471       1600.0   16.2949    77.3568      22   58   \n",
       "904   858        788          3.0   12.8932    78.1654      77   22   \n",
       "905   859        847         25.5   15.2758    75.5811      21  246   \n",
       "906   860        513         80.0   24.3500    73.7477      59   82   \n",
       "907   861        832         16.5    9.9344    77.4768      21  234   \n",
       "\n",
       "     geolocation_source  \n",
       "0                     1  \n",
       "1                     2  \n",
       "2                     2  \n",
       "3                     2  \n",
       "4                     2  \n",
       "..                  ...  \n",
       "903                   2  \n",
       "904                   0  \n",
       "905                   2  \n",
       "906                   2  \n",
       "907                   2  \n",
       "\n",
       "[820 rows x 8 columns]"
      ]
     },
     "execution_count": 76,
     "metadata": {},
     "output_type": "execute_result"
    }
   ],
   "source": [
    "x=df1.drop(['primary_fuel'],axis=1)\n",
    "x"
   ]
  },
  {
   "cell_type": "code",
   "execution_count": 78,
   "id": "0894c113",
   "metadata": {},
   "outputs": [
    {
     "data": {
      "text/plain": [
       "0      6\n",
       "1      1\n",
       "2      7\n",
       "3      2\n",
       "4      1\n",
       "      ..\n",
       "903    1\n",
       "904    6\n",
       "905    7\n",
       "906    1\n",
       "907    7\n",
       "Name: primary_fuel, Length: 820, dtype: int64"
      ]
     },
     "execution_count": 78,
     "metadata": {},
     "output_type": "execute_result"
    }
   ],
   "source": [
    "y=df1.iloc[:,5]\n",
    "y"
   ]
  },
  {
   "cell_type": "code",
   "execution_count": 79,
   "id": "c9f0bf9a",
   "metadata": {},
   "outputs": [
    {
     "data": {
      "text/plain": [
       "array([[-1.71555013,  0.78794641, -0.64122044, ...,  1.52075875,\n",
       "         0.52036462, -1.04132421],\n",
       "       [-1.71154077,  0.24023458, -0.42515637, ...,  3.02704808,\n",
       "         1.17276315,  0.40593995],\n",
       "       [-1.70753141,  1.54354886, -0.55818849, ..., -0.51852526,\n",
       "         1.58240874,  0.40593995],\n",
       "       ...,\n",
       "       [ 1.72848764,  1.65548996, -0.58918407, ..., -0.51852526,\n",
       "         2.34101169,  0.40593995],\n",
       "       [ 1.732497  ,  0.32019251, -0.46588049, ...,  0.36207465,\n",
       "        -0.14720598,  0.40593995],\n",
       "       [ 1.73650635,  1.59552151, -0.60954613, ..., -0.51852526,\n",
       "         2.15894698,  0.40593995]])"
      ]
     },
     "execution_count": 79,
     "metadata": {},
     "output_type": "execute_result"
    }
   ],
   "source": [
    "from sklearn.preprocessing import StandardScaler\n",
    "scale=StandardScaler()\n",
    "x=scale.fit_transform(x)\n",
    "x"
   ]
  },
  {
   "cell_type": "code",
   "execution_count": 80,
   "id": "d1d63c17",
   "metadata": {},
   "outputs": [],
   "source": [
    "from sklearn.linear_model import LogisticRegression\n",
    "from sklearn.ensemble import RandomForestClassifier\n",
    "from sklearn.svm import SVC\n",
    "from sklearn.tree import DecisionTreeClassifier\n",
    "from sklearn.neighbors import KNeighborsClassifier"
   ]
  },
  {
   "cell_type": "code",
   "execution_count": 81,
   "id": "b7f70f58",
   "metadata": {},
   "outputs": [],
   "source": [
    "lg=LogisticRegression()"
   ]
  },
  {
   "cell_type": "code",
   "execution_count": 82,
   "id": "26098c30",
   "metadata": {},
   "outputs": [
    {
     "name": "stdout",
     "output_type": "stream",
     "text": [
      "At random state 0,the training accuracy is:- 0.7667682926829268\n",
      "At random state 0,the testing accuracy is:- 0.7621951219512195\n",
      "\n",
      "\n",
      "At random state 1,the training accuracy is:- 0.7515243902439024\n",
      "At random state 1,the testing accuracy is:- 0.8109756097560976\n",
      "\n",
      "\n",
      "At random state 2,the training accuracy is:- 0.7560975609756098\n",
      "At random state 2,the testing accuracy is:- 0.7804878048780488\n",
      "\n",
      "\n",
      "At random state 3,the training accuracy is:- 0.7682926829268293\n",
      "At random state 3,the testing accuracy is:- 0.7317073170731707\n",
      "\n",
      "\n",
      "At random state 4,the training accuracy is:- 0.7637195121951219\n",
      "At random state 4,the testing accuracy is:- 0.7804878048780488\n",
      "\n",
      "\n",
      "At random state 5,the training accuracy is:- 0.7621951219512195\n",
      "At random state 5,the testing accuracy is:- 0.7804878048780488\n",
      "\n",
      "\n",
      "At random state 6,the training accuracy is:- 0.7713414634146342\n",
      "At random state 6,the testing accuracy is:- 0.7682926829268293\n",
      "\n",
      "\n",
      "At random state 7,the training accuracy is:- 0.7530487804878049\n",
      "At random state 7,the testing accuracy is:- 0.8170731707317073\n",
      "\n",
      "\n",
      "At random state 8,the training accuracy is:- 0.7667682926829268\n",
      "At random state 8,the testing accuracy is:- 0.75\n",
      "\n",
      "\n",
      "At random state 9,the training accuracy is:- 0.7545731707317073\n",
      "At random state 9,the testing accuracy is:- 0.7987804878048781\n",
      "\n",
      "\n",
      "At random state 10,the training accuracy is:- 0.7667682926829268\n",
      "At random state 10,the testing accuracy is:- 0.7621951219512195\n",
      "\n",
      "\n",
      "At random state 11,the training accuracy is:- 0.7621951219512195\n",
      "At random state 11,the testing accuracy is:- 0.7926829268292683\n",
      "\n",
      "\n",
      "At random state 12,the training accuracy is:- 0.7804878048780488\n",
      "At random state 12,the testing accuracy is:- 0.7195121951219512\n",
      "\n",
      "\n",
      "At random state 13,the training accuracy is:- 0.7637195121951219\n",
      "At random state 13,the testing accuracy is:- 0.7560975609756098\n",
      "\n",
      "\n",
      "At random state 14,the training accuracy is:- 0.7759146341463414\n",
      "At random state 14,the testing accuracy is:- 0.7073170731707317\n",
      "\n",
      "\n",
      "At random state 15,the training accuracy is:- 0.7789634146341463\n",
      "At random state 15,the testing accuracy is:- 0.6951219512195121\n",
      "\n",
      "\n",
      "At random state 16,the training accuracy is:- 0.7637195121951219\n",
      "At random state 16,the testing accuracy is:- 0.7560975609756098\n",
      "\n",
      "\n",
      "At random state 17,the training accuracy is:- 0.774390243902439\n",
      "At random state 17,the testing accuracy is:- 0.75\n",
      "\n",
      "\n",
      "At random state 18,the training accuracy is:- 0.7637195121951219\n",
      "At random state 18,the testing accuracy is:- 0.7621951219512195\n",
      "\n",
      "\n",
      "At random state 19,the training accuracy is:- 0.7713414634146342\n",
      "At random state 19,the testing accuracy is:- 0.7378048780487805\n",
      "\n",
      "\n",
      "At random state 20,the training accuracy is:- 0.7728658536585366\n",
      "At random state 20,the testing accuracy is:- 0.7621951219512195\n",
      "\n",
      "\n",
      "At random state 21,the training accuracy is:- 0.774390243902439\n",
      "At random state 21,the testing accuracy is:- 0.7134146341463414\n",
      "\n",
      "\n",
      "At random state 22,the training accuracy is:- 0.7804878048780488\n",
      "At random state 22,the testing accuracy is:- 0.725609756097561\n",
      "\n",
      "\n",
      "At random state 23,the training accuracy is:- 0.7698170731707317\n",
      "At random state 23,the testing accuracy is:- 0.7439024390243902\n",
      "\n",
      "\n",
      "At random state 24,the training accuracy is:- 0.774390243902439\n",
      "At random state 24,the testing accuracy is:- 0.7621951219512195\n",
      "\n",
      "\n",
      "At random state 25,the training accuracy is:- 0.760670731707317\n",
      "At random state 25,the testing accuracy is:- 0.7865853658536586\n",
      "\n",
      "\n",
      "At random state 26,the training accuracy is:- 0.7728658536585366\n",
      "At random state 26,the testing accuracy is:- 0.7378048780487805\n",
      "\n",
      "\n",
      "At random state 27,the training accuracy is:- 0.7637195121951219\n",
      "At random state 27,the testing accuracy is:- 0.7682926829268293\n",
      "\n",
      "\n",
      "At random state 28,the training accuracy is:- 0.7591463414634146\n",
      "At random state 28,the testing accuracy is:- 0.7987804878048781\n",
      "\n",
      "\n",
      "At random state 29,the training accuracy is:- 0.7820121951219512\n",
      "At random state 29,the testing accuracy is:- 0.6951219512195121\n",
      "\n",
      "\n",
      "At random state 30,the training accuracy is:- 0.7454268292682927\n",
      "At random state 30,the testing accuracy is:- 0.8414634146341463\n",
      "\n",
      "\n",
      "At random state 31,the training accuracy is:- 0.7621951219512195\n",
      "At random state 31,the testing accuracy is:- 0.7804878048780488\n",
      "\n",
      "\n",
      "At random state 32,the training accuracy is:- 0.7621951219512195\n",
      "At random state 32,the testing accuracy is:- 0.7378048780487805\n",
      "\n",
      "\n",
      "At random state 33,the training accuracy is:- 0.7637195121951219\n",
      "At random state 33,the testing accuracy is:- 0.7621951219512195\n",
      "\n",
      "\n",
      "At random state 34,the training accuracy is:- 0.7698170731707317\n",
      "At random state 34,the testing accuracy is:- 0.75\n",
      "\n",
      "\n",
      "At random state 35,the training accuracy is:- 0.7560975609756098\n",
      "At random state 35,the testing accuracy is:- 0.8109756097560976\n",
      "\n",
      "\n",
      "At random state 36,the training accuracy is:- 0.7621951219512195\n",
      "At random state 36,the testing accuracy is:- 0.7560975609756098\n",
      "\n",
      "\n",
      "At random state 37,the training accuracy is:- 0.7515243902439024\n",
      "At random state 37,the testing accuracy is:- 0.8292682926829268\n",
      "\n",
      "\n",
      "At random state 38,the training accuracy is:- 0.7728658536585366\n",
      "At random state 38,the testing accuracy is:- 0.7378048780487805\n",
      "\n",
      "\n",
      "At random state 39,the training accuracy is:- 0.7667682926829268\n",
      "At random state 39,the testing accuracy is:- 0.7378048780487805\n",
      "\n",
      "\n",
      "At random state 40,the training accuracy is:- 0.7545731707317073\n",
      "At random state 40,the testing accuracy is:- 0.7865853658536586\n",
      "\n",
      "\n",
      "At random state 41,the training accuracy is:- 0.7713414634146342\n",
      "At random state 41,the testing accuracy is:- 0.7682926829268293\n",
      "\n",
      "\n",
      "At random state 42,the training accuracy is:- 0.7728658536585366\n",
      "At random state 42,the testing accuracy is:- 0.7439024390243902\n",
      "\n",
      "\n",
      "At random state 43,the training accuracy is:- 0.7820121951219512\n",
      "At random state 43,the testing accuracy is:- 0.725609756097561\n",
      "\n",
      "\n",
      "At random state 44,the training accuracy is:- 0.7576219512195121\n",
      "At random state 44,the testing accuracy is:- 0.8048780487804879\n",
      "\n",
      "\n",
      "At random state 45,the training accuracy is:- 0.7728658536585366\n",
      "At random state 45,the testing accuracy is:- 0.7317073170731707\n",
      "\n",
      "\n",
      "At random state 46,the training accuracy is:- 0.7759146341463414\n",
      "At random state 46,the testing accuracy is:- 0.7439024390243902\n",
      "\n",
      "\n",
      "At random state 47,the training accuracy is:- 0.7759146341463414\n",
      "At random state 47,the testing accuracy is:- 0.725609756097561\n",
      "\n",
      "\n",
      "At random state 48,the training accuracy is:- 0.760670731707317\n",
      "At random state 48,the testing accuracy is:- 0.774390243902439\n",
      "\n",
      "\n",
      "At random state 49,the training accuracy is:- 0.7698170731707317\n",
      "At random state 49,the testing accuracy is:- 0.7560975609756098\n",
      "\n",
      "\n",
      "At random state 50,the training accuracy is:- 0.7682926829268293\n",
      "At random state 50,the testing accuracy is:- 0.75\n",
      "\n",
      "\n",
      "At random state 51,the training accuracy is:- 0.7667682926829268\n",
      "At random state 51,the testing accuracy is:- 0.7378048780487805\n",
      "\n",
      "\n",
      "At random state 52,the training accuracy is:- 0.7637195121951219\n",
      "At random state 52,the testing accuracy is:- 0.7865853658536586\n",
      "\n",
      "\n",
      "At random state 53,the training accuracy is:- 0.7728658536585366\n",
      "At random state 53,the testing accuracy is:- 0.7378048780487805\n",
      "\n",
      "\n",
      "At random state 54,the training accuracy is:- 0.7591463414634146\n",
      "At random state 54,the testing accuracy is:- 0.774390243902439\n",
      "\n",
      "\n",
      "At random state 55,the training accuracy is:- 0.7667682926829268\n",
      "At random state 55,the testing accuracy is:- 0.774390243902439\n",
      "\n",
      "\n",
      "At random state 56,the training accuracy is:- 0.7621951219512195\n",
      "At random state 56,the testing accuracy is:- 0.7865853658536586\n",
      "\n",
      "\n",
      "At random state 57,the training accuracy is:- 0.7637195121951219\n",
      "At random state 57,the testing accuracy is:- 0.7865853658536586\n",
      "\n",
      "\n",
      "At random state 58,the training accuracy is:- 0.7591463414634146\n",
      "At random state 58,the testing accuracy is:- 0.7621951219512195\n",
      "\n",
      "\n",
      "At random state 59,the training accuracy is:- 0.7713414634146342\n",
      "At random state 59,the testing accuracy is:- 0.7378048780487805\n",
      "\n",
      "\n",
      "At random state 60,the training accuracy is:- 0.7728658536585366\n",
      "At random state 60,the testing accuracy is:- 0.7621951219512195\n",
      "\n",
      "\n",
      "At random state 61,the training accuracy is:- 0.7667682926829268\n",
      "At random state 61,the testing accuracy is:- 0.7560975609756098\n",
      "\n",
      "\n",
      "At random state 62,the training accuracy is:- 0.7759146341463414\n",
      "At random state 62,the testing accuracy is:- 0.7195121951219512\n",
      "\n",
      "\n",
      "At random state 63,the training accuracy is:- 0.7621951219512195\n",
      "At random state 63,the testing accuracy is:- 0.7926829268292683\n",
      "\n",
      "\n",
      "At random state 64,the training accuracy is:- 0.7652439024390244\n",
      "At random state 64,the testing accuracy is:- 0.7682926829268293\n",
      "\n",
      "\n",
      "At random state 65,the training accuracy is:- 0.7637195121951219\n",
      "At random state 65,the testing accuracy is:- 0.75\n",
      "\n",
      "\n"
     ]
    },
    {
     "name": "stdout",
     "output_type": "stream",
     "text": [
      "At random state 66,the training accuracy is:- 0.7728658536585366\n",
      "At random state 66,the testing accuracy is:- 0.75\n",
      "\n",
      "\n",
      "At random state 67,the training accuracy is:- 0.7667682926829268\n",
      "At random state 67,the testing accuracy is:- 0.7682926829268293\n",
      "\n",
      "\n",
      "At random state 68,the training accuracy is:- 0.7667682926829268\n",
      "At random state 68,the testing accuracy is:- 0.7378048780487805\n",
      "\n",
      "\n",
      "At random state 69,the training accuracy is:- 0.7560975609756098\n",
      "At random state 69,the testing accuracy is:- 0.7987804878048781\n",
      "\n",
      "\n",
      "At random state 70,the training accuracy is:- 0.7591463414634146\n",
      "At random state 70,the testing accuracy is:- 0.7987804878048781\n",
      "\n",
      "\n",
      "At random state 71,the training accuracy is:- 0.7713414634146342\n",
      "At random state 71,the testing accuracy is:- 0.7621951219512195\n",
      "\n",
      "\n",
      "At random state 72,the training accuracy is:- 0.7667682926829268\n",
      "At random state 72,the testing accuracy is:- 0.7560975609756098\n",
      "\n",
      "\n",
      "At random state 73,the training accuracy is:- 0.7698170731707317\n",
      "At random state 73,the testing accuracy is:- 0.7439024390243902\n",
      "\n",
      "\n",
      "At random state 74,the training accuracy is:- 0.7759146341463414\n",
      "At random state 74,the testing accuracy is:- 0.7621951219512195\n",
      "\n",
      "\n",
      "At random state 75,the training accuracy is:- 0.7652439024390244\n",
      "At random state 75,the testing accuracy is:- 0.774390243902439\n",
      "\n",
      "\n",
      "At random state 76,the training accuracy is:- 0.7667682926829268\n",
      "At random state 76,the testing accuracy is:- 0.7682926829268293\n",
      "\n",
      "\n",
      "At random state 77,the training accuracy is:- 0.7621951219512195\n",
      "At random state 77,the testing accuracy is:- 0.774390243902439\n",
      "\n",
      "\n",
      "At random state 78,the training accuracy is:- 0.774390243902439\n",
      "At random state 78,the testing accuracy is:- 0.75\n",
      "\n",
      "\n",
      "At random state 79,the training accuracy is:- 0.7652439024390244\n",
      "At random state 79,the testing accuracy is:- 0.7682926829268293\n",
      "\n",
      "\n",
      "At random state 80,the training accuracy is:- 0.7850609756097561\n",
      "At random state 80,the testing accuracy is:- 0.676829268292683\n",
      "\n",
      "\n",
      "At random state 81,the training accuracy is:- 0.7637195121951219\n",
      "At random state 81,the testing accuracy is:- 0.7621951219512195\n",
      "\n",
      "\n",
      "At random state 82,the training accuracy is:- 0.7652439024390244\n",
      "At random state 82,the testing accuracy is:- 0.774390243902439\n",
      "\n",
      "\n",
      "At random state 83,the training accuracy is:- 0.774390243902439\n",
      "At random state 83,the testing accuracy is:- 0.75\n",
      "\n",
      "\n",
      "At random state 84,the training accuracy is:- 0.774390243902439\n",
      "At random state 84,the testing accuracy is:- 0.7378048780487805\n",
      "\n",
      "\n",
      "At random state 85,the training accuracy is:- 0.7682926829268293\n",
      "At random state 85,the testing accuracy is:- 0.7317073170731707\n",
      "\n",
      "\n",
      "At random state 86,the training accuracy is:- 0.7652439024390244\n",
      "At random state 86,the testing accuracy is:- 0.7987804878048781\n",
      "\n",
      "\n",
      "At random state 87,the training accuracy is:- 0.7667682926829268\n",
      "At random state 87,the testing accuracy is:- 0.75\n",
      "\n",
      "\n",
      "At random state 88,the training accuracy is:- 0.7576219512195121\n",
      "At random state 88,the testing accuracy is:- 0.7621951219512195\n",
      "\n",
      "\n",
      "At random state 89,the training accuracy is:- 0.7652439024390244\n",
      "At random state 89,the testing accuracy is:- 0.7682926829268293\n",
      "\n",
      "\n",
      "At random state 90,the training accuracy is:- 0.7698170731707317\n",
      "At random state 90,the testing accuracy is:- 0.7804878048780488\n",
      "\n",
      "\n",
      "At random state 91,the training accuracy is:- 0.7698170731707317\n",
      "At random state 91,the testing accuracy is:- 0.75\n",
      "\n",
      "\n",
      "At random state 92,the training accuracy is:- 0.7637195121951219\n",
      "At random state 92,the testing accuracy is:- 0.7560975609756098\n",
      "\n",
      "\n",
      "At random state 93,the training accuracy is:- 0.7713414634146342\n",
      "At random state 93,the testing accuracy is:- 0.75\n",
      "\n",
      "\n",
      "At random state 94,the training accuracy is:- 0.7804878048780488\n",
      "At random state 94,the testing accuracy is:- 0.6951219512195121\n",
      "\n",
      "\n",
      "At random state 95,the training accuracy is:- 0.7728658536585366\n",
      "At random state 95,the testing accuracy is:- 0.75\n",
      "\n",
      "\n",
      "At random state 96,the training accuracy is:- 0.7759146341463414\n",
      "At random state 96,the testing accuracy is:- 0.7439024390243902\n",
      "\n",
      "\n",
      "At random state 97,the training accuracy is:- 0.7667682926829268\n",
      "At random state 97,the testing accuracy is:- 0.7439024390243902\n",
      "\n",
      "\n",
      "At random state 98,the training accuracy is:- 0.7621951219512195\n",
      "At random state 98,the testing accuracy is:- 0.75\n",
      "\n",
      "\n",
      "At random state 99,the training accuracy is:- 0.7789634146341463\n",
      "At random state 99,the testing accuracy is:- 0.7378048780487805\n",
      "\n",
      "\n"
     ]
    }
   ],
   "source": [
    "for i in range(0,100):\n",
    "    x_train,x_test,y_train,y_test=train_test_split(x,y,test_size=0.2,random_state=i)\n",
    "    lg.fit(x_train,y_train)\n",
    "    pred_train=lg.predict(x_train)\n",
    "    pred_test=lg.predict(x_test)\n",
    "    print(f\"At random state {i},the training accuracy is:- {accuracy_score(y_train,pred_train)}\")\n",
    "    print(f\"At random state {i},the testing accuracy is:- {accuracy_score(y_test,pred_test)}\")\n",
    "    print(\"\\n\")"
   ]
  },
  {
   "cell_type": "code",
   "execution_count": 83,
   "id": "86fdb86a",
   "metadata": {},
   "outputs": [],
   "source": [
    "x_train,x_test,y_train,y_test=train_test_split(x,y,test_size=.33,random_state=79)"
   ]
  },
  {
   "cell_type": "code",
   "execution_count": 84,
   "id": "a361deb3",
   "metadata": {},
   "outputs": [
    {
     "data": {
      "text/plain": [
       "(549, 8)"
      ]
     },
     "execution_count": 84,
     "metadata": {},
     "output_type": "execute_result"
    }
   ],
   "source": [
    "x_train.shape"
   ]
  },
  {
   "cell_type": "code",
   "execution_count": 85,
   "id": "51d4b442",
   "metadata": {},
   "outputs": [
    {
     "data": {
      "text/plain": [
       "(271, 8)"
      ]
     },
     "execution_count": 85,
     "metadata": {},
     "output_type": "execute_result"
    }
   ],
   "source": [
    "x_test.shape"
   ]
  },
  {
   "cell_type": "code",
   "execution_count": 86,
   "id": "2e45e88e",
   "metadata": {},
   "outputs": [
    {
     "data": {
      "text/plain": [
       "(549,)"
      ]
     },
     "execution_count": 86,
     "metadata": {},
     "output_type": "execute_result"
    }
   ],
   "source": [
    "y_train.shape"
   ]
  },
  {
   "cell_type": "code",
   "execution_count": 87,
   "id": "d1a2ae99",
   "metadata": {},
   "outputs": [
    {
     "data": {
      "text/plain": [
       "(271,)"
      ]
     },
     "execution_count": 87,
     "metadata": {},
     "output_type": "execute_result"
    }
   ],
   "source": [
    "y_test.shape"
   ]
  },
  {
   "cell_type": "code",
   "execution_count": 88,
   "id": "28ef9166",
   "metadata": {},
   "outputs": [
    {
     "name": "stdout",
     "output_type": "stream",
     "text": [
      "Acuracy_score 0.7712177121771218\n",
      "              precision    recall  f1-score   support\n",
      "\n",
      "           0       0.60      0.75      0.67        12\n",
      "           1       0.77      0.73      0.75        81\n",
      "           2       0.00      0.00      0.00        22\n",
      "           3       0.66      0.91      0.77        77\n",
      "           4       0.00      0.00      0.00         2\n",
      "           5       0.00      0.00      0.00         6\n",
      "           6       1.00      1.00      1.00        39\n",
      "           7       0.94      1.00      0.97        32\n",
      "\n",
      "    accuracy                           0.77       271\n",
      "   macro avg       0.50      0.55      0.52       271\n",
      "weighted avg       0.70      0.77      0.73       271\n",
      "\n"
     ]
    }
   ],
   "source": [
    "lg=LogisticRegression()\n",
    "lg.fit(x_train,y_train)\n",
    "pred=lg.predict(x_test)\n",
    "print('Acuracy_score',accuracy_score(y_test,pred))\n",
    "print(classification_report(y_test,pred))"
   ]
  },
  {
   "cell_type": "code",
   "execution_count": 89,
   "id": "11eb852b",
   "metadata": {},
   "outputs": [
    {
     "name": "stdout",
     "output_type": "stream",
     "text": [
      "Acuracy_score 0.7675276752767528\n",
      "              precision    recall  f1-score   support\n",
      "\n",
      "           0       0.77      0.83      0.80        12\n",
      "           1       0.71      0.75      0.73        81\n",
      "           2       0.39      0.32      0.35        22\n",
      "           3       0.78      0.75      0.77        77\n",
      "           4       0.00      0.00      0.00         2\n",
      "           5       0.29      0.33      0.31         6\n",
      "           6       1.00      0.97      0.99        39\n",
      "           7       1.00      1.00      1.00        32\n",
      "\n",
      "    accuracy                           0.77       271\n",
      "   macro avg       0.62      0.62      0.62       271\n",
      "weighted avg       0.77      0.77      0.77       271\n",
      "\n"
     ]
    }
   ],
   "source": [
    "dt=DecisionTreeClassifier()\n",
    "dt.fit(x_train,y_train)\n",
    "pred=dt.predict(x_test)\n",
    "print('Acuracy_score',accuracy_score(y_test,pred))\n",
    "print(classification_report(y_test,pred))"
   ]
  },
  {
   "cell_type": "code",
   "execution_count": 90,
   "id": "c82c0fbf",
   "metadata": {},
   "outputs": [
    {
     "name": "stdout",
     "output_type": "stream",
     "text": [
      "Acuracy_score 0.8302583025830258\n",
      "              precision    recall  f1-score   support\n",
      "\n",
      "           0       0.83      0.83      0.83        12\n",
      "           1       0.78      0.85      0.81        81\n",
      "           2       0.50      0.27      0.35        22\n",
      "           3       0.83      0.88      0.86        77\n",
      "           4       0.00      0.00      0.00         2\n",
      "           5       0.20      0.17      0.18         6\n",
      "           6       1.00      1.00      1.00        39\n",
      "           7       1.00      1.00      1.00        32\n",
      "\n",
      "    accuracy                           0.83       271\n",
      "   macro avg       0.64      0.63      0.63       271\n",
      "weighted avg       0.81      0.83      0.82       271\n",
      "\n"
     ]
    }
   ],
   "source": [
    "rf=RandomForestClassifier()\n",
    "rf.fit(x_train,y_train)\n",
    "pred=rf.predict(x_test)\n",
    "print('Acuracy_score',accuracy_score(y_test,pred))\n",
    "print(classification_report(y_test,pred))"
   ]
  },
  {
   "cell_type": "code",
   "execution_count": 91,
   "id": "403a26ca",
   "metadata": {},
   "outputs": [
    {
     "name": "stdout",
     "output_type": "stream",
     "text": [
      "Acuracy_score 0.7785977859778598\n",
      "              precision    recall  f1-score   support\n",
      "\n",
      "           0       0.54      0.58      0.56        12\n",
      "           1       0.72      0.78      0.75        81\n",
      "           2       0.00      0.00      0.00        22\n",
      "           3       0.73      0.91      0.81        77\n",
      "           4       0.00      0.00      0.00         2\n",
      "           5       0.00      0.00      0.00         6\n",
      "           6       1.00      1.00      1.00        39\n",
      "           7       0.97      1.00      0.98        32\n",
      "\n",
      "    accuracy                           0.78       271\n",
      "   macro avg       0.49      0.53      0.51       271\n",
      "weighted avg       0.70      0.78      0.74       271\n",
      "\n"
     ]
    }
   ],
   "source": [
    "svc=SVC()\n",
    "svc.fit(x_train,y_train)\n",
    "pred=svc.predict(x_test)\n",
    "print('Acuracy_score',accuracy_score(y_test,pred))\n",
    "print(classification_report(y_test,pred))"
   ]
  },
  {
   "cell_type": "code",
   "execution_count": 92,
   "id": "527855cb",
   "metadata": {},
   "outputs": [
    {
     "name": "stdout",
     "output_type": "stream",
     "text": [
      "Acuracy_score 0.7416974169741697\n",
      "              precision    recall  f1-score   support\n",
      "\n",
      "           0       0.50      0.75      0.60        12\n",
      "           1       0.73      0.68      0.71        81\n",
      "           2       0.27      0.18      0.22        22\n",
      "           3       0.70      0.81      0.75        77\n",
      "           4       0.00      0.00      0.00         2\n",
      "           5       0.00      0.00      0.00         6\n",
      "           6       1.00      1.00      1.00        39\n",
      "           7       0.94      1.00      0.97        32\n",
      "\n",
      "    accuracy                           0.74       271\n",
      "   macro avg       0.52      0.55      0.53       271\n",
      "weighted avg       0.72      0.74      0.73       271\n",
      "\n"
     ]
    }
   ],
   "source": [
    "kn=KNeighborsClassifier()\n",
    "kn.fit(x_train,y_train)\n",
    "pred=kn.predict(x_test)\n",
    "print('Acuracy_score',accuracy_score(y_test,pred))\n",
    "print(classification_report(y_test,pred))"
   ]
  },
  {
   "cell_type": "markdown",
   "id": "47592d61",
   "metadata": {},
   "source": [
    "# Cross Validation"
   ]
  },
  {
   "cell_type": "code",
   "execution_count": 93,
   "id": "5824388e",
   "metadata": {},
   "outputs": [],
   "source": [
    "from sklearn.model_selection import cross_val_score"
   ]
  },
  {
   "cell_type": "code",
   "execution_count": 96,
   "id": "e5ade514",
   "metadata": {},
   "outputs": [
    {
     "name": "stdout",
     "output_type": "stream",
     "text": [
      "0.7585365853658537\n"
     ]
    }
   ],
   "source": [
    "print(cross_val_score(lg,x,y,cv=5).mean())"
   ]
  },
  {
   "cell_type": "code",
   "execution_count": 95,
   "id": "0bda9bb5",
   "metadata": {},
   "outputs": [
    {
     "name": "stdout",
     "output_type": "stream",
     "text": [
      "0.7682926829268293\n"
     ]
    }
   ],
   "source": [
    "print(cross_val_score(dt,x,y,cv=5).mean())"
   ]
  },
  {
   "cell_type": "code",
   "execution_count": 97,
   "id": "3d7641f6",
   "metadata": {},
   "outputs": [
    {
     "name": "stdout",
     "output_type": "stream",
     "text": [
      "0.828048780487805\n"
     ]
    }
   ],
   "source": [
    "print(cross_val_score(rf,x,y,cv=5).mean())"
   ]
  },
  {
   "cell_type": "code",
   "execution_count": 98,
   "id": "48b818ee",
   "metadata": {},
   "outputs": [
    {
     "name": "stdout",
     "output_type": "stream",
     "text": [
      "0.7707317073170732\n"
     ]
    }
   ],
   "source": [
    "print(cross_val_score(svc,x,y,cv=5).mean())"
   ]
  },
  {
   "cell_type": "code",
   "execution_count": 99,
   "id": "ed2c9554",
   "metadata": {},
   "outputs": [
    {
     "name": "stdout",
     "output_type": "stream",
     "text": [
      "0.7634146341463415\n"
     ]
    }
   ],
   "source": [
    "print(cross_val_score(kn,x,y,cv=5).mean())"
   ]
  },
  {
   "cell_type": "markdown",
   "id": "8de53260",
   "metadata": {},
   "source": [
    "# AUC ROC Curve"
   ]
  },
  {
   "cell_type": "code",
   "execution_count": 100,
   "id": "4baeb5ff",
   "metadata": {},
   "outputs": [],
   "source": [
    "from sklearn.metrics import roc_curve\n",
    "from sklearn.metrics import roc_auc_score"
   ]
  },
  {
   "cell_type": "code",
   "execution_count": 101,
   "id": "7ba708f8",
   "metadata": {},
   "outputs": [
    {
     "data": {
      "text/plain": [
       "array([[0.01, 0.18, 0.52, ..., 0.08, 0.  , 0.  ],\n",
       "       [0.01, 0.01, 0.01, ..., 0.01, 0.  , 0.  ],\n",
       "       [0.  , 0.  , 0.  , ..., 0.  , 0.  , 1.  ],\n",
       "       ...,\n",
       "       [0.  , 0.02, 0.09, ..., 0.02, 0.  , 0.  ],\n",
       "       [0.  , 0.  , 0.01, ..., 0.01, 0.  , 0.  ],\n",
       "       [0.  , 0.68, 0.  , ..., 0.  , 0.  , 0.  ]])"
      ]
     },
     "execution_count": 101,
     "metadata": {},
     "output_type": "execute_result"
    }
   ],
   "source": [
    "y_pred_prob=.predict_proba(x_test)\n",
    "y_pred_prob"
   ]
  },
  {
   "cell_type": "code",
   "execution_count": 103,
   "id": "e68d52f5",
   "metadata": {},
   "outputs": [
    {
     "data": {
      "text/plain": [
       "(271, 8)"
      ]
     },
     "execution_count": 103,
     "metadata": {},
     "output_type": "execute_result"
    }
   ],
   "source": [
    "y_pred_prob.shape"
   ]
  },
  {
   "cell_type": "code",
   "execution_count": 104,
   "id": "535b9c38",
   "metadata": {},
   "outputs": [],
   "source": [
    "auc_score=roc_auc_score(y_test, y_pred_prob, multi_class='ovo', average='weighted')"
   ]
  },
  {
   "cell_type": "code",
   "execution_count": 105,
   "id": "ebf96c00",
   "metadata": {},
   "outputs": [
    {
     "data": {
      "text/plain": [
       "0.9037022435480527"
      ]
     },
     "execution_count": 105,
     "metadata": {},
     "output_type": "execute_result"
    }
   ],
   "source": [
    "auc_score"
   ]
  },
  {
   "cell_type": "code",
   "execution_count": 108,
   "id": "d6b56192",
   "metadata": {},
   "outputs": [
    {
     "data": {
      "image/png": "[encoded data removed]",
      "text/plain": [
       "<Figure size 432x288 with 1 Axes>"
      ]
     },
     "metadata": {
      "needs_background": "light"
     },
     "output_type": "display_data"
    }
   ],
   "source": [
    "fpr = {}\n",
    "tpr = {}\n",
    "thresh ={}\n",
    "\n",
    "n_class = 8\n",
    "\n",
    "for i in range(n_class):    \n",
    "    fpr[i], tpr[i], thresh[i] = roc_curve(y_test, y_pred_prob[:,i], pos_label=i)\n",
    "    \n",
    "# plotting    \n",
    "plt.plot(fpr[0], tpr[0], linestyle='--',color='orange', label='Class 0 vs Rest')\n",
    "plt.plot(fpr[1], tpr[1], linestyle='--',color='green', label='Class 1 vs Rest')\n",
    "plt.plot(fpr[2], tpr[2], linestyle='--',color='blue', label='Class 2 vs Rest')\n",
    "plt.plot(fpr[3], tpr[3], linestyle='--',color='yellow', label='Class 3 vs Rest')\n",
    "plt.title('Multiclass ROC curve')\n",
    "plt.xlabel('False Positive Rate')\n",
    "plt.ylabel('True Positive rate')\n",
    "plt.legend(loc='best')\n",
    "plt.savefig('Multiclass ROC',dpi=300);    "
   ]
  },
  {
   "cell_type": "markdown",
   "id": "52068cf3",
   "metadata": {},
   "source": [
    "# Hyper Parameter Tuning"
   ]
  },
  {
   "cell_type": "code",
   "execution_count": 110,
   "id": "631d58a5",
   "metadata": {},
   "outputs": [],
   "source": [
    "parameter = {'n_estimators':[100,200, 400, 600, 800, 1000],'max_depth': [10, 20, 30, 40, 50, 60, 70, 80, 90, 100,None],'criterion':{'gini', 'entropy'},'min_samples_split': [2, 5, 10]}"
   ]
  },
  {
   "cell_type": "code",
   "execution_count": null,
   "id": "bd04eda4",
   "metadata": {},
   "outputs": [],
   "source": [
    "from sklearn.model_selection import GridSearchCV\n",
    "GV=GridSearchCV(rf,parameter,cv=5)"
   ]
  },
  {
   "cell_type": "code",
   "execution_count": null,
   "id": "08b8dbab",
   "metadata": {},
   "outputs": [],
   "source": [
    "GV.fit(x_train,y_train)"
   ]
  },
  {
   "cell_type": "code",
   "execution_count": null,
   "id": "8341a00a",
   "metadata": {},
   "outputs": [],
   "source": [
    "GV.best_params_"
   ]
  },
  {
   "cell_type": "code",
   "execution_count": 113,
   "id": "832a3fca",
   "metadata": {},
   "outputs": [
    {
     "name": "stdout",
     "output_type": "stream",
     "text": [
      "Acuracy_score 0.8228782287822878\n",
      "              precision    recall  f1-score   support\n",
      "\n",
      "           0       0.83      0.83      0.83        12\n",
      "           1       0.75      0.84      0.79        81\n",
      "           2       0.55      0.27      0.36        22\n",
      "           3       0.82      0.87      0.84        77\n",
      "           4       0.00      0.00      0.00         2\n",
      "           5       0.25      0.17      0.20         6\n",
      "           6       1.00      1.00      1.00        39\n",
      "           7       1.00      1.00      1.00        32\n",
      "\n",
      "    accuracy                           0.82       271\n",
      "   macro avg       0.65      0.62      0.63       271\n",
      "weighted avg       0.80      0.82      0.81       271\n",
      "\n"
     ]
    }
   ],
   "source": [
    "rf=RandomForestClassifier(n_estimators=200,max_depth=80,criterion='gini',min_samples_split=5)\n",
    "rf.fit(x_train,y_train)\n",
    "pred=rf.predict(x_test)\n",
    "print('Acuracy_score',accuracy_score(y_test,pred))\n",
    "print(classification_report(y_test,pred))"
   ]
  },
  {
   "cell_type": "markdown",
   "id": "5ab3d22f",
   "metadata": {},
   "source": [
    "# Regression"
   ]
  },
  {
   "cell_type": "code",
   "execution_count": 114,
   "id": "40e3de92",
   "metadata": {},
   "outputs": [
    {
     "data": {
      "text/html": [
       "<div>\n",
       "<style scoped>\n",
       "    .dataframe tbody tr th:only-of-type {\n",
       "        vertical-align: middle;\n",
       "    }\n",
       "\n",
       "    .dataframe tbody tr th {\n",
       "        vertical-align: top;\n",
       "    }\n",
       "\n",
       "    .dataframe thead th {\n",
       "        text-align: right;\n",
       "    }\n",
       "</style>\n",
       "<table border=\"1\" class=\"dataframe\">\n",
       "  <thead>\n",
       "    <tr style=\"text-align: right;\">\n",
       "      <th></th>\n",
       "      <th>name</th>\n",
       "      <th>gppd_idnr</th>\n",
       "      <th>latitude</th>\n",
       "      <th>longitude</th>\n",
       "      <th>primary_fuel</th>\n",
       "      <th>source</th>\n",
       "      <th>url</th>\n",
       "      <th>geolocation_source</th>\n",
       "    </tr>\n",
       "  </thead>\n",
       "  <tbody>\n",
       "    <tr>\n",
       "      <th>0</th>\n",
       "      <td>0</td>\n",
       "      <td>630</td>\n",
       "      <td>28.1839</td>\n",
       "      <td>73.2407</td>\n",
       "      <td>6</td>\n",
       "      <td>109</td>\n",
       "      <td>126</td>\n",
       "      <td>1</td>\n",
       "    </tr>\n",
       "    <tr>\n",
       "      <th>1</th>\n",
       "      <td>1</td>\n",
       "      <td>493</td>\n",
       "      <td>24.7663</td>\n",
       "      <td>74.6090</td>\n",
       "      <td>1</td>\n",
       "      <td>174</td>\n",
       "      <td>169</td>\n",
       "      <td>2</td>\n",
       "    </tr>\n",
       "    <tr>\n",
       "      <th>2</th>\n",
       "      <td>2</td>\n",
       "      <td>819</td>\n",
       "      <td>21.9038</td>\n",
       "      <td>69.3732</td>\n",
       "      <td>7</td>\n",
       "      <td>21</td>\n",
       "      <td>196</td>\n",
       "      <td>2</td>\n",
       "    </tr>\n",
       "    <tr>\n",
       "      <th>3</th>\n",
       "      <td>3</td>\n",
       "      <td>0</td>\n",
       "      <td>23.8712</td>\n",
       "      <td>91.3602</td>\n",
       "      <td>2</td>\n",
       "      <td>22</td>\n",
       "      <td>58</td>\n",
       "      <td>2</td>\n",
       "    </tr>\n",
       "    <tr>\n",
       "      <th>4</th>\n",
       "      <td>4</td>\n",
       "      <td>1</td>\n",
       "      <td>21.9603</td>\n",
       "      <td>82.4091</td>\n",
       "      <td>1</td>\n",
       "      <td>22</td>\n",
       "      <td>58</td>\n",
       "      <td>2</td>\n",
       "    </tr>\n",
       "    <tr>\n",
       "      <th>...</th>\n",
       "      <td>...</td>\n",
       "      <td>...</td>\n",
       "      <td>...</td>\n",
       "      <td>...</td>\n",
       "      <td>...</td>\n",
       "      <td>...</td>\n",
       "      <td>...</td>\n",
       "      <td>...</td>\n",
       "    </tr>\n",
       "    <tr>\n",
       "      <th>903</th>\n",
       "      <td>857</td>\n",
       "      <td>471</td>\n",
       "      <td>16.2949</td>\n",
       "      <td>77.3568</td>\n",
       "      <td>1</td>\n",
       "      <td>22</td>\n",
       "      <td>58</td>\n",
       "      <td>2</td>\n",
       "    </tr>\n",
       "    <tr>\n",
       "      <th>904</th>\n",
       "      <td>858</td>\n",
       "      <td>788</td>\n",
       "      <td>12.8932</td>\n",
       "      <td>78.1654</td>\n",
       "      <td>6</td>\n",
       "      <td>77</td>\n",
       "      <td>22</td>\n",
       "      <td>0</td>\n",
       "    </tr>\n",
       "    <tr>\n",
       "      <th>905</th>\n",
       "      <td>859</td>\n",
       "      <td>847</td>\n",
       "      <td>15.2758</td>\n",
       "      <td>75.5811</td>\n",
       "      <td>7</td>\n",
       "      <td>21</td>\n",
       "      <td>246</td>\n",
       "      <td>2</td>\n",
       "    </tr>\n",
       "    <tr>\n",
       "      <th>906</th>\n",
       "      <td>860</td>\n",
       "      <td>513</td>\n",
       "      <td>24.3500</td>\n",
       "      <td>73.7477</td>\n",
       "      <td>1</td>\n",
       "      <td>59</td>\n",
       "      <td>82</td>\n",
       "      <td>2</td>\n",
       "    </tr>\n",
       "    <tr>\n",
       "      <th>907</th>\n",
       "      <td>861</td>\n",
       "      <td>832</td>\n",
       "      <td>9.9344</td>\n",
       "      <td>77.4768</td>\n",
       "      <td>7</td>\n",
       "      <td>21</td>\n",
       "      <td>234</td>\n",
       "      <td>2</td>\n",
       "    </tr>\n",
       "  </tbody>\n",
       "</table>\n",
       "<p>820 rows × 8 columns</p>\n",
       "</div>"
      ],
      "text/plain": [
       "     name  gppd_idnr  latitude  longitude  primary_fuel  source  url  \\\n",
       "0       0        630   28.1839    73.2407             6     109  126   \n",
       "1       1        493   24.7663    74.6090             1     174  169   \n",
       "2       2        819   21.9038    69.3732             7      21  196   \n",
       "3       3          0   23.8712    91.3602             2      22   58   \n",
       "4       4          1   21.9603    82.4091             1      22   58   \n",
       "..    ...        ...       ...        ...           ...     ...  ...   \n",
       "903   857        471   16.2949    77.3568             1      22   58   \n",
       "904   858        788   12.8932    78.1654             6      77   22   \n",
       "905   859        847   15.2758    75.5811             7      21  246   \n",
       "906   860        513   24.3500    73.7477             1      59   82   \n",
       "907   861        832    9.9344    77.4768             7      21  234   \n",
       "\n",
       "     geolocation_source  \n",
       "0                     1  \n",
       "1                     2  \n",
       "2                     2  \n",
       "3                     2  \n",
       "4                     2  \n",
       "..                  ...  \n",
       "903                   2  \n",
       "904                   0  \n",
       "905                   2  \n",
       "906                   2  \n",
       "907                   2  \n",
       "\n",
       "[820 rows x 8 columns]"
      ]
     },
     "execution_count": 114,
     "metadata": {},
     "output_type": "execute_result"
    }
   ],
   "source": [
    "x=df1.drop(['capacity_mw'],axis=1)\n",
    "x"
   ]
  },
  {
   "cell_type": "code",
   "execution_count": 115,
   "id": "190c222f",
   "metadata": {},
   "outputs": [
    {
     "data": {
      "text/plain": [
       "0         2.5\n",
       "1        98.0\n",
       "2        39.2\n",
       "3       135.0\n",
       "4      1800.0\n",
       "        ...  \n",
       "903    1600.0\n",
       "904       3.0\n",
       "905      25.5\n",
       "906      80.0\n",
       "907      16.5\n",
       "Name: capacity_mw, Length: 820, dtype: float64"
      ]
     },
     "execution_count": 115,
     "metadata": {},
     "output_type": "execute_result"
    }
   ],
   "source": [
    "y=df1.iloc[:,2]\n",
    "y"
   ]
  },
  {
   "cell_type": "code",
   "execution_count": 116,
   "id": "b7da8250",
   "metadata": {},
   "outputs": [
    {
     "data": {
      "text/plain": [
       "array([[-1.71555013,  0.78794641,  1.11592323, ...,  1.52075875,\n",
       "         0.52036462, -1.04132421],\n",
       "       [-1.71154077,  0.24023458,  0.57611823, ...,  3.02704808,\n",
       "         1.17276315,  0.40593995],\n",
       "       [-1.70753141,  1.54354886,  0.12399047, ..., -0.51852526,\n",
       "         1.58240874,  0.40593995],\n",
       "       ...,\n",
       "       [ 1.72848764,  1.65548996, -0.9228926 , ..., -0.51852526,\n",
       "         2.34101169,  0.40593995],\n",
       "       [ 1.732497  ,  0.32019251,  0.51036424, ...,  0.36207465,\n",
       "        -0.14720598,  0.40593995],\n",
       "       [ 1.73650635,  1.59552151, -1.76655905, ..., -0.51852526,\n",
       "         2.15894698,  0.40593995]])"
      ]
     },
     "execution_count": 116,
     "metadata": {},
     "output_type": "execute_result"
    }
   ],
   "source": [
    "scale=StandardScaler()\n",
    "x=scale.fit_transform(x)\n",
    "x"
   ]
  },
  {
   "cell_type": "code",
   "execution_count": 117,
   "id": "a3686042",
   "metadata": {},
   "outputs": [],
   "source": [
    "x_train,x_test,y_train,y_test=train_test_split(x,y,test_size=.33,random_state=79)"
   ]
  },
  {
   "cell_type": "code",
   "execution_count": 118,
   "id": "fe22e458",
   "metadata": {},
   "outputs": [],
   "source": [
    "from sklearn.metrics import r2_score\n",
    "import warnings\n",
    "warnings.filterwarnings('ignore')"
   ]
  },
  {
   "cell_type": "code",
   "execution_count": 119,
   "id": "865ebabc",
   "metadata": {},
   "outputs": [],
   "source": [
    "from sklearn.linear_model import LinearRegression\n",
    "from sklearn.ensemble import RandomForestRegressor\n",
    "from sklearn.tree import DecisionTreeRegressor\n",
    "from sklearn.svm import SVR\n",
    "from sklearn.metrics import mean_squared_error,mean_absolute_error"
   ]
  },
  {
   "cell_type": "code",
   "execution_count": 120,
   "id": "ccbc3f7f",
   "metadata": {},
   "outputs": [
    {
     "name": "stdout",
     "output_type": "stream",
     "text": [
      "0.2812897324102356\n",
      "Mean absolute error 277.82077322426375\n",
      "Mean Sqared error 140090.65453625334\n"
     ]
    }
   ],
   "source": [
    "lr=LinearRegression()\n",
    "lr.fit(x_train,y_train)\n",
    "lr.score(x_train,y_train)\n",
    "pred=lr.predict(x_test)\n",
    "print(r2_score(y_test,pred))\n",
    "print('Mean absolute error',mean_absolute_error(y_test,pred))\n",
    "print('Mean Sqared error',mean_squared_error(y_test,pred))"
   ]
  },
  {
   "cell_type": "code",
   "execution_count": 121,
   "id": "d91c1499",
   "metadata": {},
   "outputs": [
    {
     "name": "stdout",
     "output_type": "stream",
     "text": [
      "0.2812897324102356\n",
      "Mean absolute error 224.4214243542435\n",
      "Mean Sqared error 147320.2009074391\n"
     ]
    }
   ],
   "source": [
    "dt=DecisionTreeRegressor()\n",
    "dt.fit(x_train,y_train)\n",
    "pred1=dt.predict(x_test)\n",
    "print(r2_score(y_test,pred))\n",
    "print('Mean absolute error',mean_absolute_error(y_test,pred1))\n",
    "print('Mean Sqared error',mean_squared_error(y_test,pred1))"
   ]
  },
  {
   "cell_type": "code",
   "execution_count": 122,
   "id": "56610a78",
   "metadata": {},
   "outputs": [
    {
     "name": "stdout",
     "output_type": "stream",
     "text": [
      "0.2812897324102356\n",
      "Mean absolute error 182.4024951291513\n",
      "Mean Sqared error 98468.93908599077\n"
     ]
    }
   ],
   "source": [
    "rfr=RandomForestRegressor()\n",
    "rfr.fit(x_train,y_train)\n",
    "pred1=rfr.predict(x_test)\n",
    "print(r2_score(y_test,pred))\n",
    "print('Mean absolute error',mean_absolute_error(y_test,pred1))\n",
    "print('Mean Sqared error',mean_squared_error(y_test,pred1))"
   ]
  },
  {
   "cell_type": "code",
   "execution_count": 123,
   "id": "f119c4ba",
   "metadata": {},
   "outputs": [
    {
     "name": "stdout",
     "output_type": "stream",
     "text": [
      "0.2812897324102356\n",
      "Mean absolute error 251.205376671454\n",
      "Mean Sqared error 227726.2986796971\n"
     ]
    }
   ],
   "source": [
    "sv=SVR()\n",
    "sv.fit(x_train,y_train)\n",
    "pred1=sv.predict(x_test)\n",
    "print(r2_score(y_test,pred))\n",
    "print('Mean absolute error',mean_absolute_error(y_test,pred1))\n",
    "print('Mean Sqared error',mean_squared_error(y_test,pred1))"
   ]
  },
  {
   "cell_type": "code",
   "execution_count": 124,
   "id": "007340dd",
   "metadata": {},
   "outputs": [
    {
     "name": "stdout",
     "output_type": "stream",
     "text": [
      "0.26917922040007414\n"
     ]
    }
   ],
   "source": [
    "print(cross_val_score(lr,x,y,cv=5).mean())"
   ]
  },
  {
   "cell_type": "code",
   "execution_count": 125,
   "id": "2ca20a10",
   "metadata": {},
   "outputs": [
    {
     "name": "stdout",
     "output_type": "stream",
     "text": [
      "-0.08078889105122404\n"
     ]
    }
   ],
   "source": [
    "print(cross_val_score(dt,x,y,cv=5).mean())"
   ]
  },
  {
   "cell_type": "code",
   "execution_count": 126,
   "id": "7e76e11e",
   "metadata": {},
   "outputs": [
    {
     "name": "stdout",
     "output_type": "stream",
     "text": [
      "0.4390053952033222\n"
     ]
    }
   ],
   "source": [
    "print(cross_val_score(rfr,x,y,cv=5).mean())"
   ]
  },
  {
   "cell_type": "code",
   "execution_count": 127,
   "id": "ed021e41",
   "metadata": {},
   "outputs": [
    {
     "name": "stdout",
     "output_type": "stream",
     "text": [
      "-0.17657987071830292\n"
     ]
    }
   ],
   "source": [
    "print(cross_val_score(sv,x,y,cv=5).mean())"
   ]
  },
  {
   "cell_type": "markdown",
   "id": "149e53e3",
   "metadata": {},
   "source": [
    "# Regulization"
   ]
  },
  {
   "cell_type": "code",
   "execution_count": 128,
   "id": "5e8d9d05",
   "metadata": {},
   "outputs": [],
   "source": [
    "from sklearn.linear_model import Lasso,Ridge,ElasticNet\n",
    "from sklearn.model_selection import GridSearchCV"
   ]
  },
  {
   "cell_type": "code",
   "execution_count": 129,
   "id": "0412c72f",
   "metadata": {},
   "outputs": [
    {
     "name": "stdout",
     "output_type": "stream",
     "text": [
      "{'alpha': 1, 'random_state': 0}\n"
     ]
    }
   ],
   "source": [
    "parameters = {'alpha':[.0001, .001, .01, .1, 1, 10],'random_state':list(range(0,10))}\n",
    "ls = Lasso()\n",
    "gv = GridSearchCV(ls,parameters)\n",
    "gv.fit(x_train,y_train)\n",
    "\n",
    "print(gv.best_params_)"
   ]
  },
  {
   "cell_type": "code",
   "execution_count": 130,
   "id": "b22defc5",
   "metadata": {},
   "outputs": [
    {
     "name": "stdout",
     "output_type": "stream",
     "text": [
      "0.2812965402971449\n"
     ]
    }
   ],
   "source": [
    "ls = Lasso(alpha=1,random_state=0)\n",
    "ls.fit(x_train,y_train)\n",
    "ls.score(x_train,y_train)\n",
    "pred_ls = ls.predict(x_test)\n",
    "Model=r2_score(y_test,pred_ls)\n",
    "print(Model)"
   ]
  },
  {
   "cell_type": "markdown",
   "id": "d7d609c3",
   "metadata": {},
   "source": [
    "# Saving Model"
   ]
  },
  {
   "cell_type": "code",
   "execution_count": 135,
   "id": "133a92b9",
   "metadata": {},
   "outputs": [],
   "source": [
    "import pickle\n",
    "filename = 'Global_Plant_Classifier.pkl'\n",
    "pickle.dump(rf, open(filename, 'wb'))"
   ]
  },
  {
   "cell_type": "code",
   "execution_count": 136,
   "id": "4492236e",
   "metadata": {},
   "outputs": [],
   "source": [
    "\n",
    "filename = 'Global_Plant_Regressor.pkl'\n",
    "pickle.dump(Model, open(filename, 'wb'))"
   ]
  },
  {
   "cell_type": "code",
   "execution_count": null,
   "id": "6389ca3b",
   "metadata": {},
   "outputs": [],
   "source": []
  },
  {
   "cell_type": "code",
   "execution_count": null,
   "id": "c611029d",
   "metadata": {},
   "outputs": [],
   "source": []
  }
 ],
 "metadata": {
  "kernelspec": {
   "display_name": "Python 3",
   "language": "python",
   "name": "python3"
  },
  "language_info": {
   "codemirror_mode": {
    "name": "ipython",
    "version": 3
   },
   "file_extension": ".py",
   "mimetype": "text/x-python",
   "name": "python",
   "nbconvert_exporter": "python",
   "pygments_lexer": "ipython3",
   "version": "3.8.8"
  }
 },
 "nbformat": 4,
 "nbformat_minor": 5
}
