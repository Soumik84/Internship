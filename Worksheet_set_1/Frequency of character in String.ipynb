{
 "cells": [
  {
   "cell_type": "code",
   "execution_count": 1,
   "id": "983a5e21",
   "metadata": {},
   "outputs": [
    {
     "name": "stdout",
     "output_type": "stream",
     "text": [
      "Enter the string: soumik\n",
      "s,1\n",
      "o,1\n",
      "u,1\n",
      "m,1\n",
      "i,1\n",
      "k,1\n"
     ]
    }
   ],
   "source": [
    "string=input(\"Enter the string: \")\n",
    "str1=list(string)\n",
    "strlist=[]\n",
    "for j in str1:\n",
    "    if j not in strlist:\n",
    "       strlist.append(j)\n",
    "       count=0\n",
    "       for i in range(len(str1)):\n",
    "         if j==str1[i]:\n",
    "           count+=1\n",
    "       print(\"{},{}\".format(j,count))"
   ]
  },
  {
   "cell_type": "code",
   "execution_count": null,
   "id": "54fed7eb",
   "metadata": {},
   "outputs": [],
   "source": []
  }
 ],
 "metadata": {
  "kernelspec": {
   "display_name": "Python 3",
   "language": "python",
   "name": "python3"
  },
  "language_info": {
   "codemirror_mode": {
    "name": "ipython",
    "version": 3
   },
   "file_extension": ".py",
   "mimetype": "text/x-python",
   "name": "python",
   "nbconvert_exporter": "python",
   "pygments_lexer": "ipython3",
   "version": "3.8.8"
  }
 },
 "nbformat": 4,
 "nbformat_minor": 5
}
