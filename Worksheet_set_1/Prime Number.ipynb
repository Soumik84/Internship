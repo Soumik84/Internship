{
 "cells": [
  {
   "cell_type": "code",
   "execution_count": 2,
   "id": "de635fc3",
   "metadata": {},
   "outputs": [
    {
     "name": "stdout",
     "output_type": "stream",
     "text": [
      "Enter an input number:4\n",
      "4 is not a prime number\n"
     ]
    }
   ],
   "source": [
    "def PrimeChecker(a):  \n",
    "    \n",
    "    if a > 1:  \n",
    "        \n",
    "        for j in range(2, int(a/2) + 1):  \n",
    "             \n",
    "            if (a % j) == 0:  \n",
    "                print(a, \"is not a prime number\")  \n",
    "                break  \n",
    "        \n",
    "        else:  \n",
    "            print(a, \"is a prime number\")  \n",
    "     \n",
    "    else:  \n",
    "        print(a, \"is not a prime number\")  \n",
    "  \n",
    "a = int(input(\"Enter an input number:\"))  \n",
    "  \n",
    "PrimeChecker(a)  "
   ]
  },
  {
   "cell_type": "code",
   "execution_count": null,
   "id": "08c0a264",
   "metadata": {},
   "outputs": [],
   "source": []
  }
 ],
 "metadata": {
  "kernelspec": {
   "display_name": "Python 3",
   "language": "python",
   "name": "python3"
  },
  "language_info": {
   "codemirror_mode": {
    "name": "ipython",
    "version": 3
   },
   "file_extension": ".py",
   "mimetype": "text/x-python",
   "name": "python",
   "nbconvert_exporter": "python",
   "pygments_lexer": "ipython3",
   "version": "3.8.8"
  }
 },
 "nbformat": 4,
 "nbformat_minor": 5
}
