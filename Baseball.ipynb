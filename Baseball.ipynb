{
 "cells": [
  {
   "cell_type": "code",
   "execution_count": 1,
   "id": "5c2002e9",
   "metadata": {},
   "outputs": [],
   "source": [
    "import pandas as pd\n",
    "import matplotlib.pyplot as plt\n",
    "import numpy as np\n",
    "import seaborn as sn\n",
    "from sklearn.metrics import accuracy_score\n",
    "from sklearn.metrics import confusion_matrix,classification_report\n",
    "from sklearn.model_selection import train_test_split\n",
    "import warnings\n",
    "warnings.filterwarnings('ignore')"
   ]
  },
  {
   "cell_type": "code",
   "execution_count": 3,
   "id": "eb9cca22",
   "metadata": {},
   "outputs": [],
   "source": [
    "df=pd.read_csv('Baseball.csv')"
   ]
  },
  {
   "cell_type": "code",
   "execution_count": 4,
   "id": "72c20ea4",
   "metadata": {},
   "outputs": [
    {
     "data": {
      "text/html": [
       "<div>\n",
       "<style scoped>\n",
       "    .dataframe tbody tr th:only-of-type {\n",
       "        vertical-align: middle;\n",
       "    }\n",
       "\n",
       "    .dataframe tbody tr th {\n",
       "        vertical-align: top;\n",
       "    }\n",
       "\n",
       "    .dataframe thead th {\n",
       "        text-align: right;\n",
       "    }\n",
       "</style>\n",
       "<table border=\"1\" class=\"dataframe\">\n",
       "  <thead>\n",
       "    <tr style=\"text-align: right;\">\n",
       "      <th></th>\n",
       "      <th>W</th>\n",
       "      <th>R</th>\n",
       "      <th>AB</th>\n",
       "      <th>H</th>\n",
       "      <th>2B</th>\n",
       "      <th>3B</th>\n",
       "      <th>HR</th>\n",
       "      <th>BB</th>\n",
       "      <th>SO</th>\n",
       "      <th>SB</th>\n",
       "      <th>RA</th>\n",
       "      <th>ER</th>\n",
       "      <th>ERA</th>\n",
       "      <th>CG</th>\n",
       "      <th>SHO</th>\n",
       "      <th>SV</th>\n",
       "      <th>E</th>\n",
       "    </tr>\n",
       "  </thead>\n",
       "  <tbody>\n",
       "    <tr>\n",
       "      <th>0</th>\n",
       "      <td>95</td>\n",
       "      <td>724</td>\n",
       "      <td>5575</td>\n",
       "      <td>1497</td>\n",
       "      <td>300</td>\n",
       "      <td>42</td>\n",
       "      <td>139</td>\n",
       "      <td>383</td>\n",
       "      <td>973</td>\n",
       "      <td>104</td>\n",
       "      <td>641</td>\n",
       "      <td>601</td>\n",
       "      <td>3.73</td>\n",
       "      <td>2</td>\n",
       "      <td>8</td>\n",
       "      <td>56</td>\n",
       "      <td>88</td>\n",
       "    </tr>\n",
       "    <tr>\n",
       "      <th>1</th>\n",
       "      <td>83</td>\n",
       "      <td>696</td>\n",
       "      <td>5467</td>\n",
       "      <td>1349</td>\n",
       "      <td>277</td>\n",
       "      <td>44</td>\n",
       "      <td>156</td>\n",
       "      <td>439</td>\n",
       "      <td>1264</td>\n",
       "      <td>70</td>\n",
       "      <td>700</td>\n",
       "      <td>653</td>\n",
       "      <td>4.07</td>\n",
       "      <td>2</td>\n",
       "      <td>12</td>\n",
       "      <td>45</td>\n",
       "      <td>86</td>\n",
       "    </tr>\n",
       "    <tr>\n",
       "      <th>2</th>\n",
       "      <td>81</td>\n",
       "      <td>669</td>\n",
       "      <td>5439</td>\n",
       "      <td>1395</td>\n",
       "      <td>303</td>\n",
       "      <td>29</td>\n",
       "      <td>141</td>\n",
       "      <td>533</td>\n",
       "      <td>1157</td>\n",
       "      <td>86</td>\n",
       "      <td>640</td>\n",
       "      <td>584</td>\n",
       "      <td>3.67</td>\n",
       "      <td>11</td>\n",
       "      <td>10</td>\n",
       "      <td>38</td>\n",
       "      <td>79</td>\n",
       "    </tr>\n",
       "    <tr>\n",
       "      <th>3</th>\n",
       "      <td>76</td>\n",
       "      <td>622</td>\n",
       "      <td>5533</td>\n",
       "      <td>1381</td>\n",
       "      <td>260</td>\n",
       "      <td>27</td>\n",
       "      <td>136</td>\n",
       "      <td>404</td>\n",
       "      <td>1231</td>\n",
       "      <td>68</td>\n",
       "      <td>701</td>\n",
       "      <td>643</td>\n",
       "      <td>3.98</td>\n",
       "      <td>7</td>\n",
       "      <td>9</td>\n",
       "      <td>37</td>\n",
       "      <td>101</td>\n",
       "    </tr>\n",
       "    <tr>\n",
       "      <th>4</th>\n",
       "      <td>74</td>\n",
       "      <td>689</td>\n",
       "      <td>5605</td>\n",
       "      <td>1515</td>\n",
       "      <td>289</td>\n",
       "      <td>49</td>\n",
       "      <td>151</td>\n",
       "      <td>455</td>\n",
       "      <td>1259</td>\n",
       "      <td>83</td>\n",
       "      <td>803</td>\n",
       "      <td>746</td>\n",
       "      <td>4.64</td>\n",
       "      <td>7</td>\n",
       "      <td>12</td>\n",
       "      <td>35</td>\n",
       "      <td>86</td>\n",
       "    </tr>\n",
       "  </tbody>\n",
       "</table>\n",
       "</div>"
      ],
      "text/plain": [
       "    W    R    AB     H   2B  3B   HR   BB    SO   SB   RA   ER   ERA  CG  SHO  \\\n",
       "0  95  724  5575  1497  300  42  139  383   973  104  641  601  3.73   2    8   \n",
       "1  83  696  5467  1349  277  44  156  439  1264   70  700  653  4.07   2   12   \n",
       "2  81  669  5439  1395  303  29  141  533  1157   86  640  584  3.67  11   10   \n",
       "3  76  622  5533  1381  260  27  136  404  1231   68  701  643  3.98   7    9   \n",
       "4  74  689  5605  1515  289  49  151  455  1259   83  803  746  4.64   7   12   \n",
       "\n",
       "   SV    E  \n",
       "0  56   88  \n",
       "1  45   86  \n",
       "2  38   79  \n",
       "3  37  101  \n",
       "4  35   86  "
      ]
     },
     "execution_count": 4,
     "metadata": {},
     "output_type": "execute_result"
    }
   ],
   "source": [
    "df.head()"
   ]
  },
  {
   "cell_type": "code",
   "execution_count": 5,
   "id": "f9474dd1",
   "metadata": {},
   "outputs": [
    {
     "data": {
      "text/plain": [
       "(30, 17)"
      ]
     },
     "execution_count": 5,
     "metadata": {},
     "output_type": "execute_result"
    }
   ],
   "source": [
    "df.shape"
   ]
  },
  {
   "cell_type": "markdown",
   "id": "d7911df1",
   "metadata": {},
   "source": [
    "There are 17 columns and 30 row"
   ]
  },
  {
   "cell_type": "code",
   "execution_count": 6,
   "id": "64a0e57a",
   "metadata": {},
   "outputs": [
    {
     "data": {
      "text/plain": [
       "W        int64\n",
       "R        int64\n",
       "AB       int64\n",
       "H        int64\n",
       "2B       int64\n",
       "3B       int64\n",
       "HR       int64\n",
       "BB       int64\n",
       "SO       int64\n",
       "SB       int64\n",
       "RA       int64\n",
       "ER       int64\n",
       "ERA    float64\n",
       "CG       int64\n",
       "SHO      int64\n",
       "SV       int64\n",
       "E        int64\n",
       "dtype: object"
      ]
     },
     "execution_count": 6,
     "metadata": {},
     "output_type": "execute_result"
    }
   ],
   "source": [
    "df.dtypes"
   ]
  },
  {
   "cell_type": "markdown",
   "id": "51c7354c",
   "metadata": {},
   "source": [
    "Except ERA all the data are integer type"
   ]
  },
  {
   "cell_type": "code",
   "execution_count": 7,
   "id": "37b4fd4a",
   "metadata": {},
   "outputs": [
    {
     "data": {
      "text/plain": [
       "Index(['W', 'R', 'AB', 'H', '2B', '3B', 'HR', 'BB', 'SO', 'SB', 'RA', 'ER',\n",
       "       'ERA', 'CG', 'SHO', 'SV', 'E'],\n",
       "      dtype='object')"
      ]
     },
     "execution_count": 7,
     "metadata": {},
     "output_type": "execute_result"
    }
   ],
   "source": [
    "df.columns"
   ]
  },
  {
   "cell_type": "code",
   "execution_count": 8,
   "id": "331be6c8",
   "metadata": {},
   "outputs": [
    {
     "data": {
      "text/plain": [
       "W      0\n",
       "R      0\n",
       "AB     0\n",
       "H      0\n",
       "2B     0\n",
       "3B     0\n",
       "HR     0\n",
       "BB     0\n",
       "SO     0\n",
       "SB     0\n",
       "RA     0\n",
       "ER     0\n",
       "ERA    0\n",
       "CG     0\n",
       "SHO    0\n",
       "SV     0\n",
       "E      0\n",
       "dtype: int64"
      ]
     },
     "execution_count": 8,
     "metadata": {},
     "output_type": "execute_result"
    }
   ],
   "source": [
    "df.isnull().sum()"
   ]
  },
  {
   "cell_type": "code",
   "execution_count": 9,
   "id": "66b639f8",
   "metadata": {},
   "outputs": [
    {
     "data": {
      "text/plain": [
       "<AxesSubplot:>"
      ]
     },
     "execution_count": 9,
     "metadata": {},
     "output_type": "execute_result"
    },
    {
     "data": {
      "image/png": "[encoded data removed]",
      "text/plain": [
       "<Figure size 432x288 with 2 Axes>"
      ]
     },
     "metadata": {
      "needs_background": "light"
     },
     "output_type": "display_data"
    }
   ],
   "source": [
    "sn.heatmap(df.isnull())"
   ]
  },
  {
   "cell_type": "markdown",
   "id": "b9fa9e73",
   "metadata": {},
   "source": [
    "There is no null value"
   ]
  },
  {
   "cell_type": "markdown",
   "id": "5944bb21",
   "metadata": {},
   "source": [
    "# Visualization"
   ]
  },
  {
   "cell_type": "code",
   "execution_count": 13,
   "id": "2d0201d9",
   "metadata": {},
   "outputs": [
    {
     "data": {
      "image/png": "[encoded data removed]",
      "text/plain": [
       "<Figure size 432x288 with 1 Axes>"
      ]
     },
     "metadata": {
      "needs_background": "light"
     },
     "output_type": "display_data"
    }
   ],
   "source": [
    "plt.title(\"Win\")\n",
    "plt.hist(df[\"W\"],bins=10)\n",
    "plt.show()"
   ]
  },
  {
   "cell_type": "markdown",
   "id": "397b9183",
   "metadata": {},
   "source": [
    " between 80-85 number of win is more"
   ]
  },
  {
   "cell_type": "code",
   "execution_count": 15,
   "id": "050dfa57",
   "metadata": {},
   "outputs": [
    {
     "data": {
      "image/png": "[encoded data removed]",
      "text/plain": [
       "<Figure size 432x288 with 1 Axes>"
      ]
     },
     "metadata": {
      "needs_background": "light"
     },
     "output_type": "display_data"
    }
   ],
   "source": [
    "plt.title(\"Run\")\n",
    "plt.hist(df[\"R\"],bins=50)\n",
    "plt.show()"
   ]
  },
  {
   "cell_type": "markdown",
   "id": "9cc293d3",
   "metadata": {},
   "source": [
    "most number of run scored between 650 to 700"
   ]
  },
  {
   "cell_type": "code",
   "execution_count": 17,
   "id": "79d369d0",
   "metadata": {},
   "outputs": [
    {
     "data": {
      "image/png": "[encoded data removed]",
      "text/plain": [
       "<Figure size 432x288 with 1 Axes>"
      ]
     },
     "metadata": {
      "needs_background": "light"
     },
     "output_type": "display_data"
    }
   ],
   "source": [
    "\n",
    "plt.hist(df[\"AB\"],bins=10)\n",
    "plt.show()"
   ]
  },
  {
   "cell_type": "code",
   "execution_count": 18,
   "id": "594ec8d0",
   "metadata": {},
   "outputs": [
    {
     "data": {
      "image/png": "[encoded data removed]",
      "text/plain": [
       "<Figure size 432x288 with 1 Axes>"
      ]
     },
     "metadata": {
      "needs_background": "light"
     },
     "output_type": "display_data"
    }
   ],
   "source": [
    "plt.hist(df[\"H\"],bins=10)\n",
    "plt.show()"
   ]
  },
  {
   "cell_type": "code",
   "execution_count": 19,
   "id": "a17c1f1e",
   "metadata": {},
   "outputs": [
    {
     "data": {
      "image/png": "[encoded data removed]",
      "text/plain": [
       "<Figure size 432x288 with 1 Axes>"
      ]
     },
     "metadata": {
      "needs_background": "light"
     },
     "output_type": "display_data"
    }
   ],
   "source": [
    "plt.hist(df[\"2B\"],bins=10)\n",
    "plt.show()"
   ]
  },
  {
   "cell_type": "code",
   "execution_count": 22,
   "id": "ca10d626",
   "metadata": {},
   "outputs": [
    {
     "data": {
      "image/png": "[encoded data removed]",
      "text/plain": [
       "<Figure size 432x288 with 1 Axes>"
      ]
     },
     "metadata": {
      "needs_background": "light"
     },
     "output_type": "display_data"
    }
   ],
   "source": [
    "plt.hist(df[\"3B\"],bins=10)\n",
    "plt.show()"
   ]
  },
  {
   "cell_type": "code",
   "execution_count": 23,
   "id": "b4292db9",
   "metadata": {},
   "outputs": [
    {
     "data": {
      "image/png": "[encoded data removed]",
      "text/plain": [
       "<Figure size 432x288 with 1 Axes>"
      ]
     },
     "metadata": {
      "needs_background": "light"
     },
     "output_type": "display_data"
    }
   ],
   "source": [
    "plt.hist(df[\"HR\"],bins=10)\n",
    "plt.show()"
   ]
  },
  {
   "cell_type": "code",
   "execution_count": 24,
   "id": "05c971f8",
   "metadata": {},
   "outputs": [
    {
     "data": {
      "image/png": "[encoded data removed]",
      "text/plain": [
       "<Figure size 432x288 with 1 Axes>"
      ]
     },
     "metadata": {
      "needs_background": "light"
     },
     "output_type": "display_data"
    }
   ],
   "source": [
    "plt.hist(df[\"BB\"],bins=10)\n",
    "plt.show()"
   ]
  },
  {
   "cell_type": "code",
   "execution_count": 25,
   "id": "c7e01c3d",
   "metadata": {},
   "outputs": [
    {
     "data": {
      "image/png": "[encoded data removed]",
      "text/plain": [
       "<Figure size 432x288 with 1 Axes>"
      ]
     },
     "metadata": {
      "needs_background": "light"
     },
     "output_type": "display_data"
    }
   ],
   "source": [
    "plt.hist(df[\"SO\"],bins=10)\n",
    "plt.show()"
   ]
  },
  {
   "cell_type": "code",
   "execution_count": 26,
   "id": "6d963430",
   "metadata": {},
   "outputs": [
    {
     "data": {
      "image/png": "[encoded data removed]",
      "text/plain": [
       "<Figure size 432x288 with 1 Axes>"
      ]
     },
     "metadata": {
      "needs_background": "light"
     },
     "output_type": "display_data"
    }
   ],
   "source": [
    "plt.hist(df[\"SB\"],bins=10)\n",
    "plt.show()"
   ]
  },
  {
   "cell_type": "code",
   "execution_count": 27,
   "id": "ddf32e61",
   "metadata": {},
   "outputs": [
    {
     "data": {
      "image/png": "[encoded data removed]",
      "text/plain": [
       "<Figure size 432x288 with 1 Axes>"
      ]
     },
     "metadata": {
      "needs_background": "light"
     },
     "output_type": "display_data"
    }
   ],
   "source": [
    "plt.hist(df[\"RA\"],bins=10)\n",
    "plt.show()"
   ]
  },
  {
   "cell_type": "code",
   "execution_count": 28,
   "id": "a5e1c14f",
   "metadata": {},
   "outputs": [
    {
     "data": {
      "image/png": "[encoded data removed]",
      "text/plain": [
       "<Figure size 432x288 with 1 Axes>"
      ]
     },
     "metadata": {
      "needs_background": "light"
     },
     "output_type": "display_data"
    }
   ],
   "source": [
    "plt.hist(df[\"ER\"],bins=10)\n",
    "plt.show()"
   ]
  },
  {
   "cell_type": "code",
   "execution_count": 30,
   "id": "ef787386",
   "metadata": {},
   "outputs": [
    {
     "data": {
      "text/plain": [
       "<AxesSubplot:xlabel='ERA', ylabel='Density'>"
      ]
     },
     "execution_count": 30,
     "metadata": {},
     "output_type": "execute_result"
    },
    {
     "data": {
      "image/png": "[encoded data removed]",
      "text/plain": [
       "<Figure size 432x288 with 1 Axes>"
      ]
     },
     "metadata": {
      "needs_background": "light"
     },
     "output_type": "display_data"
    }
   ],
   "source": [
    "sn.distplot(df['ERA'], kde=True)"
   ]
  },
  {
   "cell_type": "code",
   "execution_count": 36,
   "id": "f0658113",
   "metadata": {},
   "outputs": [
    {
     "data": {
      "image/png": "[encoded data removed]",
      "text/plain": [
       "<Figure size 432x288 with 1 Axes>"
      ]
     },
     "metadata": {
      "needs_background": "light"
     },
     "output_type": "display_data"
    }
   ],
   "source": [
    "plt.hist(df[\"CG\"],bins=10)\n",
    "plt.show()"
   ]
  },
  {
   "cell_type": "code",
   "execution_count": 32,
   "id": "c7ba50e7",
   "metadata": {},
   "outputs": [
    {
     "data": {
      "image/png": "[encoded data removed]",
      "text/plain": [
       "<Figure size 432x288 with 1 Axes>"
      ]
     },
     "metadata": {
      "needs_background": "light"
     },
     "output_type": "display_data"
    }
   ],
   "source": [
    "plt.hist(df[\"SHO\"],bins=10)\n",
    "plt.show()"
   ]
  },
  {
   "cell_type": "code",
   "execution_count": 33,
   "id": "3023421c",
   "metadata": {},
   "outputs": [
    {
     "data": {
      "image/png": "[encoded data removed]",
      "text/plain": [
       "<Figure size 432x288 with 1 Axes>"
      ]
     },
     "metadata": {
      "needs_background": "light"
     },
     "output_type": "display_data"
    }
   ],
   "source": [
    "plt.hist(df[\"SV\"],bins=10)\n",
    "plt.show()"
   ]
  },
  {
   "cell_type": "code",
   "execution_count": 34,
   "id": "8a826ab7",
   "metadata": {},
   "outputs": [
    {
     "data": {
      "image/png": "[encoded data removed]",
      "text/plain": [
       "<Figure size 432x288 with 1 Axes>"
      ]
     },
     "metadata": {
      "needs_background": "light"
     },
     "output_type": "display_data"
    }
   ],
   "source": [
    "plt.hist(df[\"E\"],bins=10)\n",
    "plt.show()"
   ]
  },
  {
   "cell_type": "code",
   "execution_count": 37,
   "id": "d8697218",
   "metadata": {},
   "outputs": [
    {
     "data": {
      "text/plain": [
       "{'bodies': [<matplotlib.collections.PolyCollection at 0x1e71f646790>],\n",
       " 'cmaxes': <matplotlib.collections.LineCollection at 0x1e71f646220>,\n",
       " 'cmins': <matplotlib.collections.LineCollection at 0x1e71f646160>,\n",
       " 'cbars': <matplotlib.collections.LineCollection at 0x1e71f646190>}"
      ]
     },
     "execution_count": 37,
     "metadata": {},
     "output_type": "execute_result"
    },
    {
     "data": {
      "image/png": "[encoded data removed]",
      "text/plain": [
       "<Figure size 432x288 with 1 Axes>"
      ]
     },
     "metadata": {
      "needs_background": "light"
     },
     "output_type": "display_data"
    }
   ],
   "source": [
    "plt.violinplot(df['W'])"
   ]
  },
  {
   "cell_type": "code",
   "execution_count": 38,
   "id": "f2102e95",
   "metadata": {},
   "outputs": [
    {
     "data": {
      "image/png": "[encoded data removed]",
      "text/plain": [
       "<Figure size 432x288 with 1 Axes>"
      ]
     },
     "metadata": {
      "needs_background": "light"
     },
     "output_type": "display_data"
    }
   ],
   "source": [
    "plt.title(\"Bar graph\")\n",
    "plt.xlabel(\"Win\")\n",
    "plt.ylabel(\"Run\")\n",
    "plt.bar(df[\"W\"],df[\"R\"])\n",
    "plt.show()"
   ]
  },
  {
   "cell_type": "markdown",
   "id": "c1674571",
   "metadata": {},
   "source": [
    "if run is 800 or more win is between 90-95 and if run is more than 600 then chances of win is high"
   ]
  },
  {
   "cell_type": "code",
   "execution_count": 40,
   "id": "6dabc066",
   "metadata": {},
   "outputs": [
    {
     "data": {
      "image/png": "[encoded data removed]",
      "text/plain": [
       "<Figure size 432x288 with 1 Axes>"
      ]
     },
     "metadata": {
      "needs_background": "light"
     },
     "output_type": "display_data"
    }
   ],
   "source": [
    "plt.title(\"Bar graph\")\n",
    "plt.xlabel(\"Win\")\n",
    "plt.ylabel(\"2B\")\n",
    "plt.bar(df[\"W\"],df[\"2B\"])\n",
    "plt.show()"
   ]
  },
  {
   "cell_type": "markdown",
   "id": "2e9bd9e8",
   "metadata": {},
   "source": [
    "If double is between 250-290 chances of win is high"
   ]
  },
  {
   "cell_type": "code",
   "execution_count": 42,
   "id": "3ac28cdc",
   "metadata": {},
   "outputs": [
    {
     "data": {
      "image/png": "[encoded data removed]",
      "text/plain": [
       "<Figure size 432x288 with 1 Axes>"
      ]
     },
     "metadata": {
      "needs_background": "light"
     },
     "output_type": "display_data"
    }
   ],
   "source": [
    "plt.title(\"Bar graph\")\n",
    "plt.xlabel(\"Win\")\n",
    "plt.ylabel(\"3B\")\n",
    "plt.bar(df[\"W\"],df[\"3B\"])\n",
    "plt.show()"
   ]
  },
  {
   "cell_type": "markdown",
   "id": "5fcb8cd7",
   "metadata": {},
   "source": [
    "# Checking Outlier"
   ]
  },
  {
   "cell_type": "code",
   "execution_count": 43,
   "id": "c12616b5",
   "metadata": {},
   "outputs": [
    {
     "data": {
      "text/plain": [
       "{'whiskers': [<matplotlib.lines.Line2D at 0x1e71f728610>,\n",
       "  <matplotlib.lines.Line2D at 0x1e71f728970>],\n",
       " 'caps': [<matplotlib.lines.Line2D at 0x1e71f728cd0>,\n",
       "  <matplotlib.lines.Line2D at 0x1e71f723070>],\n",
       " 'boxes': [<matplotlib.lines.Line2D at 0x1e71f7282b0>],\n",
       " 'medians': [<matplotlib.lines.Line2D at 0x1e71f7233d0>],\n",
       " 'fliers': [<matplotlib.lines.Line2D at 0x1e71f723730>],\n",
       " 'means': []}"
      ]
     },
     "execution_count": 43,
     "metadata": {},
     "output_type": "execute_result"
    },
    {
     "data": {
      "image/png": "[encoded data removed]",
      "text/plain": [
       "<Figure size 432x288 with 1 Axes>"
      ]
     },
     "metadata": {
      "needs_background": "light"
     },
     "output_type": "display_data"
    }
   ],
   "source": [
    "plt.boxplot(df['ERA'])"
   ]
  },
  {
   "cell_type": "code",
   "execution_count": 44,
   "id": "760f0e30",
   "metadata": {},
   "outputs": [
    {
     "data": {
      "text/plain": [
       "{'whiskers': [<matplotlib.lines.Line2D at 0x1e71f7fb5e0>,\n",
       "  <matplotlib.lines.Line2D at 0x1e71f7fb940>],\n",
       " 'caps': [<matplotlib.lines.Line2D at 0x1e71f7fbca0>,\n",
       "  <matplotlib.lines.Line2D at 0x1e71f805040>],\n",
       " 'boxes': [<matplotlib.lines.Line2D at 0x1e71f7fb280>],\n",
       " 'medians': [<matplotlib.lines.Line2D at 0x1e71f8053a0>],\n",
       " 'fliers': [<matplotlib.lines.Line2D at 0x1e71f805700>],\n",
       " 'means': []}"
      ]
     },
     "execution_count": 44,
     "metadata": {},
     "output_type": "execute_result"
    },
    {
     "data": {
      "image/png": "[encoded data removed]",
      "text/plain": [
       "<Figure size 432x288 with 1 Axes>"
      ]
     },
     "metadata": {
      "needs_background": "light"
     },
     "output_type": "display_data"
    }
   ],
   "source": [
    "plt.boxplot(df['E'])"
   ]
  },
  {
   "cell_type": "code",
   "execution_count": 45,
   "id": "f7b762ec",
   "metadata": {},
   "outputs": [
    {
     "data": {
      "text/plain": [
       "(array([5], dtype=int64), array([1], dtype=int64))"
      ]
     },
     "execution_count": 45,
     "metadata": {},
     "output_type": "execute_result"
    }
   ],
   "source": [
    "from scipy.stats import zscore\n",
    "import numpy as np\n",
    "z=np.abs(zscore(df))\n",
    "threshold=3\n",
    "np.where(z>3)"
   ]
  },
  {
   "cell_type": "code",
   "execution_count": 46,
   "id": "40151cfb",
   "metadata": {},
   "outputs": [
    {
     "data": {
      "text/html": [
       "<div>\n",
       "<style scoped>\n",
       "    .dataframe tbody tr th:only-of-type {\n",
       "        vertical-align: middle;\n",
       "    }\n",
       "\n",
       "    .dataframe tbody tr th {\n",
       "        vertical-align: top;\n",
       "    }\n",
       "\n",
       "    .dataframe thead th {\n",
       "        text-align: right;\n",
       "    }\n",
       "</style>\n",
       "<table border=\"1\" class=\"dataframe\">\n",
       "  <thead>\n",
       "    <tr style=\"text-align: right;\">\n",
       "      <th></th>\n",
       "      <th>W</th>\n",
       "      <th>R</th>\n",
       "      <th>AB</th>\n",
       "      <th>H</th>\n",
       "      <th>2B</th>\n",
       "      <th>3B</th>\n",
       "      <th>HR</th>\n",
       "      <th>BB</th>\n",
       "      <th>SO</th>\n",
       "      <th>SB</th>\n",
       "      <th>RA</th>\n",
       "      <th>ER</th>\n",
       "      <th>ERA</th>\n",
       "      <th>CG</th>\n",
       "      <th>SHO</th>\n",
       "      <th>SV</th>\n",
       "      <th>E</th>\n",
       "    </tr>\n",
       "  </thead>\n",
       "  <tbody>\n",
       "    <tr>\n",
       "      <th>0</th>\n",
       "      <td>95</td>\n",
       "      <td>724</td>\n",
       "      <td>5575</td>\n",
       "      <td>1497</td>\n",
       "      <td>300</td>\n",
       "      <td>42</td>\n",
       "      <td>139</td>\n",
       "      <td>383</td>\n",
       "      <td>973</td>\n",
       "      <td>104</td>\n",
       "      <td>641</td>\n",
       "      <td>601</td>\n",
       "      <td>3.73</td>\n",
       "      <td>2</td>\n",
       "      <td>8</td>\n",
       "      <td>56</td>\n",
       "      <td>88</td>\n",
       "    </tr>\n",
       "    <tr>\n",
       "      <th>1</th>\n",
       "      <td>83</td>\n",
       "      <td>696</td>\n",
       "      <td>5467</td>\n",
       "      <td>1349</td>\n",
       "      <td>277</td>\n",
       "      <td>44</td>\n",
       "      <td>156</td>\n",
       "      <td>439</td>\n",
       "      <td>1264</td>\n",
       "      <td>70</td>\n",
       "      <td>700</td>\n",
       "      <td>653</td>\n",
       "      <td>4.07</td>\n",
       "      <td>2</td>\n",
       "      <td>12</td>\n",
       "      <td>45</td>\n",
       "      <td>86</td>\n",
       "    </tr>\n",
       "    <tr>\n",
       "      <th>2</th>\n",
       "      <td>81</td>\n",
       "      <td>669</td>\n",
       "      <td>5439</td>\n",
       "      <td>1395</td>\n",
       "      <td>303</td>\n",
       "      <td>29</td>\n",
       "      <td>141</td>\n",
       "      <td>533</td>\n",
       "      <td>1157</td>\n",
       "      <td>86</td>\n",
       "      <td>640</td>\n",
       "      <td>584</td>\n",
       "      <td>3.67</td>\n",
       "      <td>11</td>\n",
       "      <td>10</td>\n",
       "      <td>38</td>\n",
       "      <td>79</td>\n",
       "    </tr>\n",
       "    <tr>\n",
       "      <th>3</th>\n",
       "      <td>76</td>\n",
       "      <td>622</td>\n",
       "      <td>5533</td>\n",
       "      <td>1381</td>\n",
       "      <td>260</td>\n",
       "      <td>27</td>\n",
       "      <td>136</td>\n",
       "      <td>404</td>\n",
       "      <td>1231</td>\n",
       "      <td>68</td>\n",
       "      <td>701</td>\n",
       "      <td>643</td>\n",
       "      <td>3.98</td>\n",
       "      <td>7</td>\n",
       "      <td>9</td>\n",
       "      <td>37</td>\n",
       "      <td>101</td>\n",
       "    </tr>\n",
       "    <tr>\n",
       "      <th>4</th>\n",
       "      <td>74</td>\n",
       "      <td>689</td>\n",
       "      <td>5605</td>\n",
       "      <td>1515</td>\n",
       "      <td>289</td>\n",
       "      <td>49</td>\n",
       "      <td>151</td>\n",
       "      <td>455</td>\n",
       "      <td>1259</td>\n",
       "      <td>83</td>\n",
       "      <td>803</td>\n",
       "      <td>746</td>\n",
       "      <td>4.64</td>\n",
       "      <td>7</td>\n",
       "      <td>12</td>\n",
       "      <td>35</td>\n",
       "      <td>86</td>\n",
       "    </tr>\n",
       "    <tr>\n",
       "      <th>6</th>\n",
       "      <td>87</td>\n",
       "      <td>764</td>\n",
       "      <td>5567</td>\n",
       "      <td>1397</td>\n",
       "      <td>272</td>\n",
       "      <td>19</td>\n",
       "      <td>212</td>\n",
       "      <td>554</td>\n",
       "      <td>1227</td>\n",
       "      <td>63</td>\n",
       "      <td>698</td>\n",
       "      <td>652</td>\n",
       "      <td>4.03</td>\n",
       "      <td>3</td>\n",
       "      <td>4</td>\n",
       "      <td>48</td>\n",
       "      <td>93</td>\n",
       "    </tr>\n",
       "    <tr>\n",
       "      <th>7</th>\n",
       "      <td>81</td>\n",
       "      <td>713</td>\n",
       "      <td>5485</td>\n",
       "      <td>1370</td>\n",
       "      <td>246</td>\n",
       "      <td>20</td>\n",
       "      <td>217</td>\n",
       "      <td>418</td>\n",
       "      <td>1331</td>\n",
       "      <td>44</td>\n",
       "      <td>693</td>\n",
       "      <td>646</td>\n",
       "      <td>4.05</td>\n",
       "      <td>0</td>\n",
       "      <td>10</td>\n",
       "      <td>43</td>\n",
       "      <td>77</td>\n",
       "    </tr>\n",
       "    <tr>\n",
       "      <th>8</th>\n",
       "      <td>80</td>\n",
       "      <td>644</td>\n",
       "      <td>5485</td>\n",
       "      <td>1383</td>\n",
       "      <td>278</td>\n",
       "      <td>32</td>\n",
       "      <td>167</td>\n",
       "      <td>436</td>\n",
       "      <td>1310</td>\n",
       "      <td>87</td>\n",
       "      <td>642</td>\n",
       "      <td>604</td>\n",
       "      <td>3.74</td>\n",
       "      <td>1</td>\n",
       "      <td>12</td>\n",
       "      <td>60</td>\n",
       "      <td>95</td>\n",
       "    </tr>\n",
       "    <tr>\n",
       "      <th>9</th>\n",
       "      <td>78</td>\n",
       "      <td>748</td>\n",
       "      <td>5640</td>\n",
       "      <td>1495</td>\n",
       "      <td>294</td>\n",
       "      <td>33</td>\n",
       "      <td>161</td>\n",
       "      <td>478</td>\n",
       "      <td>1148</td>\n",
       "      <td>71</td>\n",
       "      <td>753</td>\n",
       "      <td>694</td>\n",
       "      <td>4.31</td>\n",
       "      <td>3</td>\n",
       "      <td>10</td>\n",
       "      <td>40</td>\n",
       "      <td>97</td>\n",
       "    </tr>\n",
       "    <tr>\n",
       "      <th>10</th>\n",
       "      <td>88</td>\n",
       "      <td>751</td>\n",
       "      <td>5511</td>\n",
       "      <td>1419</td>\n",
       "      <td>279</td>\n",
       "      <td>32</td>\n",
       "      <td>172</td>\n",
       "      <td>503</td>\n",
       "      <td>1233</td>\n",
       "      <td>101</td>\n",
       "      <td>733</td>\n",
       "      <td>680</td>\n",
       "      <td>4.24</td>\n",
       "      <td>5</td>\n",
       "      <td>9</td>\n",
       "      <td>45</td>\n",
       "      <td>119</td>\n",
       "    </tr>\n",
       "    <tr>\n",
       "      <th>11</th>\n",
       "      <td>86</td>\n",
       "      <td>729</td>\n",
       "      <td>5459</td>\n",
       "      <td>1363</td>\n",
       "      <td>278</td>\n",
       "      <td>26</td>\n",
       "      <td>230</td>\n",
       "      <td>486</td>\n",
       "      <td>1392</td>\n",
       "      <td>121</td>\n",
       "      <td>618</td>\n",
       "      <td>572</td>\n",
       "      <td>3.57</td>\n",
       "      <td>5</td>\n",
       "      <td>13</td>\n",
       "      <td>39</td>\n",
       "      <td>85</td>\n",
       "    </tr>\n",
       "    <tr>\n",
       "      <th>12</th>\n",
       "      <td>85</td>\n",
       "      <td>661</td>\n",
       "      <td>5417</td>\n",
       "      <td>1331</td>\n",
       "      <td>243</td>\n",
       "      <td>21</td>\n",
       "      <td>176</td>\n",
       "      <td>435</td>\n",
       "      <td>1150</td>\n",
       "      <td>52</td>\n",
       "      <td>675</td>\n",
       "      <td>630</td>\n",
       "      <td>3.94</td>\n",
       "      <td>2</td>\n",
       "      <td>12</td>\n",
       "      <td>46</td>\n",
       "      <td>93</td>\n",
       "    </tr>\n",
       "    <tr>\n",
       "      <th>13</th>\n",
       "      <td>76</td>\n",
       "      <td>656</td>\n",
       "      <td>5544</td>\n",
       "      <td>1379</td>\n",
       "      <td>262</td>\n",
       "      <td>22</td>\n",
       "      <td>198</td>\n",
       "      <td>478</td>\n",
       "      <td>1336</td>\n",
       "      <td>69</td>\n",
       "      <td>726</td>\n",
       "      <td>677</td>\n",
       "      <td>4.16</td>\n",
       "      <td>6</td>\n",
       "      <td>12</td>\n",
       "      <td>45</td>\n",
       "      <td>94</td>\n",
       "    </tr>\n",
       "    <tr>\n",
       "      <th>14</th>\n",
       "      <td>68</td>\n",
       "      <td>694</td>\n",
       "      <td>5600</td>\n",
       "      <td>1405</td>\n",
       "      <td>277</td>\n",
       "      <td>46</td>\n",
       "      <td>146</td>\n",
       "      <td>475</td>\n",
       "      <td>1119</td>\n",
       "      <td>78</td>\n",
       "      <td>729</td>\n",
       "      <td>664</td>\n",
       "      <td>4.14</td>\n",
       "      <td>5</td>\n",
       "      <td>15</td>\n",
       "      <td>28</td>\n",
       "      <td>126</td>\n",
       "    </tr>\n",
       "    <tr>\n",
       "      <th>15</th>\n",
       "      <td>100</td>\n",
       "      <td>647</td>\n",
       "      <td>5484</td>\n",
       "      <td>1386</td>\n",
       "      <td>288</td>\n",
       "      <td>39</td>\n",
       "      <td>137</td>\n",
       "      <td>506</td>\n",
       "      <td>1267</td>\n",
       "      <td>69</td>\n",
       "      <td>525</td>\n",
       "      <td>478</td>\n",
       "      <td>2.94</td>\n",
       "      <td>1</td>\n",
       "      <td>15</td>\n",
       "      <td>62</td>\n",
       "      <td>96</td>\n",
       "    </tr>\n",
       "    <tr>\n",
       "      <th>16</th>\n",
       "      <td>98</td>\n",
       "      <td>697</td>\n",
       "      <td>5631</td>\n",
       "      <td>1462</td>\n",
       "      <td>292</td>\n",
       "      <td>27</td>\n",
       "      <td>140</td>\n",
       "      <td>461</td>\n",
       "      <td>1322</td>\n",
       "      <td>98</td>\n",
       "      <td>596</td>\n",
       "      <td>532</td>\n",
       "      <td>3.21</td>\n",
       "      <td>0</td>\n",
       "      <td>13</td>\n",
       "      <td>54</td>\n",
       "      <td>122</td>\n",
       "    </tr>\n",
       "    <tr>\n",
       "      <th>17</th>\n",
       "      <td>97</td>\n",
       "      <td>689</td>\n",
       "      <td>5491</td>\n",
       "      <td>1341</td>\n",
       "      <td>272</td>\n",
       "      <td>30</td>\n",
       "      <td>171</td>\n",
       "      <td>567</td>\n",
       "      <td>1518</td>\n",
       "      <td>95</td>\n",
       "      <td>608</td>\n",
       "      <td>546</td>\n",
       "      <td>3.36</td>\n",
       "      <td>6</td>\n",
       "      <td>21</td>\n",
       "      <td>48</td>\n",
       "      <td>111</td>\n",
       "    </tr>\n",
       "    <tr>\n",
       "      <th>18</th>\n",
       "      <td>68</td>\n",
       "      <td>655</td>\n",
       "      <td>5480</td>\n",
       "      <td>1378</td>\n",
       "      <td>274</td>\n",
       "      <td>34</td>\n",
       "      <td>145</td>\n",
       "      <td>412</td>\n",
       "      <td>1299</td>\n",
       "      <td>84</td>\n",
       "      <td>737</td>\n",
       "      <td>682</td>\n",
       "      <td>4.28</td>\n",
       "      <td>1</td>\n",
       "      <td>7</td>\n",
       "      <td>40</td>\n",
       "      <td>116</td>\n",
       "    </tr>\n",
       "    <tr>\n",
       "      <th>19</th>\n",
       "      <td>64</td>\n",
       "      <td>640</td>\n",
       "      <td>5571</td>\n",
       "      <td>1382</td>\n",
       "      <td>257</td>\n",
       "      <td>27</td>\n",
       "      <td>167</td>\n",
       "      <td>496</td>\n",
       "      <td>1255</td>\n",
       "      <td>134</td>\n",
       "      <td>754</td>\n",
       "      <td>700</td>\n",
       "      <td>4.33</td>\n",
       "      <td>2</td>\n",
       "      <td>8</td>\n",
       "      <td>35</td>\n",
       "      <td>90</td>\n",
       "    </tr>\n",
       "    <tr>\n",
       "      <th>20</th>\n",
       "      <td>90</td>\n",
       "      <td>683</td>\n",
       "      <td>5527</td>\n",
       "      <td>1351</td>\n",
       "      <td>295</td>\n",
       "      <td>17</td>\n",
       "      <td>177</td>\n",
       "      <td>488</td>\n",
       "      <td>1290</td>\n",
       "      <td>51</td>\n",
       "      <td>613</td>\n",
       "      <td>557</td>\n",
       "      <td>3.43</td>\n",
       "      <td>1</td>\n",
       "      <td>14</td>\n",
       "      <td>50</td>\n",
       "      <td>88</td>\n",
       "    </tr>\n",
       "    <tr>\n",
       "      <th>21</th>\n",
       "      <td>83</td>\n",
       "      <td>703</td>\n",
       "      <td>5428</td>\n",
       "      <td>1363</td>\n",
       "      <td>265</td>\n",
       "      <td>13</td>\n",
       "      <td>177</td>\n",
       "      <td>539</td>\n",
       "      <td>1344</td>\n",
       "      <td>57</td>\n",
       "      <td>635</td>\n",
       "      <td>577</td>\n",
       "      <td>3.62</td>\n",
       "      <td>4</td>\n",
       "      <td>13</td>\n",
       "      <td>41</td>\n",
       "      <td>90</td>\n",
       "    </tr>\n",
       "    <tr>\n",
       "      <th>22</th>\n",
       "      <td>71</td>\n",
       "      <td>613</td>\n",
       "      <td>5463</td>\n",
       "      <td>1420</td>\n",
       "      <td>236</td>\n",
       "      <td>40</td>\n",
       "      <td>120</td>\n",
       "      <td>375</td>\n",
       "      <td>1150</td>\n",
       "      <td>112</td>\n",
       "      <td>678</td>\n",
       "      <td>638</td>\n",
       "      <td>4.02</td>\n",
       "      <td>0</td>\n",
       "      <td>12</td>\n",
       "      <td>35</td>\n",
       "      <td>77</td>\n",
       "    </tr>\n",
       "    <tr>\n",
       "      <th>23</th>\n",
       "      <td>67</td>\n",
       "      <td>573</td>\n",
       "      <td>5420</td>\n",
       "      <td>1361</td>\n",
       "      <td>251</td>\n",
       "      <td>18</td>\n",
       "      <td>100</td>\n",
       "      <td>471</td>\n",
       "      <td>1107</td>\n",
       "      <td>69</td>\n",
       "      <td>760</td>\n",
       "      <td>698</td>\n",
       "      <td>4.41</td>\n",
       "      <td>3</td>\n",
       "      <td>10</td>\n",
       "      <td>44</td>\n",
       "      <td>90</td>\n",
       "    </tr>\n",
       "    <tr>\n",
       "      <th>24</th>\n",
       "      <td>63</td>\n",
       "      <td>626</td>\n",
       "      <td>5529</td>\n",
       "      <td>1374</td>\n",
       "      <td>272</td>\n",
       "      <td>37</td>\n",
       "      <td>130</td>\n",
       "      <td>387</td>\n",
       "      <td>1274</td>\n",
       "      <td>88</td>\n",
       "      <td>809</td>\n",
       "      <td>749</td>\n",
       "      <td>4.69</td>\n",
       "      <td>1</td>\n",
       "      <td>7</td>\n",
       "      <td>35</td>\n",
       "      <td>117</td>\n",
       "    </tr>\n",
       "    <tr>\n",
       "      <th>25</th>\n",
       "      <td>92</td>\n",
       "      <td>667</td>\n",
       "      <td>5385</td>\n",
       "      <td>1346</td>\n",
       "      <td>263</td>\n",
       "      <td>26</td>\n",
       "      <td>187</td>\n",
       "      <td>563</td>\n",
       "      <td>1258</td>\n",
       "      <td>59</td>\n",
       "      <td>595</td>\n",
       "      <td>553</td>\n",
       "      <td>3.44</td>\n",
       "      <td>6</td>\n",
       "      <td>21</td>\n",
       "      <td>47</td>\n",
       "      <td>75</td>\n",
       "    </tr>\n",
       "    <tr>\n",
       "      <th>26</th>\n",
       "      <td>84</td>\n",
       "      <td>696</td>\n",
       "      <td>5565</td>\n",
       "      <td>1486</td>\n",
       "      <td>288</td>\n",
       "      <td>39</td>\n",
       "      <td>136</td>\n",
       "      <td>457</td>\n",
       "      <td>1159</td>\n",
       "      <td>93</td>\n",
       "      <td>627</td>\n",
       "      <td>597</td>\n",
       "      <td>3.72</td>\n",
       "      <td>7</td>\n",
       "      <td>18</td>\n",
       "      <td>41</td>\n",
       "      <td>78</td>\n",
       "    </tr>\n",
       "    <tr>\n",
       "      <th>27</th>\n",
       "      <td>79</td>\n",
       "      <td>720</td>\n",
       "      <td>5649</td>\n",
       "      <td>1494</td>\n",
       "      <td>289</td>\n",
       "      <td>48</td>\n",
       "      <td>154</td>\n",
       "      <td>490</td>\n",
       "      <td>1312</td>\n",
       "      <td>132</td>\n",
       "      <td>713</td>\n",
       "      <td>659</td>\n",
       "      <td>4.04</td>\n",
       "      <td>1</td>\n",
       "      <td>12</td>\n",
       "      <td>44</td>\n",
       "      <td>86</td>\n",
       "    </tr>\n",
       "    <tr>\n",
       "      <th>28</th>\n",
       "      <td>74</td>\n",
       "      <td>650</td>\n",
       "      <td>5457</td>\n",
       "      <td>1324</td>\n",
       "      <td>260</td>\n",
       "      <td>36</td>\n",
       "      <td>148</td>\n",
       "      <td>426</td>\n",
       "      <td>1327</td>\n",
       "      <td>82</td>\n",
       "      <td>731</td>\n",
       "      <td>655</td>\n",
       "      <td>4.09</td>\n",
       "      <td>1</td>\n",
       "      <td>6</td>\n",
       "      <td>41</td>\n",
       "      <td>92</td>\n",
       "    </tr>\n",
       "    <tr>\n",
       "      <th>29</th>\n",
       "      <td>68</td>\n",
       "      <td>737</td>\n",
       "      <td>5572</td>\n",
       "      <td>1479</td>\n",
       "      <td>274</td>\n",
       "      <td>49</td>\n",
       "      <td>186</td>\n",
       "      <td>388</td>\n",
       "      <td>1283</td>\n",
       "      <td>97</td>\n",
       "      <td>844</td>\n",
       "      <td>799</td>\n",
       "      <td>5.04</td>\n",
       "      <td>4</td>\n",
       "      <td>4</td>\n",
       "      <td>36</td>\n",
       "      <td>95</td>\n",
       "    </tr>\n",
       "  </tbody>\n",
       "</table>\n",
       "</div>"
      ],
      "text/plain": [
       "      W    R    AB     H   2B  3B   HR   BB    SO   SB   RA   ER   ERA  CG  \\\n",
       "0    95  724  5575  1497  300  42  139  383   973  104  641  601  3.73   2   \n",
       "1    83  696  5467  1349  277  44  156  439  1264   70  700  653  4.07   2   \n",
       "2    81  669  5439  1395  303  29  141  533  1157   86  640  584  3.67  11   \n",
       "3    76  622  5533  1381  260  27  136  404  1231   68  701  643  3.98   7   \n",
       "4    74  689  5605  1515  289  49  151  455  1259   83  803  746  4.64   7   \n",
       "6    87  764  5567  1397  272  19  212  554  1227   63  698  652  4.03   3   \n",
       "7    81  713  5485  1370  246  20  217  418  1331   44  693  646  4.05   0   \n",
       "8    80  644  5485  1383  278  32  167  436  1310   87  642  604  3.74   1   \n",
       "9    78  748  5640  1495  294  33  161  478  1148   71  753  694  4.31   3   \n",
       "10   88  751  5511  1419  279  32  172  503  1233  101  733  680  4.24   5   \n",
       "11   86  729  5459  1363  278  26  230  486  1392  121  618  572  3.57   5   \n",
       "12   85  661  5417  1331  243  21  176  435  1150   52  675  630  3.94   2   \n",
       "13   76  656  5544  1379  262  22  198  478  1336   69  726  677  4.16   6   \n",
       "14   68  694  5600  1405  277  46  146  475  1119   78  729  664  4.14   5   \n",
       "15  100  647  5484  1386  288  39  137  506  1267   69  525  478  2.94   1   \n",
       "16   98  697  5631  1462  292  27  140  461  1322   98  596  532  3.21   0   \n",
       "17   97  689  5491  1341  272  30  171  567  1518   95  608  546  3.36   6   \n",
       "18   68  655  5480  1378  274  34  145  412  1299   84  737  682  4.28   1   \n",
       "19   64  640  5571  1382  257  27  167  496  1255  134  754  700  4.33   2   \n",
       "20   90  683  5527  1351  295  17  177  488  1290   51  613  557  3.43   1   \n",
       "21   83  703  5428  1363  265  13  177  539  1344   57  635  577  3.62   4   \n",
       "22   71  613  5463  1420  236  40  120  375  1150  112  678  638  4.02   0   \n",
       "23   67  573  5420  1361  251  18  100  471  1107   69  760  698  4.41   3   \n",
       "24   63  626  5529  1374  272  37  130  387  1274   88  809  749  4.69   1   \n",
       "25   92  667  5385  1346  263  26  187  563  1258   59  595  553  3.44   6   \n",
       "26   84  696  5565  1486  288  39  136  457  1159   93  627  597  3.72   7   \n",
       "27   79  720  5649  1494  289  48  154  490  1312  132  713  659  4.04   1   \n",
       "28   74  650  5457  1324  260  36  148  426  1327   82  731  655  4.09   1   \n",
       "29   68  737  5572  1479  274  49  186  388  1283   97  844  799  5.04   4   \n",
       "\n",
       "    SHO  SV    E  \n",
       "0     8  56   88  \n",
       "1    12  45   86  \n",
       "2    10  38   79  \n",
       "3     9  37  101  \n",
       "4    12  35   86  \n",
       "6     4  48   93  \n",
       "7    10  43   77  \n",
       "8    12  60   95  \n",
       "9    10  40   97  \n",
       "10    9  45  119  \n",
       "11   13  39   85  \n",
       "12   12  46   93  \n",
       "13   12  45   94  \n",
       "14   15  28  126  \n",
       "15   15  62   96  \n",
       "16   13  54  122  \n",
       "17   21  48  111  \n",
       "18    7  40  116  \n",
       "19    8  35   90  \n",
       "20   14  50   88  \n",
       "21   13  41   90  \n",
       "22   12  35   77  \n",
       "23   10  44   90  \n",
       "24    7  35  117  \n",
       "25   21  47   75  \n",
       "26   18  41   78  \n",
       "27   12  44   86  \n",
       "28    6  41   92  \n",
       "29    4  36   95  "
      ]
     },
     "execution_count": 46,
     "metadata": {},
     "output_type": "execute_result"
    }
   ],
   "source": [
    "df1=df[(z<3).all(axis=1)]\n",
    "df1"
   ]
  },
  {
   "cell_type": "code",
   "execution_count": 47,
   "id": "56eba942",
   "metadata": {},
   "outputs": [
    {
     "data": {
      "text/plain": [
       "(30, 17)"
      ]
     },
     "execution_count": 47,
     "metadata": {},
     "output_type": "execute_result"
    }
   ],
   "source": [
    "df.shape"
   ]
  },
  {
   "cell_type": "markdown",
   "id": "74e1f2a0",
   "metadata": {},
   "source": [
    "There is no outlier"
   ]
  },
  {
   "cell_type": "code",
   "execution_count": 48,
   "id": "8b66b5c3",
   "metadata": {},
   "outputs": [
    {
     "data": {
      "text/html": [
       "<div>\n",
       "<style scoped>\n",
       "    .dataframe tbody tr th:only-of-type {\n",
       "        vertical-align: middle;\n",
       "    }\n",
       "\n",
       "    .dataframe tbody tr th {\n",
       "        vertical-align: top;\n",
       "    }\n",
       "\n",
       "    .dataframe thead th {\n",
       "        text-align: right;\n",
       "    }\n",
       "</style>\n",
       "<table border=\"1\" class=\"dataframe\">\n",
       "  <thead>\n",
       "    <tr style=\"text-align: right;\">\n",
       "      <th></th>\n",
       "      <th>W</th>\n",
       "      <th>R</th>\n",
       "      <th>AB</th>\n",
       "      <th>H</th>\n",
       "      <th>2B</th>\n",
       "      <th>3B</th>\n",
       "      <th>HR</th>\n",
       "      <th>BB</th>\n",
       "      <th>SO</th>\n",
       "      <th>SB</th>\n",
       "      <th>RA</th>\n",
       "      <th>ER</th>\n",
       "      <th>ERA</th>\n",
       "      <th>CG</th>\n",
       "      <th>SHO</th>\n",
       "      <th>SV</th>\n",
       "      <th>E</th>\n",
       "    </tr>\n",
       "  </thead>\n",
       "  <tbody>\n",
       "    <tr>\n",
       "      <th>count</th>\n",
       "      <td>30.000000</td>\n",
       "      <td>30.000000</td>\n",
       "      <td>30.000000</td>\n",
       "      <td>30.000000</td>\n",
       "      <td>30.000000</td>\n",
       "      <td>30.000000</td>\n",
       "      <td>30.000000</td>\n",
       "      <td>30.000000</td>\n",
       "      <td>30.00000</td>\n",
       "      <td>30.000000</td>\n",
       "      <td>30.000000</td>\n",
       "      <td>30.000000</td>\n",
       "      <td>30.000000</td>\n",
       "      <td>30.000000</td>\n",
       "      <td>30.000000</td>\n",
       "      <td>30.000000</td>\n",
       "      <td>30.000000</td>\n",
       "    </tr>\n",
       "    <tr>\n",
       "      <th>mean</th>\n",
       "      <td>80.966667</td>\n",
       "      <td>688.233333</td>\n",
       "      <td>5516.266667</td>\n",
       "      <td>1403.533333</td>\n",
       "      <td>274.733333</td>\n",
       "      <td>31.300000</td>\n",
       "      <td>163.633333</td>\n",
       "      <td>469.100000</td>\n",
       "      <td>1248.20000</td>\n",
       "      <td>83.500000</td>\n",
       "      <td>688.233333</td>\n",
       "      <td>635.833333</td>\n",
       "      <td>3.956333</td>\n",
       "      <td>3.466667</td>\n",
       "      <td>11.300000</td>\n",
       "      <td>43.066667</td>\n",
       "      <td>94.333333</td>\n",
       "    </tr>\n",
       "    <tr>\n",
       "      <th>std</th>\n",
       "      <td>10.453455</td>\n",
       "      <td>58.761754</td>\n",
       "      <td>70.467372</td>\n",
       "      <td>57.140923</td>\n",
       "      <td>18.095405</td>\n",
       "      <td>10.452355</td>\n",
       "      <td>31.823309</td>\n",
       "      <td>57.053725</td>\n",
       "      <td>103.75947</td>\n",
       "      <td>22.815225</td>\n",
       "      <td>72.108005</td>\n",
       "      <td>70.140786</td>\n",
       "      <td>0.454089</td>\n",
       "      <td>2.763473</td>\n",
       "      <td>4.120177</td>\n",
       "      <td>7.869335</td>\n",
       "      <td>13.958889</td>\n",
       "    </tr>\n",
       "    <tr>\n",
       "      <th>min</th>\n",
       "      <td>63.000000</td>\n",
       "      <td>573.000000</td>\n",
       "      <td>5385.000000</td>\n",
       "      <td>1324.000000</td>\n",
       "      <td>236.000000</td>\n",
       "      <td>13.000000</td>\n",
       "      <td>100.000000</td>\n",
       "      <td>375.000000</td>\n",
       "      <td>973.00000</td>\n",
       "      <td>44.000000</td>\n",
       "      <td>525.000000</td>\n",
       "      <td>478.000000</td>\n",
       "      <td>2.940000</td>\n",
       "      <td>0.000000</td>\n",
       "      <td>4.000000</td>\n",
       "      <td>28.000000</td>\n",
       "      <td>75.000000</td>\n",
       "    </tr>\n",
       "    <tr>\n",
       "      <th>25%</th>\n",
       "      <td>74.000000</td>\n",
       "      <td>651.250000</td>\n",
       "      <td>5464.000000</td>\n",
       "      <td>1363.000000</td>\n",
       "      <td>262.250000</td>\n",
       "      <td>23.000000</td>\n",
       "      <td>140.250000</td>\n",
       "      <td>428.250000</td>\n",
       "      <td>1157.50000</td>\n",
       "      <td>69.000000</td>\n",
       "      <td>636.250000</td>\n",
       "      <td>587.250000</td>\n",
       "      <td>3.682500</td>\n",
       "      <td>1.000000</td>\n",
       "      <td>9.000000</td>\n",
       "      <td>37.250000</td>\n",
       "      <td>86.000000</td>\n",
       "    </tr>\n",
       "    <tr>\n",
       "      <th>50%</th>\n",
       "      <td>81.000000</td>\n",
       "      <td>689.000000</td>\n",
       "      <td>5510.000000</td>\n",
       "      <td>1382.500000</td>\n",
       "      <td>275.500000</td>\n",
       "      <td>31.000000</td>\n",
       "      <td>158.500000</td>\n",
       "      <td>473.000000</td>\n",
       "      <td>1261.50000</td>\n",
       "      <td>83.500000</td>\n",
       "      <td>695.500000</td>\n",
       "      <td>644.500000</td>\n",
       "      <td>4.025000</td>\n",
       "      <td>3.000000</td>\n",
       "      <td>12.000000</td>\n",
       "      <td>42.000000</td>\n",
       "      <td>91.000000</td>\n",
       "    </tr>\n",
       "    <tr>\n",
       "      <th>75%</th>\n",
       "      <td>87.750000</td>\n",
       "      <td>718.250000</td>\n",
       "      <td>5570.000000</td>\n",
       "      <td>1451.500000</td>\n",
       "      <td>288.750000</td>\n",
       "      <td>39.000000</td>\n",
       "      <td>177.000000</td>\n",
       "      <td>501.250000</td>\n",
       "      <td>1311.50000</td>\n",
       "      <td>96.500000</td>\n",
       "      <td>732.500000</td>\n",
       "      <td>679.250000</td>\n",
       "      <td>4.220000</td>\n",
       "      <td>5.750000</td>\n",
       "      <td>13.000000</td>\n",
       "      <td>46.750000</td>\n",
       "      <td>96.750000</td>\n",
       "    </tr>\n",
       "    <tr>\n",
       "      <th>max</th>\n",
       "      <td>100.000000</td>\n",
       "      <td>891.000000</td>\n",
       "      <td>5649.000000</td>\n",
       "      <td>1515.000000</td>\n",
       "      <td>308.000000</td>\n",
       "      <td>49.000000</td>\n",
       "      <td>232.000000</td>\n",
       "      <td>570.000000</td>\n",
       "      <td>1518.00000</td>\n",
       "      <td>134.000000</td>\n",
       "      <td>844.000000</td>\n",
       "      <td>799.000000</td>\n",
       "      <td>5.040000</td>\n",
       "      <td>11.000000</td>\n",
       "      <td>21.000000</td>\n",
       "      <td>62.000000</td>\n",
       "      <td>126.000000</td>\n",
       "    </tr>\n",
       "  </tbody>\n",
       "</table>\n",
       "</div>"
      ],
      "text/plain": [
       "                W           R           AB            H          2B  \\\n",
       "count   30.000000   30.000000    30.000000    30.000000   30.000000   \n",
       "mean    80.966667  688.233333  5516.266667  1403.533333  274.733333   \n",
       "std     10.453455   58.761754    70.467372    57.140923   18.095405   \n",
       "min     63.000000  573.000000  5385.000000  1324.000000  236.000000   \n",
       "25%     74.000000  651.250000  5464.000000  1363.000000  262.250000   \n",
       "50%     81.000000  689.000000  5510.000000  1382.500000  275.500000   \n",
       "75%     87.750000  718.250000  5570.000000  1451.500000  288.750000   \n",
       "max    100.000000  891.000000  5649.000000  1515.000000  308.000000   \n",
       "\n",
       "              3B          HR          BB          SO          SB          RA  \\\n",
       "count  30.000000   30.000000   30.000000    30.00000   30.000000   30.000000   \n",
       "mean   31.300000  163.633333  469.100000  1248.20000   83.500000  688.233333   \n",
       "std    10.452355   31.823309   57.053725   103.75947   22.815225   72.108005   \n",
       "min    13.000000  100.000000  375.000000   973.00000   44.000000  525.000000   \n",
       "25%    23.000000  140.250000  428.250000  1157.50000   69.000000  636.250000   \n",
       "50%    31.000000  158.500000  473.000000  1261.50000   83.500000  695.500000   \n",
       "75%    39.000000  177.000000  501.250000  1311.50000   96.500000  732.500000   \n",
       "max    49.000000  232.000000  570.000000  1518.00000  134.000000  844.000000   \n",
       "\n",
       "               ER        ERA         CG        SHO         SV           E  \n",
       "count   30.000000  30.000000  30.000000  30.000000  30.000000   30.000000  \n",
       "mean   635.833333   3.956333   3.466667  11.300000  43.066667   94.333333  \n",
       "std     70.140786   0.454089   2.763473   4.120177   7.869335   13.958889  \n",
       "min    478.000000   2.940000   0.000000   4.000000  28.000000   75.000000  \n",
       "25%    587.250000   3.682500   1.000000   9.000000  37.250000   86.000000  \n",
       "50%    644.500000   4.025000   3.000000  12.000000  42.000000   91.000000  \n",
       "75%    679.250000   4.220000   5.750000  13.000000  46.750000   96.750000  \n",
       "max    799.000000   5.040000  11.000000  21.000000  62.000000  126.000000  "
      ]
     },
     "execution_count": 48,
     "metadata": {},
     "output_type": "execute_result"
    }
   ],
   "source": [
    "df.describe()"
   ]
  },
  {
   "cell_type": "code",
   "execution_count": 49,
   "id": "2be5ac90",
   "metadata": {},
   "outputs": [
    {
     "data": {
      "text/html": [
       "<div>\n",
       "<style scoped>\n",
       "    .dataframe tbody tr th:only-of-type {\n",
       "        vertical-align: middle;\n",
       "    }\n",
       "\n",
       "    .dataframe tbody tr th {\n",
       "        vertical-align: top;\n",
       "    }\n",
       "\n",
       "    .dataframe thead th {\n",
       "        text-align: right;\n",
       "    }\n",
       "</style>\n",
       "<table border=\"1\" class=\"dataframe\">\n",
       "  <thead>\n",
       "    <tr style=\"text-align: right;\">\n",
       "      <th></th>\n",
       "      <th>W</th>\n",
       "      <th>R</th>\n",
       "      <th>AB</th>\n",
       "      <th>H</th>\n",
       "      <th>2B</th>\n",
       "      <th>3B</th>\n",
       "      <th>HR</th>\n",
       "      <th>BB</th>\n",
       "      <th>SO</th>\n",
       "      <th>SB</th>\n",
       "      <th>RA</th>\n",
       "      <th>ER</th>\n",
       "      <th>ERA</th>\n",
       "      <th>CG</th>\n",
       "      <th>SHO</th>\n",
       "      <th>SV</th>\n",
       "      <th>E</th>\n",
       "    </tr>\n",
       "  </thead>\n",
       "  <tbody>\n",
       "    <tr>\n",
       "      <th>W</th>\n",
       "      <td>1.000000</td>\n",
       "      <td>0.390451</td>\n",
       "      <td>-0.085780</td>\n",
       "      <td>-0.018360</td>\n",
       "      <td>0.384886</td>\n",
       "      <td>-0.206737</td>\n",
       "      <td>0.245697</td>\n",
       "      <td>0.447513</td>\n",
       "      <td>0.156469</td>\n",
       "      <td>-0.169503</td>\n",
       "      <td>-0.823176</td>\n",
       "      <td>-0.815308</td>\n",
       "      <td>-0.826952</td>\n",
       "      <td>0.029594</td>\n",
       "      <td>0.497526</td>\n",
       "      <td>0.749290</td>\n",
       "      <td>-0.072858</td>\n",
       "    </tr>\n",
       "    <tr>\n",
       "      <th>R</th>\n",
       "      <td>0.390451</td>\n",
       "      <td>1.000000</td>\n",
       "      <td>0.438022</td>\n",
       "      <td>0.433525</td>\n",
       "      <td>0.469293</td>\n",
       "      <td>0.134204</td>\n",
       "      <td>0.586894</td>\n",
       "      <td>0.258450</td>\n",
       "      <td>0.081158</td>\n",
       "      <td>0.075323</td>\n",
       "      <td>-0.013858</td>\n",
       "      <td>0.007727</td>\n",
       "      <td>-0.009122</td>\n",
       "      <td>0.101438</td>\n",
       "      <td>-0.085108</td>\n",
       "      <td>0.061381</td>\n",
       "      <td>0.043123</td>\n",
       "    </tr>\n",
       "    <tr>\n",
       "      <th>AB</th>\n",
       "      <td>-0.085780</td>\n",
       "      <td>0.438022</td>\n",
       "      <td>1.000000</td>\n",
       "      <td>0.769159</td>\n",
       "      <td>0.490752</td>\n",
       "      <td>0.445604</td>\n",
       "      <td>-0.064653</td>\n",
       "      <td>-0.137850</td>\n",
       "      <td>-0.111243</td>\n",
       "      <td>0.373674</td>\n",
       "      <td>0.315499</td>\n",
       "      <td>0.309146</td>\n",
       "      <td>0.254872</td>\n",
       "      <td>-0.078511</td>\n",
       "      <td>-0.198872</td>\n",
       "      <td>-0.113342</td>\n",
       "      <td>0.316297</td>\n",
       "    </tr>\n",
       "    <tr>\n",
       "      <th>H</th>\n",
       "      <td>-0.018360</td>\n",
       "      <td>0.433525</td>\n",
       "      <td>0.769159</td>\n",
       "      <td>1.000000</td>\n",
       "      <td>0.528016</td>\n",
       "      <td>0.582024</td>\n",
       "      <td>-0.218711</td>\n",
       "      <td>-0.222271</td>\n",
       "      <td>-0.371861</td>\n",
       "      <td>0.417877</td>\n",
       "      <td>0.244606</td>\n",
       "      <td>0.280571</td>\n",
       "      <td>0.256458</td>\n",
       "      <td>0.092577</td>\n",
       "      <td>-0.135116</td>\n",
       "      <td>-0.079814</td>\n",
       "      <td>-0.011945</td>\n",
       "    </tr>\n",
       "    <tr>\n",
       "      <th>2B</th>\n",
       "      <td>0.384886</td>\n",
       "      <td>0.469293</td>\n",
       "      <td>0.490752</td>\n",
       "      <td>0.528016</td>\n",
       "      <td>1.000000</td>\n",
       "      <td>0.342419</td>\n",
       "      <td>-0.098695</td>\n",
       "      <td>0.211243</td>\n",
       "      <td>-0.096772</td>\n",
       "      <td>0.194308</td>\n",
       "      <td>-0.215196</td>\n",
       "      <td>-0.224993</td>\n",
       "      <td>-0.248212</td>\n",
       "      <td>0.244856</td>\n",
       "      <td>0.084060</td>\n",
       "      <td>0.269999</td>\n",
       "      <td>0.145032</td>\n",
       "    </tr>\n",
       "    <tr>\n",
       "      <th>3B</th>\n",
       "      <td>-0.206737</td>\n",
       "      <td>0.134204</td>\n",
       "      <td>0.445604</td>\n",
       "      <td>0.582024</td>\n",
       "      <td>0.342419</td>\n",
       "      <td>1.000000</td>\n",
       "      <td>-0.369299</td>\n",
       "      <td>-0.404852</td>\n",
       "      <td>-0.196586</td>\n",
       "      <td>0.483818</td>\n",
       "      <td>0.312750</td>\n",
       "      <td>0.333731</td>\n",
       "      <td>0.325883</td>\n",
       "      <td>-0.003733</td>\n",
       "      <td>-0.058896</td>\n",
       "      <td>-0.210627</td>\n",
       "      <td>0.108610</td>\n",
       "    </tr>\n",
       "    <tr>\n",
       "      <th>HR</th>\n",
       "      <td>0.245697</td>\n",
       "      <td>0.586894</td>\n",
       "      <td>-0.064653</td>\n",
       "      <td>-0.218711</td>\n",
       "      <td>-0.098695</td>\n",
       "      <td>-0.369299</td>\n",
       "      <td>1.000000</td>\n",
       "      <td>0.336814</td>\n",
       "      <td>0.479914</td>\n",
       "      <td>-0.166072</td>\n",
       "      <td>-0.092586</td>\n",
       "      <td>-0.062094</td>\n",
       "      <td>-0.070756</td>\n",
       "      <td>0.065978</td>\n",
       "      <td>0.005546</td>\n",
       "      <td>0.066984</td>\n",
       "      <td>-0.189790</td>\n",
       "    </tr>\n",
       "    <tr>\n",
       "      <th>BB</th>\n",
       "      <td>0.447513</td>\n",
       "      <td>0.258450</td>\n",
       "      <td>-0.137850</td>\n",
       "      <td>-0.222271</td>\n",
       "      <td>0.211243</td>\n",
       "      <td>-0.404852</td>\n",
       "      <td>0.336814</td>\n",
       "      <td>1.000000</td>\n",
       "      <td>0.315566</td>\n",
       "      <td>-0.117622</td>\n",
       "      <td>-0.425381</td>\n",
       "      <td>-0.455832</td>\n",
       "      <td>-0.465794</td>\n",
       "      <td>0.417437</td>\n",
       "      <td>0.473922</td>\n",
       "      <td>0.187101</td>\n",
       "      <td>-0.050114</td>\n",
       "    </tr>\n",
       "    <tr>\n",
       "      <th>SO</th>\n",
       "      <td>0.156469</td>\n",
       "      <td>0.081158</td>\n",
       "      <td>-0.111243</td>\n",
       "      <td>-0.371861</td>\n",
       "      <td>-0.096772</td>\n",
       "      <td>-0.196586</td>\n",
       "      <td>0.479914</td>\n",
       "      <td>0.315566</td>\n",
       "      <td>1.000000</td>\n",
       "      <td>0.038188</td>\n",
       "      <td>-0.140570</td>\n",
       "      <td>-0.177655</td>\n",
       "      <td>-0.195362</td>\n",
       "      <td>-0.053075</td>\n",
       "      <td>0.231230</td>\n",
       "      <td>0.091394</td>\n",
       "      <td>0.142740</td>\n",
       "    </tr>\n",
       "    <tr>\n",
       "      <th>SB</th>\n",
       "      <td>-0.169503</td>\n",
       "      <td>0.075323</td>\n",
       "      <td>0.373674</td>\n",
       "      <td>0.417877</td>\n",
       "      <td>0.194308</td>\n",
       "      <td>0.483818</td>\n",
       "      <td>-0.166072</td>\n",
       "      <td>-0.117622</td>\n",
       "      <td>0.038188</td>\n",
       "      <td>1.000000</td>\n",
       "      <td>0.134315</td>\n",
       "      <td>0.146243</td>\n",
       "      <td>0.128848</td>\n",
       "      <td>-0.030708</td>\n",
       "      <td>-0.104602</td>\n",
       "      <td>-0.179741</td>\n",
       "      <td>0.082702</td>\n",
       "    </tr>\n",
       "    <tr>\n",
       "      <th>RA</th>\n",
       "      <td>-0.823176</td>\n",
       "      <td>-0.013858</td>\n",
       "      <td>0.315499</td>\n",
       "      <td>0.244606</td>\n",
       "      <td>-0.215196</td>\n",
       "      <td>0.312750</td>\n",
       "      <td>-0.092586</td>\n",
       "      <td>-0.425381</td>\n",
       "      <td>-0.140570</td>\n",
       "      <td>0.134315</td>\n",
       "      <td>1.000000</td>\n",
       "      <td>0.991286</td>\n",
       "      <td>0.986781</td>\n",
       "      <td>-0.005288</td>\n",
       "      <td>-0.641579</td>\n",
       "      <td>-0.642734</td>\n",
       "      <td>0.195846</td>\n",
       "    </tr>\n",
       "    <tr>\n",
       "      <th>ER</th>\n",
       "      <td>-0.815308</td>\n",
       "      <td>0.007727</td>\n",
       "      <td>0.309146</td>\n",
       "      <td>0.280571</td>\n",
       "      <td>-0.224993</td>\n",
       "      <td>0.333731</td>\n",
       "      <td>-0.062094</td>\n",
       "      <td>-0.455832</td>\n",
       "      <td>-0.177655</td>\n",
       "      <td>0.146243</td>\n",
       "      <td>0.991286</td>\n",
       "      <td>1.000000</td>\n",
       "      <td>0.997261</td>\n",
       "      <td>-0.002865</td>\n",
       "      <td>-0.637293</td>\n",
       "      <td>-0.621875</td>\n",
       "      <td>0.131556</td>\n",
       "    </tr>\n",
       "    <tr>\n",
       "      <th>ERA</th>\n",
       "      <td>-0.826952</td>\n",
       "      <td>-0.009122</td>\n",
       "      <td>0.254872</td>\n",
       "      <td>0.256458</td>\n",
       "      <td>-0.248212</td>\n",
       "      <td>0.325883</td>\n",
       "      <td>-0.070756</td>\n",
       "      <td>-0.465794</td>\n",
       "      <td>-0.195362</td>\n",
       "      <td>0.128848</td>\n",
       "      <td>0.986781</td>\n",
       "      <td>0.997261</td>\n",
       "      <td>1.000000</td>\n",
       "      <td>0.006038</td>\n",
       "      <td>-0.637186</td>\n",
       "      <td>-0.637755</td>\n",
       "      <td>0.108191</td>\n",
       "    </tr>\n",
       "    <tr>\n",
       "      <th>CG</th>\n",
       "      <td>0.029594</td>\n",
       "      <td>0.101438</td>\n",
       "      <td>-0.078511</td>\n",
       "      <td>0.092577</td>\n",
       "      <td>0.244856</td>\n",
       "      <td>-0.003733</td>\n",
       "      <td>0.065978</td>\n",
       "      <td>0.417437</td>\n",
       "      <td>-0.053075</td>\n",
       "      <td>-0.030708</td>\n",
       "      <td>-0.005288</td>\n",
       "      <td>-0.002865</td>\n",
       "      <td>0.006038</td>\n",
       "      <td>1.000000</td>\n",
       "      <td>0.264346</td>\n",
       "      <td>-0.332806</td>\n",
       "      <td>-0.123447</td>\n",
       "    </tr>\n",
       "    <tr>\n",
       "      <th>SHO</th>\n",
       "      <td>0.497526</td>\n",
       "      <td>-0.085108</td>\n",
       "      <td>-0.198872</td>\n",
       "      <td>-0.135116</td>\n",
       "      <td>0.084060</td>\n",
       "      <td>-0.058896</td>\n",
       "      <td>0.005546</td>\n",
       "      <td>0.473922</td>\n",
       "      <td>0.231230</td>\n",
       "      <td>-0.104602</td>\n",
       "      <td>-0.641579</td>\n",
       "      <td>-0.637293</td>\n",
       "      <td>-0.637186</td>\n",
       "      <td>0.264346</td>\n",
       "      <td>1.000000</td>\n",
       "      <td>0.214175</td>\n",
       "      <td>-0.121484</td>\n",
       "    </tr>\n",
       "    <tr>\n",
       "      <th>SV</th>\n",
       "      <td>0.749290</td>\n",
       "      <td>0.061381</td>\n",
       "      <td>-0.113342</td>\n",
       "      <td>-0.079814</td>\n",
       "      <td>0.269999</td>\n",
       "      <td>-0.210627</td>\n",
       "      <td>0.066984</td>\n",
       "      <td>0.187101</td>\n",
       "      <td>0.091394</td>\n",
       "      <td>-0.179741</td>\n",
       "      <td>-0.642734</td>\n",
       "      <td>-0.621875</td>\n",
       "      <td>-0.637755</td>\n",
       "      <td>-0.332806</td>\n",
       "      <td>0.214175</td>\n",
       "      <td>1.000000</td>\n",
       "      <td>-0.045539</td>\n",
       "    </tr>\n",
       "    <tr>\n",
       "      <th>E</th>\n",
       "      <td>-0.072858</td>\n",
       "      <td>0.043123</td>\n",
       "      <td>0.316297</td>\n",
       "      <td>-0.011945</td>\n",
       "      <td>0.145032</td>\n",
       "      <td>0.108610</td>\n",
       "      <td>-0.189790</td>\n",
       "      <td>-0.050114</td>\n",
       "      <td>0.142740</td>\n",
       "      <td>0.082702</td>\n",
       "      <td>0.195846</td>\n",
       "      <td>0.131556</td>\n",
       "      <td>0.108191</td>\n",
       "      <td>-0.123447</td>\n",
       "      <td>-0.121484</td>\n",
       "      <td>-0.045539</td>\n",
       "      <td>1.000000</td>\n",
       "    </tr>\n",
       "  </tbody>\n",
       "</table>\n",
       "</div>"
      ],
      "text/plain": [
       "            W         R        AB         H        2B        3B        HR  \\\n",
       "W    1.000000  0.390451 -0.085780 -0.018360  0.384886 -0.206737  0.245697   \n",
       "R    0.390451  1.000000  0.438022  0.433525  0.469293  0.134204  0.586894   \n",
       "AB  -0.085780  0.438022  1.000000  0.769159  0.490752  0.445604 -0.064653   \n",
       "H   -0.018360  0.433525  0.769159  1.000000  0.528016  0.582024 -0.218711   \n",
       "2B   0.384886  0.469293  0.490752  0.528016  1.000000  0.342419 -0.098695   \n",
       "3B  -0.206737  0.134204  0.445604  0.582024  0.342419  1.000000 -0.369299   \n",
       "HR   0.245697  0.586894 -0.064653 -0.218711 -0.098695 -0.369299  1.000000   \n",
       "BB   0.447513  0.258450 -0.137850 -0.222271  0.211243 -0.404852  0.336814   \n",
       "SO   0.156469  0.081158 -0.111243 -0.371861 -0.096772 -0.196586  0.479914   \n",
       "SB  -0.169503  0.075323  0.373674  0.417877  0.194308  0.483818 -0.166072   \n",
       "RA  -0.823176 -0.013858  0.315499  0.244606 -0.215196  0.312750 -0.092586   \n",
       "ER  -0.815308  0.007727  0.309146  0.280571 -0.224993  0.333731 -0.062094   \n",
       "ERA -0.826952 -0.009122  0.254872  0.256458 -0.248212  0.325883 -0.070756   \n",
       "CG   0.029594  0.101438 -0.078511  0.092577  0.244856 -0.003733  0.065978   \n",
       "SHO  0.497526 -0.085108 -0.198872 -0.135116  0.084060 -0.058896  0.005546   \n",
       "SV   0.749290  0.061381 -0.113342 -0.079814  0.269999 -0.210627  0.066984   \n",
       "E   -0.072858  0.043123  0.316297 -0.011945  0.145032  0.108610 -0.189790   \n",
       "\n",
       "           BB        SO        SB        RA        ER       ERA        CG  \\\n",
       "W    0.447513  0.156469 -0.169503 -0.823176 -0.815308 -0.826952  0.029594   \n",
       "R    0.258450  0.081158  0.075323 -0.013858  0.007727 -0.009122  0.101438   \n",
       "AB  -0.137850 -0.111243  0.373674  0.315499  0.309146  0.254872 -0.078511   \n",
       "H   -0.222271 -0.371861  0.417877  0.244606  0.280571  0.256458  0.092577   \n",
       "2B   0.211243 -0.096772  0.194308 -0.215196 -0.224993 -0.248212  0.244856   \n",
       "3B  -0.404852 -0.196586  0.483818  0.312750  0.333731  0.325883 -0.003733   \n",
       "HR   0.336814  0.479914 -0.166072 -0.092586 -0.062094 -0.070756  0.065978   \n",
       "BB   1.000000  0.315566 -0.117622 -0.425381 -0.455832 -0.465794  0.417437   \n",
       "SO   0.315566  1.000000  0.038188 -0.140570 -0.177655 -0.195362 -0.053075   \n",
       "SB  -0.117622  0.038188  1.000000  0.134315  0.146243  0.128848 -0.030708   \n",
       "RA  -0.425381 -0.140570  0.134315  1.000000  0.991286  0.986781 -0.005288   \n",
       "ER  -0.455832 -0.177655  0.146243  0.991286  1.000000  0.997261 -0.002865   \n",
       "ERA -0.465794 -0.195362  0.128848  0.986781  0.997261  1.000000  0.006038   \n",
       "CG   0.417437 -0.053075 -0.030708 -0.005288 -0.002865  0.006038  1.000000   \n",
       "SHO  0.473922  0.231230 -0.104602 -0.641579 -0.637293 -0.637186  0.264346   \n",
       "SV   0.187101  0.091394 -0.179741 -0.642734 -0.621875 -0.637755 -0.332806   \n",
       "E   -0.050114  0.142740  0.082702  0.195846  0.131556  0.108191 -0.123447   \n",
       "\n",
       "          SHO        SV         E  \n",
       "W    0.497526  0.749290 -0.072858  \n",
       "R   -0.085108  0.061381  0.043123  \n",
       "AB  -0.198872 -0.113342  0.316297  \n",
       "H   -0.135116 -0.079814 -0.011945  \n",
       "2B   0.084060  0.269999  0.145032  \n",
       "3B  -0.058896 -0.210627  0.108610  \n",
       "HR   0.005546  0.066984 -0.189790  \n",
       "BB   0.473922  0.187101 -0.050114  \n",
       "SO   0.231230  0.091394  0.142740  \n",
       "SB  -0.104602 -0.179741  0.082702  \n",
       "RA  -0.641579 -0.642734  0.195846  \n",
       "ER  -0.637293 -0.621875  0.131556  \n",
       "ERA -0.637186 -0.637755  0.108191  \n",
       "CG   0.264346 -0.332806 -0.123447  \n",
       "SHO  1.000000  0.214175 -0.121484  \n",
       "SV   0.214175  1.000000 -0.045539  \n",
       "E   -0.121484 -0.045539  1.000000  "
      ]
     },
     "execution_count": 49,
     "metadata": {},
     "output_type": "execute_result"
    }
   ],
   "source": [
    "df1.corr()"
   ]
  },
  {
   "cell_type": "code",
   "execution_count": 50,
   "id": "4683905a",
   "metadata": {},
   "outputs": [
    {
     "data": {
      "text/plain": [
       "<AxesSubplot:>"
      ]
     },
     "execution_count": 50,
     "metadata": {},
     "output_type": "execute_result"
    },
    {
     "data": {
      "image/png": "[encoded data removed]",
      "text/plain": [
       "<Figure size 1584x504 with 2 Axes>"
      ]
     },
     "metadata": {
      "needs_background": "light"
     },
     "output_type": "display_data"
    }
   ],
   "source": [
    "plt.figure(figsize=(22,7))\n",
    "sn.heatmap(df1.corr(),cmap='Blues',linewidths=0.1,linecolor=\"black\",annot=True)"
   ]
  },
  {
   "cell_type": "markdown",
   "id": "1592f9db",
   "metadata": {},
   "source": [
    "There are are high corelation between ER and ERA with win"
   ]
  },
  {
   "cell_type": "code",
   "execution_count": 51,
   "id": "291b29bd",
   "metadata": {},
   "outputs": [
    {
     "data": {
      "text/html": [
       "<div>\n",
       "<style scoped>\n",
       "    .dataframe tbody tr th:only-of-type {\n",
       "        vertical-align: middle;\n",
       "    }\n",
       "\n",
       "    .dataframe tbody tr th {\n",
       "        vertical-align: top;\n",
       "    }\n",
       "\n",
       "    .dataframe thead th {\n",
       "        text-align: right;\n",
       "    }\n",
       "</style>\n",
       "<table border=\"1\" class=\"dataframe\">\n",
       "  <thead>\n",
       "    <tr style=\"text-align: right;\">\n",
       "      <th></th>\n",
       "      <th>R</th>\n",
       "      <th>AB</th>\n",
       "      <th>H</th>\n",
       "      <th>2B</th>\n",
       "      <th>3B</th>\n",
       "      <th>HR</th>\n",
       "      <th>BB</th>\n",
       "      <th>SO</th>\n",
       "      <th>SB</th>\n",
       "      <th>RA</th>\n",
       "      <th>ER</th>\n",
       "      <th>ERA</th>\n",
       "      <th>CG</th>\n",
       "      <th>SHO</th>\n",
       "      <th>SV</th>\n",
       "      <th>E</th>\n",
       "    </tr>\n",
       "  </thead>\n",
       "  <tbody>\n",
       "    <tr>\n",
       "      <th>0</th>\n",
       "      <td>724</td>\n",
       "      <td>5575</td>\n",
       "      <td>1497</td>\n",
       "      <td>300</td>\n",
       "      <td>42</td>\n",
       "      <td>139</td>\n",
       "      <td>383</td>\n",
       "      <td>973</td>\n",
       "      <td>104</td>\n",
       "      <td>641</td>\n",
       "      <td>601</td>\n",
       "      <td>3.73</td>\n",
       "      <td>2</td>\n",
       "      <td>8</td>\n",
       "      <td>56</td>\n",
       "      <td>88</td>\n",
       "    </tr>\n",
       "    <tr>\n",
       "      <th>1</th>\n",
       "      <td>696</td>\n",
       "      <td>5467</td>\n",
       "      <td>1349</td>\n",
       "      <td>277</td>\n",
       "      <td>44</td>\n",
       "      <td>156</td>\n",
       "      <td>439</td>\n",
       "      <td>1264</td>\n",
       "      <td>70</td>\n",
       "      <td>700</td>\n",
       "      <td>653</td>\n",
       "      <td>4.07</td>\n",
       "      <td>2</td>\n",
       "      <td>12</td>\n",
       "      <td>45</td>\n",
       "      <td>86</td>\n",
       "    </tr>\n",
       "    <tr>\n",
       "      <th>2</th>\n",
       "      <td>669</td>\n",
       "      <td>5439</td>\n",
       "      <td>1395</td>\n",
       "      <td>303</td>\n",
       "      <td>29</td>\n",
       "      <td>141</td>\n",
       "      <td>533</td>\n",
       "      <td>1157</td>\n",
       "      <td>86</td>\n",
       "      <td>640</td>\n",
       "      <td>584</td>\n",
       "      <td>3.67</td>\n",
       "      <td>11</td>\n",
       "      <td>10</td>\n",
       "      <td>38</td>\n",
       "      <td>79</td>\n",
       "    </tr>\n",
       "    <tr>\n",
       "      <th>3</th>\n",
       "      <td>622</td>\n",
       "      <td>5533</td>\n",
       "      <td>1381</td>\n",
       "      <td>260</td>\n",
       "      <td>27</td>\n",
       "      <td>136</td>\n",
       "      <td>404</td>\n",
       "      <td>1231</td>\n",
       "      <td>68</td>\n",
       "      <td>701</td>\n",
       "      <td>643</td>\n",
       "      <td>3.98</td>\n",
       "      <td>7</td>\n",
       "      <td>9</td>\n",
       "      <td>37</td>\n",
       "      <td>101</td>\n",
       "    </tr>\n",
       "    <tr>\n",
       "      <th>4</th>\n",
       "      <td>689</td>\n",
       "      <td>5605</td>\n",
       "      <td>1515</td>\n",
       "      <td>289</td>\n",
       "      <td>49</td>\n",
       "      <td>151</td>\n",
       "      <td>455</td>\n",
       "      <td>1259</td>\n",
       "      <td>83</td>\n",
       "      <td>803</td>\n",
       "      <td>746</td>\n",
       "      <td>4.64</td>\n",
       "      <td>7</td>\n",
       "      <td>12</td>\n",
       "      <td>35</td>\n",
       "      <td>86</td>\n",
       "    </tr>\n",
       "  </tbody>\n",
       "</table>\n",
       "</div>"
      ],
      "text/plain": [
       "     R    AB     H   2B  3B   HR   BB    SO   SB   RA   ER   ERA  CG  SHO  SV  \\\n",
       "0  724  5575  1497  300  42  139  383   973  104  641  601  3.73   2    8  56   \n",
       "1  696  5467  1349  277  44  156  439  1264   70  700  653  4.07   2   12  45   \n",
       "2  669  5439  1395  303  29  141  533  1157   86  640  584  3.67  11   10  38   \n",
       "3  622  5533  1381  260  27  136  404  1231   68  701  643  3.98   7    9  37   \n",
       "4  689  5605  1515  289  49  151  455  1259   83  803  746  4.64   7   12  35   \n",
       "\n",
       "     E  \n",
       "0   88  \n",
       "1   86  \n",
       "2   79  \n",
       "3  101  \n",
       "4   86  "
      ]
     },
     "execution_count": 51,
     "metadata": {},
     "output_type": "execute_result"
    }
   ],
   "source": [
    "x=df.iloc[:,1:17]\n",
    "x.head()"
   ]
  },
  {
   "cell_type": "code",
   "execution_count": 52,
   "id": "14d763e3",
   "metadata": {},
   "outputs": [
    {
     "data": {
      "text/plain": [
       "0    95\n",
       "1    83\n",
       "2    81\n",
       "3    76\n",
       "4    74\n",
       "Name: W, dtype: int64"
      ]
     },
     "execution_count": 52,
     "metadata": {},
     "output_type": "execute_result"
    }
   ],
   "source": [
    "y=df.iloc[:,0]\n",
    "y.head()"
   ]
  },
  {
   "cell_type": "code",
   "execution_count": 53,
   "id": "a82dd787",
   "metadata": {},
   "outputs": [],
   "source": [
    "from sklearn.linear_model import LogisticRegression\n",
    "from sklearn.ensemble import RandomForestClassifier\n",
    "from sklearn.svm import SVC\n",
    "from sklearn.tree import DecisionTreeClassifier\n",
    "from sklearn.neighbors import KNeighborsClassifier"
   ]
  },
  {
   "cell_type": "code",
   "execution_count": 54,
   "id": "9155c41e",
   "metadata": {},
   "outputs": [],
   "source": [
    "lg=LogisticRegression()"
   ]
  },
  {
   "cell_type": "code",
   "execution_count": 56,
   "id": "aa98cad3",
   "metadata": {},
   "outputs": [
    {
     "name": "stdout",
     "output_type": "stream",
     "text": [
      "At random state 0,the training accuracy is:- 1.0\n",
      "At random state 0,the testing accuracy is:- 0.0\n",
      "\n",
      "\n",
      "At random state 1,the training accuracy is:- 1.0\n",
      "At random state 1,the testing accuracy is:- 0.0\n",
      "\n",
      "\n",
      "At random state 2,the training accuracy is:- 1.0\n",
      "At random state 2,the testing accuracy is:- 0.0\n",
      "\n",
      "\n",
      "At random state 3,the training accuracy is:- 1.0\n",
      "At random state 3,the testing accuracy is:- 0.0\n",
      "\n",
      "\n",
      "At random state 4,the training accuracy is:- 1.0\n",
      "At random state 4,the testing accuracy is:- 0.0\n",
      "\n",
      "\n",
      "At random state 5,the training accuracy is:- 1.0\n",
      "At random state 5,the testing accuracy is:- 0.0\n",
      "\n",
      "\n",
      "At random state 6,the training accuracy is:- 1.0\n",
      "At random state 6,the testing accuracy is:- 0.0\n",
      "\n",
      "\n",
      "At random state 7,the training accuracy is:- 1.0\n",
      "At random state 7,the testing accuracy is:- 0.0\n",
      "\n",
      "\n",
      "At random state 8,the training accuracy is:- 1.0\n",
      "At random state 8,the testing accuracy is:- 0.0\n",
      "\n",
      "\n",
      "At random state 9,the training accuracy is:- 1.0\n",
      "At random state 9,the testing accuracy is:- 0.0\n",
      "\n",
      "\n",
      "At random state 10,the training accuracy is:- 1.0\n",
      "At random state 10,the testing accuracy is:- 0.0\n",
      "\n",
      "\n",
      "At random state 11,the training accuracy is:- 1.0\n",
      "At random state 11,the testing accuracy is:- 0.0\n",
      "\n",
      "\n",
      "At random state 12,the training accuracy is:- 1.0\n",
      "At random state 12,the testing accuracy is:- 0.0\n",
      "\n",
      "\n",
      "At random state 13,the training accuracy is:- 1.0\n",
      "At random state 13,the testing accuracy is:- 0.0\n",
      "\n",
      "\n",
      "At random state 14,the training accuracy is:- 1.0\n",
      "At random state 14,the testing accuracy is:- 0.0\n",
      "\n",
      "\n",
      "At random state 15,the training accuracy is:- 1.0\n",
      "At random state 15,the testing accuracy is:- 0.0\n",
      "\n",
      "\n",
      "At random state 16,the training accuracy is:- 1.0\n",
      "At random state 16,the testing accuracy is:- 0.0\n",
      "\n",
      "\n",
      "At random state 17,the training accuracy is:- 1.0\n",
      "At random state 17,the testing accuracy is:- 0.0\n",
      "\n",
      "\n",
      "At random state 18,the training accuracy is:- 1.0\n",
      "At random state 18,the testing accuracy is:- 0.0\n",
      "\n",
      "\n",
      "At random state 19,the training accuracy is:- 1.0\n",
      "At random state 19,the testing accuracy is:- 0.0\n",
      "\n",
      "\n",
      "At random state 20,the training accuracy is:- 1.0\n",
      "At random state 20,the testing accuracy is:- 0.0\n",
      "\n",
      "\n",
      "At random state 21,the training accuracy is:- 1.0\n",
      "At random state 21,the testing accuracy is:- 0.0\n",
      "\n",
      "\n",
      "At random state 22,the training accuracy is:- 1.0\n",
      "At random state 22,the testing accuracy is:- 0.0\n",
      "\n",
      "\n",
      "At random state 23,the training accuracy is:- 1.0\n",
      "At random state 23,the testing accuracy is:- 0.0\n",
      "\n",
      "\n",
      "At random state 24,the training accuracy is:- 1.0\n",
      "At random state 24,the testing accuracy is:- 0.0\n",
      "\n",
      "\n",
      "At random state 25,the training accuracy is:- 1.0\n",
      "At random state 25,the testing accuracy is:- 0.0\n",
      "\n",
      "\n",
      "At random state 26,the training accuracy is:- 1.0\n",
      "At random state 26,the testing accuracy is:- 0.0\n",
      "\n",
      "\n",
      "At random state 27,the training accuracy is:- 1.0\n",
      "At random state 27,the testing accuracy is:- 0.0\n",
      "\n",
      "\n",
      "At random state 28,the training accuracy is:- 1.0\n",
      "At random state 28,the testing accuracy is:- 0.0\n",
      "\n",
      "\n",
      "At random state 29,the training accuracy is:- 1.0\n",
      "At random state 29,the testing accuracy is:- 0.0\n",
      "\n",
      "\n",
      "At random state 30,the training accuracy is:- 1.0\n",
      "At random state 30,the testing accuracy is:- 0.0\n",
      "\n",
      "\n",
      "At random state 31,the training accuracy is:- 0.9583333333333334\n",
      "At random state 31,the testing accuracy is:- 0.0\n",
      "\n",
      "\n",
      "At random state 32,the training accuracy is:- 1.0\n",
      "At random state 32,the testing accuracy is:- 0.0\n",
      "\n",
      "\n",
      "At random state 33,the training accuracy is:- 1.0\n",
      "At random state 33,the testing accuracy is:- 0.16666666666666666\n",
      "\n",
      "\n",
      "At random state 34,the training accuracy is:- 1.0\n",
      "At random state 34,the testing accuracy is:- 0.0\n",
      "\n",
      "\n",
      "At random state 35,the training accuracy is:- 1.0\n",
      "At random state 35,the testing accuracy is:- 0.0\n",
      "\n",
      "\n",
      "At random state 36,the training accuracy is:- 1.0\n",
      "At random state 36,the testing accuracy is:- 0.0\n",
      "\n",
      "\n",
      "At random state 37,the training accuracy is:- 1.0\n",
      "At random state 37,the testing accuracy is:- 0.0\n",
      "\n",
      "\n",
      "At random state 38,the training accuracy is:- 1.0\n",
      "At random state 38,the testing accuracy is:- 0.0\n",
      "\n",
      "\n",
      "At random state 39,the training accuracy is:- 1.0\n",
      "At random state 39,the testing accuracy is:- 0.0\n",
      "\n",
      "\n",
      "At random state 40,the training accuracy is:- 1.0\n",
      "At random state 40,the testing accuracy is:- 0.0\n",
      "\n",
      "\n",
      "At random state 41,the training accuracy is:- 1.0\n",
      "At random state 41,the testing accuracy is:- 0.0\n",
      "\n",
      "\n",
      "At random state 42,the training accuracy is:- 1.0\n",
      "At random state 42,the testing accuracy is:- 0.0\n",
      "\n",
      "\n",
      "At random state 43,the training accuracy is:- 0.9583333333333334\n",
      "At random state 43,the testing accuracy is:- 0.0\n",
      "\n",
      "\n",
      "At random state 44,the training accuracy is:- 1.0\n",
      "At random state 44,the testing accuracy is:- 0.0\n",
      "\n",
      "\n",
      "At random state 45,the training accuracy is:- 1.0\n",
      "At random state 45,the testing accuracy is:- 0.0\n",
      "\n",
      "\n",
      "At random state 46,the training accuracy is:- 1.0\n",
      "At random state 46,the testing accuracy is:- 0.0\n",
      "\n",
      "\n",
      "At random state 47,the training accuracy is:- 1.0\n",
      "At random state 47,the testing accuracy is:- 0.0\n",
      "\n",
      "\n",
      "At random state 48,the training accuracy is:- 1.0\n",
      "At random state 48,the testing accuracy is:- 0.0\n",
      "\n",
      "\n",
      "At random state 49,the training accuracy is:- 1.0\n",
      "At random state 49,the testing accuracy is:- 0.0\n",
      "\n",
      "\n",
      "At random state 50,the training accuracy is:- 1.0\n",
      "At random state 50,the testing accuracy is:- 0.0\n",
      "\n",
      "\n",
      "At random state 51,the training accuracy is:- 1.0\n",
      "At random state 51,the testing accuracy is:- 0.0\n",
      "\n",
      "\n",
      "At random state 52,the training accuracy is:- 1.0\n",
      "At random state 52,the testing accuracy is:- 0.0\n",
      "\n",
      "\n",
      "At random state 53,the training accuracy is:- 1.0\n",
      "At random state 53,the testing accuracy is:- 0.0\n",
      "\n",
      "\n",
      "At random state 54,the training accuracy is:- 1.0\n",
      "At random state 54,the testing accuracy is:- 0.0\n",
      "\n",
      "\n",
      "At random state 55,the training accuracy is:- 1.0\n",
      "At random state 55,the testing accuracy is:- 0.0\n",
      "\n",
      "\n",
      "At random state 56,the training accuracy is:- 1.0\n",
      "At random state 56,the testing accuracy is:- 0.0\n",
      "\n",
      "\n",
      "At random state 57,the training accuracy is:- 1.0\n",
      "At random state 57,the testing accuracy is:- 0.0\n",
      "\n",
      "\n",
      "At random state 58,the training accuracy is:- 1.0\n",
      "At random state 58,the testing accuracy is:- 0.0\n",
      "\n",
      "\n",
      "At random state 59,the training accuracy is:- 1.0\n",
      "At random state 59,the testing accuracy is:- 0.0\n",
      "\n",
      "\n",
      "At random state 60,the training accuracy is:- 1.0\n",
      "At random state 60,the testing accuracy is:- 0.0\n",
      "\n",
      "\n",
      "At random state 61,the training accuracy is:- 1.0\n",
      "At random state 61,the testing accuracy is:- 0.0\n",
      "\n",
      "\n",
      "At random state 62,the training accuracy is:- 1.0\n",
      "At random state 62,the testing accuracy is:- 0.0\n",
      "\n",
      "\n",
      "At random state 63,the training accuracy is:- 1.0\n",
      "At random state 63,the testing accuracy is:- 0.0\n",
      "\n",
      "\n",
      "At random state 64,the training accuracy is:- 1.0\n",
      "At random state 64,the testing accuracy is:- 0.0\n",
      "\n",
      "\n",
      "At random state 65,the training accuracy is:- 1.0\n",
      "At random state 65,the testing accuracy is:- 0.0\n",
      "\n",
      "\n",
      "At random state 66,the training accuracy is:- 1.0\n",
      "At random state 66,the testing accuracy is:- 0.0\n",
      "\n",
      "\n",
      "At random state 67,the training accuracy is:- 1.0\n",
      "At random state 67,the testing accuracy is:- 0.0\n",
      "\n",
      "\n",
      "At random state 68,the training accuracy is:- 1.0\n",
      "At random state 68,the testing accuracy is:- 0.16666666666666666\n",
      "\n",
      "\n",
      "At random state 69,the training accuracy is:- 1.0\n",
      "At random state 69,the testing accuracy is:- 0.0\n",
      "\n",
      "\n",
      "At random state 70,the training accuracy is:- 1.0\n",
      "At random state 70,the testing accuracy is:- 0.0\n",
      "\n",
      "\n",
      "At random state 71,the training accuracy is:- 1.0\n",
      "At random state 71,the testing accuracy is:- 0.0\n",
      "\n",
      "\n",
      "At random state 72,the training accuracy is:- 1.0\n",
      "At random state 72,the testing accuracy is:- 0.0\n",
      "\n",
      "\n",
      "At random state 73,the training accuracy is:- 1.0\n",
      "At random state 73,the testing accuracy is:- 0.0\n",
      "\n",
      "\n",
      "At random state 74,the training accuracy is:- 1.0\n",
      "At random state 74,the testing accuracy is:- 0.0\n",
      "\n",
      "\n",
      "At random state 75,the training accuracy is:- 1.0\n",
      "At random state 75,the testing accuracy is:- 0.0\n",
      "\n",
      "\n",
      "At random state 76,the training accuracy is:- 1.0\n",
      "At random state 76,the testing accuracy is:- 0.0\n",
      "\n",
      "\n",
      "At random state 77,the training accuracy is:- 1.0\n",
      "At random state 77,the testing accuracy is:- 0.0\n",
      "\n",
      "\n",
      "At random state 78,the training accuracy is:- 1.0\n",
      "At random state 78,the testing accuracy is:- 0.0\n",
      "\n",
      "\n",
      "At random state 79,the training accuracy is:- 1.0\n",
      "At random state 79,the testing accuracy is:- 0.0\n",
      "\n",
      "\n",
      "At random state 80,the training accuracy is:- 1.0\n",
      "At random state 80,the testing accuracy is:- 0.0\n",
      "\n",
      "\n",
      "At random state 81,the training accuracy is:- 1.0\n",
      "At random state 81,the testing accuracy is:- 0.0\n",
      "\n",
      "\n"
     ]
    },
    {
     "name": "stdout",
     "output_type": "stream",
     "text": [
      "At random state 82,the training accuracy is:- 1.0\n",
      "At random state 82,the testing accuracy is:- 0.0\n",
      "\n",
      "\n",
      "At random state 83,the training accuracy is:- 1.0\n",
      "At random state 83,the testing accuracy is:- 0.0\n",
      "\n",
      "\n",
      "At random state 84,the training accuracy is:- 1.0\n",
      "At random state 84,the testing accuracy is:- 0.0\n",
      "\n",
      "\n",
      "At random state 85,the training accuracy is:- 1.0\n",
      "At random state 85,the testing accuracy is:- 0.0\n",
      "\n",
      "\n",
      "At random state 86,the training accuracy is:- 1.0\n",
      "At random state 86,the testing accuracy is:- 0.0\n",
      "\n",
      "\n",
      "At random state 87,the training accuracy is:- 1.0\n",
      "At random state 87,the testing accuracy is:- 0.0\n",
      "\n",
      "\n",
      "At random state 88,the training accuracy is:- 1.0\n",
      "At random state 88,the testing accuracy is:- 0.0\n",
      "\n",
      "\n",
      "At random state 89,the training accuracy is:- 1.0\n",
      "At random state 89,the testing accuracy is:- 0.0\n",
      "\n",
      "\n",
      "At random state 90,the training accuracy is:- 1.0\n",
      "At random state 90,the testing accuracy is:- 0.0\n",
      "\n",
      "\n",
      "At random state 91,the training accuracy is:- 0.9583333333333334\n",
      "At random state 91,the testing accuracy is:- 0.0\n",
      "\n",
      "\n",
      "At random state 92,the training accuracy is:- 1.0\n",
      "At random state 92,the testing accuracy is:- 0.0\n",
      "\n",
      "\n",
      "At random state 93,the training accuracy is:- 1.0\n",
      "At random state 93,the testing accuracy is:- 0.0\n",
      "\n",
      "\n",
      "At random state 94,the training accuracy is:- 1.0\n",
      "At random state 94,the testing accuracy is:- 0.0\n",
      "\n",
      "\n",
      "At random state 95,the training accuracy is:- 1.0\n",
      "At random state 95,the testing accuracy is:- 0.0\n",
      "\n",
      "\n",
      "At random state 96,the training accuracy is:- 1.0\n",
      "At random state 96,the testing accuracy is:- 0.0\n",
      "\n",
      "\n",
      "At random state 97,the training accuracy is:- 1.0\n",
      "At random state 97,the testing accuracy is:- 0.0\n",
      "\n",
      "\n",
      "At random state 98,the training accuracy is:- 1.0\n",
      "At random state 98,the testing accuracy is:- 0.0\n",
      "\n",
      "\n",
      "At random state 99,the training accuracy is:- 1.0\n",
      "At random state 99,the testing accuracy is:- 0.0\n",
      "\n",
      "\n"
     ]
    }
   ],
   "source": [
    "for i in range(0,100):\n",
    "    x_train,x_test,y_train,y_test=train_test_split(x,y,test_size=0.2,random_state=i)\n",
    "    lg.fit(x_train,y_train)\n",
    "    pred_train=lg.predict(x_train)\n",
    "    pred_test=lg.predict(x_test)\n",
    "    print(f\"At random state {i},the training accuracy is:- {accuracy_score(y_train,pred_train)}\")\n",
    "    print(f\"At random state {i},the testing accuracy is:- {accuracy_score(y_test,pred_test)}\")\n",
    "    print(\"\\n\")"
   ]
  },
  {
   "cell_type": "code",
   "execution_count": 57,
   "id": "d37ac8be",
   "metadata": {},
   "outputs": [],
   "source": [
    "x_train,x_test,y_train,y_test=train_test_split(x,y,test_size=.33,random_state=33)"
   ]
  },
  {
   "cell_type": "code",
   "execution_count": 58,
   "id": "2624e315",
   "metadata": {},
   "outputs": [
    {
     "data": {
      "text/plain": [
       "(20, 16)"
      ]
     },
     "execution_count": 58,
     "metadata": {},
     "output_type": "execute_result"
    }
   ],
   "source": [
    "x_train.shape"
   ]
  },
  {
   "cell_type": "code",
   "execution_count": 59,
   "id": "fd3eb257",
   "metadata": {},
   "outputs": [
    {
     "data": {
      "text/plain": [
       "(10, 16)"
      ]
     },
     "execution_count": 59,
     "metadata": {},
     "output_type": "execute_result"
    }
   ],
   "source": [
    "x_test.shape"
   ]
  },
  {
   "cell_type": "code",
   "execution_count": 60,
   "id": "4b2f35fe",
   "metadata": {},
   "outputs": [
    {
     "data": {
      "text/plain": [
       "(20,)"
      ]
     },
     "execution_count": 60,
     "metadata": {},
     "output_type": "execute_result"
    }
   ],
   "source": [
    "y_train.shape"
   ]
  },
  {
   "cell_type": "code",
   "execution_count": 61,
   "id": "c00fc223",
   "metadata": {},
   "outputs": [
    {
     "data": {
      "text/plain": [
       "(10,)"
      ]
     },
     "execution_count": 61,
     "metadata": {},
     "output_type": "execute_result"
    }
   ],
   "source": [
    "y_test.shape"
   ]
  },
  {
   "cell_type": "code",
   "execution_count": 62,
   "id": "45d7e3ee",
   "metadata": {},
   "outputs": [
    {
     "name": "stdout",
     "output_type": "stream",
     "text": [
      "Acuracy_score 0.1\n",
      "              precision    recall  f1-score   support\n",
      "\n",
      "          68       0.50      1.00      0.67         1\n",
      "          74       0.00      0.00      0.00         1\n",
      "          78       0.00      0.00      0.00         0\n",
      "          79       0.00      0.00      0.00         1\n",
      "          80       0.00      0.00      0.00         1\n",
      "          81       0.00      0.00      0.00         0\n",
      "          84       0.00      0.00      0.00         1\n",
      "          86       0.00      0.00      0.00         0\n",
      "          87       0.00      0.00      0.00         0\n",
      "          90       0.00      0.00      0.00         0\n",
      "          93       0.00      0.00      0.00         1\n",
      "          95       0.00      0.00      0.00         1\n",
      "          97       0.00      0.00      0.00         1\n",
      "          98       0.00      0.00      0.00         1\n",
      "         100       0.00      0.00      0.00         1\n",
      "\n",
      "    accuracy                           0.10        10\n",
      "   macro avg       0.03      0.07      0.04        10\n",
      "weighted avg       0.05      0.10      0.07        10\n",
      "\n"
     ]
    }
   ],
   "source": [
    "lg=LogisticRegression()\n",
    "lg.fit(x_train,y_train)\n",
    "pred=lg.predict(x_test)\n",
    "print('Acuracy_score',accuracy_score(y_test,pred))\n",
    "print(classification_report(y_test,pred))"
   ]
  },
  {
   "cell_type": "code",
   "execution_count": 63,
   "id": "0f942882",
   "metadata": {},
   "outputs": [
    {
     "name": "stdout",
     "output_type": "stream",
     "text": [
      "Acuracy_score 0.0\n",
      "              precision    recall  f1-score   support\n",
      "\n",
      "          63       0.00      0.00      0.00       0.0\n",
      "          67       0.00      0.00      0.00       0.0\n",
      "          68       0.00      0.00      0.00       1.0\n",
      "          74       0.00      0.00      0.00       1.0\n",
      "          76       0.00      0.00      0.00       0.0\n",
      "          79       0.00      0.00      0.00       1.0\n",
      "          80       0.00      0.00      0.00       1.0\n",
      "          84       0.00      0.00      0.00       1.0\n",
      "          86       0.00      0.00      0.00       0.0\n",
      "          87       0.00      0.00      0.00       0.0\n",
      "          88       0.00      0.00      0.00       0.0\n",
      "          92       0.00      0.00      0.00       0.0\n",
      "          93       0.00      0.00      0.00       1.0\n",
      "          95       0.00      0.00      0.00       1.0\n",
      "          97       0.00      0.00      0.00       1.0\n",
      "          98       0.00      0.00      0.00       1.0\n",
      "         100       0.00      0.00      0.00       1.0\n",
      "\n",
      "    accuracy                           0.00      10.0\n",
      "   macro avg       0.00      0.00      0.00      10.0\n",
      "weighted avg       0.00      0.00      0.00      10.0\n",
      "\n"
     ]
    }
   ],
   "source": [
    "dt=DecisionTreeClassifier()\n",
    "dt.fit(x_train,y_train)\n",
    "pred=dt.predict(x_test)\n",
    "print('Acuracy_score',accuracy_score(y_test,pred))\n",
    "print(classification_report(y_test,pred))"
   ]
  },
  {
   "cell_type": "code",
   "execution_count": 64,
   "id": "effca174",
   "metadata": {},
   "outputs": [
    {
     "name": "stdout",
     "output_type": "stream",
     "text": [
      "Acuracy_score 0.0\n",
      "              precision    recall  f1-score   support\n",
      "\n",
      "          63       0.00      0.00      0.00       0.0\n",
      "          68       0.00      0.00      0.00       1.0\n",
      "          74       0.00      0.00      0.00       1.0\n",
      "          78       0.00      0.00      0.00       0.0\n",
      "          79       0.00      0.00      0.00       1.0\n",
      "          80       0.00      0.00      0.00       1.0\n",
      "          81       0.00      0.00      0.00       0.0\n",
      "          83       0.00      0.00      0.00       0.0\n",
      "          84       0.00      0.00      0.00       1.0\n",
      "          87       0.00      0.00      0.00       0.0\n",
      "          90       0.00      0.00      0.00       0.0\n",
      "          92       0.00      0.00      0.00       0.0\n",
      "          93       0.00      0.00      0.00       1.0\n",
      "          95       0.00      0.00      0.00       1.0\n",
      "          97       0.00      0.00      0.00       1.0\n",
      "          98       0.00      0.00      0.00       1.0\n",
      "         100       0.00      0.00      0.00       1.0\n",
      "\n",
      "    accuracy                           0.00      10.0\n",
      "   macro avg       0.00      0.00      0.00      10.0\n",
      "weighted avg       0.00      0.00      0.00      10.0\n",
      "\n"
     ]
    }
   ],
   "source": [
    "rf=RandomForestClassifier()\n",
    "rf.fit(x_train,y_train)\n",
    "pred=rf.predict(x_test)\n",
    "print('Acuracy_score',accuracy_score(y_test,pred))\n",
    "print(classification_report(y_test,pred))"
   ]
  },
  {
   "cell_type": "code",
   "execution_count": 65,
   "id": "a212cc5a",
   "metadata": {},
   "outputs": [
    {
     "name": "stdout",
     "output_type": "stream",
     "text": [
      "Acuracy_score 0.1\n",
      "              precision    recall  f1-score   support\n",
      "\n",
      "          68       0.33      1.00      0.50         1\n",
      "          74       0.00      0.00      0.00         1\n",
      "          76       0.00      0.00      0.00         0\n",
      "          79       0.00      0.00      0.00         1\n",
      "          80       0.00      0.00      0.00         1\n",
      "          81       0.00      0.00      0.00         0\n",
      "          83       0.00      0.00      0.00         0\n",
      "          84       0.00      0.00      0.00         1\n",
      "          93       0.00      0.00      0.00         1\n",
      "          95       0.00      0.00      0.00         1\n",
      "          97       0.00      0.00      0.00         1\n",
      "          98       0.00      0.00      0.00         1\n",
      "         100       0.00      0.00      0.00         1\n",
      "\n",
      "    accuracy                           0.10        10\n",
      "   macro avg       0.03      0.08      0.04        10\n",
      "weighted avg       0.03      0.10      0.05        10\n",
      "\n"
     ]
    }
   ],
   "source": [
    "svc=SVC()\n",
    "svc.fit(x_train,y_train)\n",
    "pred=svc.predict(x_test)\n",
    "print('Acuracy_score',accuracy_score(y_test,pred))\n",
    "print(classification_report(y_test,pred))"
   ]
  },
  {
   "cell_type": "code",
   "execution_count": 66,
   "id": "abd668c5",
   "metadata": {},
   "outputs": [
    {
     "name": "stdout",
     "output_type": "stream",
     "text": [
      "Acuracy_score 0.0\n",
      "              precision    recall  f1-score   support\n",
      "\n",
      "          63       0.00      0.00      0.00       0.0\n",
      "          64       0.00      0.00      0.00       0.0\n",
      "          68       0.00      0.00      0.00       1.0\n",
      "          74       0.00      0.00      0.00       1.0\n",
      "          76       0.00      0.00      0.00       0.0\n",
      "          79       0.00      0.00      0.00       1.0\n",
      "          80       0.00      0.00      0.00       1.0\n",
      "          81       0.00      0.00      0.00       0.0\n",
      "          84       0.00      0.00      0.00       1.0\n",
      "          93       0.00      0.00      0.00       1.0\n",
      "          95       0.00      0.00      0.00       1.0\n",
      "          97       0.00      0.00      0.00       1.0\n",
      "          98       0.00      0.00      0.00       1.0\n",
      "         100       0.00      0.00      0.00       1.0\n",
      "\n",
      "    accuracy                           0.00      10.0\n",
      "   macro avg       0.00      0.00      0.00      10.0\n",
      "weighted avg       0.00      0.00      0.00      10.0\n",
      "\n"
     ]
    }
   ],
   "source": [
    "kn=KNeighborsClassifier()\n",
    "kn.fit(x_train,y_train)\n",
    "pred=kn.predict(x_test)\n",
    "print('Acuracy_score',accuracy_score(y_test,pred))\n",
    "print(classification_report(y_test,pred))"
   ]
  },
  {
   "cell_type": "markdown",
   "id": "bc1a5d9d",
   "metadata": {},
   "source": [
    "# Cross Validation"
   ]
  },
  {
   "cell_type": "code",
   "execution_count": 69,
   "id": "e1efefae",
   "metadata": {},
   "outputs": [],
   "source": [
    "from sklearn.model_selection import cross_val_score"
   ]
  },
  {
   "cell_type": "code",
   "execution_count": 70,
   "id": "ac8b81c9",
   "metadata": {},
   "outputs": [
    {
     "name": "stdout",
     "output_type": "stream",
     "text": [
      "0.03333333333333333\n"
     ]
    }
   ],
   "source": [
    "print(cross_val_score(lg,x,y,cv=2).mean())"
   ]
  },
  {
   "cell_type": "code",
   "execution_count": 71,
   "id": "0ae2cf7a",
   "metadata": {},
   "outputs": [
    {
     "name": "stdout",
     "output_type": "stream",
     "text": [
      "0.03333333333333333\n"
     ]
    }
   ],
   "source": [
    "print(cross_val_score(dt,x,y,cv=2).mean())"
   ]
  },
  {
   "cell_type": "code",
   "execution_count": 72,
   "id": "bb906f0a",
   "metadata": {},
   "outputs": [
    {
     "name": "stdout",
     "output_type": "stream",
     "text": [
      "0.03333333333333333\n"
     ]
    }
   ],
   "source": [
    "print(cross_val_score(rf,x,y,cv=2).mean())"
   ]
  },
  {
   "cell_type": "code",
   "execution_count": 74,
   "id": "452edcd5",
   "metadata": {},
   "outputs": [
    {
     "name": "stdout",
     "output_type": "stream",
     "text": [
      "0.03333333333333333\n"
     ]
    }
   ],
   "source": [
    "print(cross_val_score(svc,x,y,cv=2).mean())"
   ]
  },
  {
   "cell_type": "code",
   "execution_count": 75,
   "id": "d146e7c6",
   "metadata": {},
   "outputs": [
    {
     "name": "stdout",
     "output_type": "stream",
     "text": [
      "0.0\n"
     ]
    }
   ],
   "source": [
    "print(cross_val_score(kn,x,y,cv=2).mean())"
   ]
  },
  {
   "cell_type": "code",
   "execution_count": null,
   "id": "1217363f",
   "metadata": {},
   "outputs": [],
   "source": []
  },
  {
   "cell_type": "code",
   "execution_count": null,
   "id": "3b7eee0f",
   "metadata": {},
   "outputs": [],
   "source": []
  },
  {
   "cell_type": "code",
   "execution_count": null,
   "id": "ddadad7f",
   "metadata": {},
   "outputs": [],
   "source": []
  },
  {
   "cell_type": "code",
   "execution_count": null,
   "id": "5ce510c4",
   "metadata": {},
   "outputs": [],
   "source": []
  },
  {
   "cell_type": "code",
   "execution_count": null,
   "id": "c2a85ed8",
   "metadata": {},
   "outputs": [],
   "source": []
  },
  {
   "cell_type": "code",
   "execution_count": null,
   "id": "76630539",
   "metadata": {},
   "outputs": [],
   "source": []
  },
  {
   "cell_type": "markdown",
   "id": "37f917bc",
   "metadata": {},
   "source": [
    "# Hyper parameter Tuning"
   ]
  },
  {
   "cell_type": "code",
   "execution_count": 76,
   "id": "29c7d65f",
   "metadata": {},
   "outputs": [],
   "source": [
    "from sklearn.model_selection import GridSearchCV"
   ]
  },
  {
   "cell_type": "code",
   "execution_count": 92,
   "id": "a231a413",
   "metadata": {},
   "outputs": [],
   "source": [
    "parameter={'penalty' : ['l1', 'l2', 'elasticnet', 'none'],\n",
    "    'C' : np.logspace(-4, 4, 20),\n",
    "    'solver' : ['lbfgs','newton-cg','liblinear','sag','saga'],\n",
    "    'max_iter' : [100, 1000,2500, 5000]\n",
    "    }\n"
   ]
  },
  {
   "cell_type": "code",
   "execution_count": 95,
   "id": "2a07f095",
   "metadata": {},
   "outputs": [],
   "source": [
    "GV=GridSearchCV(lg,parameter,cv=2)"
   ]
  },
  {
   "cell_type": "code",
   "execution_count": 96,
   "id": "27866987",
   "metadata": {},
   "outputs": [
    {
     "data": {
      "text/plain": [
       "GridSearchCV(cv=2, estimator=LogisticRegression(),\n",
       "             param_grid={'C': array([1.00000000e-04, 2.63665090e-04, 6.95192796e-04, 1.83298071e-03,\n",
       "       4.83293024e-03, 1.27427499e-02, 3.35981829e-02, 8.85866790e-02,\n",
       "       2.33572147e-01, 6.15848211e-01, 1.62377674e+00, 4.28133240e+00,\n",
       "       1.12883789e+01, 2.97635144e+01, 7.84759970e+01, 2.06913808e+02,\n",
       "       5.45559478e+02, 1.43844989e+03, 3.79269019e+03, 1.00000000e+04]),\n",
       "                         'max_iter': [100, 1000, 2500, 5000],\n",
       "                         'penalty': ['l1', 'l2', 'elasticnet', 'none'],\n",
       "                         'solver': ['lbfgs', 'newton-cg', 'liblinear', 'sag',\n",
       "                                    'saga']})"
      ]
     },
     "execution_count": 96,
     "metadata": {},
     "output_type": "execute_result"
    }
   ],
   "source": [
    "GV.fit(x_train,y_train)"
   ]
  },
  {
   "cell_type": "code",
   "execution_count": 97,
   "id": "c4f119d4",
   "metadata": {},
   "outputs": [
    {
     "data": {
      "text/plain": [
       "{'C': 0.00026366508987303583,\n",
       " 'max_iter': 2500,\n",
       " 'penalty': 'l1',\n",
       " 'solver': 'saga'}"
      ]
     },
     "execution_count": 97,
     "metadata": {},
     "output_type": "execute_result"
    }
   ],
   "source": [
    "GV.best_params_"
   ]
  },
  {
   "cell_type": "code",
   "execution_count": 100,
   "id": "a22d1577",
   "metadata": {},
   "outputs": [
    {
     "name": "stdout",
     "output_type": "stream",
     "text": [
      "Acuracy_score 0.1\n",
      "              precision    recall  f1-score   support\n",
      "\n",
      "          68       0.10      1.00      0.18         1\n",
      "          74       0.00      0.00      0.00         1\n",
      "          79       0.00      0.00      0.00         1\n",
      "          80       0.00      0.00      0.00         1\n",
      "          84       0.00      0.00      0.00         1\n",
      "          93       0.00      0.00      0.00         1\n",
      "          95       0.00      0.00      0.00         1\n",
      "          97       0.00      0.00      0.00         1\n",
      "          98       0.00      0.00      0.00         1\n",
      "         100       0.00      0.00      0.00         1\n",
      "\n",
      "    accuracy                           0.10        10\n",
      "   macro avg       0.01      0.10      0.02        10\n",
      "weighted avg       0.01      0.10      0.02        10\n",
      "\n"
     ]
    }
   ],
   "source": [
    "Finallg=LogisticRegression(penalty='l1', C=0.00026366508987303583, max_iter=2500,solver='saga')\n",
    "Finallg.fit(x_train,y_train)\n",
    "pred=Finallg.predict(x_test)\n",
    "print('Acuracy_score',accuracy_score(y_test,pred))\n",
    "print(classification_report(y_test,pred))"
   ]
  },
  {
   "cell_type": "markdown",
   "id": "ff7d6d49",
   "metadata": {},
   "source": [
    "# Saving Model"
   ]
  },
  {
   "cell_type": "code",
   "execution_count": 101,
   "id": "d3341327",
   "metadata": {},
   "outputs": [],
   "source": [
    "import pickle\n",
    "filename = 'Baseball.pkl'\n",
    "pickle.dump(Finallg, open(filename, 'wb'))"
   ]
  },
  {
   "cell_type": "code",
   "execution_count": 102,
   "id": "bab60398",
   "metadata": {},
   "outputs": [
    {
     "name": "stdout",
     "output_type": "stream",
     "text": [
      "0.1\n"
     ]
    }
   ],
   "source": [
    "loaded_model = pickle.load(open('Baseball.pkl', 'rb'))\n",
    "result = loaded_model.score(x_test, y_test)\n",
    "print(result)"
   ]
  },
  {
   "cell_type": "code",
   "execution_count": null,
   "id": "7d97df5e",
   "metadata": {},
   "outputs": [],
   "source": []
  }
 ],
 "metadata": {
  "kernelspec": {
   "display_name": "Python 3",
   "language": "python",
   "name": "python3"
  },
  "language_info": {
   "codemirror_mode": {
    "name": "ipython",
    "version": 3
   },
   "file_extension": ".py",
   "mimetype": "text/x-python",
   "name": "python",
   "nbconvert_exporter": "python",
   "pygments_lexer": "ipython3",
   "version": "3.8.8"
  }
 },
 "nbformat": 4,
 "nbformat_minor": 5
}
