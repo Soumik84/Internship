{
 "cells": [
  {
   "cell_type": "code",
   "execution_count": 1,
   "id": "8f5f4fbf",
   "metadata": {
    "collapsed": true
   },
   "outputs": [
    {
     "name": "stdout",
     "output_type": "stream",
     "text": [
      "Collecting selenium\n",
      "  Downloading selenium-4.0.0-py3-none-any.whl (954 kB)\n",
      "Collecting trio-websocket~=0.9\n",
      "  Downloading trio_websocket-0.9.2-py3-none-any.whl (16 kB)\n",
      "Requirement already satisfied: urllib3[secure]~=1.26 in c:\\users\\rupam\\anaconda3\\lib\\site-packages (from selenium) (1.26.4)\n",
      "Collecting trio~=0.17\n",
      "  Downloading trio-0.19.0-py3-none-any.whl (356 kB)\n",
      "Requirement already satisfied: idna in c:\\users\\rupam\\anaconda3\\lib\\site-packages (from trio~=0.17->selenium) (2.10)\n",
      "Collecting outcome\n",
      "  Downloading outcome-1.1.0-py2.py3-none-any.whl (9.7 kB)\n",
      "Requirement already satisfied: sniffio in c:\\users\\rupam\\anaconda3\\lib\\site-packages (from trio~=0.17->selenium) (1.2.0)\n",
      "Requirement already satisfied: cffi>=1.14 in c:\\users\\rupam\\anaconda3\\lib\\site-packages (from trio~=0.17->selenium) (1.14.5)\n",
      "Requirement already satisfied: async-generator>=1.9 in c:\\users\\rupam\\anaconda3\\lib\\site-packages (from trio~=0.17->selenium) (1.10)\n",
      "Requirement already satisfied: attrs>=19.2.0 in c:\\users\\rupam\\anaconda3\\lib\\site-packages (from trio~=0.17->selenium) (20.3.0)\n",
      "Requirement already satisfied: sortedcontainers in c:\\users\\rupam\\anaconda3\\lib\\site-packages (from trio~=0.17->selenium) (2.3.0)\n",
      "Requirement already satisfied: pycparser in c:\\users\\rupam\\anaconda3\\lib\\site-packages (from cffi>=1.14->trio~=0.17->selenium) (2.20)\n",
      "Collecting wsproto>=0.14\n",
      "  Downloading wsproto-1.0.0-py3-none-any.whl (24 kB)\n",
      "Requirement already satisfied: certifi in c:\\users\\rupam\\anaconda3\\lib\\site-packages (from urllib3[secure]~=1.26->selenium) (2020.12.5)\n",
      "Requirement already satisfied: cryptography>=1.3.4 in c:\\users\\rupam\\anaconda3\\lib\\site-packages (from urllib3[secure]~=1.26->selenium) (3.4.7)\n",
      "Requirement already satisfied: pyOpenSSL>=0.14 in c:\\users\\rupam\\anaconda3\\lib\\site-packages (from urllib3[secure]~=1.26->selenium) (20.0.1)\n",
      "Requirement already satisfied: six>=1.5.2 in c:\\users\\rupam\\anaconda3\\lib\\site-packages (from pyOpenSSL>=0.14->urllib3[secure]~=1.26->selenium) (1.15.0)\n",
      "Collecting h11<1,>=0.9.0\n",
      "  Downloading h11-0.12.0-py3-none-any.whl (54 kB)\n",
      "Installing collected packages: outcome, h11, wsproto, trio, trio-websocket, selenium\n",
      "Successfully installed h11-0.12.0 outcome-1.1.0 selenium-4.0.0 trio-0.19.0 trio-websocket-0.9.2 wsproto-1.0.0\n"
     ]
    }
   ],
   "source": [
    "!pip install selenium"
   ]
  },
  {
   "cell_type": "code",
   "execution_count": 2,
   "id": "22096724",
   "metadata": {},
   "outputs": [],
   "source": [
    "import selenium\n",
    "from selenium import webdriver\n",
    "import pandas as pd"
   ]
  },
  {
   "cell_type": "markdown",
   "id": "d35e4af0",
   "metadata": {},
   "source": [
    "# Qestion No-1"
   ]
  },
  {
   "cell_type": "code",
   "execution_count": 4,
   "id": "311ee74b",
   "metadata": {},
   "outputs": [
    {
     "name": "stderr",
     "output_type": "stream",
     "text": [
      "<ipython-input-4-98751703db47>:1: DeprecationWarning: executable_path has been deprecated, please pass in a Service object\n",
      "  driver=webdriver.Chrome(\"C:/Users/rupam/Downloads/chromedriver_win32/chromedriver.exe\")\n"
     ]
    }
   ],
   "source": [
    "driver=webdriver.Chrome(\"C:/Users/rupam/Downloads/chromedriver_win32/chromedriver.exe\")"
   ]
  },
  {
   "cell_type": "code",
   "execution_count": 6,
   "id": "b928669c",
   "metadata": {},
   "outputs": [],
   "source": [
    "driver.get('https://www.naukri.com/')"
   ]
  },
  {
   "cell_type": "code",
   "execution_count": 10,
   "id": "d8470a3c",
   "metadata": {
    "collapsed": true
   },
   "outputs": [
    {
     "name": "stderr",
     "output_type": "stream",
     "text": [
      "<ipython-input-10-71897a31c63e>:1: DeprecationWarning: find_element_by_* commands are deprecated. Please use find_element() instead\n",
      "  search_job=driver.find_element_by_id('qsb-keyword-sugg')\n",
      "<ipython-input-10-71897a31c63e>:3: DeprecationWarning: find_element_by_* commands are deprecated. Please use find_element() instead\n",
      "  search_loc=driver.find_element_by_xpath(\"//input[@id='qsb-location-sugg']\")\n"
     ]
    }
   ],
   "source": [
    "search_job=driver.find_element_by_id('qsb-keyword-sugg')\n",
    "search_job.send_keys('Data Analyst')\n",
    "search_loc=driver.find_element_by_xpath(\"//input[@id='qsb-location-sugg']\")\n",
    "search_loc.send_keys('Bangalore')\n"
   ]
  },
  {
   "cell_type": "code",
   "execution_count": 11,
   "id": "e2e80c08",
   "metadata": {
    "collapsed": true
   },
   "outputs": [
    {
     "name": "stderr",
     "output_type": "stream",
     "text": [
      "<ipython-input-11-9294de899d52>:1: DeprecationWarning: find_element_by_* commands are deprecated. Please use find_element() instead\n",
      "  search_button=driver.find_element_by_xpath(\"//div[@class='search-btn']/button\")\n"
     ]
    }
   ],
   "source": [
    "search_button=driver.find_element_by_xpath(\"//div[@class='search-btn']/button\")\n",
    "search_button.click()"
   ]
  },
  {
   "cell_type": "code",
   "execution_count": null,
   "id": "8abda0fe",
   "metadata": {
    "collapsed": true
   },
   "outputs": [],
   "source": []
  },
  {
   "cell_type": "code",
   "execution_count": 12,
   "id": "866763e9",
   "metadata": {
    "collapsed": true
   },
   "outputs": [],
   "source": [
    "driver.get('https://www.naukri.com/data-analyst-jobs-in-bangalore?k=data%20analyst&l=bangalore')"
   ]
  },
  {
   "cell_type": "code",
   "execution_count": null,
   "id": "f2e7c0b8",
   "metadata": {
    "collapsed": true
   },
   "outputs": [],
   "source": []
  },
  {
   "cell_type": "code",
   "execution_count": 21,
   "id": "b0f736c2",
   "metadata": {
    "collapsed": true
   },
   "outputs": [
    {
     "name": "stderr",
     "output_type": "stream",
     "text": [
      "<ipython-input-21-e2f17a7c5674>:1: DeprecationWarning: find_elements_by_* commands are deprecated. Please use find_elements() instead\n",
      "  title_tag=driver.find_elements_by_xpath(\"//a[@class='title fw500 ellipsis']\")\n"
     ]
    },
    {
     "data": {
      "text/plain": [
       "[<selenium.webdriver.remote.webelement.WebElement (session=\"79dcf3b5e3fd7312af294783cb0f3b81\", element=\"cebb3f1e-bfa9-48ee-a951-b1566270a820\")>,\n",
       " <selenium.webdriver.remote.webelement.WebElement (session=\"79dcf3b5e3fd7312af294783cb0f3b81\", element=\"b7ca785a-c2d6-4655-90b0-b655150d5eef\")>,\n",
       " <selenium.webdriver.remote.webelement.WebElement (session=\"79dcf3b5e3fd7312af294783cb0f3b81\", element=\"534debd1-52ff-42f7-9123-a3099658809a\")>,\n",
       " <selenium.webdriver.remote.webelement.WebElement (session=\"79dcf3b5e3fd7312af294783cb0f3b81\", element=\"855948b3-baf8-4054-a564-b53d98b7f3b1\")>,\n",
       " <selenium.webdriver.remote.webelement.WebElement (session=\"79dcf3b5e3fd7312af294783cb0f3b81\", element=\"4d47f8e6-3029-4f88-9814-74bb2478cdc0\")>,\n",
       " <selenium.webdriver.remote.webelement.WebElement (session=\"79dcf3b5e3fd7312af294783cb0f3b81\", element=\"8ce06253-be6e-483b-ab82-5c7d20fe6378\")>,\n",
       " <selenium.webdriver.remote.webelement.WebElement (session=\"79dcf3b5e3fd7312af294783cb0f3b81\", element=\"7340f237-96e4-4fbb-8dfd-04422ab36946\")>,\n",
       " <selenium.webdriver.remote.webelement.WebElement (session=\"79dcf3b5e3fd7312af294783cb0f3b81\", element=\"0a6776e8-8e50-4c7b-9d13-f8f057e864fd\")>,\n",
       " <selenium.webdriver.remote.webelement.WebElement (session=\"79dcf3b5e3fd7312af294783cb0f3b81\", element=\"86fed1b4-01c4-45dd-a889-577458f450a3\")>,\n",
       " <selenium.webdriver.remote.webelement.WebElement (session=\"79dcf3b5e3fd7312af294783cb0f3b81\", element=\"a3fd4291-4ca9-498c-9ee3-a5c964223de6\")>]"
      ]
     },
     "execution_count": 21,
     "metadata": {},
     "output_type": "execute_result"
    }
   ],
   "source": [
    "title_tag=driver.find_elements_by_xpath(\"//a[@class='title fw500 ellipsis']\")\n",
    "title_tag[0:10]"
   ]
  },
  {
   "cell_type": "code",
   "execution_count": 23,
   "id": "87d80537",
   "metadata": {
    "collapsed": true
   },
   "outputs": [
    {
     "data": {
      "text/plain": [
       "['Data Analyst',\n",
       " 'Data Analyst',\n",
       " 'Data Analyst',\n",
       " 'Business Data Analyst - MIS & Reporting',\n",
       " 'Business Data Analyst - Database Design/Mining',\n",
       " 'Senior Data Analyst - SQL/Tableau/Redshift',\n",
       " 'Power BI - Data Analyst - Biocon Biologics',\n",
       " 'Sr Business Data Analyst',\n",
       " 'Data Analyst',\n",
       " 'Lead Data Analyst - Claim Analytics']"
      ]
     },
     "execution_count": 23,
     "metadata": {},
     "output_type": "execute_result"
    }
   ],
   "source": [
    "title=[]\n",
    "\n",
    "for i in title_tag:\n",
    "    title.append(i.text)\n",
    "title[0:10]"
   ]
  },
  {
   "cell_type": "code",
   "execution_count": 24,
   "id": "251ca4bf",
   "metadata": {
    "collapsed": true
   },
   "outputs": [
    {
     "name": "stderr",
     "output_type": "stream",
     "text": [
      "<ipython-input-24-e16ab402ae97>:1: DeprecationWarning: find_elements_by_* commands are deprecated. Please use find_elements() instead\n",
      "  company_tag=driver.find_elements_by_xpath(\"//a[@class='subTitle ellipsis fleft']\")\n"
     ]
    },
    {
     "data": {
      "text/plain": [
       "[<selenium.webdriver.remote.webelement.WebElement (session=\"79dcf3b5e3fd7312af294783cb0f3b81\", element=\"dfa71409-1572-4d18-9e08-087dfe9396f0\")>,\n",
       " <selenium.webdriver.remote.webelement.WebElement (session=\"79dcf3b5e3fd7312af294783cb0f3b81\", element=\"2601e4ea-4477-44ef-b8a0-d04d25f14380\")>,\n",
       " <selenium.webdriver.remote.webelement.WebElement (session=\"79dcf3b5e3fd7312af294783cb0f3b81\", element=\"e2ab520b-161f-480e-9093-f4601283e06c\")>,\n",
       " <selenium.webdriver.remote.webelement.WebElement (session=\"79dcf3b5e3fd7312af294783cb0f3b81\", element=\"ffbfd86a-57e3-4761-ab4d-1b4a536bfe14\")>,\n",
       " <selenium.webdriver.remote.webelement.WebElement (session=\"79dcf3b5e3fd7312af294783cb0f3b81\", element=\"55d36c1c-dabe-44f8-b940-a05d4b79fda0\")>,\n",
       " <selenium.webdriver.remote.webelement.WebElement (session=\"79dcf3b5e3fd7312af294783cb0f3b81\", element=\"1a9ec966-2f61-44fe-b008-26c48e26970e\")>,\n",
       " <selenium.webdriver.remote.webelement.WebElement (session=\"79dcf3b5e3fd7312af294783cb0f3b81\", element=\"f134cf86-7e31-43ce-bdac-c1684d45f2e7\")>,\n",
       " <selenium.webdriver.remote.webelement.WebElement (session=\"79dcf3b5e3fd7312af294783cb0f3b81\", element=\"5bd07193-abf3-4240-90d6-21604a5d5685\")>,\n",
       " <selenium.webdriver.remote.webelement.WebElement (session=\"79dcf3b5e3fd7312af294783cb0f3b81\", element=\"da029141-1314-468a-9e30-796b1ac27b72\")>,\n",
       " <selenium.webdriver.remote.webelement.WebElement (session=\"79dcf3b5e3fd7312af294783cb0f3b81\", element=\"a1ee2dbe-22de-4cc9-8e64-55dc6ab06ae6\")>]"
      ]
     },
     "execution_count": 24,
     "metadata": {},
     "output_type": "execute_result"
    }
   ],
   "source": [
    "company_tag=driver.find_elements_by_xpath(\"//a[@class='subTitle ellipsis fleft']\")\n",
    "company_tag[0:10]"
   ]
  },
  {
   "cell_type": "code",
   "execution_count": 25,
   "id": "23ee61dc",
   "metadata": {
    "collapsed": true
   },
   "outputs": [
    {
     "data": {
      "text/plain": [
       "['Applied Materials',\n",
       " 'Shell',\n",
       " 'Shell',\n",
       " 'INTERTRUST GROUP',\n",
       " 'AugmatrixGo',\n",
       " 'Pronto Consulting Services',\n",
       " 'BIOCON BIOLOGICS LIMITED',\n",
       " 'ExecBoardinAsia',\n",
       " 'Leap29',\n",
       " 'InnovAccer']"
      ]
     },
     "execution_count": 25,
     "metadata": {},
     "output_type": "execute_result"
    }
   ],
   "source": [
    "company=[]\n",
    "\n",
    "for i in company_tag:\n",
    "    company.append(i.text)\n",
    "company[0:10]"
   ]
  },
  {
   "cell_type": "code",
   "execution_count": 28,
   "id": "8b5aa505",
   "metadata": {
    "collapsed": true
   },
   "outputs": [
    {
     "name": "stderr",
     "output_type": "stream",
     "text": [
      "<ipython-input-28-c5a353980552>:1: DeprecationWarning: find_elements_by_* commands are deprecated. Please use find_elements() instead\n",
      "  exp_tag=driver.find_elements_by_xpath(\"//li[@class='fleft grey-text br2 placeHolderLi experience']/span\")\n"
     ]
    },
    {
     "data": {
      "text/plain": [
       "[<selenium.webdriver.remote.webelement.WebElement (session=\"79dcf3b5e3fd7312af294783cb0f3b81\", element=\"9e2d3e38-2bb9-4326-8841-36c69373b2c5\")>,\n",
       " <selenium.webdriver.remote.webelement.WebElement (session=\"79dcf3b5e3fd7312af294783cb0f3b81\", element=\"a9903471-57db-42f7-99d0-cf320887d06e\")>,\n",
       " <selenium.webdriver.remote.webelement.WebElement (session=\"79dcf3b5e3fd7312af294783cb0f3b81\", element=\"1dbf9ee1-c76b-43d0-a5d0-68490cf30f1c\")>,\n",
       " <selenium.webdriver.remote.webelement.WebElement (session=\"79dcf3b5e3fd7312af294783cb0f3b81\", element=\"e0a7dcf6-9b65-4cde-9b9a-24a3432b9313\")>,\n",
       " <selenium.webdriver.remote.webelement.WebElement (session=\"79dcf3b5e3fd7312af294783cb0f3b81\", element=\"2f6e8012-1de2-41d6-8094-0ba5cdbaa95a\")>,\n",
       " <selenium.webdriver.remote.webelement.WebElement (session=\"79dcf3b5e3fd7312af294783cb0f3b81\", element=\"89accaee-3fb5-4fc7-b000-3695a2a7d794\")>,\n",
       " <selenium.webdriver.remote.webelement.WebElement (session=\"79dcf3b5e3fd7312af294783cb0f3b81\", element=\"d2390fdd-ef4b-40b2-8895-62efe9dcadd8\")>,\n",
       " <selenium.webdriver.remote.webelement.WebElement (session=\"79dcf3b5e3fd7312af294783cb0f3b81\", element=\"b0942f1b-dbb4-4e65-9319-e330ad3773c6\")>,\n",
       " <selenium.webdriver.remote.webelement.WebElement (session=\"79dcf3b5e3fd7312af294783cb0f3b81\", element=\"8dfa16f5-e47e-4435-8792-ef687ad90fa4\")>,\n",
       " <selenium.webdriver.remote.webelement.WebElement (session=\"79dcf3b5e3fd7312af294783cb0f3b81\", element=\"f4e66e02-db55-4f86-8259-99ccaa8bf153\")>]"
      ]
     },
     "execution_count": 28,
     "metadata": {},
     "output_type": "execute_result"
    }
   ],
   "source": [
    "exp_tag=driver.find_elements_by_xpath(\"//li[@class='fleft grey-text br2 placeHolderLi experience']/span\")\n",
    "exp_tag[0:10]"
   ]
  },
  {
   "cell_type": "code",
   "execution_count": 29,
   "id": "8b4086cc",
   "metadata": {
    "collapsed": true
   },
   "outputs": [
    {
     "data": {
      "text/plain": [
       "['0-3 Yrs',\n",
       " '5-8 Yrs',\n",
       " '5-10 Yrs',\n",
       " '3-8 Yrs',\n",
       " '2-5 Yrs',\n",
       " '6-10 Yrs',\n",
       " '3-8 Yrs',\n",
       " '5-10 Yrs',\n",
       " '3-8 Yrs',\n",
       " '7-12 Yrs']"
      ]
     },
     "execution_count": 29,
     "metadata": {},
     "output_type": "execute_result"
    }
   ],
   "source": [
    "exp=[]\n",
    "\n",
    "for i in exp_tag:\n",
    "    exp.append(i.text)\n",
    "exp[0:10]"
   ]
  },
  {
   "cell_type": "code",
   "execution_count": 36,
   "id": "a9ace627",
   "metadata": {
    "collapsed": true
   },
   "outputs": [
    {
     "name": "stderr",
     "output_type": "stream",
     "text": [
      "<ipython-input-36-4701cb100210>:1: DeprecationWarning: find_elements_by_* commands are deprecated. Please use find_elements() instead\n",
      "  loc_tag=driver.find_elements_by_xpath(\"//li[@class='fleft grey-text br2 placeHolderLi location']/span\")\n"
     ]
    },
    {
     "data": {
      "text/plain": [
       "[<selenium.webdriver.remote.webelement.WebElement (session=\"79dcf3b5e3fd7312af294783cb0f3b81\", element=\"fe6aabce-7069-4e0a-b7c0-bfa28988d966\")>,\n",
       " <selenium.webdriver.remote.webelement.WebElement (session=\"79dcf3b5e3fd7312af294783cb0f3b81\", element=\"7e0c659f-5b1d-46bd-9d81-1263f43bb3b3\")>,\n",
       " <selenium.webdriver.remote.webelement.WebElement (session=\"79dcf3b5e3fd7312af294783cb0f3b81\", element=\"3dca70e7-ffbe-45a3-960d-9d77609b2590\")>,\n",
       " <selenium.webdriver.remote.webelement.WebElement (session=\"79dcf3b5e3fd7312af294783cb0f3b81\", element=\"6b4d9bb4-f29a-4938-a2d6-c091965e07de\")>,\n",
       " <selenium.webdriver.remote.webelement.WebElement (session=\"79dcf3b5e3fd7312af294783cb0f3b81\", element=\"2f1d3673-db33-4d2d-bde3-e60e6854fad0\")>,\n",
       " <selenium.webdriver.remote.webelement.WebElement (session=\"79dcf3b5e3fd7312af294783cb0f3b81\", element=\"5bc375f7-c3aa-4b6a-9f7c-ce038f0e63e2\")>,\n",
       " <selenium.webdriver.remote.webelement.WebElement (session=\"79dcf3b5e3fd7312af294783cb0f3b81\", element=\"a87d0d17-594c-4930-bef7-52ab365e6eb6\")>,\n",
       " <selenium.webdriver.remote.webelement.WebElement (session=\"79dcf3b5e3fd7312af294783cb0f3b81\", element=\"539be5ed-60c9-4843-84ed-422acdf23a91\")>,\n",
       " <selenium.webdriver.remote.webelement.WebElement (session=\"79dcf3b5e3fd7312af294783cb0f3b81\", element=\"2ba8c879-754a-461b-818f-fe12c3148a5c\")>,\n",
       " <selenium.webdriver.remote.webelement.WebElement (session=\"79dcf3b5e3fd7312af294783cb0f3b81\", element=\"43a40ab4-1ccd-44f1-afe2-b1c3e8976275\")>]"
      ]
     },
     "execution_count": 36,
     "metadata": {},
     "output_type": "execute_result"
    }
   ],
   "source": [
    "loc_tag=driver.find_elements_by_xpath(\"//li[@class='fleft grey-text br2 placeHolderLi location']/span\")\n",
    "loc_tag[0:10]"
   ]
  },
  {
   "cell_type": "code",
   "execution_count": 37,
   "id": "2c361537",
   "metadata": {
    "collapsed": true
   },
   "outputs": [
    {
     "data": {
      "text/plain": [
       "['Bangalore/Bengaluru',\n",
       " 'Bangalore/Bengaluru',\n",
       " 'Bangalore/Bengaluru',\n",
       " 'Mumbai, Bangalore/Bengaluru',\n",
       " 'Bangalore/Bengaluru',\n",
       " 'Noida, Mumbai, Indore, Hyderabad/Secunderabad, Pune, Chennai, Bangalore/Bengaluru',\n",
       " '(WFH during Covid)',\n",
       " 'Bangalore/Bengaluru',\n",
       " 'Bangalore/Bengaluru',\n",
       " 'Bangalore/Bengaluru']"
      ]
     },
     "execution_count": 37,
     "metadata": {},
     "output_type": "execute_result"
    }
   ],
   "source": [
    "loc=[]\n",
    "\n",
    "for i in loc_tag:\n",
    "    loc.append(i.text)\n",
    "loc[0:10]"
   ]
  },
  {
   "cell_type": "code",
   "execution_count": 38,
   "id": "c9b24a77",
   "metadata": {
    "collapsed": true
   },
   "outputs": [],
   "source": [
    "jobs=pd.DataFrame({})\n",
    "jobs['Titles']=title[0:10]\n",
    "jobs['Company']=company[0:10]\n",
    "jobs['Experience']=exp[0:10]\n",
    "jobs['Location']=loc[0:10]"
   ]
  },
  {
   "cell_type": "code",
   "execution_count": 39,
   "id": "3243bb69",
   "metadata": {
    "collapsed": true
   },
   "outputs": [
    {
     "data": {
      "text/html": [
       "<div>\n",
       "<style scoped>\n",
       "    .dataframe tbody tr th:only-of-type {\n",
       "        vertical-align: middle;\n",
       "    }\n",
       "\n",
       "    .dataframe tbody tr th {\n",
       "        vertical-align: top;\n",
       "    }\n",
       "\n",
       "    .dataframe thead th {\n",
       "        text-align: right;\n",
       "    }\n",
       "</style>\n",
       "<table border=\"1\" class=\"dataframe\">\n",
       "  <thead>\n",
       "    <tr style=\"text-align: right;\">\n",
       "      <th></th>\n",
       "      <th>Titles</th>\n",
       "      <th>Company</th>\n",
       "      <th>Experience</th>\n",
       "      <th>Location</th>\n",
       "    </tr>\n",
       "  </thead>\n",
       "  <tbody>\n",
       "    <tr>\n",
       "      <th>0</th>\n",
       "      <td>Data Analyst</td>\n",
       "      <td>Applied Materials</td>\n",
       "      <td>0-3 Yrs</td>\n",
       "      <td>Bangalore/Bengaluru</td>\n",
       "    </tr>\n",
       "    <tr>\n",
       "      <th>1</th>\n",
       "      <td>Data Analyst</td>\n",
       "      <td>Shell</td>\n",
       "      <td>5-8 Yrs</td>\n",
       "      <td>Bangalore/Bengaluru</td>\n",
       "    </tr>\n",
       "    <tr>\n",
       "      <th>2</th>\n",
       "      <td>Data Analyst</td>\n",
       "      <td>Shell</td>\n",
       "      <td>5-10 Yrs</td>\n",
       "      <td>Bangalore/Bengaluru</td>\n",
       "    </tr>\n",
       "    <tr>\n",
       "      <th>3</th>\n",
       "      <td>Business Data Analyst - MIS &amp; Reporting</td>\n",
       "      <td>INTERTRUST GROUP</td>\n",
       "      <td>3-8 Yrs</td>\n",
       "      <td>Mumbai, Bangalore/Bengaluru</td>\n",
       "    </tr>\n",
       "    <tr>\n",
       "      <th>4</th>\n",
       "      <td>Business Data Analyst - Database Design/Mining</td>\n",
       "      <td>AugmatrixGo</td>\n",
       "      <td>2-5 Yrs</td>\n",
       "      <td>Bangalore/Bengaluru</td>\n",
       "    </tr>\n",
       "    <tr>\n",
       "      <th>5</th>\n",
       "      <td>Senior Data Analyst - SQL/Tableau/Redshift</td>\n",
       "      <td>Pronto Consulting Services</td>\n",
       "      <td>6-10 Yrs</td>\n",
       "      <td>Noida, Mumbai, Indore, Hyderabad/Secunderabad,...</td>\n",
       "    </tr>\n",
       "    <tr>\n",
       "      <th>6</th>\n",
       "      <td>Power BI - Data Analyst - Biocon Biologics</td>\n",
       "      <td>BIOCON BIOLOGICS LIMITED</td>\n",
       "      <td>3-8 Yrs</td>\n",
       "      <td>(WFH during Covid)</td>\n",
       "    </tr>\n",
       "    <tr>\n",
       "      <th>7</th>\n",
       "      <td>Sr Business Data Analyst</td>\n",
       "      <td>ExecBoardinAsia</td>\n",
       "      <td>5-10 Yrs</td>\n",
       "      <td>Bangalore/Bengaluru</td>\n",
       "    </tr>\n",
       "    <tr>\n",
       "      <th>8</th>\n",
       "      <td>Data Analyst</td>\n",
       "      <td>Leap29</td>\n",
       "      <td>3-8 Yrs</td>\n",
       "      <td>Bangalore/Bengaluru</td>\n",
       "    </tr>\n",
       "    <tr>\n",
       "      <th>9</th>\n",
       "      <td>Lead Data Analyst - Claim Analytics</td>\n",
       "      <td>InnovAccer</td>\n",
       "      <td>7-12 Yrs</td>\n",
       "      <td>Bangalore/Bengaluru</td>\n",
       "    </tr>\n",
       "  </tbody>\n",
       "</table>\n",
       "</div>"
      ],
      "text/plain": [
       "                                           Titles                     Company  \\\n",
       "0                                    Data Analyst           Applied Materials   \n",
       "1                                    Data Analyst                       Shell   \n",
       "2                                    Data Analyst                       Shell   \n",
       "3         Business Data Analyst - MIS & Reporting            INTERTRUST GROUP   \n",
       "4  Business Data Analyst - Database Design/Mining                 AugmatrixGo   \n",
       "5      Senior Data Analyst - SQL/Tableau/Redshift  Pronto Consulting Services   \n",
       "6      Power BI - Data Analyst - Biocon Biologics    BIOCON BIOLOGICS LIMITED   \n",
       "7                        Sr Business Data Analyst             ExecBoardinAsia   \n",
       "8                                    Data Analyst                      Leap29   \n",
       "9             Lead Data Analyst - Claim Analytics                  InnovAccer   \n",
       "\n",
       "  Experience                                           Location  \n",
       "0    0-3 Yrs                                Bangalore/Bengaluru  \n",
       "1    5-8 Yrs                                Bangalore/Bengaluru  \n",
       "2   5-10 Yrs                                Bangalore/Bengaluru  \n",
       "3    3-8 Yrs                        Mumbai, Bangalore/Bengaluru  \n",
       "4    2-5 Yrs                                Bangalore/Bengaluru  \n",
       "5   6-10 Yrs  Noida, Mumbai, Indore, Hyderabad/Secunderabad,...  \n",
       "6    3-8 Yrs                                 (WFH during Covid)  \n",
       "7   5-10 Yrs                                Bangalore/Bengaluru  \n",
       "8    3-8 Yrs                                Bangalore/Bengaluru  \n",
       "9   7-12 Yrs                                Bangalore/Bengaluru  "
      ]
     },
     "execution_count": 39,
     "metadata": {},
     "output_type": "execute_result"
    }
   ],
   "source": [
    "jobs"
   ]
  },
  {
   "cell_type": "markdown",
   "id": "1688bb3b",
   "metadata": {},
   "source": [
    "# Question No 2"
   ]
  },
  {
   "cell_type": "code",
   "execution_count": 5,
   "id": "11adf77b",
   "metadata": {
    "collapsed": true
   },
   "outputs": [
    {
     "name": "stderr",
     "output_type": "stream",
     "text": [
      "<ipython-input-5-3f9ddf01dc99>:1: DeprecationWarning: find_element_by_* commands are deprecated. Please use find_element() instead\n",
      "  search_job=driver.find_element_by_id('qsb-keyword-sugg')\n",
      "<ipython-input-5-3f9ddf01dc99>:3: DeprecationWarning: find_element_by_* commands are deprecated. Please use find_element() instead\n",
      "  search_loc=driver.find_element_by_xpath(\"//input[@id='qsb-location-sugg']\")\n"
     ]
    }
   ],
   "source": [
    "search_job=driver.find_element_by_id('qsb-keyword-sugg')\n",
    "search_job.send_keys('Data Scientist')\n",
    "search_loc=driver.find_element_by_xpath(\"//input[@id='qsb-location-sugg']\")\n",
    "search_loc.send_keys('Bangalore')"
   ]
  },
  {
   "cell_type": "code",
   "execution_count": 6,
   "id": "b8704dcf",
   "metadata": {
    "collapsed": true
   },
   "outputs": [
    {
     "name": "stderr",
     "output_type": "stream",
     "text": [
      "<ipython-input-6-9294de899d52>:1: DeprecationWarning: find_element_by_* commands are deprecated. Please use find_element() instead\n",
      "  search_button=driver.find_element_by_xpath(\"//div[@class='search-btn']/button\")\n"
     ]
    }
   ],
   "source": [
    "search_button=driver.find_element_by_xpath(\"//div[@class='search-btn']/button\")\n",
    "search_button.click()"
   ]
  },
  {
   "cell_type": "code",
   "execution_count": 7,
   "id": "f1de3fa3",
   "metadata": {},
   "outputs": [],
   "source": [
    "driver.get('https://www.naukri.com/data-scientist-jobs-in-bangalore?k=data%20scientist&l=bangalore')"
   ]
  },
  {
   "cell_type": "code",
   "execution_count": 8,
   "id": "d133cbf4",
   "metadata": {
    "collapsed": true
   },
   "outputs": [
    {
     "name": "stderr",
     "output_type": "stream",
     "text": [
      "<ipython-input-8-e2f17a7c5674>:1: DeprecationWarning: find_elements_by_* commands are deprecated. Please use find_elements() instead\n",
      "  title_tag=driver.find_elements_by_xpath(\"//a[@class='title fw500 ellipsis']\")\n"
     ]
    },
    {
     "data": {
      "text/plain": [
       "[<selenium.webdriver.remote.webelement.WebElement (session=\"7342f2249cdfb65638db0cd070f1ae75\", element=\"61bdd109-58e1-4c82-b7c8-b029e55a8672\")>,\n",
       " <selenium.webdriver.remote.webelement.WebElement (session=\"7342f2249cdfb65638db0cd070f1ae75\", element=\"9694bef0-4367-4028-b774-ae17c10ae12f\")>,\n",
       " <selenium.webdriver.remote.webelement.WebElement (session=\"7342f2249cdfb65638db0cd070f1ae75\", element=\"25fd81d1-a19d-4be8-a24a-4458b0bd70ce\")>,\n",
       " <selenium.webdriver.remote.webelement.WebElement (session=\"7342f2249cdfb65638db0cd070f1ae75\", element=\"c7bba7c9-8cc9-4a09-af2f-37480ef26954\")>,\n",
       " <selenium.webdriver.remote.webelement.WebElement (session=\"7342f2249cdfb65638db0cd070f1ae75\", element=\"51f0b5c8-2295-49a8-b587-2305bbff4f59\")>,\n",
       " <selenium.webdriver.remote.webelement.WebElement (session=\"7342f2249cdfb65638db0cd070f1ae75\", element=\"8e92b675-804b-4c72-9982-4c00aee0f74d\")>,\n",
       " <selenium.webdriver.remote.webelement.WebElement (session=\"7342f2249cdfb65638db0cd070f1ae75\", element=\"8076778c-813e-4d71-a7f4-2ff9f13d21e2\")>,\n",
       " <selenium.webdriver.remote.webelement.WebElement (session=\"7342f2249cdfb65638db0cd070f1ae75\", element=\"97f6c0f0-59b3-4d8b-8054-dd3055ef3367\")>,\n",
       " <selenium.webdriver.remote.webelement.WebElement (session=\"7342f2249cdfb65638db0cd070f1ae75\", element=\"cdd44d26-5cf4-478d-bbb1-30c3cad06ac6\")>,\n",
       " <selenium.webdriver.remote.webelement.WebElement (session=\"7342f2249cdfb65638db0cd070f1ae75\", element=\"b850383c-fb71-4a9e-be32-21aa6b5ada8d\")>]"
      ]
     },
     "execution_count": 8,
     "metadata": {},
     "output_type": "execute_result"
    }
   ],
   "source": [
    "title_tag=driver.find_elements_by_xpath(\"//a[@class='title fw500 ellipsis']\")\n",
    "title_tag[0:10]"
   ]
  },
  {
   "cell_type": "code",
   "execution_count": 9,
   "id": "99d46e29",
   "metadata": {
    "collapsed": true
   },
   "outputs": [
    {
     "data": {
      "text/plain": [
       "['Hiring For AI Architect / Lead Data Scientist - Bangalore -Iqvia',\n",
       " 'Data Scientist',\n",
       " 'Data Scientist',\n",
       " 'Data Scientist',\n",
       " 'Data Scientist',\n",
       " 'Senior Data Scientist | Fortune 500 Supermarket Chain',\n",
       " 'Senior Data Scientist',\n",
       " 'Data Scientist | MNC Company',\n",
       " 'Principal Data Scientist',\n",
       " 'Data Scientist I']"
      ]
     },
     "execution_count": 9,
     "metadata": {},
     "output_type": "execute_result"
    }
   ],
   "source": [
    "title=[]\n",
    "\n",
    "for i in title_tag:\n",
    "    title.append(i.text)\n",
    "title[0:10]"
   ]
  },
  {
   "cell_type": "code",
   "execution_count": 10,
   "id": "a14b1d60",
   "metadata": {
    "collapsed": true
   },
   "outputs": [
    {
     "name": "stderr",
     "output_type": "stream",
     "text": [
      "<ipython-input-10-e16ab402ae97>:1: DeprecationWarning: find_elements_by_* commands are deprecated. Please use find_elements() instead\n",
      "  company_tag=driver.find_elements_by_xpath(\"//a[@class='subTitle ellipsis fleft']\")\n"
     ]
    },
    {
     "data": {
      "text/plain": [
       "[<selenium.webdriver.remote.webelement.WebElement (session=\"7342f2249cdfb65638db0cd070f1ae75\", element=\"731b07da-ffa6-49d7-89ad-07e1851569e9\")>,\n",
       " <selenium.webdriver.remote.webelement.WebElement (session=\"7342f2249cdfb65638db0cd070f1ae75\", element=\"4d7e8aec-5dcd-44a7-a51a-7639cb749081\")>,\n",
       " <selenium.webdriver.remote.webelement.WebElement (session=\"7342f2249cdfb65638db0cd070f1ae75\", element=\"fa891e31-fc03-4f4c-b0e9-50718edc6c4a\")>,\n",
       " <selenium.webdriver.remote.webelement.WebElement (session=\"7342f2249cdfb65638db0cd070f1ae75\", element=\"d4844ba6-7c2b-4b3d-942f-83a29452f9f9\")>,\n",
       " <selenium.webdriver.remote.webelement.WebElement (session=\"7342f2249cdfb65638db0cd070f1ae75\", element=\"8371ee79-5e2a-49e5-b329-e73d0bc4a0a0\")>,\n",
       " <selenium.webdriver.remote.webelement.WebElement (session=\"7342f2249cdfb65638db0cd070f1ae75\", element=\"2c1156a8-a885-49b4-b989-5bdc2746c3f9\")>,\n",
       " <selenium.webdriver.remote.webelement.WebElement (session=\"7342f2249cdfb65638db0cd070f1ae75\", element=\"16b03159-fe35-4fee-863e-6cf6c5b37741\")>,\n",
       " <selenium.webdriver.remote.webelement.WebElement (session=\"7342f2249cdfb65638db0cd070f1ae75\", element=\"d66f9265-ff87-4886-b8df-b0389dc82730\")>,\n",
       " <selenium.webdriver.remote.webelement.WebElement (session=\"7342f2249cdfb65638db0cd070f1ae75\", element=\"aafe3808-4a13-40b6-9b53-d0188cf0eeb8\")>,\n",
       " <selenium.webdriver.remote.webelement.WebElement (session=\"7342f2249cdfb65638db0cd070f1ae75\", element=\"0dcd0a17-47cd-4de7-9f8a-cfdeeba73215\")>]"
      ]
     },
     "execution_count": 10,
     "metadata": {},
     "output_type": "execute_result"
    }
   ],
   "source": [
    "company_tag=driver.find_elements_by_xpath(\"//a[@class='subTitle ellipsis fleft']\")\n",
    "company_tag[0:10]"
   ]
  },
  {
   "cell_type": "code",
   "execution_count": 11,
   "id": "9531a08e",
   "metadata": {},
   "outputs": [
    {
     "data": {
      "text/plain": [
       "['IQVIA RDS India Pvt Ltd',\n",
       " 'Amazon',\n",
       " 'Narayana Hrudayalaya Ltd',\n",
       " 'Alstom Transport India Ltd.',\n",
       " 'Persistent Systems Limited.',\n",
       " 'TALENT500 TECH (INDIA) PRIVATE LIMITED',\n",
       " 'Santechture',\n",
       " 'Huptech Consultancy Services',\n",
       " 'Kaleidofin',\n",
       " 'Swiggy']"
      ]
     },
     "execution_count": 11,
     "metadata": {},
     "output_type": "execute_result"
    }
   ],
   "source": [
    "company=[]\n",
    "\n",
    "for i in company_tag:\n",
    "    company.append(i.text)\n",
    "company[0:10]"
   ]
  },
  {
   "cell_type": "code",
   "execution_count": 15,
   "id": "1e4f4dc7",
   "metadata": {
    "collapsed": true
   },
   "outputs": [
    {
     "name": "stderr",
     "output_type": "stream",
     "text": [
      "<ipython-input-15-4701cb100210>:1: DeprecationWarning: find_elements_by_* commands are deprecated. Please use find_elements() instead\n",
      "  loc_tag=driver.find_elements_by_xpath(\"//li[@class='fleft grey-text br2 placeHolderLi location']/span\")\n"
     ]
    },
    {
     "data": {
      "text/plain": [
       "[<selenium.webdriver.remote.webelement.WebElement (session=\"7342f2249cdfb65638db0cd070f1ae75\", element=\"c4c345cf-f079-4843-a710-f50697394a72\")>,\n",
       " <selenium.webdriver.remote.webelement.WebElement (session=\"7342f2249cdfb65638db0cd070f1ae75\", element=\"04022210-94fc-4c2f-9e25-44ab75da2469\")>,\n",
       " <selenium.webdriver.remote.webelement.WebElement (session=\"7342f2249cdfb65638db0cd070f1ae75\", element=\"10aa4223-e5f2-4277-9885-c982fecea4bb\")>,\n",
       " <selenium.webdriver.remote.webelement.WebElement (session=\"7342f2249cdfb65638db0cd070f1ae75\", element=\"32eee4d2-6f72-4133-bfb9-a426a03501c4\")>,\n",
       " <selenium.webdriver.remote.webelement.WebElement (session=\"7342f2249cdfb65638db0cd070f1ae75\", element=\"a40e1237-f273-41da-a3c5-4f5183e9aeb9\")>,\n",
       " <selenium.webdriver.remote.webelement.WebElement (session=\"7342f2249cdfb65638db0cd070f1ae75\", element=\"ed441d35-e9af-4510-bfae-7d1798b989c9\")>,\n",
       " <selenium.webdriver.remote.webelement.WebElement (session=\"7342f2249cdfb65638db0cd070f1ae75\", element=\"360f7eea-f56e-4c79-96fe-07c82b6ef6b7\")>,\n",
       " <selenium.webdriver.remote.webelement.WebElement (session=\"7342f2249cdfb65638db0cd070f1ae75\", element=\"953b9b88-6b4e-4b0b-9dac-d4ad966557d9\")>,\n",
       " <selenium.webdriver.remote.webelement.WebElement (session=\"7342f2249cdfb65638db0cd070f1ae75\", element=\"97f57963-9d46-49f4-b228-13ce9fe4bb0a\")>,\n",
       " <selenium.webdriver.remote.webelement.WebElement (session=\"7342f2249cdfb65638db0cd070f1ae75\", element=\"2e30c8a0-7361-441f-a8db-4a2a975e5508\")>]"
      ]
     },
     "execution_count": 15,
     "metadata": {},
     "output_type": "execute_result"
    }
   ],
   "source": [
    "loc_tag=driver.find_elements_by_xpath(\"//li[@class='fleft grey-text br2 placeHolderLi location']/span\")\n",
    "loc_tag[0:10]"
   ]
  },
  {
   "cell_type": "code",
   "execution_count": 16,
   "id": "1ccd94fe",
   "metadata": {
    "collapsed": true
   },
   "outputs": [
    {
     "data": {
      "text/plain": [
       "['Bangalore/Bengaluru',\n",
       " 'Hyderabad/Secunderabad, Pune, Bangalore/Bengaluru',\n",
       " 'Bangalore/Bengaluru',\n",
       " 'Bangalore/Bengaluru',\n",
       " 'Pune, Bangalore/Bengaluru',\n",
       " '(WFH during Covid)',\n",
       " 'Bangalore/Bengaluru',\n",
       " 'Hyderabad/Secunderabad, Chennai, Bangalore/Bengaluru',\n",
       " 'Hyderabad/Secunderabad, Bangalore/Bengaluru',\n",
       " 'Chennai, Bangalore/Bengaluru']"
      ]
     },
     "execution_count": 16,
     "metadata": {},
     "output_type": "execute_result"
    }
   ],
   "source": [
    "loc=[]\n",
    "\n",
    "for i in loc_tag:\n",
    "    loc.append(i.text)\n",
    "loc[0:10]"
   ]
  },
  {
   "cell_type": "code",
   "execution_count": 17,
   "id": "13737f2a",
   "metadata": {},
   "outputs": [],
   "source": [
    "jobs=pd.DataFrame({})\n",
    "jobs['Titles']=title[0:10]\n",
    "jobs['Company']=company[0:10]\n",
    "jobs['Location']=loc[0:10]"
   ]
  },
  {
   "cell_type": "code",
   "execution_count": 18,
   "id": "f5970069",
   "metadata": {
    "collapsed": true
   },
   "outputs": [
    {
     "data": {
      "text/html": [
       "<div>\n",
       "<style scoped>\n",
       "    .dataframe tbody tr th:only-of-type {\n",
       "        vertical-align: middle;\n",
       "    }\n",
       "\n",
       "    .dataframe tbody tr th {\n",
       "        vertical-align: top;\n",
       "    }\n",
       "\n",
       "    .dataframe thead th {\n",
       "        text-align: right;\n",
       "    }\n",
       "</style>\n",
       "<table border=\"1\" class=\"dataframe\">\n",
       "  <thead>\n",
       "    <tr style=\"text-align: right;\">\n",
       "      <th></th>\n",
       "      <th>Titles</th>\n",
       "      <th>Company</th>\n",
       "      <th>Location</th>\n",
       "    </tr>\n",
       "  </thead>\n",
       "  <tbody>\n",
       "    <tr>\n",
       "      <th>0</th>\n",
       "      <td>Hiring For AI Architect / Lead Data Scientist ...</td>\n",
       "      <td>IQVIA RDS India Pvt Ltd</td>\n",
       "      <td>Bangalore/Bengaluru</td>\n",
       "    </tr>\n",
       "    <tr>\n",
       "      <th>1</th>\n",
       "      <td>Data Scientist</td>\n",
       "      <td>Amazon</td>\n",
       "      <td>Hyderabad/Secunderabad, Pune, Bangalore/Bengaluru</td>\n",
       "    </tr>\n",
       "    <tr>\n",
       "      <th>2</th>\n",
       "      <td>Data Scientist</td>\n",
       "      <td>Narayana Hrudayalaya Ltd</td>\n",
       "      <td>Bangalore/Bengaluru</td>\n",
       "    </tr>\n",
       "    <tr>\n",
       "      <th>3</th>\n",
       "      <td>Data Scientist</td>\n",
       "      <td>Alstom Transport India Ltd.</td>\n",
       "      <td>Bangalore/Bengaluru</td>\n",
       "    </tr>\n",
       "    <tr>\n",
       "      <th>4</th>\n",
       "      <td>Data Scientist</td>\n",
       "      <td>Persistent Systems Limited.</td>\n",
       "      <td>Pune, Bangalore/Bengaluru</td>\n",
       "    </tr>\n",
       "    <tr>\n",
       "      <th>5</th>\n",
       "      <td>Senior Data Scientist | Fortune 500 Supermarke...</td>\n",
       "      <td>TALENT500 TECH (INDIA) PRIVATE LIMITED</td>\n",
       "      <td>(WFH during Covid)</td>\n",
       "    </tr>\n",
       "    <tr>\n",
       "      <th>6</th>\n",
       "      <td>Senior Data Scientist</td>\n",
       "      <td>Santechture</td>\n",
       "      <td>Bangalore/Bengaluru</td>\n",
       "    </tr>\n",
       "    <tr>\n",
       "      <th>7</th>\n",
       "      <td>Data Scientist | MNC Company</td>\n",
       "      <td>Huptech Consultancy Services</td>\n",
       "      <td>Hyderabad/Secunderabad, Chennai, Bangalore/Ben...</td>\n",
       "    </tr>\n",
       "    <tr>\n",
       "      <th>8</th>\n",
       "      <td>Principal Data Scientist</td>\n",
       "      <td>Kaleidofin</td>\n",
       "      <td>Hyderabad/Secunderabad, Bangalore/Bengaluru</td>\n",
       "    </tr>\n",
       "    <tr>\n",
       "      <th>9</th>\n",
       "      <td>Data Scientist I</td>\n",
       "      <td>Swiggy</td>\n",
       "      <td>Chennai, Bangalore/Bengaluru</td>\n",
       "    </tr>\n",
       "  </tbody>\n",
       "</table>\n",
       "</div>"
      ],
      "text/plain": [
       "                                              Titles  \\\n",
       "0  Hiring For AI Architect / Lead Data Scientist ...   \n",
       "1                                     Data Scientist   \n",
       "2                                     Data Scientist   \n",
       "3                                     Data Scientist   \n",
       "4                                     Data Scientist   \n",
       "5  Senior Data Scientist | Fortune 500 Supermarke...   \n",
       "6                              Senior Data Scientist   \n",
       "7                       Data Scientist | MNC Company   \n",
       "8                           Principal Data Scientist   \n",
       "9                                   Data Scientist I   \n",
       "\n",
       "                                  Company  \\\n",
       "0                 IQVIA RDS India Pvt Ltd   \n",
       "1                                  Amazon   \n",
       "2                Narayana Hrudayalaya Ltd   \n",
       "3             Alstom Transport India Ltd.   \n",
       "4             Persistent Systems Limited.   \n",
       "5  TALENT500 TECH (INDIA) PRIVATE LIMITED   \n",
       "6                             Santechture   \n",
       "7            Huptech Consultancy Services   \n",
       "8                              Kaleidofin   \n",
       "9                                  Swiggy   \n",
       "\n",
       "                                            Location  \n",
       "0                                Bangalore/Bengaluru  \n",
       "1  Hyderabad/Secunderabad, Pune, Bangalore/Bengaluru  \n",
       "2                                Bangalore/Bengaluru  \n",
       "3                                Bangalore/Bengaluru  \n",
       "4                          Pune, Bangalore/Bengaluru  \n",
       "5                                 (WFH during Covid)  \n",
       "6                                Bangalore/Bengaluru  \n",
       "7  Hyderabad/Secunderabad, Chennai, Bangalore/Ben...  \n",
       "8        Hyderabad/Secunderabad, Bangalore/Bengaluru  \n",
       "9                       Chennai, Bangalore/Bengaluru  "
      ]
     },
     "execution_count": 18,
     "metadata": {},
     "output_type": "execute_result"
    }
   ],
   "source": [
    "jobs"
   ]
  },
  {
   "cell_type": "markdown",
   "id": "2fecd21e",
   "metadata": {},
   "source": [
    "# Question 3"
   ]
  },
  {
   "cell_type": "code",
   "execution_count": 3,
   "id": "78e1b6b7",
   "metadata": {},
   "outputs": [],
   "source": [
    "driver.get('https://www.naukri.com/')"
   ]
  },
  {
   "cell_type": "code",
   "execution_count": 4,
   "id": "672b5d5b",
   "metadata": {},
   "outputs": [
    {
     "name": "stderr",
     "output_type": "stream",
     "text": [
      "<ipython-input-4-1d116e63cf37>:1: DeprecationWarning: find_element_by_* commands are deprecated. Please use find_element() instead\n",
      "  search_job=driver.find_element_by_id('qsb-keyword-sugg')\n"
     ]
    }
   ],
   "source": [
    "search_job=driver.find_element_by_id('qsb-keyword-sugg')\n",
    "search_job.send_keys('Data Scientist')"
   ]
  },
  {
   "cell_type": "code",
   "execution_count": 14,
   "id": "2a9406e0",
   "metadata": {
    "collapsed": true
   },
   "outputs": [
    {
     "name": "stderr",
     "output_type": "stream",
     "text": [
      "<ipython-input-14-dea17d70f3d2>:1: DeprecationWarning: find_element_by_* commands are deprecated. Please use find_element() instead\n",
      "  search_button=driver.find_element_by_xpath(\"//div[@class='search-btn']/button\")\n"
     ]
    },
    {
     "ename": "NoSuchElementException",
     "evalue": "Message: no such element: Unable to locate element: {\"method\":\"xpath\",\"selector\":\"//div[@class='search-btn']/button\"}\n  (Session info: chrome=95.0.4638.69)\nStacktrace:\nBacktrace:\n\tOrdinal0 [0x003306F3+2492147]\n\tOrdinal0 [0x002C9BD1+2071505]\n\tOrdinal0 [0x001D2478+1057912]\n\tOrdinal0 [0x001FC964+1231204]\n\tOrdinal0 [0x00226B62+1403746]\n\tOrdinal0 [0x002157FA+1333242]\n\tOrdinal0 [0x00224F38+1396536]\n\tOrdinal0 [0x0021568B+1332875]\n\tOrdinal0 [0x001F21D4+1188308]\n\tOrdinal0 [0x001F302F+1191983]\n\tGetHandleVerifier [0x004B67A6+1545030]\n\tGetHandleVerifier [0x0056105C+2243580]\n\tGetHandleVerifier [0x003BBC97+518199]\n\tGetHandleVerifier [0x003BAD80+514336]\n\tOrdinal0 [0x002CED2D+2092333]\n\tOrdinal0 [0x002D2EE8+2109160]\n\tOrdinal0 [0x002D3022+2109474]\n\tOrdinal0 [0x002DCB71+2149233]\n\tBaseThreadInitThunk [0x7642FA29+25]\n\tRtlGetAppContainerNamedObjectPath [0x77197A9E+286]\n\tRtlGetAppContainerNamedObjectPath [0x77197A6E+238]\n\t(No symbol) [0x00000000]\n",
     "output_type": "error",
     "traceback": [
      "\u001b[1;31m---------------------------------------------------------------------------\u001b[0m",
      "\u001b[1;31mNoSuchElementException\u001b[0m                    Traceback (most recent call last)",
      "\u001b[1;32m<ipython-input-14-dea17d70f3d2>\u001b[0m in \u001b[0;36m<module>\u001b[1;34m\u001b[0m\n\u001b[1;32m----> 1\u001b[1;33m \u001b[0msearch_button\u001b[0m\u001b[1;33m=\u001b[0m\u001b[0mdriver\u001b[0m\u001b[1;33m.\u001b[0m\u001b[0mfind_element_by_xpath\u001b[0m\u001b[1;33m(\u001b[0m\u001b[1;34m\"//div[@class='search-btn']/button\"\u001b[0m\u001b[1;33m)\u001b[0m\u001b[1;33m\u001b[0m\u001b[1;33m\u001b[0m\u001b[0m\n\u001b[0m",
      "\u001b[1;32m~\\Anaconda3\\lib\\site-packages\\selenium\\webdriver\\remote\\webdriver.py\u001b[0m in \u001b[0;36mfind_element_by_xpath\u001b[1;34m(self, xpath)\u001b[0m\n\u001b[0;32m    512\u001b[0m             \u001b[0mstacklevel\u001b[0m\u001b[1;33m=\u001b[0m\u001b[1;36m2\u001b[0m\u001b[1;33m,\u001b[0m\u001b[1;33m\u001b[0m\u001b[1;33m\u001b[0m\u001b[0m\n\u001b[0;32m    513\u001b[0m         )\n\u001b[1;32m--> 514\u001b[1;33m         \u001b[1;32mreturn\u001b[0m \u001b[0mself\u001b[0m\u001b[1;33m.\u001b[0m\u001b[0mfind_element\u001b[0m\u001b[1;33m(\u001b[0m\u001b[0mby\u001b[0m\u001b[1;33m=\u001b[0m\u001b[0mBy\u001b[0m\u001b[1;33m.\u001b[0m\u001b[0mXPATH\u001b[0m\u001b[1;33m,\u001b[0m \u001b[0mvalue\u001b[0m\u001b[1;33m=\u001b[0m\u001b[0mxpath\u001b[0m\u001b[1;33m)\u001b[0m\u001b[1;33m\u001b[0m\u001b[1;33m\u001b[0m\u001b[0m\n\u001b[0m\u001b[0;32m    515\u001b[0m \u001b[1;33m\u001b[0m\u001b[0m\n\u001b[0;32m    516\u001b[0m     \u001b[1;32mdef\u001b[0m \u001b[0mfind_elements_by_xpath\u001b[0m\u001b[1;33m(\u001b[0m\u001b[0mself\u001b[0m\u001b[1;33m,\u001b[0m \u001b[0mxpath\u001b[0m\u001b[1;33m)\u001b[0m \u001b[1;33m->\u001b[0m \u001b[0mWebElement\u001b[0m\u001b[1;33m:\u001b[0m\u001b[1;33m\u001b[0m\u001b[1;33m\u001b[0m\u001b[0m\n",
      "\u001b[1;32m~\\Anaconda3\\lib\\site-packages\\selenium\\webdriver\\remote\\webdriver.py\u001b[0m in \u001b[0;36mfind_element\u001b[1;34m(self, by, value)\u001b[0m\n\u001b[0;32m   1236\u001b[0m             \u001b[0mvalue\u001b[0m \u001b[1;33m=\u001b[0m \u001b[1;34m'[name=\"%s\"]'\u001b[0m \u001b[1;33m%\u001b[0m \u001b[0mvalue\u001b[0m\u001b[1;33m\u001b[0m\u001b[1;33m\u001b[0m\u001b[0m\n\u001b[0;32m   1237\u001b[0m \u001b[1;33m\u001b[0m\u001b[0m\n\u001b[1;32m-> 1238\u001b[1;33m         return self.execute(Command.FIND_ELEMENT, {\n\u001b[0m\u001b[0;32m   1239\u001b[0m             \u001b[1;34m'using'\u001b[0m\u001b[1;33m:\u001b[0m \u001b[0mby\u001b[0m\u001b[1;33m,\u001b[0m\u001b[1;33m\u001b[0m\u001b[1;33m\u001b[0m\u001b[0m\n\u001b[0;32m   1240\u001b[0m             'value': value})['value']\n",
      "\u001b[1;32m~\\Anaconda3\\lib\\site-packages\\selenium\\webdriver\\remote\\webdriver.py\u001b[0m in \u001b[0;36mexecute\u001b[1;34m(self, driver_command, params)\u001b[0m\n\u001b[0;32m    416\u001b[0m         \u001b[0mresponse\u001b[0m \u001b[1;33m=\u001b[0m \u001b[0mself\u001b[0m\u001b[1;33m.\u001b[0m\u001b[0mcommand_executor\u001b[0m\u001b[1;33m.\u001b[0m\u001b[0mexecute\u001b[0m\u001b[1;33m(\u001b[0m\u001b[0mdriver_command\u001b[0m\u001b[1;33m,\u001b[0m \u001b[0mparams\u001b[0m\u001b[1;33m)\u001b[0m\u001b[1;33m\u001b[0m\u001b[1;33m\u001b[0m\u001b[0m\n\u001b[0;32m    417\u001b[0m         \u001b[1;32mif\u001b[0m \u001b[0mresponse\u001b[0m\u001b[1;33m:\u001b[0m\u001b[1;33m\u001b[0m\u001b[1;33m\u001b[0m\u001b[0m\n\u001b[1;32m--> 418\u001b[1;33m             \u001b[0mself\u001b[0m\u001b[1;33m.\u001b[0m\u001b[0merror_handler\u001b[0m\u001b[1;33m.\u001b[0m\u001b[0mcheck_response\u001b[0m\u001b[1;33m(\u001b[0m\u001b[0mresponse\u001b[0m\u001b[1;33m)\u001b[0m\u001b[1;33m\u001b[0m\u001b[1;33m\u001b[0m\u001b[0m\n\u001b[0m\u001b[0;32m    419\u001b[0m             response['value'] = self._unwrap_value(\n\u001b[0;32m    420\u001b[0m                 response.get('value', None))\n",
      "\u001b[1;32m~\\Anaconda3\\lib\\site-packages\\selenium\\webdriver\\remote\\errorhandler.py\u001b[0m in \u001b[0;36mcheck_response\u001b[1;34m(self, response)\u001b[0m\n\u001b[0;32m    241\u001b[0m                 \u001b[0malert_text\u001b[0m \u001b[1;33m=\u001b[0m \u001b[0mvalue\u001b[0m\u001b[1;33m[\u001b[0m\u001b[1;34m'alert'\u001b[0m\u001b[1;33m]\u001b[0m\u001b[1;33m.\u001b[0m\u001b[0mget\u001b[0m\u001b[1;33m(\u001b[0m\u001b[1;34m'text'\u001b[0m\u001b[1;33m)\u001b[0m\u001b[1;33m\u001b[0m\u001b[1;33m\u001b[0m\u001b[0m\n\u001b[0;32m    242\u001b[0m             \u001b[1;32mraise\u001b[0m \u001b[0mexception_class\u001b[0m\u001b[1;33m(\u001b[0m\u001b[0mmessage\u001b[0m\u001b[1;33m,\u001b[0m \u001b[0mscreen\u001b[0m\u001b[1;33m,\u001b[0m \u001b[0mstacktrace\u001b[0m\u001b[1;33m,\u001b[0m \u001b[0malert_text\u001b[0m\u001b[1;33m)\u001b[0m  \u001b[1;31m# type: ignore[call-arg]  # mypy is not smart enough here\u001b[0m\u001b[1;33m\u001b[0m\u001b[1;33m\u001b[0m\u001b[0m\n\u001b[1;32m--> 243\u001b[1;33m         \u001b[1;32mraise\u001b[0m \u001b[0mexception_class\u001b[0m\u001b[1;33m(\u001b[0m\u001b[0mmessage\u001b[0m\u001b[1;33m,\u001b[0m \u001b[0mscreen\u001b[0m\u001b[1;33m,\u001b[0m \u001b[0mstacktrace\u001b[0m\u001b[1;33m)\u001b[0m\u001b[1;33m\u001b[0m\u001b[1;33m\u001b[0m\u001b[0m\n\u001b[0m\u001b[0;32m    244\u001b[0m \u001b[1;33m\u001b[0m\u001b[0m\n\u001b[0;32m    245\u001b[0m     \u001b[1;32mdef\u001b[0m \u001b[0m_value_or_default\u001b[0m\u001b[1;33m(\u001b[0m\u001b[0mself\u001b[0m\u001b[1;33m,\u001b[0m \u001b[0mobj\u001b[0m\u001b[1;33m:\u001b[0m \u001b[0mMapping\u001b[0m\u001b[1;33m[\u001b[0m\u001b[0m_KT\u001b[0m\u001b[1;33m,\u001b[0m \u001b[0m_VT\u001b[0m\u001b[1;33m]\u001b[0m\u001b[1;33m,\u001b[0m \u001b[0mkey\u001b[0m\u001b[1;33m:\u001b[0m \u001b[0m_KT\u001b[0m\u001b[1;33m,\u001b[0m \u001b[0mdefault\u001b[0m\u001b[1;33m:\u001b[0m \u001b[0m_VT\u001b[0m\u001b[1;33m)\u001b[0m \u001b[1;33m->\u001b[0m \u001b[0m_VT\u001b[0m\u001b[1;33m:\u001b[0m\u001b[1;33m\u001b[0m\u001b[1;33m\u001b[0m\u001b[0m\n",
      "\u001b[1;31mNoSuchElementException\u001b[0m: Message: no such element: Unable to locate element: {\"method\":\"xpath\",\"selector\":\"//div[@class='search-btn']/button\"}\n  (Session info: chrome=95.0.4638.69)\nStacktrace:\nBacktrace:\n\tOrdinal0 [0x003306F3+2492147]\n\tOrdinal0 [0x002C9BD1+2071505]\n\tOrdinal0 [0x001D2478+1057912]\n\tOrdinal0 [0x001FC964+1231204]\n\tOrdinal0 [0x00226B62+1403746]\n\tOrdinal0 [0x002157FA+1333242]\n\tOrdinal0 [0x00224F38+1396536]\n\tOrdinal0 [0x0021568B+1332875]\n\tOrdinal0 [0x001F21D4+1188308]\n\tOrdinal0 [0x001F302F+1191983]\n\tGetHandleVerifier [0x004B67A6+1545030]\n\tGetHandleVerifier [0x0056105C+2243580]\n\tGetHandleVerifier [0x003BBC97+518199]\n\tGetHandleVerifier [0x003BAD80+514336]\n\tOrdinal0 [0x002CED2D+2092333]\n\tOrdinal0 [0x002D2EE8+2109160]\n\tOrdinal0 [0x002D3022+2109474]\n\tOrdinal0 [0x002DCB71+2149233]\n\tBaseThreadInitThunk [0x7642FA29+25]\n\tRtlGetAppContainerNamedObjectPath [0x77197A9E+286]\n\tRtlGetAppContainerNamedObjectPath [0x77197A6E+238]\n\t(No symbol) [0x00000000]\n"
     ]
    }
   ],
   "source": [
    "search_button=driver.find_element_by_xpath(\"//div[@class='search-btn']/button\")\n",
    "search_button.click()"
   ]
  },
  {
   "cell_type": "code",
   "execution_count": 16,
   "id": "b4f613a7",
   "metadata": {},
   "outputs": [
    {
     "name": "stderr",
     "output_type": "stream",
     "text": [
      "<ipython-input-16-0e385bb4b836>:1: DeprecationWarning: find_element_by_* commands are deprecated. Please use find_element() instead\n",
      "  filter_salary=driver.find_element_by_xpath('//*[@id=\"root\"]/div[3]/div[2]/section[1]/div[2]/div[4]/div[2]/div[2]/label/i')\n"
     ]
    },
    {
     "data": {
      "text/plain": [
       "<bound method WebElement.click of <selenium.webdriver.remote.webelement.WebElement (session=\"3803c0b2421e5934a70b8bfb0694ff7a\", element=\"c264a5a8-ee0f-4d94-b00d-010b5dd22dfa\")>>"
      ]
     },
     "execution_count": 16,
     "metadata": {},
     "output_type": "execute_result"
    }
   ],
   "source": [
    "filter_salary=driver.find_element_by_xpath('//*[@id=\"root\"]/div[3]/div[2]/section[1]/div[2]/div[4]/div[2]/div[2]/label/i')\n",
    "filter_salary.click"
   ]
  },
  {
   "cell_type": "code",
   "execution_count": 20,
   "id": "ea3b2edd",
   "metadata": {},
   "outputs": [
    {
     "name": "stderr",
     "output_type": "stream",
     "text": [
      "<ipython-input-20-9bb2784107f2>:1: DeprecationWarning: find_element_by_* commands are deprecated. Please use find_element() instead\n",
      "  filter_city=driver.find_element_by_xpath('//*[@id=\"root\"]/div[3]/div[2]/section[1]/div[2]/div[1]/div[2]/div[3]/label/i')\n"
     ]
    },
    {
     "data": {
      "text/plain": [
       "<bound method WebElement.click of <selenium.webdriver.remote.webelement.WebElement (session=\"3803c0b2421e5934a70b8bfb0694ff7a\", element=\"7c3bbe35-8eeb-4037-b463-32b0c8f66fbf\")>>"
      ]
     },
     "execution_count": 20,
     "metadata": {},
     "output_type": "execute_result"
    }
   ],
   "source": [
    "filter_city=driver.find_element_by_xpath('//*[@id=\"root\"]/div[3]/div[2]/section[1]/div[2]/div[1]/div[2]/div[3]/label/i')\n",
    "filter_city.click"
   ]
  },
  {
   "cell_type": "code",
   "execution_count": 23,
   "id": "4d9d59ea",
   "metadata": {},
   "outputs": [],
   "source": [
    "driver.get('https://www.naukri.com/data-scientist-jobs?k=data%20scientist&cityTypeGid=9508&ctcFilter=3to6')"
   ]
  },
  {
   "cell_type": "code",
   "execution_count": 24,
   "id": "dc26ea32",
   "metadata": {},
   "outputs": [
    {
     "name": "stderr",
     "output_type": "stream",
     "text": [
      "<ipython-input-24-e2f17a7c5674>:1: DeprecationWarning: find_elements_by_* commands are deprecated. Please use find_elements() instead\n",
      "  title_tag=driver.find_elements_by_xpath(\"//a[@class='title fw500 ellipsis']\")\n"
     ]
    },
    {
     "data": {
      "text/plain": [
       "[<selenium.webdriver.remote.webelement.WebElement (session=\"7342f2249cdfb65638db0cd070f1ae75\", element=\"99f4c42a-a726-41c4-b9fa-d358fa875622\")>,\n",
       " <selenium.webdriver.remote.webelement.WebElement (session=\"7342f2249cdfb65638db0cd070f1ae75\", element=\"4b28c9cb-1c0f-4f8a-9c2a-6553a52f1bb6\")>,\n",
       " <selenium.webdriver.remote.webelement.WebElement (session=\"7342f2249cdfb65638db0cd070f1ae75\", element=\"3d424b7a-edca-488e-9810-1a1f32314983\")>,\n",
       " <selenium.webdriver.remote.webelement.WebElement (session=\"7342f2249cdfb65638db0cd070f1ae75\", element=\"57674614-30ce-4f82-b994-8924a6f2c042\")>,\n",
       " <selenium.webdriver.remote.webelement.WebElement (session=\"7342f2249cdfb65638db0cd070f1ae75\", element=\"f1840ecc-4a1b-4826-a027-98602efcb9d2\")>,\n",
       " <selenium.webdriver.remote.webelement.WebElement (session=\"7342f2249cdfb65638db0cd070f1ae75\", element=\"2d638ba1-ea8e-4afb-82ae-1b5a506e5e90\")>,\n",
       " <selenium.webdriver.remote.webelement.WebElement (session=\"7342f2249cdfb65638db0cd070f1ae75\", element=\"1ac048f4-29eb-4782-8c68-1c3ff8416380\")>,\n",
       " <selenium.webdriver.remote.webelement.WebElement (session=\"7342f2249cdfb65638db0cd070f1ae75\", element=\"171ff92d-82e1-49a5-bebc-61afad997030\")>,\n",
       " <selenium.webdriver.remote.webelement.WebElement (session=\"7342f2249cdfb65638db0cd070f1ae75\", element=\"7a152ba1-7031-4b6d-bbc8-6409d76fbf9c\")>,\n",
       " <selenium.webdriver.remote.webelement.WebElement (session=\"7342f2249cdfb65638db0cd070f1ae75\", element=\"6daca995-9612-4ab5-83ac-80b483d8df0c\")>]"
      ]
     },
     "execution_count": 24,
     "metadata": {},
     "output_type": "execute_result"
    }
   ],
   "source": [
    "title_tag=driver.find_elements_by_xpath(\"//a[@class='title fw500 ellipsis']\")\n",
    "title_tag[0:10]"
   ]
  },
  {
   "cell_type": "code",
   "execution_count": 25,
   "id": "dcaec7ac",
   "metadata": {},
   "outputs": [
    {
     "data": {
      "text/plain": [
       "['Data Scientist',\n",
       " 'Data Scientist',\n",
       " 'Data Scientist',\n",
       " 'Urgent Hiring || Data Scientist || Delhi',\n",
       " 'Job Opportunity || Data Scientist || HCL Technologies',\n",
       " 'Data Scientist',\n",
       " 'Data Scientist',\n",
       " 'Data Scientist Internship',\n",
       " 'Data Scientist',\n",
       " 'Project Manager | Team Leader | Senior Data Scientist']"
      ]
     },
     "execution_count": 25,
     "metadata": {},
     "output_type": "execute_result"
    }
   ],
   "source": [
    "title=[]\n",
    "\n",
    "for i in title_tag:\n",
    "    title.append(i.text)\n",
    "title[0:10]"
   ]
  },
  {
   "cell_type": "code",
   "execution_count": 26,
   "id": "5e1a4a35",
   "metadata": {},
   "outputs": [
    {
     "name": "stderr",
     "output_type": "stream",
     "text": [
      "<ipython-input-26-e16ab402ae97>:1: DeprecationWarning: find_elements_by_* commands are deprecated. Please use find_elements() instead\n",
      "  company_tag=driver.find_elements_by_xpath(\"//a[@class='subTitle ellipsis fleft']\")\n"
     ]
    },
    {
     "data": {
      "text/plain": [
       "[<selenium.webdriver.remote.webelement.WebElement (session=\"7342f2249cdfb65638db0cd070f1ae75\", element=\"9ac7351b-e741-4834-969c-94d07e3d4def\")>,\n",
       " <selenium.webdriver.remote.webelement.WebElement (session=\"7342f2249cdfb65638db0cd070f1ae75\", element=\"8b5b3ec6-0082-44a1-9d36-e345733f4abb\")>,\n",
       " <selenium.webdriver.remote.webelement.WebElement (session=\"7342f2249cdfb65638db0cd070f1ae75\", element=\"4ebdf5cc-af9a-4b91-998e-9fdcaf5f36db\")>,\n",
       " <selenium.webdriver.remote.webelement.WebElement (session=\"7342f2249cdfb65638db0cd070f1ae75\", element=\"9235481d-0eb2-491a-8212-2adfa8c7df6d\")>,\n",
       " <selenium.webdriver.remote.webelement.WebElement (session=\"7342f2249cdfb65638db0cd070f1ae75\", element=\"12f49e37-8e0c-4a20-80c9-21dd4a3c99a9\")>,\n",
       " <selenium.webdriver.remote.webelement.WebElement (session=\"7342f2249cdfb65638db0cd070f1ae75\", element=\"575cd7ae-7fcb-4729-a9c7-1b1f791f3575\")>,\n",
       " <selenium.webdriver.remote.webelement.WebElement (session=\"7342f2249cdfb65638db0cd070f1ae75\", element=\"9ac82dcb-946c-45b5-80f7-9fba4420c649\")>,\n",
       " <selenium.webdriver.remote.webelement.WebElement (session=\"7342f2249cdfb65638db0cd070f1ae75\", element=\"98f8127c-fd80-4fb9-b84c-5bc6a10d915a\")>,\n",
       " <selenium.webdriver.remote.webelement.WebElement (session=\"7342f2249cdfb65638db0cd070f1ae75\", element=\"35471cb6-d87b-4902-8e2e-9458df4caf65\")>,\n",
       " <selenium.webdriver.remote.webelement.WebElement (session=\"7342f2249cdfb65638db0cd070f1ae75\", element=\"c641fbeb-f7c9-4a93-b969-b4c3082afa40\")>]"
      ]
     },
     "execution_count": 26,
     "metadata": {},
     "output_type": "execute_result"
    }
   ],
   "source": [
    "company_tag=driver.find_elements_by_xpath(\"//a[@class='subTitle ellipsis fleft']\")\n",
    "company_tag[0:10]"
   ]
  },
  {
   "cell_type": "code",
   "execution_count": 27,
   "id": "35c11c5d",
   "metadata": {},
   "outputs": [
    {
     "data": {
      "text/plain": [
       "['Think i',\n",
       " 'MoMagic Technologies Pvt. Ltd.',\n",
       " 'MoMagic Technologies Pvt. Ltd.',\n",
       " 'Shriram Automall India Limited',\n",
       " 'HCL Technologies',\n",
       " 'Optum Global Solutions (India) Private Limited',\n",
       " 'SVK Global Solutions Private Limited',\n",
       " 'iHackers Inc',\n",
       " 'Fractal Analytics',\n",
       " 'Tidyquant (OPC) Private Limited']"
      ]
     },
     "execution_count": 27,
     "metadata": {},
     "output_type": "execute_result"
    }
   ],
   "source": [
    "company=[]\n",
    "\n",
    "for i in company_tag:\n",
    "    company.append(i.text)\n",
    "company[0:10]"
   ]
  },
  {
   "cell_type": "code",
   "execution_count": 28,
   "id": "d35656fa",
   "metadata": {},
   "outputs": [
    {
     "name": "stderr",
     "output_type": "stream",
     "text": [
      "<ipython-input-28-4701cb100210>:1: DeprecationWarning: find_elements_by_* commands are deprecated. Please use find_elements() instead\n",
      "  loc_tag=driver.find_elements_by_xpath(\"//li[@class='fleft grey-text br2 placeHolderLi location']/span\")\n"
     ]
    },
    {
     "data": {
      "text/plain": [
       "[<selenium.webdriver.remote.webelement.WebElement (session=\"7342f2249cdfb65638db0cd070f1ae75\", element=\"c79efd89-0d0f-4d60-b396-e9b2821b4779\")>,\n",
       " <selenium.webdriver.remote.webelement.WebElement (session=\"7342f2249cdfb65638db0cd070f1ae75\", element=\"efb487cd-1d1b-401a-aeb9-482a84b6c451\")>,\n",
       " <selenium.webdriver.remote.webelement.WebElement (session=\"7342f2249cdfb65638db0cd070f1ae75\", element=\"737f1c5c-fa2d-4f58-a5f6-e2b0dc41a7c4\")>,\n",
       " <selenium.webdriver.remote.webelement.WebElement (session=\"7342f2249cdfb65638db0cd070f1ae75\", element=\"9a1c63d5-fd1f-48e7-9af3-aa10234d5bb0\")>,\n",
       " <selenium.webdriver.remote.webelement.WebElement (session=\"7342f2249cdfb65638db0cd070f1ae75\", element=\"a3a64c61-5247-496f-bcba-7efaf450c185\")>,\n",
       " <selenium.webdriver.remote.webelement.WebElement (session=\"7342f2249cdfb65638db0cd070f1ae75\", element=\"f7c1e01b-3167-4d3b-8a07-016bef1c5ec5\")>,\n",
       " <selenium.webdriver.remote.webelement.WebElement (session=\"7342f2249cdfb65638db0cd070f1ae75\", element=\"29d92f70-74ad-4155-95db-ac58f4a12df4\")>,\n",
       " <selenium.webdriver.remote.webelement.WebElement (session=\"7342f2249cdfb65638db0cd070f1ae75\", element=\"73cba39a-cc0b-476c-bfb7-edd31952df57\")>,\n",
       " <selenium.webdriver.remote.webelement.WebElement (session=\"7342f2249cdfb65638db0cd070f1ae75\", element=\"feaed969-9a7a-43c3-b9fe-ea636e953d98\")>,\n",
       " <selenium.webdriver.remote.webelement.WebElement (session=\"7342f2249cdfb65638db0cd070f1ae75\", element=\"a56aa7f8-05e7-4e53-b704-38f2338b5a66\")>]"
      ]
     },
     "execution_count": 28,
     "metadata": {},
     "output_type": "execute_result"
    }
   ],
   "source": [
    "loc_tag=driver.find_elements_by_xpath(\"//li[@class='fleft grey-text br2 placeHolderLi location']/span\")\n",
    "loc_tag[0:10]"
   ]
  },
  {
   "cell_type": "code",
   "execution_count": 29,
   "id": "6cf4cc9b",
   "metadata": {},
   "outputs": [
    {
     "data": {
      "text/plain": [
       "['Kochi/Cochin, Kolkata, Hyderabad/Secunderabad, Pune, Ahmedabad, Chennai, Bangalore/Bengaluru, Delhi / NCR, Mumbai (All Areas)',\n",
       " 'Noida(Sector-126 Noida)',\n",
       " 'Noida(Sector-126 Noida)',\n",
       " 'Delhi / NCR(Netaji Subhash Place)',\n",
       " 'Delhi / NCR',\n",
       " 'Noida, Gurgaon/Gurugram',\n",
       " 'Noida',\n",
       " 'New Delhi',\n",
       " 'Mumbai, Gurgaon/Gurugram, Bangalore/Bengaluru',\n",
       " 'Remote']"
      ]
     },
     "execution_count": 29,
     "metadata": {},
     "output_type": "execute_result"
    }
   ],
   "source": [
    "loc=[]\n",
    "\n",
    "for i in loc_tag:\n",
    "    loc.append(i.text)\n",
    "loc[0:10]"
   ]
  },
  {
   "cell_type": "code",
   "execution_count": 30,
   "id": "b0b53b69",
   "metadata": {},
   "outputs": [
    {
     "name": "stderr",
     "output_type": "stream",
     "text": [
      "<ipython-input-30-c5a353980552>:1: DeprecationWarning: find_elements_by_* commands are deprecated. Please use find_elements() instead\n",
      "  exp_tag=driver.find_elements_by_xpath(\"//li[@class='fleft grey-text br2 placeHolderLi experience']/span\")\n"
     ]
    },
    {
     "data": {
      "text/plain": [
       "[<selenium.webdriver.remote.webelement.WebElement (session=\"7342f2249cdfb65638db0cd070f1ae75\", element=\"4dd2ca8a-bac8-42f5-81e0-7a1e44c448ac\")>,\n",
       " <selenium.webdriver.remote.webelement.WebElement (session=\"7342f2249cdfb65638db0cd070f1ae75\", element=\"01181292-4fd5-4286-92c8-33e92ccaf959\")>,\n",
       " <selenium.webdriver.remote.webelement.WebElement (session=\"7342f2249cdfb65638db0cd070f1ae75\", element=\"0c463b7e-6306-4535-884d-8a6bd245ceaf\")>,\n",
       " <selenium.webdriver.remote.webelement.WebElement (session=\"7342f2249cdfb65638db0cd070f1ae75\", element=\"3857c192-c5b4-4df3-8a11-2491ccf393b6\")>,\n",
       " <selenium.webdriver.remote.webelement.WebElement (session=\"7342f2249cdfb65638db0cd070f1ae75\", element=\"9d3d92ea-085b-4343-802f-db9a126859f5\")>,\n",
       " <selenium.webdriver.remote.webelement.WebElement (session=\"7342f2249cdfb65638db0cd070f1ae75\", element=\"bec9d787-e03f-44b6-b6f8-6a4cc2b450b2\")>,\n",
       " <selenium.webdriver.remote.webelement.WebElement (session=\"7342f2249cdfb65638db0cd070f1ae75\", element=\"a8c53335-2646-4a85-9b6a-60138fbd7605\")>,\n",
       " <selenium.webdriver.remote.webelement.WebElement (session=\"7342f2249cdfb65638db0cd070f1ae75\", element=\"9f7c9a77-e6c4-47f6-a066-d4153d4b8846\")>,\n",
       " <selenium.webdriver.remote.webelement.WebElement (session=\"7342f2249cdfb65638db0cd070f1ae75\", element=\"02c04479-ebaa-4ce9-88ef-c9b17f2678ee\")>,\n",
       " <selenium.webdriver.remote.webelement.WebElement (session=\"7342f2249cdfb65638db0cd070f1ae75\", element=\"22499bb8-a2a4-4a0e-97e3-3df97b3473e5\")>]"
      ]
     },
     "execution_count": 30,
     "metadata": {},
     "output_type": "execute_result"
    }
   ],
   "source": [
    "exp_tag=driver.find_elements_by_xpath(\"//li[@class='fleft grey-text br2 placeHolderLi experience']/span\")\n",
    "exp_tag[0:10]"
   ]
  },
  {
   "cell_type": "code",
   "execution_count": 31,
   "id": "1bd4f5c3",
   "metadata": {},
   "outputs": [
    {
     "data": {
      "text/plain": [
       "['0-2 Yrs',\n",
       " '4-6 Yrs',\n",
       " '4-6 Yrs',\n",
       " '2-7 Yrs',\n",
       " '4-7 Yrs',\n",
       " '2-6 Yrs',\n",
       " '6-10 Yrs',\n",
       " '0-1 Yrs',\n",
       " '3-7 Yrs',\n",
       " '2-7 Yrs']"
      ]
     },
     "execution_count": 31,
     "metadata": {},
     "output_type": "execute_result"
    }
   ],
   "source": [
    "exp=[]\n",
    "\n",
    "for i in exp_tag:\n",
    "    exp.append(i.text)\n",
    "exp[0:10]"
   ]
  },
  {
   "cell_type": "code",
   "execution_count": 34,
   "id": "b0fd005c",
   "metadata": {},
   "outputs": [],
   "source": [
    "jobs=pd.DataFrame({})\n",
    "jobs['Titles']=title[0:10]\n",
    "jobs['Company']=company[0:10]\n",
    "jobs['Location']=loc[0:10]\n",
    "jobs['Experience']=exp[0:10]"
   ]
  },
  {
   "cell_type": "code",
   "execution_count": 35,
   "id": "3e0d7fed",
   "metadata": {},
   "outputs": [
    {
     "data": {
      "text/html": [
       "<div>\n",
       "<style scoped>\n",
       "    .dataframe tbody tr th:only-of-type {\n",
       "        vertical-align: middle;\n",
       "    }\n",
       "\n",
       "    .dataframe tbody tr th {\n",
       "        vertical-align: top;\n",
       "    }\n",
       "\n",
       "    .dataframe thead th {\n",
       "        text-align: right;\n",
       "    }\n",
       "</style>\n",
       "<table border=\"1\" class=\"dataframe\">\n",
       "  <thead>\n",
       "    <tr style=\"text-align: right;\">\n",
       "      <th></th>\n",
       "      <th>Titles</th>\n",
       "      <th>Company</th>\n",
       "      <th>Location</th>\n",
       "      <th>Experience</th>\n",
       "    </tr>\n",
       "  </thead>\n",
       "  <tbody>\n",
       "    <tr>\n",
       "      <th>0</th>\n",
       "      <td>Data Scientist</td>\n",
       "      <td>Think i</td>\n",
       "      <td>Kochi/Cochin, Kolkata, Hyderabad/Secunderabad,...</td>\n",
       "      <td>0-2 Yrs</td>\n",
       "    </tr>\n",
       "    <tr>\n",
       "      <th>1</th>\n",
       "      <td>Data Scientist</td>\n",
       "      <td>MoMagic Technologies Pvt. Ltd.</td>\n",
       "      <td>Noida(Sector-126 Noida)</td>\n",
       "      <td>4-6 Yrs</td>\n",
       "    </tr>\n",
       "    <tr>\n",
       "      <th>2</th>\n",
       "      <td>Data Scientist</td>\n",
       "      <td>MoMagic Technologies Pvt. Ltd.</td>\n",
       "      <td>Noida(Sector-126 Noida)</td>\n",
       "      <td>4-6 Yrs</td>\n",
       "    </tr>\n",
       "    <tr>\n",
       "      <th>3</th>\n",
       "      <td>Urgent Hiring || Data Scientist || Delhi</td>\n",
       "      <td>Shriram Automall India Limited</td>\n",
       "      <td>Delhi / NCR(Netaji Subhash Place)</td>\n",
       "      <td>2-7 Yrs</td>\n",
       "    </tr>\n",
       "    <tr>\n",
       "      <th>4</th>\n",
       "      <td>Job Opportunity || Data Scientist || HCL Techn...</td>\n",
       "      <td>HCL Technologies</td>\n",
       "      <td>Delhi / NCR</td>\n",
       "      <td>4-7 Yrs</td>\n",
       "    </tr>\n",
       "    <tr>\n",
       "      <th>5</th>\n",
       "      <td>Data Scientist</td>\n",
       "      <td>Optum Global Solutions (India) Private Limited</td>\n",
       "      <td>Noida, Gurgaon/Gurugram</td>\n",
       "      <td>2-6 Yrs</td>\n",
       "    </tr>\n",
       "    <tr>\n",
       "      <th>6</th>\n",
       "      <td>Data Scientist</td>\n",
       "      <td>SVK Global Solutions Private Limited</td>\n",
       "      <td>Noida</td>\n",
       "      <td>6-10 Yrs</td>\n",
       "    </tr>\n",
       "    <tr>\n",
       "      <th>7</th>\n",
       "      <td>Data Scientist Internship</td>\n",
       "      <td>iHackers Inc</td>\n",
       "      <td>New Delhi</td>\n",
       "      <td>0-1 Yrs</td>\n",
       "    </tr>\n",
       "    <tr>\n",
       "      <th>8</th>\n",
       "      <td>Data Scientist</td>\n",
       "      <td>Fractal Analytics</td>\n",
       "      <td>Mumbai, Gurgaon/Gurugram, Bangalore/Bengaluru</td>\n",
       "      <td>3-7 Yrs</td>\n",
       "    </tr>\n",
       "    <tr>\n",
       "      <th>9</th>\n",
       "      <td>Project Manager | Team Leader | Senior Data Sc...</td>\n",
       "      <td>Tidyquant (OPC) Private Limited</td>\n",
       "      <td>Remote</td>\n",
       "      <td>2-7 Yrs</td>\n",
       "    </tr>\n",
       "  </tbody>\n",
       "</table>\n",
       "</div>"
      ],
      "text/plain": [
       "                                              Titles  \\\n",
       "0                                     Data Scientist   \n",
       "1                                     Data Scientist   \n",
       "2                                     Data Scientist   \n",
       "3           Urgent Hiring || Data Scientist || Delhi   \n",
       "4  Job Opportunity || Data Scientist || HCL Techn...   \n",
       "5                                     Data Scientist   \n",
       "6                                     Data Scientist   \n",
       "7                          Data Scientist Internship   \n",
       "8                                     Data Scientist   \n",
       "9  Project Manager | Team Leader | Senior Data Sc...   \n",
       "\n",
       "                                          Company  \\\n",
       "0                                         Think i   \n",
       "1                  MoMagic Technologies Pvt. Ltd.   \n",
       "2                  MoMagic Technologies Pvt. Ltd.   \n",
       "3                  Shriram Automall India Limited   \n",
       "4                                HCL Technologies   \n",
       "5  Optum Global Solutions (India) Private Limited   \n",
       "6            SVK Global Solutions Private Limited   \n",
       "7                                    iHackers Inc   \n",
       "8                               Fractal Analytics   \n",
       "9                 Tidyquant (OPC) Private Limited   \n",
       "\n",
       "                                            Location Experience  \n",
       "0  Kochi/Cochin, Kolkata, Hyderabad/Secunderabad,...    0-2 Yrs  \n",
       "1                            Noida(Sector-126 Noida)    4-6 Yrs  \n",
       "2                            Noida(Sector-126 Noida)    4-6 Yrs  \n",
       "3                  Delhi / NCR(Netaji Subhash Place)    2-7 Yrs  \n",
       "4                                        Delhi / NCR    4-7 Yrs  \n",
       "5                            Noida, Gurgaon/Gurugram    2-6 Yrs  \n",
       "6                                              Noida   6-10 Yrs  \n",
       "7                                          New Delhi    0-1 Yrs  \n",
       "8      Mumbai, Gurgaon/Gurugram, Bangalore/Bengaluru    3-7 Yrs  \n",
       "9                                             Remote    2-7 Yrs  "
      ]
     },
     "execution_count": 35,
     "metadata": {},
     "output_type": "execute_result"
    }
   ],
   "source": [
    "jobs"
   ]
  },
  {
   "cell_type": "markdown",
   "id": "5bf4b42a",
   "metadata": {},
   "source": [
    "# Question No 4"
   ]
  },
  {
   "cell_type": "code",
   "execution_count": 6,
   "id": "706989cc",
   "metadata": {},
   "outputs": [],
   "source": [
    "driver.get('https://www.flipkart.com/')"
   ]
  },
  {
   "cell_type": "code",
   "execution_count": 7,
   "id": "c1185e03",
   "metadata": {},
   "outputs": [
    {
     "name": "stderr",
     "output_type": "stream",
     "text": [
      "<ipython-input-7-2680743bceb8>:1: DeprecationWarning: find_element_by_* commands are deprecated. Please use find_element() instead\n",
      "  search_item=driver.find_element_by_xpath(\"//input[@class='_3704LK']\")\n"
     ]
    }
   ],
   "source": [
    "search_item=driver.find_element_by_xpath(\"//input[@class='_3704LK']\")\n",
    "search_item.send_keys('sunglasses')"
   ]
  },
  {
   "cell_type": "code",
   "execution_count": 11,
   "id": "c1aefe2d",
   "metadata": {},
   "outputs": [
    {
     "name": "stderr",
     "output_type": "stream",
     "text": [
      "<ipython-input-11-22d68055beef>:1: DeprecationWarning: find_element_by_* commands are deprecated. Please use find_element() instead\n",
      "  search_button=driver.find_element_by_xpath(\"//div[@class='col-12-12 _2oO9oE']/button\")\n"
     ]
    }
   ],
   "source": [
    "search_button=driver.find_element_by_xpath(\"//div[@class='col-12-12 _2oO9oE']/button\")\n",
    "search_button.click()"
   ]
  },
  {
   "cell_type": "code",
   "execution_count": 12,
   "id": "72187d6a",
   "metadata": {},
   "outputs": [],
   "source": [
    "driver.get('https://www.flipkart.com/search?q=sunglasses&otracker=search&otracker1=search&marketplace=FLIPKART&as-show=on&as=off')"
   ]
  },
  {
   "cell_type": "code",
   "execution_count": 13,
   "id": "11cd5550",
   "metadata": {
    "collapsed": true
   },
   "outputs": [
    {
     "name": "stderr",
     "output_type": "stream",
     "text": [
      "<ipython-input-13-82461bd19b58>:1: DeprecationWarning: find_elements_by_* commands are deprecated. Please use find_elements() instead\n",
      "  brand_tag=driver.find_elements_by_xpath(\"//div[@class='_2WkVRV']\")\n"
     ]
    },
    {
     "data": {
      "text/plain": [
       "[<selenium.webdriver.remote.webelement.WebElement (session=\"aa180880041264a8e0f6376b7c390018\", element=\"3e5b76d4-f651-47c8-b670-e878f3234817\")>,\n",
       " <selenium.webdriver.remote.webelement.WebElement (session=\"aa180880041264a8e0f6376b7c390018\", element=\"d109fb7c-3c90-4400-b928-855be62a481a\")>,\n",
       " <selenium.webdriver.remote.webelement.WebElement (session=\"aa180880041264a8e0f6376b7c390018\", element=\"cc61061e-545e-47fd-ba79-041c1431f45d\")>,\n",
       " <selenium.webdriver.remote.webelement.WebElement (session=\"aa180880041264a8e0f6376b7c390018\", element=\"efc86211-d568-4eff-a7e4-16448f6a83cc\")>,\n",
       " <selenium.webdriver.remote.webelement.WebElement (session=\"aa180880041264a8e0f6376b7c390018\", element=\"48bb5ca5-aedc-4fb6-93bc-4216179ac5d9\")>,\n",
       " <selenium.webdriver.remote.webelement.WebElement (session=\"aa180880041264a8e0f6376b7c390018\", element=\"66c58b2e-3e8f-44c8-9dc5-8fbc167dc81f\")>,\n",
       " <selenium.webdriver.remote.webelement.WebElement (session=\"aa180880041264a8e0f6376b7c390018\", element=\"4676fa00-172b-4923-9539-9b10f175667a\")>,\n",
       " <selenium.webdriver.remote.webelement.WebElement (session=\"aa180880041264a8e0f6376b7c390018\", element=\"d0f9ba25-e305-4e1a-80f6-4a586482a097\")>,\n",
       " <selenium.webdriver.remote.webelement.WebElement (session=\"aa180880041264a8e0f6376b7c390018\", element=\"880076fc-fe1b-4e50-9222-39a4f524c199\")>,\n",
       " <selenium.webdriver.remote.webelement.WebElement (session=\"aa180880041264a8e0f6376b7c390018\", element=\"6816068c-36a2-4d60-b1a8-cfd4f01ad537\")>,\n",
       " <selenium.webdriver.remote.webelement.WebElement (session=\"aa180880041264a8e0f6376b7c390018\", element=\"2d614e90-775d-44d0-9ca0-fd46e5308be4\")>,\n",
       " <selenium.webdriver.remote.webelement.WebElement (session=\"aa180880041264a8e0f6376b7c390018\", element=\"122a0143-5ee2-46cf-bcce-a40b0ed0e6ae\")>,\n",
       " <selenium.webdriver.remote.webelement.WebElement (session=\"aa180880041264a8e0f6376b7c390018\", element=\"01dec1cc-5067-45e0-a9a6-1d6fdb364af5\")>,\n",
       " <selenium.webdriver.remote.webelement.WebElement (session=\"aa180880041264a8e0f6376b7c390018\", element=\"ebec3d95-89f4-4076-bd5b-6a9f0c310d65\")>,\n",
       " <selenium.webdriver.remote.webelement.WebElement (session=\"aa180880041264a8e0f6376b7c390018\", element=\"35320773-df4e-4df3-8110-7392b74bd159\")>,\n",
       " <selenium.webdriver.remote.webelement.WebElement (session=\"aa180880041264a8e0f6376b7c390018\", element=\"2c78462e-89f2-4d9c-8860-d6b423d6388f\")>,\n",
       " <selenium.webdriver.remote.webelement.WebElement (session=\"aa180880041264a8e0f6376b7c390018\", element=\"cd5ed8e6-678a-492c-bcb2-63c3ed950a0a\")>,\n",
       " <selenium.webdriver.remote.webelement.WebElement (session=\"aa180880041264a8e0f6376b7c390018\", element=\"4f35fe9f-0d10-4154-969b-f8d032c28501\")>,\n",
       " <selenium.webdriver.remote.webelement.WebElement (session=\"aa180880041264a8e0f6376b7c390018\", element=\"5c44f146-84a8-4fa6-86b4-a29d5bd18527\")>,\n",
       " <selenium.webdriver.remote.webelement.WebElement (session=\"aa180880041264a8e0f6376b7c390018\", element=\"9447f961-deb7-4f09-add9-ed95d8c2f2b1\")>,\n",
       " <selenium.webdriver.remote.webelement.WebElement (session=\"aa180880041264a8e0f6376b7c390018\", element=\"7a13170a-4a99-40d6-bd1d-6faf82371edb\")>,\n",
       " <selenium.webdriver.remote.webelement.WebElement (session=\"aa180880041264a8e0f6376b7c390018\", element=\"05ddf2aa-8be9-4357-9f9b-aa893764a2f1\")>,\n",
       " <selenium.webdriver.remote.webelement.WebElement (session=\"aa180880041264a8e0f6376b7c390018\", element=\"acf929d0-0275-462c-b7ff-3cd62299bff4\")>,\n",
       " <selenium.webdriver.remote.webelement.WebElement (session=\"aa180880041264a8e0f6376b7c390018\", element=\"0ff6643e-dafa-420b-bda6-8b089af84726\")>,\n",
       " <selenium.webdriver.remote.webelement.WebElement (session=\"aa180880041264a8e0f6376b7c390018\", element=\"ed36e8ae-2152-455e-822a-b756edf5d8f0\")>,\n",
       " <selenium.webdriver.remote.webelement.WebElement (session=\"aa180880041264a8e0f6376b7c390018\", element=\"9117f6c3-693a-49e6-bad6-4cb24f61b80e\")>,\n",
       " <selenium.webdriver.remote.webelement.WebElement (session=\"aa180880041264a8e0f6376b7c390018\", element=\"68d0c428-e1b4-4879-bbab-eb376a085b19\")>,\n",
       " <selenium.webdriver.remote.webelement.WebElement (session=\"aa180880041264a8e0f6376b7c390018\", element=\"0876c628-289b-4e59-8ba0-e8cc8f16031e\")>,\n",
       " <selenium.webdriver.remote.webelement.WebElement (session=\"aa180880041264a8e0f6376b7c390018\", element=\"79b81105-6da1-4b75-b5b0-d51862232c65\")>,\n",
       " <selenium.webdriver.remote.webelement.WebElement (session=\"aa180880041264a8e0f6376b7c390018\", element=\"4b3c5253-c3d0-4af9-9003-3ba359dbf846\")>,\n",
       " <selenium.webdriver.remote.webelement.WebElement (session=\"aa180880041264a8e0f6376b7c390018\", element=\"6f56c4db-d0e7-42b5-8245-2413fe376e03\")>,\n",
       " <selenium.webdriver.remote.webelement.WebElement (session=\"aa180880041264a8e0f6376b7c390018\", element=\"8c4708d8-f6db-4e08-9284-cf7b5e3b8d4c\")>,\n",
       " <selenium.webdriver.remote.webelement.WebElement (session=\"aa180880041264a8e0f6376b7c390018\", element=\"20a703df-9fbf-45cd-b4f9-8084691cccf5\")>,\n",
       " <selenium.webdriver.remote.webelement.WebElement (session=\"aa180880041264a8e0f6376b7c390018\", element=\"21f2c61b-c591-4ead-8c20-76eefd7fb19d\")>,\n",
       " <selenium.webdriver.remote.webelement.WebElement (session=\"aa180880041264a8e0f6376b7c390018\", element=\"18fb5010-4b6f-47e8-ac55-db33abbb10dd\")>,\n",
       " <selenium.webdriver.remote.webelement.WebElement (session=\"aa180880041264a8e0f6376b7c390018\", element=\"cea5f922-ed02-4495-8a93-b041c046a58a\")>,\n",
       " <selenium.webdriver.remote.webelement.WebElement (session=\"aa180880041264a8e0f6376b7c390018\", element=\"00c11076-e95c-4069-9cf9-4c4829c46231\")>,\n",
       " <selenium.webdriver.remote.webelement.WebElement (session=\"aa180880041264a8e0f6376b7c390018\", element=\"5624a0fb-02dd-4564-a947-3052f5cbf987\")>,\n",
       " <selenium.webdriver.remote.webelement.WebElement (session=\"aa180880041264a8e0f6376b7c390018\", element=\"ffb8d6c0-020f-4833-a36f-e44ea0a2546a\")>,\n",
       " <selenium.webdriver.remote.webelement.WebElement (session=\"aa180880041264a8e0f6376b7c390018\", element=\"1dadffbe-fe12-48e5-b9b1-380b854103be\")>]"
      ]
     },
     "execution_count": 13,
     "metadata": {},
     "output_type": "execute_result"
    }
   ],
   "source": [
    "brand_tag=driver.find_elements_by_xpath(\"//div[@class='_2WkVRV']\")\n",
    "brand_tag"
   ]
  },
  {
   "cell_type": "code",
   "execution_count": 15,
   "id": "31d04da1",
   "metadata": {
    "collapsed": true
   },
   "outputs": [
    {
     "data": {
      "text/plain": [
       "['VINCENT CHASE',\n",
       " 'VINCENT CHASE',\n",
       " 'Elligator',\n",
       " 'Fastrack',\n",
       " 'SUNBEE',\n",
       " 'PIRASO',\n",
       " 'SHAAH COLLECTIONS',\n",
       " 'ROYAL SON',\n",
       " 'New Specs',\n",
       " 'PHENOMENAL',\n",
       " 'SRPM',\n",
       " 'VINCENT CHASE',\n",
       " 'PIRASO',\n",
       " 'kingsunglasses',\n",
       " 'HIPPON',\n",
       " 'ROZZETTA CRAFT',\n",
       " 'GANSTA',\n",
       " 'New Specs',\n",
       " 'ROZZETTA CRAFT',\n",
       " 'ROYAL SON',\n",
       " 'hipe',\n",
       " 'kingsunglasses',\n",
       " 'Elligator',\n",
       " 'elegante',\n",
       " 'SHAAH COLLECTIONS',\n",
       " 'Rich Club',\n",
       " 'SHAAH COLLECTIONS',\n",
       " 'Fravy',\n",
       " 'Silver Kartz',\n",
       " 'Elligator',\n",
       " 'NuVew',\n",
       " 'ROYAL SON',\n",
       " 'ROZZETTA CRAFT',\n",
       " 'SUNBEE',\n",
       " 'Lee Topper',\n",
       " 'ROYAL SON',\n",
       " 'SRPM',\n",
       " 'kingsunglasses',\n",
       " 'hipe',\n",
       " 'ROYAL SON']"
      ]
     },
     "execution_count": 15,
     "metadata": {},
     "output_type": "execute_result"
    }
   ],
   "source": [
    "brand=[]\n",
    "\n",
    "for i in brand_tag:\n",
    "    brand.append(i.text)\n",
    "brand"
   ]
  },
  {
   "cell_type": "code",
   "execution_count": 17,
   "id": "0f5d7468",
   "metadata": {},
   "outputs": [
    {
     "data": {
      "text/plain": [
       "40"
      ]
     },
     "execution_count": 17,
     "metadata": {},
     "output_type": "execute_result"
    }
   ],
   "source": [
    "len(brand)"
   ]
  },
  {
   "cell_type": "code",
   "execution_count": 34,
   "id": "b8ff406f",
   "metadata": {
    "collapsed": true
   },
   "outputs": [
    {
     "name": "stderr",
     "output_type": "stream",
     "text": [
      "<ipython-input-34-fa963fc5fa2c>:1: DeprecationWarning: find_elements_by_* commands are deprecated. Please use find_elements() instead\n",
      "  description_tag=driver.find_elements_by_xpath(\"//a[@class='IRpwTa']\")\n"
     ]
    },
    {
     "data": {
      "text/plain": [
       "[<selenium.webdriver.remote.webelement.WebElement (session=\"aa180880041264a8e0f6376b7c390018\", element=\"f7860640-a100-487d-a17a-a336be797952\")>,\n",
       " <selenium.webdriver.remote.webelement.WebElement (session=\"aa180880041264a8e0f6376b7c390018\", element=\"46288b63-fdbf-42ac-8ace-66284b31141c\")>,\n",
       " <selenium.webdriver.remote.webelement.WebElement (session=\"aa180880041264a8e0f6376b7c390018\", element=\"428e33df-c441-4c71-a25c-afd9720bbcf1\")>,\n",
       " <selenium.webdriver.remote.webelement.WebElement (session=\"aa180880041264a8e0f6376b7c390018\", element=\"7bbfa87f-c3df-4a6a-b1fc-9afe0ae215aa\")>,\n",
       " <selenium.webdriver.remote.webelement.WebElement (session=\"aa180880041264a8e0f6376b7c390018\", element=\"1d9f1838-08ca-4bbb-bf18-48b249c00ae5\")>,\n",
       " <selenium.webdriver.remote.webelement.WebElement (session=\"aa180880041264a8e0f6376b7c390018\", element=\"761057ca-2dc5-4961-8b97-0098eb20366f\")>,\n",
       " <selenium.webdriver.remote.webelement.WebElement (session=\"aa180880041264a8e0f6376b7c390018\", element=\"0dbb718b-e241-4e62-afa2-7ba19ef0beda\")>,\n",
       " <selenium.webdriver.remote.webelement.WebElement (session=\"aa180880041264a8e0f6376b7c390018\", element=\"c5d1249a-8633-4e4d-a58b-3a75376bc01e\")>,\n",
       " <selenium.webdriver.remote.webelement.WebElement (session=\"aa180880041264a8e0f6376b7c390018\", element=\"59dca68a-0095-45d3-b7b8-68b983f8c373\")>,\n",
       " <selenium.webdriver.remote.webelement.WebElement (session=\"aa180880041264a8e0f6376b7c390018\", element=\"c93aa13b-b62c-4d05-a107-bdacf9940bbf\")>,\n",
       " <selenium.webdriver.remote.webelement.WebElement (session=\"aa180880041264a8e0f6376b7c390018\", element=\"c9d64728-e34e-4afa-903d-a57001c65d3d\")>,\n",
       " <selenium.webdriver.remote.webelement.WebElement (session=\"aa180880041264a8e0f6376b7c390018\", element=\"9ec73e66-eeb3-44b3-b054-b7268fb7891b\")>,\n",
       " <selenium.webdriver.remote.webelement.WebElement (session=\"aa180880041264a8e0f6376b7c390018\", element=\"60913b36-bb40-4090-b743-82ed4b4a1b80\")>,\n",
       " <selenium.webdriver.remote.webelement.WebElement (session=\"aa180880041264a8e0f6376b7c390018\", element=\"dd7fe0f5-4cff-46d3-b19c-b68044d97be9\")>,\n",
       " <selenium.webdriver.remote.webelement.WebElement (session=\"aa180880041264a8e0f6376b7c390018\", element=\"44265fba-d5f9-4323-aa38-f402377543ab\")>,\n",
       " <selenium.webdriver.remote.webelement.WebElement (session=\"aa180880041264a8e0f6376b7c390018\", element=\"f86b3451-c853-415e-a484-59a1104254ef\")>,\n",
       " <selenium.webdriver.remote.webelement.WebElement (session=\"aa180880041264a8e0f6376b7c390018\", element=\"eca80395-a3e4-497a-aee2-41165449b5eb\")>,\n",
       " <selenium.webdriver.remote.webelement.WebElement (session=\"aa180880041264a8e0f6376b7c390018\", element=\"663dc9c0-1b51-48b5-b450-1f5d7a5d14f3\")>,\n",
       " <selenium.webdriver.remote.webelement.WebElement (session=\"aa180880041264a8e0f6376b7c390018\", element=\"08b1ab19-77af-40bf-a323-3a830a1f2b92\")>,\n",
       " <selenium.webdriver.remote.webelement.WebElement (session=\"aa180880041264a8e0f6376b7c390018\", element=\"be51bcb8-9876-4c8b-bec9-e37a82e37ba0\")>,\n",
       " <selenium.webdriver.remote.webelement.WebElement (session=\"aa180880041264a8e0f6376b7c390018\", element=\"7cc833f8-bebe-4b10-9c88-aa0d510231dd\")>,\n",
       " <selenium.webdriver.remote.webelement.WebElement (session=\"aa180880041264a8e0f6376b7c390018\", element=\"ef85e999-9424-4323-8aa6-89e620f92bf2\")>,\n",
       " <selenium.webdriver.remote.webelement.WebElement (session=\"aa180880041264a8e0f6376b7c390018\", element=\"7a85537c-b0e4-4189-8d05-ae4c8fb6f73b\")>,\n",
       " <selenium.webdriver.remote.webelement.WebElement (session=\"aa180880041264a8e0f6376b7c390018\", element=\"16928f26-6b32-4e25-a921-2dcee65f29a3\")>,\n",
       " <selenium.webdriver.remote.webelement.WebElement (session=\"aa180880041264a8e0f6376b7c390018\", element=\"55b46f45-c788-44bb-bd2c-7561e377870b\")>,\n",
       " <selenium.webdriver.remote.webelement.WebElement (session=\"aa180880041264a8e0f6376b7c390018\", element=\"f4f4b79d-1f8f-4b25-8545-f73e26351009\")>,\n",
       " <selenium.webdriver.remote.webelement.WebElement (session=\"aa180880041264a8e0f6376b7c390018\", element=\"f3e3b7dd-409c-4898-b955-24d82033686c\")>,\n",
       " <selenium.webdriver.remote.webelement.WebElement (session=\"aa180880041264a8e0f6376b7c390018\", element=\"03d73e62-b4e7-44b0-9880-d9718c5cf450\")>,\n",
       " <selenium.webdriver.remote.webelement.WebElement (session=\"aa180880041264a8e0f6376b7c390018\", element=\"052adb1d-4305-4707-8bfe-4b1924bcf942\")>,\n",
       " <selenium.webdriver.remote.webelement.WebElement (session=\"aa180880041264a8e0f6376b7c390018\", element=\"ea21c946-b60c-46c3-82d7-bccd9907dc54\")>,\n",
       " <selenium.webdriver.remote.webelement.WebElement (session=\"aa180880041264a8e0f6376b7c390018\", element=\"13bb76e6-56b2-4e04-aa96-d952a4dd9067\")>,\n",
       " <selenium.webdriver.remote.webelement.WebElement (session=\"aa180880041264a8e0f6376b7c390018\", element=\"a92635be-d4a0-4f68-940b-254d6608c62e\")>,\n",
       " <selenium.webdriver.remote.webelement.WebElement (session=\"aa180880041264a8e0f6376b7c390018\", element=\"f5b84cd6-c261-4478-9775-47575a0220a6\")>,\n",
       " <selenium.webdriver.remote.webelement.WebElement (session=\"aa180880041264a8e0f6376b7c390018\", element=\"d1b53b94-66c0-4829-9c02-734e619171f2\")>,\n",
       " <selenium.webdriver.remote.webelement.WebElement (session=\"aa180880041264a8e0f6376b7c390018\", element=\"4212cbd7-009f-4cae-a80e-aa18242450bb\")>,\n",
       " <selenium.webdriver.remote.webelement.WebElement (session=\"aa180880041264a8e0f6376b7c390018\", element=\"f16d0c12-8b15-4170-a256-326522427e95\")>,\n",
       " <selenium.webdriver.remote.webelement.WebElement (session=\"aa180880041264a8e0f6376b7c390018\", element=\"fee902d3-06ae-443e-a6c3-2cdd2a652cc9\")>,\n",
       " <selenium.webdriver.remote.webelement.WebElement (session=\"aa180880041264a8e0f6376b7c390018\", element=\"03f5a9cd-e8a2-4056-89e9-8d50b0d2d372\")>,\n",
       " <selenium.webdriver.remote.webelement.WebElement (session=\"aa180880041264a8e0f6376b7c390018\", element=\"2d86ffd5-3cd2-4786-b9aa-56a456f08d83\")>,\n",
       " <selenium.webdriver.remote.webelement.WebElement (session=\"aa180880041264a8e0f6376b7c390018\", element=\"832c0f34-70ad-43ab-bb48-906028c06a11\")>]"
      ]
     },
     "execution_count": 34,
     "metadata": {},
     "output_type": "execute_result"
    }
   ],
   "source": [
    "description_tag=driver.find_elements_by_xpath(\"//a[@class='IRpwTa']\")\n",
    "description_tag"
   ]
  },
  {
   "cell_type": "code",
   "execution_count": 36,
   "id": "ab0afbd5",
   "metadata": {
    "collapsed": true
   },
   "outputs": [
    {
     "data": {
      "text/plain": [
       "['Polarized, UV Protection Round Sunglasses (53)',\n",
       " 'UV Protection, Polarized Round Sunglasses (Free Size)',\n",
       " 'UV Protection Round Sunglasses (54)',\n",
       " 'UV Protection Rectangular Sunglasses (Free Size)',\n",
       " 'UV Protection, Polarized, Mirrored Round Sunglasses (Fr...',\n",
       " 'UV Protection Aviator Sunglasses (54)',\n",
       " 'UV Protection, Polarized, Mirrored Rectangular Sunglass...',\n",
       " 'Polarized, UV Protection Aviator Sunglasses (58)',\n",
       " 'UV Protection Rectangular Sunglasses (Free Size)',\n",
       " 'UV Protection Wayfarer Sunglasses (56)',\n",
       " 'UV Protection Retro Square Sunglasses (Free Size)',\n",
       " 'Polarized, UV Protection Aviator Sunglasses (58)',\n",
       " 'UV Protection Round Sunglasses (54)',\n",
       " 'UV Protection Aviator Sunglasses (54)',\n",
       " 'UV Protection Wayfarer Sunglasses (55)',\n",
       " 'UV Protection, Gradient Retro Square Sunglasses (46)',\n",
       " 'UV Protection Aviator Sunglasses (57)',\n",
       " 'Mirrored, UV Protection, Riding Glasses, Others Round S...',\n",
       " 'UV Protection Retro Square Sunglasses (Free Size)',\n",
       " 'UV Protection, Gradient Over-sized Sunglasses (56)',\n",
       " 'Mirrored, UV Protection, Gradient Round Sunglasses (55)',\n",
       " 'UV Protection Aviator Sunglasses (55)',\n",
       " 'UV Protection Round Sunglasses (Free Size)',\n",
       " 'UV Protection Aviator Sunglasses (Free Size)',\n",
       " 'Mirrored, UV Protection Wayfarer Sunglasses (Free Size)',\n",
       " 'UV Protection, Polarized, Mirrored Rectangular Sunglass...',\n",
       " 'UV Protection Wayfarer Sunglasses (Free Size)',\n",
       " 'Polarized, UV Protection Wayfarer Sunglasses (57)',\n",
       " 'Polarized Round Sunglasses (48)',\n",
       " 'UV Protection Round Sunglasses (55)',\n",
       " 'Riding Glasses, Night Vision Wrap-around Sunglasses (Fr...',\n",
       " 'UV Protection Aviator Sunglasses (Free Size)',\n",
       " 'UV Protection, Night Vision, Riding Glasses Sports Sung...',\n",
       " 'UV Protection, Gradient Rectangular Sunglasses (Free Si...',\n",
       " 'UV Protection, Polarized, Mirrored Wayfarer Sunglasses ...',\n",
       " 'Polarized, UV Protection Wrap-around Sunglasses (60)',\n",
       " 'UV Protection Wayfarer Sunglasses (53)',\n",
       " 'UV Protection, Riding Glasses Wayfarer Sunglasses (53)',\n",
       " 'UV Protection Sports Sunglasses (Free Size)',\n",
       " 'Others Wayfarer Sunglasses (Free Size)']"
      ]
     },
     "execution_count": 36,
     "metadata": {},
     "output_type": "execute_result"
    }
   ],
   "source": [
    "des=[]\n",
    "\n",
    "for i in description_tag:\n",
    "    des.append(i.text)\n",
    "des"
   ]
  },
  {
   "cell_type": "code",
   "execution_count": 37,
   "id": "9949279f",
   "metadata": {
    "collapsed": true
   },
   "outputs": [
    {
     "name": "stderr",
     "output_type": "stream",
     "text": [
      "<ipython-input-37-d3196a515f2f>:1: DeprecationWarning: find_elements_by_* commands are deprecated. Please use find_elements() instead\n",
      "  price_tag=driver.find_elements_by_xpath(\"//div[@class='_30jeq3']\")\n"
     ]
    },
    {
     "data": {
      "text/plain": [
       "[<selenium.webdriver.remote.webelement.WebElement (session=\"aa180880041264a8e0f6376b7c390018\", element=\"d385e899-4086-4bf2-a00f-38582fd4a721\")>,\n",
       " <selenium.webdriver.remote.webelement.WebElement (session=\"aa180880041264a8e0f6376b7c390018\", element=\"9ee53734-b5dc-4331-a272-d2209e45add1\")>,\n",
       " <selenium.webdriver.remote.webelement.WebElement (session=\"aa180880041264a8e0f6376b7c390018\", element=\"0b45db28-3e05-4e51-822c-02e174c8fe46\")>,\n",
       " <selenium.webdriver.remote.webelement.WebElement (session=\"aa180880041264a8e0f6376b7c390018\", element=\"d238c3a6-2da0-46b7-8484-63b802ff15ce\")>,\n",
       " <selenium.webdriver.remote.webelement.WebElement (session=\"aa180880041264a8e0f6376b7c390018\", element=\"7ef26b47-00bb-47f9-9779-c10ae13d8e1a\")>,\n",
       " <selenium.webdriver.remote.webelement.WebElement (session=\"aa180880041264a8e0f6376b7c390018\", element=\"4fe5afec-7bcd-42ae-9e57-98c9fda88bfa\")>,\n",
       " <selenium.webdriver.remote.webelement.WebElement (session=\"aa180880041264a8e0f6376b7c390018\", element=\"cda5db0a-f4e8-4302-93f9-f93653b02800\")>,\n",
       " <selenium.webdriver.remote.webelement.WebElement (session=\"aa180880041264a8e0f6376b7c390018\", element=\"4de85d8f-3b4d-49e4-9806-707ec25321d2\")>,\n",
       " <selenium.webdriver.remote.webelement.WebElement (session=\"aa180880041264a8e0f6376b7c390018\", element=\"deccffd1-915a-433d-b8a1-9279801f782f\")>,\n",
       " <selenium.webdriver.remote.webelement.WebElement (session=\"aa180880041264a8e0f6376b7c390018\", element=\"dd6ecbcd-cf0f-45c1-95f7-2d7eef789410\")>,\n",
       " <selenium.webdriver.remote.webelement.WebElement (session=\"aa180880041264a8e0f6376b7c390018\", element=\"699cf71b-5574-45f6-8091-fa5b3da65870\")>,\n",
       " <selenium.webdriver.remote.webelement.WebElement (session=\"aa180880041264a8e0f6376b7c390018\", element=\"b9f2fbfb-addb-4494-9c49-e341beccf6ca\")>,\n",
       " <selenium.webdriver.remote.webelement.WebElement (session=\"aa180880041264a8e0f6376b7c390018\", element=\"ddbd9aac-dca0-4ddb-a37c-fbd63f0afadf\")>,\n",
       " <selenium.webdriver.remote.webelement.WebElement (session=\"aa180880041264a8e0f6376b7c390018\", element=\"2a325503-30ff-49db-bfca-762558db2eac\")>,\n",
       " <selenium.webdriver.remote.webelement.WebElement (session=\"aa180880041264a8e0f6376b7c390018\", element=\"534c8d5c-5a04-477a-8213-df472e9c6abd\")>,\n",
       " <selenium.webdriver.remote.webelement.WebElement (session=\"aa180880041264a8e0f6376b7c390018\", element=\"31d4b965-e037-4c4a-8899-6bd3ee009171\")>,\n",
       " <selenium.webdriver.remote.webelement.WebElement (session=\"aa180880041264a8e0f6376b7c390018\", element=\"cd5868f5-8ba8-49c0-89a5-2240d78f7a66\")>,\n",
       " <selenium.webdriver.remote.webelement.WebElement (session=\"aa180880041264a8e0f6376b7c390018\", element=\"5028edb5-3075-440a-a478-3c0c647fe31b\")>,\n",
       " <selenium.webdriver.remote.webelement.WebElement (session=\"aa180880041264a8e0f6376b7c390018\", element=\"cf35733e-34f7-46e4-899a-f3e1e7c272bd\")>,\n",
       " <selenium.webdriver.remote.webelement.WebElement (session=\"aa180880041264a8e0f6376b7c390018\", element=\"883a3928-5317-4c04-ad4b-9ff721d11c02\")>,\n",
       " <selenium.webdriver.remote.webelement.WebElement (session=\"aa180880041264a8e0f6376b7c390018\", element=\"78d7930c-aefd-4386-89eb-efe7ca4049d5\")>,\n",
       " <selenium.webdriver.remote.webelement.WebElement (session=\"aa180880041264a8e0f6376b7c390018\", element=\"f3cc4277-1a60-4e83-8af1-70380ae61aa6\")>,\n",
       " <selenium.webdriver.remote.webelement.WebElement (session=\"aa180880041264a8e0f6376b7c390018\", element=\"071613a3-b094-4e4f-846b-f322a65b1cf0\")>,\n",
       " <selenium.webdriver.remote.webelement.WebElement (session=\"aa180880041264a8e0f6376b7c390018\", element=\"f2caea52-8a37-4f92-abab-8420260e0177\")>,\n",
       " <selenium.webdriver.remote.webelement.WebElement (session=\"aa180880041264a8e0f6376b7c390018\", element=\"27f89b95-207b-4a80-8c67-b93b15250fcf\")>,\n",
       " <selenium.webdriver.remote.webelement.WebElement (session=\"aa180880041264a8e0f6376b7c390018\", element=\"074ebc84-0902-4319-942e-0a2cc38c11c3\")>,\n",
       " <selenium.webdriver.remote.webelement.WebElement (session=\"aa180880041264a8e0f6376b7c390018\", element=\"ec057abf-2f6a-4324-840c-6d9ee644e310\")>,\n",
       " <selenium.webdriver.remote.webelement.WebElement (session=\"aa180880041264a8e0f6376b7c390018\", element=\"deb86440-fca3-44f7-8c42-3c0093ff3009\")>,\n",
       " <selenium.webdriver.remote.webelement.WebElement (session=\"aa180880041264a8e0f6376b7c390018\", element=\"99b2d9cc-5cff-45ef-bcd3-32d6c0265c0d\")>,\n",
       " <selenium.webdriver.remote.webelement.WebElement (session=\"aa180880041264a8e0f6376b7c390018\", element=\"5cacd40e-4d9c-430b-b8d5-f41f6b78b956\")>,\n",
       " <selenium.webdriver.remote.webelement.WebElement (session=\"aa180880041264a8e0f6376b7c390018\", element=\"40de4196-751d-4628-8146-decb98f29137\")>,\n",
       " <selenium.webdriver.remote.webelement.WebElement (session=\"aa180880041264a8e0f6376b7c390018\", element=\"2cb1acdf-c564-45df-96b7-f6ff84386098\")>,\n",
       " <selenium.webdriver.remote.webelement.WebElement (session=\"aa180880041264a8e0f6376b7c390018\", element=\"a392dc2c-ec66-40f6-bfdb-7acda8c53f48\")>,\n",
       " <selenium.webdriver.remote.webelement.WebElement (session=\"aa180880041264a8e0f6376b7c390018\", element=\"a87cfb33-cf69-4911-bbef-598cfa72aa9f\")>,\n",
       " <selenium.webdriver.remote.webelement.WebElement (session=\"aa180880041264a8e0f6376b7c390018\", element=\"b31e7113-da7a-4f4f-a532-8fbbdc12c373\")>,\n",
       " <selenium.webdriver.remote.webelement.WebElement (session=\"aa180880041264a8e0f6376b7c390018\", element=\"b58643a1-6421-465c-b98e-818f8872b0bc\")>,\n",
       " <selenium.webdriver.remote.webelement.WebElement (session=\"aa180880041264a8e0f6376b7c390018\", element=\"bd2ca27c-32e7-4d43-90b5-4af6709f823f\")>,\n",
       " <selenium.webdriver.remote.webelement.WebElement (session=\"aa180880041264a8e0f6376b7c390018\", element=\"238ac2c8-63cc-4f3c-b611-4b772452166e\")>,\n",
       " <selenium.webdriver.remote.webelement.WebElement (session=\"aa180880041264a8e0f6376b7c390018\", element=\"81aad233-0837-4a1b-a5d3-0bc4e07c38f5\")>,\n",
       " <selenium.webdriver.remote.webelement.WebElement (session=\"aa180880041264a8e0f6376b7c390018\", element=\"3a629fc1-d92f-441a-9025-e1505fe727ef\")>]"
      ]
     },
     "execution_count": 37,
     "metadata": {},
     "output_type": "execute_result"
    }
   ],
   "source": [
    "price_tag=driver.find_elements_by_xpath(\"//div[@class='_30jeq3']\")\n",
    "price_tag"
   ]
  },
  {
   "cell_type": "code",
   "execution_count": 38,
   "id": "820beced",
   "metadata": {
    "collapsed": true
   },
   "outputs": [
    {
     "data": {
      "text/plain": [
       "['₹664',\n",
       " '₹1,415',\n",
       " '₹264',\n",
       " '₹513',\n",
       " '₹276',\n",
       " '₹200',\n",
       " '₹177',\n",
       " '₹999',\n",
       " '₹259',\n",
       " '₹188',\n",
       " '₹329',\n",
       " '₹999',\n",
       " '₹189',\n",
       " '₹200',\n",
       " '₹231',\n",
       " '₹325',\n",
       " '₹254',\n",
       " '₹269',\n",
       " '₹499',\n",
       " '₹664',\n",
       " '₹189',\n",
       " '₹294',\n",
       " '₹296',\n",
       " '₹999',\n",
       " '₹259',\n",
       " '₹189',\n",
       " '₹246',\n",
       " '₹999',\n",
       " '₹179',\n",
       " '₹239',\n",
       " '₹276',\n",
       " '₹999',\n",
       " '₹270',\n",
       " '₹399',\n",
       " '₹215',\n",
       " '₹759',\n",
       " '₹220',\n",
       " '₹209',\n",
       " '₹287',\n",
       " '₹549']"
      ]
     },
     "execution_count": 38,
     "metadata": {},
     "output_type": "execute_result"
    }
   ],
   "source": [
    "price=[]\n",
    "\n",
    "for i in price_tag:\n",
    "    price.append(i.text)\n",
    "price"
   ]
  },
  {
   "cell_type": "code",
   "execution_count": null,
   "id": "05f3d04a",
   "metadata": {},
   "outputs": [],
   "source": []
  },
  {
   "cell_type": "code",
   "execution_count": 18,
   "id": "ae501a67",
   "metadata": {},
   "outputs": [
    {
     "name": "stderr",
     "output_type": "stream",
     "text": [
      "<ipython-input-18-c5a098f22a58>:1: DeprecationWarning: find_element_by_* commands are deprecated. Please use find_element() instead\n",
      "  next_button=driver.find_element_by_xpath(\"//a[@class='_1LKTO3']\")\n"
     ]
    }
   ],
   "source": [
    "next_button=driver.find_element_by_xpath(\"//a[@class='_1LKTO3']\")\n",
    "next_button.click()"
   ]
  },
  {
   "cell_type": "code",
   "execution_count": 39,
   "id": "7b4704a9",
   "metadata": {},
   "outputs": [],
   "source": [
    "driver.get('https://www.flipkart.com/search?q=sunglasses&otracker=search&otracker1=search&marketplace=FLIPKART&as-show=on&as=off&page=2')"
   ]
  },
  {
   "cell_type": "code",
   "execution_count": 20,
   "id": "7eb4aaf0",
   "metadata": {
    "collapsed": true
   },
   "outputs": [
    {
     "name": "stderr",
     "output_type": "stream",
     "text": [
      "<ipython-input-20-82461bd19b58>:1: DeprecationWarning: find_elements_by_* commands are deprecated. Please use find_elements() instead\n",
      "  brand_tag=driver.find_elements_by_xpath(\"//div[@class='_2WkVRV']\")\n"
     ]
    },
    {
     "data": {
      "text/plain": [
       "[<selenium.webdriver.remote.webelement.WebElement (session=\"aa180880041264a8e0f6376b7c390018\", element=\"470a9988-a22d-45fe-b26c-8b9505562864\")>,\n",
       " <selenium.webdriver.remote.webelement.WebElement (session=\"aa180880041264a8e0f6376b7c390018\", element=\"5c0c49cc-5b35-4d2b-a61e-82f25b9c1b57\")>,\n",
       " <selenium.webdriver.remote.webelement.WebElement (session=\"aa180880041264a8e0f6376b7c390018\", element=\"7491ffe2-cd20-4843-b40e-217c7cf858d6\")>,\n",
       " <selenium.webdriver.remote.webelement.WebElement (session=\"aa180880041264a8e0f6376b7c390018\", element=\"3c5f1983-ccec-4dda-b6cd-c3567a49e0f1\")>,\n",
       " <selenium.webdriver.remote.webelement.WebElement (session=\"aa180880041264a8e0f6376b7c390018\", element=\"eb826a3c-9e9e-4c9a-b96d-c6f117f3130f\")>,\n",
       " <selenium.webdriver.remote.webelement.WebElement (session=\"aa180880041264a8e0f6376b7c390018\", element=\"048cacce-1fb8-4bc4-a8a1-3c9975050667\")>,\n",
       " <selenium.webdriver.remote.webelement.WebElement (session=\"aa180880041264a8e0f6376b7c390018\", element=\"5447b51f-b382-4bd7-bd17-3130bd48ef23\")>,\n",
       " <selenium.webdriver.remote.webelement.WebElement (session=\"aa180880041264a8e0f6376b7c390018\", element=\"92dc8b8a-0b11-4041-916e-b72a99354b2e\")>,\n",
       " <selenium.webdriver.remote.webelement.WebElement (session=\"aa180880041264a8e0f6376b7c390018\", element=\"35db768e-269e-44c6-9a05-938c2512c70b\")>,\n",
       " <selenium.webdriver.remote.webelement.WebElement (session=\"aa180880041264a8e0f6376b7c390018\", element=\"d5de7628-dcf1-4e3a-ac2d-b88741b98bfa\")>,\n",
       " <selenium.webdriver.remote.webelement.WebElement (session=\"aa180880041264a8e0f6376b7c390018\", element=\"05920b79-2a03-43f3-8d79-7f68fdb54240\")>,\n",
       " <selenium.webdriver.remote.webelement.WebElement (session=\"aa180880041264a8e0f6376b7c390018\", element=\"66275c07-3cd9-428d-b54e-6ffa8778968a\")>,\n",
       " <selenium.webdriver.remote.webelement.WebElement (session=\"aa180880041264a8e0f6376b7c390018\", element=\"ff1488e5-da8c-4922-82ae-cf4121f07a57\")>,\n",
       " <selenium.webdriver.remote.webelement.WebElement (session=\"aa180880041264a8e0f6376b7c390018\", element=\"733e165e-ab4e-49fa-a44b-ffabf5cba86a\")>,\n",
       " <selenium.webdriver.remote.webelement.WebElement (session=\"aa180880041264a8e0f6376b7c390018\", element=\"43c5c6f7-a756-4017-bc1c-08d38f90272b\")>,\n",
       " <selenium.webdriver.remote.webelement.WebElement (session=\"aa180880041264a8e0f6376b7c390018\", element=\"2802b82e-e69e-42fe-9f63-a358aea746d7\")>,\n",
       " <selenium.webdriver.remote.webelement.WebElement (session=\"aa180880041264a8e0f6376b7c390018\", element=\"bc7eadde-b547-435a-bbb1-6ea9fd51b4f9\")>,\n",
       " <selenium.webdriver.remote.webelement.WebElement (session=\"aa180880041264a8e0f6376b7c390018\", element=\"e4d1bbc3-5ba6-4eba-bd44-52d398e4adf9\")>,\n",
       " <selenium.webdriver.remote.webelement.WebElement (session=\"aa180880041264a8e0f6376b7c390018\", element=\"2cb90872-9d8d-4913-abfa-a4866efad62f\")>,\n",
       " <selenium.webdriver.remote.webelement.WebElement (session=\"aa180880041264a8e0f6376b7c390018\", element=\"72e9df53-bd8b-41ec-bc99-13a1b9bf9e4a\")>,\n",
       " <selenium.webdriver.remote.webelement.WebElement (session=\"aa180880041264a8e0f6376b7c390018\", element=\"9d0d359a-d382-49e7-888d-2d07d20f034a\")>,\n",
       " <selenium.webdriver.remote.webelement.WebElement (session=\"aa180880041264a8e0f6376b7c390018\", element=\"8b0b31fe-0c40-4bc3-b1e4-57d5aedd2cb4\")>,\n",
       " <selenium.webdriver.remote.webelement.WebElement (session=\"aa180880041264a8e0f6376b7c390018\", element=\"8a6af68d-c190-4c6b-b1fd-685ffe2b45d2\")>,\n",
       " <selenium.webdriver.remote.webelement.WebElement (session=\"aa180880041264a8e0f6376b7c390018\", element=\"6363d6b2-518e-424c-b846-1c26001d1c67\")>,\n",
       " <selenium.webdriver.remote.webelement.WebElement (session=\"aa180880041264a8e0f6376b7c390018\", element=\"0f87f232-c299-4b8e-a944-91c021cf75e5\")>,\n",
       " <selenium.webdriver.remote.webelement.WebElement (session=\"aa180880041264a8e0f6376b7c390018\", element=\"b12db3ba-a6e0-4e75-88f1-174eea8f5f8d\")>,\n",
       " <selenium.webdriver.remote.webelement.WebElement (session=\"aa180880041264a8e0f6376b7c390018\", element=\"6546c055-f3b1-4248-a957-fc7cf1a1c8c5\")>,\n",
       " <selenium.webdriver.remote.webelement.WebElement (session=\"aa180880041264a8e0f6376b7c390018\", element=\"dda16909-02bb-4e92-b42a-1e2567ad74aa\")>,\n",
       " <selenium.webdriver.remote.webelement.WebElement (session=\"aa180880041264a8e0f6376b7c390018\", element=\"470e9057-9d05-4e87-89c2-6c8e2d21dffd\")>,\n",
       " <selenium.webdriver.remote.webelement.WebElement (session=\"aa180880041264a8e0f6376b7c390018\", element=\"6628b8d9-b510-44f4-ac06-054c5d9e7c4b\")>,\n",
       " <selenium.webdriver.remote.webelement.WebElement (session=\"aa180880041264a8e0f6376b7c390018\", element=\"95e610d5-1df1-4c91-a141-79575a57b18b\")>,\n",
       " <selenium.webdriver.remote.webelement.WebElement (session=\"aa180880041264a8e0f6376b7c390018\", element=\"d0448d2a-78e8-4c65-b946-77e81df4b9d6\")>,\n",
       " <selenium.webdriver.remote.webelement.WebElement (session=\"aa180880041264a8e0f6376b7c390018\", element=\"4e3a5d99-1210-48df-adea-b0c5202c56a3\")>,\n",
       " <selenium.webdriver.remote.webelement.WebElement (session=\"aa180880041264a8e0f6376b7c390018\", element=\"f8a32af5-587e-43ba-a442-f3f24330ba4e\")>,\n",
       " <selenium.webdriver.remote.webelement.WebElement (session=\"aa180880041264a8e0f6376b7c390018\", element=\"bcb184ac-cbad-4b7c-9e5c-4f71b0d4b094\")>,\n",
       " <selenium.webdriver.remote.webelement.WebElement (session=\"aa180880041264a8e0f6376b7c390018\", element=\"9240ed17-97fe-41fc-b7a4-575dad17ce97\")>,\n",
       " <selenium.webdriver.remote.webelement.WebElement (session=\"aa180880041264a8e0f6376b7c390018\", element=\"1fa2c66a-f7b9-44f8-b99e-79828c065951\")>,\n",
       " <selenium.webdriver.remote.webelement.WebElement (session=\"aa180880041264a8e0f6376b7c390018\", element=\"ea9ac86e-4a93-49b3-a826-0442327d4793\")>,\n",
       " <selenium.webdriver.remote.webelement.WebElement (session=\"aa180880041264a8e0f6376b7c390018\", element=\"8f812dde-0685-479a-b457-acefe4baa6cb\")>,\n",
       " <selenium.webdriver.remote.webelement.WebElement (session=\"aa180880041264a8e0f6376b7c390018\", element=\"8f9c55f3-fb4b-4914-ac9a-04ea99deb258\")>]"
      ]
     },
     "execution_count": 20,
     "metadata": {},
     "output_type": "execute_result"
    }
   ],
   "source": [
    "brand_tag=driver.find_elements_by_xpath(\"//div[@class='_2WkVRV']\")\n",
    "brand_tag"
   ]
  },
  {
   "cell_type": "code",
   "execution_count": 21,
   "id": "a4db1006",
   "metadata": {
    "collapsed": true
   },
   "outputs": [
    {
     "data": {
      "text/plain": [
       "['kingsunglasses',\n",
       " 'PIRASO',\n",
       " 'Elligator',\n",
       " 'ROYAL SON',\n",
       " 'PHENOMENAL',\n",
       " 'Fastrack',\n",
       " 'Singco India',\n",
       " 'VINCENT CHASE',\n",
       " 'MAXX',\n",
       " 'PHENOMENAL',\n",
       " 'ROYAL SON',\n",
       " 'ROZZETTA CRAFT',\n",
       " 'New Specs',\n",
       " 'povty',\n",
       " 'ROZZETTA CRAFT',\n",
       " 'VINCENT CHASE',\n",
       " 'Lee Topper',\n",
       " 'PIRASO',\n",
       " 'SHAAH COLLECTIONS',\n",
       " 'Fravy',\n",
       " 'kingsunglasses',\n",
       " 'PIRASO',\n",
       " 'GANSTA',\n",
       " 'ROYAL SON',\n",
       " 'kingsunglasses',\n",
       " 'hipe',\n",
       " 'PIRASO',\n",
       " 'elegante',\n",
       " 'Singco India',\n",
       " 'DEIXELS',\n",
       " 'GANSTA',\n",
       " 'ROZZETTA CRAFT',\n",
       " 'Silver Kartz',\n",
       " 'Elligator',\n",
       " 'Fastrack',\n",
       " 'Fravy',\n",
       " 'kingsunglasses',\n",
       " 'DEIXELS',\n",
       " 'GANSTA',\n",
       " 'ROYAL SON']"
      ]
     },
     "execution_count": 21,
     "metadata": {},
     "output_type": "execute_result"
    }
   ],
   "source": [
    "brand=[]\n",
    "\n",
    "for i in brand_tag:\n",
    "    brand.append(i.text)\n",
    "brand"
   ]
  },
  {
   "cell_type": "code",
   "execution_count": 22,
   "id": "edeebb7a",
   "metadata": {},
   "outputs": [
    {
     "data": {
      "text/plain": [
       "40"
      ]
     },
     "execution_count": 22,
     "metadata": {},
     "output_type": "execute_result"
    }
   ],
   "source": [
    "len(brand)"
   ]
  },
  {
   "cell_type": "code",
   "execution_count": 40,
   "id": "22459d27",
   "metadata": {
    "collapsed": true
   },
   "outputs": [
    {
     "name": "stderr",
     "output_type": "stream",
     "text": [
      "<ipython-input-40-fa963fc5fa2c>:1: DeprecationWarning: find_elements_by_* commands are deprecated. Please use find_elements() instead\n",
      "  description_tag=driver.find_elements_by_xpath(\"//a[@class='IRpwTa']\")\n"
     ]
    },
    {
     "data": {
      "text/plain": [
       "[<selenium.webdriver.remote.webelement.WebElement (session=\"aa180880041264a8e0f6376b7c390018\", element=\"38e696ba-9df9-419a-866d-1ad9c0f0e0e1\")>,\n",
       " <selenium.webdriver.remote.webelement.WebElement (session=\"aa180880041264a8e0f6376b7c390018\", element=\"7c7bdb34-3ca2-4ec6-9c04-86d9b8ef9d52\")>,\n",
       " <selenium.webdriver.remote.webelement.WebElement (session=\"aa180880041264a8e0f6376b7c390018\", element=\"a7889782-cb8a-4316-99e2-b972bd951489\")>,\n",
       " <selenium.webdriver.remote.webelement.WebElement (session=\"aa180880041264a8e0f6376b7c390018\", element=\"2fe29134-136a-4d80-8cef-11e46ad6ceb4\")>,\n",
       " <selenium.webdriver.remote.webelement.WebElement (session=\"aa180880041264a8e0f6376b7c390018\", element=\"61491fdf-331b-4904-a9fe-82a76dba7091\")>,\n",
       " <selenium.webdriver.remote.webelement.WebElement (session=\"aa180880041264a8e0f6376b7c390018\", element=\"3c3bfa11-fbc9-41a4-abc1-051a1f28d349\")>,\n",
       " <selenium.webdriver.remote.webelement.WebElement (session=\"aa180880041264a8e0f6376b7c390018\", element=\"cf594c15-9a72-47f9-b04d-7c011890ea31\")>,\n",
       " <selenium.webdriver.remote.webelement.WebElement (session=\"aa180880041264a8e0f6376b7c390018\", element=\"9d671d48-ea6d-40c8-9e33-7a6fd7049afa\")>,\n",
       " <selenium.webdriver.remote.webelement.WebElement (session=\"aa180880041264a8e0f6376b7c390018\", element=\"4b61e882-5c6a-48fe-a1df-00c5259777db\")>,\n",
       " <selenium.webdriver.remote.webelement.WebElement (session=\"aa180880041264a8e0f6376b7c390018\", element=\"5ac75ff6-9c42-41ea-a4d4-dc60b9609d42\")>,\n",
       " <selenium.webdriver.remote.webelement.WebElement (session=\"aa180880041264a8e0f6376b7c390018\", element=\"5521898d-bb78-4fae-b465-30503cdbde5a\")>,\n",
       " <selenium.webdriver.remote.webelement.WebElement (session=\"aa180880041264a8e0f6376b7c390018\", element=\"171a83f0-31c8-4d72-827c-7d80335630f6\")>,\n",
       " <selenium.webdriver.remote.webelement.WebElement (session=\"aa180880041264a8e0f6376b7c390018\", element=\"3780cd07-b64f-4eef-83cd-d8d866bf0ab8\")>,\n",
       " <selenium.webdriver.remote.webelement.WebElement (session=\"aa180880041264a8e0f6376b7c390018\", element=\"fdb73c97-e9e4-4124-98df-be5f5d41d6b0\")>,\n",
       " <selenium.webdriver.remote.webelement.WebElement (session=\"aa180880041264a8e0f6376b7c390018\", element=\"53d8f795-b780-4b01-a10e-e0511f02a5eb\")>,\n",
       " <selenium.webdriver.remote.webelement.WebElement (session=\"aa180880041264a8e0f6376b7c390018\", element=\"1d45bf22-d247-4be5-b1cf-5b3aa40383e2\")>,\n",
       " <selenium.webdriver.remote.webelement.WebElement (session=\"aa180880041264a8e0f6376b7c390018\", element=\"b8626606-b13b-470d-979a-41b65e2418e9\")>,\n",
       " <selenium.webdriver.remote.webelement.WebElement (session=\"aa180880041264a8e0f6376b7c390018\", element=\"e5dcbd2d-6f5d-4ccb-a6a5-ba0cff9f6cce\")>,\n",
       " <selenium.webdriver.remote.webelement.WebElement (session=\"aa180880041264a8e0f6376b7c390018\", element=\"18e721ea-5073-41e2-91d6-81b7db38990b\")>,\n",
       " <selenium.webdriver.remote.webelement.WebElement (session=\"aa180880041264a8e0f6376b7c390018\", element=\"254cd105-f382-43e5-8e34-d6c0fb245f76\")>,\n",
       " <selenium.webdriver.remote.webelement.WebElement (session=\"aa180880041264a8e0f6376b7c390018\", element=\"a767e2ab-582c-4477-a03c-f3f1f7de80bb\")>,\n",
       " <selenium.webdriver.remote.webelement.WebElement (session=\"aa180880041264a8e0f6376b7c390018\", element=\"b1b87939-6d0f-4015-8339-3905ca0d1524\")>,\n",
       " <selenium.webdriver.remote.webelement.WebElement (session=\"aa180880041264a8e0f6376b7c390018\", element=\"bb58ca35-9ce6-4d23-bd50-49a1480ff3e5\")>,\n",
       " <selenium.webdriver.remote.webelement.WebElement (session=\"aa180880041264a8e0f6376b7c390018\", element=\"cce8ab58-b051-45ba-80e2-4f696661c1df\")>,\n",
       " <selenium.webdriver.remote.webelement.WebElement (session=\"aa180880041264a8e0f6376b7c390018\", element=\"269e97e6-997a-499d-bea6-9d1aec7990ad\")>,\n",
       " <selenium.webdriver.remote.webelement.WebElement (session=\"aa180880041264a8e0f6376b7c390018\", element=\"caad7ba2-db1f-4b09-b6f8-48f95d9ce744\")>,\n",
       " <selenium.webdriver.remote.webelement.WebElement (session=\"aa180880041264a8e0f6376b7c390018\", element=\"96f5a32b-b19b-41b6-ac7f-3b10c84dc5b9\")>,\n",
       " <selenium.webdriver.remote.webelement.WebElement (session=\"aa180880041264a8e0f6376b7c390018\", element=\"22cb238e-9db1-4d50-b512-296f51abd9be\")>,\n",
       " <selenium.webdriver.remote.webelement.WebElement (session=\"aa180880041264a8e0f6376b7c390018\", element=\"7a1c27ad-648b-4a7d-a8dd-384bd564945b\")>,\n",
       " <selenium.webdriver.remote.webelement.WebElement (session=\"aa180880041264a8e0f6376b7c390018\", element=\"663dea06-371f-41b8-ad0b-a681da8e3752\")>,\n",
       " <selenium.webdriver.remote.webelement.WebElement (session=\"aa180880041264a8e0f6376b7c390018\", element=\"9069b903-a2bd-4d0c-9e23-b38b3fb5e862\")>,\n",
       " <selenium.webdriver.remote.webelement.WebElement (session=\"aa180880041264a8e0f6376b7c390018\", element=\"9a44276d-e972-4a80-a53f-db43ac976f20\")>,\n",
       " <selenium.webdriver.remote.webelement.WebElement (session=\"aa180880041264a8e0f6376b7c390018\", element=\"8490107a-948e-4ce5-a80d-1414bf07d1fc\")>,\n",
       " <selenium.webdriver.remote.webelement.WebElement (session=\"aa180880041264a8e0f6376b7c390018\", element=\"47c2c67e-444e-4952-9754-0d0471aa0e61\")>,\n",
       " <selenium.webdriver.remote.webelement.WebElement (session=\"aa180880041264a8e0f6376b7c390018\", element=\"26ade813-9db2-454a-8332-1c3d69fbc1f3\")>,\n",
       " <selenium.webdriver.remote.webelement.WebElement (session=\"aa180880041264a8e0f6376b7c390018\", element=\"ed6b0d50-96cb-432f-ae23-69141218a1b5\")>,\n",
       " <selenium.webdriver.remote.webelement.WebElement (session=\"aa180880041264a8e0f6376b7c390018\", element=\"316c0f50-cf20-448c-97fa-fcb51007c65e\")>,\n",
       " <selenium.webdriver.remote.webelement.WebElement (session=\"aa180880041264a8e0f6376b7c390018\", element=\"56d02d6d-2c62-4321-a3de-ff807019b9c6\")>,\n",
       " <selenium.webdriver.remote.webelement.WebElement (session=\"aa180880041264a8e0f6376b7c390018\", element=\"99586ac6-b448-4b78-8cdd-a7fa4ceb7438\")>,\n",
       " <selenium.webdriver.remote.webelement.WebElement (session=\"aa180880041264a8e0f6376b7c390018\", element=\"f023e92b-ac7c-4a98-ac98-34dc6f64dc7b\")>]"
      ]
     },
     "execution_count": 40,
     "metadata": {},
     "output_type": "execute_result"
    }
   ],
   "source": [
    "description_tag=driver.find_elements_by_xpath(\"//a[@class='IRpwTa']\")\n",
    "description_tag"
   ]
  },
  {
   "cell_type": "code",
   "execution_count": 41,
   "id": "a4f6023d",
   "metadata": {
    "collapsed": true
   },
   "outputs": [
    {
     "data": {
      "text/plain": [
       "['UV Protection, Gradient, Mirrored, Riding Glasses Aviat...',\n",
       " 'UV Protection Round Sunglasses (Free Size)',\n",
       " 'UV Protection, Mirrored Retro Square Sunglasses (53)',\n",
       " 'UV Protection, Gradient Retro Square Sunglasses (Free S...',\n",
       " 'Gradient, UV Protection Wayfarer Sunglasses (Free Size)',\n",
       " 'UV Protection Aviator Sunglasses (58)',\n",
       " 'UV Protection Round Sunglasses (54)',\n",
       " 'UV Protection Rectangular Sunglasses (58)',\n",
       " 'UV Protection Retro Square Sunglasses (88)',\n",
       " 'UV Protection Rectangular Sunglasses (Free Size)',\n",
       " 'UV Protection Retro Square Sunglasses (Free Size)',\n",
       " 'by Lenskart Polarized, UV Protection Wayfarer Sunglasse...',\n",
       " 'UV Protection Aviator Sunglasses (Free Size)',\n",
       " 'UV Protection, Mirrored Retro Square Sunglasses (Free S...',\n",
       " 'UV Protection Round Sunglasses (Free Size)',\n",
       " 'UV Protection, Riding Glasses Rectangular Sunglasses (F...',\n",
       " 'UV Protection Butterfly Sunglasses (65)',\n",
       " 'UV Protection, Gradient Round Sunglasses (Free Size)',\n",
       " 'UV Protection Round Sunglasses (Free Size)',\n",
       " 'Polarized, UV Protection Wayfarer Sunglasses (57)',\n",
       " 'UV Protection Wayfarer Sunglasses (32)',\n",
       " 'Riding Glasses, UV Protection, Others Aviator Sunglasse...',\n",
       " 'UV Protection Aviator Sunglasses (54)',\n",
       " 'UV Protection, Others Retro Square Sunglasses (Free Siz...',\n",
       " 'UV Protection, Riding Glasses, Mirrored Wayfarer Sungla...',\n",
       " 'UV Protection Round Sunglasses (Free Size)',\n",
       " 'UV Protection, Night Vision, Riding Glasses, Gradient, ...',\n",
       " 'Polarized Retro Square Sunglasses (58)',\n",
       " 'UV Protection, Night Vision, Riding Glasses Aviator Sun...',\n",
       " 'UV Protection Aviator, Wayfarer Sunglasses (Free Size)',\n",
       " 'UV Protection Oval Sunglasses (56)',\n",
       " 'UV Protection Oval Sunglasses (Free Size)',\n",
       " 'UV Protection Wayfarer Sunglasses (Free Size)',\n",
       " 'Mirrored Round Sunglasses (53)',\n",
       " 'UV Protection, Riding Glasses Aviator Sunglasses (57)',\n",
       " 'UV Protection, Gradient Rectangular Sunglasses (Free Si...',\n",
       " 'Polarized Round Sunglasses (48)',\n",
       " 'UV Protection, Riding Glasses Rectangular, Retro Square...',\n",
       " 'UV Protection, Night Vision Wayfarer Sunglasses (Free S...',\n",
       " 'UV Protection, Gradient, Night Vision Retro Square Sung...']"
      ]
     },
     "execution_count": 41,
     "metadata": {},
     "output_type": "execute_result"
    }
   ],
   "source": [
    "des=[]\n",
    "\n",
    "for i in description_tag:\n",
    "    des.append(i.text)\n",
    "des"
   ]
  },
  {
   "cell_type": "code",
   "execution_count": 42,
   "id": "d562f672",
   "metadata": {
    "collapsed": true
   },
   "outputs": [
    {
     "name": "stderr",
     "output_type": "stream",
     "text": [
      "<ipython-input-42-d3196a515f2f>:1: DeprecationWarning: find_elements_by_* commands are deprecated. Please use find_elements() instead\n",
      "  price_tag=driver.find_elements_by_xpath(\"//div[@class='_30jeq3']\")\n"
     ]
    },
    {
     "data": {
      "text/plain": [
       "[<selenium.webdriver.remote.webelement.WebElement (session=\"aa180880041264a8e0f6376b7c390018\", element=\"7d186de7-2a54-4544-a009-3eed7250ac01\")>,\n",
       " <selenium.webdriver.remote.webelement.WebElement (session=\"aa180880041264a8e0f6376b7c390018\", element=\"510df4e5-5e08-434c-935c-12ded2e34601\")>,\n",
       " <selenium.webdriver.remote.webelement.WebElement (session=\"aa180880041264a8e0f6376b7c390018\", element=\"b99d0445-25b2-4c05-9103-a0476149270b\")>,\n",
       " <selenium.webdriver.remote.webelement.WebElement (session=\"aa180880041264a8e0f6376b7c390018\", element=\"f3af3910-0244-480b-a8d9-6d0dc0ba9f41\")>,\n",
       " <selenium.webdriver.remote.webelement.WebElement (session=\"aa180880041264a8e0f6376b7c390018\", element=\"326e79ee-8739-4ce2-9f5b-f96da5927c12\")>,\n",
       " <selenium.webdriver.remote.webelement.WebElement (session=\"aa180880041264a8e0f6376b7c390018\", element=\"04987934-ee9c-4847-bd70-2f5a48d5b1da\")>,\n",
       " <selenium.webdriver.remote.webelement.WebElement (session=\"aa180880041264a8e0f6376b7c390018\", element=\"2ce37672-af20-40cb-97d4-a8280605e788\")>,\n",
       " <selenium.webdriver.remote.webelement.WebElement (session=\"aa180880041264a8e0f6376b7c390018\", element=\"c85a383a-0949-49de-94d0-018510218386\")>,\n",
       " <selenium.webdriver.remote.webelement.WebElement (session=\"aa180880041264a8e0f6376b7c390018\", element=\"85c79597-8fe0-451e-912e-dc1a0783f3fe\")>,\n",
       " <selenium.webdriver.remote.webelement.WebElement (session=\"aa180880041264a8e0f6376b7c390018\", element=\"84c0182f-f615-49f9-b37b-b43faab3236f\")>,\n",
       " <selenium.webdriver.remote.webelement.WebElement (session=\"aa180880041264a8e0f6376b7c390018\", element=\"cf6493e1-9cad-401b-a6ad-0b3480293d3b\")>,\n",
       " <selenium.webdriver.remote.webelement.WebElement (session=\"aa180880041264a8e0f6376b7c390018\", element=\"f817c24f-55fe-45e8-9422-9b17441ca444\")>,\n",
       " <selenium.webdriver.remote.webelement.WebElement (session=\"aa180880041264a8e0f6376b7c390018\", element=\"8569d1d7-d8fc-4cd8-a431-a529baf9b2b6\")>,\n",
       " <selenium.webdriver.remote.webelement.WebElement (session=\"aa180880041264a8e0f6376b7c390018\", element=\"5a740574-4b3d-4d73-9e64-dcc3735903a8\")>,\n",
       " <selenium.webdriver.remote.webelement.WebElement (session=\"aa180880041264a8e0f6376b7c390018\", element=\"da0e06bb-02a0-4235-abf6-76f5729a8ca7\")>,\n",
       " <selenium.webdriver.remote.webelement.WebElement (session=\"aa180880041264a8e0f6376b7c390018\", element=\"abc2e0de-7915-4b95-bdb0-e5eb0bb82c1e\")>,\n",
       " <selenium.webdriver.remote.webelement.WebElement (session=\"aa180880041264a8e0f6376b7c390018\", element=\"4fba928a-fbe3-4c8b-9986-8dc8128b2e4d\")>,\n",
       " <selenium.webdriver.remote.webelement.WebElement (session=\"aa180880041264a8e0f6376b7c390018\", element=\"43a7e1f4-da23-49cd-a106-001dccfe34f1\")>,\n",
       " <selenium.webdriver.remote.webelement.WebElement (session=\"aa180880041264a8e0f6376b7c390018\", element=\"7f0e8e06-7d91-46d7-9bbd-2665dce94515\")>,\n",
       " <selenium.webdriver.remote.webelement.WebElement (session=\"aa180880041264a8e0f6376b7c390018\", element=\"46ed74b5-13d8-4f88-8868-d8d4f60d496f\")>,\n",
       " <selenium.webdriver.remote.webelement.WebElement (session=\"aa180880041264a8e0f6376b7c390018\", element=\"c81bc039-9437-4d3a-8164-a03eb464dd10\")>,\n",
       " <selenium.webdriver.remote.webelement.WebElement (session=\"aa180880041264a8e0f6376b7c390018\", element=\"5efe3238-3377-4705-908e-5a8f98e2ea23\")>,\n",
       " <selenium.webdriver.remote.webelement.WebElement (session=\"aa180880041264a8e0f6376b7c390018\", element=\"b16aa936-5532-4234-9137-f3a57ad48386\")>,\n",
       " <selenium.webdriver.remote.webelement.WebElement (session=\"aa180880041264a8e0f6376b7c390018\", element=\"081f2efc-19b5-4c4e-ad39-e354d756aec3\")>,\n",
       " <selenium.webdriver.remote.webelement.WebElement (session=\"aa180880041264a8e0f6376b7c390018\", element=\"38829aef-77c6-4302-879a-60f25252483b\")>,\n",
       " <selenium.webdriver.remote.webelement.WebElement (session=\"aa180880041264a8e0f6376b7c390018\", element=\"6aa6dbd3-49bd-4ebe-8e76-6f4fd9747904\")>,\n",
       " <selenium.webdriver.remote.webelement.WebElement (session=\"aa180880041264a8e0f6376b7c390018\", element=\"84ecd579-1edf-445e-bdf9-860d543b047f\")>,\n",
       " <selenium.webdriver.remote.webelement.WebElement (session=\"aa180880041264a8e0f6376b7c390018\", element=\"345044e6-8173-4d1c-9b31-de25a263c479\")>,\n",
       " <selenium.webdriver.remote.webelement.WebElement (session=\"aa180880041264a8e0f6376b7c390018\", element=\"67367a29-c393-4b84-acb4-52f7c441fea7\")>,\n",
       " <selenium.webdriver.remote.webelement.WebElement (session=\"aa180880041264a8e0f6376b7c390018\", element=\"2ad8b1c3-6580-47a9-896c-2d072149526f\")>,\n",
       " <selenium.webdriver.remote.webelement.WebElement (session=\"aa180880041264a8e0f6376b7c390018\", element=\"3437c540-3fc8-4b1d-ba7d-8fd2b8d66e8a\")>,\n",
       " <selenium.webdriver.remote.webelement.WebElement (session=\"aa180880041264a8e0f6376b7c390018\", element=\"7cf6af10-3a22-4619-bb7a-b757e6969337\")>,\n",
       " <selenium.webdriver.remote.webelement.WebElement (session=\"aa180880041264a8e0f6376b7c390018\", element=\"6582b5c8-5409-4253-a907-64ac8f6154b8\")>,\n",
       " <selenium.webdriver.remote.webelement.WebElement (session=\"aa180880041264a8e0f6376b7c390018\", element=\"131f5bd4-099a-4969-9fae-08ac934e4076\")>,\n",
       " <selenium.webdriver.remote.webelement.WebElement (session=\"aa180880041264a8e0f6376b7c390018\", element=\"7c34fffa-2245-452b-a650-6dfa8235833e\")>,\n",
       " <selenium.webdriver.remote.webelement.WebElement (session=\"aa180880041264a8e0f6376b7c390018\", element=\"cfc616ce-4d01-4983-aa46-ec66e873c2db\")>,\n",
       " <selenium.webdriver.remote.webelement.WebElement (session=\"aa180880041264a8e0f6376b7c390018\", element=\"ff878539-38ab-41a5-96d3-ee98cde1a155\")>,\n",
       " <selenium.webdriver.remote.webelement.WebElement (session=\"aa180880041264a8e0f6376b7c390018\", element=\"05c751c0-4261-4d52-a138-862406d06cdd\")>,\n",
       " <selenium.webdriver.remote.webelement.WebElement (session=\"aa180880041264a8e0f6376b7c390018\", element=\"68ed3715-0d8b-4700-9134-63d653d711fc\")>,\n",
       " <selenium.webdriver.remote.webelement.WebElement (session=\"aa180880041264a8e0f6376b7c390018\", element=\"bc39dfa8-d9e8-4f31-95c3-876867bd3073\")>]"
      ]
     },
     "execution_count": 42,
     "metadata": {},
     "output_type": "execute_result"
    }
   ],
   "source": [
    "price_tag=driver.find_elements_by_xpath(\"//div[@class='_30jeq3']\")\n",
    "price_tag"
   ]
  },
  {
   "cell_type": "code",
   "execution_count": 43,
   "id": "1d30c9ac",
   "metadata": {
    "collapsed": true
   },
   "outputs": [
    {
     "data": {
      "text/plain": [
       "['₹209',\n",
       " '₹229',\n",
       " '₹329',\n",
       " '₹325',\n",
       " '₹509',\n",
       " '₹319',\n",
       " '₹279',\n",
       " '₹449',\n",
       " '₹569',\n",
       " '₹199',\n",
       " '₹329',\n",
       " '₹999',\n",
       " '₹175',\n",
       " '₹329',\n",
       " '₹299',\n",
       " '₹449',\n",
       " '₹359',\n",
       " '₹449',\n",
       " '₹259',\n",
       " '₹999',\n",
       " '₹200',\n",
       " '₹226',\n",
       " '₹200',\n",
       " '₹289',\n",
       " '₹199',\n",
       " '₹299',\n",
       " '₹189',\n",
       " '₹854',\n",
       " '₹295',\n",
       " '₹229',\n",
       " '₹284',\n",
       " '₹359',\n",
       " '₹649',\n",
       " '₹263',\n",
       " '₹296',\n",
       " '₹399',\n",
       " '₹179',\n",
       " '₹276',\n",
       " '₹299',\n",
       " '₹339']"
      ]
     },
     "execution_count": 43,
     "metadata": {},
     "output_type": "execute_result"
    }
   ],
   "source": [
    "price=[]\n",
    "\n",
    "for i in price_tag:\n",
    "    price.append(i.text)\n",
    "price"
   ]
  },
  {
   "cell_type": "code",
   "execution_count": 29,
   "id": "3f95e291",
   "metadata": {},
   "outputs": [
    {
     "name": "stderr",
     "output_type": "stream",
     "text": [
      "<ipython-input-29-c5a098f22a58>:1: DeprecationWarning: find_element_by_* commands are deprecated. Please use find_element() instead\n",
      "  next_button=driver.find_element_by_xpath(\"//a[@class='_1LKTO3']\")\n"
     ]
    }
   ],
   "source": [
    "next_button=driver.find_element_by_xpath(\"//a[@class='_1LKTO3']\")\n",
    "next_button.click()"
   ]
  },
  {
   "cell_type": "code",
   "execution_count": 44,
   "id": "a44ba87e",
   "metadata": {},
   "outputs": [],
   "source": [
    "driver.get('https://www.flipkart.com/search?q=sunglasses&otracker=search&otracker1=search&marketplace=FLIPKART&as-show=on&as=off&page=3')"
   ]
  },
  {
   "cell_type": "code",
   "execution_count": 31,
   "id": "625cd24a",
   "metadata": {
    "collapsed": true
   },
   "outputs": [
    {
     "name": "stderr",
     "output_type": "stream",
     "text": [
      "<ipython-input-31-db0536d73557>:1: DeprecationWarning: find_elements_by_* commands are deprecated. Please use find_elements() instead\n",
      "  brand_tag=driver.find_elements_by_xpath(\"//div[@class='_2WkVRV']\")\n"
     ]
    },
    {
     "data": {
      "text/plain": [
       "[<selenium.webdriver.remote.webelement.WebElement (session=\"aa180880041264a8e0f6376b7c390018\", element=\"6c416f3a-a3ce-4097-8d54-35843c6329fe\")>,\n",
       " <selenium.webdriver.remote.webelement.WebElement (session=\"aa180880041264a8e0f6376b7c390018\", element=\"e0006578-3802-4d16-9494-48ad87dcea57\")>,\n",
       " <selenium.webdriver.remote.webelement.WebElement (session=\"aa180880041264a8e0f6376b7c390018\", element=\"fc4443b8-c26a-41d5-a80d-de6271326a24\")>,\n",
       " <selenium.webdriver.remote.webelement.WebElement (session=\"aa180880041264a8e0f6376b7c390018\", element=\"67f90144-e608-43e0-a248-2ed9f0f5d7b7\")>,\n",
       " <selenium.webdriver.remote.webelement.WebElement (session=\"aa180880041264a8e0f6376b7c390018\", element=\"d2e9b662-d625-490e-b8c3-96d16d481a7c\")>,\n",
       " <selenium.webdriver.remote.webelement.WebElement (session=\"aa180880041264a8e0f6376b7c390018\", element=\"0c5b5b64-62a8-4628-9ba0-50dcf7196518\")>,\n",
       " <selenium.webdriver.remote.webelement.WebElement (session=\"aa180880041264a8e0f6376b7c390018\", element=\"bb29a782-e2e9-4b0a-9af2-9e692a54d69a\")>,\n",
       " <selenium.webdriver.remote.webelement.WebElement (session=\"aa180880041264a8e0f6376b7c390018\", element=\"31621621-2ae9-4110-b0c7-48383b0bd2af\")>,\n",
       " <selenium.webdriver.remote.webelement.WebElement (session=\"aa180880041264a8e0f6376b7c390018\", element=\"1db2309f-5eb0-4443-87c8-f09a48bc7277\")>,\n",
       " <selenium.webdriver.remote.webelement.WebElement (session=\"aa180880041264a8e0f6376b7c390018\", element=\"345bfdb9-757c-48d1-8cbf-4f436a6feff5\")>,\n",
       " <selenium.webdriver.remote.webelement.WebElement (session=\"aa180880041264a8e0f6376b7c390018\", element=\"64f1b4bd-7ccc-42cf-ac63-e9f65f7d22f9\")>,\n",
       " <selenium.webdriver.remote.webelement.WebElement (session=\"aa180880041264a8e0f6376b7c390018\", element=\"c7ca87ee-e31c-42cd-b1ff-f18e5694e386\")>,\n",
       " <selenium.webdriver.remote.webelement.WebElement (session=\"aa180880041264a8e0f6376b7c390018\", element=\"fd0495dc-f9d8-43cf-8508-8caae1b99391\")>,\n",
       " <selenium.webdriver.remote.webelement.WebElement (session=\"aa180880041264a8e0f6376b7c390018\", element=\"83c17839-1a18-4f90-9a5d-7f843ba6e727\")>,\n",
       " <selenium.webdriver.remote.webelement.WebElement (session=\"aa180880041264a8e0f6376b7c390018\", element=\"4776c17e-2657-46b9-87e5-efe3a132fe3c\")>,\n",
       " <selenium.webdriver.remote.webelement.WebElement (session=\"aa180880041264a8e0f6376b7c390018\", element=\"9cf2ba12-932b-4db9-8519-ba4537a801b6\")>,\n",
       " <selenium.webdriver.remote.webelement.WebElement (session=\"aa180880041264a8e0f6376b7c390018\", element=\"1918a4ea-25cb-4eb6-9d28-a7393e89c017\")>,\n",
       " <selenium.webdriver.remote.webelement.WebElement (session=\"aa180880041264a8e0f6376b7c390018\", element=\"7106a977-cce7-4659-b1f3-cae082b3874c\")>,\n",
       " <selenium.webdriver.remote.webelement.WebElement (session=\"aa180880041264a8e0f6376b7c390018\", element=\"34b07e11-37b4-444e-bea4-9c5864ee18f7\")>,\n",
       " <selenium.webdriver.remote.webelement.WebElement (session=\"aa180880041264a8e0f6376b7c390018\", element=\"88965043-d3c9-4e02-ac48-dbcb1a52bb18\")>]"
      ]
     },
     "execution_count": 31,
     "metadata": {},
     "output_type": "execute_result"
    }
   ],
   "source": [
    "brand_tag=driver.find_elements_by_xpath(\"//div[@class='_2WkVRV']\")\n",
    "brand_tag[0:20]"
   ]
  },
  {
   "cell_type": "code",
   "execution_count": 33,
   "id": "7453136a",
   "metadata": {
    "collapsed": true
   },
   "outputs": [
    {
     "data": {
      "text/plain": [
       "['kingsunglasses',\n",
       " 'Rich Club',\n",
       " 'Fastrack',\n",
       " 'ROZZETTA CRAFT',\n",
       " 'hipe',\n",
       " 'PHENOMENAL',\n",
       " 'GANSTA',\n",
       " 'VINCENT CHASE',\n",
       " 'Fastrack',\n",
       " 'ROYAL SON',\n",
       " 'AISLIN',\n",
       " 'VINCENT CHASE',\n",
       " 'ROYAL SON',\n",
       " 'Rich Club',\n",
       " 'Trendy Glasses',\n",
       " 'Fravy',\n",
       " 'GANSTA',\n",
       " 'Rich Club',\n",
       " 'PIRASO',\n",
       " 'elegante']"
      ]
     },
     "execution_count": 33,
     "metadata": {},
     "output_type": "execute_result"
    }
   ],
   "source": [
    "brand=[]\n",
    "\n",
    "for i in brand_tag:\n",
    "    brand.append(i.text)\n",
    "brand[0:20]"
   ]
  },
  {
   "cell_type": "code",
   "execution_count": 45,
   "id": "3ec10098",
   "metadata": {
    "collapsed": true
   },
   "outputs": [
    {
     "name": "stderr",
     "output_type": "stream",
     "text": [
      "<ipython-input-45-fa963fc5fa2c>:1: DeprecationWarning: find_elements_by_* commands are deprecated. Please use find_elements() instead\n",
      "  description_tag=driver.find_elements_by_xpath(\"//a[@class='IRpwTa']\")\n"
     ]
    },
    {
     "data": {
      "text/plain": [
       "[<selenium.webdriver.remote.webelement.WebElement (session=\"aa180880041264a8e0f6376b7c390018\", element=\"05ace5de-37c2-4d0c-b109-0a63cd32424f\")>,\n",
       " <selenium.webdriver.remote.webelement.WebElement (session=\"aa180880041264a8e0f6376b7c390018\", element=\"88ac6fde-4565-4ad6-8e0f-6e4aea2f1140\")>,\n",
       " <selenium.webdriver.remote.webelement.WebElement (session=\"aa180880041264a8e0f6376b7c390018\", element=\"723c3da2-0be8-409e-83dd-ddf4a307d191\")>,\n",
       " <selenium.webdriver.remote.webelement.WebElement (session=\"aa180880041264a8e0f6376b7c390018\", element=\"f3610d05-598e-4522-91c8-2a7cb1160144\")>,\n",
       " <selenium.webdriver.remote.webelement.WebElement (session=\"aa180880041264a8e0f6376b7c390018\", element=\"95efcf08-57ea-4d53-8239-929359048e1f\")>,\n",
       " <selenium.webdriver.remote.webelement.WebElement (session=\"aa180880041264a8e0f6376b7c390018\", element=\"efc2f99f-7b47-4fbf-9bcc-ec8df7fa4c14\")>,\n",
       " <selenium.webdriver.remote.webelement.WebElement (session=\"aa180880041264a8e0f6376b7c390018\", element=\"dee23db6-e767-4fc2-a5e3-d31b027070e9\")>,\n",
       " <selenium.webdriver.remote.webelement.WebElement (session=\"aa180880041264a8e0f6376b7c390018\", element=\"6317723d-f2f5-4f03-b96a-b38d0cd3fa55\")>,\n",
       " <selenium.webdriver.remote.webelement.WebElement (session=\"aa180880041264a8e0f6376b7c390018\", element=\"49f21640-ffde-4b84-b317-9563b449b437\")>,\n",
       " <selenium.webdriver.remote.webelement.WebElement (session=\"aa180880041264a8e0f6376b7c390018\", element=\"b22b3673-8b05-4017-8bc4-d02ea522d4f6\")>,\n",
       " <selenium.webdriver.remote.webelement.WebElement (session=\"aa180880041264a8e0f6376b7c390018\", element=\"4c4ea219-0955-44eb-bf97-db8dde6306ff\")>,\n",
       " <selenium.webdriver.remote.webelement.WebElement (session=\"aa180880041264a8e0f6376b7c390018\", element=\"5dea79a0-26f4-4300-bbab-4bd4c231ab65\")>,\n",
       " <selenium.webdriver.remote.webelement.WebElement (session=\"aa180880041264a8e0f6376b7c390018\", element=\"ee650c65-4d80-4c0c-a062-b7282c2a0118\")>,\n",
       " <selenium.webdriver.remote.webelement.WebElement (session=\"aa180880041264a8e0f6376b7c390018\", element=\"4b6f2660-3141-4658-95d3-13cda56738fe\")>,\n",
       " <selenium.webdriver.remote.webelement.WebElement (session=\"aa180880041264a8e0f6376b7c390018\", element=\"5512ef4d-d742-4e36-b1e3-8db11508c89d\")>,\n",
       " <selenium.webdriver.remote.webelement.WebElement (session=\"aa180880041264a8e0f6376b7c390018\", element=\"476f3d58-0462-4666-a50c-901c59cd7d0f\")>,\n",
       " <selenium.webdriver.remote.webelement.WebElement (session=\"aa180880041264a8e0f6376b7c390018\", element=\"ce207a49-50c6-4826-961e-6cd15c72db70\")>,\n",
       " <selenium.webdriver.remote.webelement.WebElement (session=\"aa180880041264a8e0f6376b7c390018\", element=\"f3495f71-d9ba-479c-8cd9-6797a3146de7\")>,\n",
       " <selenium.webdriver.remote.webelement.WebElement (session=\"aa180880041264a8e0f6376b7c390018\", element=\"ce5fb5c9-aceb-4896-abd0-eecf51ae8d6c\")>,\n",
       " <selenium.webdriver.remote.webelement.WebElement (session=\"aa180880041264a8e0f6376b7c390018\", element=\"479dcde6-4272-4f87-8a00-364a82650a88\")>,\n",
       " <selenium.webdriver.remote.webelement.WebElement (session=\"aa180880041264a8e0f6376b7c390018\", element=\"a69d9a54-e818-45ab-af1b-9ae96f830c9e\")>,\n",
       " <selenium.webdriver.remote.webelement.WebElement (session=\"aa180880041264a8e0f6376b7c390018\", element=\"02602ff4-6744-4cd6-b9e2-59963bec7e7b\")>,\n",
       " <selenium.webdriver.remote.webelement.WebElement (session=\"aa180880041264a8e0f6376b7c390018\", element=\"07f9aaec-5544-461b-87ef-4ae55b4261fb\")>,\n",
       " <selenium.webdriver.remote.webelement.WebElement (session=\"aa180880041264a8e0f6376b7c390018\", element=\"1c9bbf63-b4e5-4877-8942-458155ad07d2\")>,\n",
       " <selenium.webdriver.remote.webelement.WebElement (session=\"aa180880041264a8e0f6376b7c390018\", element=\"4d7bd649-5880-4c14-bf98-16231be8dc9d\")>,\n",
       " <selenium.webdriver.remote.webelement.WebElement (session=\"aa180880041264a8e0f6376b7c390018\", element=\"e9c95869-0f25-4880-9ba2-022ec19dc527\")>,\n",
       " <selenium.webdriver.remote.webelement.WebElement (session=\"aa180880041264a8e0f6376b7c390018\", element=\"b45f1a25-b5a6-4238-93ce-60865311d3af\")>,\n",
       " <selenium.webdriver.remote.webelement.WebElement (session=\"aa180880041264a8e0f6376b7c390018\", element=\"d66ef256-2545-40de-ba8a-0a37a79d3013\")>,\n",
       " <selenium.webdriver.remote.webelement.WebElement (session=\"aa180880041264a8e0f6376b7c390018\", element=\"94bc2241-8720-4181-91a2-96038ab1ae15\")>,\n",
       " <selenium.webdriver.remote.webelement.WebElement (session=\"aa180880041264a8e0f6376b7c390018\", element=\"df9903f0-47b4-4a9f-a56a-c218dc54f175\")>,\n",
       " <selenium.webdriver.remote.webelement.WebElement (session=\"aa180880041264a8e0f6376b7c390018\", element=\"13cebac2-c0b6-4557-81ad-b4f4e61d2cd4\")>,\n",
       " <selenium.webdriver.remote.webelement.WebElement (session=\"aa180880041264a8e0f6376b7c390018\", element=\"a9fe3f9f-a5ca-44fa-8b68-91a664cbb338\")>,\n",
       " <selenium.webdriver.remote.webelement.WebElement (session=\"aa180880041264a8e0f6376b7c390018\", element=\"e913366f-37ec-40cb-a4dc-a50a5a5b5e8a\")>,\n",
       " <selenium.webdriver.remote.webelement.WebElement (session=\"aa180880041264a8e0f6376b7c390018\", element=\"9cabac02-6fa4-4a57-8824-69c9d93aa021\")>,\n",
       " <selenium.webdriver.remote.webelement.WebElement (session=\"aa180880041264a8e0f6376b7c390018\", element=\"f6380fb8-3224-4d45-b7ed-d9f27dbab5af\")>,\n",
       " <selenium.webdriver.remote.webelement.WebElement (session=\"aa180880041264a8e0f6376b7c390018\", element=\"7c02d4b0-dbc0-4a07-9d1c-30a7c87c8618\")>,\n",
       " <selenium.webdriver.remote.webelement.WebElement (session=\"aa180880041264a8e0f6376b7c390018\", element=\"b4e633f8-eba3-45af-bcc0-5e99d2fe2cb2\")>,\n",
       " <selenium.webdriver.remote.webelement.WebElement (session=\"aa180880041264a8e0f6376b7c390018\", element=\"74719d86-1645-4882-a2c5-bb4ff2ec5475\")>,\n",
       " <selenium.webdriver.remote.webelement.WebElement (session=\"aa180880041264a8e0f6376b7c390018\", element=\"905dbd25-0a90-4e53-a244-9fd48568ebb7\")>,\n",
       " <selenium.webdriver.remote.webelement.WebElement (session=\"aa180880041264a8e0f6376b7c390018\", element=\"3389512b-5456-4945-afc4-75000443c8e3\")>]"
      ]
     },
     "execution_count": 45,
     "metadata": {},
     "output_type": "execute_result"
    }
   ],
   "source": [
    "description_tag=driver.find_elements_by_xpath(\"//a[@class='IRpwTa']\")\n",
    "description_tag"
   ]
  },
  {
   "cell_type": "code",
   "execution_count": 46,
   "id": "c90d8355",
   "metadata": {
    "collapsed": true
   },
   "outputs": [
    {
     "data": {
      "text/plain": [
       "['UV Protection, Night Vision, Gradient, Mirrored Round, ...',\n",
       " 'UV Protection, Others Round Sunglasses (48)',\n",
       " 'UV Protection, Mirrored Aviator Sunglasses (Free Size)',\n",
       " 'by Lenskart Polarized, UV Protection Wayfarer Sunglasse...',\n",
       " 'UV Protection, Gradient, Riding Glasses Wayfarer Sungla...',\n",
       " 'UV Protection, Mirrored Retro Square Sunglasses (53)',\n",
       " 'Mirrored, UV Protection Retro Square Sunglasses (Free S...',\n",
       " 'Polarized, UV Protection Wayfarer Sunglasses (57)',\n",
       " 'UV Protection Shield Sunglasses (Free Size)',\n",
       " 'UV Protection Round Sunglasses (50)',\n",
       " 'UV Protection, Gradient Wayfarer Sunglasses (53)',\n",
       " 'Polarized Retro Square Sunglasses (58)',\n",
       " 'UV Protection Wayfarer Sunglasses (54)',\n",
       " 'Mirrored Aviator Sunglasses (55)',\n",
       " 'Toughened Glass Lens, UV Protection Rectangular, Aviato...',\n",
       " 'UV Protection, Others Retro Square Sunglasses (Free Siz...',\n",
       " 'UV Protection Round Sunglasses (48)',\n",
       " 'UV Protection Round Sunglasses (53)',\n",
       " 'Mirrored Aviator Sunglasses (55)',\n",
       " 'UV Protection, Gradient Rectangular Sunglasses (Free Si...']"
      ]
     },
     "execution_count": 46,
     "metadata": {},
     "output_type": "execute_result"
    }
   ],
   "source": [
    "des=[]\n",
    "\n",
    "for i in description_tag:\n",
    "    des.append(i.text)\n",
    "des[0:20]"
   ]
  },
  {
   "cell_type": "code",
   "execution_count": 47,
   "id": "cb48ad53",
   "metadata": {
    "collapsed": true
   },
   "outputs": [
    {
     "name": "stderr",
     "output_type": "stream",
     "text": [
      "<ipython-input-47-d3196a515f2f>:1: DeprecationWarning: find_elements_by_* commands are deprecated. Please use find_elements() instead\n",
      "  price_tag=driver.find_elements_by_xpath(\"//div[@class='_30jeq3']\")\n"
     ]
    },
    {
     "data": {
      "text/plain": [
       "[<selenium.webdriver.remote.webelement.WebElement (session=\"aa180880041264a8e0f6376b7c390018\", element=\"4e342cf8-2a2a-4252-8a0b-1fffc337135e\")>,\n",
       " <selenium.webdriver.remote.webelement.WebElement (session=\"aa180880041264a8e0f6376b7c390018\", element=\"8758b575-7951-48e5-89c6-8e3fe4f57eec\")>,\n",
       " <selenium.webdriver.remote.webelement.WebElement (session=\"aa180880041264a8e0f6376b7c390018\", element=\"c771f548-5797-4c60-9d2e-e44ed8c3bc8e\")>,\n",
       " <selenium.webdriver.remote.webelement.WebElement (session=\"aa180880041264a8e0f6376b7c390018\", element=\"e1342ab5-5e71-4948-9684-8bbdd7d34956\")>,\n",
       " <selenium.webdriver.remote.webelement.WebElement (session=\"aa180880041264a8e0f6376b7c390018\", element=\"4d5ca72c-8e03-4d28-be10-6e7c8cf470ca\")>,\n",
       " <selenium.webdriver.remote.webelement.WebElement (session=\"aa180880041264a8e0f6376b7c390018\", element=\"a13eb7c4-6542-4cf7-a2b1-5c12a439238f\")>,\n",
       " <selenium.webdriver.remote.webelement.WebElement (session=\"aa180880041264a8e0f6376b7c390018\", element=\"bc7eda2d-488c-479a-9ebc-d44df62906e5\")>,\n",
       " <selenium.webdriver.remote.webelement.WebElement (session=\"aa180880041264a8e0f6376b7c390018\", element=\"e4099785-495a-426e-bced-dc8dcf1d8295\")>,\n",
       " <selenium.webdriver.remote.webelement.WebElement (session=\"aa180880041264a8e0f6376b7c390018\", element=\"bf90a147-abb0-4133-8015-03815d1be607\")>,\n",
       " <selenium.webdriver.remote.webelement.WebElement (session=\"aa180880041264a8e0f6376b7c390018\", element=\"70d30fcd-a233-41c8-8efc-6a0060ee36ea\")>,\n",
       " <selenium.webdriver.remote.webelement.WebElement (session=\"aa180880041264a8e0f6376b7c390018\", element=\"62b7461f-a35d-4e5c-9b19-2615a6798e12\")>,\n",
       " <selenium.webdriver.remote.webelement.WebElement (session=\"aa180880041264a8e0f6376b7c390018\", element=\"f917f1f2-ea43-4f48-88a4-c1e3442eb2d1\")>,\n",
       " <selenium.webdriver.remote.webelement.WebElement (session=\"aa180880041264a8e0f6376b7c390018\", element=\"92631a0c-013b-47ee-bc6f-3f4130efea80\")>,\n",
       " <selenium.webdriver.remote.webelement.WebElement (session=\"aa180880041264a8e0f6376b7c390018\", element=\"db80298d-22a0-4c10-a770-264d6946c0cf\")>,\n",
       " <selenium.webdriver.remote.webelement.WebElement (session=\"aa180880041264a8e0f6376b7c390018\", element=\"3520f4ef-e211-4970-8f8a-8595e6f0a763\")>,\n",
       " <selenium.webdriver.remote.webelement.WebElement (session=\"aa180880041264a8e0f6376b7c390018\", element=\"5c3c4779-3707-4c47-9eeb-5f00935035a4\")>,\n",
       " <selenium.webdriver.remote.webelement.WebElement (session=\"aa180880041264a8e0f6376b7c390018\", element=\"49e5acc9-83d6-4062-8209-042bb2184601\")>,\n",
       " <selenium.webdriver.remote.webelement.WebElement (session=\"aa180880041264a8e0f6376b7c390018\", element=\"0fc3db60-6803-451a-b200-c2e482e8b7ee\")>,\n",
       " <selenium.webdriver.remote.webelement.WebElement (session=\"aa180880041264a8e0f6376b7c390018\", element=\"a1ed3567-33dc-4b06-b738-4fb6ebef0b7f\")>,\n",
       " <selenium.webdriver.remote.webelement.WebElement (session=\"aa180880041264a8e0f6376b7c390018\", element=\"96745576-306d-4d2c-8ef5-1057462157be\")>,\n",
       " <selenium.webdriver.remote.webelement.WebElement (session=\"aa180880041264a8e0f6376b7c390018\", element=\"4d2571c8-9d20-46da-aa2a-897d24e88d71\")>,\n",
       " <selenium.webdriver.remote.webelement.WebElement (session=\"aa180880041264a8e0f6376b7c390018\", element=\"09d57f0b-6fc1-40dd-a213-6fc888143cb6\")>,\n",
       " <selenium.webdriver.remote.webelement.WebElement (session=\"aa180880041264a8e0f6376b7c390018\", element=\"737aff1d-6a24-4208-9c12-d52a72b06155\")>,\n",
       " <selenium.webdriver.remote.webelement.WebElement (session=\"aa180880041264a8e0f6376b7c390018\", element=\"48807c39-810f-4f33-a567-d90769783f3b\")>,\n",
       " <selenium.webdriver.remote.webelement.WebElement (session=\"aa180880041264a8e0f6376b7c390018\", element=\"3f2684cd-6282-48fc-86a9-4c728914f676\")>,\n",
       " <selenium.webdriver.remote.webelement.WebElement (session=\"aa180880041264a8e0f6376b7c390018\", element=\"e60f6aaa-2e39-4d0d-8213-7d88eaea4601\")>,\n",
       " <selenium.webdriver.remote.webelement.WebElement (session=\"aa180880041264a8e0f6376b7c390018\", element=\"027ab20e-2986-4bd6-accb-2d142b5b3c1f\")>,\n",
       " <selenium.webdriver.remote.webelement.WebElement (session=\"aa180880041264a8e0f6376b7c390018\", element=\"fd586cec-4c64-4573-8950-35e20f9a2322\")>,\n",
       " <selenium.webdriver.remote.webelement.WebElement (session=\"aa180880041264a8e0f6376b7c390018\", element=\"5e90ec3a-f378-4dcc-8a00-fc0c95553d72\")>,\n",
       " <selenium.webdriver.remote.webelement.WebElement (session=\"aa180880041264a8e0f6376b7c390018\", element=\"2b52a870-d103-4e5f-be71-5f4d4cad74b4\")>,\n",
       " <selenium.webdriver.remote.webelement.WebElement (session=\"aa180880041264a8e0f6376b7c390018\", element=\"cd1cc218-20e8-4e58-9a1a-e18f75b8c0d4\")>,\n",
       " <selenium.webdriver.remote.webelement.WebElement (session=\"aa180880041264a8e0f6376b7c390018\", element=\"72032c5a-4338-42a4-9f81-b585571726ab\")>,\n",
       " <selenium.webdriver.remote.webelement.WebElement (session=\"aa180880041264a8e0f6376b7c390018\", element=\"90a5f799-b367-4780-a1ab-61f7768d0c89\")>,\n",
       " <selenium.webdriver.remote.webelement.WebElement (session=\"aa180880041264a8e0f6376b7c390018\", element=\"cb6da1c2-8d2f-4c0d-a591-b8174a54662e\")>,\n",
       " <selenium.webdriver.remote.webelement.WebElement (session=\"aa180880041264a8e0f6376b7c390018\", element=\"8c6a4703-ae7f-49a9-af55-16dbdf24fb8b\")>,\n",
       " <selenium.webdriver.remote.webelement.WebElement (session=\"aa180880041264a8e0f6376b7c390018\", element=\"8c61cf85-c8bf-432b-8643-36be9c74171c\")>,\n",
       " <selenium.webdriver.remote.webelement.WebElement (session=\"aa180880041264a8e0f6376b7c390018\", element=\"87c8420c-bf7c-454b-b0a5-12ac63cb29b9\")>,\n",
       " <selenium.webdriver.remote.webelement.WebElement (session=\"aa180880041264a8e0f6376b7c390018\", element=\"5b151262-20fe-42d5-bd51-8b8ac4f26a5a\")>,\n",
       " <selenium.webdriver.remote.webelement.WebElement (session=\"aa180880041264a8e0f6376b7c390018\", element=\"f145f56f-c06a-43ff-8fa2-8d7e4326ab3c\")>,\n",
       " <selenium.webdriver.remote.webelement.WebElement (session=\"aa180880041264a8e0f6376b7c390018\", element=\"82f199ee-8083-4ff3-81f9-3431bcc2243d\")>]"
      ]
     },
     "execution_count": 47,
     "metadata": {},
     "output_type": "execute_result"
    }
   ],
   "source": [
    "price_tag=driver.find_elements_by_xpath(\"//div[@class='_30jeq3']\")\n",
    "price_tag"
   ]
  },
  {
   "cell_type": "code",
   "execution_count": 48,
   "id": "6d4a930d",
   "metadata": {
    "collapsed": true
   },
   "outputs": [
    {
     "data": {
      "text/plain": [
       "['₹189',\n",
       " '₹260',\n",
       " '₹249',\n",
       " '₹999',\n",
       " '₹257',\n",
       " '₹329',\n",
       " '₹319',\n",
       " '₹999',\n",
       " '₹759',\n",
       " '₹359',\n",
       " '₹296',\n",
       " '₹854',\n",
       " '₹689',\n",
       " '₹359',\n",
       " '₹932',\n",
       " '₹289',\n",
       " '₹299',\n",
       " '₹264',\n",
       " '₹359',\n",
       " '₹399']"
      ]
     },
     "execution_count": 48,
     "metadata": {},
     "output_type": "execute_result"
    }
   ],
   "source": [
    "price=[]\n",
    "\n",
    "for i in price_tag:\n",
    "    price.append(i.text)\n",
    "price[0:20]"
   ]
  },
  {
   "cell_type": "markdown",
   "id": "ad0627fa",
   "metadata": {},
   "source": [
    "# Question No 6"
   ]
  },
  {
   "cell_type": "code",
   "execution_count": 50,
   "id": "ba381ed5",
   "metadata": {},
   "outputs": [],
   "source": [
    "driver.get('https://www.flipkart.com/')"
   ]
  },
  {
   "cell_type": "code",
   "execution_count": 51,
   "id": "c1358ce2",
   "metadata": {},
   "outputs": [
    {
     "name": "stderr",
     "output_type": "stream",
     "text": [
      "<ipython-input-51-5cb035836a14>:1: DeprecationWarning: find_element_by_* commands are deprecated. Please use find_element() instead\n",
      "  search_item=driver.find_element_by_xpath(\"//input[@class='_3704LK']\")\n"
     ]
    }
   ],
   "source": [
    "search_item=driver.find_element_by_xpath(\"//input[@class='_3704LK']\")\n",
    "search_item.send_keys('sneakers')"
   ]
  },
  {
   "cell_type": "code",
   "execution_count": 52,
   "id": "6f1942b3",
   "metadata": {},
   "outputs": [
    {
     "name": "stderr",
     "output_type": "stream",
     "text": [
      "<ipython-input-52-22d68055beef>:1: DeprecationWarning: find_element_by_* commands are deprecated. Please use find_element() instead\n",
      "  search_button=driver.find_element_by_xpath(\"//div[@class='col-12-12 _2oO9oE']/button\")\n"
     ]
    }
   ],
   "source": [
    "search_button=driver.find_element_by_xpath(\"//div[@class='col-12-12 _2oO9oE']/button\")\n",
    "search_button.click()"
   ]
  },
  {
   "cell_type": "code",
   "execution_count": 53,
   "id": "364c7eb2",
   "metadata": {},
   "outputs": [],
   "source": [
    "driver.get('https://www.flipkart.com/search?q=sneakers&otracker=search&otracker1=search&marketplace=FLIPKART&as-show=on&as=off')"
   ]
  },
  {
   "cell_type": "code",
   "execution_count": 54,
   "id": "acd28eed",
   "metadata": {
    "collapsed": true
   },
   "outputs": [
    {
     "name": "stderr",
     "output_type": "stream",
     "text": [
      "<ipython-input-54-82461bd19b58>:1: DeprecationWarning: find_elements_by_* commands are deprecated. Please use find_elements() instead\n",
      "  brand_tag=driver.find_elements_by_xpath(\"//div[@class='_2WkVRV']\")\n"
     ]
    },
    {
     "data": {
      "text/plain": [
       "[<selenium.webdriver.remote.webelement.WebElement (session=\"aa180880041264a8e0f6376b7c390018\", element=\"0390d3fa-a9c2-41f6-b0f8-7603a8e09ac2\")>,\n",
       " <selenium.webdriver.remote.webelement.WebElement (session=\"aa180880041264a8e0f6376b7c390018\", element=\"34009e54-e365-4a0f-8d73-de415cec0725\")>,\n",
       " <selenium.webdriver.remote.webelement.WebElement (session=\"aa180880041264a8e0f6376b7c390018\", element=\"e616af5b-1d82-48f0-8975-aa469002668b\")>,\n",
       " <selenium.webdriver.remote.webelement.WebElement (session=\"aa180880041264a8e0f6376b7c390018\", element=\"2a66d580-e92d-40d9-ba28-4fe59687fa96\")>,\n",
       " <selenium.webdriver.remote.webelement.WebElement (session=\"aa180880041264a8e0f6376b7c390018\", element=\"be92b63b-aa89-43e9-bf43-c5a03f09a3d0\")>,\n",
       " <selenium.webdriver.remote.webelement.WebElement (session=\"aa180880041264a8e0f6376b7c390018\", element=\"95043f79-ec3c-4edc-9e94-e397adabe6a3\")>,\n",
       " <selenium.webdriver.remote.webelement.WebElement (session=\"aa180880041264a8e0f6376b7c390018\", element=\"b973d4af-d229-435a-a6da-4749cdb08655\")>,\n",
       " <selenium.webdriver.remote.webelement.WebElement (session=\"aa180880041264a8e0f6376b7c390018\", element=\"33d543ed-28d0-439b-9421-3b3a7e475ed5\")>,\n",
       " <selenium.webdriver.remote.webelement.WebElement (session=\"aa180880041264a8e0f6376b7c390018\", element=\"f617e548-dd09-454e-91d3-3b30018ce7eb\")>,\n",
       " <selenium.webdriver.remote.webelement.WebElement (session=\"aa180880041264a8e0f6376b7c390018\", element=\"086b7a52-cbfc-451f-a4ef-6ed7876add09\")>,\n",
       " <selenium.webdriver.remote.webelement.WebElement (session=\"aa180880041264a8e0f6376b7c390018\", element=\"0334199e-2886-4266-bec1-f2b68bd5b81d\")>,\n",
       " <selenium.webdriver.remote.webelement.WebElement (session=\"aa180880041264a8e0f6376b7c390018\", element=\"e4b721c3-863c-41ef-a0dc-31aaedf8e58f\")>,\n",
       " <selenium.webdriver.remote.webelement.WebElement (session=\"aa180880041264a8e0f6376b7c390018\", element=\"c1e1ba1b-6b4b-43b6-9d7b-1bdb148181ba\")>,\n",
       " <selenium.webdriver.remote.webelement.WebElement (session=\"aa180880041264a8e0f6376b7c390018\", element=\"1b6d182d-aa64-42f8-bf9f-eb67c522592b\")>,\n",
       " <selenium.webdriver.remote.webelement.WebElement (session=\"aa180880041264a8e0f6376b7c390018\", element=\"7f6d8794-32cd-4d57-8c69-3f6cd43090fe\")>,\n",
       " <selenium.webdriver.remote.webelement.WebElement (session=\"aa180880041264a8e0f6376b7c390018\", element=\"47006b6d-9f05-4cb2-8b83-3da5d0f2ffa6\")>,\n",
       " <selenium.webdriver.remote.webelement.WebElement (session=\"aa180880041264a8e0f6376b7c390018\", element=\"da87d0d1-da87-4eed-a5dd-de6a598beff6\")>,\n",
       " <selenium.webdriver.remote.webelement.WebElement (session=\"aa180880041264a8e0f6376b7c390018\", element=\"4b8a4614-fd6e-499a-a43e-cfaa92f6b65b\")>,\n",
       " <selenium.webdriver.remote.webelement.WebElement (session=\"aa180880041264a8e0f6376b7c390018\", element=\"650e9297-3b38-4534-875a-af9d80e230ad\")>,\n",
       " <selenium.webdriver.remote.webelement.WebElement (session=\"aa180880041264a8e0f6376b7c390018\", element=\"6d108d24-960b-4212-8f9b-37f031ca9580\")>,\n",
       " <selenium.webdriver.remote.webelement.WebElement (session=\"aa180880041264a8e0f6376b7c390018\", element=\"cfec7a66-50dc-4cdf-a833-10616e192e40\")>,\n",
       " <selenium.webdriver.remote.webelement.WebElement (session=\"aa180880041264a8e0f6376b7c390018\", element=\"c0930caf-cf16-4314-a4d9-51ee7c101ea1\")>,\n",
       " <selenium.webdriver.remote.webelement.WebElement (session=\"aa180880041264a8e0f6376b7c390018\", element=\"d7063b55-5865-4222-b85e-ead15ec6691d\")>,\n",
       " <selenium.webdriver.remote.webelement.WebElement (session=\"aa180880041264a8e0f6376b7c390018\", element=\"560d3dc1-18c8-46d2-aad1-f06eeea5d704\")>,\n",
       " <selenium.webdriver.remote.webelement.WebElement (session=\"aa180880041264a8e0f6376b7c390018\", element=\"eacc46fd-938b-4eca-9a2e-b148851bfc74\")>,\n",
       " <selenium.webdriver.remote.webelement.WebElement (session=\"aa180880041264a8e0f6376b7c390018\", element=\"bc65046d-681d-44df-9dcf-4613c6ab77c7\")>,\n",
       " <selenium.webdriver.remote.webelement.WebElement (session=\"aa180880041264a8e0f6376b7c390018\", element=\"c60cf89b-cd5a-4382-910f-040359e13d6a\")>,\n",
       " <selenium.webdriver.remote.webelement.WebElement (session=\"aa180880041264a8e0f6376b7c390018\", element=\"4be5fb09-7df7-4594-bedd-ed38e52dfbee\")>,\n",
       " <selenium.webdriver.remote.webelement.WebElement (session=\"aa180880041264a8e0f6376b7c390018\", element=\"f2f00372-720d-4d38-9a69-86f3759f7504\")>,\n",
       " <selenium.webdriver.remote.webelement.WebElement (session=\"aa180880041264a8e0f6376b7c390018\", element=\"d2eb12fe-09a3-42d3-9a6a-28c920c7832d\")>,\n",
       " <selenium.webdriver.remote.webelement.WebElement (session=\"aa180880041264a8e0f6376b7c390018\", element=\"332f622d-fe4e-4e30-a45e-47e09977d089\")>,\n",
       " <selenium.webdriver.remote.webelement.WebElement (session=\"aa180880041264a8e0f6376b7c390018\", element=\"d29c9849-cb0f-4049-839d-e296bcb54ac8\")>,\n",
       " <selenium.webdriver.remote.webelement.WebElement (session=\"aa180880041264a8e0f6376b7c390018\", element=\"0e03794b-23eb-4c63-9e10-05a239440fe9\")>,\n",
       " <selenium.webdriver.remote.webelement.WebElement (session=\"aa180880041264a8e0f6376b7c390018\", element=\"e75d468a-d8fa-435f-8378-f2090bc0aa1b\")>,\n",
       " <selenium.webdriver.remote.webelement.WebElement (session=\"aa180880041264a8e0f6376b7c390018\", element=\"752f96f6-5357-4312-92d1-471f71f4627c\")>,\n",
       " <selenium.webdriver.remote.webelement.WebElement (session=\"aa180880041264a8e0f6376b7c390018\", element=\"a1887e89-cadd-4636-8414-f7b23c5db63b\")>,\n",
       " <selenium.webdriver.remote.webelement.WebElement (session=\"aa180880041264a8e0f6376b7c390018\", element=\"10a96147-7f6c-4db4-a77c-5a598b57b223\")>,\n",
       " <selenium.webdriver.remote.webelement.WebElement (session=\"aa180880041264a8e0f6376b7c390018\", element=\"062bface-ed34-4335-947d-dd8fa8a671c1\")>,\n",
       " <selenium.webdriver.remote.webelement.WebElement (session=\"aa180880041264a8e0f6376b7c390018\", element=\"cd1b26b6-bb9a-421e-b42f-867483e47df2\")>,\n",
       " <selenium.webdriver.remote.webelement.WebElement (session=\"aa180880041264a8e0f6376b7c390018\", element=\"abff61d9-43de-400c-892a-e2e2081a8289\")>]"
      ]
     },
     "execution_count": 54,
     "metadata": {},
     "output_type": "execute_result"
    }
   ],
   "source": [
    "brand_tag=driver.find_elements_by_xpath(\"//div[@class='_2WkVRV']\")\n",
    "brand_tag"
   ]
  },
  {
   "cell_type": "code",
   "execution_count": 55,
   "id": "73ca83ef",
   "metadata": {
    "collapsed": true
   },
   "outputs": [
    {
     "data": {
      "text/plain": [
       "['RapidBox',\n",
       " 'Jabra',\n",
       " 'ASTEROID',\n",
       " 'Numenzo',\n",
       " 'Numenzo',\n",
       " 'Magnolia',\n",
       " 'URBANBOX',\n",
       " 'CLARK STYLE',\n",
       " 'Chevit',\n",
       " 'ASTEROID',\n",
       " 'SCATCHITE',\n",
       " 'Echor',\n",
       " 'Kraasa',\n",
       " 'D-SNEAKERZ',\n",
       " 'FOOTGRAB',\n",
       " 'CLARK STYLE',\n",
       " 'SPARX',\n",
       " 'Robbie jones',\n",
       " 'Numenzo',\n",
       " 'BIRDE',\n",
       " 'Robbie jones',\n",
       " 'Kraasa',\n",
       " 'Chevit',\n",
       " 'Gzlizork',\n",
       " 'Arohi',\n",
       " 'T-ROCK',\n",
       " 'BRUTON',\n",
       " 'Bonexy',\n",
       " 'BRUTON',\n",
       " 'Shoes Bank',\n",
       " 'Robbie jones',\n",
       " 'Bonexy',\n",
       " 'Robbie jones',\n",
       " 'Chevit',\n",
       " 'Wlinzak',\n",
       " 'Alfiyo',\n",
       " 'BIRDE',\n",
       " 'BRUTON',\n",
       " 'ASIAN',\n",
       " 'sixXplus']"
      ]
     },
     "execution_count": 55,
     "metadata": {},
     "output_type": "execute_result"
    }
   ],
   "source": [
    "brand=[]\n",
    "\n",
    "for i in brand_tag:\n",
    "    brand.append(i.text)\n",
    "brand"
   ]
  },
  {
   "cell_type": "code",
   "execution_count": 60,
   "id": "6e4592f2",
   "metadata": {
    "collapsed": true
   },
   "outputs": [
    {
     "name": "stderr",
     "output_type": "stream",
     "text": [
      "<ipython-input-60-fa963fc5fa2c>:1: DeprecationWarning: find_elements_by_* commands are deprecated. Please use find_elements() instead\n",
      "  description_tag=driver.find_elements_by_xpath(\"//a[@class='IRpwTa']\")\n"
     ]
    },
    {
     "data": {
      "text/plain": [
       "[<selenium.webdriver.remote.webelement.WebElement (session=\"aa180880041264a8e0f6376b7c390018\", element=\"6eca25fa-a9e4-454c-a26d-df6d192caa89\")>,\n",
       " <selenium.webdriver.remote.webelement.WebElement (session=\"aa180880041264a8e0f6376b7c390018\", element=\"0e66415c-c0c6-40e9-88a8-2a5befec9530\")>,\n",
       " <selenium.webdriver.remote.webelement.WebElement (session=\"aa180880041264a8e0f6376b7c390018\", element=\"2e2df30f-1785-441a-b7c6-349ac82c525c\")>,\n",
       " <selenium.webdriver.remote.webelement.WebElement (session=\"aa180880041264a8e0f6376b7c390018\", element=\"e3545800-a427-45d5-8420-ce3305ba0465\")>,\n",
       " <selenium.webdriver.remote.webelement.WebElement (session=\"aa180880041264a8e0f6376b7c390018\", element=\"a38ef888-f582-4744-a85f-3ea92a6a227d\")>,\n",
       " <selenium.webdriver.remote.webelement.WebElement (session=\"aa180880041264a8e0f6376b7c390018\", element=\"c41158d3-28f1-4de4-b4b4-7892bf085d54\")>,\n",
       " <selenium.webdriver.remote.webelement.WebElement (session=\"aa180880041264a8e0f6376b7c390018\", element=\"06a3e094-884f-4afa-a198-d2e44b254d01\")>,\n",
       " <selenium.webdriver.remote.webelement.WebElement (session=\"aa180880041264a8e0f6376b7c390018\", element=\"5e8cb897-d66e-4ecd-adf4-3b7a12de3f2e\")>,\n",
       " <selenium.webdriver.remote.webelement.WebElement (session=\"aa180880041264a8e0f6376b7c390018\", element=\"36aa3bec-3bc5-46f4-941f-e4fae4169481\")>,\n",
       " <selenium.webdriver.remote.webelement.WebElement (session=\"aa180880041264a8e0f6376b7c390018\", element=\"d6bad778-3a70-4a56-9a41-804ddaaeba0b\")>,\n",
       " <selenium.webdriver.remote.webelement.WebElement (session=\"aa180880041264a8e0f6376b7c390018\", element=\"200cd57c-536d-4d44-af18-9454b173a885\")>,\n",
       " <selenium.webdriver.remote.webelement.WebElement (session=\"aa180880041264a8e0f6376b7c390018\", element=\"62914344-bbbd-4df3-8229-24440552c1fa\")>,\n",
       " <selenium.webdriver.remote.webelement.WebElement (session=\"aa180880041264a8e0f6376b7c390018\", element=\"467275af-e9f1-4df2-9c7d-919c1bdd0932\")>,\n",
       " <selenium.webdriver.remote.webelement.WebElement (session=\"aa180880041264a8e0f6376b7c390018\", element=\"df5a9c77-9ce2-4c7f-abcb-0ed29aeec944\")>,\n",
       " <selenium.webdriver.remote.webelement.WebElement (session=\"aa180880041264a8e0f6376b7c390018\", element=\"0b49f6c3-9269-4a3f-99de-ff7109946273\")>,\n",
       " <selenium.webdriver.remote.webelement.WebElement (session=\"aa180880041264a8e0f6376b7c390018\", element=\"77a4cc53-0de0-4464-aeed-c1ab83ba3450\")>,\n",
       " <selenium.webdriver.remote.webelement.WebElement (session=\"aa180880041264a8e0f6376b7c390018\", element=\"9d0cde4e-625d-488c-9cc6-30668938c194\")>,\n",
       " <selenium.webdriver.remote.webelement.WebElement (session=\"aa180880041264a8e0f6376b7c390018\", element=\"8c68d0c3-1e05-4e47-b990-eb608c76e916\")>,\n",
       " <selenium.webdriver.remote.webelement.WebElement (session=\"aa180880041264a8e0f6376b7c390018\", element=\"7bc9363e-b6b7-41f8-a2b0-5b3a29f16f50\")>,\n",
       " <selenium.webdriver.remote.webelement.WebElement (session=\"aa180880041264a8e0f6376b7c390018\", element=\"b34b5df6-7acd-4b25-bcff-e921ad3275b9\")>,\n",
       " <selenium.webdriver.remote.webelement.WebElement (session=\"aa180880041264a8e0f6376b7c390018\", element=\"6fcc69ff-1197-45a0-9e67-34cdc9ac0af2\")>,\n",
       " <selenium.webdriver.remote.webelement.WebElement (session=\"aa180880041264a8e0f6376b7c390018\", element=\"f91de7d5-d395-4eba-af7b-7936f3ec0aab\")>,\n",
       " <selenium.webdriver.remote.webelement.WebElement (session=\"aa180880041264a8e0f6376b7c390018\", element=\"7674620f-4cce-4cfa-b745-34c907980bea\")>,\n",
       " <selenium.webdriver.remote.webelement.WebElement (session=\"aa180880041264a8e0f6376b7c390018\", element=\"5ffa4152-8c65-4bd5-af3e-ca4436981faa\")>,\n",
       " <selenium.webdriver.remote.webelement.WebElement (session=\"aa180880041264a8e0f6376b7c390018\", element=\"bad61405-e13f-4395-95d9-ce9b1748da6a\")>,\n",
       " <selenium.webdriver.remote.webelement.WebElement (session=\"aa180880041264a8e0f6376b7c390018\", element=\"b3080621-bf38-4ac8-a3cd-20e3049d78d8\")>,\n",
       " <selenium.webdriver.remote.webelement.WebElement (session=\"aa180880041264a8e0f6376b7c390018\", element=\"601fb694-6331-4139-bd69-5b06421d08e0\")>,\n",
       " <selenium.webdriver.remote.webelement.WebElement (session=\"aa180880041264a8e0f6376b7c390018\", element=\"d6285009-83ef-435f-984b-5b4f3ac5092f\")>,\n",
       " <selenium.webdriver.remote.webelement.WebElement (session=\"aa180880041264a8e0f6376b7c390018\", element=\"c23f109f-0622-493c-b7a1-3e8bfadad288\")>,\n",
       " <selenium.webdriver.remote.webelement.WebElement (session=\"aa180880041264a8e0f6376b7c390018\", element=\"a9c1263a-c6c9-4985-bac8-a0d56cfd8161\")>,\n",
       " <selenium.webdriver.remote.webelement.WebElement (session=\"aa180880041264a8e0f6376b7c390018\", element=\"49bc3dfb-caa6-4f63-b091-d11688b97b94\")>,\n",
       " <selenium.webdriver.remote.webelement.WebElement (session=\"aa180880041264a8e0f6376b7c390018\", element=\"49971705-0f38-4b40-bdc8-36804ba69c1a\")>,\n",
       " <selenium.webdriver.remote.webelement.WebElement (session=\"aa180880041264a8e0f6376b7c390018\", element=\"c196371f-d35f-48c1-b00c-42bb0908232f\")>,\n",
       " <selenium.webdriver.remote.webelement.WebElement (session=\"aa180880041264a8e0f6376b7c390018\", element=\"a89e4aa7-1935-4e2f-8713-1a700496cfe2\")>]"
      ]
     },
     "execution_count": 60,
     "metadata": {},
     "output_type": "execute_result"
    }
   ],
   "source": [
    "description_tag=driver.find_elements_by_xpath(\"//a[@class='IRpwTa']\")\n",
    "description_tag"
   ]
  },
  {
   "cell_type": "code",
   "execution_count": 61,
   "id": "cfb2ff37",
   "metadata": {
    "collapsed": true
   },
   "outputs": [
    {
     "data": {
      "text/plain": [
       "[\"Original Luxury Branded Fashionable Men's Casual Walkin...\",\n",
       " '411 Casual Sneakers For Men',\n",
       " 'Sneakers For Men',\n",
       " 'Sneakers For Men',\n",
       " 'Super Stylish & Trendy Combo Pack of 02 Pairs Sneakers ...',\n",
       " \"Original Luxury Branded Fashionable Men's Casual Walkin...\",\n",
       " 'Sneakers Sneakers For Men',\n",
       " \"Men's Sneakers Walking Shoes - New Designed Luxury Bran...\",\n",
       " 'Shark-41 Sneakers For Men',\n",
       " \"Casual , Partywear Sneakers Shoes For Men's And Boys Wh...\",\n",
       " 'White Boots || High Tops || Sneakers For Men',\n",
       " 'Sneakers for men Sneakers For Men',\n",
       " 'Men White Sneakers Sneakers For Men',\n",
       " 'Casual Sneakers Shoes For Men Sneakers For Men',\n",
       " 'Numenzo Black Sneaker For Men Sneakers For Men',\n",
       " 'Men Casual Shoes Sneakers For Men',\n",
       " 'Sneakers For Men',\n",
       " 'Series 7 Sneakers For Men',\n",
       " 'Perfect & Affordable Combo Pack of 02 Pairs Sneakers Ou...',\n",
       " 'Sneakers For Men',\n",
       " 'Synthetic Leather Casual Partywear Wedding Sneakers Sho...',\n",
       " 'Modern Trendy Shoes Sneakers For Men',\n",
       " 'Sneakers For Men',\n",
       " 'Combo Pack Of 2 Latest Stylish Casual Shoes for Men Lac...',\n",
       " \"White Sneaker For Men's/Boy's Sneakers For Men\",\n",
       " 'Sneakers For Men',\n",
       " 'Sneakers For Men',\n",
       " 'Sneakers For Men',\n",
       " 'Unique & Perfect Collection Combo Pack of 02 Shoes for ...',\n",
       " 'Sneakers For Men',\n",
       " 'Sports Running Shoes Sneakers For Men',\n",
       " 'Combo Pack Of 4 Casual Shoes Loafer Shoes Sneakers For ...',\n",
       " 'Skypy-31 Walking Shoes,Training Shoes,Sneakers,Loafers,...',\n",
       " 'Casual Sneakers black Shoes For Men Sneakers For Men']"
      ]
     },
     "execution_count": 61,
     "metadata": {},
     "output_type": "execute_result"
    }
   ],
   "source": [
    "des=[]\n",
    "\n",
    "for i in description_tag:\n",
    "    des.append(i.text)\n",
    "des"
   ]
  },
  {
   "cell_type": "code",
   "execution_count": 62,
   "id": "8b48ab94",
   "metadata": {
    "collapsed": true
   },
   "outputs": [
    {
     "name": "stderr",
     "output_type": "stream",
     "text": [
      "<ipython-input-62-d3196a515f2f>:1: DeprecationWarning: find_elements_by_* commands are deprecated. Please use find_elements() instead\n",
      "  price_tag=driver.find_elements_by_xpath(\"//div[@class='_30jeq3']\")\n"
     ]
    },
    {
     "data": {
      "text/plain": [
       "[<selenium.webdriver.remote.webelement.WebElement (session=\"aa180880041264a8e0f6376b7c390018\", element=\"4acca2ab-21a7-46fa-b393-b7ebf483f4f9\")>,\n",
       " <selenium.webdriver.remote.webelement.WebElement (session=\"aa180880041264a8e0f6376b7c390018\", element=\"b5f50f55-8521-4a57-bbd4-72027981ca66\")>,\n",
       " <selenium.webdriver.remote.webelement.WebElement (session=\"aa180880041264a8e0f6376b7c390018\", element=\"3ef9d0ec-c96e-43d9-89b2-ffc8bd663cc3\")>,\n",
       " <selenium.webdriver.remote.webelement.WebElement (session=\"aa180880041264a8e0f6376b7c390018\", element=\"19ff843b-ccf7-4bec-a28e-3f72f0b5ffb1\")>,\n",
       " <selenium.webdriver.remote.webelement.WebElement (session=\"aa180880041264a8e0f6376b7c390018\", element=\"703400ca-1f91-41e8-a984-22a94b1b1b64\")>,\n",
       " <selenium.webdriver.remote.webelement.WebElement (session=\"aa180880041264a8e0f6376b7c390018\", element=\"3889c289-d9bf-4d29-8688-187e75529460\")>,\n",
       " <selenium.webdriver.remote.webelement.WebElement (session=\"aa180880041264a8e0f6376b7c390018\", element=\"262c2cc4-c3df-400a-802a-7471324c67e0\")>,\n",
       " <selenium.webdriver.remote.webelement.WebElement (session=\"aa180880041264a8e0f6376b7c390018\", element=\"9d2c76f1-9daf-49cc-bcc3-a86378945f95\")>,\n",
       " <selenium.webdriver.remote.webelement.WebElement (session=\"aa180880041264a8e0f6376b7c390018\", element=\"8f6259a1-41cb-40ea-a99a-e474ea897edd\")>,\n",
       " <selenium.webdriver.remote.webelement.WebElement (session=\"aa180880041264a8e0f6376b7c390018\", element=\"a1c5767d-38fc-4698-b2c2-558a57f077f2\")>,\n",
       " <selenium.webdriver.remote.webelement.WebElement (session=\"aa180880041264a8e0f6376b7c390018\", element=\"b6af0c31-dd2d-4c46-8982-18a2b52d24b7\")>,\n",
       " <selenium.webdriver.remote.webelement.WebElement (session=\"aa180880041264a8e0f6376b7c390018\", element=\"e98da440-aae9-4f41-bf8a-27bf879d8c57\")>,\n",
       " <selenium.webdriver.remote.webelement.WebElement (session=\"aa180880041264a8e0f6376b7c390018\", element=\"e02cca41-90eb-4c0e-977e-a36f2215deb8\")>,\n",
       " <selenium.webdriver.remote.webelement.WebElement (session=\"aa180880041264a8e0f6376b7c390018\", element=\"57e5af0c-1e93-4f58-81ed-298643749e41\")>,\n",
       " <selenium.webdriver.remote.webelement.WebElement (session=\"aa180880041264a8e0f6376b7c390018\", element=\"2512cd45-6542-4b1a-bf60-0bf0a65d4bca\")>,\n",
       " <selenium.webdriver.remote.webelement.WebElement (session=\"aa180880041264a8e0f6376b7c390018\", element=\"9ec0f4c5-f6a2-4242-8ec4-39e564f29224\")>,\n",
       " <selenium.webdriver.remote.webelement.WebElement (session=\"aa180880041264a8e0f6376b7c390018\", element=\"14021c10-c669-475c-ba7f-fd87f48974ce\")>,\n",
       " <selenium.webdriver.remote.webelement.WebElement (session=\"aa180880041264a8e0f6376b7c390018\", element=\"36d49f52-a8f2-451f-89f2-0f8f4c86c221\")>,\n",
       " <selenium.webdriver.remote.webelement.WebElement (session=\"aa180880041264a8e0f6376b7c390018\", element=\"b7b3320b-9d04-471c-b235-2f989922f1d2\")>,\n",
       " <selenium.webdriver.remote.webelement.WebElement (session=\"aa180880041264a8e0f6376b7c390018\", element=\"bbea0ac2-2188-409a-9565-b97e3616cbd7\")>,\n",
       " <selenium.webdriver.remote.webelement.WebElement (session=\"aa180880041264a8e0f6376b7c390018\", element=\"bfa1dc16-f0ba-48a1-894f-abb6cf40116a\")>,\n",
       " <selenium.webdriver.remote.webelement.WebElement (session=\"aa180880041264a8e0f6376b7c390018\", element=\"d645b2cf-882a-489b-84fc-a02e4eef978e\")>,\n",
       " <selenium.webdriver.remote.webelement.WebElement (session=\"aa180880041264a8e0f6376b7c390018\", element=\"00650f26-d319-4df3-894b-5978be7d1faa\")>,\n",
       " <selenium.webdriver.remote.webelement.WebElement (session=\"aa180880041264a8e0f6376b7c390018\", element=\"d121c1af-fbf4-4599-8b57-21afecf5ed83\")>,\n",
       " <selenium.webdriver.remote.webelement.WebElement (session=\"aa180880041264a8e0f6376b7c390018\", element=\"7cfd49c1-b27d-4832-9c1f-cbb3847174f1\")>,\n",
       " <selenium.webdriver.remote.webelement.WebElement (session=\"aa180880041264a8e0f6376b7c390018\", element=\"97a105f1-7725-404d-bedd-1234d8c0bff0\")>,\n",
       " <selenium.webdriver.remote.webelement.WebElement (session=\"aa180880041264a8e0f6376b7c390018\", element=\"e296f03c-b69c-4574-b2a9-78216e11e7f7\")>,\n",
       " <selenium.webdriver.remote.webelement.WebElement (session=\"aa180880041264a8e0f6376b7c390018\", element=\"a6e5cc6b-680a-4dfd-b0e8-92c08a62d807\")>,\n",
       " <selenium.webdriver.remote.webelement.WebElement (session=\"aa180880041264a8e0f6376b7c390018\", element=\"03a79e7a-ed6e-44db-acbc-b995571b0ceb\")>,\n",
       " <selenium.webdriver.remote.webelement.WebElement (session=\"aa180880041264a8e0f6376b7c390018\", element=\"88775137-9d3a-46cf-8d87-3d5273f58834\")>,\n",
       " <selenium.webdriver.remote.webelement.WebElement (session=\"aa180880041264a8e0f6376b7c390018\", element=\"0059ee58-4704-4ca7-95d0-9779d284c845\")>,\n",
       " <selenium.webdriver.remote.webelement.WebElement (session=\"aa180880041264a8e0f6376b7c390018\", element=\"0792b4b0-04d6-4927-968d-d57113b11e36\")>,\n",
       " <selenium.webdriver.remote.webelement.WebElement (session=\"aa180880041264a8e0f6376b7c390018\", element=\"3a67794e-b77d-49c5-b83f-59346a7381cf\")>,\n",
       " <selenium.webdriver.remote.webelement.WebElement (session=\"aa180880041264a8e0f6376b7c390018\", element=\"4c9bf9a1-194d-4053-93a6-8069f539788c\")>,\n",
       " <selenium.webdriver.remote.webelement.WebElement (session=\"aa180880041264a8e0f6376b7c390018\", element=\"b47ff080-a087-421b-8ffe-65725d25406f\")>,\n",
       " <selenium.webdriver.remote.webelement.WebElement (session=\"aa180880041264a8e0f6376b7c390018\", element=\"1799ced4-7da0-4ff0-8eda-0f82313c2a1f\")>,\n",
       " <selenium.webdriver.remote.webelement.WebElement (session=\"aa180880041264a8e0f6376b7c390018\", element=\"732eba24-3bf5-4328-98a5-87b91886295d\")>,\n",
       " <selenium.webdriver.remote.webelement.WebElement (session=\"aa180880041264a8e0f6376b7c390018\", element=\"ed7a44ec-dce2-4e6f-8a22-ca63a0352a76\")>,\n",
       " <selenium.webdriver.remote.webelement.WebElement (session=\"aa180880041264a8e0f6376b7c390018\", element=\"9066b979-e641-429e-accf-859426f389fc\")>,\n",
       " <selenium.webdriver.remote.webelement.WebElement (session=\"aa180880041264a8e0f6376b7c390018\", element=\"11a02e27-5f58-44e8-b74e-11efba3b1448\")>]"
      ]
     },
     "execution_count": 62,
     "metadata": {},
     "output_type": "execute_result"
    }
   ],
   "source": [
    "price_tag=driver.find_elements_by_xpath(\"//div[@class='_30jeq3']\")\n",
    "price_tag"
   ]
  },
  {
   "cell_type": "code",
   "execution_count": 63,
   "id": "82c5a3c5",
   "metadata": {
    "collapsed": true
   },
   "outputs": [
    {
     "data": {
      "text/plain": [
       "['₹560',\n",
       " '₹259',\n",
       " '₹499',\n",
       " '₹499',\n",
       " '₹479',\n",
       " '₹398',\n",
       " '₹220',\n",
       " '₹499',\n",
       " '₹699',\n",
       " '₹499',\n",
       " '₹398',\n",
       " '₹699',\n",
       " '₹499',\n",
       " '₹348',\n",
       " '₹549',\n",
       " '₹499',\n",
       " '₹646',\n",
       " '₹399',\n",
       " '₹499',\n",
       " '₹299',\n",
       " '₹499',\n",
       " '₹499',\n",
       " '₹599',\n",
       " '₹449',\n",
       " '₹458',\n",
       " '₹379',\n",
       " '₹359',\n",
       " '₹499',\n",
       " '₹592',\n",
       " '₹345',\n",
       " '₹499',\n",
       " '₹399',\n",
       " '₹499',\n",
       " '₹599',\n",
       " '₹399',\n",
       " '₹497',\n",
       " '₹299',\n",
       " '₹588',\n",
       " '₹399',\n",
       " '₹499']"
      ]
     },
     "execution_count": 63,
     "metadata": {},
     "output_type": "execute_result"
    }
   ],
   "source": [
    "price=[]\n",
    "\n",
    "for i in price_tag:\n",
    "    price.append(i.text)\n",
    "price"
   ]
  },
  {
   "cell_type": "code",
   "execution_count": 64,
   "id": "a9b5bc98",
   "metadata": {},
   "outputs": [
    {
     "name": "stderr",
     "output_type": "stream",
     "text": [
      "<ipython-input-64-c5a098f22a58>:1: DeprecationWarning: find_element_by_* commands are deprecated. Please use find_element() instead\n",
      "  next_button=driver.find_element_by_xpath(\"//a[@class='_1LKTO3']\")\n"
     ]
    }
   ],
   "source": [
    "next_button=driver.find_element_by_xpath(\"//a[@class='_1LKTO3']\")\n",
    "next_button.click()"
   ]
  },
  {
   "cell_type": "code",
   "execution_count": 65,
   "id": "69533706",
   "metadata": {},
   "outputs": [],
   "source": [
    "driver.get('https://www.flipkart.com/search?q=sneakers&otracker=search&otracker1=search&marketplace=FLIPKART&as-show=on&as=off&page=2')"
   ]
  },
  {
   "cell_type": "code",
   "execution_count": 66,
   "id": "52541d28",
   "metadata": {
    "collapsed": true
   },
   "outputs": [
    {
     "name": "stderr",
     "output_type": "stream",
     "text": [
      "<ipython-input-66-82461bd19b58>:1: DeprecationWarning: find_elements_by_* commands are deprecated. Please use find_elements() instead\n",
      "  brand_tag=driver.find_elements_by_xpath(\"//div[@class='_2WkVRV']\")\n"
     ]
    },
    {
     "data": {
      "text/plain": [
       "[<selenium.webdriver.remote.webelement.WebElement (session=\"aa180880041264a8e0f6376b7c390018\", element=\"5d9f4f90-86be-46d3-bc8d-e467c8501f77\")>,\n",
       " <selenium.webdriver.remote.webelement.WebElement (session=\"aa180880041264a8e0f6376b7c390018\", element=\"d5830fc4-6fa3-4de7-98b3-af090201792f\")>,\n",
       " <selenium.webdriver.remote.webelement.WebElement (session=\"aa180880041264a8e0f6376b7c390018\", element=\"f3461fd1-d242-4c0e-8d8d-b7cab0e0d79b\")>,\n",
       " <selenium.webdriver.remote.webelement.WebElement (session=\"aa180880041264a8e0f6376b7c390018\", element=\"f7a15482-152d-41bf-8a0b-fd1179a50fce\")>,\n",
       " <selenium.webdriver.remote.webelement.WebElement (session=\"aa180880041264a8e0f6376b7c390018\", element=\"d56d8066-70b1-4b76-ba6a-00aa9e4adaac\")>,\n",
       " <selenium.webdriver.remote.webelement.WebElement (session=\"aa180880041264a8e0f6376b7c390018\", element=\"74041ce5-4b40-47cf-aa18-5ff1a4448f82\")>,\n",
       " <selenium.webdriver.remote.webelement.WebElement (session=\"aa180880041264a8e0f6376b7c390018\", element=\"8c32bf68-4bb8-45b1-a476-a7043ab2bc81\")>,\n",
       " <selenium.webdriver.remote.webelement.WebElement (session=\"aa180880041264a8e0f6376b7c390018\", element=\"4dee11d6-4a5b-4d70-98fe-5e65834aa5d4\")>,\n",
       " <selenium.webdriver.remote.webelement.WebElement (session=\"aa180880041264a8e0f6376b7c390018\", element=\"af62eb86-4421-4baf-828d-bdc12c2d6687\")>,\n",
       " <selenium.webdriver.remote.webelement.WebElement (session=\"aa180880041264a8e0f6376b7c390018\", element=\"c77ceeaa-d2d9-42c8-a5c1-014b8cd4896c\")>,\n",
       " <selenium.webdriver.remote.webelement.WebElement (session=\"aa180880041264a8e0f6376b7c390018\", element=\"a5c7911b-4d92-489c-8490-de4e31aa653f\")>,\n",
       " <selenium.webdriver.remote.webelement.WebElement (session=\"aa180880041264a8e0f6376b7c390018\", element=\"c626147a-fb78-4bb8-a6bc-23b9bca5a1ea\")>,\n",
       " <selenium.webdriver.remote.webelement.WebElement (session=\"aa180880041264a8e0f6376b7c390018\", element=\"fe99e9d9-146b-426c-a6ff-aa36abe5aaf3\")>,\n",
       " <selenium.webdriver.remote.webelement.WebElement (session=\"aa180880041264a8e0f6376b7c390018\", element=\"53526fb5-24f4-4cc2-a13c-a582bdd88778\")>,\n",
       " <selenium.webdriver.remote.webelement.WebElement (session=\"aa180880041264a8e0f6376b7c390018\", element=\"022498c4-e737-4438-87b2-ed7f4551da07\")>,\n",
       " <selenium.webdriver.remote.webelement.WebElement (session=\"aa180880041264a8e0f6376b7c390018\", element=\"be9d1302-b621-4dd6-b59c-ba0e1084a37b\")>,\n",
       " <selenium.webdriver.remote.webelement.WebElement (session=\"aa180880041264a8e0f6376b7c390018\", element=\"fa509be3-ca11-4a8a-81a3-e5719b142034\")>,\n",
       " <selenium.webdriver.remote.webelement.WebElement (session=\"aa180880041264a8e0f6376b7c390018\", element=\"b7a98175-3e6d-492e-82a2-1a34cb3140d2\")>,\n",
       " <selenium.webdriver.remote.webelement.WebElement (session=\"aa180880041264a8e0f6376b7c390018\", element=\"bedf3ad7-f3d9-4114-99de-40ac6365fae8\")>,\n",
       " <selenium.webdriver.remote.webelement.WebElement (session=\"aa180880041264a8e0f6376b7c390018\", element=\"cf5ded11-e887-4ea9-84cd-513845d093ff\")>,\n",
       " <selenium.webdriver.remote.webelement.WebElement (session=\"aa180880041264a8e0f6376b7c390018\", element=\"f444d348-e1fb-4ae2-b196-8be0ee32279d\")>,\n",
       " <selenium.webdriver.remote.webelement.WebElement (session=\"aa180880041264a8e0f6376b7c390018\", element=\"a472c0fd-3d46-4efa-bc7c-c6d480547a03\")>,\n",
       " <selenium.webdriver.remote.webelement.WebElement (session=\"aa180880041264a8e0f6376b7c390018\", element=\"d9b3e334-3a91-4e4f-afec-a8f1313b322b\")>,\n",
       " <selenium.webdriver.remote.webelement.WebElement (session=\"aa180880041264a8e0f6376b7c390018\", element=\"8847b8c9-efd9-4cdd-b496-53d6a0b4659b\")>,\n",
       " <selenium.webdriver.remote.webelement.WebElement (session=\"aa180880041264a8e0f6376b7c390018\", element=\"e7d2cd56-5b88-4ce9-a6b6-1848193f0149\")>,\n",
       " <selenium.webdriver.remote.webelement.WebElement (session=\"aa180880041264a8e0f6376b7c390018\", element=\"601b1683-1317-4263-88d1-25e6d388bc34\")>,\n",
       " <selenium.webdriver.remote.webelement.WebElement (session=\"aa180880041264a8e0f6376b7c390018\", element=\"6f410531-98ed-4e96-bb7a-9a3d706d1826\")>,\n",
       " <selenium.webdriver.remote.webelement.WebElement (session=\"aa180880041264a8e0f6376b7c390018\", element=\"a1812d8d-c0d8-471e-844a-259194ed0de9\")>,\n",
       " <selenium.webdriver.remote.webelement.WebElement (session=\"aa180880041264a8e0f6376b7c390018\", element=\"d7e1a2e0-292b-43f5-b6cb-f6c082bafa78\")>,\n",
       " <selenium.webdriver.remote.webelement.WebElement (session=\"aa180880041264a8e0f6376b7c390018\", element=\"17a035eb-67cc-4f9a-a06a-1107b9bdd7c5\")>,\n",
       " <selenium.webdriver.remote.webelement.WebElement (session=\"aa180880041264a8e0f6376b7c390018\", element=\"794dcd37-bad2-40a0-9e8c-00162b25448b\")>,\n",
       " <selenium.webdriver.remote.webelement.WebElement (session=\"aa180880041264a8e0f6376b7c390018\", element=\"24fa17af-08d6-48be-98a4-8e33927dfdd1\")>,\n",
       " <selenium.webdriver.remote.webelement.WebElement (session=\"aa180880041264a8e0f6376b7c390018\", element=\"caddadef-fbc5-4fbe-9484-e29b8e82de97\")>,\n",
       " <selenium.webdriver.remote.webelement.WebElement (session=\"aa180880041264a8e0f6376b7c390018\", element=\"397b6e9a-1b5e-4659-bae8-266de77085de\")>,\n",
       " <selenium.webdriver.remote.webelement.WebElement (session=\"aa180880041264a8e0f6376b7c390018\", element=\"35e276d8-7cf7-45c2-9f0a-ebf51c73ec20\")>,\n",
       " <selenium.webdriver.remote.webelement.WebElement (session=\"aa180880041264a8e0f6376b7c390018\", element=\"cae36eec-1b4f-4726-aa25-bc0a92eb31c4\")>,\n",
       " <selenium.webdriver.remote.webelement.WebElement (session=\"aa180880041264a8e0f6376b7c390018\", element=\"b9a5b6c7-f01f-4252-a764-8db2f570da9a\")>,\n",
       " <selenium.webdriver.remote.webelement.WebElement (session=\"aa180880041264a8e0f6376b7c390018\", element=\"8007091d-f804-4b44-9249-df6d5c042bed\")>,\n",
       " <selenium.webdriver.remote.webelement.WebElement (session=\"aa180880041264a8e0f6376b7c390018\", element=\"24242c95-3405-4070-b366-b861fc43b7ce\")>,\n",
       " <selenium.webdriver.remote.webelement.WebElement (session=\"aa180880041264a8e0f6376b7c390018\", element=\"536348c0-ffb0-491c-8a48-2f7968ee2a7f\")>]"
      ]
     },
     "execution_count": 66,
     "metadata": {},
     "output_type": "execute_result"
    }
   ],
   "source": [
    "brand_tag=driver.find_elements_by_xpath(\"//div[@class='_2WkVRV']\")\n",
    "brand_tag"
   ]
  },
  {
   "cell_type": "code",
   "execution_count": 67,
   "id": "e4b28af6",
   "metadata": {
    "collapsed": true
   },
   "outputs": [
    {
     "data": {
      "text/plain": [
       "['Airland',\n",
       " 'VORII',\n",
       " 'SPARX',\n",
       " 'RapidBox',\n",
       " 'SPARX',\n",
       " 'D-SNEAKERZ',\n",
       " 'Chevit',\n",
       " 'CLARK STYLE',\n",
       " 'Labbin',\n",
       " 'SneakerVilla',\n",
       " 'PUMA',\n",
       " 'Jabra',\n",
       " 'Edoeviv',\n",
       " 'Kreverse',\n",
       " 'PEXLO',\n",
       " 'Echor',\n",
       " 'Clymb',\n",
       " 'BRUTON',\n",
       " 'BRUTON',\n",
       " 'CLARK STYLE',\n",
       " 'SPARX',\n",
       " 'bluemaker',\n",
       " 'SPADE CLUB',\n",
       " 'BIRDE',\n",
       " 'RODDICK SHOES',\n",
       " 'Robbie jones',\n",
       " 'RODDICK SHOES',\n",
       " 'Gzlizork',\n",
       " 'rodox',\n",
       " 'CALCADOS',\n",
       " 'Numenzo',\n",
       " 'Bonexy',\n",
       " 'bluemaker',\n",
       " 'PUMA',\n",
       " 'ESSENCE',\n",
       " 'Bonexy',\n",
       " 'LuvShus',\n",
       " 'Jack Diamond',\n",
       " 'Robbie jones',\n",
       " 'Alfiyo']"
      ]
     },
     "execution_count": 67,
     "metadata": {},
     "output_type": "execute_result"
    }
   ],
   "source": [
    "brand=[]\n",
    "\n",
    "for i in brand_tag:\n",
    "    brand.append(i.text)\n",
    "brand"
   ]
  },
  {
   "cell_type": "code",
   "execution_count": 68,
   "id": "a3206fdd",
   "metadata": {
    "collapsed": true
   },
   "outputs": [
    {
     "name": "stderr",
     "output_type": "stream",
     "text": [
      "<ipython-input-68-fa963fc5fa2c>:1: DeprecationWarning: find_elements_by_* commands are deprecated. Please use find_elements() instead\n",
      "  description_tag=driver.find_elements_by_xpath(\"//a[@class='IRpwTa']\")\n"
     ]
    },
    {
     "data": {
      "text/plain": [
       "[<selenium.webdriver.remote.webelement.WebElement (session=\"aa180880041264a8e0f6376b7c390018\", element=\"1357e3cc-0a47-4508-853b-a7566587d9f9\")>,\n",
       " <selenium.webdriver.remote.webelement.WebElement (session=\"aa180880041264a8e0f6376b7c390018\", element=\"9690118e-0408-48ff-b6e4-6e289f7fac73\")>,\n",
       " <selenium.webdriver.remote.webelement.WebElement (session=\"aa180880041264a8e0f6376b7c390018\", element=\"febe10ef-e05b-4b53-965d-fa2ee0e2290f\")>,\n",
       " <selenium.webdriver.remote.webelement.WebElement (session=\"aa180880041264a8e0f6376b7c390018\", element=\"aaa1bea6-d401-4e28-8e8f-97d6e844098d\")>,\n",
       " <selenium.webdriver.remote.webelement.WebElement (session=\"aa180880041264a8e0f6376b7c390018\", element=\"a1a2e2ad-6b8f-4d78-833b-c4a16cc69fe2\")>,\n",
       " <selenium.webdriver.remote.webelement.WebElement (session=\"aa180880041264a8e0f6376b7c390018\", element=\"d494967e-2d3e-40ac-9807-bb532a9acc16\")>,\n",
       " <selenium.webdriver.remote.webelement.WebElement (session=\"aa180880041264a8e0f6376b7c390018\", element=\"01a99ca6-a1bc-4497-933e-d0c4bd6c0b4d\")>,\n",
       " <selenium.webdriver.remote.webelement.WebElement (session=\"aa180880041264a8e0f6376b7c390018\", element=\"f578ef16-2856-4f4a-8df3-f443cc2c9660\")>,\n",
       " <selenium.webdriver.remote.webelement.WebElement (session=\"aa180880041264a8e0f6376b7c390018\", element=\"096f9cfe-b87d-4b01-9014-33db0a78caf4\")>,\n",
       " <selenium.webdriver.remote.webelement.WebElement (session=\"aa180880041264a8e0f6376b7c390018\", element=\"2a77c39d-46f8-4f7d-a5d6-a5968a1adaa2\")>,\n",
       " <selenium.webdriver.remote.webelement.WebElement (session=\"aa180880041264a8e0f6376b7c390018\", element=\"ac7078ee-214b-4dce-a2a4-f33e70762eee\")>,\n",
       " <selenium.webdriver.remote.webelement.WebElement (session=\"aa180880041264a8e0f6376b7c390018\", element=\"c0c2d9cc-771a-417c-b790-631bb945db7e\")>,\n",
       " <selenium.webdriver.remote.webelement.WebElement (session=\"aa180880041264a8e0f6376b7c390018\", element=\"86c21356-004b-4acb-ac97-d5e154abf2fb\")>,\n",
       " <selenium.webdriver.remote.webelement.WebElement (session=\"aa180880041264a8e0f6376b7c390018\", element=\"fe2a9bd1-b474-43a4-866f-80bd4dc79cba\")>,\n",
       " <selenium.webdriver.remote.webelement.WebElement (session=\"aa180880041264a8e0f6376b7c390018\", element=\"ab223750-c8b3-419c-82d3-e39b361d57df\")>,\n",
       " <selenium.webdriver.remote.webelement.WebElement (session=\"aa180880041264a8e0f6376b7c390018\", element=\"b6011fd2-fbc4-4a50-9acb-98ae7c91a89f\")>,\n",
       " <selenium.webdriver.remote.webelement.WebElement (session=\"aa180880041264a8e0f6376b7c390018\", element=\"666c1e5e-4f90-45ff-aacf-7bd86e7382ef\")>,\n",
       " <selenium.webdriver.remote.webelement.WebElement (session=\"aa180880041264a8e0f6376b7c390018\", element=\"f07d0518-2676-4b2e-a62e-0e67d3bf5ab8\")>,\n",
       " <selenium.webdriver.remote.webelement.WebElement (session=\"aa180880041264a8e0f6376b7c390018\", element=\"07ca27c3-c9ec-448a-927f-cdddf81a069a\")>,\n",
       " <selenium.webdriver.remote.webelement.WebElement (session=\"aa180880041264a8e0f6376b7c390018\", element=\"28cff991-6557-47a2-847e-b8da7a787078\")>,\n",
       " <selenium.webdriver.remote.webelement.WebElement (session=\"aa180880041264a8e0f6376b7c390018\", element=\"4c82c8ed-f1c6-4223-87ff-a71fb5b4dc86\")>,\n",
       " <selenium.webdriver.remote.webelement.WebElement (session=\"aa180880041264a8e0f6376b7c390018\", element=\"752b8c59-b807-475a-af8b-73d81c886420\")>,\n",
       " <selenium.webdriver.remote.webelement.WebElement (session=\"aa180880041264a8e0f6376b7c390018\", element=\"0ec22bdc-9487-48dc-8c4b-47401c125fc7\")>,\n",
       " <selenium.webdriver.remote.webelement.WebElement (session=\"aa180880041264a8e0f6376b7c390018\", element=\"71046864-6642-4596-bf5d-044a6abdf62b\")>,\n",
       " <selenium.webdriver.remote.webelement.WebElement (session=\"aa180880041264a8e0f6376b7c390018\", element=\"4de9c9de-12b4-4dff-8189-c94efda488b4\")>,\n",
       " <selenium.webdriver.remote.webelement.WebElement (session=\"aa180880041264a8e0f6376b7c390018\", element=\"6ab01884-fc75-4b3d-b9a7-dcd4e7bada85\")>,\n",
       " <selenium.webdriver.remote.webelement.WebElement (session=\"aa180880041264a8e0f6376b7c390018\", element=\"2cede9fd-fca8-47b9-ac53-9cd5f6e5a806\")>,\n",
       " <selenium.webdriver.remote.webelement.WebElement (session=\"aa180880041264a8e0f6376b7c390018\", element=\"e0225adf-f72a-4979-9ae3-222695f9f397\")>,\n",
       " <selenium.webdriver.remote.webelement.WebElement (session=\"aa180880041264a8e0f6376b7c390018\", element=\"b444f4c3-6911-40aa-84a1-bf5393f7547b\")>]"
      ]
     },
     "execution_count": 68,
     "metadata": {},
     "output_type": "execute_result"
    }
   ],
   "source": [
    "description_tag=driver.find_elements_by_xpath(\"//a[@class='IRpwTa']\")\n",
    "description_tag"
   ]
  },
  {
   "cell_type": "code",
   "execution_count": 69,
   "id": "1c041947",
   "metadata": {
    "collapsed": true
   },
   "outputs": [
    {
     "data": {
      "text/plain": [
       "['sneaker men red 1258 - 6 Sneakers For Men',\n",
       " 'SM-675 Sneakers For Men',\n",
       " 'SM-322 Sneakers For Men',\n",
       " \"Casual , Partywear Sneakers Shoes For Men's And Boys Wh...\",\n",
       " 'Affordable Combo Pack of 03 Pairs Sneakers Outdoor Loaf...',\n",
       " 'Casual Sneakers White Shoes For Men And Boys Sneakers F...',\n",
       " 'Puma Wired Cage Sneakers For Men',\n",
       " \"Luxury Branded Fashionable Men's Casual Walking Partywe...\",\n",
       " 'Sneakers For Men',\n",
       " \"Men's Casual Shoes Combo Pack of 02 Sneakers For Men\",\n",
       " \"Men's Sneakers Walking Shoes - New Designed Luxury Bran...\",\n",
       " 'Mesh Casual/Walking Shoes/Outdoor Ultra Lightweight Sne...',\n",
       " 'Modern & Trendy Collection Combo Pack of 02 Shoes for M...',\n",
       " 'Combo Pack of 2 Sports Running LightWeight Shoes Sneake...',\n",
       " 'Sneakers for men Sneakers For Men',\n",
       " 'SD-323 Sneakers For Men',\n",
       " 'casual for men (blue 06) Sneakers For Men',\n",
       " 'Men Casual Shoes Sneakers For Men',\n",
       " 'Casual Sneakers Green Shoes For Men And Boys Sneakers F...',\n",
       " 'Fashion Outdoor Canvas Casual Light Weight Lace-up Even...',\n",
       " 'Sneakers For Men',\n",
       " 'Sneakers For Men',\n",
       " 'casual for men (beige 06) Sneakers For Men',\n",
       " 'Perforated Low IDP Sneakers For Men',\n",
       " 'Sneakers For Men',\n",
       " 'Sneakers For Men',\n",
       " 'Men Casual Shoe New Trend With Fashion Panda Desgined L...',\n",
       " 'Casual Sneakers Green Shoes For Men And Boys Sneakers F...',\n",
       " 'Sneakers For Men']"
      ]
     },
     "execution_count": 69,
     "metadata": {},
     "output_type": "execute_result"
    }
   ],
   "source": [
    "des=[]\n",
    "\n",
    "for i in description_tag:\n",
    "    des.append(i.text)\n",
    "des"
   ]
  },
  {
   "cell_type": "code",
   "execution_count": 70,
   "id": "2232b1a9",
   "metadata": {
    "collapsed": true
   },
   "outputs": [
    {
     "name": "stderr",
     "output_type": "stream",
     "text": [
      "<ipython-input-70-d3196a515f2f>:1: DeprecationWarning: find_elements_by_* commands are deprecated. Please use find_elements() instead\n",
      "  price_tag=driver.find_elements_by_xpath(\"//div[@class='_30jeq3']\")\n"
     ]
    },
    {
     "data": {
      "text/plain": [
       "[<selenium.webdriver.remote.webelement.WebElement (session=\"aa180880041264a8e0f6376b7c390018\", element=\"d46dd92e-5637-4e7f-a7ab-e566579c3f35\")>,\n",
       " <selenium.webdriver.remote.webelement.WebElement (session=\"aa180880041264a8e0f6376b7c390018\", element=\"0037a748-dfb7-4930-aea8-9f8142412b80\")>,\n",
       " <selenium.webdriver.remote.webelement.WebElement (session=\"aa180880041264a8e0f6376b7c390018\", element=\"d810e32c-718e-44a5-af0f-2307d5341ffd\")>,\n",
       " <selenium.webdriver.remote.webelement.WebElement (session=\"aa180880041264a8e0f6376b7c390018\", element=\"fdfa3613-5350-44f4-ae69-9828f422f03a\")>,\n",
       " <selenium.webdriver.remote.webelement.WebElement (session=\"aa180880041264a8e0f6376b7c390018\", element=\"f171ef42-5768-40b3-bbb9-9740279586b5\")>,\n",
       " <selenium.webdriver.remote.webelement.WebElement (session=\"aa180880041264a8e0f6376b7c390018\", element=\"dc7394bf-f80d-41aa-8b3f-97a2fe0ec1c3\")>,\n",
       " <selenium.webdriver.remote.webelement.WebElement (session=\"aa180880041264a8e0f6376b7c390018\", element=\"31bd80d5-b777-4258-ae4b-988be60600fb\")>,\n",
       " <selenium.webdriver.remote.webelement.WebElement (session=\"aa180880041264a8e0f6376b7c390018\", element=\"74e75404-7574-4c51-a44b-d4a11a37745d\")>,\n",
       " <selenium.webdriver.remote.webelement.WebElement (session=\"aa180880041264a8e0f6376b7c390018\", element=\"f2d810a8-890d-4e7c-a9b3-9ff98dd2c0af\")>,\n",
       " <selenium.webdriver.remote.webelement.WebElement (session=\"aa180880041264a8e0f6376b7c390018\", element=\"138911c3-86aa-41d9-93e2-d0f82f4eb5d6\")>,\n",
       " <selenium.webdriver.remote.webelement.WebElement (session=\"aa180880041264a8e0f6376b7c390018\", element=\"ef8b98c3-88e1-4659-a89d-f87b78d783f2\")>,\n",
       " <selenium.webdriver.remote.webelement.WebElement (session=\"aa180880041264a8e0f6376b7c390018\", element=\"b001ae35-a996-46cb-9fa1-ff6478071528\")>,\n",
       " <selenium.webdriver.remote.webelement.WebElement (session=\"aa180880041264a8e0f6376b7c390018\", element=\"e7a9e796-2ba1-49a8-acf7-b29b77fc8158\")>,\n",
       " <selenium.webdriver.remote.webelement.WebElement (session=\"aa180880041264a8e0f6376b7c390018\", element=\"dee9e9f1-4e9c-432d-8fe4-8b34eb019285\")>,\n",
       " <selenium.webdriver.remote.webelement.WebElement (session=\"aa180880041264a8e0f6376b7c390018\", element=\"083c7fb7-3a46-4020-ac93-567e9c8460e7\")>,\n",
       " <selenium.webdriver.remote.webelement.WebElement (session=\"aa180880041264a8e0f6376b7c390018\", element=\"931786c0-e206-49c1-b8ff-4912d41f34e0\")>,\n",
       " <selenium.webdriver.remote.webelement.WebElement (session=\"aa180880041264a8e0f6376b7c390018\", element=\"1a056c9d-d957-4d9c-a689-54d2092b951c\")>,\n",
       " <selenium.webdriver.remote.webelement.WebElement (session=\"aa180880041264a8e0f6376b7c390018\", element=\"152cdfeb-4ddc-4d46-978a-6293128fea60\")>,\n",
       " <selenium.webdriver.remote.webelement.WebElement (session=\"aa180880041264a8e0f6376b7c390018\", element=\"6d33dfd2-d679-4f76-8300-ba6f7dd9a680\")>,\n",
       " <selenium.webdriver.remote.webelement.WebElement (session=\"aa180880041264a8e0f6376b7c390018\", element=\"ad4b66d9-6ac5-4c8f-8bee-051354286315\")>,\n",
       " <selenium.webdriver.remote.webelement.WebElement (session=\"aa180880041264a8e0f6376b7c390018\", element=\"7cc777ef-e5a3-4900-a9dd-c91c0cb9ab27\")>,\n",
       " <selenium.webdriver.remote.webelement.WebElement (session=\"aa180880041264a8e0f6376b7c390018\", element=\"43f16135-2491-4b50-a49c-a2e061aedf55\")>,\n",
       " <selenium.webdriver.remote.webelement.WebElement (session=\"aa180880041264a8e0f6376b7c390018\", element=\"2d17ba60-8899-4a8f-85be-2f5484f13b4d\")>,\n",
       " <selenium.webdriver.remote.webelement.WebElement (session=\"aa180880041264a8e0f6376b7c390018\", element=\"6937819d-3329-48d6-809a-de32a21b9a2c\")>,\n",
       " <selenium.webdriver.remote.webelement.WebElement (session=\"aa180880041264a8e0f6376b7c390018\", element=\"c1722267-a264-40a9-bcad-5f3e8a15bfaf\")>,\n",
       " <selenium.webdriver.remote.webelement.WebElement (session=\"aa180880041264a8e0f6376b7c390018\", element=\"dce60533-bc3d-43cd-a7ab-791cfe576a9e\")>,\n",
       " <selenium.webdriver.remote.webelement.WebElement (session=\"aa180880041264a8e0f6376b7c390018\", element=\"d622259f-0868-42bc-afbc-2e1c855b44bd\")>,\n",
       " <selenium.webdriver.remote.webelement.WebElement (session=\"aa180880041264a8e0f6376b7c390018\", element=\"943a8ca5-6f71-46c9-b50d-aa555ad5e732\")>,\n",
       " <selenium.webdriver.remote.webelement.WebElement (session=\"aa180880041264a8e0f6376b7c390018\", element=\"6bb5c1eb-0cca-463b-8cf2-9e456be531eb\")>,\n",
       " <selenium.webdriver.remote.webelement.WebElement (session=\"aa180880041264a8e0f6376b7c390018\", element=\"411f8f98-9ab3-4809-a7ca-08bdf4eff756\")>,\n",
       " <selenium.webdriver.remote.webelement.WebElement (session=\"aa180880041264a8e0f6376b7c390018\", element=\"e4a102bb-a796-4f44-9151-ff9c07c65f6d\")>,\n",
       " <selenium.webdriver.remote.webelement.WebElement (session=\"aa180880041264a8e0f6376b7c390018\", element=\"121541a8-d1ee-4c96-8cfb-360e1a633717\")>,\n",
       " <selenium.webdriver.remote.webelement.WebElement (session=\"aa180880041264a8e0f6376b7c390018\", element=\"6ac12975-6698-48a6-9f26-6c6d0d32aaef\")>,\n",
       " <selenium.webdriver.remote.webelement.WebElement (session=\"aa180880041264a8e0f6376b7c390018\", element=\"efaaed02-1186-483a-b5b7-a04fb93146d4\")>,\n",
       " <selenium.webdriver.remote.webelement.WebElement (session=\"aa180880041264a8e0f6376b7c390018\", element=\"23ccb7d2-ce13-4e74-8648-e365c91f0334\")>,\n",
       " <selenium.webdriver.remote.webelement.WebElement (session=\"aa180880041264a8e0f6376b7c390018\", element=\"d67f4dda-84d0-4e74-9a12-fcf246db9650\")>,\n",
       " <selenium.webdriver.remote.webelement.WebElement (session=\"aa180880041264a8e0f6376b7c390018\", element=\"c1d8239f-d820-4c52-9142-5aa333c46734\")>,\n",
       " <selenium.webdriver.remote.webelement.WebElement (session=\"aa180880041264a8e0f6376b7c390018\", element=\"a3bee4d5-503d-414f-8fdd-a7bae733a1f9\")>,\n",
       " <selenium.webdriver.remote.webelement.WebElement (session=\"aa180880041264a8e0f6376b7c390018\", element=\"9b8ef09d-83d9-4bf5-807f-678ae3ca568c\")>,\n",
       " <selenium.webdriver.remote.webelement.WebElement (session=\"aa180880041264a8e0f6376b7c390018\", element=\"f3561e2a-745b-4cd4-b851-55fb089c7e4e\")>]"
      ]
     },
     "execution_count": 70,
     "metadata": {},
     "output_type": "execute_result"
    }
   ],
   "source": [
    "price_tag=driver.find_elements_by_xpath(\"//div[@class='_30jeq3']\")\n",
    "price_tag"
   ]
  },
  {
   "cell_type": "code",
   "execution_count": 71,
   "id": "d38936c2",
   "metadata": {
    "collapsed": true
   },
   "outputs": [
    {
     "data": {
      "text/plain": [
       "['₹197',\n",
       " '₹469',\n",
       " '₹799',\n",
       " '₹560',\n",
       " '₹828',\n",
       " '₹384',\n",
       " '₹799',\n",
       " '₹499',\n",
       " '₹399',\n",
       " '₹549',\n",
       " '₹1,719',\n",
       " '₹259',\n",
       " '₹499',\n",
       " '₹245',\n",
       " '₹619',\n",
       " '₹699',\n",
       " '₹259',\n",
       " '₹474',\n",
       " '₹474',\n",
       " '₹499',\n",
       " '₹636',\n",
       " '₹474',\n",
       " '₹709',\n",
       " '₹299',\n",
       " '₹499',\n",
       " '₹499',\n",
       " '₹499',\n",
       " '₹449',\n",
       " '₹699',\n",
       " '₹899',\n",
       " '₹499',\n",
       " '₹499',\n",
       " '₹474',\n",
       " '₹1,599',\n",
       " '₹449',\n",
       " '₹399',\n",
       " '₹442',\n",
       " '₹645',\n",
       " '₹499',\n",
       " '₹497']"
      ]
     },
     "execution_count": 71,
     "metadata": {},
     "output_type": "execute_result"
    }
   ],
   "source": [
    "price=[]\n",
    "\n",
    "for i in price_tag:\n",
    "    price.append(i.text)\n",
    "price"
   ]
  },
  {
   "cell_type": "code",
   "execution_count": 72,
   "id": "2d0bd476",
   "metadata": {},
   "outputs": [
    {
     "name": "stderr",
     "output_type": "stream",
     "text": [
      "<ipython-input-72-c5a098f22a58>:1: DeprecationWarning: find_element_by_* commands are deprecated. Please use find_element() instead\n",
      "  next_button=driver.find_element_by_xpath(\"//a[@class='_1LKTO3']\")\n"
     ]
    }
   ],
   "source": [
    "next_button=driver.find_element_by_xpath(\"//a[@class='_1LKTO3']\")\n",
    "next_button.click()"
   ]
  },
  {
   "cell_type": "code",
   "execution_count": 73,
   "id": "1e24904d",
   "metadata": {},
   "outputs": [],
   "source": [
    "driver.get('https://www.flipkart.com/search?q=sneakers&otracker=search&otracker1=search&marketplace=FLIPKART&as-show=on&as=off&page=3')"
   ]
  },
  {
   "cell_type": "code",
   "execution_count": 74,
   "id": "00161286",
   "metadata": {
    "collapsed": true
   },
   "outputs": [
    {
     "name": "stderr",
     "output_type": "stream",
     "text": [
      "<ipython-input-74-82461bd19b58>:1: DeprecationWarning: find_elements_by_* commands are deprecated. Please use find_elements() instead\n",
      "  brand_tag=driver.find_elements_by_xpath(\"//div[@class='_2WkVRV']\")\n"
     ]
    },
    {
     "data": {
      "text/plain": [
       "[<selenium.webdriver.remote.webelement.WebElement (session=\"aa180880041264a8e0f6376b7c390018\", element=\"d14746a8-65e6-441e-ba0c-f04e359a236c\")>,\n",
       " <selenium.webdriver.remote.webelement.WebElement (session=\"aa180880041264a8e0f6376b7c390018\", element=\"47d46803-fdf8-42e0-8f93-6d9ac1f6bf98\")>,\n",
       " <selenium.webdriver.remote.webelement.WebElement (session=\"aa180880041264a8e0f6376b7c390018\", element=\"fbe21fec-e2eb-4236-b40b-d65649d396b3\")>,\n",
       " <selenium.webdriver.remote.webelement.WebElement (session=\"aa180880041264a8e0f6376b7c390018\", element=\"1b405bcd-32cb-4d72-a498-441121b4ceaf\")>,\n",
       " <selenium.webdriver.remote.webelement.WebElement (session=\"aa180880041264a8e0f6376b7c390018\", element=\"88563cea-1ee0-4dbb-80ce-097342956f96\")>,\n",
       " <selenium.webdriver.remote.webelement.WebElement (session=\"aa180880041264a8e0f6376b7c390018\", element=\"579396aa-8834-4998-a2dd-a7300c92815a\")>,\n",
       " <selenium.webdriver.remote.webelement.WebElement (session=\"aa180880041264a8e0f6376b7c390018\", element=\"3b4be754-f421-4386-99ac-cafce76291ef\")>,\n",
       " <selenium.webdriver.remote.webelement.WebElement (session=\"aa180880041264a8e0f6376b7c390018\", element=\"04adf743-3e7c-4461-ab70-ee2fa2e8ef0a\")>,\n",
       " <selenium.webdriver.remote.webelement.WebElement (session=\"aa180880041264a8e0f6376b7c390018\", element=\"e2ec4e01-ec17-4fae-bae8-cac89ff642b9\")>,\n",
       " <selenium.webdriver.remote.webelement.WebElement (session=\"aa180880041264a8e0f6376b7c390018\", element=\"a01229d0-7ba1-4396-b446-0b58df44f274\")>,\n",
       " <selenium.webdriver.remote.webelement.WebElement (session=\"aa180880041264a8e0f6376b7c390018\", element=\"c96e14e4-2e2b-4b33-a5a5-ad53683de9c0\")>,\n",
       " <selenium.webdriver.remote.webelement.WebElement (session=\"aa180880041264a8e0f6376b7c390018\", element=\"e04edbde-b423-49b3-9b90-a5706afc2773\")>,\n",
       " <selenium.webdriver.remote.webelement.WebElement (session=\"aa180880041264a8e0f6376b7c390018\", element=\"71bb7b70-6d5b-4323-881e-fc1537db1839\")>,\n",
       " <selenium.webdriver.remote.webelement.WebElement (session=\"aa180880041264a8e0f6376b7c390018\", element=\"25b75028-e9ce-4bc9-9507-32fffc3973ca\")>,\n",
       " <selenium.webdriver.remote.webelement.WebElement (session=\"aa180880041264a8e0f6376b7c390018\", element=\"6d437e53-827d-47e6-bb6c-a2f7b1d369f4\")>,\n",
       " <selenium.webdriver.remote.webelement.WebElement (session=\"aa180880041264a8e0f6376b7c390018\", element=\"83011280-d8bf-4f26-95c8-31f24c8f4f81\")>,\n",
       " <selenium.webdriver.remote.webelement.WebElement (session=\"aa180880041264a8e0f6376b7c390018\", element=\"56030582-9630-43fb-b4b0-00dd580708fc\")>,\n",
       " <selenium.webdriver.remote.webelement.WebElement (session=\"aa180880041264a8e0f6376b7c390018\", element=\"837f5a72-768d-4d98-87dc-fb298d75318d\")>,\n",
       " <selenium.webdriver.remote.webelement.WebElement (session=\"aa180880041264a8e0f6376b7c390018\", element=\"4f25b240-be2e-4994-9a94-11b486223bf7\")>,\n",
       " <selenium.webdriver.remote.webelement.WebElement (session=\"aa180880041264a8e0f6376b7c390018\", element=\"838eb62e-2f98-4f18-af19-d94271224e01\")>,\n",
       " <selenium.webdriver.remote.webelement.WebElement (session=\"aa180880041264a8e0f6376b7c390018\", element=\"fd03eecf-0f1e-4023-9ae8-62d799f5b0e3\")>,\n",
       " <selenium.webdriver.remote.webelement.WebElement (session=\"aa180880041264a8e0f6376b7c390018\", element=\"a768139c-9cc2-4c46-b7c2-e28a136989be\")>,\n",
       " <selenium.webdriver.remote.webelement.WebElement (session=\"aa180880041264a8e0f6376b7c390018\", element=\"b51accd2-b8c3-4a2b-b8b3-c6a341778c76\")>,\n",
       " <selenium.webdriver.remote.webelement.WebElement (session=\"aa180880041264a8e0f6376b7c390018\", element=\"cdff5a8a-aa6b-4b88-925a-11fa330e0f1c\")>,\n",
       " <selenium.webdriver.remote.webelement.WebElement (session=\"aa180880041264a8e0f6376b7c390018\", element=\"43f9071f-daae-4027-af84-9099dd17127e\")>,\n",
       " <selenium.webdriver.remote.webelement.WebElement (session=\"aa180880041264a8e0f6376b7c390018\", element=\"977c5935-ece6-4bba-967d-b1411d1c5c23\")>,\n",
       " <selenium.webdriver.remote.webelement.WebElement (session=\"aa180880041264a8e0f6376b7c390018\", element=\"033e303e-5340-472b-aa9c-3ebb210fdde0\")>,\n",
       " <selenium.webdriver.remote.webelement.WebElement (session=\"aa180880041264a8e0f6376b7c390018\", element=\"859cac3f-4c01-457f-bfd1-79489e80b781\")>,\n",
       " <selenium.webdriver.remote.webelement.WebElement (session=\"aa180880041264a8e0f6376b7c390018\", element=\"c8dff8b4-3043-4e10-954f-990fc7e473e9\")>,\n",
       " <selenium.webdriver.remote.webelement.WebElement (session=\"aa180880041264a8e0f6376b7c390018\", element=\"2c293af5-025c-47d2-9aac-56d1782bf4ac\")>,\n",
       " <selenium.webdriver.remote.webelement.WebElement (session=\"aa180880041264a8e0f6376b7c390018\", element=\"2905401d-70e5-49c6-a931-d78bf9834703\")>,\n",
       " <selenium.webdriver.remote.webelement.WebElement (session=\"aa180880041264a8e0f6376b7c390018\", element=\"f31fc843-3398-4a0c-9100-93675a7c3167\")>,\n",
       " <selenium.webdriver.remote.webelement.WebElement (session=\"aa180880041264a8e0f6376b7c390018\", element=\"c0c60412-9029-4509-b6e8-cdbfd70617ec\")>,\n",
       " <selenium.webdriver.remote.webelement.WebElement (session=\"aa180880041264a8e0f6376b7c390018\", element=\"4e121d93-32ce-40a2-998a-3cd4aeb0f09a\")>,\n",
       " <selenium.webdriver.remote.webelement.WebElement (session=\"aa180880041264a8e0f6376b7c390018\", element=\"addae455-897f-4d24-8377-c71751198826\")>,\n",
       " <selenium.webdriver.remote.webelement.WebElement (session=\"aa180880041264a8e0f6376b7c390018\", element=\"b76aa0a5-7ed7-46eb-93e4-00fecea992d8\")>,\n",
       " <selenium.webdriver.remote.webelement.WebElement (session=\"aa180880041264a8e0f6376b7c390018\", element=\"fef5bd6f-7546-4625-9a88-7a02c3972b3a\")>,\n",
       " <selenium.webdriver.remote.webelement.WebElement (session=\"aa180880041264a8e0f6376b7c390018\", element=\"b9f546b6-364a-4987-ae6f-084c56ec1a70\")>,\n",
       " <selenium.webdriver.remote.webelement.WebElement (session=\"aa180880041264a8e0f6376b7c390018\", element=\"7216eeea-8f7b-4176-8659-ba8f85bfbeca\")>,\n",
       " <selenium.webdriver.remote.webelement.WebElement (session=\"aa180880041264a8e0f6376b7c390018\", element=\"22e870ce-da3a-408a-9824-74740f6be352\")>]"
      ]
     },
     "execution_count": 74,
     "metadata": {},
     "output_type": "execute_result"
    }
   ],
   "source": [
    "brand_tag=driver.find_elements_by_xpath(\"//div[@class='_2WkVRV']\")\n",
    "brand_tag"
   ]
  },
  {
   "cell_type": "code",
   "execution_count": 75,
   "id": "c9a26f97",
   "metadata": {
    "collapsed": true
   },
   "outputs": [
    {
     "data": {
      "text/plain": [
       "['SPARX',\n",
       " 'BIRDE',\n",
       " 'India hub',\n",
       " 'RapidBox',\n",
       " 'EZBRA',\n",
       " 'Robbie jones',\n",
       " 'PUMA',\n",
       " 'CLARK STYLE',\n",
       " 'STRANGER BROTHERS',\n",
       " 'mannu',\n",
       " 'RapidBox',\n",
       " 'Jabra',\n",
       " 'PUMA',\n",
       " 'PACIFIER',\n",
       " 'Kreverse',\n",
       " 'Echor',\n",
       " 'Elixir Man',\n",
       " 'luxury fashion',\n",
       " 'HOTSTYLE',\n",
       " 'CLARK STYLE']"
      ]
     },
     "execution_count": 75,
     "metadata": {},
     "output_type": "execute_result"
    }
   ],
   "source": [
    "brand=[]\n",
    "\n",
    "for i in brand_tag:\n",
    "    brand.append(i.text)\n",
    "brand[0:20]"
   ]
  },
  {
   "cell_type": "code",
   "execution_count": 76,
   "id": "b5883792",
   "metadata": {
    "collapsed": true
   },
   "outputs": [
    {
     "name": "stderr",
     "output_type": "stream",
     "text": [
      "<ipython-input-76-fa963fc5fa2c>:1: DeprecationWarning: find_elements_by_* commands are deprecated. Please use find_elements() instead\n",
      "  description_tag=driver.find_elements_by_xpath(\"//a[@class='IRpwTa']\")\n"
     ]
    },
    {
     "data": {
      "text/plain": [
       "[<selenium.webdriver.remote.webelement.WebElement (session=\"aa180880041264a8e0f6376b7c390018\", element=\"2a33d8c1-bd8e-49f3-b1fc-193e42717b67\")>,\n",
       " <selenium.webdriver.remote.webelement.WebElement (session=\"aa180880041264a8e0f6376b7c390018\", element=\"26c18265-92aa-425b-a4d7-c3f94bc348f3\")>,\n",
       " <selenium.webdriver.remote.webelement.WebElement (session=\"aa180880041264a8e0f6376b7c390018\", element=\"d2774254-e4dc-4630-a6b9-f63d424800e3\")>,\n",
       " <selenium.webdriver.remote.webelement.WebElement (session=\"aa180880041264a8e0f6376b7c390018\", element=\"f97b9513-7c4b-4f61-947c-fa2c4631cd82\")>,\n",
       " <selenium.webdriver.remote.webelement.WebElement (session=\"aa180880041264a8e0f6376b7c390018\", element=\"2d52d530-413b-4e1c-b13e-907906d87916\")>,\n",
       " <selenium.webdriver.remote.webelement.WebElement (session=\"aa180880041264a8e0f6376b7c390018\", element=\"ac02546e-133b-4e72-a3b2-bb3346007bf3\")>,\n",
       " <selenium.webdriver.remote.webelement.WebElement (session=\"aa180880041264a8e0f6376b7c390018\", element=\"28d96f12-99bb-4858-a144-4131e14931f6\")>,\n",
       " <selenium.webdriver.remote.webelement.WebElement (session=\"aa180880041264a8e0f6376b7c390018\", element=\"2b68e4b9-a7b4-4f40-8a0c-e509a6afaac2\")>,\n",
       " <selenium.webdriver.remote.webelement.WebElement (session=\"aa180880041264a8e0f6376b7c390018\", element=\"379c3a88-eb47-4338-ac2a-5156b7f6bd92\")>,\n",
       " <selenium.webdriver.remote.webelement.WebElement (session=\"aa180880041264a8e0f6376b7c390018\", element=\"6f9b8cfb-90e7-44aa-b964-2ace9989dc6d\")>,\n",
       " <selenium.webdriver.remote.webelement.WebElement (session=\"aa180880041264a8e0f6376b7c390018\", element=\"a7b4efa2-4498-4dc7-8efe-87f19f8dacce\")>,\n",
       " <selenium.webdriver.remote.webelement.WebElement (session=\"aa180880041264a8e0f6376b7c390018\", element=\"7e755d8f-af02-40dc-a0c7-c1c936e29ca9\")>,\n",
       " <selenium.webdriver.remote.webelement.WebElement (session=\"aa180880041264a8e0f6376b7c390018\", element=\"d7ac056b-cefa-4835-8720-f78294f9a34a\")>,\n",
       " <selenium.webdriver.remote.webelement.WebElement (session=\"aa180880041264a8e0f6376b7c390018\", element=\"8500d53b-ea30-4e06-af63-687216b33437\")>,\n",
       " <selenium.webdriver.remote.webelement.WebElement (session=\"aa180880041264a8e0f6376b7c390018\", element=\"63ec5c18-395a-452e-9974-7ec5682eff22\")>,\n",
       " <selenium.webdriver.remote.webelement.WebElement (session=\"aa180880041264a8e0f6376b7c390018\", element=\"9cbf10d3-3f7c-47bf-901a-494f1cc7adad\")>,\n",
       " <selenium.webdriver.remote.webelement.WebElement (session=\"aa180880041264a8e0f6376b7c390018\", element=\"ebdc79c0-50aa-407e-b145-6288c56a9a9d\")>,\n",
       " <selenium.webdriver.remote.webelement.WebElement (session=\"aa180880041264a8e0f6376b7c390018\", element=\"8d47ad86-f63f-4bf4-ba0b-0a5e44874db0\")>,\n",
       " <selenium.webdriver.remote.webelement.WebElement (session=\"aa180880041264a8e0f6376b7c390018\", element=\"fb0de8bd-6b0e-4f0c-b1a1-cb7b4443e4b3\")>,\n",
       " <selenium.webdriver.remote.webelement.WebElement (session=\"aa180880041264a8e0f6376b7c390018\", element=\"34920844-8d92-48ac-96b7-cb337bf06497\")>,\n",
       " <selenium.webdriver.remote.webelement.WebElement (session=\"aa180880041264a8e0f6376b7c390018\", element=\"9d61f4e7-c1d4-4507-bb5c-7b5107bcbc9a\")>,\n",
       " <selenium.webdriver.remote.webelement.WebElement (session=\"aa180880041264a8e0f6376b7c390018\", element=\"85f4025f-0397-4e69-8d00-11c646815bd3\")>,\n",
       " <selenium.webdriver.remote.webelement.WebElement (session=\"aa180880041264a8e0f6376b7c390018\", element=\"08a109bb-7c60-4c70-99f3-e79e2eba5c60\")>,\n",
       " <selenium.webdriver.remote.webelement.WebElement (session=\"aa180880041264a8e0f6376b7c390018\", element=\"e2ebc936-df69-432c-ad39-3995e3bda20f\")>,\n",
       " <selenium.webdriver.remote.webelement.WebElement (session=\"aa180880041264a8e0f6376b7c390018\", element=\"eaf55427-b979-413b-9ae6-431e2c3b7bff\")>,\n",
       " <selenium.webdriver.remote.webelement.WebElement (session=\"aa180880041264a8e0f6376b7c390018\", element=\"698f2178-9768-41c5-9ab3-7ca25fc0b974\")>,\n",
       " <selenium.webdriver.remote.webelement.WebElement (session=\"aa180880041264a8e0f6376b7c390018\", element=\"9f86dd2f-452e-43e7-bf8b-26e56d15130d\")>,\n",
       " <selenium.webdriver.remote.webelement.WebElement (session=\"aa180880041264a8e0f6376b7c390018\", element=\"215ad9a9-955e-4694-bf8d-e5e84ef5b127\")>,\n",
       " <selenium.webdriver.remote.webelement.WebElement (session=\"aa180880041264a8e0f6376b7c390018\", element=\"8eb00959-4718-4ccf-96e9-cb54d896b3d7\")>]"
      ]
     },
     "execution_count": 76,
     "metadata": {},
     "output_type": "execute_result"
    }
   ],
   "source": [
    "description_tag=driver.find_elements_by_xpath(\"//a[@class='IRpwTa']\")\n",
    "description_tag"
   ]
  },
  {
   "cell_type": "code",
   "execution_count": 77,
   "id": "01beb3c5",
   "metadata": {
    "collapsed": true
   },
   "outputs": [
    {
     "data": {
      "text/plain": [
       "['SM-322 Sneakers For Men',\n",
       " 'Birde Trendy Casual Shoes Sneakers For Men',\n",
       " 'Sneakers For Men',\n",
       " 'Casual Sneakers White Shoes For Men Sneakers For Men',\n",
       " 'Smash L Sneakers For Men',\n",
       " 'Sneakers For Men',\n",
       " 'High-end PU Sneakers Fashion CasualSports comfortable B...',\n",
       " 'Plank Eng Knit Slipon IDP Sneakers For Men',\n",
       " 'Sneakers For Men',\n",
       " \"Men's Sneakers Walking Shoes - New Designed Luxury Bran...\",\n",
       " 'Elixir Man Limited Edition Casual Shoes Sneakers For Me...',\n",
       " 'luxury fashionable casual sneaker shoes Sneakers For Me...',\n",
       " 'Sneakers for men Sneakers For Men',\n",
       " \"Men's Canvas Low Top Sneakers Lace-up Classic Casual Sn...\",\n",
       " 'Sneakers For Men',\n",
       " 'Men Casual Shoes Sneakers For Men',\n",
       " 'Luxury Fashionable Breathable Casual Sneakers Shoes For...',\n",
       " 'Sneakers For Men',\n",
       " 'Luxury Fashionable Breathable Casual Sneakers Shoes For...',\n",
       " 'Trendy Sneakers For Men',\n",
       " 'Combo Pack of 3 Casual Shoes (Sneakers Shoes) Sneakers ...',\n",
       " 'Sneakers For Men',\n",
       " 'New Trendy Sneakers For Men',\n",
       " 'casual shoe for men Sneakers For Men',\n",
       " 'Sneakers For Men',\n",
       " 'Lattest Sneakers Shoe Sneakers For Men',\n",
       " 'Smart Casuals Canvas Shoes Combo pack of 2 Sneakers For...',\n",
       " 'Skypy-31 Walking Shoes,Training Shoes,Sneakers,Loafers,...',\n",
       " 'Sneakers For Men']"
      ]
     },
     "execution_count": 77,
     "metadata": {},
     "output_type": "execute_result"
    }
   ],
   "source": [
    "des=[]\n",
    "\n",
    "for i in description_tag:\n",
    "    des.append(i.text)\n",
    "des[0:20]"
   ]
  },
  {
   "cell_type": "code",
   "execution_count": 78,
   "id": "0f33a703",
   "metadata": {
    "collapsed": true
   },
   "outputs": [
    {
     "name": "stderr",
     "output_type": "stream",
     "text": [
      "<ipython-input-78-d3196a515f2f>:1: DeprecationWarning: find_elements_by_* commands are deprecated. Please use find_elements() instead\n",
      "  price_tag=driver.find_elements_by_xpath(\"//div[@class='_30jeq3']\")\n"
     ]
    },
    {
     "data": {
      "text/plain": [
       "[<selenium.webdriver.remote.webelement.WebElement (session=\"aa180880041264a8e0f6376b7c390018\", element=\"cd842e34-2dd0-4e03-9dc4-5da910b0fa1f\")>,\n",
       " <selenium.webdriver.remote.webelement.WebElement (session=\"aa180880041264a8e0f6376b7c390018\", element=\"522e40f4-b5de-4530-a944-475213823fc2\")>,\n",
       " <selenium.webdriver.remote.webelement.WebElement (session=\"aa180880041264a8e0f6376b7c390018\", element=\"d2e78f20-f82b-4625-bf83-3c06df0555e3\")>,\n",
       " <selenium.webdriver.remote.webelement.WebElement (session=\"aa180880041264a8e0f6376b7c390018\", element=\"a003fac3-302a-4219-a769-8041e16711cf\")>,\n",
       " <selenium.webdriver.remote.webelement.WebElement (session=\"aa180880041264a8e0f6376b7c390018\", element=\"3b93b792-141f-41b2-a262-f3028255c9e5\")>,\n",
       " <selenium.webdriver.remote.webelement.WebElement (session=\"aa180880041264a8e0f6376b7c390018\", element=\"42cf714b-2383-4356-b7bb-e6bbe5418e53\")>,\n",
       " <selenium.webdriver.remote.webelement.WebElement (session=\"aa180880041264a8e0f6376b7c390018\", element=\"4ce02f87-0abf-42bc-91f1-378088b82c8a\")>,\n",
       " <selenium.webdriver.remote.webelement.WebElement (session=\"aa180880041264a8e0f6376b7c390018\", element=\"50c4173a-fe66-4582-afdf-9ab878af21af\")>,\n",
       " <selenium.webdriver.remote.webelement.WebElement (session=\"aa180880041264a8e0f6376b7c390018\", element=\"034d2df6-f34a-4c0d-b0cc-2b17d5ffbb80\")>,\n",
       " <selenium.webdriver.remote.webelement.WebElement (session=\"aa180880041264a8e0f6376b7c390018\", element=\"64839252-02e4-4ce8-80a9-861296993823\")>,\n",
       " <selenium.webdriver.remote.webelement.WebElement (session=\"aa180880041264a8e0f6376b7c390018\", element=\"7ff4bebe-3e97-4020-b874-ac27e1ecb0dc\")>,\n",
       " <selenium.webdriver.remote.webelement.WebElement (session=\"aa180880041264a8e0f6376b7c390018\", element=\"df98a8e4-2502-4c35-8d85-15e8d56f21ad\")>,\n",
       " <selenium.webdriver.remote.webelement.WebElement (session=\"aa180880041264a8e0f6376b7c390018\", element=\"88e11c3f-16ec-4809-8be8-263479d99744\")>,\n",
       " <selenium.webdriver.remote.webelement.WebElement (session=\"aa180880041264a8e0f6376b7c390018\", element=\"ed3a817e-4ca3-421a-9a8c-90725e9e7015\")>,\n",
       " <selenium.webdriver.remote.webelement.WebElement (session=\"aa180880041264a8e0f6376b7c390018\", element=\"0e81d0a3-58a8-4dd4-aecb-a47dd9a3040b\")>,\n",
       " <selenium.webdriver.remote.webelement.WebElement (session=\"aa180880041264a8e0f6376b7c390018\", element=\"2fdfb044-7287-4602-b047-62eeac49cf7a\")>,\n",
       " <selenium.webdriver.remote.webelement.WebElement (session=\"aa180880041264a8e0f6376b7c390018\", element=\"3964b4a0-81b9-407c-90f8-79ed21137479\")>,\n",
       " <selenium.webdriver.remote.webelement.WebElement (session=\"aa180880041264a8e0f6376b7c390018\", element=\"fa7eb0dd-fd4c-4894-a750-f0e3373d5483\")>,\n",
       " <selenium.webdriver.remote.webelement.WebElement (session=\"aa180880041264a8e0f6376b7c390018\", element=\"fe31b93e-36c5-43ad-b14f-7b18a1ca8048\")>,\n",
       " <selenium.webdriver.remote.webelement.WebElement (session=\"aa180880041264a8e0f6376b7c390018\", element=\"24f998b2-fe91-4b9a-acde-e9744c402bb8\")>,\n",
       " <selenium.webdriver.remote.webelement.WebElement (session=\"aa180880041264a8e0f6376b7c390018\", element=\"36326bfd-55b6-4a54-926b-98703a470d72\")>,\n",
       " <selenium.webdriver.remote.webelement.WebElement (session=\"aa180880041264a8e0f6376b7c390018\", element=\"0f854e1a-3d6f-4154-b459-988c3a88253f\")>,\n",
       " <selenium.webdriver.remote.webelement.WebElement (session=\"aa180880041264a8e0f6376b7c390018\", element=\"34e7c00c-5e60-4b69-a208-a401db7c32f8\")>,\n",
       " <selenium.webdriver.remote.webelement.WebElement (session=\"aa180880041264a8e0f6376b7c390018\", element=\"5bf28d2e-6583-4b9f-875a-2822f5ff443b\")>,\n",
       " <selenium.webdriver.remote.webelement.WebElement (session=\"aa180880041264a8e0f6376b7c390018\", element=\"577636c4-7a85-4c2f-9a73-a97622e10944\")>,\n",
       " <selenium.webdriver.remote.webelement.WebElement (session=\"aa180880041264a8e0f6376b7c390018\", element=\"8fc70237-cca7-4925-b734-7a222105aab6\")>,\n",
       " <selenium.webdriver.remote.webelement.WebElement (session=\"aa180880041264a8e0f6376b7c390018\", element=\"fcb28347-d8c0-45ba-972b-25cae3552b19\")>,\n",
       " <selenium.webdriver.remote.webelement.WebElement (session=\"aa180880041264a8e0f6376b7c390018\", element=\"af6c1409-ea0c-46b6-803e-3e90a62986d5\")>,\n",
       " <selenium.webdriver.remote.webelement.WebElement (session=\"aa180880041264a8e0f6376b7c390018\", element=\"60f717ee-feb8-466f-ab26-3ef2ae361f75\")>,\n",
       " <selenium.webdriver.remote.webelement.WebElement (session=\"aa180880041264a8e0f6376b7c390018\", element=\"9a205cdd-51f1-43c1-9773-d3f8cc2a1d52\")>,\n",
       " <selenium.webdriver.remote.webelement.WebElement (session=\"aa180880041264a8e0f6376b7c390018\", element=\"cd78ed3f-fce8-4a3e-8ea5-31baf22f9304\")>,\n",
       " <selenium.webdriver.remote.webelement.WebElement (session=\"aa180880041264a8e0f6376b7c390018\", element=\"01ee5c26-7675-4a59-86e2-eaf5306c35dc\")>,\n",
       " <selenium.webdriver.remote.webelement.WebElement (session=\"aa180880041264a8e0f6376b7c390018\", element=\"d85deae8-8b8e-4a36-9024-a5a837fbc8b7\")>,\n",
       " <selenium.webdriver.remote.webelement.WebElement (session=\"aa180880041264a8e0f6376b7c390018\", element=\"bab0ce9c-4994-4c12-ab75-30154dcddcf0\")>,\n",
       " <selenium.webdriver.remote.webelement.WebElement (session=\"aa180880041264a8e0f6376b7c390018\", element=\"3f953cb0-90e6-4823-a1aa-8f6bcf8405fb\")>,\n",
       " <selenium.webdriver.remote.webelement.WebElement (session=\"aa180880041264a8e0f6376b7c390018\", element=\"7eef54ed-c56c-48f2-a199-82dd8695a310\")>,\n",
       " <selenium.webdriver.remote.webelement.WebElement (session=\"aa180880041264a8e0f6376b7c390018\", element=\"e443057d-6beb-439e-af9a-a86245682f35\")>,\n",
       " <selenium.webdriver.remote.webelement.WebElement (session=\"aa180880041264a8e0f6376b7c390018\", element=\"2e5ddc3e-af34-4559-90b3-da87e9d52f2b\")>,\n",
       " <selenium.webdriver.remote.webelement.WebElement (session=\"aa180880041264a8e0f6376b7c390018\", element=\"2520ac6b-2839-43b6-819d-642807d78377\")>,\n",
       " <selenium.webdriver.remote.webelement.WebElement (session=\"aa180880041264a8e0f6376b7c390018\", element=\"897b2886-0ea1-4e3b-8a9f-89ab9a850866\")>]"
      ]
     },
     "execution_count": 78,
     "metadata": {},
     "output_type": "execute_result"
    }
   ],
   "source": [
    "price_tag=driver.find_elements_by_xpath(\"//div[@class='_30jeq3']\")\n",
    "price_tag"
   ]
  },
  {
   "cell_type": "code",
   "execution_count": 80,
   "id": "2994ec99",
   "metadata": {
    "collapsed": true
   },
   "outputs": [
    {
     "data": {
      "text/plain": [
       "['₹799',\n",
       " '₹299',\n",
       " '₹499',\n",
       " '₹560',\n",
       " '₹343',\n",
       " '₹499',\n",
       " '₹1,799',\n",
       " '₹499',\n",
       " '₹421',\n",
       " '₹429',\n",
       " '₹580',\n",
       " '₹259',\n",
       " '₹2,359',\n",
       " '₹499',\n",
       " '₹219',\n",
       " '₹699',\n",
       " '₹599',\n",
       " '₹399',\n",
       " '₹199',\n",
       " '₹499']"
      ]
     },
     "execution_count": 80,
     "metadata": {},
     "output_type": "execute_result"
    }
   ],
   "source": [
    "price=[]\n",
    "\n",
    "for i in price_tag:\n",
    "    price.append(i.text)\n",
    "price[0:20]"
   ]
  },
  {
   "cell_type": "markdown",
   "id": "80f93a34",
   "metadata": {},
   "source": [
    "# Question 7"
   ]
  },
  {
   "cell_type": "code",
   "execution_count": 41,
   "id": "7814a7aa",
   "metadata": {},
   "outputs": [],
   "source": [
    "driver.get(' https://www.myntra.com/shoes')"
   ]
  },
  {
   "cell_type": "code",
   "execution_count": 24,
   "id": "0e8a09ab",
   "metadata": {
    "collapsed": true
   },
   "outputs": [
    {
     "name": "stderr",
     "output_type": "stream",
     "text": [
      "<ipython-input-24-6fe9477bfc89>:1: DeprecationWarning: find_element_by_* commands are deprecated. Please use find_element() instead\n",
      "  price_filter=driver.find_element_by_xpath(\"//input[@class='price-input']\")\n"
     ]
    },
    {
     "ename": "ElementNotInteractableException",
     "evalue": "Message: element not interactable\n  (Session info: chrome=95.0.4638.69)\nStacktrace:\nBacktrace:\n\tOrdinal0 [0x005006F3+2492147]\n\tOrdinal0 [0x00499BD1+2071505]\n\tOrdinal0 [0x003A2340+1057600]\n\tOrdinal0 [0x003CD7D4+1234900]\n\tOrdinal0 [0x003C3647+1193543]\n\tOrdinal0 [0x003E57C3+1333187]\n\tOrdinal0 [0x003C3466+1193062]\n\tOrdinal0 [0x003E58AA+1333418]\n\tOrdinal0 [0x003F4F38+1396536]\n\tOrdinal0 [0x003E568B+1332875]\n\tOrdinal0 [0x003C21D4+1188308]\n\tOrdinal0 [0x003C302F+1191983]\n\tGetHandleVerifier [0x006867A6+1545030]\n\tGetHandleVerifier [0x0073105C+2243580]\n\tGetHandleVerifier [0x0058BC97+518199]\n\tGetHandleVerifier [0x0058AD80+514336]\n\tOrdinal0 [0x0049ED2D+2092333]\n\tOrdinal0 [0x004A2EE8+2109160]\n\tOrdinal0 [0x004A3022+2109474]\n\tOrdinal0 [0x004ACB71+2149233]\n\tBaseThreadInitThunk [0x7642FA29+25]\n\tRtlGetAppContainerNamedObjectPath [0x77197A9E+286]\n\tRtlGetAppContainerNamedObjectPath [0x77197A6E+238]\n",
     "output_type": "error",
     "traceback": [
      "\u001b[1;31m---------------------------------------------------------------------------\u001b[0m",
      "\u001b[1;31mElementNotInteractableException\u001b[0m           Traceback (most recent call last)",
      "\u001b[1;32m<ipython-input-24-6fe9477bfc89>\u001b[0m in \u001b[0;36m<module>\u001b[1;34m\u001b[0m\n\u001b[0;32m      1\u001b[0m \u001b[0mprice_filter\u001b[0m\u001b[1;33m=\u001b[0m\u001b[0mdriver\u001b[0m\u001b[1;33m.\u001b[0m\u001b[0mfind_element_by_xpath\u001b[0m\u001b[1;33m(\u001b[0m\u001b[1;34m\"//input[@class='price-input']\"\u001b[0m\u001b[1;33m)\u001b[0m\u001b[1;33m\u001b[0m\u001b[1;33m\u001b[0m\u001b[0m\n\u001b[1;32m----> 2\u001b[1;33m \u001b[0mprice_filter\u001b[0m\u001b[1;33m.\u001b[0m\u001b[0mclick\u001b[0m\u001b[1;33m(\u001b[0m\u001b[1;33m)\u001b[0m\u001b[1;33m\u001b[0m\u001b[1;33m\u001b[0m\u001b[0m\n\u001b[0m",
      "\u001b[1;32m~\\Anaconda3\\lib\\site-packages\\selenium\\webdriver\\remote\\webelement.py\u001b[0m in \u001b[0;36mclick\u001b[1;34m(self)\u001b[0m\n\u001b[0;32m     78\u001b[0m     \u001b[1;32mdef\u001b[0m \u001b[0mclick\u001b[0m\u001b[1;33m(\u001b[0m\u001b[0mself\u001b[0m\u001b[1;33m)\u001b[0m \u001b[1;33m->\u001b[0m \u001b[1;32mNone\u001b[0m\u001b[1;33m:\u001b[0m\u001b[1;33m\u001b[0m\u001b[1;33m\u001b[0m\u001b[0m\n\u001b[0;32m     79\u001b[0m         \u001b[1;34m\"\"\"Clicks the element.\"\"\"\u001b[0m\u001b[1;33m\u001b[0m\u001b[1;33m\u001b[0m\u001b[0m\n\u001b[1;32m---> 80\u001b[1;33m         \u001b[0mself\u001b[0m\u001b[1;33m.\u001b[0m\u001b[0m_execute\u001b[0m\u001b[1;33m(\u001b[0m\u001b[0mCommand\u001b[0m\u001b[1;33m.\u001b[0m\u001b[0mCLICK_ELEMENT\u001b[0m\u001b[1;33m)\u001b[0m\u001b[1;33m\u001b[0m\u001b[1;33m\u001b[0m\u001b[0m\n\u001b[0m\u001b[0;32m     81\u001b[0m \u001b[1;33m\u001b[0m\u001b[0m\n\u001b[0;32m     82\u001b[0m     \u001b[1;32mdef\u001b[0m \u001b[0msubmit\u001b[0m\u001b[1;33m(\u001b[0m\u001b[0mself\u001b[0m\u001b[1;33m)\u001b[0m\u001b[1;33m:\u001b[0m\u001b[1;33m\u001b[0m\u001b[1;33m\u001b[0m\u001b[0m\n",
      "\u001b[1;32m~\\Anaconda3\\lib\\site-packages\\selenium\\webdriver\\remote\\webelement.py\u001b[0m in \u001b[0;36m_execute\u001b[1;34m(self, command, params)\u001b[0m\n\u001b[0;32m    691\u001b[0m             \u001b[0mparams\u001b[0m \u001b[1;33m=\u001b[0m \u001b[1;33m{\u001b[0m\u001b[1;33m}\u001b[0m\u001b[1;33m\u001b[0m\u001b[1;33m\u001b[0m\u001b[0m\n\u001b[0;32m    692\u001b[0m         \u001b[0mparams\u001b[0m\u001b[1;33m[\u001b[0m\u001b[1;34m'id'\u001b[0m\u001b[1;33m]\u001b[0m \u001b[1;33m=\u001b[0m \u001b[0mself\u001b[0m\u001b[1;33m.\u001b[0m\u001b[0m_id\u001b[0m\u001b[1;33m\u001b[0m\u001b[1;33m\u001b[0m\u001b[0m\n\u001b[1;32m--> 693\u001b[1;33m         \u001b[1;32mreturn\u001b[0m \u001b[0mself\u001b[0m\u001b[1;33m.\u001b[0m\u001b[0m_parent\u001b[0m\u001b[1;33m.\u001b[0m\u001b[0mexecute\u001b[0m\u001b[1;33m(\u001b[0m\u001b[0mcommand\u001b[0m\u001b[1;33m,\u001b[0m \u001b[0mparams\u001b[0m\u001b[1;33m)\u001b[0m\u001b[1;33m\u001b[0m\u001b[1;33m\u001b[0m\u001b[0m\n\u001b[0m\u001b[0;32m    694\u001b[0m \u001b[1;33m\u001b[0m\u001b[0m\n\u001b[0;32m    695\u001b[0m     \u001b[1;32mdef\u001b[0m \u001b[0mfind_element\u001b[0m\u001b[1;33m(\u001b[0m\u001b[0mself\u001b[0m\u001b[1;33m,\u001b[0m \u001b[0mby\u001b[0m\u001b[1;33m=\u001b[0m\u001b[0mBy\u001b[0m\u001b[1;33m.\u001b[0m\u001b[0mID\u001b[0m\u001b[1;33m,\u001b[0m \u001b[0mvalue\u001b[0m\u001b[1;33m=\u001b[0m\u001b[1;32mNone\u001b[0m\u001b[1;33m)\u001b[0m\u001b[1;33m:\u001b[0m\u001b[1;33m\u001b[0m\u001b[1;33m\u001b[0m\u001b[0m\n",
      "\u001b[1;32m~\\Anaconda3\\lib\\site-packages\\selenium\\webdriver\\remote\\webdriver.py\u001b[0m in \u001b[0;36mexecute\u001b[1;34m(self, driver_command, params)\u001b[0m\n\u001b[0;32m    416\u001b[0m         \u001b[0mresponse\u001b[0m \u001b[1;33m=\u001b[0m \u001b[0mself\u001b[0m\u001b[1;33m.\u001b[0m\u001b[0mcommand_executor\u001b[0m\u001b[1;33m.\u001b[0m\u001b[0mexecute\u001b[0m\u001b[1;33m(\u001b[0m\u001b[0mdriver_command\u001b[0m\u001b[1;33m,\u001b[0m \u001b[0mparams\u001b[0m\u001b[1;33m)\u001b[0m\u001b[1;33m\u001b[0m\u001b[1;33m\u001b[0m\u001b[0m\n\u001b[0;32m    417\u001b[0m         \u001b[1;32mif\u001b[0m \u001b[0mresponse\u001b[0m\u001b[1;33m:\u001b[0m\u001b[1;33m\u001b[0m\u001b[1;33m\u001b[0m\u001b[0m\n\u001b[1;32m--> 418\u001b[1;33m             \u001b[0mself\u001b[0m\u001b[1;33m.\u001b[0m\u001b[0merror_handler\u001b[0m\u001b[1;33m.\u001b[0m\u001b[0mcheck_response\u001b[0m\u001b[1;33m(\u001b[0m\u001b[0mresponse\u001b[0m\u001b[1;33m)\u001b[0m\u001b[1;33m\u001b[0m\u001b[1;33m\u001b[0m\u001b[0m\n\u001b[0m\u001b[0;32m    419\u001b[0m             response['value'] = self._unwrap_value(\n\u001b[0;32m    420\u001b[0m                 response.get('value', None))\n",
      "\u001b[1;32m~\\Anaconda3\\lib\\site-packages\\selenium\\webdriver\\remote\\errorhandler.py\u001b[0m in \u001b[0;36mcheck_response\u001b[1;34m(self, response)\u001b[0m\n\u001b[0;32m    241\u001b[0m                 \u001b[0malert_text\u001b[0m \u001b[1;33m=\u001b[0m \u001b[0mvalue\u001b[0m\u001b[1;33m[\u001b[0m\u001b[1;34m'alert'\u001b[0m\u001b[1;33m]\u001b[0m\u001b[1;33m.\u001b[0m\u001b[0mget\u001b[0m\u001b[1;33m(\u001b[0m\u001b[1;34m'text'\u001b[0m\u001b[1;33m)\u001b[0m\u001b[1;33m\u001b[0m\u001b[1;33m\u001b[0m\u001b[0m\n\u001b[0;32m    242\u001b[0m             \u001b[1;32mraise\u001b[0m \u001b[0mexception_class\u001b[0m\u001b[1;33m(\u001b[0m\u001b[0mmessage\u001b[0m\u001b[1;33m,\u001b[0m \u001b[0mscreen\u001b[0m\u001b[1;33m,\u001b[0m \u001b[0mstacktrace\u001b[0m\u001b[1;33m,\u001b[0m \u001b[0malert_text\u001b[0m\u001b[1;33m)\u001b[0m  \u001b[1;31m# type: ignore[call-arg]  # mypy is not smart enough here\u001b[0m\u001b[1;33m\u001b[0m\u001b[1;33m\u001b[0m\u001b[0m\n\u001b[1;32m--> 243\u001b[1;33m         \u001b[1;32mraise\u001b[0m \u001b[0mexception_class\u001b[0m\u001b[1;33m(\u001b[0m\u001b[0mmessage\u001b[0m\u001b[1;33m,\u001b[0m \u001b[0mscreen\u001b[0m\u001b[1;33m,\u001b[0m \u001b[0mstacktrace\u001b[0m\u001b[1;33m)\u001b[0m\u001b[1;33m\u001b[0m\u001b[1;33m\u001b[0m\u001b[0m\n\u001b[0m\u001b[0;32m    244\u001b[0m \u001b[1;33m\u001b[0m\u001b[0m\n\u001b[0;32m    245\u001b[0m     \u001b[1;32mdef\u001b[0m \u001b[0m_value_or_default\u001b[0m\u001b[1;33m(\u001b[0m\u001b[0mself\u001b[0m\u001b[1;33m,\u001b[0m \u001b[0mobj\u001b[0m\u001b[1;33m:\u001b[0m \u001b[0mMapping\u001b[0m\u001b[1;33m[\u001b[0m\u001b[0m_KT\u001b[0m\u001b[1;33m,\u001b[0m \u001b[0m_VT\u001b[0m\u001b[1;33m]\u001b[0m\u001b[1;33m,\u001b[0m \u001b[0mkey\u001b[0m\u001b[1;33m:\u001b[0m \u001b[0m_KT\u001b[0m\u001b[1;33m,\u001b[0m \u001b[0mdefault\u001b[0m\u001b[1;33m:\u001b[0m \u001b[0m_VT\u001b[0m\u001b[1;33m)\u001b[0m \u001b[1;33m->\u001b[0m \u001b[0m_VT\u001b[0m\u001b[1;33m:\u001b[0m\u001b[1;33m\u001b[0m\u001b[1;33m\u001b[0m\u001b[0m\n",
      "\u001b[1;31mElementNotInteractableException\u001b[0m: Message: element not interactable\n  (Session info: chrome=95.0.4638.69)\nStacktrace:\nBacktrace:\n\tOrdinal0 [0x005006F3+2492147]\n\tOrdinal0 [0x00499BD1+2071505]\n\tOrdinal0 [0x003A2340+1057600]\n\tOrdinal0 [0x003CD7D4+1234900]\n\tOrdinal0 [0x003C3647+1193543]\n\tOrdinal0 [0x003E57C3+1333187]\n\tOrdinal0 [0x003C3466+1193062]\n\tOrdinal0 [0x003E58AA+1333418]\n\tOrdinal0 [0x003F4F38+1396536]\n\tOrdinal0 [0x003E568B+1332875]\n\tOrdinal0 [0x003C21D4+1188308]\n\tOrdinal0 [0x003C302F+1191983]\n\tGetHandleVerifier [0x006867A6+1545030]\n\tGetHandleVerifier [0x0073105C+2243580]\n\tGetHandleVerifier [0x0058BC97+518199]\n\tGetHandleVerifier [0x0058AD80+514336]\n\tOrdinal0 [0x0049ED2D+2092333]\n\tOrdinal0 [0x004A2EE8+2109160]\n\tOrdinal0 [0x004A3022+2109474]\n\tOrdinal0 [0x004ACB71+2149233]\n\tBaseThreadInitThunk [0x7642FA29+25]\n\tRtlGetAppContainerNamedObjectPath [0x77197A9E+286]\n\tRtlGetAppContainerNamedObjectPath [0x77197A6E+238]\n"
     ]
    }
   ],
   "source": [
    "price_filter=driver.find_element_by_xpath(\"//input[@class='price-input']\")\n",
    "price_filter.click()"
   ]
  },
  {
   "cell_type": "code",
   "execution_count": 25,
   "id": "0d492755",
   "metadata": {
    "collapsed": true
   },
   "outputs": [
    {
     "name": "stderr",
     "output_type": "stream",
     "text": [
      "<ipython-input-25-4978271305f4>:1: DeprecationWarning: find_element_by_* commands are deprecated. Please use find_element() instead\n",
      "  color_filter=driver.find_element_by_xpath(\"//div[@class='common-checkboxIndicator']\")\n"
     ]
    },
    {
     "ename": "ElementClickInterceptedException",
     "evalue": "Message: element click intercepted: Element <div class=\"common-checkboxIndicator\"></div> is not clickable at point (33, 8). Other element would receive the click: <div class=\"desktop-logoContainer\" data-reactid=\"15\">...</div>\n  (Session info: chrome=95.0.4638.69)\nStacktrace:\nBacktrace:\n\tOrdinal0 [0x005006F3+2492147]\n\tOrdinal0 [0x00499BD1+2071505]\n\tOrdinal0 [0x003A2478+1057912]\n\tOrdinal0 [0x003D29F9+1255929]\n\tOrdinal0 [0x003D0D34+1248564]\n\tOrdinal0 [0x003CEAFD+1239805]\n\tOrdinal0 [0x003CD958+1235288]\n\tOrdinal0 [0x003C3647+1193543]\n\tOrdinal0 [0x003E57C3+1333187]\n\tOrdinal0 [0x003C3466+1193062]\n\tOrdinal0 [0x003E58AA+1333418]\n\tOrdinal0 [0x003F4F38+1396536]\n\tOrdinal0 [0x003E568B+1332875]\n\tOrdinal0 [0x003C21D4+1188308]\n\tOrdinal0 [0x003C302F+1191983]\n\tGetHandleVerifier [0x006867A6+1545030]\n\tGetHandleVerifier [0x0073105C+2243580]\n\tGetHandleVerifier [0x0058BC97+518199]\n\tGetHandleVerifier [0x0058AD80+514336]\n\tOrdinal0 [0x0049ED2D+2092333]\n\tOrdinal0 [0x004A2EE8+2109160]\n\tOrdinal0 [0x004A3022+2109474]\n\tOrdinal0 [0x004ACB71+2149233]\n\tBaseThreadInitThunk [0x7642FA29+25]\n\tRtlGetAppContainerNamedObjectPath [0x77197A9E+286]\n\tRtlGetAppContainerNamedObjectPath [0x77197A6E+238]\n",
     "output_type": "error",
     "traceback": [
      "\u001b[1;31m---------------------------------------------------------------------------\u001b[0m",
      "\u001b[1;31mElementClickInterceptedException\u001b[0m          Traceback (most recent call last)",
      "\u001b[1;32m<ipython-input-25-4978271305f4>\u001b[0m in \u001b[0;36m<module>\u001b[1;34m\u001b[0m\n\u001b[0;32m      1\u001b[0m \u001b[0mcolor_filter\u001b[0m\u001b[1;33m=\u001b[0m\u001b[0mdriver\u001b[0m\u001b[1;33m.\u001b[0m\u001b[0mfind_element_by_xpath\u001b[0m\u001b[1;33m(\u001b[0m\u001b[1;34m\"//div[@class='common-checkboxIndicator']\"\u001b[0m\u001b[1;33m)\u001b[0m\u001b[1;33m\u001b[0m\u001b[1;33m\u001b[0m\u001b[0m\n\u001b[1;32m----> 2\u001b[1;33m \u001b[0mcolor_filter\u001b[0m\u001b[1;33m.\u001b[0m\u001b[0mclick\u001b[0m\u001b[1;33m(\u001b[0m\u001b[1;33m)\u001b[0m\u001b[1;33m\u001b[0m\u001b[1;33m\u001b[0m\u001b[0m\n\u001b[0m",
      "\u001b[1;32m~\\Anaconda3\\lib\\site-packages\\selenium\\webdriver\\remote\\webelement.py\u001b[0m in \u001b[0;36mclick\u001b[1;34m(self)\u001b[0m\n\u001b[0;32m     78\u001b[0m     \u001b[1;32mdef\u001b[0m \u001b[0mclick\u001b[0m\u001b[1;33m(\u001b[0m\u001b[0mself\u001b[0m\u001b[1;33m)\u001b[0m \u001b[1;33m->\u001b[0m \u001b[1;32mNone\u001b[0m\u001b[1;33m:\u001b[0m\u001b[1;33m\u001b[0m\u001b[1;33m\u001b[0m\u001b[0m\n\u001b[0;32m     79\u001b[0m         \u001b[1;34m\"\"\"Clicks the element.\"\"\"\u001b[0m\u001b[1;33m\u001b[0m\u001b[1;33m\u001b[0m\u001b[0m\n\u001b[1;32m---> 80\u001b[1;33m         \u001b[0mself\u001b[0m\u001b[1;33m.\u001b[0m\u001b[0m_execute\u001b[0m\u001b[1;33m(\u001b[0m\u001b[0mCommand\u001b[0m\u001b[1;33m.\u001b[0m\u001b[0mCLICK_ELEMENT\u001b[0m\u001b[1;33m)\u001b[0m\u001b[1;33m\u001b[0m\u001b[1;33m\u001b[0m\u001b[0m\n\u001b[0m\u001b[0;32m     81\u001b[0m \u001b[1;33m\u001b[0m\u001b[0m\n\u001b[0;32m     82\u001b[0m     \u001b[1;32mdef\u001b[0m \u001b[0msubmit\u001b[0m\u001b[1;33m(\u001b[0m\u001b[0mself\u001b[0m\u001b[1;33m)\u001b[0m\u001b[1;33m:\u001b[0m\u001b[1;33m\u001b[0m\u001b[1;33m\u001b[0m\u001b[0m\n",
      "\u001b[1;32m~\\Anaconda3\\lib\\site-packages\\selenium\\webdriver\\remote\\webelement.py\u001b[0m in \u001b[0;36m_execute\u001b[1;34m(self, command, params)\u001b[0m\n\u001b[0;32m    691\u001b[0m             \u001b[0mparams\u001b[0m \u001b[1;33m=\u001b[0m \u001b[1;33m{\u001b[0m\u001b[1;33m}\u001b[0m\u001b[1;33m\u001b[0m\u001b[1;33m\u001b[0m\u001b[0m\n\u001b[0;32m    692\u001b[0m         \u001b[0mparams\u001b[0m\u001b[1;33m[\u001b[0m\u001b[1;34m'id'\u001b[0m\u001b[1;33m]\u001b[0m \u001b[1;33m=\u001b[0m \u001b[0mself\u001b[0m\u001b[1;33m.\u001b[0m\u001b[0m_id\u001b[0m\u001b[1;33m\u001b[0m\u001b[1;33m\u001b[0m\u001b[0m\n\u001b[1;32m--> 693\u001b[1;33m         \u001b[1;32mreturn\u001b[0m \u001b[0mself\u001b[0m\u001b[1;33m.\u001b[0m\u001b[0m_parent\u001b[0m\u001b[1;33m.\u001b[0m\u001b[0mexecute\u001b[0m\u001b[1;33m(\u001b[0m\u001b[0mcommand\u001b[0m\u001b[1;33m,\u001b[0m \u001b[0mparams\u001b[0m\u001b[1;33m)\u001b[0m\u001b[1;33m\u001b[0m\u001b[1;33m\u001b[0m\u001b[0m\n\u001b[0m\u001b[0;32m    694\u001b[0m \u001b[1;33m\u001b[0m\u001b[0m\n\u001b[0;32m    695\u001b[0m     \u001b[1;32mdef\u001b[0m \u001b[0mfind_element\u001b[0m\u001b[1;33m(\u001b[0m\u001b[0mself\u001b[0m\u001b[1;33m,\u001b[0m \u001b[0mby\u001b[0m\u001b[1;33m=\u001b[0m\u001b[0mBy\u001b[0m\u001b[1;33m.\u001b[0m\u001b[0mID\u001b[0m\u001b[1;33m,\u001b[0m \u001b[0mvalue\u001b[0m\u001b[1;33m=\u001b[0m\u001b[1;32mNone\u001b[0m\u001b[1;33m)\u001b[0m\u001b[1;33m:\u001b[0m\u001b[1;33m\u001b[0m\u001b[1;33m\u001b[0m\u001b[0m\n",
      "\u001b[1;32m~\\Anaconda3\\lib\\site-packages\\selenium\\webdriver\\remote\\webdriver.py\u001b[0m in \u001b[0;36mexecute\u001b[1;34m(self, driver_command, params)\u001b[0m\n\u001b[0;32m    416\u001b[0m         \u001b[0mresponse\u001b[0m \u001b[1;33m=\u001b[0m \u001b[0mself\u001b[0m\u001b[1;33m.\u001b[0m\u001b[0mcommand_executor\u001b[0m\u001b[1;33m.\u001b[0m\u001b[0mexecute\u001b[0m\u001b[1;33m(\u001b[0m\u001b[0mdriver_command\u001b[0m\u001b[1;33m,\u001b[0m \u001b[0mparams\u001b[0m\u001b[1;33m)\u001b[0m\u001b[1;33m\u001b[0m\u001b[1;33m\u001b[0m\u001b[0m\n\u001b[0;32m    417\u001b[0m         \u001b[1;32mif\u001b[0m \u001b[0mresponse\u001b[0m\u001b[1;33m:\u001b[0m\u001b[1;33m\u001b[0m\u001b[1;33m\u001b[0m\u001b[0m\n\u001b[1;32m--> 418\u001b[1;33m             \u001b[0mself\u001b[0m\u001b[1;33m.\u001b[0m\u001b[0merror_handler\u001b[0m\u001b[1;33m.\u001b[0m\u001b[0mcheck_response\u001b[0m\u001b[1;33m(\u001b[0m\u001b[0mresponse\u001b[0m\u001b[1;33m)\u001b[0m\u001b[1;33m\u001b[0m\u001b[1;33m\u001b[0m\u001b[0m\n\u001b[0m\u001b[0;32m    419\u001b[0m             response['value'] = self._unwrap_value(\n\u001b[0;32m    420\u001b[0m                 response.get('value', None))\n",
      "\u001b[1;32m~\\Anaconda3\\lib\\site-packages\\selenium\\webdriver\\remote\\errorhandler.py\u001b[0m in \u001b[0;36mcheck_response\u001b[1;34m(self, response)\u001b[0m\n\u001b[0;32m    241\u001b[0m                 \u001b[0malert_text\u001b[0m \u001b[1;33m=\u001b[0m \u001b[0mvalue\u001b[0m\u001b[1;33m[\u001b[0m\u001b[1;34m'alert'\u001b[0m\u001b[1;33m]\u001b[0m\u001b[1;33m.\u001b[0m\u001b[0mget\u001b[0m\u001b[1;33m(\u001b[0m\u001b[1;34m'text'\u001b[0m\u001b[1;33m)\u001b[0m\u001b[1;33m\u001b[0m\u001b[1;33m\u001b[0m\u001b[0m\n\u001b[0;32m    242\u001b[0m             \u001b[1;32mraise\u001b[0m \u001b[0mexception_class\u001b[0m\u001b[1;33m(\u001b[0m\u001b[0mmessage\u001b[0m\u001b[1;33m,\u001b[0m \u001b[0mscreen\u001b[0m\u001b[1;33m,\u001b[0m \u001b[0mstacktrace\u001b[0m\u001b[1;33m,\u001b[0m \u001b[0malert_text\u001b[0m\u001b[1;33m)\u001b[0m  \u001b[1;31m# type: ignore[call-arg]  # mypy is not smart enough here\u001b[0m\u001b[1;33m\u001b[0m\u001b[1;33m\u001b[0m\u001b[0m\n\u001b[1;32m--> 243\u001b[1;33m         \u001b[1;32mraise\u001b[0m \u001b[0mexception_class\u001b[0m\u001b[1;33m(\u001b[0m\u001b[0mmessage\u001b[0m\u001b[1;33m,\u001b[0m \u001b[0mscreen\u001b[0m\u001b[1;33m,\u001b[0m \u001b[0mstacktrace\u001b[0m\u001b[1;33m)\u001b[0m\u001b[1;33m\u001b[0m\u001b[1;33m\u001b[0m\u001b[0m\n\u001b[0m\u001b[0;32m    244\u001b[0m \u001b[1;33m\u001b[0m\u001b[0m\n\u001b[0;32m    245\u001b[0m     \u001b[1;32mdef\u001b[0m \u001b[0m_value_or_default\u001b[0m\u001b[1;33m(\u001b[0m\u001b[0mself\u001b[0m\u001b[1;33m,\u001b[0m \u001b[0mobj\u001b[0m\u001b[1;33m:\u001b[0m \u001b[0mMapping\u001b[0m\u001b[1;33m[\u001b[0m\u001b[0m_KT\u001b[0m\u001b[1;33m,\u001b[0m \u001b[0m_VT\u001b[0m\u001b[1;33m]\u001b[0m\u001b[1;33m,\u001b[0m \u001b[0mkey\u001b[0m\u001b[1;33m:\u001b[0m \u001b[0m_KT\u001b[0m\u001b[1;33m,\u001b[0m \u001b[0mdefault\u001b[0m\u001b[1;33m:\u001b[0m \u001b[0m_VT\u001b[0m\u001b[1;33m)\u001b[0m \u001b[1;33m->\u001b[0m \u001b[0m_VT\u001b[0m\u001b[1;33m:\u001b[0m\u001b[1;33m\u001b[0m\u001b[1;33m\u001b[0m\u001b[0m\n",
      "\u001b[1;31mElementClickInterceptedException\u001b[0m: Message: element click intercepted: Element <div class=\"common-checkboxIndicator\"></div> is not clickable at point (33, 8). Other element would receive the click: <div class=\"desktop-logoContainer\" data-reactid=\"15\">...</div>\n  (Session info: chrome=95.0.4638.69)\nStacktrace:\nBacktrace:\n\tOrdinal0 [0x005006F3+2492147]\n\tOrdinal0 [0x00499BD1+2071505]\n\tOrdinal0 [0x003A2478+1057912]\n\tOrdinal0 [0x003D29F9+1255929]\n\tOrdinal0 [0x003D0D34+1248564]\n\tOrdinal0 [0x003CEAFD+1239805]\n\tOrdinal0 [0x003CD958+1235288]\n\tOrdinal0 [0x003C3647+1193543]\n\tOrdinal0 [0x003E57C3+1333187]\n\tOrdinal0 [0x003C3466+1193062]\n\tOrdinal0 [0x003E58AA+1333418]\n\tOrdinal0 [0x003F4F38+1396536]\n\tOrdinal0 [0x003E568B+1332875]\n\tOrdinal0 [0x003C21D4+1188308]\n\tOrdinal0 [0x003C302F+1191983]\n\tGetHandleVerifier [0x006867A6+1545030]\n\tGetHandleVerifier [0x0073105C+2243580]\n\tGetHandleVerifier [0x0058BC97+518199]\n\tGetHandleVerifier [0x0058AD80+514336]\n\tOrdinal0 [0x0049ED2D+2092333]\n\tOrdinal0 [0x004A2EE8+2109160]\n\tOrdinal0 [0x004A3022+2109474]\n\tOrdinal0 [0x004ACB71+2149233]\n\tBaseThreadInitThunk [0x7642FA29+25]\n\tRtlGetAppContainerNamedObjectPath [0x77197A9E+286]\n\tRtlGetAppContainerNamedObjectPath [0x77197A6E+238]\n"
     ]
    }
   ],
   "source": [
    "color_filter=driver.find_element_by_xpath(\"//div[@class='common-checkboxIndicator']\")\n",
    "color_filter.click()"
   ]
  },
  {
   "cell_type": "code",
   "execution_count": 26,
   "id": "649f0d3f",
   "metadata": {},
   "outputs": [],
   "source": [
    "driver.get(\"https://www.myntra.com/shoes?f=Color%3ABlack_36454f&rf=Price%3A7149.0_14099.0_7149.0%20TO%2014099.0%2C7164.0_14109.0_7164.0%20TO%2014109.0\")"
   ]
  },
  {
   "cell_type": "code",
   "execution_count": 27,
   "id": "f8f876bb",
   "metadata": {
    "collapsed": true
   },
   "outputs": [
    {
     "name": "stderr",
     "output_type": "stream",
     "text": [
      "<ipython-input-27-daa06b594579>:1: DeprecationWarning: find_elements_by_* commands are deprecated. Please use find_elements() instead\n",
      "  brand_tag=driver.find_elements_by_xpath(\"//h3[@class='product-brand']\")\n"
     ]
    },
    {
     "data": {
      "text/plain": [
       "[<selenium.webdriver.remote.webelement.WebElement (session=\"b1e3ca61df83811b4f52f25453fc8daf\", element=\"dcc5f019-a5a8-47d7-b2ab-2ec84e8c8c0a\")>,\n",
       " <selenium.webdriver.remote.webelement.WebElement (session=\"b1e3ca61df83811b4f52f25453fc8daf\", element=\"994bad84-900f-49ee-b009-bf719850e16d\")>,\n",
       " <selenium.webdriver.remote.webelement.WebElement (session=\"b1e3ca61df83811b4f52f25453fc8daf\", element=\"bf00a95d-ed95-418d-8a0d-2ee40f1e253c\")>,\n",
       " <selenium.webdriver.remote.webelement.WebElement (session=\"b1e3ca61df83811b4f52f25453fc8daf\", element=\"e7896452-ba27-4bc8-a352-4d2a2f0d766c\")>,\n",
       " <selenium.webdriver.remote.webelement.WebElement (session=\"b1e3ca61df83811b4f52f25453fc8daf\", element=\"c752fcaf-2abb-4194-b06b-28227492719d\")>,\n",
       " <selenium.webdriver.remote.webelement.WebElement (session=\"b1e3ca61df83811b4f52f25453fc8daf\", element=\"f3afffb3-3fe5-4396-9ff0-1650f7e5674c\")>,\n",
       " <selenium.webdriver.remote.webelement.WebElement (session=\"b1e3ca61df83811b4f52f25453fc8daf\", element=\"a039f4f4-1627-4eee-b2c4-b02aaea2fe62\")>,\n",
       " <selenium.webdriver.remote.webelement.WebElement (session=\"b1e3ca61df83811b4f52f25453fc8daf\", element=\"9ba56287-4cab-4587-a3bf-94459a4a2a4c\")>,\n",
       " <selenium.webdriver.remote.webelement.WebElement (session=\"b1e3ca61df83811b4f52f25453fc8daf\", element=\"f636f8a3-fe55-4588-8231-96b2b059b5fd\")>,\n",
       " <selenium.webdriver.remote.webelement.WebElement (session=\"b1e3ca61df83811b4f52f25453fc8daf\", element=\"2f825c6e-264c-47e0-93f4-9c6229fabe01\")>,\n",
       " <selenium.webdriver.remote.webelement.WebElement (session=\"b1e3ca61df83811b4f52f25453fc8daf\", element=\"d3e76511-08c6-4992-86ec-247f71107eb0\")>,\n",
       " <selenium.webdriver.remote.webelement.WebElement (session=\"b1e3ca61df83811b4f52f25453fc8daf\", element=\"d8decd82-6262-4596-846c-ffd3c77655a7\")>,\n",
       " <selenium.webdriver.remote.webelement.WebElement (session=\"b1e3ca61df83811b4f52f25453fc8daf\", element=\"3addce0e-75eb-408b-8c1d-bece026b0a3c\")>,\n",
       " <selenium.webdriver.remote.webelement.WebElement (session=\"b1e3ca61df83811b4f52f25453fc8daf\", element=\"063ce21e-7622-4285-a28b-e05820ca6720\")>,\n",
       " <selenium.webdriver.remote.webelement.WebElement (session=\"b1e3ca61df83811b4f52f25453fc8daf\", element=\"20ec83c4-1a9f-47b2-aa94-e9efea3628c0\")>,\n",
       " <selenium.webdriver.remote.webelement.WebElement (session=\"b1e3ca61df83811b4f52f25453fc8daf\", element=\"c796fe74-cd98-48ac-8929-c75f67ae51a4\")>,\n",
       " <selenium.webdriver.remote.webelement.WebElement (session=\"b1e3ca61df83811b4f52f25453fc8daf\", element=\"b0a32621-49cd-4cc9-9a0f-b7b1c130f98d\")>,\n",
       " <selenium.webdriver.remote.webelement.WebElement (session=\"b1e3ca61df83811b4f52f25453fc8daf\", element=\"01934a24-ef00-4dfc-a23e-1e3fbbc6c6e4\")>,\n",
       " <selenium.webdriver.remote.webelement.WebElement (session=\"b1e3ca61df83811b4f52f25453fc8daf\", element=\"3e577f9a-b3b6-4931-b7e5-66f51ae7df6b\")>,\n",
       " <selenium.webdriver.remote.webelement.WebElement (session=\"b1e3ca61df83811b4f52f25453fc8daf\", element=\"7f9da64c-e342-4891-92b6-b8e5670fc32d\")>,\n",
       " <selenium.webdriver.remote.webelement.WebElement (session=\"b1e3ca61df83811b4f52f25453fc8daf\", element=\"5b557434-dbf1-4df2-bf7a-2ab979d6dc38\")>,\n",
       " <selenium.webdriver.remote.webelement.WebElement (session=\"b1e3ca61df83811b4f52f25453fc8daf\", element=\"3909163a-449b-41ba-bba6-68025d9d0cbe\")>,\n",
       " <selenium.webdriver.remote.webelement.WebElement (session=\"b1e3ca61df83811b4f52f25453fc8daf\", element=\"0d2dbeb4-3ee8-40ce-98dd-03bb462b79f0\")>,\n",
       " <selenium.webdriver.remote.webelement.WebElement (session=\"b1e3ca61df83811b4f52f25453fc8daf\", element=\"c5c7961a-023a-4ce9-bd67-275f01e0d9f8\")>,\n",
       " <selenium.webdriver.remote.webelement.WebElement (session=\"b1e3ca61df83811b4f52f25453fc8daf\", element=\"9df6b1af-f0b8-474f-b742-53da45b70550\")>,\n",
       " <selenium.webdriver.remote.webelement.WebElement (session=\"b1e3ca61df83811b4f52f25453fc8daf\", element=\"254c8e9f-621c-470c-ab4c-b2d49bedb554\")>,\n",
       " <selenium.webdriver.remote.webelement.WebElement (session=\"b1e3ca61df83811b4f52f25453fc8daf\", element=\"00c8febf-3fbb-4e22-a86d-75b3b7db57ef\")>,\n",
       " <selenium.webdriver.remote.webelement.WebElement (session=\"b1e3ca61df83811b4f52f25453fc8daf\", element=\"5c5d54e3-df7c-4c64-a98d-30146837fb48\")>,\n",
       " <selenium.webdriver.remote.webelement.WebElement (session=\"b1e3ca61df83811b4f52f25453fc8daf\", element=\"1018d0d6-e524-4da6-8d79-b095aff93983\")>,\n",
       " <selenium.webdriver.remote.webelement.WebElement (session=\"b1e3ca61df83811b4f52f25453fc8daf\", element=\"272aabed-91a9-479e-80d4-bb2f9c3a7ab9\")>,\n",
       " <selenium.webdriver.remote.webelement.WebElement (session=\"b1e3ca61df83811b4f52f25453fc8daf\", element=\"97e3d619-8f97-43cf-9835-8af29c4d8e53\")>,\n",
       " <selenium.webdriver.remote.webelement.WebElement (session=\"b1e3ca61df83811b4f52f25453fc8daf\", element=\"8faf0d5e-dfad-4f65-8631-3410c71f2f61\")>,\n",
       " <selenium.webdriver.remote.webelement.WebElement (session=\"b1e3ca61df83811b4f52f25453fc8daf\", element=\"4e141518-b54e-481d-9a98-c0f451c4a2a9\")>,\n",
       " <selenium.webdriver.remote.webelement.WebElement (session=\"b1e3ca61df83811b4f52f25453fc8daf\", element=\"2d746fb9-8824-466c-bb78-fb7bd412f4e0\")>,\n",
       " <selenium.webdriver.remote.webelement.WebElement (session=\"b1e3ca61df83811b4f52f25453fc8daf\", element=\"14cac5d8-fd78-4df6-95f6-5dadac712153\")>,\n",
       " <selenium.webdriver.remote.webelement.WebElement (session=\"b1e3ca61df83811b4f52f25453fc8daf\", element=\"39b75285-3f79-4638-8235-1ca919cfabe3\")>,\n",
       " <selenium.webdriver.remote.webelement.WebElement (session=\"b1e3ca61df83811b4f52f25453fc8daf\", element=\"2bf0a0d7-5da4-422f-8ebf-1df63a832739\")>,\n",
       " <selenium.webdriver.remote.webelement.WebElement (session=\"b1e3ca61df83811b4f52f25453fc8daf\", element=\"d148f1c1-2f70-4eae-a8a5-7f37c890fa1d\")>,\n",
       " <selenium.webdriver.remote.webelement.WebElement (session=\"b1e3ca61df83811b4f52f25453fc8daf\", element=\"38097870-daf2-4a94-b059-d9738aeb565a\")>,\n",
       " <selenium.webdriver.remote.webelement.WebElement (session=\"b1e3ca61df83811b4f52f25453fc8daf\", element=\"9fc43a42-09b5-4b7b-9f25-f48ff5c4497e\")>,\n",
       " <selenium.webdriver.remote.webelement.WebElement (session=\"b1e3ca61df83811b4f52f25453fc8daf\", element=\"62f93db2-6270-4078-80b8-3f984931eba8\")>,\n",
       " <selenium.webdriver.remote.webelement.WebElement (session=\"b1e3ca61df83811b4f52f25453fc8daf\", element=\"d36ba968-0df0-4483-bd25-f628739c729e\")>,\n",
       " <selenium.webdriver.remote.webelement.WebElement (session=\"b1e3ca61df83811b4f52f25453fc8daf\", element=\"dc664d66-b3ab-47ec-ab59-3dea36d35c33\")>,\n",
       " <selenium.webdriver.remote.webelement.WebElement (session=\"b1e3ca61df83811b4f52f25453fc8daf\", element=\"c7e2c052-3fff-4027-9467-a2f641c09958\")>,\n",
       " <selenium.webdriver.remote.webelement.WebElement (session=\"b1e3ca61df83811b4f52f25453fc8daf\", element=\"d6fb66f8-cb1e-44c5-a04c-5d9ea5022122\")>,\n",
       " <selenium.webdriver.remote.webelement.WebElement (session=\"b1e3ca61df83811b4f52f25453fc8daf\", element=\"a1dea51d-edd7-4482-b5b0-bcd721d84b02\")>,\n",
       " <selenium.webdriver.remote.webelement.WebElement (session=\"b1e3ca61df83811b4f52f25453fc8daf\", element=\"ba61b155-f5b9-406a-be84-b940f792f047\")>,\n",
       " <selenium.webdriver.remote.webelement.WebElement (session=\"b1e3ca61df83811b4f52f25453fc8daf\", element=\"341a5338-c48c-45d0-b953-8283c19f044e\")>,\n",
       " <selenium.webdriver.remote.webelement.WebElement (session=\"b1e3ca61df83811b4f52f25453fc8daf\", element=\"06aa9c58-ae5f-4f1d-b10a-f8aee2e69ecd\")>,\n",
       " <selenium.webdriver.remote.webelement.WebElement (session=\"b1e3ca61df83811b4f52f25453fc8daf\", element=\"41d4d774-b5f2-495a-a619-4fed4e790e2b\")>]"
      ]
     },
     "execution_count": 27,
     "metadata": {},
     "output_type": "execute_result"
    }
   ],
   "source": [
    "brand_tag=driver.find_elements_by_xpath(\"//h3[@class='product-brand']\")\n",
    "brand_tag"
   ]
  },
  {
   "cell_type": "code",
   "execution_count": 28,
   "id": "1e424564",
   "metadata": {
    "collapsed": true
   },
   "outputs": [
    {
     "data": {
      "text/plain": [
       "['Nike',\n",
       " 'Nike',\n",
       " 'Hush Puppies',\n",
       " 'Nike',\n",
       " 'Nike',\n",
       " 'ADIDAS',\n",
       " 'Puma',\n",
       " 'Puma',\n",
       " 'Nike',\n",
       " 'Nike',\n",
       " 'Nike',\n",
       " 'Ruosh',\n",
       " 'Hush Puppies',\n",
       " 'Saint G',\n",
       " 'Hush Puppies',\n",
       " 'Puma',\n",
       " 'ASICS',\n",
       " 'Birkenstock',\n",
       " 'UNDER ARMOUR',\n",
       " 'PUMA Motorsport',\n",
       " 'ASICS',\n",
       " 'Puma',\n",
       " 'Hush Puppies',\n",
       " 'Birkenstock',\n",
       " 'Cole Haan',\n",
       " 'Bugatti',\n",
       " 'Bugatti',\n",
       " 'Puma',\n",
       " 'Calvin Klein',\n",
       " 'ADIDAS',\n",
       " 'Calvin Klein',\n",
       " 'Puma',\n",
       " 'ASICS',\n",
       " 'Hush Puppies',\n",
       " 'Saint G',\n",
       " 'Heel & Buckle London',\n",
       " 'Puma',\n",
       " 'Puma',\n",
       " 'PUMA Hoops',\n",
       " 'Puma',\n",
       " 'UNDER ARMOUR',\n",
       " 'Birkenstock',\n",
       " 'Geox',\n",
       " 'Puma',\n",
       " 'Tommy Hilfiger',\n",
       " 'Calvin Klein',\n",
       " 'Tommy Hilfiger',\n",
       " 'Regal',\n",
       " 'Pavers England',\n",
       " 'Calvin Klein']"
      ]
     },
     "execution_count": 28,
     "metadata": {},
     "output_type": "execute_result"
    }
   ],
   "source": [
    "brand=[]\n",
    "\n",
    "for i in brand_tag:\n",
    "    brand.append(i.text)\n",
    "brand"
   ]
  },
  {
   "cell_type": "code",
   "execution_count": 29,
   "id": "c245550d",
   "metadata": {},
   "outputs": [
    {
     "data": {
      "text/plain": [
       "50"
      ]
     },
     "execution_count": 29,
     "metadata": {},
     "output_type": "execute_result"
    }
   ],
   "source": [
    "len(brand)"
   ]
  },
  {
   "cell_type": "code",
   "execution_count": 30,
   "id": "5f5264d8",
   "metadata": {
    "collapsed": true
   },
   "outputs": [
    {
     "name": "stderr",
     "output_type": "stream",
     "text": [
      "<ipython-input-30-94a08df464b6>:1: DeprecationWarning: find_elements_by_* commands are deprecated. Please use find_elements() instead\n",
      "  description_tag=driver.find_elements_by_xpath(\"//h4[@class='product-product']\")\n"
     ]
    },
    {
     "data": {
      "text/plain": [
       "[<selenium.webdriver.remote.webelement.WebElement (session=\"b1e3ca61df83811b4f52f25453fc8daf\", element=\"91c17928-b61c-46d9-95d9-15c3204762ef\")>,\n",
       " <selenium.webdriver.remote.webelement.WebElement (session=\"b1e3ca61df83811b4f52f25453fc8daf\", element=\"4f65d19f-0891-4ec3-98cb-d56db710be20\")>,\n",
       " <selenium.webdriver.remote.webelement.WebElement (session=\"b1e3ca61df83811b4f52f25453fc8daf\", element=\"782e1216-0311-43c2-91a3-f49a36cff069\")>,\n",
       " <selenium.webdriver.remote.webelement.WebElement (session=\"b1e3ca61df83811b4f52f25453fc8daf\", element=\"fdcad522-c00b-4ee3-8d83-549240942e21\")>,\n",
       " <selenium.webdriver.remote.webelement.WebElement (session=\"b1e3ca61df83811b4f52f25453fc8daf\", element=\"91d98d80-9ad4-471f-bd7a-36eb6e94dfde\")>,\n",
       " <selenium.webdriver.remote.webelement.WebElement (session=\"b1e3ca61df83811b4f52f25453fc8daf\", element=\"e9e3e856-0e47-47ce-b828-109331c12f2c\")>,\n",
       " <selenium.webdriver.remote.webelement.WebElement (session=\"b1e3ca61df83811b4f52f25453fc8daf\", element=\"659d1c3d-074c-4e3f-8d51-50da004ceabd\")>,\n",
       " <selenium.webdriver.remote.webelement.WebElement (session=\"b1e3ca61df83811b4f52f25453fc8daf\", element=\"d358d0c3-e6dc-45df-8d44-9b3faa96431b\")>,\n",
       " <selenium.webdriver.remote.webelement.WebElement (session=\"b1e3ca61df83811b4f52f25453fc8daf\", element=\"4528b669-59d3-44fd-b40f-981904cdd7e8\")>,\n",
       " <selenium.webdriver.remote.webelement.WebElement (session=\"b1e3ca61df83811b4f52f25453fc8daf\", element=\"7a43ca6b-d976-40c8-9e8e-1cab9128a0a5\")>,\n",
       " <selenium.webdriver.remote.webelement.WebElement (session=\"b1e3ca61df83811b4f52f25453fc8daf\", element=\"a7878e08-5eaf-4409-b11c-b0f3bfab9431\")>,\n",
       " <selenium.webdriver.remote.webelement.WebElement (session=\"b1e3ca61df83811b4f52f25453fc8daf\", element=\"4a9d9d88-837f-4865-b910-0beb89287e4b\")>,\n",
       " <selenium.webdriver.remote.webelement.WebElement (session=\"b1e3ca61df83811b4f52f25453fc8daf\", element=\"fa541e35-0ff4-4d4c-948e-15616b4c39cb\")>,\n",
       " <selenium.webdriver.remote.webelement.WebElement (session=\"b1e3ca61df83811b4f52f25453fc8daf\", element=\"9d03f422-d34a-4330-92b8-d7db6f81a278\")>,\n",
       " <selenium.webdriver.remote.webelement.WebElement (session=\"b1e3ca61df83811b4f52f25453fc8daf\", element=\"3709d3f0-04dd-4718-a360-204556514808\")>,\n",
       " <selenium.webdriver.remote.webelement.WebElement (session=\"b1e3ca61df83811b4f52f25453fc8daf\", element=\"8f3c4569-18d2-422f-b8b0-8b63f539f35d\")>,\n",
       " <selenium.webdriver.remote.webelement.WebElement (session=\"b1e3ca61df83811b4f52f25453fc8daf\", element=\"67c6b03e-7809-46ee-9c95-d5ecfc9c9a19\")>,\n",
       " <selenium.webdriver.remote.webelement.WebElement (session=\"b1e3ca61df83811b4f52f25453fc8daf\", element=\"4d472490-0156-4b92-af4a-da4957fb561c\")>,\n",
       " <selenium.webdriver.remote.webelement.WebElement (session=\"b1e3ca61df83811b4f52f25453fc8daf\", element=\"a73b5708-86ed-4db9-a17a-65241a02e817\")>,\n",
       " <selenium.webdriver.remote.webelement.WebElement (session=\"b1e3ca61df83811b4f52f25453fc8daf\", element=\"d67dca13-5f0e-4fd3-a876-5de59fcdb921\")>,\n",
       " <selenium.webdriver.remote.webelement.WebElement (session=\"b1e3ca61df83811b4f52f25453fc8daf\", element=\"5d44785f-e856-41f1-827e-b4adecbe31c3\")>,\n",
       " <selenium.webdriver.remote.webelement.WebElement (session=\"b1e3ca61df83811b4f52f25453fc8daf\", element=\"60166633-3bdd-46e4-b4d9-ab83538d4a00\")>,\n",
       " <selenium.webdriver.remote.webelement.WebElement (session=\"b1e3ca61df83811b4f52f25453fc8daf\", element=\"45b7adf2-453e-4daf-9d05-12b66b2c15e6\")>,\n",
       " <selenium.webdriver.remote.webelement.WebElement (session=\"b1e3ca61df83811b4f52f25453fc8daf\", element=\"fc126279-c791-4914-8851-6c0837041609\")>,\n",
       " <selenium.webdriver.remote.webelement.WebElement (session=\"b1e3ca61df83811b4f52f25453fc8daf\", element=\"c8eae150-c29d-4be0-8d7d-87253f5a717a\")>,\n",
       " <selenium.webdriver.remote.webelement.WebElement (session=\"b1e3ca61df83811b4f52f25453fc8daf\", element=\"18e75630-fc5d-4828-a4c5-172e6284aab6\")>,\n",
       " <selenium.webdriver.remote.webelement.WebElement (session=\"b1e3ca61df83811b4f52f25453fc8daf\", element=\"c7b37ae6-ec2a-470a-a3ca-e6afb54d3547\")>,\n",
       " <selenium.webdriver.remote.webelement.WebElement (session=\"b1e3ca61df83811b4f52f25453fc8daf\", element=\"fac8c925-2bfe-46bf-a3fc-5a84e101d856\")>,\n",
       " <selenium.webdriver.remote.webelement.WebElement (session=\"b1e3ca61df83811b4f52f25453fc8daf\", element=\"d70c6c15-0e4d-4af1-9e72-e39c396f0ee8\")>,\n",
       " <selenium.webdriver.remote.webelement.WebElement (session=\"b1e3ca61df83811b4f52f25453fc8daf\", element=\"ec796c71-c998-4e8f-918c-87b6b242cff5\")>,\n",
       " <selenium.webdriver.remote.webelement.WebElement (session=\"b1e3ca61df83811b4f52f25453fc8daf\", element=\"07498e9a-fb78-4636-834e-f4720dae348f\")>,\n",
       " <selenium.webdriver.remote.webelement.WebElement (session=\"b1e3ca61df83811b4f52f25453fc8daf\", element=\"09f4413e-6da2-4935-aac5-f4af56a4bfd1\")>,\n",
       " <selenium.webdriver.remote.webelement.WebElement (session=\"b1e3ca61df83811b4f52f25453fc8daf\", element=\"03fd76b4-d906-4aa8-9af4-545cee17a43b\")>,\n",
       " <selenium.webdriver.remote.webelement.WebElement (session=\"b1e3ca61df83811b4f52f25453fc8daf\", element=\"c1931e1b-fa66-40cc-bb63-a56c38c96c12\")>,\n",
       " <selenium.webdriver.remote.webelement.WebElement (session=\"b1e3ca61df83811b4f52f25453fc8daf\", element=\"80546785-37c5-4b7a-8670-ae724aa0f6c8\")>,\n",
       " <selenium.webdriver.remote.webelement.WebElement (session=\"b1e3ca61df83811b4f52f25453fc8daf\", element=\"ae43f949-3a8a-4557-aea5-3c173f44eb12\")>,\n",
       " <selenium.webdriver.remote.webelement.WebElement (session=\"b1e3ca61df83811b4f52f25453fc8daf\", element=\"2a27324a-ec77-4cb7-8df1-78b3634c6300\")>,\n",
       " <selenium.webdriver.remote.webelement.WebElement (session=\"b1e3ca61df83811b4f52f25453fc8daf\", element=\"ea62a7dd-9f86-4d6c-a1b5-418527ee2e05\")>,\n",
       " <selenium.webdriver.remote.webelement.WebElement (session=\"b1e3ca61df83811b4f52f25453fc8daf\", element=\"c881885f-8681-4dd4-8dbd-5174584b0258\")>,\n",
       " <selenium.webdriver.remote.webelement.WebElement (session=\"b1e3ca61df83811b4f52f25453fc8daf\", element=\"ce9057f8-f235-4e22-80e6-11d0e17ebfb8\")>,\n",
       " <selenium.webdriver.remote.webelement.WebElement (session=\"b1e3ca61df83811b4f52f25453fc8daf\", element=\"2e6e4d94-7a51-4697-9e8f-07ae50bf82c6\")>,\n",
       " <selenium.webdriver.remote.webelement.WebElement (session=\"b1e3ca61df83811b4f52f25453fc8daf\", element=\"c588f16f-b5bb-410d-8dc1-d772f51a4097\")>,\n",
       " <selenium.webdriver.remote.webelement.WebElement (session=\"b1e3ca61df83811b4f52f25453fc8daf\", element=\"1946882c-9a7d-4a0f-bbc4-d91e0bbf83c6\")>,\n",
       " <selenium.webdriver.remote.webelement.WebElement (session=\"b1e3ca61df83811b4f52f25453fc8daf\", element=\"09a11827-107c-48fd-be38-6b6fd6e6b063\")>,\n",
       " <selenium.webdriver.remote.webelement.WebElement (session=\"b1e3ca61df83811b4f52f25453fc8daf\", element=\"f9a3b998-f70b-4df9-852e-bd46329a2674\")>,\n",
       " <selenium.webdriver.remote.webelement.WebElement (session=\"b1e3ca61df83811b4f52f25453fc8daf\", element=\"4d897798-9121-4c90-8964-e4b9127fd452\")>,\n",
       " <selenium.webdriver.remote.webelement.WebElement (session=\"b1e3ca61df83811b4f52f25453fc8daf\", element=\"e81a31c1-6e08-4219-9bd1-b316d719bfbf\")>,\n",
       " <selenium.webdriver.remote.webelement.WebElement (session=\"b1e3ca61df83811b4f52f25453fc8daf\", element=\"e7eb78af-7e1b-49c4-a310-6363ebc38ba6\")>,\n",
       " <selenium.webdriver.remote.webelement.WebElement (session=\"b1e3ca61df83811b4f52f25453fc8daf\", element=\"dcd75243-7c78-47a6-89ad-05dd556448b7\")>,\n",
       " <selenium.webdriver.remote.webelement.WebElement (session=\"b1e3ca61df83811b4f52f25453fc8daf\", element=\"be0c0521-3c9f-490e-9a11-1f8c13fed26f\")>]"
      ]
     },
     "execution_count": 30,
     "metadata": {},
     "output_type": "execute_result"
    }
   ],
   "source": [
    "description_tag=driver.find_elements_by_xpath(\"//h4[@class='product-product']\")\n",
    "description_tag"
   ]
  },
  {
   "cell_type": "code",
   "execution_count": 31,
   "id": "ebe6ba26",
   "metadata": {
    "collapsed": true
   },
   "outputs": [
    {
     "data": {
      "text/plain": [
       "['LEBRON WITNESS Basketball Shoe',\n",
       " 'AIR ZOOM PEGASUS Running Shoes',\n",
       " 'Men Solid Leather Formal Slip-Ons',\n",
       " 'Men Zoom Span 4 Running Shoes',\n",
       " 'Air Zoom Pegasus 38 Shield Run',\n",
       " 'Men Court Jam Bounce Tennis',\n",
       " 'Men Deviate Nitro Running Shoe',\n",
       " 'Men Velocity Nitro Running',\n",
       " 'Men FLIGHT LEGACY Sneakers',\n",
       " \"Men BlazerLow '77 Sneakers\",\n",
       " 'Men AIR PRESTO Sneakers',\n",
       " 'Men Formal Leather Brogues',\n",
       " 'Men Formal Derbys',\n",
       " 'Men Mid-Top Chelsea Boots',\n",
       " 'Men Solid Leather Formal Slip-Ons',\n",
       " 'Unisex Mirage Remix Sneakers',\n",
       " 'Men Colourblocked PU Sneakers',\n",
       " 'Women Arizona Oiled Leather Flats',\n",
       " 'Women Charged Bandit 6 Running',\n",
       " 'Unisex Ferrari Wild Rider Shoe',\n",
       " 'Men Running Shoes',\n",
       " 'Men Liberate NITRO Running',\n",
       " 'Men Solid Leather Formal Derbys',\n",
       " 'Madrid Oiled Open Toe Flats',\n",
       " 'Men Wingtip Oxford Sneakers',\n",
       " 'Men Black Walking Shoes',\n",
       " 'Men Walking Shoes',\n",
       " 'Men Running Shoes',\n",
       " 'Men Solid Low Top LTH Sneakers',\n",
       " 'Men Lightstrike Go Running',\n",
       " 'Men UV MONO Leather Sneakers',\n",
       " 'Unisex Leather Trainers',\n",
       " 'Men Black Running Sports Shoes',\n",
       " 'Men Leather Slip-On Sneakers',\n",
       " 'Women Leather Heeled Boots',\n",
       " 'Men Solid Leather Formal Penny Loafers',\n",
       " 'Men Football Shoes',\n",
       " 'Women Liberate NITRO Running',\n",
       " 'Unisex Clyde All-Pro Team',\n",
       " 'Women Magnify Nitro Shoes',\n",
       " 'Women Charged Vantage ClrShft',\n",
       " 'Women Gizeh Big Buckle Natural Leather Black Regular Width',\n",
       " 'Men Leather Flat Boots',\n",
       " 'Women Velocity NITRO Runners',\n",
       " 'Women Leather Block Pumps',\n",
       " 'Men Mid-Top Runner Sneakers',\n",
       " 'Women Leather Pumps',\n",
       " 'Men Leather Formal Loafers',\n",
       " 'Men Textured Leather Formal Derbys',\n",
       " 'Men Solid Leather Sneakers']"
      ]
     },
     "execution_count": 31,
     "metadata": {},
     "output_type": "execute_result"
    }
   ],
   "source": [
    "des=[]\n",
    "\n",
    "for i in description_tag:\n",
    "    des.append(i.text)\n",
    "des"
   ]
  },
  {
   "cell_type": "code",
   "execution_count": 32,
   "id": "511b67cf",
   "metadata": {},
   "outputs": [
    {
     "data": {
      "text/plain": [
       "50"
      ]
     },
     "execution_count": 32,
     "metadata": {},
     "output_type": "execute_result"
    }
   ],
   "source": [
    "len(des)"
   ]
  },
  {
   "cell_type": "code",
   "execution_count": 33,
   "id": "0f2c224c",
   "metadata": {
    "collapsed": true
   },
   "outputs": [
    {
     "name": "stderr",
     "output_type": "stream",
     "text": [
      "<ipython-input-33-375e362aa6eb>:1: DeprecationWarning: find_elements_by_* commands are deprecated. Please use find_elements() instead\n",
      "  price_tag=driver.find_elements_by_xpath(\"//div[@class='product-price']\")\n"
     ]
    },
    {
     "data": {
      "text/plain": [
       "[<selenium.webdriver.remote.webelement.WebElement (session=\"b1e3ca61df83811b4f52f25453fc8daf\", element=\"0729b79b-6cf3-471c-99cd-3c16d93934db\")>,\n",
       " <selenium.webdriver.remote.webelement.WebElement (session=\"b1e3ca61df83811b4f52f25453fc8daf\", element=\"7b134276-6a17-4a8b-bf7c-7470b689ea67\")>,\n",
       " <selenium.webdriver.remote.webelement.WebElement (session=\"b1e3ca61df83811b4f52f25453fc8daf\", element=\"4e49da3f-bbc4-4def-9237-c4ca594d2bf0\")>,\n",
       " <selenium.webdriver.remote.webelement.WebElement (session=\"b1e3ca61df83811b4f52f25453fc8daf\", element=\"a34deaa5-1e32-4b4c-9f51-69a5eadd7880\")>,\n",
       " <selenium.webdriver.remote.webelement.WebElement (session=\"b1e3ca61df83811b4f52f25453fc8daf\", element=\"c3d64cb3-5a26-49a7-99d9-e538c35bb733\")>,\n",
       " <selenium.webdriver.remote.webelement.WebElement (session=\"b1e3ca61df83811b4f52f25453fc8daf\", element=\"5eea8412-a456-4337-9f59-18f9a7053836\")>,\n",
       " <selenium.webdriver.remote.webelement.WebElement (session=\"b1e3ca61df83811b4f52f25453fc8daf\", element=\"e2ab3714-1362-4ed7-9f58-0775f7dd7277\")>,\n",
       " <selenium.webdriver.remote.webelement.WebElement (session=\"b1e3ca61df83811b4f52f25453fc8daf\", element=\"94474207-5213-4e22-b3c5-b98a6ba40c60\")>,\n",
       " <selenium.webdriver.remote.webelement.WebElement (session=\"b1e3ca61df83811b4f52f25453fc8daf\", element=\"90c3395d-8d48-49b7-8779-e562b30e8636\")>,\n",
       " <selenium.webdriver.remote.webelement.WebElement (session=\"b1e3ca61df83811b4f52f25453fc8daf\", element=\"cfd897be-b214-48b0-ab84-886cf06858cf\")>,\n",
       " <selenium.webdriver.remote.webelement.WebElement (session=\"b1e3ca61df83811b4f52f25453fc8daf\", element=\"b6ac6fa3-4c91-44b9-8aa0-2c874e2ef292\")>,\n",
       " <selenium.webdriver.remote.webelement.WebElement (session=\"b1e3ca61df83811b4f52f25453fc8daf\", element=\"4e13f828-8e56-4290-aaaa-72c1b3a53ff5\")>,\n",
       " <selenium.webdriver.remote.webelement.WebElement (session=\"b1e3ca61df83811b4f52f25453fc8daf\", element=\"b4f87a79-e84a-4aeb-a977-4485af00c738\")>,\n",
       " <selenium.webdriver.remote.webelement.WebElement (session=\"b1e3ca61df83811b4f52f25453fc8daf\", element=\"44c1b278-85ad-4e71-b496-3915ec00b160\")>,\n",
       " <selenium.webdriver.remote.webelement.WebElement (session=\"b1e3ca61df83811b4f52f25453fc8daf\", element=\"074a448b-58c3-4718-ab1e-69908b2a1d4d\")>,\n",
       " <selenium.webdriver.remote.webelement.WebElement (session=\"b1e3ca61df83811b4f52f25453fc8daf\", element=\"393c2349-47ae-4711-ac60-d59f5c800e49\")>,\n",
       " <selenium.webdriver.remote.webelement.WebElement (session=\"b1e3ca61df83811b4f52f25453fc8daf\", element=\"e415c4df-e4b4-4be3-9b43-076deec28dee\")>,\n",
       " <selenium.webdriver.remote.webelement.WebElement (session=\"b1e3ca61df83811b4f52f25453fc8daf\", element=\"e4e797ce-786a-40b4-8bf8-d4266f8abf9e\")>,\n",
       " <selenium.webdriver.remote.webelement.WebElement (session=\"b1e3ca61df83811b4f52f25453fc8daf\", element=\"d4f637e0-24ad-4990-88ee-2dc1b8494f32\")>,\n",
       " <selenium.webdriver.remote.webelement.WebElement (session=\"b1e3ca61df83811b4f52f25453fc8daf\", element=\"29147086-04c5-4946-a044-4d72eec94dc0\")>,\n",
       " <selenium.webdriver.remote.webelement.WebElement (session=\"b1e3ca61df83811b4f52f25453fc8daf\", element=\"4d5e3259-6b79-4a21-91df-f33c03f22447\")>,\n",
       " <selenium.webdriver.remote.webelement.WebElement (session=\"b1e3ca61df83811b4f52f25453fc8daf\", element=\"1db67156-61d1-4cfc-baf8-eed58708d346\")>,\n",
       " <selenium.webdriver.remote.webelement.WebElement (session=\"b1e3ca61df83811b4f52f25453fc8daf\", element=\"21f6e8f3-285c-4271-a36b-289538a34787\")>,\n",
       " <selenium.webdriver.remote.webelement.WebElement (session=\"b1e3ca61df83811b4f52f25453fc8daf\", element=\"6152e07d-ccea-4b02-86cf-86a0f7f76c8a\")>,\n",
       " <selenium.webdriver.remote.webelement.WebElement (session=\"b1e3ca61df83811b4f52f25453fc8daf\", element=\"be8e2d24-0ea4-4db5-ba2a-5f1b5c105621\")>,\n",
       " <selenium.webdriver.remote.webelement.WebElement (session=\"b1e3ca61df83811b4f52f25453fc8daf\", element=\"4e0fd3dd-1cbd-4458-86e7-16a93b728e52\")>,\n",
       " <selenium.webdriver.remote.webelement.WebElement (session=\"b1e3ca61df83811b4f52f25453fc8daf\", element=\"2d200375-d718-44b4-90a6-e2efb0be18f3\")>,\n",
       " <selenium.webdriver.remote.webelement.WebElement (session=\"b1e3ca61df83811b4f52f25453fc8daf\", element=\"cb90e7b2-2289-49da-83d7-5f0cb0ccb57a\")>,\n",
       " <selenium.webdriver.remote.webelement.WebElement (session=\"b1e3ca61df83811b4f52f25453fc8daf\", element=\"1d6a532b-ff07-4622-86a7-1c4d75d5d479\")>,\n",
       " <selenium.webdriver.remote.webelement.WebElement (session=\"b1e3ca61df83811b4f52f25453fc8daf\", element=\"694fb588-75cb-4890-94af-dc38b627dad3\")>,\n",
       " <selenium.webdriver.remote.webelement.WebElement (session=\"b1e3ca61df83811b4f52f25453fc8daf\", element=\"6c6f86ea-e238-4967-8835-15028a9def32\")>,\n",
       " <selenium.webdriver.remote.webelement.WebElement (session=\"b1e3ca61df83811b4f52f25453fc8daf\", element=\"2f199cef-7767-4d4c-8c76-926f9442d9a6\")>,\n",
       " <selenium.webdriver.remote.webelement.WebElement (session=\"b1e3ca61df83811b4f52f25453fc8daf\", element=\"0e094518-b107-4576-9019-19d138e0c0e8\")>,\n",
       " <selenium.webdriver.remote.webelement.WebElement (session=\"b1e3ca61df83811b4f52f25453fc8daf\", element=\"75d1dee5-c80f-4f3b-9fba-6ab7ae44500d\")>,\n",
       " <selenium.webdriver.remote.webelement.WebElement (session=\"b1e3ca61df83811b4f52f25453fc8daf\", element=\"815315c7-69d8-4a39-bcc3-b4c2f51833a6\")>,\n",
       " <selenium.webdriver.remote.webelement.WebElement (session=\"b1e3ca61df83811b4f52f25453fc8daf\", element=\"5e67613b-f086-4b7e-bfc4-b9b78854bf4f\")>,\n",
       " <selenium.webdriver.remote.webelement.WebElement (session=\"b1e3ca61df83811b4f52f25453fc8daf\", element=\"76aae3a8-2ba1-407a-b3a8-52da8f11dae0\")>,\n",
       " <selenium.webdriver.remote.webelement.WebElement (session=\"b1e3ca61df83811b4f52f25453fc8daf\", element=\"f7ae8b83-010e-494e-9b15-a7d9bb9aa3ac\")>,\n",
       " <selenium.webdriver.remote.webelement.WebElement (session=\"b1e3ca61df83811b4f52f25453fc8daf\", element=\"294388fd-ae46-4e4f-9b99-385dc6531ab5\")>,\n",
       " <selenium.webdriver.remote.webelement.WebElement (session=\"b1e3ca61df83811b4f52f25453fc8daf\", element=\"78d3cfcc-70cf-401f-b6c8-60dedd61ead8\")>,\n",
       " <selenium.webdriver.remote.webelement.WebElement (session=\"b1e3ca61df83811b4f52f25453fc8daf\", element=\"da0164bc-d8b8-4fdf-84fb-70b377d55838\")>,\n",
       " <selenium.webdriver.remote.webelement.WebElement (session=\"b1e3ca61df83811b4f52f25453fc8daf\", element=\"a648289c-a602-4273-8f39-8a5c81ac4c9a\")>,\n",
       " <selenium.webdriver.remote.webelement.WebElement (session=\"b1e3ca61df83811b4f52f25453fc8daf\", element=\"cec10782-f62a-446a-bb3c-2b813960444c\")>,\n",
       " <selenium.webdriver.remote.webelement.WebElement (session=\"b1e3ca61df83811b4f52f25453fc8daf\", element=\"4812c8bb-2c46-4128-8a44-98defb141882\")>,\n",
       " <selenium.webdriver.remote.webelement.WebElement (session=\"b1e3ca61df83811b4f52f25453fc8daf\", element=\"10f45a00-10a6-4a6f-bf53-b62efaf1faf2\")>,\n",
       " <selenium.webdriver.remote.webelement.WebElement (session=\"b1e3ca61df83811b4f52f25453fc8daf\", element=\"2c5e6b4d-df94-40d5-b1da-c3f44560337c\")>,\n",
       " <selenium.webdriver.remote.webelement.WebElement (session=\"b1e3ca61df83811b4f52f25453fc8daf\", element=\"8976778b-84d8-42ec-896d-f9ce85ec7d65\")>,\n",
       " <selenium.webdriver.remote.webelement.WebElement (session=\"b1e3ca61df83811b4f52f25453fc8daf\", element=\"654dcb17-9227-4030-b0ff-68a19cc5e528\")>,\n",
       " <selenium.webdriver.remote.webelement.WebElement (session=\"b1e3ca61df83811b4f52f25453fc8daf\", element=\"e1b849b6-3513-4eea-b0a1-3382dc71f0e4\")>,\n",
       " <selenium.webdriver.remote.webelement.WebElement (session=\"b1e3ca61df83811b4f52f25453fc8daf\", element=\"652b923a-8898-4945-b47e-f96385c9356a\")>]"
      ]
     },
     "execution_count": 33,
     "metadata": {},
     "output_type": "execute_result"
    }
   ],
   "source": [
    "price_tag=driver.find_elements_by_xpath(\"//div[@class='product-price']\")\n",
    "price_tag"
   ]
  },
  {
   "cell_type": "code",
   "execution_count": 39,
   "id": "70b2fe49",
   "metadata": {
    "collapsed": true
   },
   "outputs": [
    {
     "data": {
      "text/plain": [
       "['Rs. 8295',\n",
       " 'Rs. 9995',\n",
       " 'Rs. 8099Rs. 8999(10% OFF)',\n",
       " 'Rs. 7195',\n",
       " 'Rs. 11495',\n",
       " 'Rs. 7999',\n",
       " 'Rs. 12749Rs. 14999(15% OFF)',\n",
       " 'Rs. 9349Rs. 10999(15% OFF)',\n",
       " 'Rs. 7995',\n",
       " 'Rs. 7195',\n",
       " 'Rs. 11495',\n",
       " 'Rs. 7490',\n",
       " 'Rs. 8999Rs. 9999(10% OFF)',\n",
       " 'Rs. 10900',\n",
       " 'Rs. 8999Rs. 9999(10% OFF)',\n",
       " 'Rs. 7649Rs. 8999(15% OFF)',\n",
       " 'Rs. 9999',\n",
       " 'Rs. 11990',\n",
       " 'Rs. 8999',\n",
       " 'Rs. 7149Rs. 10999(35% OFF)',\n",
       " 'Rs. 7999',\n",
       " 'Rs. 8499Rs. 9999(15% OFF)',\n",
       " 'Rs. 8999Rs. 9999(10% OFF)',\n",
       " 'Rs. 8990',\n",
       " 'Rs. 10399Rs. 12999(20% OFF)',\n",
       " 'Rs. 8999',\n",
       " 'Rs. 8999',\n",
       " 'Rs. 9749Rs. 12999(25% OFF)',\n",
       " 'Rs. 8999',\n",
       " 'Rs. 8999',\n",
       " 'Rs. 8999',\n",
       " 'Rs. 8499Rs. 9999(15% OFF)',\n",
       " 'Rs. 7999',\n",
       " 'Rs. 7999Rs. 9999(20% OFF)',\n",
       " 'Rs. 13900',\n",
       " 'Rs. 7693Rs. 10990(30% OFF)',\n",
       " 'Rs. 11899Rs. 16999(30% OFF)',\n",
       " 'Rs. 8499Rs. 9999(15% OFF)',\n",
       " 'Rs. 8999',\n",
       " 'Rs. 10399Rs. 12999(20% OFF)',\n",
       " 'Rs. 7999',\n",
       " 'Rs. 10990',\n",
       " 'Rs. 11999',\n",
       " 'Rs. 9349Rs. 10999(15% OFF)',\n",
       " 'Rs. 7999',\n",
       " 'Rs. 10999',\n",
       " 'Rs. 7999',\n",
       " 'Rs. 8990',\n",
       " 'Rs. 7199Rs. 8999(20% OFF)',\n",
       " 'Rs. 9999']"
      ]
     },
     "execution_count": 39,
     "metadata": {},
     "output_type": "execute_result"
    }
   ],
   "source": [
    "price=[]\n",
    "\n",
    "for i in price_tag:\n",
    "    price.append(i.text)\n",
    "price"
   ]
  },
  {
   "cell_type": "code",
   "execution_count": 35,
   "id": "f6302939",
   "metadata": {},
   "outputs": [
    {
     "data": {
      "text/plain": [
       "50"
      ]
     },
     "execution_count": 35,
     "metadata": {},
     "output_type": "execute_result"
    }
   ],
   "source": [
    "len(price)"
   ]
  },
  {
   "cell_type": "code",
   "execution_count": 42,
   "id": "a9163c48",
   "metadata": {},
   "outputs": [
    {
     "name": "stderr",
     "output_type": "stream",
     "text": [
      "<ipython-input-42-1f82de9c7965>:1: DeprecationWarning: find_element_by_* commands are deprecated. Please use find_element() instead\n",
      "  next_button=driver.find_element_by_xpath(\"//li[@class='pagination-next']\")\n"
     ]
    }
   ],
   "source": [
    "next_button=driver.find_element_by_xpath(\"//li[@class='pagination-next']\")\n",
    "next_button.click()"
   ]
  },
  {
   "cell_type": "code",
   "execution_count": 45,
   "id": "6fb2c6fa",
   "metadata": {},
   "outputs": [],
   "source": [
    "driver.get('https://www.myntra.com/shoes?f=Color%3ABlack_36454f&p=2&rf=Price%3A7149.0_14099.0_7149.0%20TO%2014099.0%2C7164.0_14109.0_7164.0%20TO%2014109.0')"
   ]
  },
  {
   "cell_type": "code",
   "execution_count": 46,
   "id": "9bdfe1ea",
   "metadata": {
    "collapsed": true
   },
   "outputs": [
    {
     "name": "stderr",
     "output_type": "stream",
     "text": [
      "<ipython-input-46-daa06b594579>:1: DeprecationWarning: find_elements_by_* commands are deprecated. Please use find_elements() instead\n",
      "  brand_tag=driver.find_elements_by_xpath(\"//h3[@class='product-brand']\")\n"
     ]
    },
    {
     "data": {
      "text/plain": [
       "[<selenium.webdriver.remote.webelement.WebElement (session=\"b1e3ca61df83811b4f52f25453fc8daf\", element=\"48851e81-ba3a-4e28-b015-382954596662\")>,\n",
       " <selenium.webdriver.remote.webelement.WebElement (session=\"b1e3ca61df83811b4f52f25453fc8daf\", element=\"cc6fb584-2594-4385-be04-769640ca27ed\")>,\n",
       " <selenium.webdriver.remote.webelement.WebElement (session=\"b1e3ca61df83811b4f52f25453fc8daf\", element=\"a62971ab-bbf3-441a-8d0c-480b9905a247\")>,\n",
       " <selenium.webdriver.remote.webelement.WebElement (session=\"b1e3ca61df83811b4f52f25453fc8daf\", element=\"c49a9b31-e886-49d0-96d0-2838770b1138\")>,\n",
       " <selenium.webdriver.remote.webelement.WebElement (session=\"b1e3ca61df83811b4f52f25453fc8daf\", element=\"3629f69d-5343-4fa0-9031-98a49b07301d\")>,\n",
       " <selenium.webdriver.remote.webelement.WebElement (session=\"b1e3ca61df83811b4f52f25453fc8daf\", element=\"c863cf91-8b60-456a-996d-cfc9f2d5ac32\")>,\n",
       " <selenium.webdriver.remote.webelement.WebElement (session=\"b1e3ca61df83811b4f52f25453fc8daf\", element=\"1f735fee-d0d3-4fc0-a667-be752bdf1150\")>,\n",
       " <selenium.webdriver.remote.webelement.WebElement (session=\"b1e3ca61df83811b4f52f25453fc8daf\", element=\"e2fbb732-0e2d-46d5-baea-08f9983f5eb5\")>,\n",
       " <selenium.webdriver.remote.webelement.WebElement (session=\"b1e3ca61df83811b4f52f25453fc8daf\", element=\"1d3b5c0e-91d0-45b2-a1f3-247497caddd2\")>,\n",
       " <selenium.webdriver.remote.webelement.WebElement (session=\"b1e3ca61df83811b4f52f25453fc8daf\", element=\"d710e6b3-efaf-49f1-987b-30e939677625\")>,\n",
       " <selenium.webdriver.remote.webelement.WebElement (session=\"b1e3ca61df83811b4f52f25453fc8daf\", element=\"076dede3-72bc-4aa0-8d9d-cf2f14dbdba3\")>,\n",
       " <selenium.webdriver.remote.webelement.WebElement (session=\"b1e3ca61df83811b4f52f25453fc8daf\", element=\"b9951faf-6921-4499-83c2-bf12357112c1\")>,\n",
       " <selenium.webdriver.remote.webelement.WebElement (session=\"b1e3ca61df83811b4f52f25453fc8daf\", element=\"4229fcfb-cfcf-4f5a-bc7c-abbf328a1e70\")>,\n",
       " <selenium.webdriver.remote.webelement.WebElement (session=\"b1e3ca61df83811b4f52f25453fc8daf\", element=\"919820bb-f6f2-4cee-ba29-4a72873b26ac\")>,\n",
       " <selenium.webdriver.remote.webelement.WebElement (session=\"b1e3ca61df83811b4f52f25453fc8daf\", element=\"e7bf21ae-92b8-49b0-b6fd-9fda1ea34939\")>,\n",
       " <selenium.webdriver.remote.webelement.WebElement (session=\"b1e3ca61df83811b4f52f25453fc8daf\", element=\"c2dfbff7-cf0a-4e3c-826d-16c4e5fede79\")>,\n",
       " <selenium.webdriver.remote.webelement.WebElement (session=\"b1e3ca61df83811b4f52f25453fc8daf\", element=\"29ef7b9c-1433-4a8e-98b9-32f023f627ef\")>,\n",
       " <selenium.webdriver.remote.webelement.WebElement (session=\"b1e3ca61df83811b4f52f25453fc8daf\", element=\"55e3ec0a-c178-47d7-bde8-ef779fb43cdf\")>,\n",
       " <selenium.webdriver.remote.webelement.WebElement (session=\"b1e3ca61df83811b4f52f25453fc8daf\", element=\"a84da1f4-9adb-4077-bf80-a1f37113d536\")>,\n",
       " <selenium.webdriver.remote.webelement.WebElement (session=\"b1e3ca61df83811b4f52f25453fc8daf\", element=\"7144ef72-ab7f-4150-8896-0ae35b5b02a0\")>,\n",
       " <selenium.webdriver.remote.webelement.WebElement (session=\"b1e3ca61df83811b4f52f25453fc8daf\", element=\"be613810-810e-42d5-9418-738eaf782794\")>,\n",
       " <selenium.webdriver.remote.webelement.WebElement (session=\"b1e3ca61df83811b4f52f25453fc8daf\", element=\"31d727b3-d21e-4957-b9ce-694a4e7334ae\")>,\n",
       " <selenium.webdriver.remote.webelement.WebElement (session=\"b1e3ca61df83811b4f52f25453fc8daf\", element=\"beb62d86-17fa-4f1e-a535-6c321114deca\")>,\n",
       " <selenium.webdriver.remote.webelement.WebElement (session=\"b1e3ca61df83811b4f52f25453fc8daf\", element=\"a8db8c0b-fde2-4589-bfdb-659b4d3dcf0f\")>,\n",
       " <selenium.webdriver.remote.webelement.WebElement (session=\"b1e3ca61df83811b4f52f25453fc8daf\", element=\"3a9c478c-2cac-44b9-89c1-587f83e99bd8\")>,\n",
       " <selenium.webdriver.remote.webelement.WebElement (session=\"b1e3ca61df83811b4f52f25453fc8daf\", element=\"9206dbe4-fe43-4b5b-81ac-835ad2cd80e5\")>,\n",
       " <selenium.webdriver.remote.webelement.WebElement (session=\"b1e3ca61df83811b4f52f25453fc8daf\", element=\"7955e4a4-5a61-4ec1-aa60-f6cc847d383c\")>,\n",
       " <selenium.webdriver.remote.webelement.WebElement (session=\"b1e3ca61df83811b4f52f25453fc8daf\", element=\"08adf49c-75dd-4e32-a8f5-c89fe548c860\")>,\n",
       " <selenium.webdriver.remote.webelement.WebElement (session=\"b1e3ca61df83811b4f52f25453fc8daf\", element=\"9767b09d-de30-416e-bdf6-81c905c76856\")>,\n",
       " <selenium.webdriver.remote.webelement.WebElement (session=\"b1e3ca61df83811b4f52f25453fc8daf\", element=\"db0ce09e-7503-4a93-9e31-a3215ac53184\")>,\n",
       " <selenium.webdriver.remote.webelement.WebElement (session=\"b1e3ca61df83811b4f52f25453fc8daf\", element=\"c6dc86e8-5af4-4530-9843-51ced821ea9a\")>,\n",
       " <selenium.webdriver.remote.webelement.WebElement (session=\"b1e3ca61df83811b4f52f25453fc8daf\", element=\"0fca17b7-a15e-4198-89c6-ef8ced0dff20\")>,\n",
       " <selenium.webdriver.remote.webelement.WebElement (session=\"b1e3ca61df83811b4f52f25453fc8daf\", element=\"24ab930b-16f5-417c-b765-e294f8a85975\")>,\n",
       " <selenium.webdriver.remote.webelement.WebElement (session=\"b1e3ca61df83811b4f52f25453fc8daf\", element=\"5ece7a76-cfa8-4310-87fe-36bf2ddeb940\")>,\n",
       " <selenium.webdriver.remote.webelement.WebElement (session=\"b1e3ca61df83811b4f52f25453fc8daf\", element=\"29187d6c-e035-4987-ab21-e38270af11d1\")>,\n",
       " <selenium.webdriver.remote.webelement.WebElement (session=\"b1e3ca61df83811b4f52f25453fc8daf\", element=\"2a2f5571-1ee2-4a4b-b4b0-5583fedca684\")>,\n",
       " <selenium.webdriver.remote.webelement.WebElement (session=\"b1e3ca61df83811b4f52f25453fc8daf\", element=\"1ffd1b97-0f3a-4a47-89c2-f652a3615ab9\")>,\n",
       " <selenium.webdriver.remote.webelement.WebElement (session=\"b1e3ca61df83811b4f52f25453fc8daf\", element=\"0d3be119-481f-4e45-8280-dd65ffd1b80a\")>,\n",
       " <selenium.webdriver.remote.webelement.WebElement (session=\"b1e3ca61df83811b4f52f25453fc8daf\", element=\"1cad4b51-9cea-4c9b-8d53-fca37f7b33fa\")>,\n",
       " <selenium.webdriver.remote.webelement.WebElement (session=\"b1e3ca61df83811b4f52f25453fc8daf\", element=\"b36f4d98-706b-4620-be08-6d031d002adc\")>,\n",
       " <selenium.webdriver.remote.webelement.WebElement (session=\"b1e3ca61df83811b4f52f25453fc8daf\", element=\"4d7a24a8-902f-4365-a6db-fcb8b5aaf3f0\")>,\n",
       " <selenium.webdriver.remote.webelement.WebElement (session=\"b1e3ca61df83811b4f52f25453fc8daf\", element=\"5d3a0132-facb-42db-bbd5-45e5609105d5\")>,\n",
       " <selenium.webdriver.remote.webelement.WebElement (session=\"b1e3ca61df83811b4f52f25453fc8daf\", element=\"91e725de-2c62-4530-a17a-d58880f1fedc\")>,\n",
       " <selenium.webdriver.remote.webelement.WebElement (session=\"b1e3ca61df83811b4f52f25453fc8daf\", element=\"8123488a-c395-4101-9900-a2ca7680bd35\")>,\n",
       " <selenium.webdriver.remote.webelement.WebElement (session=\"b1e3ca61df83811b4f52f25453fc8daf\", element=\"0e5947be-bc87-4b62-baee-ff1820915993\")>,\n",
       " <selenium.webdriver.remote.webelement.WebElement (session=\"b1e3ca61df83811b4f52f25453fc8daf\", element=\"b205c83e-7399-46ce-989e-0b0288f44ea4\")>,\n",
       " <selenium.webdriver.remote.webelement.WebElement (session=\"b1e3ca61df83811b4f52f25453fc8daf\", element=\"860969ea-43bb-43de-8e89-6f7ec4dad917\")>,\n",
       " <selenium.webdriver.remote.webelement.WebElement (session=\"b1e3ca61df83811b4f52f25453fc8daf\", element=\"fd661072-be77-43bc-97a3-9b36eaab647d\")>,\n",
       " <selenium.webdriver.remote.webelement.WebElement (session=\"b1e3ca61df83811b4f52f25453fc8daf\", element=\"83962c32-6563-458e-9a28-7312747ff4c6\")>,\n",
       " <selenium.webdriver.remote.webelement.WebElement (session=\"b1e3ca61df83811b4f52f25453fc8daf\", element=\"eb38dbf6-55c7-407d-89a9-0058269974a0\")>]"
      ]
     },
     "execution_count": 46,
     "metadata": {},
     "output_type": "execute_result"
    }
   ],
   "source": [
    "brand_tag=driver.find_elements_by_xpath(\"//h3[@class='product-brand']\")\n",
    "brand_tag"
   ]
  },
  {
   "cell_type": "code",
   "execution_count": 47,
   "id": "30706f35",
   "metadata": {
    "collapsed": true
   },
   "outputs": [
    {
     "data": {
      "text/plain": [
       "['Calvin Klein',\n",
       " 'Puma',\n",
       " 'ASICS',\n",
       " 'Cole Haan',\n",
       " 'Regal',\n",
       " 'J.FONTINI',\n",
       " 'ASICS',\n",
       " 'Tommy Hilfiger',\n",
       " 'J.FONTINI',\n",
       " 'ROSSO BRUNELLO',\n",
       " 'RARE RABBIT',\n",
       " 'Tommy Hilfiger',\n",
       " 'Hush Puppies',\n",
       " 'DAVINCHI',\n",
       " 'DAVINCHI',\n",
       " 'Calvin Klein',\n",
       " 'Heel & Buckle London',\n",
       " 'Calvin Klein',\n",
       " 'Hush Puppies',\n",
       " 'Saint G',\n",
       " 'Saint G',\n",
       " 'Bugatti',\n",
       " 'Regal',\n",
       " 'Saint G',\n",
       " 'Geox',\n",
       " 'Saint G',\n",
       " 'Saint G',\n",
       " 'Geox',\n",
       " 'Regal',\n",
       " 'ASICS',\n",
       " 'UNDER ARMOUR',\n",
       " 'Puma',\n",
       " 'ASICS',\n",
       " 'Geox',\n",
       " 'Regal',\n",
       " 'UNDER ARMOUR',\n",
       " 'UNDER ARMOUR',\n",
       " 'Cole Haan',\n",
       " 'Geox',\n",
       " 'J.FONTINI',\n",
       " 'Reebok',\n",
       " 'Hush Puppies',\n",
       " 'Ruosh',\n",
       " 'Geox',\n",
       " 'KLEAT',\n",
       " 'J.FONTINI',\n",
       " 'Regal',\n",
       " 'Puma',\n",
       " 'Bugatti',\n",
       " 'Ruosh']"
      ]
     },
     "execution_count": 47,
     "metadata": {},
     "output_type": "execute_result"
    }
   ],
   "source": [
    "brand=[]\n",
    "\n",
    "for i in brand_tag:\n",
    "    brand.append(i.text)\n",
    "brand"
   ]
  },
  {
   "cell_type": "code",
   "execution_count": 48,
   "id": "3f34a9a7",
   "metadata": {
    "collapsed": true
   },
   "outputs": [
    {
     "name": "stderr",
     "output_type": "stream",
     "text": [
      "<ipython-input-48-94a08df464b6>:1: DeprecationWarning: find_elements_by_* commands are deprecated. Please use find_elements() instead\n",
      "  description_tag=driver.find_elements_by_xpath(\"//h4[@class='product-product']\")\n"
     ]
    },
    {
     "data": {
      "text/plain": [
       "[<selenium.webdriver.remote.webelement.WebElement (session=\"b1e3ca61df83811b4f52f25453fc8daf\", element=\"49124d43-8a42-47cf-a172-ffe0b21c9183\")>,\n",
       " <selenium.webdriver.remote.webelement.WebElement (session=\"b1e3ca61df83811b4f52f25453fc8daf\", element=\"64568851-385d-45a6-89cb-5d4225a762f2\")>,\n",
       " <selenium.webdriver.remote.webelement.WebElement (session=\"b1e3ca61df83811b4f52f25453fc8daf\", element=\"379000f7-4a4d-4172-a86a-33db5dd7e13b\")>,\n",
       " <selenium.webdriver.remote.webelement.WebElement (session=\"b1e3ca61df83811b4f52f25453fc8daf\", element=\"35844a6b-202d-4f79-8c56-257a0b6c9d61\")>,\n",
       " <selenium.webdriver.remote.webelement.WebElement (session=\"b1e3ca61df83811b4f52f25453fc8daf\", element=\"c22d6f79-7352-4948-82d6-5047761afae7\")>,\n",
       " <selenium.webdriver.remote.webelement.WebElement (session=\"b1e3ca61df83811b4f52f25453fc8daf\", element=\"fe7023e5-4d88-416d-82c8-325a14bb1ee3\")>,\n",
       " <selenium.webdriver.remote.webelement.WebElement (session=\"b1e3ca61df83811b4f52f25453fc8daf\", element=\"c9eb91ee-a085-4a18-8212-05c54816b7e0\")>,\n",
       " <selenium.webdriver.remote.webelement.WebElement (session=\"b1e3ca61df83811b4f52f25453fc8daf\", element=\"af0d82f0-fa0f-462a-8af9-f94d1e6f15fa\")>,\n",
       " <selenium.webdriver.remote.webelement.WebElement (session=\"b1e3ca61df83811b4f52f25453fc8daf\", element=\"3479007e-6728-4794-9c74-74e4ab7fc597\")>,\n",
       " <selenium.webdriver.remote.webelement.WebElement (session=\"b1e3ca61df83811b4f52f25453fc8daf\", element=\"cefd2989-16d4-47f2-bac3-a83376157862\")>,\n",
       " <selenium.webdriver.remote.webelement.WebElement (session=\"b1e3ca61df83811b4f52f25453fc8daf\", element=\"11abf2f6-ad89-4782-ad49-eca239c2697a\")>,\n",
       " <selenium.webdriver.remote.webelement.WebElement (session=\"b1e3ca61df83811b4f52f25453fc8daf\", element=\"4c9cf27f-b832-4141-a682-2cc9f1eb9b0b\")>,\n",
       " <selenium.webdriver.remote.webelement.WebElement (session=\"b1e3ca61df83811b4f52f25453fc8daf\", element=\"12adad9a-3f02-4230-96cd-b9c0654fd0a2\")>,\n",
       " <selenium.webdriver.remote.webelement.WebElement (session=\"b1e3ca61df83811b4f52f25453fc8daf\", element=\"f282ed6b-c8a2-4e64-8495-6a9dc657f18e\")>,\n",
       " <selenium.webdriver.remote.webelement.WebElement (session=\"b1e3ca61df83811b4f52f25453fc8daf\", element=\"244d3d94-cefd-4290-a58d-42cf56db806a\")>,\n",
       " <selenium.webdriver.remote.webelement.WebElement (session=\"b1e3ca61df83811b4f52f25453fc8daf\", element=\"e1d35399-e056-490a-95ab-2ae696d51376\")>,\n",
       " <selenium.webdriver.remote.webelement.WebElement (session=\"b1e3ca61df83811b4f52f25453fc8daf\", element=\"864758a9-2d11-4668-95ff-ceafc7faa927\")>,\n",
       " <selenium.webdriver.remote.webelement.WebElement (session=\"b1e3ca61df83811b4f52f25453fc8daf\", element=\"1704c7b2-d352-4430-bbc2-e6c6562d98b4\")>,\n",
       " <selenium.webdriver.remote.webelement.WebElement (session=\"b1e3ca61df83811b4f52f25453fc8daf\", element=\"12042f49-8634-4de3-aa48-08bd330d8253\")>,\n",
       " <selenium.webdriver.remote.webelement.WebElement (session=\"b1e3ca61df83811b4f52f25453fc8daf\", element=\"25edeb78-9fff-4112-921a-720b37aeb004\")>,\n",
       " <selenium.webdriver.remote.webelement.WebElement (session=\"b1e3ca61df83811b4f52f25453fc8daf\", element=\"9b96c7c5-39d4-4be5-9fa7-d65903dab069\")>,\n",
       " <selenium.webdriver.remote.webelement.WebElement (session=\"b1e3ca61df83811b4f52f25453fc8daf\", element=\"d04efc41-ddc9-4288-b780-e86b051e2c9b\")>,\n",
       " <selenium.webdriver.remote.webelement.WebElement (session=\"b1e3ca61df83811b4f52f25453fc8daf\", element=\"c3942bde-bc5e-4af9-9c11-8f4a56772560\")>,\n",
       " <selenium.webdriver.remote.webelement.WebElement (session=\"b1e3ca61df83811b4f52f25453fc8daf\", element=\"167f7ddc-3719-4c1a-aa2f-6356d72e66ce\")>,\n",
       " <selenium.webdriver.remote.webelement.WebElement (session=\"b1e3ca61df83811b4f52f25453fc8daf\", element=\"6cbe7858-dbc2-45c6-9bc8-25dcddecd429\")>,\n",
       " <selenium.webdriver.remote.webelement.WebElement (session=\"b1e3ca61df83811b4f52f25453fc8daf\", element=\"b6f5c010-9fb4-478a-b001-cd0032f1ff92\")>,\n",
       " <selenium.webdriver.remote.webelement.WebElement (session=\"b1e3ca61df83811b4f52f25453fc8daf\", element=\"d73bd4fe-9d83-434d-96d4-38c32d01df6b\")>,\n",
       " <selenium.webdriver.remote.webelement.WebElement (session=\"b1e3ca61df83811b4f52f25453fc8daf\", element=\"42518f60-4f6b-4448-b3ae-20579d5e5db5\")>,\n",
       " <selenium.webdriver.remote.webelement.WebElement (session=\"b1e3ca61df83811b4f52f25453fc8daf\", element=\"b11fde4b-87fa-4977-b021-42b0e5324f2f\")>,\n",
       " <selenium.webdriver.remote.webelement.WebElement (session=\"b1e3ca61df83811b4f52f25453fc8daf\", element=\"1c46bbda-b04a-4ef2-b597-0c7a814969a7\")>,\n",
       " <selenium.webdriver.remote.webelement.WebElement (session=\"b1e3ca61df83811b4f52f25453fc8daf\", element=\"69323ed1-2c5a-4e7d-b4ed-d6beb3ea90ad\")>,\n",
       " <selenium.webdriver.remote.webelement.WebElement (session=\"b1e3ca61df83811b4f52f25453fc8daf\", element=\"3f556761-3ed7-460e-8ce4-7f55e8fb3fdd\")>,\n",
       " <selenium.webdriver.remote.webelement.WebElement (session=\"b1e3ca61df83811b4f52f25453fc8daf\", element=\"d427fa05-11ca-4aa9-9f67-0529c2fccb4a\")>,\n",
       " <selenium.webdriver.remote.webelement.WebElement (session=\"b1e3ca61df83811b4f52f25453fc8daf\", element=\"d4a10f20-3081-47bc-bba5-335ce9fa08f0\")>,\n",
       " <selenium.webdriver.remote.webelement.WebElement (session=\"b1e3ca61df83811b4f52f25453fc8daf\", element=\"4ad8cf5d-0d9e-4536-b378-60318b489046\")>,\n",
       " <selenium.webdriver.remote.webelement.WebElement (session=\"b1e3ca61df83811b4f52f25453fc8daf\", element=\"a9bb18cb-933d-4a83-90c8-d258594c4656\")>,\n",
       " <selenium.webdriver.remote.webelement.WebElement (session=\"b1e3ca61df83811b4f52f25453fc8daf\", element=\"f554280a-332f-4d2a-a5a9-e4f9346fcbfb\")>,\n",
       " <selenium.webdriver.remote.webelement.WebElement (session=\"b1e3ca61df83811b4f52f25453fc8daf\", element=\"dd419011-74a1-47e2-afb7-87e2fc568b66\")>,\n",
       " <selenium.webdriver.remote.webelement.WebElement (session=\"b1e3ca61df83811b4f52f25453fc8daf\", element=\"d5dd6407-3346-4544-9938-51e8f70bb5e2\")>,\n",
       " <selenium.webdriver.remote.webelement.WebElement (session=\"b1e3ca61df83811b4f52f25453fc8daf\", element=\"7da04eb3-64cb-4a25-b16a-d52ef6ca9a0c\")>,\n",
       " <selenium.webdriver.remote.webelement.WebElement (session=\"b1e3ca61df83811b4f52f25453fc8daf\", element=\"65485d8c-403d-4ef0-b8ea-b5d1dd2e5336\")>,\n",
       " <selenium.webdriver.remote.webelement.WebElement (session=\"b1e3ca61df83811b4f52f25453fc8daf\", element=\"aafda024-3b28-461b-ac4e-ad3f82591933\")>,\n",
       " <selenium.webdriver.remote.webelement.WebElement (session=\"b1e3ca61df83811b4f52f25453fc8daf\", element=\"69fc6937-7f65-4e8a-b81a-26fc5b7405bc\")>,\n",
       " <selenium.webdriver.remote.webelement.WebElement (session=\"b1e3ca61df83811b4f52f25453fc8daf\", element=\"f53b06d8-de9c-4dd8-8e10-8f06c1eb391e\")>,\n",
       " <selenium.webdriver.remote.webelement.WebElement (session=\"b1e3ca61df83811b4f52f25453fc8daf\", element=\"19f5d946-011b-46be-b2bc-1dce4cfd0eff\")>,\n",
       " <selenium.webdriver.remote.webelement.WebElement (session=\"b1e3ca61df83811b4f52f25453fc8daf\", element=\"8f59538d-800e-4cf8-89c5-89d3467ae428\")>,\n",
       " <selenium.webdriver.remote.webelement.WebElement (session=\"b1e3ca61df83811b4f52f25453fc8daf\", element=\"6fc3c24f-02d9-4cd9-a7b8-892ffe1654f7\")>,\n",
       " <selenium.webdriver.remote.webelement.WebElement (session=\"b1e3ca61df83811b4f52f25453fc8daf\", element=\"fa3fe549-e362-4fb9-b404-123f3c3b8cce\")>,\n",
       " <selenium.webdriver.remote.webelement.WebElement (session=\"b1e3ca61df83811b4f52f25453fc8daf\", element=\"e69125cb-7ef8-43e8-957d-8609481adf46\")>,\n",
       " <selenium.webdriver.remote.webelement.WebElement (session=\"b1e3ca61df83811b4f52f25453fc8daf\", element=\"55a2f759-6f58-4df2-aae1-173a5957803b\")>]"
      ]
     },
     "execution_count": 48,
     "metadata": {},
     "output_type": "execute_result"
    }
   ],
   "source": [
    "description_tag=driver.find_elements_by_xpath(\"//h4[@class='product-product']\")\n",
    "description_tag"
   ]
  },
  {
   "cell_type": "code",
   "execution_count": 49,
   "id": "8f069e34",
   "metadata": {
    "collapsed": true
   },
   "outputs": [
    {
     "data": {
      "text/plain": [
       "['Men Solid Leather Sneakers',\n",
       " 'FIRST MILE Forever XT Utility',\n",
       " 'Women NOVABLAST Road Running',\n",
       " 'Men GENERATION ZEROGRAND STITCHLITE',\n",
       " 'Men Leather Formal Loafers',\n",
       " 'Men Black Leather Loafers',\n",
       " 'Skycourt Sneakers',\n",
       " 'Men Lightweight Sneakers',\n",
       " 'Men Textured Leather Loafers',\n",
       " 'Men Solid Leather Formal Monk Shoes',\n",
       " 'Men Leather Flat Boots',\n",
       " 'Women Textured Pumps',\n",
       " 'Men Solid Formal Slip-Ons',\n",
       " 'Ustraa black',\n",
       " 'Men Textured Formal Leather Loafers',\n",
       " 'Men Textured Leather Sneaker',\n",
       " 'Men Leather Monk Shoes',\n",
       " 'Men Solid Suede Sneakers',\n",
       " 'Men Solid Leather Formal Derbys',\n",
       " 'Women Leather Heeled Boots',\n",
       " 'Textured Leather Block Heeled Boots',\n",
       " 'Leather Block Heeled Boots',\n",
       " 'Men Textured Leather Formal Brogues',\n",
       " 'Women Leather Heeled Boots',\n",
       " 'Women Leather Pumps',\n",
       " 'Leather Block Heeled Boots',\n",
       " 'Leather Kitten Heeled Boots',\n",
       " 'Women Leather Heeled Loafers',\n",
       " 'Men Textured Leather Formal Loafers',\n",
       " 'Women Running Shoes',\n",
       " 'Women Charged Impulse Shft',\n",
       " 'Women Eternity NITRO Shoes',\n",
       " 'Men DS LIGHT X-FLY 4 Running',\n",
       " 'Men Woven Design Sneakers',\n",
       " 'Men Textured Leather Formal Oxfords',\n",
       " 'Women Charged Vantage Running',\n",
       " 'Women Charged Rogue 2.5ClrSft',\n",
       " 'Men Lightweight Brogues',\n",
       " 'Men Leather Mid-Top Flat Boots',\n",
       " 'Men Textured Leather Loafers',\n",
       " 'Men HIIT Training Shoes',\n",
       " 'Men Leather Derbys',\n",
       " 'Men Solid Leather Formal Oxfords',\n",
       " 'Men Leather Formal Slip-Ons',\n",
       " 'Men Woven Design Loafers',\n",
       " 'Men Solid Loafers',\n",
       " 'Men Solid Leather Formal Loafers',\n",
       " 'Men Magnify Nitro Running',\n",
       " 'Men Solid Casual Sneakers',\n",
       " 'Men Solid Leather Formal Monks']"
      ]
     },
     "execution_count": 49,
     "metadata": {},
     "output_type": "execute_result"
    }
   ],
   "source": [
    "des=[]\n",
    "\n",
    "for i in description_tag:\n",
    "    des.append(i.text)\n",
    "des"
   ]
  },
  {
   "cell_type": "code",
   "execution_count": 50,
   "id": "565d3147",
   "metadata": {
    "collapsed": true
   },
   "outputs": [
    {
     "name": "stderr",
     "output_type": "stream",
     "text": [
      "<ipython-input-50-375e362aa6eb>:1: DeprecationWarning: find_elements_by_* commands are deprecated. Please use find_elements() instead\n",
      "  price_tag=driver.find_elements_by_xpath(\"//div[@class='product-price']\")\n"
     ]
    },
    {
     "data": {
      "text/plain": [
       "[<selenium.webdriver.remote.webelement.WebElement (session=\"b1e3ca61df83811b4f52f25453fc8daf\", element=\"c631c3ca-43ff-45a6-ad90-b2a9bc9733ef\")>,\n",
       " <selenium.webdriver.remote.webelement.WebElement (session=\"b1e3ca61df83811b4f52f25453fc8daf\", element=\"a9a22291-8caa-48e3-917e-96f18fdb2539\")>,\n",
       " <selenium.webdriver.remote.webelement.WebElement (session=\"b1e3ca61df83811b4f52f25453fc8daf\", element=\"5c47c2e3-dccb-40dc-ae6a-4e5d58d512b0\")>,\n",
       " <selenium.webdriver.remote.webelement.WebElement (session=\"b1e3ca61df83811b4f52f25453fc8daf\", element=\"870e5e59-4014-4509-b455-a78a1b4c8afb\")>,\n",
       " <selenium.webdriver.remote.webelement.WebElement (session=\"b1e3ca61df83811b4f52f25453fc8daf\", element=\"6854cac7-a257-4594-ac89-2bb01336f05a\")>,\n",
       " <selenium.webdriver.remote.webelement.WebElement (session=\"b1e3ca61df83811b4f52f25453fc8daf\", element=\"a3985a42-df14-4e6f-9533-0b2372acfb18\")>,\n",
       " <selenium.webdriver.remote.webelement.WebElement (session=\"b1e3ca61df83811b4f52f25453fc8daf\", element=\"32b671f2-d284-4cad-a962-51827c09a59a\")>,\n",
       " <selenium.webdriver.remote.webelement.WebElement (session=\"b1e3ca61df83811b4f52f25453fc8daf\", element=\"d34e4c92-9bbc-4efb-b2ab-14b5234ecc7b\")>,\n",
       " <selenium.webdriver.remote.webelement.WebElement (session=\"b1e3ca61df83811b4f52f25453fc8daf\", element=\"fb5a09b1-195f-4610-af9f-3175695ac6fe\")>,\n",
       " <selenium.webdriver.remote.webelement.WebElement (session=\"b1e3ca61df83811b4f52f25453fc8daf\", element=\"0d05fa97-cc42-488a-8805-fc47163bab0b\")>,\n",
       " <selenium.webdriver.remote.webelement.WebElement (session=\"b1e3ca61df83811b4f52f25453fc8daf\", element=\"f5a0245a-2b0b-4d81-afb3-016345a47020\")>,\n",
       " <selenium.webdriver.remote.webelement.WebElement (session=\"b1e3ca61df83811b4f52f25453fc8daf\", element=\"8ee7c3ee-1ec6-4673-bcd3-456bda15e096\")>,\n",
       " <selenium.webdriver.remote.webelement.WebElement (session=\"b1e3ca61df83811b4f52f25453fc8daf\", element=\"716e4aaf-8016-4ce9-ad10-6d7773d8d008\")>,\n",
       " <selenium.webdriver.remote.webelement.WebElement (session=\"b1e3ca61df83811b4f52f25453fc8daf\", element=\"87cabe62-7174-4147-9c97-9d1d4e31f0d7\")>,\n",
       " <selenium.webdriver.remote.webelement.WebElement (session=\"b1e3ca61df83811b4f52f25453fc8daf\", element=\"b398a587-e703-4768-ad7b-68d97bb729a7\")>,\n",
       " <selenium.webdriver.remote.webelement.WebElement (session=\"b1e3ca61df83811b4f52f25453fc8daf\", element=\"0db3607e-201d-48b7-bed0-ee834e6b1a09\")>,\n",
       " <selenium.webdriver.remote.webelement.WebElement (session=\"b1e3ca61df83811b4f52f25453fc8daf\", element=\"bb91c867-d63c-411e-b49c-03cdb1633b20\")>,\n",
       " <selenium.webdriver.remote.webelement.WebElement (session=\"b1e3ca61df83811b4f52f25453fc8daf\", element=\"52b5ca6d-93a5-40a2-ae72-14e02ba44e6e\")>,\n",
       " <selenium.webdriver.remote.webelement.WebElement (session=\"b1e3ca61df83811b4f52f25453fc8daf\", element=\"6c6fdccc-fb2d-4b27-a9e2-947cce5dd81e\")>,\n",
       " <selenium.webdriver.remote.webelement.WebElement (session=\"b1e3ca61df83811b4f52f25453fc8daf\", element=\"39a8df31-2766-4dc6-8748-1efc45a441f1\")>,\n",
       " <selenium.webdriver.remote.webelement.WebElement (session=\"b1e3ca61df83811b4f52f25453fc8daf\", element=\"8251052b-b601-49db-8126-eaae66463fea\")>,\n",
       " <selenium.webdriver.remote.webelement.WebElement (session=\"b1e3ca61df83811b4f52f25453fc8daf\", element=\"a76da429-d0db-4507-8e5e-a427030ed462\")>,\n",
       " <selenium.webdriver.remote.webelement.WebElement (session=\"b1e3ca61df83811b4f52f25453fc8daf\", element=\"58cf534b-017c-4850-9bc3-c231eb2baf59\")>,\n",
       " <selenium.webdriver.remote.webelement.WebElement (session=\"b1e3ca61df83811b4f52f25453fc8daf\", element=\"43e8dc63-9b67-4c77-b1e1-30df2d66d3b4\")>,\n",
       " <selenium.webdriver.remote.webelement.WebElement (session=\"b1e3ca61df83811b4f52f25453fc8daf\", element=\"9d4d8af5-eff6-4ab7-8098-371b76872f33\")>,\n",
       " <selenium.webdriver.remote.webelement.WebElement (session=\"b1e3ca61df83811b4f52f25453fc8daf\", element=\"f63e7d6d-2473-47c7-a479-cfd34a79f486\")>,\n",
       " <selenium.webdriver.remote.webelement.WebElement (session=\"b1e3ca61df83811b4f52f25453fc8daf\", element=\"9abe012f-cbf4-45ae-9368-1fb12d4b8935\")>,\n",
       " <selenium.webdriver.remote.webelement.WebElement (session=\"b1e3ca61df83811b4f52f25453fc8daf\", element=\"843b55a1-158e-4d5c-9769-c824c1c5ca29\")>,\n",
       " <selenium.webdriver.remote.webelement.WebElement (session=\"b1e3ca61df83811b4f52f25453fc8daf\", element=\"a31d8099-8d99-41f0-b391-27ef314e83c8\")>,\n",
       " <selenium.webdriver.remote.webelement.WebElement (session=\"b1e3ca61df83811b4f52f25453fc8daf\", element=\"154899cd-846a-494d-a37f-0b8c983455fc\")>,\n",
       " <selenium.webdriver.remote.webelement.WebElement (session=\"b1e3ca61df83811b4f52f25453fc8daf\", element=\"3e3c5337-b800-48e5-9752-bac83b2c300f\")>,\n",
       " <selenium.webdriver.remote.webelement.WebElement (session=\"b1e3ca61df83811b4f52f25453fc8daf\", element=\"bbb27ef2-4e31-4c74-9c60-2997b2a23601\")>,\n",
       " <selenium.webdriver.remote.webelement.WebElement (session=\"b1e3ca61df83811b4f52f25453fc8daf\", element=\"077b8eee-b5d6-407d-8f43-c6af998d5fbf\")>,\n",
       " <selenium.webdriver.remote.webelement.WebElement (session=\"b1e3ca61df83811b4f52f25453fc8daf\", element=\"12a93aad-07a8-4061-9755-2618b5c219fe\")>,\n",
       " <selenium.webdriver.remote.webelement.WebElement (session=\"b1e3ca61df83811b4f52f25453fc8daf\", element=\"882decec-3333-4826-b423-3e16ea6376a9\")>,\n",
       " <selenium.webdriver.remote.webelement.WebElement (session=\"b1e3ca61df83811b4f52f25453fc8daf\", element=\"4edc81d6-f81f-42ff-9f4d-9bf9a8c43fc7\")>,\n",
       " <selenium.webdriver.remote.webelement.WebElement (session=\"b1e3ca61df83811b4f52f25453fc8daf\", element=\"19fc0e64-57db-4728-a3dc-e03c480025b2\")>,\n",
       " <selenium.webdriver.remote.webelement.WebElement (session=\"b1e3ca61df83811b4f52f25453fc8daf\", element=\"5b6bf708-0e3e-4263-be64-c87730a5b376\")>,\n",
       " <selenium.webdriver.remote.webelement.WebElement (session=\"b1e3ca61df83811b4f52f25453fc8daf\", element=\"9cc31929-98cb-4885-ba17-3a4710995fb0\")>,\n",
       " <selenium.webdriver.remote.webelement.WebElement (session=\"b1e3ca61df83811b4f52f25453fc8daf\", element=\"21b16ccd-5a5d-4c9a-8e3b-fc62e711a583\")>,\n",
       " <selenium.webdriver.remote.webelement.WebElement (session=\"b1e3ca61df83811b4f52f25453fc8daf\", element=\"844d2a03-0d39-4c65-856f-e60e8501ecab\")>,\n",
       " <selenium.webdriver.remote.webelement.WebElement (session=\"b1e3ca61df83811b4f52f25453fc8daf\", element=\"465bf395-4db5-478c-9079-e891f190aada\")>,\n",
       " <selenium.webdriver.remote.webelement.WebElement (session=\"b1e3ca61df83811b4f52f25453fc8daf\", element=\"e2a2c5ec-9baa-4b16-ba66-03f6d8c47b02\")>,\n",
       " <selenium.webdriver.remote.webelement.WebElement (session=\"b1e3ca61df83811b4f52f25453fc8daf\", element=\"63781a4b-3ca3-4a5d-a351-14b212265f0e\")>,\n",
       " <selenium.webdriver.remote.webelement.WebElement (session=\"b1e3ca61df83811b4f52f25453fc8daf\", element=\"48c2f810-fa34-4362-b76e-c90293eb1cb7\")>,\n",
       " <selenium.webdriver.remote.webelement.WebElement (session=\"b1e3ca61df83811b4f52f25453fc8daf\", element=\"e9ae2e8c-e33c-4ccb-9d3e-e0afcf94dfca\")>,\n",
       " <selenium.webdriver.remote.webelement.WebElement (session=\"b1e3ca61df83811b4f52f25453fc8daf\", element=\"7506ef35-6986-4b4e-84b8-a28b444f281a\")>,\n",
       " <selenium.webdriver.remote.webelement.WebElement (session=\"b1e3ca61df83811b4f52f25453fc8daf\", element=\"25923035-70d2-4d56-96c6-eddac77b908d\")>,\n",
       " <selenium.webdriver.remote.webelement.WebElement (session=\"b1e3ca61df83811b4f52f25453fc8daf\", element=\"463086a4-2e05-45c7-a8b9-f70f85425497\")>,\n",
       " <selenium.webdriver.remote.webelement.WebElement (session=\"b1e3ca61df83811b4f52f25453fc8daf\", element=\"fc2acb72-ef1c-4fe0-9416-8c3be757108b\")>]"
      ]
     },
     "execution_count": 50,
     "metadata": {},
     "output_type": "execute_result"
    }
   ],
   "source": [
    "price_tag=driver.find_elements_by_xpath(\"//div[@class='product-price']\")\n",
    "price_tag"
   ]
  },
  {
   "cell_type": "code",
   "execution_count": 51,
   "id": "3aabe330",
   "metadata": {
    "collapsed": true
   },
   "outputs": [
    {
     "data": {
      "text/plain": [
       "['Rs. 9999',\n",
       " 'Rs. 7199Rs. 8999(20% OFF)',\n",
       " 'Rs. 10399Rs. 12999(20% OFF)',\n",
       " 'Rs. 9599Rs. 11999(20% OFF)',\n",
       " 'Rs. 8990',\n",
       " 'Rs. 8490',\n",
       " 'Rs. 7999',\n",
       " 'Rs. 7999',\n",
       " 'Rs. 7990',\n",
       " 'Rs. 12999',\n",
       " 'Rs. 7699Rs. 10999(30% OFF)',\n",
       " 'Rs. 7599',\n",
       " 'Rs. 8999Rs. 9999(10% OFF)',\n",
       " 'Rs. 8990',\n",
       " 'Rs. 8990',\n",
       " 'Rs. 9999',\n",
       " 'Rs. 8394Rs. 13990(40% OFF)',\n",
       " 'Rs. 7999',\n",
       " 'Rs. 7199Rs. 8999(20% OFF)',\n",
       " 'Rs. 11000',\n",
       " 'Rs. 10900',\n",
       " 'Rs. 9999',\n",
       " 'Rs. 8490',\n",
       " 'Rs. 9500',\n",
       " 'Rs. 8999',\n",
       " 'Rs. 8900',\n",
       " 'Rs. 8900',\n",
       " 'Rs. 8999',\n",
       " 'Rs. 9990',\n",
       " 'Rs. 7199Rs. 8999(20% OFF)',\n",
       " 'Rs. 7499',\n",
       " 'Rs. 11049Rs. 12999(15% OFF)',\n",
       " 'Rs. 7699Rs. 10999(30% OFF)',\n",
       " 'Rs. 10499',\n",
       " 'Rs. 8490',\n",
       " 'Rs. 7999',\n",
       " 'Rs. 7999',\n",
       " 'Rs. 12799Rs. 15999(20% OFF)',\n",
       " 'Rs. 12999',\n",
       " 'Rs. 7990',\n",
       " 'Rs. 9999',\n",
       " 'Rs. 7199Rs. 7999(10% OFF)',\n",
       " 'Rs. 13490',\n",
       " 'Rs. 8999',\n",
       " 'Rs. 7999',\n",
       " 'Rs. 8990',\n",
       " 'Rs. 8990',\n",
       " 'Rs. 10399Rs. 12999(20% OFF)',\n",
       " 'Rs. 7199Rs. 8999(20% OFF)',\n",
       " 'Rs. 8990']"
      ]
     },
     "execution_count": 51,
     "metadata": {},
     "output_type": "execute_result"
    }
   ],
   "source": [
    "price=[]\n",
    "\n",
    "for i in price_tag:\n",
    "    price.append(i.text)\n",
    "price"
   ]
  },
  {
   "cell_type": "markdown",
   "id": "7c6ac651",
   "metadata": {},
   "source": [
    "# Question No 5"
   ]
  },
  {
   "cell_type": "code",
   "execution_count": 54,
   "id": "78b62ba6",
   "metadata": {},
   "outputs": [],
   "source": [
    "driver.get('https://www.flipkart.com/apple-iphone-11-white-64-gb/p/itmfc6a7091eb20b?pid=MOBFWQ6BVWVEH3XE&lid=LSTMOBFWQ6BVWVEH3XEB1SFMZ&marketplace=FLIPKART&q=iphone+11&store=tyy%2F4io&srno=s_1_1&otracker=search&otracker1=search&fm=organic&iid=0a1435f6-c50b-453a-8fe7-ea9c8666da96.MOBFWQ6BVWVEH3XE.SEARCH&ppt=None&ppn=None&ssid=egv23b861c0000001636504198977&qH=f6cdfdaa9f3c23f3')"
   ]
  },
  {
   "cell_type": "code",
   "execution_count": 63,
   "id": "a8da8bc9",
   "metadata": {},
   "outputs": [
    {
     "name": "stderr",
     "output_type": "stream",
     "text": [
      "<ipython-input-63-a51a791dab19>:1: DeprecationWarning: find_elements_by_* commands are deprecated. Please use find_elements() instead\n",
      "  rating_tag=driver.find_elements_by_xpath(\"//div[@class='_3LWZlK _1BLPMq']\")\n"
     ]
    },
    {
     "data": {
      "text/plain": [
       "[<selenium.webdriver.remote.webelement.WebElement (session=\"b1e3ca61df83811b4f52f25453fc8daf\", element=\"b78f456a-6ce7-489a-a732-b70d6d3acc2f\")>,\n",
       " <selenium.webdriver.remote.webelement.WebElement (session=\"b1e3ca61df83811b4f52f25453fc8daf\", element=\"d7840cc4-f617-4f6c-899f-d979ee01756f\")>,\n",
       " <selenium.webdriver.remote.webelement.WebElement (session=\"b1e3ca61df83811b4f52f25453fc8daf\", element=\"98809a17-69ca-408d-a40d-5e2533090419\")>,\n",
       " <selenium.webdriver.remote.webelement.WebElement (session=\"b1e3ca61df83811b4f52f25453fc8daf\", element=\"ba7aad29-5df0-4d40-a54f-c7fb44bb7fb8\")>,\n",
       " <selenium.webdriver.remote.webelement.WebElement (session=\"b1e3ca61df83811b4f52f25453fc8daf\", element=\"2b1911a6-58af-434d-8617-f6836de96c24\")>,\n",
       " <selenium.webdriver.remote.webelement.WebElement (session=\"b1e3ca61df83811b4f52f25453fc8daf\", element=\"f8dda448-29ed-4960-bc40-527d62966f36\")>,\n",
       " <selenium.webdriver.remote.webelement.WebElement (session=\"b1e3ca61df83811b4f52f25453fc8daf\", element=\"c78e6369-8b85-4be4-952b-4feeba3f0677\")>,\n",
       " <selenium.webdriver.remote.webelement.WebElement (session=\"b1e3ca61df83811b4f52f25453fc8daf\", element=\"bb5b295c-41c3-488a-8d46-18b232a7ac41\")>,\n",
       " <selenium.webdriver.remote.webelement.WebElement (session=\"b1e3ca61df83811b4f52f25453fc8daf\", element=\"9cda9293-2f43-4aa5-b5d3-6faf9f8c07f9\")>,\n",
       " <selenium.webdriver.remote.webelement.WebElement (session=\"b1e3ca61df83811b4f52f25453fc8daf\", element=\"fccc72f5-eeaa-4ee2-a000-e5bc70150ae4\")>]"
      ]
     },
     "execution_count": 63,
     "metadata": {},
     "output_type": "execute_result"
    }
   ],
   "source": [
    "rating_tag=driver.find_elements_by_xpath(\"//div[@class='_3LWZlK _1BLPMq']\")\n",
    "rating_tag"
   ]
  },
  {
   "cell_type": "code",
   "execution_count": 64,
   "id": "e3c685e1",
   "metadata": {},
   "outputs": [
    {
     "data": {
      "text/plain": [
       "['5', '5', '5', '', '', '', '', '', '', '']"
      ]
     },
     "execution_count": 64,
     "metadata": {},
     "output_type": "execute_result"
    }
   ],
   "source": [
    "rating=[]\n",
    "\n",
    "for i in rating_tag:\n",
    "    rating.append(i.text)\n",
    "rating"
   ]
  },
  {
   "cell_type": "code",
   "execution_count": 65,
   "id": "062ad80e",
   "metadata": {
    "collapsed": true
   },
   "outputs": [
    {
     "name": "stderr",
     "output_type": "stream",
     "text": [
      "<ipython-input-65-ec514c9ca119>:1: DeprecationWarning: find_elements_by_* commands are deprecated. Please use find_elements() instead\n",
      "  review_tag=driver.find_elements_by_xpath(\"//p[@class='_2-N8zT']\")\n"
     ]
    },
    {
     "data": {
      "text/plain": [
       "[<selenium.webdriver.remote.webelement.WebElement (session=\"b1e3ca61df83811b4f52f25453fc8daf\", element=\"5ea0f02e-2418-48bc-a6cb-e299e203e3ce\")>,\n",
       " <selenium.webdriver.remote.webelement.WebElement (session=\"b1e3ca61df83811b4f52f25453fc8daf\", element=\"0d32e9e5-4dc5-46ba-9110-e7c07a574d8d\")>,\n",
       " <selenium.webdriver.remote.webelement.WebElement (session=\"b1e3ca61df83811b4f52f25453fc8daf\", element=\"81ae6369-1ef5-45d6-9ce5-393b78b85e83\")>,\n",
       " <selenium.webdriver.remote.webelement.WebElement (session=\"b1e3ca61df83811b4f52f25453fc8daf\", element=\"11025b72-7ab3-483a-aa1f-7fbde6413ef6\")>,\n",
       " <selenium.webdriver.remote.webelement.WebElement (session=\"b1e3ca61df83811b4f52f25453fc8daf\", element=\"bb7ed2a2-bd16-49df-8a4b-375a2514cb58\")>,\n",
       " <selenium.webdriver.remote.webelement.WebElement (session=\"b1e3ca61df83811b4f52f25453fc8daf\", element=\"c0f71192-5611-41d5-a7fe-0835778735a8\")>,\n",
       " <selenium.webdriver.remote.webelement.WebElement (session=\"b1e3ca61df83811b4f52f25453fc8daf\", element=\"d2491060-4076-4d09-9453-760fbba5f04e\")>,\n",
       " <selenium.webdriver.remote.webelement.WebElement (session=\"b1e3ca61df83811b4f52f25453fc8daf\", element=\"39bc01ee-54dc-4e9a-b3d2-6d6b4fa34f10\")>,\n",
       " <selenium.webdriver.remote.webelement.WebElement (session=\"b1e3ca61df83811b4f52f25453fc8daf\", element=\"e5ddc01d-857c-40a5-a79e-199bf1636dbd\")>,\n",
       " <selenium.webdriver.remote.webelement.WebElement (session=\"b1e3ca61df83811b4f52f25453fc8daf\", element=\"9588e117-6a31-4ec9-b128-7e53cbfc2180\")>]"
      ]
     },
     "execution_count": 65,
     "metadata": {},
     "output_type": "execute_result"
    }
   ],
   "source": [
    "review_tag=driver.find_elements_by_xpath(\"//p[@class='_2-N8zT']\")\n",
    "review_tag"
   ]
  },
  {
   "cell_type": "code",
   "execution_count": 66,
   "id": "9fd81535",
   "metadata": {},
   "outputs": [
    {
     "data": {
      "text/plain": [
       "['Brilliant', 'Simply awesome', 'Perfect product!', '', '', '', '', '', '', '']"
      ]
     },
     "execution_count": 66,
     "metadata": {},
     "output_type": "execute_result"
    }
   ],
   "source": [
    "review=[]\n",
    "\n",
    "for i in review_tag:\n",
    "    review.append(i.text)\n",
    "review"
   ]
  },
  {
   "cell_type": "markdown",
   "id": "49f9ee94",
   "metadata": {},
   "source": [
    "# Question No 8"
   ]
  },
  {
   "cell_type": "code",
   "execution_count": 5,
   "id": "669d520b",
   "metadata": {},
   "outputs": [],
   "source": [
    "driver.get('https://www.amazon.in/')"
   ]
  },
  {
   "cell_type": "code",
   "execution_count": 6,
   "id": "6d0f832f",
   "metadata": {},
   "outputs": [
    {
     "name": "stderr",
     "output_type": "stream",
     "text": [
      "<ipython-input-6-57138fb47c42>:1: DeprecationWarning: find_element_by_* commands are deprecated. Please use find_element() instead\n",
      "  search=driver.find_element_by_xpath(\"//input[@id='twotabsearchtextbox']\")\n"
     ]
    }
   ],
   "source": [
    "search=driver.find_element_by_xpath(\"//input[@id='twotabsearchtextbox']\")\n",
    "search.send_keys('Laptop')"
   ]
  },
  {
   "cell_type": "code",
   "execution_count": 7,
   "id": "b984c470",
   "metadata": {},
   "outputs": [
    {
     "name": "stderr",
     "output_type": "stream",
     "text": [
      "<ipython-input-7-6266a1bcb4bf>:1: DeprecationWarning: find_element_by_* commands are deprecated. Please use find_element() instead\n",
      "  search_button=driver.find_element_by_xpath(\"//div[@class='nav-search-submit nav-sprite']\")\n"
     ]
    },
    {
     "data": {
      "text/plain": [
       "<bound method WebElement.click of <selenium.webdriver.remote.webelement.WebElement (session=\"0778966c76b6c5de4fd46c7f44acb731\", element=\"fac25ed6-cecd-45a2-bb82-acc5eb88f5a7\")>>"
      ]
     },
     "execution_count": 7,
     "metadata": {},
     "output_type": "execute_result"
    }
   ],
   "source": [
    "search_button=driver.find_element_by_xpath(\"//div[@class='nav-search-submit nav-sprite']\")\n",
    "search_button.click"
   ]
  },
  {
   "cell_type": "code",
   "execution_count": 35,
   "id": "b6b6e54a",
   "metadata": {},
   "outputs": [
    {
     "name": "stderr",
     "output_type": "stream",
     "text": [
      "<ipython-input-35-2b83c0416982>:1: DeprecationWarning: find_element_by_* commands are deprecated. Please use find_element() instead\n",
      "  filter_cpu=driver.find_element_by_xpath('//*[@id=\"p_n_feature_thirteen_browse-bin/12598163031\"]/span/a/div/label/i')\n"
     ]
    },
    {
     "data": {
      "text/plain": [
       "<bound method WebElement.click of <selenium.webdriver.remote.webelement.WebElement (session=\"3803c0b2421e5934a70b8bfb0694ff7a\", element=\"15ee2a71-d209-4c36-ad20-7a8ef69d055d\")>>"
      ]
     },
     "execution_count": 35,
     "metadata": {},
     "output_type": "execute_result"
    }
   ],
   "source": [
    "filter_cpu=driver.find_element_by_xpath('//*[@id=\"p_n_feature_thirteen_browse-bin/12598163031\"]/span/a/div/label/i')\n",
    "filter_cpu.click"
   ]
  },
  {
   "cell_type": "code",
   "execution_count": 38,
   "id": "04ec9782",
   "metadata": {
    "collapsed": true
   },
   "outputs": [
    {
     "name": "stderr",
     "output_type": "stream",
     "text": [
      "<ipython-input-38-c58af59ca3d8>:1: DeprecationWarning: find_elements_by_* commands are deprecated. Please use find_elements() instead\n",
      "  title_tag=driver.find_elements_by_xpath(\"//span[@class='a-size-medium a-color-base a-text-normal']\")\n"
     ]
    },
    {
     "data": {
      "text/plain": [
       "[<selenium.webdriver.remote.webelement.WebElement (session=\"3803c0b2421e5934a70b8bfb0694ff7a\", element=\"4194d9ff-94c0-4658-a833-72ad7cea835b\")>,\n",
       " <selenium.webdriver.remote.webelement.WebElement (session=\"3803c0b2421e5934a70b8bfb0694ff7a\", element=\"8387596d-2fa4-4758-9b40-ca43f1a3b848\")>,\n",
       " <selenium.webdriver.remote.webelement.WebElement (session=\"3803c0b2421e5934a70b8bfb0694ff7a\", element=\"644d71f5-bba2-44ed-aaab-12f31dbe84bf\")>,\n",
       " <selenium.webdriver.remote.webelement.WebElement (session=\"3803c0b2421e5934a70b8bfb0694ff7a\", element=\"2ef074c1-eeab-45bc-89bf-9911ec8abd97\")>,\n",
       " <selenium.webdriver.remote.webelement.WebElement (session=\"3803c0b2421e5934a70b8bfb0694ff7a\", element=\"ca4390f8-0b96-4c76-a8a1-4f214001082b\")>,\n",
       " <selenium.webdriver.remote.webelement.WebElement (session=\"3803c0b2421e5934a70b8bfb0694ff7a\", element=\"bee58f73-c660-4ece-b904-065070ba1bed\")>,\n",
       " <selenium.webdriver.remote.webelement.WebElement (session=\"3803c0b2421e5934a70b8bfb0694ff7a\", element=\"efb6f7c2-896b-43ca-98d3-212c427869b3\")>,\n",
       " <selenium.webdriver.remote.webelement.WebElement (session=\"3803c0b2421e5934a70b8bfb0694ff7a\", element=\"4abc25c3-9429-443c-b316-d62477804406\")>,\n",
       " <selenium.webdriver.remote.webelement.WebElement (session=\"3803c0b2421e5934a70b8bfb0694ff7a\", element=\"59f54463-ac2f-4c2f-b94d-721c9985c8db\")>,\n",
       " <selenium.webdriver.remote.webelement.WebElement (session=\"3803c0b2421e5934a70b8bfb0694ff7a\", element=\"c235a305-1479-4366-98aa-3e00cfe763cb\")>,\n",
       " <selenium.webdriver.remote.webelement.WebElement (session=\"3803c0b2421e5934a70b8bfb0694ff7a\", element=\"e91bfcc3-674a-4bc1-baee-37f6deda47f0\")>,\n",
       " <selenium.webdriver.remote.webelement.WebElement (session=\"3803c0b2421e5934a70b8bfb0694ff7a\", element=\"932f00ed-9044-451e-b87b-ae75ddae1a04\")>,\n",
       " <selenium.webdriver.remote.webelement.WebElement (session=\"3803c0b2421e5934a70b8bfb0694ff7a\", element=\"11ebdd3b-0b77-4494-b643-acf567d1bd30\")>,\n",
       " <selenium.webdriver.remote.webelement.WebElement (session=\"3803c0b2421e5934a70b8bfb0694ff7a\", element=\"1878d872-8a0d-43e9-a0e7-d6e31eb532c2\")>,\n",
       " <selenium.webdriver.remote.webelement.WebElement (session=\"3803c0b2421e5934a70b8bfb0694ff7a\", element=\"e7b201fe-0424-4d55-9998-abb44ef1aaba\")>,\n",
       " <selenium.webdriver.remote.webelement.WebElement (session=\"3803c0b2421e5934a70b8bfb0694ff7a\", element=\"d5c75a64-3cbe-47b3-8eca-12d3f188c291\")>,\n",
       " <selenium.webdriver.remote.webelement.WebElement (session=\"3803c0b2421e5934a70b8bfb0694ff7a\", element=\"c9f69960-5e22-4872-9487-4cd95eb6e1a7\")>,\n",
       " <selenium.webdriver.remote.webelement.WebElement (session=\"3803c0b2421e5934a70b8bfb0694ff7a\", element=\"32b6c8ab-5faf-4ad1-9fb4-a8247cdab24f\")>,\n",
       " <selenium.webdriver.remote.webelement.WebElement (session=\"3803c0b2421e5934a70b8bfb0694ff7a\", element=\"c920bd9d-2d57-417e-933d-7c2c9e980b35\")>,\n",
       " <selenium.webdriver.remote.webelement.WebElement (session=\"3803c0b2421e5934a70b8bfb0694ff7a\", element=\"a648f4c7-a20a-42b0-9a8e-cb5bb19456d3\")>,\n",
       " <selenium.webdriver.remote.webelement.WebElement (session=\"3803c0b2421e5934a70b8bfb0694ff7a\", element=\"13d69723-bec2-400a-baa2-897471f1b6a3\")>,\n",
       " <selenium.webdriver.remote.webelement.WebElement (session=\"3803c0b2421e5934a70b8bfb0694ff7a\", element=\"1da7c67a-8af0-4a80-b63e-2ebd290d9b11\")>,\n",
       " <selenium.webdriver.remote.webelement.WebElement (session=\"3803c0b2421e5934a70b8bfb0694ff7a\", element=\"06831047-9677-404a-bfbe-d4338e08a4b8\")>,\n",
       " <selenium.webdriver.remote.webelement.WebElement (session=\"3803c0b2421e5934a70b8bfb0694ff7a\", element=\"272941d5-472e-49ac-ad9b-b777dd237c19\")>,\n",
       " <selenium.webdriver.remote.webelement.WebElement (session=\"3803c0b2421e5934a70b8bfb0694ff7a\", element=\"39388a52-cdce-42d9-b8c9-6a37bbbc97f7\")>,\n",
       " <selenium.webdriver.remote.webelement.WebElement (session=\"3803c0b2421e5934a70b8bfb0694ff7a\", element=\"4ce38720-6b24-46d7-b7f8-48aa8ceb02a2\")>,\n",
       " <selenium.webdriver.remote.webelement.WebElement (session=\"3803c0b2421e5934a70b8bfb0694ff7a\", element=\"bffd185d-cb47-4b5b-a305-5575f18e01ab\")>,\n",
       " <selenium.webdriver.remote.webelement.WebElement (session=\"3803c0b2421e5934a70b8bfb0694ff7a\", element=\"22351cbf-9ff8-4e42-961b-6d015c5d87fe\")>,\n",
       " <selenium.webdriver.remote.webelement.WebElement (session=\"3803c0b2421e5934a70b8bfb0694ff7a\", element=\"8ceb6bfc-d2e8-40ee-aeef-9ac46112ccd1\")>,\n",
       " <selenium.webdriver.remote.webelement.WebElement (session=\"3803c0b2421e5934a70b8bfb0694ff7a\", element=\"33b382fd-b240-45e4-82f4-cb41dd245885\")>]"
      ]
     },
     "execution_count": 38,
     "metadata": {},
     "output_type": "execute_result"
    }
   ],
   "source": [
    "title_tag=driver.find_elements_by_xpath(\"//span[@class='a-size-medium a-color-base a-text-normal']\")\n",
    "title_tag"
   ]
  },
  {
   "cell_type": "code",
   "execution_count": 39,
   "id": "c2ae91a7",
   "metadata": {
    "collapsed": true
   },
   "outputs": [
    {
     "data": {
      "text/plain": [
       "['LG Gram 17 Ultra-Light Intel Evo 11th Gen Core i7,16 GB RAM, 512 GB SSD, Win-10, Iris Xe Graphics, 17-inches (43.18 cms), Thunderbolt 4, USC -C x 2 (with Power), 1.35 kg, 3 Yr Warranty (17Z90P, Black)',\n",
       " 'LG Gram 14 Ultralight Intel Evo 11th Gen Core i7,16 GB RAM, 512 GB SSD, Win-10, Iris Xe Graphics, 14-inches (35.56 cms), Thunderbolt 4, USC -Cx2 (with Power), 999 Grams, 3 Yr Warranty (14Z90P, Black)',\n",
       " 'ASUS TUF Gaming F17 (2021), 17.3-inch (43.94 cms) FHD 144Hz, Intel Core i7-11800H 11th Gen, GeForce RTX 3050 Ti 4GB Graphics, Gaming Laptop (16GB/1TB SSD/Windows 10/Eclipse Gray/2.6 Kg) FX766HE-HX022T',\n",
       " 'Lenovo Yoga 7i 11th Gen Intel Core i7-1165G7 14 inches FHD IPS 2-in-1 Touchscreen Business Laptop (16GB/512GB SSD/Windows 10/MS Office/Digital Pen/Fingerprint Reader/Slate Grey/1.43Kg), 82BH004HIN',\n",
       " 'Mi Notebook Horizon Edition 14 Intel Core i7-10510U 10th Gen Thin and Light Laptop(8GB/512GB SSD/Windows 10/Nvidia MX350 2GB Graphics/Grey/1.35Kg)(Without Webcam) XMA1904-AF',\n",
       " 'Dell 14 (2021) i7-1195G7 2in1 Touch Screen Laptop, 16GB, 512GB SSD, Win 10 + MS Office, 14.0\" (35.56 cms) FHD Display, Backlit KB, FPR + Active Pen, Platinum Silver (Inspiron 5410, D560596WIN9S)',\n",
       " 'HP Pavilion (2021) Intel 11th Gen Core i7 14 inches FHD Screen Thin & Light Laptop, 16 GB RAM, 1TB SSD, Iris Xe Graphics, Windows 10, MS Office, Backlit Keyboard, 1.41kg (14-dv0058TU)',\n",
       " 'Lenovo Legion 5 10th Gen Intel Core i7-10750H 15.6\" (39.63cm) FHD IPS Gaming Laptop (16GB/512GB SSD/Windows 10/NVIDIA GTX 1650 4GB/120Hz Refresh Display/Phantom Black/2.3Kg), 82AU00PNIN',\n",
       " 'ASUS TUF Gaming F15 (2021) 15.6-inch (39.62 cms) FHD 144Hz, Intel Core i7-11800H 11th Gen, RTX 3050 4GB Graphics, Gaming Laptop (8GB/1TB SSD/Windows 10/Gray/2.3 Kg), FX566HCB-HN231T, Eclipse Gray',\n",
       " 'ASUS ZenBook 14 (2020) Intel Core i7-1165G7 11th Gen 14-inch (35.56 cms) FHD Thin & Light Laptop (16GB/512GB SSD/Office 2019/Windows 10/Intel Iris Xᵉ Graphics/Pine Grey/1.17 kg), UX425EA-KI701TS',\n",
       " 'ASUS TUF Dash F15 (2021), 15.6\" (39.62 cms) FHD 144Hz, Intel Core i7-11370H 11th Gen, RTX 3050 Ti 4GB Graphics, Gaming Laptop (16GB/1TB SSD/Office 2019/Windows 10/Eclipse Gray/2 kg), FX516PE-HN088TS',\n",
       " 'Acer Nitro 5 11th Gen Intel Core i7-11800H 15.6\" (39.62cms) Full HD Gaming Laptop (16 GB/256GB SSD/1 TB HDD/Win 10/RTX 3050 Ti 4GB Graphics/144 Hz, Black, 2.4 kg/RGB Backlit Keyboard) AN515-57',\n",
       " 'ASUS TUF Dash F15 15.6-inch FHD 144Hz, Intel Core i7-11370H 11th Gen RTX 3050 4GB Gaming Laptop (16GB RAM/512GB SSD/Win10/White/2 kg)+ Wireless Mouse + Microsoft 365 Personal 12-Month Subscription',\n",
       " '(Renewed) Dell Intel Core i7 6th Gen 14-Inch(35.56 cms) 1366 x 768 HD Laptop (16GB RAM /1TB SSD/Windows 10 Pro/MS Office/ Intel HD Integrated Graphics/ 1.5Kg,Black) Latitude E5470',\n",
       " 'ASUS ZenBook 13 OLED (2021) Intel Core i7-1165G7 11th Gen 14\" (35.56cms) FHD Thin and Light Laptop (16GB/512GB SSD/Windows 10/Office 2019/Intel Iris Xᵉ Graphics/Pine Grey/1.14 kg), UX325EA-KG722TS',\n",
       " 'Lenovo Legion 5 11th Gen Intel Core i7 15.6\"(39.62cm) FHD IPS Gaming Laptop (16GB/512GB SSD/NVIDIA RTX 3050 4GB/120Hz Refresh Rate/Windows 10/MS Office/Backlit Keyboard/Phantom Blue/2.4Kg), 82JK007WIN',\n",
       " '(Renewed) Dell Intel Core i7 6th Gen 14-Inch(35.56 cms) 1366 x 768 HD Laptop (16GB RAM /2TB HDD/Windows 10 Pro/MS Office/ Intel HD Integrated Graphics/ 1.5Kg,Black) Latitude E5470',\n",
       " '(Renewed) Dell Intel Core i7 6th Gen 14-Inch(35.56 cms) 1366 x 768 HD Laptop (8GB RAM/1TB HDD/Windows 10 Pro/MS Office/ Intel HD Integrated Graphics/ 1.5Kg,Black) Latitude E5470',\n",
       " '(Renewed) Dell Intel Core i7 6th Gen 14-Inch(35.56 cms) 1366 x 768 HD Laptop (16GB RAM /1TB HDD/Windows 10 Pro/MS Office/ Intel HD Integrated Graphics/ 1.5Kg,Black) Latitude E5470',\n",
       " '(Renewed) Dell Intel Core i7 6th Gen 14-Inch(35.56 cms) 1366 x 768 HD Laptop (16GB RAM/256GB SSD/Windows 10 Pro/MS Office/ Intel HD Integrated Graphics/ 1.5Kg,Black) Latitude E5470',\n",
       " 'ASUS TUF Dash F15 (2021) 15.6-inch (39.62 cms) FHD 144Hz, Intel Core i7-11370H 11th Gen, RTX 3050 Ti 4GB Graphics, Gaming Laptop (16GB/1TB SSD/Office 2019/Windows 10/Gray/2 Kg), FX516PEZ-HN105TS',\n",
       " 'HP Pavilion 13(2021) 11th Gen Intel Core i7 Laptop, 16GB RAM, 1TB SSD, 13.3-inch(33.8 cm) FHD Screen, Win 10, MS Office, Ceramic White, 1.24 Kg (13-bb0078TU)',\n",
       " '(Renewed) Dell Intel Core i7 4th Gen 14 Inch(35.56 cms) 1366x768 HD Laptop (8GB RAM/500GB HDD/Windows 10 Pro/MS Office 2019/Intel Integrated HD Graphics 4600/2.1Kg,Silver) Latitude E6440',\n",
       " '(Renewed) Dell Intel Core i7 6th Gen 14-Inch(35.56 cms) 1366 x 768 HD Laptop (4GB RAM/500GB HDD/Windows 10 Pro/MS Office/ Intel HD Integrated Graphics/ 1.5Kg,Black) Latitude E5470',\n",
       " 'Lenovo Legion 5 11th Gen Intel Core i7 15.6\"(39.62cm) FHD IPS Gaming Laptop (16GB/512GB SSD/NVIDIA RTX 3050 4GB/120Hz Refresh Rate/Windows 10/MS Office/Backlit Keyboard/Phantom Blue/2.4Kg), 82JK007WIN',\n",
       " 'ASUS TUF Dash F15 (2021) 15.6-inch (39.62 cms) FHD 144Hz, Intel Core i7-11370H 11th Gen, RTX 3050 4GB Graphics, Gaming Laptop (16GB/512GB SSD/Windows 10/Gray/2 Kg), FX516PCZ-HN091T',\n",
       " 'Lenovo ThinkBook 15 Intel 11th Gen Core i7 15.6\"(39.62 cm)FHD IPS 300 nits Antiglare 100% sRGB Thin & Light Laptop(16GB/1TB HDD+128GB SSD/Windows 10/MS Office/3 Yr Onsite Warranty/1.7 Kg) 20VEA0HBIH',\n",
       " 'Lenovo ThinkBook 13s Intel 11th Gen Core i7 13.3\"(33.78 cm) WQXGA IPS 300 nits 100% sRGB Dolby Vision Thin and Light Laptop (16GB/512GB SSD/Windows 10/MS Office/FPR/Mineral Grey/1.26 Kg), 20V9A05FIH',\n",
       " 'HP Envy Intel 11th Gen Core i7 Processor 13.3 inches FHD Touchscreen Gaming Laptop (16GB/1TB SSD/Windows 10/NVIDIA MX450 2GB/Natural Silver/1.3 kg), 13-ba1018TX',\n",
       " 'ASUS ZenBook 14 (2020) Intel Core i7-1165G7 11th Gen 14-inch (35.56 cms) FHD Thin & Light Laptop (16GB/512GB SSD/Office 2019/Windows 10/Intel Iris Xᵉ Graphics/Pine Grey/1.17 kg), UX425EA-KI701TS']"
      ]
     },
     "execution_count": 39,
     "metadata": {},
     "output_type": "execute_result"
    }
   ],
   "source": [
    "title=[]\n",
    "\n",
    "for i in title_tag:\n",
    "    title.append(i.text)\n",
    "title[0:10]"
   ]
  },
  {
   "cell_type": "code",
   "execution_count": 10,
   "id": "b9c5d930",
   "metadata": {},
   "outputs": [
    {
     "name": "stderr",
     "output_type": "stream",
     "text": [
      "<ipython-input-10-e0dd4f33b378>:1: DeprecationWarning: find_elements_by_* commands are deprecated. Please use find_elements() instead\n",
      "  rating_tag=driver.find_elements_by_xpath(\"//i[@class='a-icon a-icon-star-small a-star-small-4 aok-align-bottom']\")\n"
     ]
    },
    {
     "data": {
      "text/plain": [
       "[<selenium.webdriver.remote.webelement.WebElement (session=\"0778966c76b6c5de4fd46c7f44acb731\", element=\"574d8fc8-43fe-427c-bcd9-b16b38f0a39b\")>,\n",
       " <selenium.webdriver.remote.webelement.WebElement (session=\"0778966c76b6c5de4fd46c7f44acb731\", element=\"820749d0-da18-49bf-8d2f-b396f6d6107e\")>,\n",
       " <selenium.webdriver.remote.webelement.WebElement (session=\"0778966c76b6c5de4fd46c7f44acb731\", element=\"1e85179d-1ccd-47c1-bbc3-86fbbdacbef8\")>,\n",
       " <selenium.webdriver.remote.webelement.WebElement (session=\"0778966c76b6c5de4fd46c7f44acb731\", element=\"9a18b8f8-e00c-4036-9c27-814d370e3443\")>,\n",
       " <selenium.webdriver.remote.webelement.WebElement (session=\"0778966c76b6c5de4fd46c7f44acb731\", element=\"6b5fc476-081c-4aed-b64c-a0ca6cfc9516\")>,\n",
       " <selenium.webdriver.remote.webelement.WebElement (session=\"0778966c76b6c5de4fd46c7f44acb731\", element=\"20d074a4-8a4b-4951-a608-58f9f403e141\")>]"
      ]
     },
     "execution_count": 10,
     "metadata": {},
     "output_type": "execute_result"
    }
   ],
   "source": [
    "rating_tag=driver.find_elements_by_xpath(\"//i[@class='a-icon a-icon-star-small a-star-small-4 aok-align-bottom']\")\n",
    "rating_tag"
   ]
  },
  {
   "cell_type": "code",
   "execution_count": 62,
   "id": "bc4d47c5",
   "metadata": {},
   "outputs": [
    {
     "data": {
      "text/plain": [
       "['', '', '', '', '', '', '', '', '', '', '']"
      ]
     },
     "execution_count": 62,
     "metadata": {},
     "output_type": "execute_result"
    }
   ],
   "source": [
    "rating=[]\n",
    "\n",
    "for i in rating_tag:\n",
    "    rating.append(i.text)\n",
    "rating"
   ]
  },
  {
   "cell_type": "code",
   "execution_count": 64,
   "id": "cbf49d1f",
   "metadata": {},
   "outputs": [
    {
     "name": "stderr",
     "output_type": "stream",
     "text": [
      "<ipython-input-64-41fd638bcae8>:1: DeprecationWarning: find_elements_by_* commands are deprecated. Please use find_elements() instead\n",
      "  price_tag=driver.find_elements_by_xpath(\"//span[@class='a-price-whole']\")\n"
     ]
    },
    {
     "data": {
      "text/plain": [
       "[<selenium.webdriver.remote.webelement.WebElement (session=\"3803c0b2421e5934a70b8bfb0694ff7a\", element=\"bc63a923-301f-4117-9841-20729ffcef40\")>,\n",
       " <selenium.webdriver.remote.webelement.WebElement (session=\"3803c0b2421e5934a70b8bfb0694ff7a\", element=\"e9f6dea4-7f51-4b6c-b463-922bb471ff8b\")>,\n",
       " <selenium.webdriver.remote.webelement.WebElement (session=\"3803c0b2421e5934a70b8bfb0694ff7a\", element=\"905b6bee-137d-49a9-ac8b-d63db30bb7c0\")>,\n",
       " <selenium.webdriver.remote.webelement.WebElement (session=\"3803c0b2421e5934a70b8bfb0694ff7a\", element=\"7c62c42f-5565-4512-9e75-ecea33fcb797\")>,\n",
       " <selenium.webdriver.remote.webelement.WebElement (session=\"3803c0b2421e5934a70b8bfb0694ff7a\", element=\"8a348b44-73ed-423e-94ef-c11fc61b9fbd\")>,\n",
       " <selenium.webdriver.remote.webelement.WebElement (session=\"3803c0b2421e5934a70b8bfb0694ff7a\", element=\"b959e0e0-7165-470d-af17-e49ed579e6d6\")>,\n",
       " <selenium.webdriver.remote.webelement.WebElement (session=\"3803c0b2421e5934a70b8bfb0694ff7a\", element=\"8303fc04-5561-4c96-9e8f-45ab5b2a8349\")>,\n",
       " <selenium.webdriver.remote.webelement.WebElement (session=\"3803c0b2421e5934a70b8bfb0694ff7a\", element=\"bbece582-2ffe-494f-a7ae-f53bac2e4682\")>,\n",
       " <selenium.webdriver.remote.webelement.WebElement (session=\"3803c0b2421e5934a70b8bfb0694ff7a\", element=\"5d2f06f7-e314-4489-bb73-66acfbadf506\")>,\n",
       " <selenium.webdriver.remote.webelement.WebElement (session=\"3803c0b2421e5934a70b8bfb0694ff7a\", element=\"a7f6caa2-5491-4262-949d-42db27b7e9cd\")>,\n",
       " <selenium.webdriver.remote.webelement.WebElement (session=\"3803c0b2421e5934a70b8bfb0694ff7a\", element=\"e00ab5ea-d247-4001-9559-d44035f9eda4\")>,\n",
       " <selenium.webdriver.remote.webelement.WebElement (session=\"3803c0b2421e5934a70b8bfb0694ff7a\", element=\"f81c91da-f8a6-48ac-8c16-2285d3479819\")>,\n",
       " <selenium.webdriver.remote.webelement.WebElement (session=\"3803c0b2421e5934a70b8bfb0694ff7a\", element=\"e3043092-9fbe-488c-bcb5-fa68f26d2b9a\")>,\n",
       " <selenium.webdriver.remote.webelement.WebElement (session=\"3803c0b2421e5934a70b8bfb0694ff7a\", element=\"c55832b0-c32c-4ba3-bc8d-86035084a0de\")>,\n",
       " <selenium.webdriver.remote.webelement.WebElement (session=\"3803c0b2421e5934a70b8bfb0694ff7a\", element=\"344497bd-a13b-4196-9254-5fa5991fea5f\")>,\n",
       " <selenium.webdriver.remote.webelement.WebElement (session=\"3803c0b2421e5934a70b8bfb0694ff7a\", element=\"125fa43e-5960-4d75-ba4f-51fec37f6817\")>,\n",
       " <selenium.webdriver.remote.webelement.WebElement (session=\"3803c0b2421e5934a70b8bfb0694ff7a\", element=\"8fadf728-d6c9-41fc-a249-caad545a3be8\")>,\n",
       " <selenium.webdriver.remote.webelement.WebElement (session=\"3803c0b2421e5934a70b8bfb0694ff7a\", element=\"c7cfb63c-296f-458a-91c1-6fda426e1836\")>,\n",
       " <selenium.webdriver.remote.webelement.WebElement (session=\"3803c0b2421e5934a70b8bfb0694ff7a\", element=\"0f8aae7b-258c-4350-b086-57c49992c9a0\")>,\n",
       " <selenium.webdriver.remote.webelement.WebElement (session=\"3803c0b2421e5934a70b8bfb0694ff7a\", element=\"92fd3de5-2f9b-42b9-8547-a01334dd1272\")>,\n",
       " <selenium.webdriver.remote.webelement.WebElement (session=\"3803c0b2421e5934a70b8bfb0694ff7a\", element=\"c14ab33a-e3a2-4912-a84c-a80aaf28f8b7\")>,\n",
       " <selenium.webdriver.remote.webelement.WebElement (session=\"3803c0b2421e5934a70b8bfb0694ff7a\", element=\"205e0acd-00f2-4d54-b467-35e5347c6bc1\")>,\n",
       " <selenium.webdriver.remote.webelement.WebElement (session=\"3803c0b2421e5934a70b8bfb0694ff7a\", element=\"4c82a166-9041-4de6-8873-a074f0335ac1\")>,\n",
       " <selenium.webdriver.remote.webelement.WebElement (session=\"3803c0b2421e5934a70b8bfb0694ff7a\", element=\"69d87f04-5f5a-422a-83d3-7f144f44144c\")>,\n",
       " <selenium.webdriver.remote.webelement.WebElement (session=\"3803c0b2421e5934a70b8bfb0694ff7a\", element=\"f057d242-030e-4a55-8b72-96dab43ca0b3\")>,\n",
       " <selenium.webdriver.remote.webelement.WebElement (session=\"3803c0b2421e5934a70b8bfb0694ff7a\", element=\"79bb897c-1f58-469e-8a64-4050c34b9411\")>,\n",
       " <selenium.webdriver.remote.webelement.WebElement (session=\"3803c0b2421e5934a70b8bfb0694ff7a\", element=\"fc2366ac-2ef3-403d-9d20-3cdbde35649a\")>,\n",
       " <selenium.webdriver.remote.webelement.WebElement (session=\"3803c0b2421e5934a70b8bfb0694ff7a\", element=\"1abd611c-fee3-472a-8526-1a69f6843ee3\")>,\n",
       " <selenium.webdriver.remote.webelement.WebElement (session=\"3803c0b2421e5934a70b8bfb0694ff7a\", element=\"8d6f06a0-4dba-4f66-a109-128f07c51caa\")>,\n",
       " <selenium.webdriver.remote.webelement.WebElement (session=\"3803c0b2421e5934a70b8bfb0694ff7a\", element=\"4ca7c1e6-43c8-4b50-bbd8-86d85cf960ac\")>]"
      ]
     },
     "execution_count": 64,
     "metadata": {},
     "output_type": "execute_result"
    }
   ],
   "source": [
    "price_tag=driver.find_elements_by_xpath(\"//span[@class='a-price-whole']\")\n",
    "price_tag"
   ]
  },
  {
   "cell_type": "code",
   "execution_count": 65,
   "id": "83b6ca5c",
   "metadata": {
    "collapsed": true
   },
   "outputs": [
    {
     "data": {
      "text/plain": [
       "['1,06,057',\n",
       " '87,999',\n",
       " '1,13,990',\n",
       " '1,09,990',\n",
       " '59,990',\n",
       " '88,490',\n",
       " '84,990',\n",
       " '1,05,000',\n",
       " '99,990',\n",
       " '96,990',\n",
       " '95,990',\n",
       " '85,911',\n",
       " '85,590',\n",
       " '57,999',\n",
       " '98,990',\n",
       " '1,11,030',\n",
       " '48,999',\n",
       " '44,999',\n",
       " '47,999',\n",
       " '47,999',\n",
       " '1,07,990',\n",
       " '85,990',\n",
       " '34,899',\n",
       " '42,999',\n",
       " '1,11,030',\n",
       " '93,990',\n",
       " '85,990',\n",
       " '89,990',\n",
       " '1,24,000',\n",
       " '96,990']"
      ]
     },
     "execution_count": 65,
     "metadata": {},
     "output_type": "execute_result"
    }
   ],
   "source": [
    "price=[]\n",
    "\n",
    "for i in price_tag:\n",
    "    price.append(i.text)\n",
    "price[0:10]"
   ]
  },
  {
   "cell_type": "markdown",
   "id": "7c50c8c2",
   "metadata": {},
   "source": [
    "# Question No 9"
   ]
  },
  {
   "cell_type": "code",
   "execution_count": 67,
   "id": "38c74d31",
   "metadata": {},
   "outputs": [],
   "source": [
    "driver.get('https://www.ambitionbox.com/')"
   ]
  },
  {
   "cell_type": "code",
   "execution_count": 69,
   "id": "6506b50c",
   "metadata": {},
   "outputs": [
    {
     "name": "stderr",
     "output_type": "stream",
     "text": [
      "<ipython-input-69-ddfedb66b7cb>:1: DeprecationWarning: find_element_by_* commands are deprecated. Please use find_element() instead\n",
      "  job_button=driver.find_element_by_xpath('//*[@id=\"headerWrapper\"]/nav/nav/a[6]')\n"
     ]
    },
    {
     "data": {
      "text/plain": [
       "<bound method WebElement.click of <selenium.webdriver.remote.webelement.WebElement (session=\"3803c0b2421e5934a70b8bfb0694ff7a\", element=\"117753ae-80d8-465d-a93f-a17c2f94926c\")>>"
      ]
     },
     "execution_count": 69,
     "metadata": {},
     "output_type": "execute_result"
    }
   ],
   "source": [
    "job_button=driver.find_element_by_xpath('//*[@id=\"headerWrapper\"]/nav/nav/a[6]')\n",
    "job_button.click"
   ]
  },
  {
   "cell_type": "code",
   "execution_count": 75,
   "id": "0f3ab853",
   "metadata": {},
   "outputs": [
    {
     "name": "stderr",
     "output_type": "stream",
     "text": [
      "<ipython-input-75-c121c12547e4>:1: DeprecationWarning: find_element_by_* commands are deprecated. Please use find_element() instead\n",
      "  search_loc=driver.find_element_by_xpath(\"//input[@class='input tt-input']\")\n"
     ]
    }
   ],
   "source": [
    "search_job=driver.find_element_by_xpath(\"//input[@class='input tt-input']\")\n",
    "search_job.send_keys('Data Scientist')"
   ]
  },
  {
   "cell_type": "code",
   "execution_count": 79,
   "id": "59bfee97",
   "metadata": {},
   "outputs": [
    {
     "name": "stderr",
     "output_type": "stream",
     "text": [
      "<ipython-input-79-5f9c90439810>:1: DeprecationWarning: find_element_by_* commands are deprecated. Please use find_element() instead\n",
      "  search_button=driver.find_element_by_xpath('//*[@id=\"jobSearchPage\"]/div[2]/div/div/div/div/button/span')\n"
     ]
    },
    {
     "data": {
      "text/plain": [
       "<bound method WebElement.click of <selenium.webdriver.remote.webelement.WebElement (session=\"3803c0b2421e5934a70b8bfb0694ff7a\", element=\"e97204de-b66e-4e8b-a1f6-f037519c183c\")>>"
      ]
     },
     "execution_count": 79,
     "metadata": {},
     "output_type": "execute_result"
    }
   ],
   "source": [
    "search_button=driver.find_element_by_xpath('//*[@id=\"jobSearchPage\"]/div[2]/div/div/div/div/button/span')\n",
    "search_button.click"
   ]
  },
  {
   "cell_type": "code",
   "execution_count": 84,
   "id": "afadf768",
   "metadata": {},
   "outputs": [
    {
     "name": "stderr",
     "output_type": "stream",
     "text": [
      "<ipython-input-84-80ffd0f7de50>:1: DeprecationWarning: find_element_by_* commands are deprecated. Please use find_element() instead\n",
      "  location_button=driver.find_element_by_xpath('//*[@id=\"filters-row\"]/div/div/div[2]/div[1]/p')\n"
     ]
    },
    {
     "data": {
      "text/plain": [
       "<bound method WebElement.click of <selenium.webdriver.remote.webelement.WebElement (session=\"3803c0b2421e5934a70b8bfb0694ff7a\", element=\"92a131f6-e3e0-47d3-b08c-bf8a4f92e2b6\")>>"
      ]
     },
     "execution_count": 84,
     "metadata": {},
     "output_type": "execute_result"
    }
   ],
   "source": [
    "location_button=driver.find_element_by_xpath('//*[@id=\"filters-row\"]/div/div/div[2]/div[1]/p')\n",
    "location_button.click"
   ]
  },
  {
   "cell_type": "code",
   "execution_count": 85,
   "id": "9dd7f63b",
   "metadata": {},
   "outputs": [
    {
     "name": "stderr",
     "output_type": "stream",
     "text": [
      "<ipython-input-85-47c4fec96860>:1: DeprecationWarning: find_element_by_* commands are deprecated. Please use find_element() instead\n",
      "  city_button=driver.find_element_by_xpath('//*[@id=\"filters-row\"]/div/div/div[2]/div[2]/div/div[3]/div/div/div[8]/label')\n"
     ]
    },
    {
     "data": {
      "text/plain": [
       "<bound method WebElement.click of <selenium.webdriver.remote.webelement.WebElement (session=\"3803c0b2421e5934a70b8bfb0694ff7a\", element=\"6860575c-e97e-4478-ab41-b24a2070a922\")>>"
      ]
     },
     "execution_count": 85,
     "metadata": {},
     "output_type": "execute_result"
    }
   ],
   "source": [
    "city_button=driver.find_element_by_xpath('//*[@id=\"filters-row\"]/div/div/div[2]/div[2]/div/div[3]/div/div/div[8]/label')\n",
    "city_button.click"
   ]
  },
  {
   "cell_type": "code",
   "execution_count": 88,
   "id": "c377a3bf",
   "metadata": {},
   "outputs": [
    {
     "name": "stderr",
     "output_type": "stream",
     "text": [
      "<ipython-input-88-13388f1a45a0>:1: DeprecationWarning: find_elements_by_* commands are deprecated. Please use find_elements() instead\n",
      "  name_tag=driver.find_elements_by_xpath(\"//p[@class='company body-medium']\")\n"
     ]
    },
    {
     "data": {
      "text/plain": [
       "[<selenium.webdriver.remote.webelement.WebElement (session=\"3803c0b2421e5934a70b8bfb0694ff7a\", element=\"cf220a5f-a551-4b45-b635-d8ae6a5d6116\")>,\n",
       " <selenium.webdriver.remote.webelement.WebElement (session=\"3803c0b2421e5934a70b8bfb0694ff7a\", element=\"da1f727a-6444-41cd-bb1d-654ce0477cd6\")>,\n",
       " <selenium.webdriver.remote.webelement.WebElement (session=\"3803c0b2421e5934a70b8bfb0694ff7a\", element=\"61eefbf0-aba0-4bb2-a4ca-eabb9b6db2e7\")>,\n",
       " <selenium.webdriver.remote.webelement.WebElement (session=\"3803c0b2421e5934a70b8bfb0694ff7a\", element=\"235c36ed-28b7-4026-9d94-89de1a7d9b93\")>,\n",
       " <selenium.webdriver.remote.webelement.WebElement (session=\"3803c0b2421e5934a70b8bfb0694ff7a\", element=\"3019ff73-99a5-4bbc-95c8-727891d6604a\")>,\n",
       " <selenium.webdriver.remote.webelement.WebElement (session=\"3803c0b2421e5934a70b8bfb0694ff7a\", element=\"e9d2abd4-18e5-4d13-9197-68c685c9098c\")>,\n",
       " <selenium.webdriver.remote.webelement.WebElement (session=\"3803c0b2421e5934a70b8bfb0694ff7a\", element=\"b0ab8df7-46ea-49d3-9568-d560327cf15f\")>,\n",
       " <selenium.webdriver.remote.webelement.WebElement (session=\"3803c0b2421e5934a70b8bfb0694ff7a\", element=\"ff64bf32-3011-4c18-b5e5-6ce2e139de8f\")>,\n",
       " <selenium.webdriver.remote.webelement.WebElement (session=\"3803c0b2421e5934a70b8bfb0694ff7a\", element=\"3508b4ad-9546-4097-950a-0478da11ecd7\")>,\n",
       " <selenium.webdriver.remote.webelement.WebElement (session=\"3803c0b2421e5934a70b8bfb0694ff7a\", element=\"a71c26e7-cc5e-436d-ba5e-5ab9ce8e2724\")>]"
      ]
     },
     "execution_count": 88,
     "metadata": {},
     "output_type": "execute_result"
    }
   ],
   "source": [
    "name_tag=driver.find_elements_by_xpath(\"//p[@class='company body-medium']\")\n",
    "name_tag"
   ]
  },
  {
   "cell_type": "code",
   "execution_count": 89,
   "id": "8d19cc5b",
   "metadata": {},
   "outputs": [
    {
     "data": {
      "text/plain": [
       "['Optum Global Solutions (India) Private Limited',\n",
       " 'Steria India Ltd',\n",
       " 'Ameriprise Financial',\n",
       " 'Optum Global Solutions (India) Private Limited',\n",
       " 'Steria India Ltd',\n",
       " 'Steria India Ltd',\n",
       " 'HCL Technologies Limited',\n",
       " 'Zyoin',\n",
       " 'GI Group',\n",
       " 'GI Group']"
      ]
     },
     "execution_count": 89,
     "metadata": {},
     "output_type": "execute_result"
    }
   ],
   "source": [
    "name=[]\n",
    "\n",
    "for i in name_tag:\n",
    "    name.append(i.text)\n",
    "name"
   ]
  },
  {
   "cell_type": "code",
   "execution_count": 90,
   "id": "86a9d000",
   "metadata": {},
   "outputs": [
    {
     "name": "stderr",
     "output_type": "stream",
     "text": [
      "<ipython-input-90-4d2c11964fe4>:1: DeprecationWarning: find_elements_by_* commands are deprecated. Please use find_elements() instead\n",
      "  days_tag=driver.find_elements_by_xpath(\"//span[@class='body-small-l']\")\n"
     ]
    },
    {
     "data": {
      "text/plain": [
       "[<selenium.webdriver.remote.webelement.WebElement (session=\"3803c0b2421e5934a70b8bfb0694ff7a\", element=\"87333e61-95dd-4380-9734-ae221d3cb570\")>,\n",
       " <selenium.webdriver.remote.webelement.WebElement (session=\"3803c0b2421e5934a70b8bfb0694ff7a\", element=\"3cdd719b-dd2f-4542-9b69-fd9ef5e109db\")>,\n",
       " <selenium.webdriver.remote.webelement.WebElement (session=\"3803c0b2421e5934a70b8bfb0694ff7a\", element=\"cb1cbe0c-45b8-497c-be0f-5b12d0a5738d\")>,\n",
       " <selenium.webdriver.remote.webelement.WebElement (session=\"3803c0b2421e5934a70b8bfb0694ff7a\", element=\"f3ee11eb-052b-4c03-9517-dab863223b45\")>,\n",
       " <selenium.webdriver.remote.webelement.WebElement (session=\"3803c0b2421e5934a70b8bfb0694ff7a\", element=\"e56b271f-0eab-46e5-9b7e-9d0cbf108416\")>,\n",
       " <selenium.webdriver.remote.webelement.WebElement (session=\"3803c0b2421e5934a70b8bfb0694ff7a\", element=\"ab0bc64d-4922-4fd5-981a-720411dd8c02\")>,\n",
       " <selenium.webdriver.remote.webelement.WebElement (session=\"3803c0b2421e5934a70b8bfb0694ff7a\", element=\"e6216b92-0f9b-4098-8d8e-f34e4c008d94\")>,\n",
       " <selenium.webdriver.remote.webelement.WebElement (session=\"3803c0b2421e5934a70b8bfb0694ff7a\", element=\"d65b5ef2-5aaf-4c27-b122-8eb00a1bf9c0\")>,\n",
       " <selenium.webdriver.remote.webelement.WebElement (session=\"3803c0b2421e5934a70b8bfb0694ff7a\", element=\"80be0483-3fb7-44ac-b23d-216d6f9c67f2\")>,\n",
       " <selenium.webdriver.remote.webelement.WebElement (session=\"3803c0b2421e5934a70b8bfb0694ff7a\", element=\"68c580cc-db56-444d-aa55-82b1df79290c\")>,\n",
       " <selenium.webdriver.remote.webelement.WebElement (session=\"3803c0b2421e5934a70b8bfb0694ff7a\", element=\"a7e67f6d-4faa-4130-ae9e-79330d0615da\")>,\n",
       " <selenium.webdriver.remote.webelement.WebElement (session=\"3803c0b2421e5934a70b8bfb0694ff7a\", element=\"1a856f1f-61e5-4f6f-bacb-2ea1d8799914\")>,\n",
       " <selenium.webdriver.remote.webelement.WebElement (session=\"3803c0b2421e5934a70b8bfb0694ff7a\", element=\"2ac5de8d-cae1-41f4-b4df-cd3fd54c5581\")>,\n",
       " <selenium.webdriver.remote.webelement.WebElement (session=\"3803c0b2421e5934a70b8bfb0694ff7a\", element=\"412e5dc2-db4c-42a5-b752-7529c5073485\")>,\n",
       " <selenium.webdriver.remote.webelement.WebElement (session=\"3803c0b2421e5934a70b8bfb0694ff7a\", element=\"87056b83-d157-4c4e-83ca-4b8dc0f43457\")>,\n",
       " <selenium.webdriver.remote.webelement.WebElement (session=\"3803c0b2421e5934a70b8bfb0694ff7a\", element=\"722fa109-2197-43a4-9fe1-30160645ef10\")>,\n",
       " <selenium.webdriver.remote.webelement.WebElement (session=\"3803c0b2421e5934a70b8bfb0694ff7a\", element=\"77a225e3-7eef-4aef-be1a-507864dbfeff\")>,\n",
       " <selenium.webdriver.remote.webelement.WebElement (session=\"3803c0b2421e5934a70b8bfb0694ff7a\", element=\"e9f7c4f0-f443-4387-8178-46c23304717e\")>,\n",
       " <selenium.webdriver.remote.webelement.WebElement (session=\"3803c0b2421e5934a70b8bfb0694ff7a\", element=\"ad67ba39-4050-4039-a938-79d9f1fc41b5\")>,\n",
       " <selenium.webdriver.remote.webelement.WebElement (session=\"3803c0b2421e5934a70b8bfb0694ff7a\", element=\"18dadd3f-33e8-450b-bd02-8de4948fa32a\")>]"
      ]
     },
     "execution_count": 90,
     "metadata": {},
     "output_type": "execute_result"
    }
   ],
   "source": [
    "days_tag=driver.find_elements_by_xpath(\"//span[@class='body-small-l']\")\n",
    "days_tag"
   ]
  },
  {
   "cell_type": "code",
   "execution_count": 92,
   "id": "7b8ce62d",
   "metadata": {},
   "outputs": [
    {
     "data": {
      "text/plain": [
       "['7d ago',\n",
       " '8hr ago',\n",
       " '2d ago',\n",
       " '29d ago',\n",
       " '19d ago',\n",
       " '19d ago',\n",
       " '31d ago',\n",
       " '2d ago',\n",
       " '2d ago',\n",
       " '4d ago']"
      ]
     },
     "execution_count": 92,
     "metadata": {},
     "output_type": "execute_result"
    }
   ],
   "source": [
    "day=[]\n",
    "days=[]\n",
    "\n",
    "for i in days_tag:\n",
    "    day.append(i.text)\n",
    "day\n",
    "\n",
    "for j in range(len(day)):\n",
    "    if (j==0 or (j%2)==0):\n",
    "        days.append(day[j])\n",
    "days"
   ]
  },
  {
   "cell_type": "code",
   "execution_count": 93,
   "id": "7b416941",
   "metadata": {},
   "outputs": [
    {
     "name": "stderr",
     "output_type": "stream",
     "text": [
      "<ipython-input-93-2eb5bf73ad26>:1: DeprecationWarning: find_elements_by_* commands are deprecated. Please use find_elements() instead\n",
      "  rating_tag=driver.find_elements_by_xpath(\"//span[@class='body-small']\")\n"
     ]
    },
    {
     "data": {
      "text/plain": [
       "[<selenium.webdriver.remote.webelement.WebElement (session=\"3803c0b2421e5934a70b8bfb0694ff7a\", element=\"8150776d-538f-43d7-b4ea-3c2a3b52f463\")>,\n",
       " <selenium.webdriver.remote.webelement.WebElement (session=\"3803c0b2421e5934a70b8bfb0694ff7a\", element=\"5c6d6b71-6dca-4fa8-9db2-a3ffd136e12a\")>,\n",
       " <selenium.webdriver.remote.webelement.WebElement (session=\"3803c0b2421e5934a70b8bfb0694ff7a\", element=\"72c99dc1-d2dc-4781-a650-5ca3bb4098af\")>,\n",
       " <selenium.webdriver.remote.webelement.WebElement (session=\"3803c0b2421e5934a70b8bfb0694ff7a\", element=\"9edf0084-0b3e-4ab4-a182-97f3c1278081\")>,\n",
       " <selenium.webdriver.remote.webelement.WebElement (session=\"3803c0b2421e5934a70b8bfb0694ff7a\", element=\"d6dd8888-396f-4115-b388-78592199f08b\")>,\n",
       " <selenium.webdriver.remote.webelement.WebElement (session=\"3803c0b2421e5934a70b8bfb0694ff7a\", element=\"5def3724-4396-4a64-aa49-fae544431d86\")>,\n",
       " <selenium.webdriver.remote.webelement.WebElement (session=\"3803c0b2421e5934a70b8bfb0694ff7a\", element=\"54357bd3-4efa-448a-9267-2752aa22dcc7\")>,\n",
       " <selenium.webdriver.remote.webelement.WebElement (session=\"3803c0b2421e5934a70b8bfb0694ff7a\", element=\"480f3141-872b-4e5d-9b70-1a4e5bf22530\")>,\n",
       " <selenium.webdriver.remote.webelement.WebElement (session=\"3803c0b2421e5934a70b8bfb0694ff7a\", element=\"b7f7ce1b-3913-42a5-916c-e8d0c4330965\")>,\n",
       " <selenium.webdriver.remote.webelement.WebElement (session=\"3803c0b2421e5934a70b8bfb0694ff7a\", element=\"c92f56ea-07d5-4e26-b6fa-725264eaf425\")>]"
      ]
     },
     "execution_count": 93,
     "metadata": {},
     "output_type": "execute_result"
    }
   ],
   "source": [
    "rating_tag=driver.find_elements_by_xpath(\"//span[@class='body-small']\")\n",
    "rating_tag"
   ]
  },
  {
   "cell_type": "code",
   "execution_count": 94,
   "id": "1baf00e1",
   "metadata": {},
   "outputs": [
    {
     "data": {
      "text/plain": [
       "['4.1', '4.1', '4.1', '4.1', '4.1', '4.1', '3.8', '4.2', '3.9', '3.9']"
      ]
     },
     "execution_count": 94,
     "metadata": {},
     "output_type": "execute_result"
    }
   ],
   "source": [
    "rating=[]\n",
    "\n",
    "for i in rating_tag:\n",
    "    rating.append(i.text)\n",
    "rating"
   ]
  },
  {
   "cell_type": "code",
   "execution_count": 96,
   "id": "691c5caf",
   "metadata": {},
   "outputs": [],
   "source": [
    "jobs=pd.DataFrame({})\n",
    "jobs['Company']=name\n",
    "jobs['Days Before']=days\n",
    "jobs['Rating']=rating"
   ]
  },
  {
   "cell_type": "code",
   "execution_count": 97,
   "id": "70f4d4d9",
   "metadata": {},
   "outputs": [
    {
     "data": {
      "text/html": [
       "<div>\n",
       "<style scoped>\n",
       "    .dataframe tbody tr th:only-of-type {\n",
       "        vertical-align: middle;\n",
       "    }\n",
       "\n",
       "    .dataframe tbody tr th {\n",
       "        vertical-align: top;\n",
       "    }\n",
       "\n",
       "    .dataframe thead th {\n",
       "        text-align: right;\n",
       "    }\n",
       "</style>\n",
       "<table border=\"1\" class=\"dataframe\">\n",
       "  <thead>\n",
       "    <tr style=\"text-align: right;\">\n",
       "      <th></th>\n",
       "      <th>Company</th>\n",
       "      <th>Days Before</th>\n",
       "      <th>Rating</th>\n",
       "    </tr>\n",
       "  </thead>\n",
       "  <tbody>\n",
       "    <tr>\n",
       "      <th>0</th>\n",
       "      <td>Optum Global Solutions (India) Private Limited</td>\n",
       "      <td>7d ago</td>\n",
       "      <td>4.1</td>\n",
       "    </tr>\n",
       "    <tr>\n",
       "      <th>1</th>\n",
       "      <td>Steria India Ltd</td>\n",
       "      <td>8hr ago</td>\n",
       "      <td>4.1</td>\n",
       "    </tr>\n",
       "    <tr>\n",
       "      <th>2</th>\n",
       "      <td>Ameriprise Financial</td>\n",
       "      <td>2d ago</td>\n",
       "      <td>4.1</td>\n",
       "    </tr>\n",
       "    <tr>\n",
       "      <th>3</th>\n",
       "      <td>Optum Global Solutions (India) Private Limited</td>\n",
       "      <td>29d ago</td>\n",
       "      <td>4.1</td>\n",
       "    </tr>\n",
       "    <tr>\n",
       "      <th>4</th>\n",
       "      <td>Steria India Ltd</td>\n",
       "      <td>19d ago</td>\n",
       "      <td>4.1</td>\n",
       "    </tr>\n",
       "    <tr>\n",
       "      <th>5</th>\n",
       "      <td>Steria India Ltd</td>\n",
       "      <td>19d ago</td>\n",
       "      <td>4.1</td>\n",
       "    </tr>\n",
       "    <tr>\n",
       "      <th>6</th>\n",
       "      <td>HCL Technologies Limited</td>\n",
       "      <td>31d ago</td>\n",
       "      <td>3.8</td>\n",
       "    </tr>\n",
       "    <tr>\n",
       "      <th>7</th>\n",
       "      <td>Zyoin</td>\n",
       "      <td>2d ago</td>\n",
       "      <td>4.2</td>\n",
       "    </tr>\n",
       "    <tr>\n",
       "      <th>8</th>\n",
       "      <td>GI Group</td>\n",
       "      <td>2d ago</td>\n",
       "      <td>3.9</td>\n",
       "    </tr>\n",
       "    <tr>\n",
       "      <th>9</th>\n",
       "      <td>GI Group</td>\n",
       "      <td>4d ago</td>\n",
       "      <td>3.9</td>\n",
       "    </tr>\n",
       "  </tbody>\n",
       "</table>\n",
       "</div>"
      ],
      "text/plain": [
       "                                          Company Days Before Rating\n",
       "0  Optum Global Solutions (India) Private Limited      7d ago    4.1\n",
       "1                                Steria India Ltd     8hr ago    4.1\n",
       "2                            Ameriprise Financial      2d ago    4.1\n",
       "3  Optum Global Solutions (India) Private Limited     29d ago    4.1\n",
       "4                                Steria India Ltd     19d ago    4.1\n",
       "5                                Steria India Ltd     19d ago    4.1\n",
       "6                        HCL Technologies Limited     31d ago    3.8\n",
       "7                                           Zyoin      2d ago    4.2\n",
       "8                                        GI Group      2d ago    3.9\n",
       "9                                        GI Group      4d ago    3.9"
      ]
     },
     "execution_count": 97,
     "metadata": {},
     "output_type": "execute_result"
    }
   ],
   "source": [
    "jobs"
   ]
  },
  {
   "cell_type": "markdown",
   "id": "ffd983ff",
   "metadata": {},
   "source": [
    "# Question 10"
   ]
  },
  {
   "cell_type": "code",
   "execution_count": 11,
   "id": "b279e181",
   "metadata": {},
   "outputs": [],
   "source": [
    "driver.get('https://www.ambitionbox.com/')"
   ]
  },
  {
   "cell_type": "code",
   "execution_count": 13,
   "id": "43793e4d",
   "metadata": {},
   "outputs": [
    {
     "name": "stderr",
     "output_type": "stream",
     "text": [
      "<ipython-input-13-95601695f121>:1: DeprecationWarning: find_element_by_* commands are deprecated. Please use find_element() instead\n",
      "  salary_button=driver.find_element_by_xpath('//*[@id=\"headerWrapper\"]/nav/nav/a[4]')\n"
     ]
    },
    {
     "data": {
      "text/plain": [
       "<bound method WebElement.click of <selenium.webdriver.remote.webelement.WebElement (session=\"0778966c76b6c5de4fd46c7f44acb731\", element=\"69c2aca5-da51-49ff-a39b-ea140828b7c2\")>>"
      ]
     },
     "execution_count": 13,
     "metadata": {},
     "output_type": "execute_result"
    }
   ],
   "source": [
    "salary_button=driver.find_element_by_xpath('//*[@id=\"headerWrapper\"]/nav/nav/a[4]')\n",
    "salary_button.click"
   ]
  },
  {
   "cell_type": "code",
   "execution_count": 21,
   "id": "dfdaf313",
   "metadata": {},
   "outputs": [
    {
     "name": "stderr",
     "output_type": "stream",
     "text": [
      "<ipython-input-21-c4d34be77032>:1: DeprecationWarning: find_element_by_* commands are deprecated. Please use find_element() instead\n",
      "  search_job=driver.find_element_by_xpath(\"//input[@class='component-input tt-input']\")\n"
     ]
    }
   ],
   "source": [
    "search_job=driver.find_element_by_xpath(\"//input[@class='component-input tt-input']\")\n",
    "search_job.send_keys('Data Scientist')"
   ]
  },
  {
   "cell_type": "code",
   "execution_count": 22,
   "id": "06d15a63",
   "metadata": {},
   "outputs": [
    {
     "name": "stderr",
     "output_type": "stream",
     "text": [
      "<ipython-input-22-83092acc8d8e>:1: DeprecationWarning: find_element_by_* commands are deprecated. Please use find_element() instead\n",
      "  DS_button=driver.find_element_by_xpath(\"//p[@class='tt_text']\")\n"
     ]
    },
    {
     "data": {
      "text/plain": [
       "<bound method WebElement.click of <selenium.webdriver.remote.webelement.WebElement (session=\"0778966c76b6c5de4fd46c7f44acb731\", element=\"09f2188b-ccbd-48a6-912a-a9ebad144d79\")>>"
      ]
     },
     "execution_count": 22,
     "metadata": {},
     "output_type": "execute_result"
    }
   ],
   "source": [
    "DS_button=driver.find_element_by_xpath(\"//p[@class='tt_text']\")\n",
    "DS_button.click"
   ]
  },
  {
   "cell_type": "code",
   "execution_count": 29,
   "id": "233bbe22",
   "metadata": {},
   "outputs": [
    {
     "name": "stderr",
     "output_type": "stream",
     "text": [
      "<ipython-input-29-802ac3521732>:1: DeprecationWarning: find_elements_by_* commands are deprecated. Please use find_elements() instead\n",
      "  company_tag=driver.find_elements_by_xpath(\"//div[@class='name']/a\")\n"
     ]
    },
    {
     "data": {
      "text/plain": [
       "[<selenium.webdriver.remote.webelement.WebElement (session=\"0778966c76b6c5de4fd46c7f44acb731\", element=\"4e87c027-180f-4609-992f-689bacfbbc04\")>,\n",
       " <selenium.webdriver.remote.webelement.WebElement (session=\"0778966c76b6c5de4fd46c7f44acb731\", element=\"1ac67df9-72d2-4f75-9b0f-2b42f8122d92\")>,\n",
       " <selenium.webdriver.remote.webelement.WebElement (session=\"0778966c76b6c5de4fd46c7f44acb731\", element=\"39951d72-a708-40d5-baab-79320f51f88a\")>,\n",
       " <selenium.webdriver.remote.webelement.WebElement (session=\"0778966c76b6c5de4fd46c7f44acb731\", element=\"66140918-a6f2-4d59-b0f1-5bcce4bffed3\")>,\n",
       " <selenium.webdriver.remote.webelement.WebElement (session=\"0778966c76b6c5de4fd46c7f44acb731\", element=\"bf8c235d-ddb9-40c0-9c77-c5a42199e530\")>,\n",
       " <selenium.webdriver.remote.webelement.WebElement (session=\"0778966c76b6c5de4fd46c7f44acb731\", element=\"55705344-7f21-46ba-a711-e5cee763a731\")>,\n",
       " <selenium.webdriver.remote.webelement.WebElement (session=\"0778966c76b6c5de4fd46c7f44acb731\", element=\"7da65cfd-69e3-4125-b7a0-3e78f0713eab\")>,\n",
       " <selenium.webdriver.remote.webelement.WebElement (session=\"0778966c76b6c5de4fd46c7f44acb731\", element=\"2850ecba-a535-469d-bae0-7524560a1b06\")>,\n",
       " <selenium.webdriver.remote.webelement.WebElement (session=\"0778966c76b6c5de4fd46c7f44acb731\", element=\"dd36ab2b-7c96-43cc-9d52-e781216ac21a\")>,\n",
       " <selenium.webdriver.remote.webelement.WebElement (session=\"0778966c76b6c5de4fd46c7f44acb731\", element=\"23b36272-ee1c-4bfa-b5df-f3a7ee579869\")>]"
      ]
     },
     "execution_count": 29,
     "metadata": {},
     "output_type": "execute_result"
    }
   ],
   "source": [
    "company_tag=driver.find_elements_by_xpath(\"//div[@class='name']/a\")\n",
    "company_tag"
   ]
  },
  {
   "cell_type": "code",
   "execution_count": 30,
   "id": "fe096eff",
   "metadata": {},
   "outputs": [
    {
     "data": {
      "text/plain": [
       "['Microsoft Corporation',\n",
       " 'Goldman Sachs',\n",
       " 'Flipkart',\n",
       " 'Amazon',\n",
       " 'Servicenow Software Development India',\n",
       " 'ServiceNow',\n",
       " 'Walmart',\n",
       " 'Arcesium',\n",
       " 'PayPal',\n",
       " 'Visa']"
      ]
     },
     "execution_count": 30,
     "metadata": {},
     "output_type": "execute_result"
    }
   ],
   "source": [
    "company=[]\n",
    "\n",
    "for i in company_tag:\n",
    "    company.append(i.text)\n",
    "company"
   ]
  },
  {
   "cell_type": "code",
   "execution_count": 31,
   "id": "25d31511",
   "metadata": {},
   "outputs": [
    {
     "name": "stderr",
     "output_type": "stream",
     "text": [
      "<ipython-input-31-4abdb9954ae0>:1: DeprecationWarning: find_elements_by_* commands are deprecated. Please use find_elements() instead\n",
      "  total_tag=driver.find_elements_by_xpath(\"//div[@class='name']/span\")\n"
     ]
    },
    {
     "data": {
      "text/plain": [
       "[<selenium.webdriver.remote.webelement.WebElement (session=\"0778966c76b6c5de4fd46c7f44acb731\", element=\"e90af7b6-f4df-4dfa-b5ca-029dd8a59efe\")>,\n",
       " <selenium.webdriver.remote.webelement.WebElement (session=\"0778966c76b6c5de4fd46c7f44acb731\", element=\"6cdb73c3-56d4-4d6c-befa-2872d17b3e29\")>,\n",
       " <selenium.webdriver.remote.webelement.WebElement (session=\"0778966c76b6c5de4fd46c7f44acb731\", element=\"1cb9a6d8-0634-4054-bd41-b76dcce7a287\")>,\n",
       " <selenium.webdriver.remote.webelement.WebElement (session=\"0778966c76b6c5de4fd46c7f44acb731\", element=\"874722a0-0a44-43d8-b47a-4ac49e7b2163\")>,\n",
       " <selenium.webdriver.remote.webelement.WebElement (session=\"0778966c76b6c5de4fd46c7f44acb731\", element=\"c6943a55-b10e-4f4f-9d56-10e27b54a507\")>,\n",
       " <selenium.webdriver.remote.webelement.WebElement (session=\"0778966c76b6c5de4fd46c7f44acb731\", element=\"060a2152-ea97-462d-9ed1-b73b4db844a5\")>,\n",
       " <selenium.webdriver.remote.webelement.WebElement (session=\"0778966c76b6c5de4fd46c7f44acb731\", element=\"a773820a-91b8-4377-bcc4-1b1f5f86710b\")>,\n",
       " <selenium.webdriver.remote.webelement.WebElement (session=\"0778966c76b6c5de4fd46c7f44acb731\", element=\"168a8679-2ec8-4d99-be2b-9e139d3dd9c7\")>,\n",
       " <selenium.webdriver.remote.webelement.WebElement (session=\"0778966c76b6c5de4fd46c7f44acb731\", element=\"9fed3234-7c47-452d-a00b-05608ce7ae4b\")>,\n",
       " <selenium.webdriver.remote.webelement.WebElement (session=\"0778966c76b6c5de4fd46c7f44acb731\", element=\"ccdb7a4b-600c-49e8-b6d5-62bce7c672c5\")>]"
      ]
     },
     "execution_count": 31,
     "metadata": {},
     "output_type": "execute_result"
    }
   ],
   "source": [
    "total_tag=driver.find_elements_by_xpath(\"//div[@class='name']/span\")\n",
    "total_tag"
   ]
  },
  {
   "cell_type": "code",
   "execution_count": 60,
   "id": "b9c91b45",
   "metadata": {},
   "outputs": [
    {
     "data": {
      "text/plain": [
       "['based on 209 salaries',\n",
       " 'based on 10 salaries',\n",
       " 'based on 51 salaries',\n",
       " 'based on 75 salaries',\n",
       " 'based on 25 salaries',\n",
       " 'based on 15 salaries',\n",
       " 'based on 70 salaries',\n",
       " 'based on 54 salaries',\n",
       " 'based on 12 salaries',\n",
       " 'based on 26 salaries']"
      ]
     },
     "execution_count": 60,
     "metadata": {},
     "output_type": "execute_result"
    }
   ],
   "source": [
    "total=[]\n",
    "\n",
    "for i in total_tag:\n",
    "    total.append(i.text)\n",
    "total"
   ]
  },
  {
   "cell_type": "code",
   "execution_count": 36,
   "id": "3f659ce5",
   "metadata": {},
   "outputs": [
    {
     "name": "stderr",
     "output_type": "stream",
     "text": [
      "<ipython-input-36-f85195063395>:1: DeprecationWarning: find_elements_by_* commands are deprecated. Please use find_elements() instead\n",
      "  min_tag=driver.find_elements_by_xpath(\"//div[@class='salary-values']/div[1]\")\n"
     ]
    },
    {
     "data": {
      "text/plain": [
       "[<selenium.webdriver.remote.webelement.WebElement (session=\"0778966c76b6c5de4fd46c7f44acb731\", element=\"60efbc31-208d-49a0-9b22-398e91090729\")>,\n",
       " <selenium.webdriver.remote.webelement.WebElement (session=\"0778966c76b6c5de4fd46c7f44acb731\", element=\"26123b95-bbe3-4521-9cdf-16c7f4659f98\")>,\n",
       " <selenium.webdriver.remote.webelement.WebElement (session=\"0778966c76b6c5de4fd46c7f44acb731\", element=\"ca593aad-95ee-4cb7-b018-36b3d72ee2a9\")>,\n",
       " <selenium.webdriver.remote.webelement.WebElement (session=\"0778966c76b6c5de4fd46c7f44acb731\", element=\"3b6bcea4-4e90-4c9e-bce8-84f86499fa5d\")>,\n",
       " <selenium.webdriver.remote.webelement.WebElement (session=\"0778966c76b6c5de4fd46c7f44acb731\", element=\"f994c614-e5cd-4e8f-be84-216ae1da2aec\")>,\n",
       " <selenium.webdriver.remote.webelement.WebElement (session=\"0778966c76b6c5de4fd46c7f44acb731\", element=\"3014c2e3-b50b-464e-a7c5-83396e3db60f\")>,\n",
       " <selenium.webdriver.remote.webelement.WebElement (session=\"0778966c76b6c5de4fd46c7f44acb731\", element=\"550c3d18-463e-44db-9e3a-e581ecb9abb7\")>,\n",
       " <selenium.webdriver.remote.webelement.WebElement (session=\"0778966c76b6c5de4fd46c7f44acb731\", element=\"99a67fa4-22e4-47f5-a1c9-19b39cce182e\")>,\n",
       " <selenium.webdriver.remote.webelement.WebElement (session=\"0778966c76b6c5de4fd46c7f44acb731\", element=\"5e024ada-edd6-49e6-9c71-1460180eee0f\")>,\n",
       " <selenium.webdriver.remote.webelement.WebElement (session=\"0778966c76b6c5de4fd46c7f44acb731\", element=\"da748478-8df2-4431-822b-ef109cc060fa\")>]"
      ]
     },
     "execution_count": 36,
     "metadata": {},
     "output_type": "execute_result"
    }
   ],
   "source": [
    "min_tag=driver.find_elements_by_xpath(\"//div[@class='salary-values']/div[1]\")\n",
    "min_tag"
   ]
  },
  {
   "cell_type": "code",
   "execution_count": 53,
   "id": "79d24204",
   "metadata": {},
   "outputs": [
    {
     "data": {
      "text/plain": [
       "['₹ 12.0L',\n",
       " '₹ 16.0L',\n",
       " '₹ 7.0L',\n",
       " '₹ 8.0L',\n",
       " '₹ 13.0L',\n",
       " '₹ 11.2L',\n",
       " '₹ 10.0L',\n",
       " '₹ 12.0L',\n",
       " '₹ 12.0L',\n",
       " '₹ 13.0L']"
      ]
     },
     "execution_count": 53,
     "metadata": {},
     "output_type": "execute_result"
    }
   ],
   "source": [
    "mini=[]\n",
    "\n",
    "for i in min_tag:\n",
    "    mini.append(i.text)\n",
    "mini"
   ]
  },
  {
   "cell_type": "code",
   "execution_count": 38,
   "id": "f2719529",
   "metadata": {},
   "outputs": [
    {
     "name": "stderr",
     "output_type": "stream",
     "text": [
      "<ipython-input-38-6a72cb3cb5ad>:1: DeprecationWarning: find_elements_by_* commands are deprecated. Please use find_elements() instead\n",
      "  max_tag=driver.find_elements_by_xpath(\"//div[@class='salary-values']/div[2]\")\n"
     ]
    },
    {
     "data": {
      "text/plain": [
       "[<selenium.webdriver.remote.webelement.WebElement (session=\"0778966c76b6c5de4fd46c7f44acb731\", element=\"9eb0c2f9-3a25-40c3-bd81-87e44e4d0d9a\")>,\n",
       " <selenium.webdriver.remote.webelement.WebElement (session=\"0778966c76b6c5de4fd46c7f44acb731\", element=\"e8f52c77-876f-4784-8869-4372290767de\")>,\n",
       " <selenium.webdriver.remote.webelement.WebElement (session=\"0778966c76b6c5de4fd46c7f44acb731\", element=\"e3337f4d-b5b1-4e0a-90ab-f620d5f54841\")>,\n",
       " <selenium.webdriver.remote.webelement.WebElement (session=\"0778966c76b6c5de4fd46c7f44acb731\", element=\"d5956a6e-f1d2-43bb-ab92-de5f1fa907bd\")>,\n",
       " <selenium.webdriver.remote.webelement.WebElement (session=\"0778966c76b6c5de4fd46c7f44acb731\", element=\"8df2de87-2f28-4b2b-9272-c5db800622ef\")>,\n",
       " <selenium.webdriver.remote.webelement.WebElement (session=\"0778966c76b6c5de4fd46c7f44acb731\", element=\"adb35715-13c8-495a-83f6-4a5ae000a545\")>,\n",
       " <selenium.webdriver.remote.webelement.WebElement (session=\"0778966c76b6c5de4fd46c7f44acb731\", element=\"7f6df15f-782e-4a9f-8831-5e009c6da93c\")>,\n",
       " <selenium.webdriver.remote.webelement.WebElement (session=\"0778966c76b6c5de4fd46c7f44acb731\", element=\"c690d04a-f441-4a79-be74-0855dddacf5e\")>,\n",
       " <selenium.webdriver.remote.webelement.WebElement (session=\"0778966c76b6c5de4fd46c7f44acb731\", element=\"826f8187-7fa5-4be3-921c-4a7fd6ef9add\")>,\n",
       " <selenium.webdriver.remote.webelement.WebElement (session=\"0778966c76b6c5de4fd46c7f44acb731\", element=\"a05c4fd9-3603-4674-99f0-e8ec22a5ce6f\")>]"
      ]
     },
     "execution_count": 38,
     "metadata": {},
     "output_type": "execute_result"
    }
   ],
   "source": [
    "max_tag=driver.find_elements_by_xpath(\"//div[@class='salary-values']/div[2]\")\n",
    "max_tag"
   ]
  },
  {
   "cell_type": "code",
   "execution_count": 54,
   "id": "6e961f42",
   "metadata": {},
   "outputs": [
    {
     "data": {
      "text/plain": [
       "['₹ 45.0L',\n",
       " '₹ 30.0L',\n",
       " '₹ 30.0L',\n",
       " '₹ 40.0L',\n",
       " '₹ 25.0L',\n",
       " '₹ 23.0L',\n",
       " '₹ 32.0L',\n",
       " '₹ 30.0L',\n",
       " '₹ 23.0L',\n",
       " '₹ 23.0L']"
      ]
     },
     "execution_count": 54,
     "metadata": {},
     "output_type": "execute_result"
    }
   ],
   "source": [
    "maxi=[]\n",
    "\n",
    "for i in max_tag:\n",
    "    maxi.append(i.text)\n",
    "maxi"
   ]
  },
  {
   "cell_type": "code",
   "execution_count": 42,
   "id": "5f3614a7",
   "metadata": {},
   "outputs": [
    {
     "name": "stderr",
     "output_type": "stream",
     "text": [
      "<ipython-input-42-b54b645ef6fd>:1: DeprecationWarning: find_elements_by_* commands are deprecated. Please use find_elements() instead\n",
      "  avg_tag=driver.find_elements_by_xpath(\"//p[@class='averageCtc']\")\n"
     ]
    },
    {
     "data": {
      "text/plain": [
       "[<selenium.webdriver.remote.webelement.WebElement (session=\"0778966c76b6c5de4fd46c7f44acb731\", element=\"329f6277-3e95-4e8f-8c7c-81149fee0a47\")>,\n",
       " <selenium.webdriver.remote.webelement.WebElement (session=\"0778966c76b6c5de4fd46c7f44acb731\", element=\"15d0b94f-037b-428d-aa60-b6ba9dfb614d\")>,\n",
       " <selenium.webdriver.remote.webelement.WebElement (session=\"0778966c76b6c5de4fd46c7f44acb731\", element=\"6eb9aa87-665d-43b0-ad12-cc980024f379\")>,\n",
       " <selenium.webdriver.remote.webelement.WebElement (session=\"0778966c76b6c5de4fd46c7f44acb731\", element=\"7afb7ad9-ff64-4c76-bcb0-849ab75ce7f4\")>,\n",
       " <selenium.webdriver.remote.webelement.WebElement (session=\"0778966c76b6c5de4fd46c7f44acb731\", element=\"414acf0b-84ef-47ea-acd8-4b63004dd12c\")>,\n",
       " <selenium.webdriver.remote.webelement.WebElement (session=\"0778966c76b6c5de4fd46c7f44acb731\", element=\"69e5b4f7-bd96-4b9d-aa0e-d469ab319f35\")>,\n",
       " <selenium.webdriver.remote.webelement.WebElement (session=\"0778966c76b6c5de4fd46c7f44acb731\", element=\"b92b0e7a-a027-42c1-bc68-4363255696e7\")>,\n",
       " <selenium.webdriver.remote.webelement.WebElement (session=\"0778966c76b6c5de4fd46c7f44acb731\", element=\"714b1046-64a9-40b1-a0e1-12eef2632c2a\")>,\n",
       " <selenium.webdriver.remote.webelement.WebElement (session=\"0778966c76b6c5de4fd46c7f44acb731\", element=\"66daf523-91ac-494f-b470-a8f57aca6861\")>,\n",
       " <selenium.webdriver.remote.webelement.WebElement (session=\"0778966c76b6c5de4fd46c7f44acb731\", element=\"fb1e0c86-9c16-43b7-9531-0ddca4ea712b\")>]"
      ]
     },
     "execution_count": 42,
     "metadata": {},
     "output_type": "execute_result"
    }
   ],
   "source": [
    "avg_tag=driver.find_elements_by_xpath(\"//p[@class='averageCtc']\")\n",
    "avg_tag"
   ]
  },
  {
   "cell_type": "code",
   "execution_count": 57,
   "id": "b0b268be",
   "metadata": {},
   "outputs": [
    {
     "data": {
      "text/plain": [
       "['₹ 22.4L',\n",
       " '₹ 21.2L',\n",
       " '₹ 20.8L',\n",
       " '₹ 19.2L',\n",
       " '₹ 18.2L',\n",
       " '₹ 18.0L',\n",
       " '₹ 17.9L',\n",
       " '₹ 17.7L',\n",
       " '₹ 17.6L',\n",
       " '₹ 17.1L']"
      ]
     },
     "execution_count": 57,
     "metadata": {},
     "output_type": "execute_result"
    }
   ],
   "source": [
    "avrg=[]\n",
    "\n",
    "for i in avg_tag:\n",
    "    avrg.append(i.text)\n",
    "avrg"
   ]
  },
  {
   "cell_type": "code",
   "execution_count": 44,
   "id": "b914b88c",
   "metadata": {},
   "outputs": [
    {
     "name": "stderr",
     "output_type": "stream",
     "text": [
      "<ipython-input-44-320319d74e2b>:1: DeprecationWarning: find_elements_by_* commands are deprecated. Please use find_elements() instead\n",
      "  exp_tag=driver.find_elements_by_xpath(\"//div[@class='salaries sbold-list-header']\")\n"
     ]
    },
    {
     "data": {
      "text/plain": [
       "[<selenium.webdriver.remote.webelement.WebElement (session=\"0778966c76b6c5de4fd46c7f44acb731\", element=\"40c52b9f-9eb2-409d-83b1-5c87434cc281\")>,\n",
       " <selenium.webdriver.remote.webelement.WebElement (session=\"0778966c76b6c5de4fd46c7f44acb731\", element=\"19da4e2a-b207-4d0e-93a5-855a48d72f8c\")>,\n",
       " <selenium.webdriver.remote.webelement.WebElement (session=\"0778966c76b6c5de4fd46c7f44acb731\", element=\"d2420da2-b745-4de0-a6b8-2e92d677c704\")>,\n",
       " <selenium.webdriver.remote.webelement.WebElement (session=\"0778966c76b6c5de4fd46c7f44acb731\", element=\"6b7292c7-23f9-4799-ae03-4676aa30541f\")>,\n",
       " <selenium.webdriver.remote.webelement.WebElement (session=\"0778966c76b6c5de4fd46c7f44acb731\", element=\"c025e79b-aab8-40da-9f77-039b9a08cec5\")>,\n",
       " <selenium.webdriver.remote.webelement.WebElement (session=\"0778966c76b6c5de4fd46c7f44acb731\", element=\"d12e834e-67ed-48a0-80ea-9f5ffaa8d568\")>,\n",
       " <selenium.webdriver.remote.webelement.WebElement (session=\"0778966c76b6c5de4fd46c7f44acb731\", element=\"d0d78848-6d59-4049-93f0-d7fe04a253d5\")>,\n",
       " <selenium.webdriver.remote.webelement.WebElement (session=\"0778966c76b6c5de4fd46c7f44acb731\", element=\"8ea5d429-88e3-4a82-a976-3a942e24591e\")>,\n",
       " <selenium.webdriver.remote.webelement.WebElement (session=\"0778966c76b6c5de4fd46c7f44acb731\", element=\"5ccffd0f-5c1c-4e77-aafb-60d486474ae7\")>,\n",
       " <selenium.webdriver.remote.webelement.WebElement (session=\"0778966c76b6c5de4fd46c7f44acb731\", element=\"37decf2a-b0c7-485b-a34d-fbf26ab7f4d5\")>]"
      ]
     },
     "execution_count": 44,
     "metadata": {},
     "output_type": "execute_result"
    }
   ],
   "source": [
    "exp_tag=driver.find_elements_by_xpath(\"//div[@class='salaries sbold-list-header']\")\n",
    "exp_tag"
   ]
  },
  {
   "cell_type": "code",
   "execution_count": 47,
   "id": "19fd50a9",
   "metadata": {},
   "outputs": [
    {
     "data": {
      "text/plain": [
       "[' 1-4 yrs exp',\n",
       " ' 2 yrs exp',\n",
       " ' 1-4 yrs exp',\n",
       " ' 1-4 yrs exp',\n",
       " ' 2-3 yrs exp',\n",
       " ' 3 yrs exp',\n",
       " ' 1-4 yrs exp',\n",
       " ' 1-2 yrs exp',\n",
       " ' 1 yr exp',\n",
       " ' 1-2 yrs exp']"
      ]
     },
     "execution_count": 47,
     "metadata": {},
     "output_type": "execute_result"
    }
   ],
   "source": [
    "exp=[]\n",
    "\n",
    "for i in exp_tag:\n",
    "    exp.append(i.text.replace('\\n','').split('.')[1])\n",
    "exp"
   ]
  },
  {
   "cell_type": "code",
   "execution_count": 61,
   "id": "a7e48538",
   "metadata": {},
   "outputs": [],
   "source": [
    "jobs=pd.DataFrame({})\n",
    "jobs['Company']=company\n",
    "jobs['Experience']=exp\n",
    "jobs['Max Salary']=maxi\n",
    "jobs['Min Salary']=mini\n",
    "jobs['Average Salary']=avrg\n",
    "jobs['Total Salary']=total"
   ]
  },
  {
   "cell_type": "code",
   "execution_count": 62,
   "id": "841d0156",
   "metadata": {},
   "outputs": [
    {
     "data": {
      "text/html": [
       "<div>\n",
       "<style scoped>\n",
       "    .dataframe tbody tr th:only-of-type {\n",
       "        vertical-align: middle;\n",
       "    }\n",
       "\n",
       "    .dataframe tbody tr th {\n",
       "        vertical-align: top;\n",
       "    }\n",
       "\n",
       "    .dataframe thead th {\n",
       "        text-align: right;\n",
       "    }\n",
       "</style>\n",
       "<table border=\"1\" class=\"dataframe\">\n",
       "  <thead>\n",
       "    <tr style=\"text-align: right;\">\n",
       "      <th></th>\n",
       "      <th>Company</th>\n",
       "      <th>Experience</th>\n",
       "      <th>Max Salary</th>\n",
       "      <th>Min Salary</th>\n",
       "      <th>Average Salary</th>\n",
       "      <th>Total Salary</th>\n",
       "    </tr>\n",
       "  </thead>\n",
       "  <tbody>\n",
       "    <tr>\n",
       "      <th>0</th>\n",
       "      <td>Microsoft Corporation</td>\n",
       "      <td>1-4 yrs exp</td>\n",
       "      <td>₹ 45.0L</td>\n",
       "      <td>₹ 12.0L</td>\n",
       "      <td>₹ 22.4L</td>\n",
       "      <td>based on 209 salaries</td>\n",
       "    </tr>\n",
       "    <tr>\n",
       "      <th>1</th>\n",
       "      <td>Goldman Sachs</td>\n",
       "      <td>2 yrs exp</td>\n",
       "      <td>₹ 30.0L</td>\n",
       "      <td>₹ 16.0L</td>\n",
       "      <td>₹ 21.2L</td>\n",
       "      <td>based on 10 salaries</td>\n",
       "    </tr>\n",
       "    <tr>\n",
       "      <th>2</th>\n",
       "      <td>Flipkart</td>\n",
       "      <td>1-4 yrs exp</td>\n",
       "      <td>₹ 30.0L</td>\n",
       "      <td>₹ 7.0L</td>\n",
       "      <td>₹ 20.8L</td>\n",
       "      <td>based on 51 salaries</td>\n",
       "    </tr>\n",
       "    <tr>\n",
       "      <th>3</th>\n",
       "      <td>Amazon</td>\n",
       "      <td>1-4 yrs exp</td>\n",
       "      <td>₹ 40.0L</td>\n",
       "      <td>₹ 8.0L</td>\n",
       "      <td>₹ 19.2L</td>\n",
       "      <td>based on 75 salaries</td>\n",
       "    </tr>\n",
       "    <tr>\n",
       "      <th>4</th>\n",
       "      <td>Servicenow Software Development India</td>\n",
       "      <td>2-3 yrs exp</td>\n",
       "      <td>₹ 25.0L</td>\n",
       "      <td>₹ 13.0L</td>\n",
       "      <td>₹ 18.2L</td>\n",
       "      <td>based on 25 salaries</td>\n",
       "    </tr>\n",
       "    <tr>\n",
       "      <th>5</th>\n",
       "      <td>ServiceNow</td>\n",
       "      <td>3 yrs exp</td>\n",
       "      <td>₹ 23.0L</td>\n",
       "      <td>₹ 11.2L</td>\n",
       "      <td>₹ 18.0L</td>\n",
       "      <td>based on 15 salaries</td>\n",
       "    </tr>\n",
       "    <tr>\n",
       "      <th>6</th>\n",
       "      <td>Walmart</td>\n",
       "      <td>1-4 yrs exp</td>\n",
       "      <td>₹ 32.0L</td>\n",
       "      <td>₹ 10.0L</td>\n",
       "      <td>₹ 17.9L</td>\n",
       "      <td>based on 70 salaries</td>\n",
       "    </tr>\n",
       "    <tr>\n",
       "      <th>7</th>\n",
       "      <td>Arcesium</td>\n",
       "      <td>1-2 yrs exp</td>\n",
       "      <td>₹ 30.0L</td>\n",
       "      <td>₹ 12.0L</td>\n",
       "      <td>₹ 17.7L</td>\n",
       "      <td>based on 54 salaries</td>\n",
       "    </tr>\n",
       "    <tr>\n",
       "      <th>8</th>\n",
       "      <td>PayPal</td>\n",
       "      <td>1 yr exp</td>\n",
       "      <td>₹ 23.0L</td>\n",
       "      <td>₹ 12.0L</td>\n",
       "      <td>₹ 17.6L</td>\n",
       "      <td>based on 12 salaries</td>\n",
       "    </tr>\n",
       "    <tr>\n",
       "      <th>9</th>\n",
       "      <td>Visa</td>\n",
       "      <td>1-2 yrs exp</td>\n",
       "      <td>₹ 23.0L</td>\n",
       "      <td>₹ 13.0L</td>\n",
       "      <td>₹ 17.1L</td>\n",
       "      <td>based on 26 salaries</td>\n",
       "    </tr>\n",
       "  </tbody>\n",
       "</table>\n",
       "</div>"
      ],
      "text/plain": [
       "                                 Company    Experience Max Salary Min Salary  \\\n",
       "0                  Microsoft Corporation   1-4 yrs exp    ₹ 45.0L    ₹ 12.0L   \n",
       "1                          Goldman Sachs     2 yrs exp    ₹ 30.0L    ₹ 16.0L   \n",
       "2                               Flipkart   1-4 yrs exp    ₹ 30.0L     ₹ 7.0L   \n",
       "3                                 Amazon   1-4 yrs exp    ₹ 40.0L     ₹ 8.0L   \n",
       "4  Servicenow Software Development India   2-3 yrs exp    ₹ 25.0L    ₹ 13.0L   \n",
       "5                             ServiceNow     3 yrs exp    ₹ 23.0L    ₹ 11.2L   \n",
       "6                                Walmart   1-4 yrs exp    ₹ 32.0L    ₹ 10.0L   \n",
       "7                               Arcesium   1-2 yrs exp    ₹ 30.0L    ₹ 12.0L   \n",
       "8                                 PayPal      1 yr exp    ₹ 23.0L    ₹ 12.0L   \n",
       "9                                   Visa   1-2 yrs exp    ₹ 23.0L    ₹ 13.0L   \n",
       "\n",
       "  Average Salary           Total Salary  \n",
       "0        ₹ 22.4L  based on 209 salaries  \n",
       "1        ₹ 21.2L   based on 10 salaries  \n",
       "2        ₹ 20.8L   based on 51 salaries  \n",
       "3        ₹ 19.2L   based on 75 salaries  \n",
       "4        ₹ 18.2L   based on 25 salaries  \n",
       "5        ₹ 18.0L   based on 15 salaries  \n",
       "6        ₹ 17.9L   based on 70 salaries  \n",
       "7        ₹ 17.7L   based on 54 salaries  \n",
       "8        ₹ 17.6L   based on 12 salaries  \n",
       "9        ₹ 17.1L   based on 26 salaries  "
      ]
     },
     "execution_count": 62,
     "metadata": {},
     "output_type": "execute_result"
    }
   ],
   "source": [
    "jobs\n"
   ]
  },
  {
   "cell_type": "code",
   "execution_count": null,
   "id": "1b15bb2d",
   "metadata": {},
   "outputs": [],
   "source": []
  }
 ],
 "metadata": {
  "kernelspec": {
   "display_name": "Python 3",
   "language": "python",
   "name": "python3"
  },
  "language_info": {
   "codemirror_mode": {
    "name": "ipython",
    "version": 3
   },
   "file_extension": ".py",
   "mimetype": "text/x-python",
   "name": "python",
   "nbconvert_exporter": "python",
   "pygments_lexer": "ipython3",
   "version": "3.8.8"
  }
 },
 "nbformat": 4,
 "nbformat_minor": 5
}
