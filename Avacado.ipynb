{
 "cells": [
  {
   "cell_type": "code",
   "execution_count": 1,
   "id": "c25eb9f7",
   "metadata": {},
   "outputs": [],
   "source": [
    "import pandas as pd\n",
    "import matplotlib.pyplot as plt\n",
    "import numpy as np\n",
    "import seaborn as sn\n",
    "from sklearn.metrics import accuracy_score\n",
    "from sklearn.metrics import confusion_matrix,classification_report\n",
    "from sklearn.model_selection import train_test_split\n",
    "import warnings\n",
    "warnings.filterwarnings('ignore')"
   ]
  },
  {
   "cell_type": "code",
   "execution_count": 2,
   "id": "5524a8c5",
   "metadata": {},
   "outputs": [],
   "source": [
    "df=pd.read_csv(\"E:\\\\Data Trained\\\\Python Code\\\\avocado\\\\avocado.csv\")\n"
   ]
  },
  {
   "cell_type": "code",
   "execution_count": 3,
   "id": "db85a598",
   "metadata": {},
   "outputs": [
    {
     "data": {
      "text/html": [
       "<div>\n",
       "<style scoped>\n",
       "    .dataframe tbody tr th:only-of-type {\n",
       "        vertical-align: middle;\n",
       "    }\n",
       "\n",
       "    .dataframe tbody tr th {\n",
       "        vertical-align: top;\n",
       "    }\n",
       "\n",
       "    .dataframe thead th {\n",
       "        text-align: right;\n",
       "    }\n",
       "</style>\n",
       "<table border=\"1\" class=\"dataframe\">\n",
       "  <thead>\n",
       "    <tr style=\"text-align: right;\">\n",
       "      <th></th>\n",
       "      <th>Unnamed: 0</th>\n",
       "      <th>Date</th>\n",
       "      <th>AveragePrice</th>\n",
       "      <th>Total Volume</th>\n",
       "      <th>4046</th>\n",
       "      <th>4225</th>\n",
       "      <th>4770</th>\n",
       "      <th>Total Bags</th>\n",
       "      <th>Small Bags</th>\n",
       "      <th>Large Bags</th>\n",
       "      <th>XLarge Bags</th>\n",
       "      <th>type</th>\n",
       "      <th>year</th>\n",
       "      <th>region</th>\n",
       "    </tr>\n",
       "  </thead>\n",
       "  <tbody>\n",
       "    <tr>\n",
       "      <th>0</th>\n",
       "      <td>0</td>\n",
       "      <td>2015-12-27</td>\n",
       "      <td>1.33</td>\n",
       "      <td>64236.62</td>\n",
       "      <td>1036.74</td>\n",
       "      <td>54454.85</td>\n",
       "      <td>48.16</td>\n",
       "      <td>8696.87</td>\n",
       "      <td>8603.62</td>\n",
       "      <td>93.25</td>\n",
       "      <td>0.0</td>\n",
       "      <td>conventional</td>\n",
       "      <td>2015</td>\n",
       "      <td>Albany</td>\n",
       "    </tr>\n",
       "    <tr>\n",
       "      <th>1</th>\n",
       "      <td>1</td>\n",
       "      <td>2015-12-20</td>\n",
       "      <td>1.35</td>\n",
       "      <td>54876.98</td>\n",
       "      <td>674.28</td>\n",
       "      <td>44638.81</td>\n",
       "      <td>58.33</td>\n",
       "      <td>9505.56</td>\n",
       "      <td>9408.07</td>\n",
       "      <td>97.49</td>\n",
       "      <td>0.0</td>\n",
       "      <td>conventional</td>\n",
       "      <td>2015</td>\n",
       "      <td>Albany</td>\n",
       "    </tr>\n",
       "    <tr>\n",
       "      <th>2</th>\n",
       "      <td>2</td>\n",
       "      <td>2015-12-13</td>\n",
       "      <td>0.93</td>\n",
       "      <td>118220.22</td>\n",
       "      <td>794.70</td>\n",
       "      <td>109149.67</td>\n",
       "      <td>130.50</td>\n",
       "      <td>8145.35</td>\n",
       "      <td>8042.21</td>\n",
       "      <td>103.14</td>\n",
       "      <td>0.0</td>\n",
       "      <td>conventional</td>\n",
       "      <td>2015</td>\n",
       "      <td>Albany</td>\n",
       "    </tr>\n",
       "    <tr>\n",
       "      <th>3</th>\n",
       "      <td>3</td>\n",
       "      <td>2015-12-06</td>\n",
       "      <td>1.08</td>\n",
       "      <td>78992.15</td>\n",
       "      <td>1132.00</td>\n",
       "      <td>71976.41</td>\n",
       "      <td>72.58</td>\n",
       "      <td>5811.16</td>\n",
       "      <td>5677.40</td>\n",
       "      <td>133.76</td>\n",
       "      <td>0.0</td>\n",
       "      <td>conventional</td>\n",
       "      <td>2015</td>\n",
       "      <td>Albany</td>\n",
       "    </tr>\n",
       "    <tr>\n",
       "      <th>4</th>\n",
       "      <td>4</td>\n",
       "      <td>2015-11-29</td>\n",
       "      <td>1.28</td>\n",
       "      <td>51039.60</td>\n",
       "      <td>941.48</td>\n",
       "      <td>43838.39</td>\n",
       "      <td>75.78</td>\n",
       "      <td>6183.95</td>\n",
       "      <td>5986.26</td>\n",
       "      <td>197.69</td>\n",
       "      <td>0.0</td>\n",
       "      <td>conventional</td>\n",
       "      <td>2015</td>\n",
       "      <td>Albany</td>\n",
       "    </tr>\n",
       "  </tbody>\n",
       "</table>\n",
       "</div>"
      ],
      "text/plain": [
       "   Unnamed: 0        Date  AveragePrice  Total Volume     4046       4225  \\\n",
       "0           0  2015-12-27          1.33      64236.62  1036.74   54454.85   \n",
       "1           1  2015-12-20          1.35      54876.98   674.28   44638.81   \n",
       "2           2  2015-12-13          0.93     118220.22   794.70  109149.67   \n",
       "3           3  2015-12-06          1.08      78992.15  1132.00   71976.41   \n",
       "4           4  2015-11-29          1.28      51039.60   941.48   43838.39   \n",
       "\n",
       "     4770  Total Bags  Small Bags  Large Bags  XLarge Bags          type  \\\n",
       "0   48.16     8696.87     8603.62       93.25          0.0  conventional   \n",
       "1   58.33     9505.56     9408.07       97.49          0.0  conventional   \n",
       "2  130.50     8145.35     8042.21      103.14          0.0  conventional   \n",
       "3   72.58     5811.16     5677.40      133.76          0.0  conventional   \n",
       "4   75.78     6183.95     5986.26      197.69          0.0  conventional   \n",
       "\n",
       "   year  region  \n",
       "0  2015  Albany  \n",
       "1  2015  Albany  \n",
       "2  2015  Albany  \n",
       "3  2015  Albany  \n",
       "4  2015  Albany  "
      ]
     },
     "execution_count": 3,
     "metadata": {},
     "output_type": "execute_result"
    }
   ],
   "source": [
    "df.head()"
   ]
  },
  {
   "cell_type": "code",
   "execution_count": 10,
   "id": "26500e15",
   "metadata": {},
   "outputs": [
    {
     "data": {
      "text/plain": [
       "(18249, 14)"
      ]
     },
     "execution_count": 10,
     "metadata": {},
     "output_type": "execute_result"
    }
   ],
   "source": [
    "df.shape"
   ]
  },
  {
   "cell_type": "markdown",
   "id": "e9c5bb6c",
   "metadata": {},
   "source": [
    "There are 18249 rows and 14 columns"
   ]
  },
  {
   "cell_type": "code",
   "execution_count": 11,
   "id": "8b835391",
   "metadata": {},
   "outputs": [
    {
     "data": {
      "text/plain": [
       "Unnamed: 0        int64\n",
       "Date             object\n",
       "AveragePrice    float64\n",
       "Total Volume    float64\n",
       "4046            float64\n",
       "4225            float64\n",
       "4770            float64\n",
       "Total Bags      float64\n",
       "Small Bags      float64\n",
       "Large Bags      float64\n",
       "XLarge Bags     float64\n",
       "type             object\n",
       "year              int64\n",
       "region           object\n",
       "dtype: object"
      ]
     },
     "execution_count": 11,
     "metadata": {},
     "output_type": "execute_result"
    }
   ],
   "source": [
    "df.dtypes"
   ]
  },
  {
   "cell_type": "code",
   "execution_count": 12,
   "id": "fd6e5e0f",
   "metadata": {},
   "outputs": [
    {
     "data": {
      "text/plain": [
       "Index(['Unnamed: 0', 'Date', 'AveragePrice', 'Total Volume', '4046', '4225',\n",
       "       '4770', 'Total Bags', 'Small Bags', 'Large Bags', 'XLarge Bags', 'type',\n",
       "       'year', 'region'],\n",
       "      dtype='object')"
      ]
     },
     "execution_count": 12,
     "metadata": {},
     "output_type": "execute_result"
    }
   ],
   "source": [
    "df.columns"
   ]
  },
  {
   "cell_type": "code",
   "execution_count": 5,
   "id": "4ebca6b2",
   "metadata": {},
   "outputs": [
    {
     "data": {
      "text/plain": [
       "Unnamed: 0      0\n",
       "Date            0\n",
       "AveragePrice    0\n",
       "Total Volume    0\n",
       "4046            0\n",
       "4225            0\n",
       "4770            0\n",
       "Total Bags      0\n",
       "Small Bags      0\n",
       "Large Bags      0\n",
       "XLarge Bags     0\n",
       "type            0\n",
       "year            0\n",
       "region          0\n",
       "dtype: int64"
      ]
     },
     "execution_count": 5,
     "metadata": {},
     "output_type": "execute_result"
    }
   ],
   "source": [
    "df.isnull().sum()"
   ]
  },
  {
   "cell_type": "code",
   "execution_count": 4,
   "id": "f9a8e144",
   "metadata": {},
   "outputs": [
    {
     "data": {
      "text/html": [
       "<div>\n",
       "<style scoped>\n",
       "    .dataframe tbody tr th:only-of-type {\n",
       "        vertical-align: middle;\n",
       "    }\n",
       "\n",
       "    .dataframe tbody tr th {\n",
       "        vertical-align: top;\n",
       "    }\n",
       "\n",
       "    .dataframe thead th {\n",
       "        text-align: right;\n",
       "    }\n",
       "</style>\n",
       "<table border=\"1\" class=\"dataframe\">\n",
       "  <thead>\n",
       "    <tr style=\"text-align: right;\">\n",
       "      <th></th>\n",
       "      <th>Date</th>\n",
       "      <th>AveragePrice</th>\n",
       "      <th>Total Volume</th>\n",
       "      <th>4046</th>\n",
       "      <th>4225</th>\n",
       "      <th>4770</th>\n",
       "      <th>Total Bags</th>\n",
       "      <th>Small Bags</th>\n",
       "      <th>Large Bags</th>\n",
       "      <th>XLarge Bags</th>\n",
       "      <th>type</th>\n",
       "      <th>year</th>\n",
       "      <th>region</th>\n",
       "    </tr>\n",
       "  </thead>\n",
       "  <tbody>\n",
       "    <tr>\n",
       "      <th>0</th>\n",
       "      <td>2015-12-27</td>\n",
       "      <td>1.33</td>\n",
       "      <td>64236.62</td>\n",
       "      <td>1036.74</td>\n",
       "      <td>54454.85</td>\n",
       "      <td>48.16</td>\n",
       "      <td>8696.87</td>\n",
       "      <td>8603.62</td>\n",
       "      <td>93.25</td>\n",
       "      <td>0.0</td>\n",
       "      <td>conventional</td>\n",
       "      <td>2015</td>\n",
       "      <td>Albany</td>\n",
       "    </tr>\n",
       "    <tr>\n",
       "      <th>1</th>\n",
       "      <td>2015-12-20</td>\n",
       "      <td>1.35</td>\n",
       "      <td>54876.98</td>\n",
       "      <td>674.28</td>\n",
       "      <td>44638.81</td>\n",
       "      <td>58.33</td>\n",
       "      <td>9505.56</td>\n",
       "      <td>9408.07</td>\n",
       "      <td>97.49</td>\n",
       "      <td>0.0</td>\n",
       "      <td>conventional</td>\n",
       "      <td>2015</td>\n",
       "      <td>Albany</td>\n",
       "    </tr>\n",
       "    <tr>\n",
       "      <th>2</th>\n",
       "      <td>2015-12-13</td>\n",
       "      <td>0.93</td>\n",
       "      <td>118220.22</td>\n",
       "      <td>794.70</td>\n",
       "      <td>109149.67</td>\n",
       "      <td>130.50</td>\n",
       "      <td>8145.35</td>\n",
       "      <td>8042.21</td>\n",
       "      <td>103.14</td>\n",
       "      <td>0.0</td>\n",
       "      <td>conventional</td>\n",
       "      <td>2015</td>\n",
       "      <td>Albany</td>\n",
       "    </tr>\n",
       "    <tr>\n",
       "      <th>3</th>\n",
       "      <td>2015-12-06</td>\n",
       "      <td>1.08</td>\n",
       "      <td>78992.15</td>\n",
       "      <td>1132.00</td>\n",
       "      <td>71976.41</td>\n",
       "      <td>72.58</td>\n",
       "      <td>5811.16</td>\n",
       "      <td>5677.40</td>\n",
       "      <td>133.76</td>\n",
       "      <td>0.0</td>\n",
       "      <td>conventional</td>\n",
       "      <td>2015</td>\n",
       "      <td>Albany</td>\n",
       "    </tr>\n",
       "    <tr>\n",
       "      <th>4</th>\n",
       "      <td>2015-11-29</td>\n",
       "      <td>1.28</td>\n",
       "      <td>51039.60</td>\n",
       "      <td>941.48</td>\n",
       "      <td>43838.39</td>\n",
       "      <td>75.78</td>\n",
       "      <td>6183.95</td>\n",
       "      <td>5986.26</td>\n",
       "      <td>197.69</td>\n",
       "      <td>0.0</td>\n",
       "      <td>conventional</td>\n",
       "      <td>2015</td>\n",
       "      <td>Albany</td>\n",
       "    </tr>\n",
       "    <tr>\n",
       "      <th>...</th>\n",
       "      <td>...</td>\n",
       "      <td>...</td>\n",
       "      <td>...</td>\n",
       "      <td>...</td>\n",
       "      <td>...</td>\n",
       "      <td>...</td>\n",
       "      <td>...</td>\n",
       "      <td>...</td>\n",
       "      <td>...</td>\n",
       "      <td>...</td>\n",
       "      <td>...</td>\n",
       "      <td>...</td>\n",
       "      <td>...</td>\n",
       "    </tr>\n",
       "    <tr>\n",
       "      <th>18244</th>\n",
       "      <td>2018-02-04</td>\n",
       "      <td>1.63</td>\n",
       "      <td>17074.83</td>\n",
       "      <td>2046.96</td>\n",
       "      <td>1529.20</td>\n",
       "      <td>0.00</td>\n",
       "      <td>13498.67</td>\n",
       "      <td>13066.82</td>\n",
       "      <td>431.85</td>\n",
       "      <td>0.0</td>\n",
       "      <td>organic</td>\n",
       "      <td>2018</td>\n",
       "      <td>WestTexNewMexico</td>\n",
       "    </tr>\n",
       "    <tr>\n",
       "      <th>18245</th>\n",
       "      <td>2018-01-28</td>\n",
       "      <td>1.71</td>\n",
       "      <td>13888.04</td>\n",
       "      <td>1191.70</td>\n",
       "      <td>3431.50</td>\n",
       "      <td>0.00</td>\n",
       "      <td>9264.84</td>\n",
       "      <td>8940.04</td>\n",
       "      <td>324.80</td>\n",
       "      <td>0.0</td>\n",
       "      <td>organic</td>\n",
       "      <td>2018</td>\n",
       "      <td>WestTexNewMexico</td>\n",
       "    </tr>\n",
       "    <tr>\n",
       "      <th>18246</th>\n",
       "      <td>2018-01-21</td>\n",
       "      <td>1.87</td>\n",
       "      <td>13766.76</td>\n",
       "      <td>1191.92</td>\n",
       "      <td>2452.79</td>\n",
       "      <td>727.94</td>\n",
       "      <td>9394.11</td>\n",
       "      <td>9351.80</td>\n",
       "      <td>42.31</td>\n",
       "      <td>0.0</td>\n",
       "      <td>organic</td>\n",
       "      <td>2018</td>\n",
       "      <td>WestTexNewMexico</td>\n",
       "    </tr>\n",
       "    <tr>\n",
       "      <th>18247</th>\n",
       "      <td>2018-01-14</td>\n",
       "      <td>1.93</td>\n",
       "      <td>16205.22</td>\n",
       "      <td>1527.63</td>\n",
       "      <td>2981.04</td>\n",
       "      <td>727.01</td>\n",
       "      <td>10969.54</td>\n",
       "      <td>10919.54</td>\n",
       "      <td>50.00</td>\n",
       "      <td>0.0</td>\n",
       "      <td>organic</td>\n",
       "      <td>2018</td>\n",
       "      <td>WestTexNewMexico</td>\n",
       "    </tr>\n",
       "    <tr>\n",
       "      <th>18248</th>\n",
       "      <td>2018-01-07</td>\n",
       "      <td>1.62</td>\n",
       "      <td>17489.58</td>\n",
       "      <td>2894.77</td>\n",
       "      <td>2356.13</td>\n",
       "      <td>224.53</td>\n",
       "      <td>12014.15</td>\n",
       "      <td>11988.14</td>\n",
       "      <td>26.01</td>\n",
       "      <td>0.0</td>\n",
       "      <td>organic</td>\n",
       "      <td>2018</td>\n",
       "      <td>WestTexNewMexico</td>\n",
       "    </tr>\n",
       "  </tbody>\n",
       "</table>\n",
       "<p>18249 rows × 13 columns</p>\n",
       "</div>"
      ],
      "text/plain": [
       "             Date  AveragePrice  Total Volume     4046       4225    4770  \\\n",
       "0      2015-12-27          1.33      64236.62  1036.74   54454.85   48.16   \n",
       "1      2015-12-20          1.35      54876.98   674.28   44638.81   58.33   \n",
       "2      2015-12-13          0.93     118220.22   794.70  109149.67  130.50   \n",
       "3      2015-12-06          1.08      78992.15  1132.00   71976.41   72.58   \n",
       "4      2015-11-29          1.28      51039.60   941.48   43838.39   75.78   \n",
       "...           ...           ...           ...      ...        ...     ...   \n",
       "18244  2018-02-04          1.63      17074.83  2046.96    1529.20    0.00   \n",
       "18245  2018-01-28          1.71      13888.04  1191.70    3431.50    0.00   \n",
       "18246  2018-01-21          1.87      13766.76  1191.92    2452.79  727.94   \n",
       "18247  2018-01-14          1.93      16205.22  1527.63    2981.04  727.01   \n",
       "18248  2018-01-07          1.62      17489.58  2894.77    2356.13  224.53   \n",
       "\n",
       "       Total Bags  Small Bags  Large Bags  XLarge Bags          type  year  \\\n",
       "0         8696.87     8603.62       93.25          0.0  conventional  2015   \n",
       "1         9505.56     9408.07       97.49          0.0  conventional  2015   \n",
       "2         8145.35     8042.21      103.14          0.0  conventional  2015   \n",
       "3         5811.16     5677.40      133.76          0.0  conventional  2015   \n",
       "4         6183.95     5986.26      197.69          0.0  conventional  2015   \n",
       "...           ...         ...         ...          ...           ...   ...   \n",
       "18244    13498.67    13066.82      431.85          0.0       organic  2018   \n",
       "18245     9264.84     8940.04      324.80          0.0       organic  2018   \n",
       "18246     9394.11     9351.80       42.31          0.0       organic  2018   \n",
       "18247    10969.54    10919.54       50.00          0.0       organic  2018   \n",
       "18248    12014.15    11988.14       26.01          0.0       organic  2018   \n",
       "\n",
       "                 region  \n",
       "0                Albany  \n",
       "1                Albany  \n",
       "2                Albany  \n",
       "3                Albany  \n",
       "4                Albany  \n",
       "...                 ...  \n",
       "18244  WestTexNewMexico  \n",
       "18245  WestTexNewMexico  \n",
       "18246  WestTexNewMexico  \n",
       "18247  WestTexNewMexico  \n",
       "18248  WestTexNewMexico  \n",
       "\n",
       "[18249 rows x 13 columns]"
      ]
     },
     "execution_count": 4,
     "metadata": {},
     "output_type": "execute_result"
    }
   ],
   "source": [
    "df.drop(['Unnamed: 0'],axis=1,inplace=True)\n",
    "df"
   ]
  },
  {
   "cell_type": "markdown",
   "id": "c3ec9817",
   "metadata": {},
   "source": [
    "There is 18249 rows and 13 columns"
   ]
  },
  {
   "cell_type": "code",
   "execution_count": 7,
   "id": "30ed96d9",
   "metadata": {},
   "outputs": [
    {
     "data": {
      "text/plain": [
       "<AxesSubplot:>"
      ]
     },
     "execution_count": 7,
     "metadata": {},
     "output_type": "execute_result"
    },
    {
     "data": {
      "image/png": "[encoded data removed]",
      "text/plain": [
       "<Figure size 432x288 with 2 Axes>"
      ]
     },
     "metadata": {
      "needs_background": "light"
     },
     "output_type": "display_data"
    }
   ],
   "source": [
    "sn.heatmap(df.isnull())"
   ]
  },
  {
   "cell_type": "markdown",
   "id": "11d7098f",
   "metadata": {},
   "source": [
    "Converting objetc type to date"
   ]
  },
  {
   "cell_type": "code",
   "execution_count": 7,
   "id": "ec4e8652",
   "metadata": {},
   "outputs": [],
   "source": [
    "df['Date'] =  pd.to_datetime(df['Date'])"
   ]
  },
  {
   "cell_type": "code",
   "execution_count": 10,
   "id": "71de2bec",
   "metadata": {},
   "outputs": [
    {
     "data": {
      "text/plain": [
       "Date            datetime64[ns]\n",
       "AveragePrice           float64\n",
       "Total Volume           float64\n",
       "4046                   float64\n",
       "4225                   float64\n",
       "4770                   float64\n",
       "Total Bags             float64\n",
       "Small Bags             float64\n",
       "Large Bags             float64\n",
       "XLarge Bags            float64\n",
       "type                    object\n",
       "year                     int64\n",
       "region                  object\n",
       "dtype: object"
      ]
     },
     "execution_count": 10,
     "metadata": {},
     "output_type": "execute_result"
    }
   ],
   "source": [
    "df.dtypes"
   ]
  },
  {
   "cell_type": "markdown",
   "id": "a5170422",
   "metadata": {},
   "source": [
    "# Visualization of Data"
   ]
  },
  {
   "cell_type": "markdown",
   "id": "a5c6e7c5",
   "metadata": {},
   "source": [
    "Checking the distribution of the continuous value of the float type columns."
   ]
  },
  {
   "cell_type": "code",
   "execution_count": 11,
   "id": "587d3897",
   "metadata": {},
   "outputs": [
    {
     "data": {
      "text/plain": [
       "<AxesSubplot:xlabel='AveragePrice', ylabel='Density'>"
      ]
     },
     "execution_count": 11,
     "metadata": {},
     "output_type": "execute_result"
    },
    {
     "data": {
      "image/png": "[encoded data removed]",
      "text/plain": [
       "<Figure size 432x288 with 1 Axes>"
      ]
     },
     "metadata": {
      "needs_background": "light"
     },
     "output_type": "display_data"
    }
   ],
   "source": [
    "sn.distplot(df['AveragePrice'], kde=True)"
   ]
  },
  {
   "cell_type": "code",
   "execution_count": 12,
   "id": "e3952dfc",
   "metadata": {},
   "outputs": [
    {
     "data": {
      "text/plain": [
       "<AxesSubplot:xlabel='Total Volume', ylabel='Density'>"
      ]
     },
     "execution_count": 12,
     "metadata": {},
     "output_type": "execute_result"
    },
    {
     "data": {
      "image/png": "[encoded data removed]",
      "text/plain": [
       "<Figure size 432x288 with 1 Axes>"
      ]
     },
     "metadata": {
      "needs_background": "light"
     },
     "output_type": "display_data"
    }
   ],
   "source": [
    "sn.distplot(df['Total Volume'], kde=True)"
   ]
  },
  {
   "cell_type": "code",
   "execution_count": 13,
   "id": "2c84ad31",
   "metadata": {},
   "outputs": [
    {
     "data": {
      "text/plain": [
       "<AxesSubplot:xlabel='4046', ylabel='Density'>"
      ]
     },
     "execution_count": 13,
     "metadata": {},
     "output_type": "execute_result"
    },
    {
     "data": {
      "image/png": "[encoded data removed]",
      "text/plain": [
       "<Figure size 432x288 with 1 Axes>"
      ]
     },
     "metadata": {
      "needs_background": "light"
     },
     "output_type": "display_data"
    }
   ],
   "source": [
    "sn.distplot(df['4046'], kde=True)"
   ]
  },
  {
   "cell_type": "code",
   "execution_count": 14,
   "id": "10d2de02",
   "metadata": {},
   "outputs": [
    {
     "data": {
      "text/plain": [
       "<AxesSubplot:xlabel='4225', ylabel='Density'>"
      ]
     },
     "execution_count": 14,
     "metadata": {},
     "output_type": "execute_result"
    },
    {
     "data": {
      "image/png": "[encoded data removed]",
      "text/plain": [
       "<Figure size 432x288 with 1 Axes>"
      ]
     },
     "metadata": {
      "needs_background": "light"
     },
     "output_type": "display_data"
    }
   ],
   "source": [
    "sn.distplot(df['4225'], kde=True)"
   ]
  },
  {
   "cell_type": "code",
   "execution_count": 15,
   "id": "fe5469f0",
   "metadata": {},
   "outputs": [
    {
     "data": {
      "text/plain": [
       "<AxesSubplot:xlabel='4770', ylabel='Density'>"
      ]
     },
     "execution_count": 15,
     "metadata": {},
     "output_type": "execute_result"
    },
    {
     "data": {
      "image/png": "[encoded data removed]",
      "text/plain": [
       "<Figure size 432x288 with 1 Axes>"
      ]
     },
     "metadata": {
      "needs_background": "light"
     },
     "output_type": "display_data"
    }
   ],
   "source": [
    "sn.distplot(df['4770'], kde=True)"
   ]
  },
  {
   "cell_type": "code",
   "execution_count": 16,
   "id": "dc34935c",
   "metadata": {},
   "outputs": [
    {
     "data": {
      "text/plain": [
       "<AxesSubplot:xlabel='Total Bags', ylabel='Density'>"
      ]
     },
     "execution_count": 16,
     "metadata": {},
     "output_type": "execute_result"
    },
    {
     "data": {
      "image/png": "[encoded data removed]",
      "text/plain": [
       "<Figure size 432x288 with 1 Axes>"
      ]
     },
     "metadata": {
      "needs_background": "light"
     },
     "output_type": "display_data"
    }
   ],
   "source": [
    "sn.distplot(df['Total Bags'], kde=True)"
   ]
  },
  {
   "cell_type": "code",
   "execution_count": 18,
   "id": "c1532a2c",
   "metadata": {},
   "outputs": [
    {
     "data": {
      "text/plain": [
       "<AxesSubplot:xlabel='Small Bags', ylabel='Density'>"
      ]
     },
     "execution_count": 18,
     "metadata": {},
     "output_type": "execute_result"
    },
    {
     "data": {
      "image/png": "[encoded data removed]",
      "text/plain": [
       "<Figure size 432x288 with 1 Axes>"
      ]
     },
     "metadata": {
      "needs_background": "light"
     },
     "output_type": "display_data"
    }
   ],
   "source": [
    "sn.distplot(df['Small Bags'], kde=True)"
   ]
  },
  {
   "cell_type": "code",
   "execution_count": 19,
   "id": "40516314",
   "metadata": {},
   "outputs": [
    {
     "data": {
      "text/plain": [
       "<AxesSubplot:xlabel='Large Bags', ylabel='Density'>"
      ]
     },
     "execution_count": 19,
     "metadata": {},
     "output_type": "execute_result"
    },
    {
     "data": {
      "image/png": "[encoded data removed]",
      "text/plain": [
       "<Figure size 432x288 with 1 Axes>"
      ]
     },
     "metadata": {
      "needs_background": "light"
     },
     "output_type": "display_data"
    }
   ],
   "source": [
    "sn.distplot(df['Large Bags'], kde=True)"
   ]
  },
  {
   "cell_type": "code",
   "execution_count": 20,
   "id": "1028b576",
   "metadata": {},
   "outputs": [
    {
     "data": {
      "text/plain": [
       "<AxesSubplot:xlabel='XLarge Bags', ylabel='Density'>"
      ]
     },
     "execution_count": 20,
     "metadata": {},
     "output_type": "execute_result"
    },
    {
     "data": {
      "image/png": "[encoded data removed]",
      "text/plain": [
       "<Figure size 432x288 with 1 Axes>"
      ]
     },
     "metadata": {
      "needs_background": "light"
     },
     "output_type": "display_data"
    }
   ],
   "source": [
    "sn.distplot(df['XLarge Bags'], kde=True)"
   ]
  },
  {
   "cell_type": "markdown",
   "id": "1c94a820",
   "metadata": {},
   "source": [
    "All the float type data are normaly distributed and some of the columns peakedness is high"
   ]
  },
  {
   "cell_type": "code",
   "execution_count": 21,
   "id": "129cb46d",
   "metadata": {},
   "outputs": [
    {
     "name": "stdout",
     "output_type": "stream",
     "text": [
      "conventional    9126\n",
      "organic         9123\n",
      "Name: type, dtype: int64\n"
     ]
    },
    {
     "data": {
      "image/png": "[encoded data removed]",
      "text/plain": [
       "<Figure size 432x288 with 1 Axes>"
      ]
     },
     "metadata": {
      "needs_background": "light"
     },
     "output_type": "display_data"
    }
   ],
   "source": [
    "ax = sn.countplot(x=\"type\", data=df)\n",
    "print(df[\"type\"].value_counts())"
   ]
  },
  {
   "cell_type": "markdown",
   "id": "752e9070",
   "metadata": {},
   "source": [
    "There are 9126 conventional avocado and 9123 type organic avocado"
   ]
  },
  {
   "cell_type": "code",
   "execution_count": 22,
   "id": "a90292a8",
   "metadata": {},
   "outputs": [
    {
     "data": {
      "image/png": "[encoded data removed]",
      "text/plain": [
       "<Figure size 432x288 with 1 Axes>"
      ]
     },
     "metadata": {
      "needs_background": "light"
     },
     "output_type": "display_data"
    }
   ],
   "source": [
    "plt.title(\"year\")\n",
    "plt.hist(df[\"year\"])\n",
    "plt.show()"
   ]
  },
  {
   "cell_type": "markdown",
   "id": "4150b4fc",
   "metadata": {},
   "source": [
    "Most of the data collected in 2015 2016 and 2017"
   ]
  },
  {
   "cell_type": "code",
   "execution_count": 27,
   "id": "192f7d9e",
   "metadata": {},
   "outputs": [
    {
     "name": "stdout",
     "output_type": "stream",
     "text": [
      "GreatLakes             338\n",
      "PhoenixTucson          338\n",
      "Albany                 338\n",
      "California             338\n",
      "Portland               338\n",
      "Atlanta                338\n",
      "HartfordSpringfield    338\n",
      "Tampa                  338\n",
      "TotalUS                338\n",
      "RichmondNorfolk        338\n",
      "Boston                 338\n",
      "BuffaloRochester       338\n",
      "Roanoke                338\n",
      "Pittsburgh             338\n",
      "DallasFtWorth          338\n",
      "Houston                338\n",
      "SouthCentral           338\n",
      "LosAngeles             338\n",
      "West                   338\n",
      "HarrisburgScranton     338\n",
      "GrandRapids            338\n",
      "NewYork                338\n",
      "SanFrancisco           338\n",
      "CincinnatiDayton       338\n",
      "NorthernNewEngland     338\n",
      "Southeast              338\n",
      "Philadelphia           338\n",
      "Louisville             338\n",
      "MiamiFtLauderdale      338\n",
      "Northeast              338\n",
      "Columbus               338\n",
      "NewOrleansMobile       338\n",
      "Spokane                338\n",
      "Nashville              338\n",
      "Orlando                338\n",
      "Sacramento             338\n",
      "SouthCarolina          338\n",
      "Indianapolis           338\n",
      "Boise                  338\n",
      "Midsouth               338\n",
      "Jacksonville           338\n",
      "Plains                 338\n",
      "Denver                 338\n",
      "BaltimoreWashington    338\n",
      "Seattle                338\n",
      "Syracuse               338\n",
      "Charlotte              338\n",
      "Chicago                338\n",
      "LasVegas               338\n",
      "Detroit                338\n",
      "SanDiego               338\n",
      "StLouis                338\n",
      "RaleighGreensboro      338\n",
      "WestTexNewMexico       335\n",
      "Name: region, dtype: int64\n"
     ]
    },
    {
     "data": {
      "image/png": "[encoded data removed]",
      "text/plain": [
       "<Figure size 1584x504 with 1 Axes>"
      ]
     },
     "metadata": {
      "needs_background": "light"
     },
     "output_type": "display_data"
    }
   ],
   "source": [
    "plt.figure(figsize=(22,7))\n",
    "ax = sn.countplot(x=\"region\", data=df)\n",
    "print(df[\"region\"].value_counts())\n"
   ]
  },
  {
   "cell_type": "markdown",
   "id": "384f020c",
   "metadata": {},
   "source": [
    "Data is balanced"
   ]
  },
  {
   "cell_type": "markdown",
   "id": "c216b87e",
   "metadata": {},
   "source": [
    "# Encoding DataFrame"
   ]
  },
  {
   "cell_type": "code",
   "execution_count": 5,
   "id": "c2faa081",
   "metadata": {},
   "outputs": [],
   "source": [
    "from sklearn.preprocessing import LabelEncoder"
   ]
  },
  {
   "cell_type": "code",
   "execution_count": 6,
   "id": "847ce3f1",
   "metadata": {},
   "outputs": [],
   "source": [
    "lb=LabelEncoder()\n",
    "df['type']=lb.fit_transform(df['type'])\n",
    "df['region']=lb.fit_transform(df['region'])"
   ]
  },
  {
   "cell_type": "code",
   "execution_count": 9,
   "id": "cb62d215",
   "metadata": {},
   "outputs": [
    {
     "data": {
      "text/plain": [
       "Date            datetime64[ns]\n",
       "AveragePrice           float64\n",
       "Total Volume           float64\n",
       "4046                   float64\n",
       "4225                   float64\n",
       "4770                   float64\n",
       "Total Bags             float64\n",
       "Small Bags             float64\n",
       "Large Bags             float64\n",
       "XLarge Bags            float64\n",
       "type                     int32\n",
       "year                     int64\n",
       "region                   int32\n",
       "dtype: object"
      ]
     },
     "execution_count": 9,
     "metadata": {},
     "output_type": "execute_result"
    }
   ],
   "source": [
    "df.dtypes"
   ]
  },
  {
   "cell_type": "markdown",
   "id": "12668713",
   "metadata": {},
   "source": [
    "Type and Region converted to integer"
   ]
  },
  {
   "cell_type": "markdown",
   "id": "56a493ef",
   "metadata": {},
   "source": [
    "# Describe Data"
   ]
  },
  {
   "cell_type": "code",
   "execution_count": 32,
   "id": "e8e1f850",
   "metadata": {},
   "outputs": [
    {
     "data": {
      "text/html": [
       "<div>\n",
       "<style scoped>\n",
       "    .dataframe tbody tr th:only-of-type {\n",
       "        vertical-align: middle;\n",
       "    }\n",
       "\n",
       "    .dataframe tbody tr th {\n",
       "        vertical-align: top;\n",
       "    }\n",
       "\n",
       "    .dataframe thead th {\n",
       "        text-align: right;\n",
       "    }\n",
       "</style>\n",
       "<table border=\"1\" class=\"dataframe\">\n",
       "  <thead>\n",
       "    <tr style=\"text-align: right;\">\n",
       "      <th></th>\n",
       "      <th>AveragePrice</th>\n",
       "      <th>Total Volume</th>\n",
       "      <th>4046</th>\n",
       "      <th>4225</th>\n",
       "      <th>4770</th>\n",
       "      <th>Total Bags</th>\n",
       "      <th>Small Bags</th>\n",
       "      <th>Large Bags</th>\n",
       "      <th>XLarge Bags</th>\n",
       "      <th>type</th>\n",
       "      <th>year</th>\n",
       "      <th>region</th>\n",
       "    </tr>\n",
       "  </thead>\n",
       "  <tbody>\n",
       "    <tr>\n",
       "      <th>count</th>\n",
       "      <td>18249.000000</td>\n",
       "      <td>1.824900e+04</td>\n",
       "      <td>1.824900e+04</td>\n",
       "      <td>1.824900e+04</td>\n",
       "      <td>1.824900e+04</td>\n",
       "      <td>1.824900e+04</td>\n",
       "      <td>1.824900e+04</td>\n",
       "      <td>1.824900e+04</td>\n",
       "      <td>18249.000000</td>\n",
       "      <td>18249.000000</td>\n",
       "      <td>18249.000000</td>\n",
       "      <td>18249.000000</td>\n",
       "    </tr>\n",
       "    <tr>\n",
       "      <th>mean</th>\n",
       "      <td>1.405978</td>\n",
       "      <td>8.506440e+05</td>\n",
       "      <td>2.930084e+05</td>\n",
       "      <td>2.951546e+05</td>\n",
       "      <td>2.283974e+04</td>\n",
       "      <td>2.396392e+05</td>\n",
       "      <td>1.821947e+05</td>\n",
       "      <td>5.433809e+04</td>\n",
       "      <td>3106.426507</td>\n",
       "      <td>0.499918</td>\n",
       "      <td>2016.147899</td>\n",
       "      <td>26.495644</td>\n",
       "    </tr>\n",
       "    <tr>\n",
       "      <th>std</th>\n",
       "      <td>0.402677</td>\n",
       "      <td>3.453545e+06</td>\n",
       "      <td>1.264989e+06</td>\n",
       "      <td>1.204120e+06</td>\n",
       "      <td>1.074641e+05</td>\n",
       "      <td>9.862424e+05</td>\n",
       "      <td>7.461785e+05</td>\n",
       "      <td>2.439660e+05</td>\n",
       "      <td>17692.894652</td>\n",
       "      <td>0.500014</td>\n",
       "      <td>0.939938</td>\n",
       "      <td>15.583788</td>\n",
       "    </tr>\n",
       "    <tr>\n",
       "      <th>min</th>\n",
       "      <td>0.440000</td>\n",
       "      <td>8.456000e+01</td>\n",
       "      <td>0.000000e+00</td>\n",
       "      <td>0.000000e+00</td>\n",
       "      <td>0.000000e+00</td>\n",
       "      <td>0.000000e+00</td>\n",
       "      <td>0.000000e+00</td>\n",
       "      <td>0.000000e+00</td>\n",
       "      <td>0.000000</td>\n",
       "      <td>0.000000</td>\n",
       "      <td>2015.000000</td>\n",
       "      <td>0.000000</td>\n",
       "    </tr>\n",
       "    <tr>\n",
       "      <th>25%</th>\n",
       "      <td>1.100000</td>\n",
       "      <td>1.083858e+04</td>\n",
       "      <td>8.540700e+02</td>\n",
       "      <td>3.008780e+03</td>\n",
       "      <td>0.000000e+00</td>\n",
       "      <td>5.088640e+03</td>\n",
       "      <td>2.849420e+03</td>\n",
       "      <td>1.274700e+02</td>\n",
       "      <td>0.000000</td>\n",
       "      <td>0.000000</td>\n",
       "      <td>2015.000000</td>\n",
       "      <td>13.000000</td>\n",
       "    </tr>\n",
       "    <tr>\n",
       "      <th>50%</th>\n",
       "      <td>1.370000</td>\n",
       "      <td>1.073768e+05</td>\n",
       "      <td>8.645300e+03</td>\n",
       "      <td>2.906102e+04</td>\n",
       "      <td>1.849900e+02</td>\n",
       "      <td>3.974383e+04</td>\n",
       "      <td>2.636282e+04</td>\n",
       "      <td>2.647710e+03</td>\n",
       "      <td>0.000000</td>\n",
       "      <td>0.000000</td>\n",
       "      <td>2016.000000</td>\n",
       "      <td>26.000000</td>\n",
       "    </tr>\n",
       "    <tr>\n",
       "      <th>75%</th>\n",
       "      <td>1.660000</td>\n",
       "      <td>4.329623e+05</td>\n",
       "      <td>1.110202e+05</td>\n",
       "      <td>1.502069e+05</td>\n",
       "      <td>6.243420e+03</td>\n",
       "      <td>1.107834e+05</td>\n",
       "      <td>8.333767e+04</td>\n",
       "      <td>2.202925e+04</td>\n",
       "      <td>132.500000</td>\n",
       "      <td>1.000000</td>\n",
       "      <td>2017.000000</td>\n",
       "      <td>40.000000</td>\n",
       "    </tr>\n",
       "    <tr>\n",
       "      <th>max</th>\n",
       "      <td>3.250000</td>\n",
       "      <td>6.250565e+07</td>\n",
       "      <td>2.274362e+07</td>\n",
       "      <td>2.047057e+07</td>\n",
       "      <td>2.546439e+06</td>\n",
       "      <td>1.937313e+07</td>\n",
       "      <td>1.338459e+07</td>\n",
       "      <td>5.719097e+06</td>\n",
       "      <td>551693.650000</td>\n",
       "      <td>1.000000</td>\n",
       "      <td>2018.000000</td>\n",
       "      <td>53.000000</td>\n",
       "    </tr>\n",
       "  </tbody>\n",
       "</table>\n",
       "</div>"
      ],
      "text/plain": [
       "       AveragePrice  Total Volume          4046          4225          4770  \\\n",
       "count  18249.000000  1.824900e+04  1.824900e+04  1.824900e+04  1.824900e+04   \n",
       "mean       1.405978  8.506440e+05  2.930084e+05  2.951546e+05  2.283974e+04   \n",
       "std        0.402677  3.453545e+06  1.264989e+06  1.204120e+06  1.074641e+05   \n",
       "min        0.440000  8.456000e+01  0.000000e+00  0.000000e+00  0.000000e+00   \n",
       "25%        1.100000  1.083858e+04  8.540700e+02  3.008780e+03  0.000000e+00   \n",
       "50%        1.370000  1.073768e+05  8.645300e+03  2.906102e+04  1.849900e+02   \n",
       "75%        1.660000  4.329623e+05  1.110202e+05  1.502069e+05  6.243420e+03   \n",
       "max        3.250000  6.250565e+07  2.274362e+07  2.047057e+07  2.546439e+06   \n",
       "\n",
       "         Total Bags    Small Bags    Large Bags    XLarge Bags          type  \\\n",
       "count  1.824900e+04  1.824900e+04  1.824900e+04   18249.000000  18249.000000   \n",
       "mean   2.396392e+05  1.821947e+05  5.433809e+04    3106.426507      0.499918   \n",
       "std    9.862424e+05  7.461785e+05  2.439660e+05   17692.894652      0.500014   \n",
       "min    0.000000e+00  0.000000e+00  0.000000e+00       0.000000      0.000000   \n",
       "25%    5.088640e+03  2.849420e+03  1.274700e+02       0.000000      0.000000   \n",
       "50%    3.974383e+04  2.636282e+04  2.647710e+03       0.000000      0.000000   \n",
       "75%    1.107834e+05  8.333767e+04  2.202925e+04     132.500000      1.000000   \n",
       "max    1.937313e+07  1.338459e+07  5.719097e+06  551693.650000      1.000000   \n",
       "\n",
       "               year        region  \n",
       "count  18249.000000  18249.000000  \n",
       "mean    2016.147899     26.495644  \n",
       "std        0.939938     15.583788  \n",
       "min     2015.000000      0.000000  \n",
       "25%     2015.000000     13.000000  \n",
       "50%     2016.000000     26.000000  \n",
       "75%     2017.000000     40.000000  \n",
       "max     2018.000000     53.000000  "
      ]
     },
     "execution_count": 32,
     "metadata": {},
     "output_type": "execute_result"
    }
   ],
   "source": [
    "df.describe()"
   ]
  },
  {
   "cell_type": "markdown",
   "id": "31d7edef",
   "metadata": {},
   "source": [
    "# Correlation of the columns with the target columns:"
   ]
  },
  {
   "cell_type": "code",
   "execution_count": 33,
   "id": "ca9020f2",
   "metadata": {},
   "outputs": [
    {
     "data": {
      "text/html": [
       "<div>\n",
       "<style scoped>\n",
       "    .dataframe tbody tr th:only-of-type {\n",
       "        vertical-align: middle;\n",
       "    }\n",
       "\n",
       "    .dataframe tbody tr th {\n",
       "        vertical-align: top;\n",
       "    }\n",
       "\n",
       "    .dataframe thead th {\n",
       "        text-align: right;\n",
       "    }\n",
       "</style>\n",
       "<table border=\"1\" class=\"dataframe\">\n",
       "  <thead>\n",
       "    <tr style=\"text-align: right;\">\n",
       "      <th></th>\n",
       "      <th>AveragePrice</th>\n",
       "      <th>Total Volume</th>\n",
       "      <th>4046</th>\n",
       "      <th>4225</th>\n",
       "      <th>4770</th>\n",
       "      <th>Total Bags</th>\n",
       "      <th>Small Bags</th>\n",
       "      <th>Large Bags</th>\n",
       "      <th>XLarge Bags</th>\n",
       "      <th>type</th>\n",
       "      <th>year</th>\n",
       "      <th>region</th>\n",
       "    </tr>\n",
       "  </thead>\n",
       "  <tbody>\n",
       "    <tr>\n",
       "      <th>AveragePrice</th>\n",
       "      <td>1.000000</td>\n",
       "      <td>-0.192752</td>\n",
       "      <td>-0.208317</td>\n",
       "      <td>-0.172928</td>\n",
       "      <td>-0.179446</td>\n",
       "      <td>-0.177088</td>\n",
       "      <td>-0.174730</td>\n",
       "      <td>-0.172940</td>\n",
       "      <td>-0.117592</td>\n",
       "      <td>0.615845</td>\n",
       "      <td>0.093197</td>\n",
       "      <td>-0.011716</td>\n",
       "    </tr>\n",
       "    <tr>\n",
       "      <th>Total Volume</th>\n",
       "      <td>-0.192752</td>\n",
       "      <td>1.000000</td>\n",
       "      <td>0.977863</td>\n",
       "      <td>0.974181</td>\n",
       "      <td>0.872202</td>\n",
       "      <td>0.963047</td>\n",
       "      <td>0.967238</td>\n",
       "      <td>0.880640</td>\n",
       "      <td>0.747157</td>\n",
       "      <td>-0.232434</td>\n",
       "      <td>0.017193</td>\n",
       "      <td>0.174176</td>\n",
       "    </tr>\n",
       "    <tr>\n",
       "      <th>4046</th>\n",
       "      <td>-0.208317</td>\n",
       "      <td>0.977863</td>\n",
       "      <td>1.000000</td>\n",
       "      <td>0.926110</td>\n",
       "      <td>0.833389</td>\n",
       "      <td>0.920057</td>\n",
       "      <td>0.925280</td>\n",
       "      <td>0.838645</td>\n",
       "      <td>0.699377</td>\n",
       "      <td>-0.225819</td>\n",
       "      <td>0.003353</td>\n",
       "      <td>0.192073</td>\n",
       "    </tr>\n",
       "    <tr>\n",
       "      <th>4225</th>\n",
       "      <td>-0.172928</td>\n",
       "      <td>0.974181</td>\n",
       "      <td>0.926110</td>\n",
       "      <td>1.000000</td>\n",
       "      <td>0.887855</td>\n",
       "      <td>0.905787</td>\n",
       "      <td>0.916031</td>\n",
       "      <td>0.810015</td>\n",
       "      <td>0.688809</td>\n",
       "      <td>-0.232289</td>\n",
       "      <td>-0.009559</td>\n",
       "      <td>0.145726</td>\n",
       "    </tr>\n",
       "    <tr>\n",
       "      <th>4770</th>\n",
       "      <td>-0.179446</td>\n",
       "      <td>0.872202</td>\n",
       "      <td>0.833389</td>\n",
       "      <td>0.887855</td>\n",
       "      <td>1.000000</td>\n",
       "      <td>0.792314</td>\n",
       "      <td>0.802733</td>\n",
       "      <td>0.698471</td>\n",
       "      <td>0.679861</td>\n",
       "      <td>-0.210027</td>\n",
       "      <td>-0.036531</td>\n",
       "      <td>0.095252</td>\n",
       "    </tr>\n",
       "    <tr>\n",
       "      <th>Total Bags</th>\n",
       "      <td>-0.177088</td>\n",
       "      <td>0.963047</td>\n",
       "      <td>0.920057</td>\n",
       "      <td>0.905787</td>\n",
       "      <td>0.792314</td>\n",
       "      <td>1.000000</td>\n",
       "      <td>0.994335</td>\n",
       "      <td>0.943009</td>\n",
       "      <td>0.804233</td>\n",
       "      <td>-0.217788</td>\n",
       "      <td>0.071552</td>\n",
       "      <td>0.175256</td>\n",
       "    </tr>\n",
       "    <tr>\n",
       "      <th>Small Bags</th>\n",
       "      <td>-0.174730</td>\n",
       "      <td>0.967238</td>\n",
       "      <td>0.925280</td>\n",
       "      <td>0.916031</td>\n",
       "      <td>0.802733</td>\n",
       "      <td>0.994335</td>\n",
       "      <td>1.000000</td>\n",
       "      <td>0.902589</td>\n",
       "      <td>0.806845</td>\n",
       "      <td>-0.220535</td>\n",
       "      <td>0.063915</td>\n",
       "      <td>0.164702</td>\n",
       "    </tr>\n",
       "    <tr>\n",
       "      <th>Large Bags</th>\n",
       "      <td>-0.172940</td>\n",
       "      <td>0.880640</td>\n",
       "      <td>0.838645</td>\n",
       "      <td>0.810015</td>\n",
       "      <td>0.698471</td>\n",
       "      <td>0.943009</td>\n",
       "      <td>0.902589</td>\n",
       "      <td>1.000000</td>\n",
       "      <td>0.710858</td>\n",
       "      <td>-0.193177</td>\n",
       "      <td>0.087891</td>\n",
       "      <td>0.198768</td>\n",
       "    </tr>\n",
       "    <tr>\n",
       "      <th>XLarge Bags</th>\n",
       "      <td>-0.117592</td>\n",
       "      <td>0.747157</td>\n",
       "      <td>0.699377</td>\n",
       "      <td>0.688809</td>\n",
       "      <td>0.679861</td>\n",
       "      <td>0.804233</td>\n",
       "      <td>0.806845</td>\n",
       "      <td>0.710858</td>\n",
       "      <td>1.000000</td>\n",
       "      <td>-0.175483</td>\n",
       "      <td>0.081033</td>\n",
       "      <td>0.082281</td>\n",
       "    </tr>\n",
       "    <tr>\n",
       "      <th>type</th>\n",
       "      <td>0.615845</td>\n",
       "      <td>-0.232434</td>\n",
       "      <td>-0.225819</td>\n",
       "      <td>-0.232289</td>\n",
       "      <td>-0.210027</td>\n",
       "      <td>-0.217788</td>\n",
       "      <td>-0.220535</td>\n",
       "      <td>-0.193177</td>\n",
       "      <td>-0.175483</td>\n",
       "      <td>1.000000</td>\n",
       "      <td>-0.000032</td>\n",
       "      <td>-0.000280</td>\n",
       "    </tr>\n",
       "    <tr>\n",
       "      <th>year</th>\n",
       "      <td>0.093197</td>\n",
       "      <td>0.017193</td>\n",
       "      <td>0.003353</td>\n",
       "      <td>-0.009559</td>\n",
       "      <td>-0.036531</td>\n",
       "      <td>0.071552</td>\n",
       "      <td>0.063915</td>\n",
       "      <td>0.087891</td>\n",
       "      <td>0.081033</td>\n",
       "      <td>-0.000032</td>\n",
       "      <td>1.000000</td>\n",
       "      <td>-0.000055</td>\n",
       "    </tr>\n",
       "    <tr>\n",
       "      <th>region</th>\n",
       "      <td>-0.011716</td>\n",
       "      <td>0.174176</td>\n",
       "      <td>0.192073</td>\n",
       "      <td>0.145726</td>\n",
       "      <td>0.095252</td>\n",
       "      <td>0.175256</td>\n",
       "      <td>0.164702</td>\n",
       "      <td>0.198768</td>\n",
       "      <td>0.082281</td>\n",
       "      <td>-0.000280</td>\n",
       "      <td>-0.000055</td>\n",
       "      <td>1.000000</td>\n",
       "    </tr>\n",
       "  </tbody>\n",
       "</table>\n",
       "</div>"
      ],
      "text/plain": [
       "              AveragePrice  Total Volume      4046      4225      4770  \\\n",
       "AveragePrice      1.000000     -0.192752 -0.208317 -0.172928 -0.179446   \n",
       "Total Volume     -0.192752      1.000000  0.977863  0.974181  0.872202   \n",
       "4046             -0.208317      0.977863  1.000000  0.926110  0.833389   \n",
       "4225             -0.172928      0.974181  0.926110  1.000000  0.887855   \n",
       "4770             -0.179446      0.872202  0.833389  0.887855  1.000000   \n",
       "Total Bags       -0.177088      0.963047  0.920057  0.905787  0.792314   \n",
       "Small Bags       -0.174730      0.967238  0.925280  0.916031  0.802733   \n",
       "Large Bags       -0.172940      0.880640  0.838645  0.810015  0.698471   \n",
       "XLarge Bags      -0.117592      0.747157  0.699377  0.688809  0.679861   \n",
       "type              0.615845     -0.232434 -0.225819 -0.232289 -0.210027   \n",
       "year              0.093197      0.017193  0.003353 -0.009559 -0.036531   \n",
       "region           -0.011716      0.174176  0.192073  0.145726  0.095252   \n",
       "\n",
       "              Total Bags  Small Bags  Large Bags  XLarge Bags      type  \\\n",
       "AveragePrice   -0.177088   -0.174730   -0.172940    -0.117592  0.615845   \n",
       "Total Volume    0.963047    0.967238    0.880640     0.747157 -0.232434   \n",
       "4046            0.920057    0.925280    0.838645     0.699377 -0.225819   \n",
       "4225            0.905787    0.916031    0.810015     0.688809 -0.232289   \n",
       "4770            0.792314    0.802733    0.698471     0.679861 -0.210027   \n",
       "Total Bags      1.000000    0.994335    0.943009     0.804233 -0.217788   \n",
       "Small Bags      0.994335    1.000000    0.902589     0.806845 -0.220535   \n",
       "Large Bags      0.943009    0.902589    1.000000     0.710858 -0.193177   \n",
       "XLarge Bags     0.804233    0.806845    0.710858     1.000000 -0.175483   \n",
       "type           -0.217788   -0.220535   -0.193177    -0.175483  1.000000   \n",
       "year            0.071552    0.063915    0.087891     0.081033 -0.000032   \n",
       "region          0.175256    0.164702    0.198768     0.082281 -0.000280   \n",
       "\n",
       "                  year    region  \n",
       "AveragePrice  0.093197 -0.011716  \n",
       "Total Volume  0.017193  0.174176  \n",
       "4046          0.003353  0.192073  \n",
       "4225         -0.009559  0.145726  \n",
       "4770         -0.036531  0.095252  \n",
       "Total Bags    0.071552  0.175256  \n",
       "Small Bags    0.063915  0.164702  \n",
       "Large Bags    0.087891  0.198768  \n",
       "XLarge Bags   0.081033  0.082281  \n",
       "type         -0.000032 -0.000280  \n",
       "year          1.000000 -0.000055  \n",
       "region       -0.000055  1.000000  "
      ]
     },
     "execution_count": 33,
     "metadata": {},
     "output_type": "execute_result"
    }
   ],
   "source": [
    "df.corr()"
   ]
  },
  {
   "cell_type": "code",
   "execution_count": 35,
   "id": "d2991268",
   "metadata": {},
   "outputs": [
    {
     "data": {
      "text/plain": [
       "<AxesSubplot:>"
      ]
     },
     "execution_count": 35,
     "metadata": {},
     "output_type": "execute_result"
    },
    {
     "data": {
      "image/png": "[encoded data removed]",
      "text/plain": [
       "<Figure size 1584x504 with 2 Axes>"
      ]
     },
     "metadata": {
      "needs_background": "light"
     },
     "output_type": "display_data"
    }
   ],
   "source": [
    "plt.figure(figsize=(22,7))\n",
    "sn.heatmap(df.corr(),annot=True,linewidths=0.1,linecolor=\"black\",fmt=\"0.2f\")"
   ]
  },
  {
   "cell_type": "markdown",
   "id": "319e1a8e",
   "metadata": {},
   "source": [
    "There are a positive correlation between type and average price"
   ]
  },
  {
   "cell_type": "code",
   "execution_count": 36,
   "id": "f8226229",
   "metadata": {},
   "outputs": [
    {
     "data": {
      "image/png": "[encoded data removed]",
      "text/plain": [
       "<Figure size 1584x504 with 1 Axes>"
      ]
     },
     "metadata": {
      "needs_background": "light"
     },
     "output_type": "display_data"
    }
   ],
   "source": [
    "plt.figure(figsize=(22,7))\n",
    "df.corr()['AveragePrice'].sort_values(ascending=False).drop(['AveragePrice']).plot(kind='bar',color='c')\n",
    "plt.xlabel('Feature',fontsize=14)\n",
    "plt.ylabel('column with target names',fontsize=14)\n",
    "plt.title('correlation',fontsize=18)\n",
    "plt.show()"
   ]
  },
  {
   "cell_type": "code",
   "execution_count": 37,
   "id": "f62a6c52",
   "metadata": {},
   "outputs": [
    {
     "data": {
      "image/png": "[encoded data removed]",
      "text/plain": [
       "<Figure size 1584x504 with 1 Axes>"
      ]
     },
     "metadata": {
      "needs_background": "light"
     },
     "output_type": "display_data"
    }
   ],
   "source": [
    "plt.figure(figsize=(22,7))\n",
    "df.corr()['region'].sort_values(ascending=False).drop(['region']).plot(kind='bar',color='c')\n",
    "plt.xlabel('Feature',fontsize=14)\n",
    "plt.ylabel('column with target names',fontsize=14)\n",
    "plt.title('correlation',fontsize=18)\n",
    "plt.show()"
   ]
  },
  {
   "cell_type": "markdown",
   "id": "94805c73",
   "metadata": {},
   "source": [
    "# Checking Outlier"
   ]
  },
  {
   "cell_type": "code",
   "execution_count": 39,
   "id": "ef6f2a1b",
   "metadata": {},
   "outputs": [
    {
     "data": {
      "text/plain": [
       "AveragePrice       AxesSubplot(0.125,0.536818;0.110714x0.343182)\n",
       "Total Volume    AxesSubplot(0.257857,0.536818;0.110714x0.343182)\n",
       "4046            AxesSubplot(0.390714,0.536818;0.110714x0.343182)\n",
       "4225            AxesSubplot(0.523571,0.536818;0.110714x0.343182)\n",
       "4770            AxesSubplot(0.656429,0.536818;0.110714x0.343182)\n",
       "Total Bags      AxesSubplot(0.789286,0.536818;0.110714x0.343182)\n",
       "Small Bags            AxesSubplot(0.125,0.125;0.110714x0.343182)\n",
       "Large Bags         AxesSubplot(0.257857,0.125;0.110714x0.343182)\n",
       "XLarge Bags        AxesSubplot(0.390714,0.125;0.110714x0.343182)\n",
       "type               AxesSubplot(0.523571,0.125;0.110714x0.343182)\n",
       "year               AxesSubplot(0.656429,0.125;0.110714x0.343182)\n",
       "region             AxesSubplot(0.789286,0.125;0.110714x0.343182)\n",
       "dtype: object"
      ]
     },
     "execution_count": 39,
     "metadata": {},
     "output_type": "execute_result"
    },
    {
     "data": {
      "image/png": "[encoded data removed]",
      "text/plain": [
       "<Figure size 432x288 with 12 Axes>"
      ]
     },
     "metadata": {
      "needs_background": "light"
     },
     "output_type": "display_data"
    }
   ],
   "source": [
    "df.plot(kind='box',subplots=True,layout=(2,6))"
   ]
  },
  {
   "cell_type": "code",
   "execution_count": 40,
   "id": "14069aee",
   "metadata": {},
   "outputs": [
    {
     "data": {
      "text/plain": [
       "<AxesSubplot:>"
      ]
     },
     "execution_count": 40,
     "metadata": {},
     "output_type": "execute_result"
    },
    {
     "data": {
      "image/png": "[encoded data removed]",
      "text/plain": [
       "<Figure size 432x288 with 1 Axes>"
      ]
     },
     "metadata": {
      "needs_background": "light"
     },
     "output_type": "display_data"
    }
   ],
   "source": [
    "df[\"AveragePrice\"].plot.box()"
   ]
  },
  {
   "cell_type": "code",
   "execution_count": 41,
   "id": "885236e1",
   "metadata": {},
   "outputs": [
    {
     "data": {
      "text/plain": [
       "<AxesSubplot:>"
      ]
     },
     "execution_count": 41,
     "metadata": {},
     "output_type": "execute_result"
    },
    {
     "data": {
      "image/png": "[encoded data removed]",
      "text/plain": [
       "<Figure size 432x288 with 1 Axes>"
      ]
     },
     "metadata": {
      "needs_background": "light"
     },
     "output_type": "display_data"
    }
   ],
   "source": [
    "df[\"Total Volume\"].plot.box()"
   ]
  },
  {
   "cell_type": "code",
   "execution_count": 42,
   "id": "313d436d",
   "metadata": {},
   "outputs": [
    {
     "data": {
      "text/plain": [
       "<AxesSubplot:>"
      ]
     },
     "execution_count": 42,
     "metadata": {},
     "output_type": "execute_result"
    },
    {
     "data": {
      "image/png": "[encoded data removed]",
      "text/plain": [
       "<Figure size 432x288 with 1 Axes>"
      ]
     },
     "metadata": {
      "needs_background": "light"
     },
     "output_type": "display_data"
    }
   ],
   "source": [
    "df[\"4046\"].plot.box()"
   ]
  },
  {
   "cell_type": "code",
   "execution_count": 43,
   "id": "18e8e86f",
   "metadata": {},
   "outputs": [
    {
     "data": {
      "text/plain": [
       "<AxesSubplot:>"
      ]
     },
     "execution_count": 43,
     "metadata": {},
     "output_type": "execute_result"
    },
    {
     "data": {
      "image/png": "[encoded data removed]",
      "text/plain": [
       "<Figure size 432x288 with 1 Axes>"
      ]
     },
     "metadata": {
      "needs_background": "light"
     },
     "output_type": "display_data"
    }
   ],
   "source": [
    "df[\"4225\"].plot.box()"
   ]
  },
  {
   "cell_type": "code",
   "execution_count": 44,
   "id": "005c5d25",
   "metadata": {},
   "outputs": [
    {
     "data": {
      "text/plain": [
       "<AxesSubplot:>"
      ]
     },
     "execution_count": 44,
     "metadata": {},
     "output_type": "execute_result"
    },
    {
     "data": {
      "image/png": "[encoded data removed]",
      "text/plain": [
       "<Figure size 432x288 with 1 Axes>"
      ]
     },
     "metadata": {
      "needs_background": "light"
     },
     "output_type": "display_data"
    }
   ],
   "source": [
    "df[\"4770\"].plot.box()"
   ]
  },
  {
   "cell_type": "code",
   "execution_count": 45,
   "id": "96adc461",
   "metadata": {},
   "outputs": [
    {
     "data": {
      "text/plain": [
       "<AxesSubplot:>"
      ]
     },
     "execution_count": 45,
     "metadata": {},
     "output_type": "execute_result"
    },
    {
     "data": {
      "image/png": "[encoded data removed]",
      "text/plain": [
       "<Figure size 432x288 with 1 Axes>"
      ]
     },
     "metadata": {
      "needs_background": "light"
     },
     "output_type": "display_data"
    }
   ],
   "source": [
    "df[\"Total Bags\"].plot.box()"
   ]
  },
  {
   "cell_type": "code",
   "execution_count": 46,
   "id": "2709e63a",
   "metadata": {},
   "outputs": [
    {
     "data": {
      "text/plain": [
       "<AxesSubplot:>"
      ]
     },
     "execution_count": 46,
     "metadata": {},
     "output_type": "execute_result"
    },
    {
     "data": {
      "image/png": "[encoded data removed]",
      "text/plain": [
       "<Figure size 432x288 with 1 Axes>"
      ]
     },
     "metadata": {
      "needs_background": "light"
     },
     "output_type": "display_data"
    }
   ],
   "source": [
    "df[\"Small Bags\"].plot.box()"
   ]
  },
  {
   "cell_type": "code",
   "execution_count": 47,
   "id": "cc150c37",
   "metadata": {},
   "outputs": [
    {
     "data": {
      "text/plain": [
       "<AxesSubplot:>"
      ]
     },
     "execution_count": 47,
     "metadata": {},
     "output_type": "execute_result"
    },
    {
     "data": {
      "image/png": "[encoded data removed]",
      "text/plain": [
       "<Figure size 432x288 with 1 Axes>"
      ]
     },
     "metadata": {
      "needs_background": "light"
     },
     "output_type": "display_data"
    }
   ],
   "source": [
    "df[\"Large Bags\"].plot.box()"
   ]
  },
  {
   "cell_type": "code",
   "execution_count": 48,
   "id": "e7bc7faf",
   "metadata": {},
   "outputs": [
    {
     "data": {
      "text/plain": [
       "<AxesSubplot:>"
      ]
     },
     "execution_count": 48,
     "metadata": {},
     "output_type": "execute_result"
    },
    {
     "data": {
      "image/png": "[encoded data removed]",
      "text/plain": [
       "<Figure size 432x288 with 1 Axes>"
      ]
     },
     "metadata": {
      "needs_background": "light"
     },
     "output_type": "display_data"
    }
   ],
   "source": [
    "df[\"XLarge Bags\"].plot.box()"
   ]
  },
  {
   "cell_type": "markdown",
   "id": "7beead2f",
   "metadata": {},
   "source": [
    "# Outlier Handling with Zscore"
   ]
  },
  {
   "cell_type": "code",
   "execution_count": 8,
   "id": "f26a7740",
   "metadata": {},
   "outputs": [
    {
     "data": {
      "text/plain": [
       "(array([  346,   359,   780, ..., 17304, 17402, 17428], dtype=int64),\n",
       " array([3, 3, 9, ..., 1, 1, 1], dtype=int64))"
      ]
     },
     "execution_count": 8,
     "metadata": {},
     "output_type": "execute_result"
    }
   ],
   "source": [
    "df.drop(['Date'],axis=1,inplace=True)\n",
    "df\n",
    "\n",
    "from scipy.stats import zscore\n",
    "import numpy as np\n",
    "z=np.abs(zscore(df))\n",
    "threshold=3\n",
    "np.where(z>3)"
   ]
  },
  {
   "cell_type": "code",
   "execution_count": 9,
   "id": "159589f2",
   "metadata": {},
   "outputs": [
    {
     "data": {
      "text/html": [
       "<div>\n",
       "<style scoped>\n",
       "    .dataframe tbody tr th:only-of-type {\n",
       "        vertical-align: middle;\n",
       "    }\n",
       "\n",
       "    .dataframe tbody tr th {\n",
       "        vertical-align: top;\n",
       "    }\n",
       "\n",
       "    .dataframe thead th {\n",
       "        text-align: right;\n",
       "    }\n",
       "</style>\n",
       "<table border=\"1\" class=\"dataframe\">\n",
       "  <thead>\n",
       "    <tr style=\"text-align: right;\">\n",
       "      <th></th>\n",
       "      <th>Unnamed: 0</th>\n",
       "      <th>AveragePrice</th>\n",
       "      <th>Total Volume</th>\n",
       "      <th>4046</th>\n",
       "      <th>4225</th>\n",
       "      <th>4770</th>\n",
       "      <th>Total Bags</th>\n",
       "      <th>Small Bags</th>\n",
       "      <th>Large Bags</th>\n",
       "      <th>XLarge Bags</th>\n",
       "      <th>type</th>\n",
       "      <th>year</th>\n",
       "      <th>region</th>\n",
       "    </tr>\n",
       "  </thead>\n",
       "  <tbody>\n",
       "    <tr>\n",
       "      <th>0</th>\n",
       "      <td>0</td>\n",
       "      <td>1.33</td>\n",
       "      <td>64236.62</td>\n",
       "      <td>1036.74</td>\n",
       "      <td>54454.85</td>\n",
       "      <td>48.16</td>\n",
       "      <td>8696.87</td>\n",
       "      <td>8603.62</td>\n",
       "      <td>93.25</td>\n",
       "      <td>0.0</td>\n",
       "      <td>0</td>\n",
       "      <td>2015</td>\n",
       "      <td>0</td>\n",
       "    </tr>\n",
       "    <tr>\n",
       "      <th>1</th>\n",
       "      <td>1</td>\n",
       "      <td>1.35</td>\n",
       "      <td>54876.98</td>\n",
       "      <td>674.28</td>\n",
       "      <td>44638.81</td>\n",
       "      <td>58.33</td>\n",
       "      <td>9505.56</td>\n",
       "      <td>9408.07</td>\n",
       "      <td>97.49</td>\n",
       "      <td>0.0</td>\n",
       "      <td>0</td>\n",
       "      <td>2015</td>\n",
       "      <td>0</td>\n",
       "    </tr>\n",
       "    <tr>\n",
       "      <th>2</th>\n",
       "      <td>2</td>\n",
       "      <td>0.93</td>\n",
       "      <td>118220.22</td>\n",
       "      <td>794.70</td>\n",
       "      <td>109149.67</td>\n",
       "      <td>130.50</td>\n",
       "      <td>8145.35</td>\n",
       "      <td>8042.21</td>\n",
       "      <td>103.14</td>\n",
       "      <td>0.0</td>\n",
       "      <td>0</td>\n",
       "      <td>2015</td>\n",
       "      <td>0</td>\n",
       "    </tr>\n",
       "    <tr>\n",
       "      <th>3</th>\n",
       "      <td>3</td>\n",
       "      <td>1.08</td>\n",
       "      <td>78992.15</td>\n",
       "      <td>1132.00</td>\n",
       "      <td>71976.41</td>\n",
       "      <td>72.58</td>\n",
       "      <td>5811.16</td>\n",
       "      <td>5677.40</td>\n",
       "      <td>133.76</td>\n",
       "      <td>0.0</td>\n",
       "      <td>0</td>\n",
       "      <td>2015</td>\n",
       "      <td>0</td>\n",
       "    </tr>\n",
       "    <tr>\n",
       "      <th>4</th>\n",
       "      <td>4</td>\n",
       "      <td>1.28</td>\n",
       "      <td>51039.60</td>\n",
       "      <td>941.48</td>\n",
       "      <td>43838.39</td>\n",
       "      <td>75.78</td>\n",
       "      <td>6183.95</td>\n",
       "      <td>5986.26</td>\n",
       "      <td>197.69</td>\n",
       "      <td>0.0</td>\n",
       "      <td>0</td>\n",
       "      <td>2015</td>\n",
       "      <td>0</td>\n",
       "    </tr>\n",
       "    <tr>\n",
       "      <th>...</th>\n",
       "      <td>...</td>\n",
       "      <td>...</td>\n",
       "      <td>...</td>\n",
       "      <td>...</td>\n",
       "      <td>...</td>\n",
       "      <td>...</td>\n",
       "      <td>...</td>\n",
       "      <td>...</td>\n",
       "      <td>...</td>\n",
       "      <td>...</td>\n",
       "      <td>...</td>\n",
       "      <td>...</td>\n",
       "      <td>...</td>\n",
       "    </tr>\n",
       "    <tr>\n",
       "      <th>18244</th>\n",
       "      <td>7</td>\n",
       "      <td>1.63</td>\n",
       "      <td>17074.83</td>\n",
       "      <td>2046.96</td>\n",
       "      <td>1529.20</td>\n",
       "      <td>0.00</td>\n",
       "      <td>13498.67</td>\n",
       "      <td>13066.82</td>\n",
       "      <td>431.85</td>\n",
       "      <td>0.0</td>\n",
       "      <td>1</td>\n",
       "      <td>2018</td>\n",
       "      <td>53</td>\n",
       "    </tr>\n",
       "    <tr>\n",
       "      <th>18245</th>\n",
       "      <td>8</td>\n",
       "      <td>1.71</td>\n",
       "      <td>13888.04</td>\n",
       "      <td>1191.70</td>\n",
       "      <td>3431.50</td>\n",
       "      <td>0.00</td>\n",
       "      <td>9264.84</td>\n",
       "      <td>8940.04</td>\n",
       "      <td>324.80</td>\n",
       "      <td>0.0</td>\n",
       "      <td>1</td>\n",
       "      <td>2018</td>\n",
       "      <td>53</td>\n",
       "    </tr>\n",
       "    <tr>\n",
       "      <th>18246</th>\n",
       "      <td>9</td>\n",
       "      <td>1.87</td>\n",
       "      <td>13766.76</td>\n",
       "      <td>1191.92</td>\n",
       "      <td>2452.79</td>\n",
       "      <td>727.94</td>\n",
       "      <td>9394.11</td>\n",
       "      <td>9351.80</td>\n",
       "      <td>42.31</td>\n",
       "      <td>0.0</td>\n",
       "      <td>1</td>\n",
       "      <td>2018</td>\n",
       "      <td>53</td>\n",
       "    </tr>\n",
       "    <tr>\n",
       "      <th>18247</th>\n",
       "      <td>10</td>\n",
       "      <td>1.93</td>\n",
       "      <td>16205.22</td>\n",
       "      <td>1527.63</td>\n",
       "      <td>2981.04</td>\n",
       "      <td>727.01</td>\n",
       "      <td>10969.54</td>\n",
       "      <td>10919.54</td>\n",
       "      <td>50.00</td>\n",
       "      <td>0.0</td>\n",
       "      <td>1</td>\n",
       "      <td>2018</td>\n",
       "      <td>53</td>\n",
       "    </tr>\n",
       "    <tr>\n",
       "      <th>18248</th>\n",
       "      <td>11</td>\n",
       "      <td>1.62</td>\n",
       "      <td>17489.58</td>\n",
       "      <td>2894.77</td>\n",
       "      <td>2356.13</td>\n",
       "      <td>224.53</td>\n",
       "      <td>12014.15</td>\n",
       "      <td>11988.14</td>\n",
       "      <td>26.01</td>\n",
       "      <td>0.0</td>\n",
       "      <td>1</td>\n",
       "      <td>2018</td>\n",
       "      <td>53</td>\n",
       "    </tr>\n",
       "  </tbody>\n",
       "</table>\n",
       "<p>17651 rows × 13 columns</p>\n",
       "</div>"
      ],
      "text/plain": [
       "       Unnamed: 0  AveragePrice  Total Volume     4046       4225    4770  \\\n",
       "0               0          1.33      64236.62  1036.74   54454.85   48.16   \n",
       "1               1          1.35      54876.98   674.28   44638.81   58.33   \n",
       "2               2          0.93     118220.22   794.70  109149.67  130.50   \n",
       "3               3          1.08      78992.15  1132.00   71976.41   72.58   \n",
       "4               4          1.28      51039.60   941.48   43838.39   75.78   \n",
       "...           ...           ...           ...      ...        ...     ...   \n",
       "18244           7          1.63      17074.83  2046.96    1529.20    0.00   \n",
       "18245           8          1.71      13888.04  1191.70    3431.50    0.00   \n",
       "18246           9          1.87      13766.76  1191.92    2452.79  727.94   \n",
       "18247          10          1.93      16205.22  1527.63    2981.04  727.01   \n",
       "18248          11          1.62      17489.58  2894.77    2356.13  224.53   \n",
       "\n",
       "       Total Bags  Small Bags  Large Bags  XLarge Bags  type  year  region  \n",
       "0         8696.87     8603.62       93.25          0.0     0  2015       0  \n",
       "1         9505.56     9408.07       97.49          0.0     0  2015       0  \n",
       "2         8145.35     8042.21      103.14          0.0     0  2015       0  \n",
       "3         5811.16     5677.40      133.76          0.0     0  2015       0  \n",
       "4         6183.95     5986.26      197.69          0.0     0  2015       0  \n",
       "...           ...         ...         ...          ...   ...   ...     ...  \n",
       "18244    13498.67    13066.82      431.85          0.0     1  2018      53  \n",
       "18245     9264.84     8940.04      324.80          0.0     1  2018      53  \n",
       "18246     9394.11     9351.80       42.31          0.0     1  2018      53  \n",
       "18247    10969.54    10919.54       50.00          0.0     1  2018      53  \n",
       "18248    12014.15    11988.14       26.01          0.0     1  2018      53  \n",
       "\n",
       "[17651 rows x 13 columns]"
      ]
     },
     "execution_count": 9,
     "metadata": {},
     "output_type": "execute_result"
    }
   ],
   "source": [
    "df=df[(z<3).all(axis=1)]\n",
    "df"
   ]
  },
  {
   "cell_type": "code",
   "execution_count": 54,
   "id": "42a7da22",
   "metadata": {},
   "outputs": [],
   "source": [
    "Data_loss=((18249-17651)/18249)*100"
   ]
  },
  {
   "cell_type": "code",
   "execution_count": 55,
   "id": "28b4f8e2",
   "metadata": {},
   "outputs": [
    {
     "data": {
      "text/plain": [
       "3.276891884486821"
      ]
     },
     "execution_count": 55,
     "metadata": {},
     "output_type": "execute_result"
    }
   ],
   "source": [
    "Data_loss"
   ]
  },
  {
   "cell_type": "code",
   "execution_count": 56,
   "id": "bb993918",
   "metadata": {},
   "outputs": [
    {
     "data": {
      "text/plain": [
       "AveragePrice     0.580303\n",
       "Total Volume     9.007687\n",
       "4046             8.648220\n",
       "4225             8.942466\n",
       "4770            10.159396\n",
       "Total Bags       9.756072\n",
       "Small Bags       9.540660\n",
       "Large Bags       9.796455\n",
       "XLarge Bags     13.139751\n",
       "type             0.000329\n",
       "year             0.215339\n",
       "region           0.000030\n",
       "dtype: float64"
      ]
     },
     "execution_count": 56,
     "metadata": {},
     "output_type": "execute_result"
    }
   ],
   "source": [
    "df.skew()"
   ]
  },
  {
   "cell_type": "code",
   "execution_count": 10,
   "id": "51955cf6",
   "metadata": {},
   "outputs": [],
   "source": [
    "from scipy.stats import boxcox\n",
    "\n",
    "df['Total Volume']=boxcox(df['Total Volume'],0)"
   ]
  },
  {
   "cell_type": "code",
   "execution_count": 11,
   "id": "665f3175",
   "metadata": {},
   "outputs": [
    {
     "data": {
      "text/plain": [
       "<AxesSubplot:xlabel='Total Volume', ylabel='Density'>"
      ]
     },
     "execution_count": 11,
     "metadata": {},
     "output_type": "execute_result"
    },
    {
     "data": {
      "image/png": "[encoded data removed]",
      "text/plain": [
       "<Figure size 432x288 with 1 Axes>"
      ]
     },
     "metadata": {
      "needs_background": "light"
     },
     "output_type": "display_data"
    }
   ],
   "source": [
    "sn.distplot(df['Total Volume'], kde=True)"
   ]
  },
  {
   "cell_type": "code",
   "execution_count": 40,
   "id": "df1d7c44",
   "metadata": {},
   "outputs": [
    {
     "data": {
      "text/html": [
       "<div>\n",
       "<style scoped>\n",
       "    .dataframe tbody tr th:only-of-type {\n",
       "        vertical-align: middle;\n",
       "    }\n",
       "\n",
       "    .dataframe tbody tr th {\n",
       "        vertical-align: top;\n",
       "    }\n",
       "\n",
       "    .dataframe thead th {\n",
       "        text-align: right;\n",
       "    }\n",
       "</style>\n",
       "<table border=\"1\" class=\"dataframe\">\n",
       "  <thead>\n",
       "    <tr style=\"text-align: right;\">\n",
       "      <th></th>\n",
       "      <th>Unnamed: 0</th>\n",
       "      <th>AveragePrice</th>\n",
       "      <th>Total Volume</th>\n",
       "      <th>4046</th>\n",
       "      <th>4225</th>\n",
       "      <th>4770</th>\n",
       "      <th>Total Bags</th>\n",
       "      <th>Small Bags</th>\n",
       "      <th>Large Bags</th>\n",
       "      <th>XLarge Bags</th>\n",
       "      <th>type</th>\n",
       "      <th>year</th>\n",
       "    </tr>\n",
       "  </thead>\n",
       "  <tbody>\n",
       "    <tr>\n",
       "      <th>0</th>\n",
       "      <td>0</td>\n",
       "      <td>1.33</td>\n",
       "      <td>11.070329</td>\n",
       "      <td>1036.74</td>\n",
       "      <td>54454.85</td>\n",
       "      <td>48.16</td>\n",
       "      <td>8696.87</td>\n",
       "      <td>8603.62</td>\n",
       "      <td>93.25</td>\n",
       "      <td>0.0</td>\n",
       "      <td>0</td>\n",
       "      <td>2015</td>\n",
       "    </tr>\n",
       "    <tr>\n",
       "      <th>1</th>\n",
       "      <td>1</td>\n",
       "      <td>1.35</td>\n",
       "      <td>10.912849</td>\n",
       "      <td>674.28</td>\n",
       "      <td>44638.81</td>\n",
       "      <td>58.33</td>\n",
       "      <td>9505.56</td>\n",
       "      <td>9408.07</td>\n",
       "      <td>97.49</td>\n",
       "      <td>0.0</td>\n",
       "      <td>0</td>\n",
       "      <td>2015</td>\n",
       "    </tr>\n",
       "    <tr>\n",
       "      <th>2</th>\n",
       "      <td>2</td>\n",
       "      <td>0.93</td>\n",
       "      <td>11.680304</td>\n",
       "      <td>794.70</td>\n",
       "      <td>109149.67</td>\n",
       "      <td>130.50</td>\n",
       "      <td>8145.35</td>\n",
       "      <td>8042.21</td>\n",
       "      <td>103.14</td>\n",
       "      <td>0.0</td>\n",
       "      <td>0</td>\n",
       "      <td>2015</td>\n",
       "    </tr>\n",
       "    <tr>\n",
       "      <th>3</th>\n",
       "      <td>3</td>\n",
       "      <td>1.08</td>\n",
       "      <td>11.277104</td>\n",
       "      <td>1132.00</td>\n",
       "      <td>71976.41</td>\n",
       "      <td>72.58</td>\n",
       "      <td>5811.16</td>\n",
       "      <td>5677.40</td>\n",
       "      <td>133.76</td>\n",
       "      <td>0.0</td>\n",
       "      <td>0</td>\n",
       "      <td>2015</td>\n",
       "    </tr>\n",
       "    <tr>\n",
       "      <th>4</th>\n",
       "      <td>4</td>\n",
       "      <td>1.28</td>\n",
       "      <td>10.840357</td>\n",
       "      <td>941.48</td>\n",
       "      <td>43838.39</td>\n",
       "      <td>75.78</td>\n",
       "      <td>6183.95</td>\n",
       "      <td>5986.26</td>\n",
       "      <td>197.69</td>\n",
       "      <td>0.0</td>\n",
       "      <td>0</td>\n",
       "      <td>2015</td>\n",
       "    </tr>\n",
       "    <tr>\n",
       "      <th>...</th>\n",
       "      <td>...</td>\n",
       "      <td>...</td>\n",
       "      <td>...</td>\n",
       "      <td>...</td>\n",
       "      <td>...</td>\n",
       "      <td>...</td>\n",
       "      <td>...</td>\n",
       "      <td>...</td>\n",
       "      <td>...</td>\n",
       "      <td>...</td>\n",
       "      <td>...</td>\n",
       "      <td>...</td>\n",
       "    </tr>\n",
       "    <tr>\n",
       "      <th>18244</th>\n",
       "      <td>7</td>\n",
       "      <td>1.63</td>\n",
       "      <td>9.745361</td>\n",
       "      <td>2046.96</td>\n",
       "      <td>1529.20</td>\n",
       "      <td>0.00</td>\n",
       "      <td>13498.67</td>\n",
       "      <td>13066.82</td>\n",
       "      <td>431.85</td>\n",
       "      <td>0.0</td>\n",
       "      <td>1</td>\n",
       "      <td>2018</td>\n",
       "    </tr>\n",
       "    <tr>\n",
       "      <th>18245</th>\n",
       "      <td>8</td>\n",
       "      <td>1.71</td>\n",
       "      <td>9.538783</td>\n",
       "      <td>1191.70</td>\n",
       "      <td>3431.50</td>\n",
       "      <td>0.00</td>\n",
       "      <td>9264.84</td>\n",
       "      <td>8940.04</td>\n",
       "      <td>324.80</td>\n",
       "      <td>0.0</td>\n",
       "      <td>1</td>\n",
       "      <td>2018</td>\n",
       "    </tr>\n",
       "    <tr>\n",
       "      <th>18246</th>\n",
       "      <td>9</td>\n",
       "      <td>1.87</td>\n",
       "      <td>9.530012</td>\n",
       "      <td>1191.92</td>\n",
       "      <td>2452.79</td>\n",
       "      <td>727.94</td>\n",
       "      <td>9394.11</td>\n",
       "      <td>9351.80</td>\n",
       "      <td>42.31</td>\n",
       "      <td>0.0</td>\n",
       "      <td>1</td>\n",
       "      <td>2018</td>\n",
       "    </tr>\n",
       "    <tr>\n",
       "      <th>18247</th>\n",
       "      <td>10</td>\n",
       "      <td>1.93</td>\n",
       "      <td>9.693089</td>\n",
       "      <td>1527.63</td>\n",
       "      <td>2981.04</td>\n",
       "      <td>727.01</td>\n",
       "      <td>10969.54</td>\n",
       "      <td>10919.54</td>\n",
       "      <td>50.00</td>\n",
       "      <td>0.0</td>\n",
       "      <td>1</td>\n",
       "      <td>2018</td>\n",
       "    </tr>\n",
       "    <tr>\n",
       "      <th>18248</th>\n",
       "      <td>11</td>\n",
       "      <td>1.62</td>\n",
       "      <td>9.769361</td>\n",
       "      <td>2894.77</td>\n",
       "      <td>2356.13</td>\n",
       "      <td>224.53</td>\n",
       "      <td>12014.15</td>\n",
       "      <td>11988.14</td>\n",
       "      <td>26.01</td>\n",
       "      <td>0.0</td>\n",
       "      <td>1</td>\n",
       "      <td>2018</td>\n",
       "    </tr>\n",
       "  </tbody>\n",
       "</table>\n",
       "<p>17651 rows × 12 columns</p>\n",
       "</div>"
      ],
      "text/plain": [
       "       Unnamed: 0  AveragePrice  Total Volume     4046       4225    4770  \\\n",
       "0               0          1.33     11.070329  1036.74   54454.85   48.16   \n",
       "1               1          1.35     10.912849   674.28   44638.81   58.33   \n",
       "2               2          0.93     11.680304   794.70  109149.67  130.50   \n",
       "3               3          1.08     11.277104  1132.00   71976.41   72.58   \n",
       "4               4          1.28     10.840357   941.48   43838.39   75.78   \n",
       "...           ...           ...           ...      ...        ...     ...   \n",
       "18244           7          1.63      9.745361  2046.96    1529.20    0.00   \n",
       "18245           8          1.71      9.538783  1191.70    3431.50    0.00   \n",
       "18246           9          1.87      9.530012  1191.92    2452.79  727.94   \n",
       "18247          10          1.93      9.693089  1527.63    2981.04  727.01   \n",
       "18248          11          1.62      9.769361  2894.77    2356.13  224.53   \n",
       "\n",
       "       Total Bags  Small Bags  Large Bags  XLarge Bags  type  year  \n",
       "0         8696.87     8603.62       93.25          0.0     0  2015  \n",
       "1         9505.56     9408.07       97.49          0.0     0  2015  \n",
       "2         8145.35     8042.21      103.14          0.0     0  2015  \n",
       "3         5811.16     5677.40      133.76          0.0     0  2015  \n",
       "4         6183.95     5986.26      197.69          0.0     0  2015  \n",
       "...           ...         ...         ...          ...   ...   ...  \n",
       "18244    13498.67    13066.82      431.85          0.0     1  2018  \n",
       "18245     9264.84     8940.04      324.80          0.0     1  2018  \n",
       "18246     9394.11     9351.80       42.31          0.0     1  2018  \n",
       "18247    10969.54    10919.54       50.00          0.0     1  2018  \n",
       "18248    12014.15    11988.14       26.01          0.0     1  2018  \n",
       "\n",
       "[17651 rows x 12 columns]"
      ]
     },
     "execution_count": 40,
     "metadata": {},
     "output_type": "execute_result"
    }
   ],
   "source": [
    "x=df.iloc[:,:-1]\n",
    "x"
   ]
  },
  {
   "cell_type": "code",
   "execution_count": 16,
   "id": "d4b39f2d",
   "metadata": {},
   "outputs": [
    {
     "data": {
      "text/plain": [
       "0         0\n",
       "1         0\n",
       "2         0\n",
       "3         0\n",
       "4         0\n",
       "         ..\n",
       "18244    53\n",
       "18245    53\n",
       "18246    53\n",
       "18247    53\n",
       "18248    53\n",
       "Name: region, Length: 17651, dtype: int32"
      ]
     },
     "execution_count": 16,
     "metadata": {},
     "output_type": "execute_result"
    }
   ],
   "source": [
    "y=df.iloc[:,-1]\n",
    "y\n"
   ]
  },
  {
   "cell_type": "code",
   "execution_count": 17,
   "id": "958f4cfd",
   "metadata": {},
   "outputs": [
    {
     "data": {
      "text/plain": [
       "(17651, 11)"
      ]
     },
     "execution_count": 17,
     "metadata": {},
     "output_type": "execute_result"
    }
   ],
   "source": [
    "\n",
    "x.shape"
   ]
  },
  {
   "cell_type": "code",
   "execution_count": 18,
   "id": "bd112311",
   "metadata": {},
   "outputs": [
    {
     "data": {
      "text/plain": [
       "(17651,)"
      ]
     },
     "execution_count": 18,
     "metadata": {},
     "output_type": "execute_result"
    }
   ],
   "source": [
    "y.shape"
   ]
  },
  {
   "cell_type": "code",
   "execution_count": 41,
   "id": "db9871df",
   "metadata": {},
   "outputs": [
    {
     "data": {
      "text/plain": [
       "array([[-1.56430271, -0.19535234, -0.06192594, ..., -0.25902684,\n",
       "        -1.01904715, -1.21001338],\n",
       "       [-1.49980642, -0.1435096 , -0.13426234, ..., -0.25902684,\n",
       "        -1.01904715, -1.21001338],\n",
       "       [-1.43531013, -1.2322071 ,  0.2182594 , ..., -0.25902684,\n",
       "        -1.01904715, -1.21001338],\n",
       "       ...,\n",
       "       [-0.98383609,  1.20440158, -0.76945261, ..., -0.25902684,\n",
       "         0.98130886,  1.98075592],\n",
       "       [-0.9193398 ,  1.35992979, -0.69454533, ..., -0.25902684,\n",
       "         0.98130886,  1.98075592],\n",
       "       [-0.85484351,  0.55636736, -0.65951072, ..., -0.25902684,\n",
       "         0.98130886,  1.98075592]])"
      ]
     },
     "execution_count": 41,
     "metadata": {},
     "output_type": "execute_result"
    }
   ],
   "source": [
    "from sklearn.preprocessing import StandardScaler\n",
    "scale=StandardScaler()\n",
    "x=scale.fit_transform(x)\n",
    "x"
   ]
  },
  {
   "cell_type": "code",
   "execution_count": 37,
   "id": "e2b05197",
   "metadata": {},
   "outputs": [],
   "source": [
    "from sklearn.linear_model import LogisticRegression\n",
    "from sklearn.ensemble import RandomForestClassifier\n",
    "from sklearn.svm import SVC\n",
    "from sklearn.tree import DecisionTreeClassifier\n",
    "from sklearn.neighbors import KNeighborsClassifier"
   ]
  },
  {
   "cell_type": "code",
   "execution_count": 21,
   "id": "08e38a08",
   "metadata": {},
   "outputs": [],
   "source": [
    "lg=LogisticRegression()"
   ]
  },
  {
   "cell_type": "code",
   "execution_count": 76,
   "id": "98dda16d",
   "metadata": {},
   "outputs": [
    {
     "name": "stdout",
     "output_type": "stream",
     "text": [
      "At random state 0,the training accuracy is:- 0.4641643059490085\n",
      "At random state 0,the testing accuracy is:- 0.448881336731804\n",
      "\n",
      "\n",
      "At random state 1,the training accuracy is:- 0.4628186968838527\n",
      "At random state 1,the testing accuracy is:- 0.44151798357405836\n",
      "\n",
      "\n",
      "At random state 2,the training accuracy is:- 0.46395184135977335\n",
      "At random state 2,the testing accuracy is:- 0.44180118946474084\n",
      "\n",
      "\n",
      "At random state 3,the training accuracy is:- 0.4577903682719547\n",
      "At random state 3,the testing accuracy is:- 0.45482866043613707\n",
      "\n",
      "\n",
      "At random state 4,the training accuracy is:- 0.4564447592067989\n",
      "At random state 4,the testing accuracy is:- 0.46502407250070804\n",
      "\n",
      "\n",
      "At random state 5,the training accuracy is:- 0.46409348441926346\n",
      "At random state 5,the testing accuracy is:- 0.44491645426224863\n",
      "\n",
      "\n",
      "At random state 6,the training accuracy is:- 0.46041076487252125\n",
      "At random state 6,the testing accuracy is:- 0.442934013027471\n",
      "\n",
      "\n",
      "At random state 7,the training accuracy is:- 0.46310198300283284\n",
      "At random state 7,the testing accuracy is:- 0.4409515717926933\n",
      "\n",
      "\n",
      "At random state 8,the training accuracy is:- 0.46543909348441925\n",
      "At random state 8,the testing accuracy is:- 0.44576607193429624\n",
      "\n",
      "\n",
      "At random state 9,the training accuracy is:- 0.459985835694051\n",
      "At random state 9,the testing accuracy is:- 0.43698668932313794\n",
      "\n",
      "\n",
      "At random state 10,the training accuracy is:- 0.4601274787535411\n",
      "At random state 10,the testing accuracy is:- 0.4358538657604078\n",
      "\n",
      "\n",
      "At random state 11,the training accuracy is:- 0.4578611898016997\n",
      "At random state 11,the testing accuracy is:- 0.4607759841404701\n",
      "\n",
      "\n",
      "At random state 12,the training accuracy is:- 0.45892351274787535\n",
      "At random state 12,the testing accuracy is:- 0.45454545454545453\n",
      "\n",
      "\n",
      "At random state 13,the training accuracy is:- 0.4606940509915014\n",
      "At random state 13,the testing accuracy is:- 0.43953554233928066\n",
      "\n",
      "\n",
      "At random state 14,the training accuracy is:- 0.45963172804532576\n",
      "At random state 14,the testing accuracy is:- 0.4443500424808836\n",
      "\n",
      "\n",
      "At random state 15,the training accuracy is:- 0.4514872521246459\n",
      "At random state 15,the testing accuracy is:- 0.45851033701500993\n",
      "\n",
      "\n",
      "At random state 16,the training accuracy is:- 0.45941926345609063\n",
      "At random state 16,the testing accuracy is:- 0.4423676012461059\n",
      "\n",
      "\n",
      "At random state 17,the training accuracy is:- 0.46111898016997166\n",
      "At random state 17,the testing accuracy is:- 0.4352874539790428\n",
      "\n",
      "\n",
      "At random state 18,the training accuracy is:- 0.4546742209631728\n",
      "At random state 18,the testing accuracy is:- 0.4508637779665817\n",
      "\n",
      "\n",
      "At random state 19,the training accuracy is:- 0.46189801699716715\n",
      "At random state 19,the testing accuracy is:- 0.4573775134522798\n",
      "\n",
      "\n",
      "At random state 20,the training accuracy is:- 0.4570821529745043\n",
      "At random state 20,the testing accuracy is:- 0.4573775134522798\n",
      "\n",
      "\n",
      "At random state 21,the training accuracy is:- 0.46118980169971674\n",
      "At random state 21,the testing accuracy is:- 0.4403851600113282\n",
      "\n",
      "\n",
      "At random state 22,the training accuracy is:- 0.4572237960339943\n",
      "At random state 22,the testing accuracy is:- 0.454262248654772\n",
      "\n",
      "\n",
      "At random state 23,the training accuracy is:- 0.46055240793201135\n",
      "At random state 23,the testing accuracy is:- 0.44491645426224863\n",
      "\n",
      "\n",
      "At random state 24,the training accuracy is:- 0.46104815864022664\n",
      "At random state 24,the testing accuracy is:- 0.44491645426224863\n",
      "\n",
      "\n",
      "At random state 25,the training accuracy is:- 0.4621813031161473\n",
      "At random state 25,the testing accuracy is:- 0.44378363069951854\n",
      "\n",
      "\n",
      "At random state 26,the training accuracy is:- 0.4621104815864023\n",
      "At random state 26,the testing accuracy is:- 0.4454828660436137\n",
      "\n",
      "\n",
      "At random state 27,the training accuracy is:- 0.4592067988668555\n",
      "At random state 27,the testing accuracy is:- 0.4562446898895497\n",
      "\n",
      "\n",
      "At random state 28,the training accuracy is:- 0.4619688385269122\n",
      "At random state 28,the testing accuracy is:- 0.4344378363069952\n",
      "\n",
      "\n",
      "At random state 29,the training accuracy is:- 0.4630311614730878\n",
      "At random state 29,the testing accuracy is:- 0.46219201359388273\n",
      "\n",
      "\n",
      "At random state 30,the training accuracy is:- 0.4603399433427762\n",
      "At random state 30,the testing accuracy is:- 0.4403851600113282\n",
      "\n",
      "\n",
      "At random state 31,the training accuracy is:- 0.45474504249291786\n",
      "At random state 31,the testing accuracy is:- 0.45681110167091477\n",
      "\n",
      "\n",
      "At random state 32,the training accuracy is:- 0.46026912181303115\n",
      "At random state 32,the testing accuracy is:- 0.4500141602945341\n",
      "\n",
      "\n",
      "At random state 33,the training accuracy is:- 0.4555949008498584\n",
      "At random state 33,the testing accuracy is:- 0.44519966015293116\n",
      "\n",
      "\n",
      "At random state 34,the training accuracy is:- 0.4620396600566572\n",
      "At random state 34,the testing accuracy is:- 0.4443500424808836\n",
      "\n",
      "\n",
      "At random state 35,the training accuracy is:- 0.46253541076487253\n",
      "At random state 35,the testing accuracy is:- 0.44916454262248656\n",
      "\n",
      "\n",
      "At random state 36,the training accuracy is:- 0.4572237960339943\n",
      "At random state 36,the testing accuracy is:- 0.4525630133106769\n",
      "\n",
      "\n",
      "At random state 37,the training accuracy is:- 0.46388101983002833\n",
      "At random state 37,the testing accuracy is:- 0.4474653072783914\n",
      "\n",
      "\n",
      "At random state 38,the training accuracy is:- 0.45524079320113314\n",
      "At random state 38,the testing accuracy is:- 0.46105919003115264\n",
      "\n",
      "\n",
      "At random state 39,the training accuracy is:- 0.46331444759206797\n",
      "At random state 39,the testing accuracy is:- 0.4409515717926933\n",
      "\n",
      "\n",
      "At random state 40,the training accuracy is:- 0.45991501416430597\n",
      "At random state 40,the testing accuracy is:- 0.4389691305579156\n",
      "\n",
      "\n",
      "At random state 41,the training accuracy is:- 0.4606232294617564\n",
      "At random state 41,the testing accuracy is:- 0.443500424808836\n",
      "\n",
      "\n",
      "At random state 42,the training accuracy is:- 0.459985835694051\n",
      "At random state 42,the testing accuracy is:- 0.4398187482299632\n",
      "\n",
      "\n",
      "At random state 43,the training accuracy is:- 0.46055240793201135\n",
      "At random state 43,the testing accuracy is:- 0.4352874539790428\n",
      "\n",
      "\n",
      "At random state 44,the training accuracy is:- 0.46090651558073653\n",
      "At random state 44,the testing accuracy is:- 0.44066836590201075\n",
      "\n",
      "\n",
      "At random state 45,the training accuracy is:- 0.4588526912181303\n",
      "At random state 45,the testing accuracy is:- 0.4480317190597564\n",
      "\n",
      "\n",
      "At random state 46,the training accuracy is:- 0.4643059490084986\n",
      "At random state 46,the testing accuracy is:- 0.4398187482299632\n",
      "\n",
      "\n",
      "At random state 47,the training accuracy is:- 0.4637393767705382\n",
      "At random state 47,the testing accuracy is:- 0.4392523364485981\n",
      "\n",
      "\n",
      "At random state 48,the training accuracy is:- 0.4619688385269122\n",
      "At random state 48,the testing accuracy is:- 0.4392523364485981\n",
      "\n",
      "\n",
      "At random state 49,the training accuracy is:- 0.4592067988668555\n",
      "At random state 49,the testing accuracy is:- 0.4505805720758992\n",
      "\n",
      "\n",
      "At random state 50,the training accuracy is:- 0.454957507082153\n",
      "At random state 50,the testing accuracy is:- 0.4511469838572642\n",
      "\n",
      "\n",
      "At random state 51,the training accuracy is:- 0.4628895184135977\n",
      "At random state 51,the testing accuracy is:- 0.43642027754177287\n",
      "\n",
      "\n",
      "At random state 52,the training accuracy is:- 0.45991501416430597\n",
      "At random state 52,the testing accuracy is:- 0.44066836590201075\n",
      "\n",
      "\n",
      "At random state 53,the training accuracy is:- 0.4635269121813031\n",
      "At random state 53,the testing accuracy is:- 0.44265080713678845\n",
      "\n",
      "\n",
      "At random state 54,the training accuracy is:- 0.46104815864022664\n",
      "At random state 54,the testing accuracy is:- 0.45143018974794674\n",
      "\n",
      "\n",
      "At random state 55,the training accuracy is:- 0.4643059490084986\n",
      "At random state 55,the testing accuracy is:- 0.42934013027470974\n",
      "\n",
      "\n",
      "At random state 56,the training accuracy is:- 0.4603399433427762\n",
      "At random state 56,the testing accuracy is:- 0.4562446898895497\n",
      "\n",
      "\n",
      "At random state 57,the training accuracy is:- 0.46140226628895187\n",
      "At random state 57,the testing accuracy is:- 0.43557065986972526\n",
      "\n",
      "\n",
      "At random state 58,the training accuracy is:- 0.4635977337110482\n",
      "At random state 58,the testing accuracy is:- 0.44774851316907394\n",
      "\n",
      "\n",
      "At random state 59,the training accuracy is:- 0.4593484419263456\n",
      "At random state 59,the testing accuracy is:- 0.4443500424808836\n",
      "\n",
      "\n",
      "At random state 60,the training accuracy is:- 0.45941926345609063\n",
      "At random state 60,the testing accuracy is:- 0.44180118946474084\n",
      "\n",
      "\n",
      "At random state 61,the training accuracy is:- 0.4588526912181303\n",
      "At random state 61,the testing accuracy is:- 0.4454828660436137\n",
      "\n",
      "\n",
      "At random state 62,the training accuracy is:- 0.45878186968838525\n",
      "At random state 62,the testing accuracy is:- 0.44265080713678845\n",
      "\n",
      "\n"
     ]
    },
    {
     "name": "stdout",
     "output_type": "stream",
     "text": [
      "At random state 63,the training accuracy is:- 0.4635269121813031\n",
      "At random state 63,the testing accuracy is:- 0.4505805720758992\n",
      "\n",
      "\n",
      "At random state 64,the training accuracy is:- 0.45906515580736545\n",
      "At random state 64,the testing accuracy is:- 0.44774851316907394\n",
      "\n",
      "\n",
      "At random state 65,the training accuracy is:- 0.45531161473087817\n",
      "At random state 65,the testing accuracy is:- 0.4525630133106769\n",
      "\n",
      "\n",
      "At random state 66,the training accuracy is:- 0.4576487252124646\n",
      "At random state 66,the testing accuracy is:- 0.44916454262248656\n",
      "\n",
      "\n",
      "At random state 67,the training accuracy is:- 0.4606940509915014\n",
      "At random state 67,the testing accuracy is:- 0.4562446898895497\n",
      "\n",
      "\n",
      "At random state 68,the training accuracy is:- 0.46189801699716715\n",
      "At random state 68,the testing accuracy is:- 0.4602095723591051\n",
      "\n",
      "\n",
      "At random state 69,the training accuracy is:- 0.4603399433427762\n",
      "At random state 69,the testing accuracy is:- 0.4474653072783914\n",
      "\n",
      "\n",
      "At random state 70,the training accuracy is:- 0.46572237960339946\n",
      "At random state 70,the testing accuracy is:- 0.43868592466723305\n",
      "\n",
      "\n",
      "At random state 71,the training accuracy is:- 0.4548866855524079\n",
      "At random state 71,the testing accuracy is:- 0.4556782781081847\n",
      "\n",
      "\n",
      "At random state 72,the training accuracy is:- 0.4585694050991501\n",
      "At random state 72,the testing accuracy is:- 0.454262248654772\n",
      "\n",
      "\n",
      "At random state 73,the training accuracy is:- 0.4614730878186969\n",
      "At random state 73,the testing accuracy is:- 0.46304163126593034\n",
      "\n",
      "\n",
      "At random state 74,the training accuracy is:- 0.46423512747875356\n",
      "At random state 74,the testing accuracy is:- 0.4443500424808836\n",
      "\n",
      "\n",
      "At random state 75,the training accuracy is:- 0.46189801699716715\n",
      "At random state 75,the testing accuracy is:- 0.448881336731804\n",
      "\n",
      "\n",
      "At random state 76,the training accuracy is:- 0.45906515580736545\n",
      "At random state 76,the testing accuracy is:- 0.4539790427640895\n",
      "\n",
      "\n",
      "At random state 77,the training accuracy is:- 0.4589943342776204\n",
      "At random state 77,the testing accuracy is:- 0.4460492778249788\n",
      "\n",
      "\n",
      "At random state 78,the training accuracy is:- 0.459985835694051\n",
      "At random state 78,the testing accuracy is:- 0.44916454262248656\n",
      "\n",
      "\n",
      "At random state 79,the training accuracy is:- 0.4586402266288952\n",
      "At random state 79,the testing accuracy is:- 0.44774851316907394\n",
      "\n",
      "\n",
      "At random state 80,the training accuracy is:- 0.45821529745042494\n",
      "At random state 80,the testing accuracy is:- 0.44718210138770886\n",
      "\n",
      "\n",
      "At random state 81,the training accuracy is:- 0.4615439093484419\n",
      "At random state 81,the testing accuracy is:- 0.4511469838572642\n",
      "\n",
      "\n",
      "At random state 82,the training accuracy is:- 0.4564447592067989\n",
      "At random state 82,the testing accuracy is:- 0.44066836590201075\n",
      "\n",
      "\n",
      "At random state 83,the training accuracy is:- 0.4578611898016997\n",
      "At random state 83,the testing accuracy is:- 0.4633248371566129\n",
      "\n",
      "\n",
      "At random state 84,the training accuracy is:- 0.4570113314447592\n",
      "At random state 84,the testing accuracy is:- 0.44774851316907394\n",
      "\n",
      "\n",
      "At random state 85,the training accuracy is:- 0.45672804532577904\n",
      "At random state 85,the testing accuracy is:- 0.4403851600113282\n",
      "\n",
      "\n",
      "At random state 86,the training accuracy is:- 0.46621813031161474\n",
      "At random state 86,the testing accuracy is:- 0.43613707165109034\n",
      "\n",
      "\n",
      "At random state 87,the training accuracy is:- 0.46402266288951843\n",
      "At random state 87,the testing accuracy is:- 0.4403851600113282\n",
      "\n",
      "\n",
      "At random state 88,the training accuracy is:- 0.461685552407932\n",
      "At random state 88,the testing accuracy is:- 0.4570943075615973\n",
      "\n",
      "\n",
      "At random state 89,the training accuracy is:- 0.459985835694051\n",
      "At random state 89,the testing accuracy is:- 0.46644010195412067\n",
      "\n",
      "\n",
      "At random state 90,the training accuracy is:- 0.46111898016997166\n",
      "At random state 90,the testing accuracy is:- 0.4454828660436137\n",
      "\n",
      "\n",
      "At random state 91,the training accuracy is:- 0.45878186968838525\n",
      "At random state 91,the testing accuracy is:- 0.4593599546870575\n",
      "\n",
      "\n",
      "At random state 92,the training accuracy is:- 0.46111898016997166\n",
      "At random state 92,the testing accuracy is:- 0.45879354290569246\n",
      "\n",
      "\n",
      "At random state 93,the training accuracy is:- 0.456657223796034\n",
      "At random state 93,the testing accuracy is:- 0.45681110167091477\n",
      "\n",
      "\n",
      "At random state 94,the training accuracy is:- 0.4576487252124646\n",
      "At random state 94,the testing accuracy is:- 0.4466156896063438\n",
      "\n",
      "\n",
      "At random state 95,the training accuracy is:- 0.4631728045325779\n",
      "At random state 95,the testing accuracy is:- 0.45284621920135937\n",
      "\n",
      "\n",
      "At random state 96,the training accuracy is:- 0.45956090651558074\n",
      "At random state 96,the testing accuracy is:- 0.44831492495043895\n",
      "\n",
      "\n",
      "At random state 97,the training accuracy is:- 0.4572946175637394\n",
      "At random state 97,the testing accuracy is:- 0.4494477485131691\n",
      "\n",
      "\n",
      "At random state 98,the training accuracy is:- 0.4580028328611898\n",
      "At random state 98,the testing accuracy is:- 0.4463324837156613\n",
      "\n",
      "\n",
      "At random state 99,the training accuracy is:- 0.46274787535410766\n",
      "At random state 99,the testing accuracy is:- 0.442934013027471\n",
      "\n",
      "\n"
     ]
    }
   ],
   "source": [
    "for i in range(0,100):\n",
    "    x_train,x_test,y_train,y_test=train_test_split(x,y,test_size=0.2,random_state=i)\n",
    "    lg.fit(x_train,y_train)\n",
    "    pred_train=lg.predict(x_train)\n",
    "    pred_test=lg.predict(x_test)\n",
    "    print(f\"At random state {i},the training accuracy is:- {accuracy_score(y_train,pred_train)}\")\n",
    "    print(f\"At random state {i},the testing accuracy is:- {accuracy_score(y_test,pred_test)}\")\n",
    "    print(\"\\n\")"
   ]
  },
  {
   "cell_type": "code",
   "execution_count": 42,
   "id": "42cbc394",
   "metadata": {},
   "outputs": [],
   "source": [
    "x_train,x_test,y_train,y_test=train_test_split(x,y,test_size=.33,random_state=71)"
   ]
  },
  {
   "cell_type": "code",
   "execution_count": 23,
   "id": "01dbd15a",
   "metadata": {},
   "outputs": [
    {
     "data": {
      "text/plain": [
       "(11826, 11)"
      ]
     },
     "execution_count": 23,
     "metadata": {},
     "output_type": "execute_result"
    }
   ],
   "source": [
    "x_train.shape"
   ]
  },
  {
   "cell_type": "code",
   "execution_count": 79,
   "id": "b45cff2c",
   "metadata": {},
   "outputs": [
    {
     "data": {
      "text/plain": [
       "(5825, 11)"
      ]
     },
     "execution_count": 79,
     "metadata": {},
     "output_type": "execute_result"
    }
   ],
   "source": [
    "x_test.shape"
   ]
  },
  {
   "cell_type": "code",
   "execution_count": 80,
   "id": "89265e3e",
   "metadata": {},
   "outputs": [
    {
     "data": {
      "text/plain": [
       "(11826,)"
      ]
     },
     "execution_count": 80,
     "metadata": {},
     "output_type": "execute_result"
    }
   ],
   "source": [
    "y_train.shape"
   ]
  },
  {
   "cell_type": "code",
   "execution_count": 81,
   "id": "4e7c3045",
   "metadata": {},
   "outputs": [
    {
     "data": {
      "text/plain": [
       "(5825,)"
      ]
     },
     "execution_count": 81,
     "metadata": {},
     "output_type": "execute_result"
    }
   ],
   "source": [
    "y_test.shape"
   ]
  },
  {
   "cell_type": "code",
   "execution_count": 82,
   "id": "d6beab0f",
   "metadata": {},
   "outputs": [
    {
     "name": "stdout",
     "output_type": "stream",
     "text": [
      "Acuracy_score 0.44394849785407725\n",
      "              precision    recall  f1-score   support\n",
      "\n",
      "           0       0.39      0.42      0.41       130\n",
      "           1       0.29      0.38      0.33       109\n",
      "           2       0.63      0.51      0.57       111\n",
      "           3       0.32      0.45      0.37       113\n",
      "           4       0.68      0.29      0.41       116\n",
      "           5       0.43      0.37      0.40       116\n",
      "           6       0.69      0.77      0.73        95\n",
      "           7       0.34      0.44      0.39       117\n",
      "           8       0.57      0.83      0.67       113\n",
      "           9       0.64      0.45      0.53       131\n",
      "          10       0.23      0.23      0.23        98\n",
      "          11       0.48      0.53      0.50       121\n",
      "          12       0.50      0.55      0.52        99\n",
      "          13       0.57      0.42      0.48       108\n",
      "          14       0.44      0.30      0.36       118\n",
      "          15       0.56      0.73      0.64        78\n",
      "          16       0.63      0.41      0.49       115\n",
      "          17       0.33      0.62      0.43       104\n",
      "          18       0.18      0.24      0.21       118\n",
      "          19       0.63      0.34      0.44       113\n",
      "          20       0.51      0.43      0.47       112\n",
      "          21       0.66      0.29      0.40       115\n",
      "          22       0.51      0.73      0.60       109\n",
      "          23       0.46      0.67      0.55       126\n",
      "          24       0.25      0.30      0.28       106\n",
      "          25       0.65      0.53      0.58       114\n",
      "          26       0.16      0.24      0.20       100\n",
      "          27       0.41      0.50      0.45       115\n",
      "          28       0.66      0.79      0.72       121\n",
      "          29       0.75      0.82      0.78       113\n",
      "          30       0.33      0.26      0.29       110\n",
      "          31       0.27      0.36      0.31       109\n",
      "          32       0.31      0.47      0.37        93\n",
      "          33       0.32      0.22      0.26       115\n",
      "          34       0.26      0.09      0.14       108\n",
      "          35       0.73      0.50      0.59       108\n",
      "          36       0.43      0.32      0.37        99\n",
      "          37       0.41      0.33      0.36       101\n",
      "          38       0.22      0.43      0.29        96\n",
      "          39       0.29      0.43      0.35        99\n",
      "          40       0.45      0.53      0.49       111\n",
      "          41       0.26      0.32      0.29       107\n",
      "          42       0.67      0.80      0.73       100\n",
      "          43       0.73      0.37      0.49       108\n",
      "          44       0.37      0.20      0.26       108\n",
      "          45       0.72      0.53      0.61        93\n",
      "          46       0.77      0.65      0.71       104\n",
      "          47       0.12      0.02      0.03       131\n",
      "          48       0.39      0.27      0.32       103\n",
      "          49       0.27      0.57      0.37       110\n",
      "          50       0.12      0.08      0.10       100\n",
      "          51       0.97      0.98      0.97        59\n",
      "          52       0.89      0.79      0.84        84\n",
      "          53       0.63      0.32      0.43       115\n",
      "\n",
      "    accuracy                           0.44      5825\n",
      "   macro avg       0.47      0.45      0.45      5825\n",
      "weighted avg       0.47      0.44      0.44      5825\n",
      "\n"
     ]
    }
   ],
   "source": [
    "lg=LogisticRegression()\n",
    "lg.fit(x_train,y_train)\n",
    "pred=lg.predict(x_test)\n",
    "print('Acuracy_score',accuracy_score(y_test,pred))\n",
    "print(classification_report(y_test,pred))"
   ]
  },
  {
   "cell_type": "code",
   "execution_count": 83,
   "id": "24cd6d27",
   "metadata": {},
   "outputs": [
    {
     "name": "stdout",
     "output_type": "stream",
     "text": [
      "Acuracy_score 0.7883261802575108\n",
      "              precision    recall  f1-score   support\n",
      "\n",
      "           0       0.74      0.74      0.74       130\n",
      "           1       0.71      0.74      0.73       109\n",
      "           2       0.91      0.92      0.91       111\n",
      "           3       0.75      0.77      0.76       113\n",
      "           4       0.82      0.84      0.83       116\n",
      "           5       0.72      0.73      0.73       116\n",
      "           6       0.95      0.98      0.96        95\n",
      "           7       0.76      0.85      0.80       117\n",
      "           8       0.94      0.90      0.92       113\n",
      "           9       0.85      0.76      0.81       131\n",
      "          10       0.66      0.70      0.68        98\n",
      "          11       0.88      0.86      0.87       121\n",
      "          12       0.86      0.81      0.83        99\n",
      "          13       0.68      0.72      0.70       108\n",
      "          14       0.84      0.79      0.81       118\n",
      "          15       0.96      0.95      0.95        78\n",
      "          16       0.86      0.93      0.90       115\n",
      "          17       0.79      0.83      0.81       104\n",
      "          18       0.80      0.78      0.79       118\n",
      "          19       0.72      0.77      0.75       113\n",
      "          20       0.86      0.79      0.82       112\n",
      "          21       0.61      0.62      0.61       115\n",
      "          22       0.92      0.90      0.91       109\n",
      "          23       0.80      0.76      0.78       126\n",
      "          24       0.56      0.49      0.52       106\n",
      "          25       0.93      0.96      0.95       114\n",
      "          26       0.67      0.67      0.67       100\n",
      "          27       0.77      0.79      0.78       115\n",
      "          28       0.84      0.84      0.84       121\n",
      "          29       0.85      0.88      0.86       113\n",
      "          30       0.89      0.86      0.88       110\n",
      "          31       0.64      0.73      0.68       109\n",
      "          32       0.83      0.80      0.81        93\n",
      "          33       0.70      0.73      0.71       115\n",
      "          34       0.77      0.86      0.81       108\n",
      "          35       0.80      0.80      0.80       108\n",
      "          36       0.70      0.65      0.67        99\n",
      "          37       0.67      0.57      0.62       101\n",
      "          38       0.77      0.75      0.76        96\n",
      "          39       0.80      0.73      0.76        99\n",
      "          40       0.90      0.86      0.88       111\n",
      "          41       0.74      0.73      0.73       107\n",
      "          42       0.87      0.88      0.88       100\n",
      "          43       0.74      0.74      0.74       108\n",
      "          44       0.73      0.77      0.75       108\n",
      "          45       0.89      0.90      0.90        93\n",
      "          46       0.96      0.88      0.91       104\n",
      "          47       0.83      0.73      0.78       131\n",
      "          48       0.69      0.69      0.69       103\n",
      "          49       0.76      0.82      0.79       110\n",
      "          50       0.47      0.50      0.49       100\n",
      "          51       1.00      1.00      1.00        59\n",
      "          52       0.91      0.93      0.92        84\n",
      "          53       0.68      0.73      0.71       115\n",
      "\n",
      "    accuracy                           0.79      5825\n",
      "   macro avg       0.79      0.79      0.79      5825\n",
      "weighted avg       0.79      0.79      0.79      5825\n",
      "\n"
     ]
    }
   ],
   "source": [
    "dt=DecisionTreeClassifier()\n",
    "dt.fit(x_train,y_train)\n",
    "pred=dt.predict(x_test)\n",
    "print('Acuracy_score',accuracy_score(y_test,pred))\n",
    "print(classification_report(y_test,pred))"
   ]
  },
  {
   "cell_type": "code",
   "execution_count": 84,
   "id": "73e0cebe",
   "metadata": {},
   "outputs": [
    {
     "name": "stdout",
     "output_type": "stream",
     "text": [
      "Acuracy_score 0.9040343347639485\n",
      "              precision    recall  f1-score   support\n",
      "\n",
      "           0       0.89      0.89      0.89       130\n",
      "           1       0.90      0.83      0.87       109\n",
      "           2       0.96      0.96      0.96       111\n",
      "           3       0.90      0.87      0.88       113\n",
      "           4       0.97      0.95      0.96       116\n",
      "           5       0.83      0.87      0.85       116\n",
      "           6       0.99      0.99      0.99        95\n",
      "           7       0.87      0.95      0.91       117\n",
      "           8       0.98      0.93      0.95       113\n",
      "           9       0.94      0.85      0.90       131\n",
      "          10       0.85      0.82      0.83        98\n",
      "          11       0.95      0.98      0.96       121\n",
      "          12       0.95      0.94      0.94        99\n",
      "          13       0.81      0.88      0.84       108\n",
      "          14       0.91      0.95      0.93       118\n",
      "          15       0.97      0.97      0.97        78\n",
      "          16       0.96      0.96      0.96       115\n",
      "          17       0.90      0.95      0.93       104\n",
      "          18       0.91      0.89      0.90       118\n",
      "          19       0.88      0.90      0.89       113\n",
      "          20       0.97      0.96      0.97       112\n",
      "          21       0.84      0.81      0.82       115\n",
      "          22       0.96      0.97      0.97       109\n",
      "          23       0.91      0.90      0.90       126\n",
      "          24       0.74      0.69      0.71       106\n",
      "          25       0.97      0.97      0.97       114\n",
      "          26       0.82      0.87      0.84       100\n",
      "          27       0.85      0.92      0.89       115\n",
      "          28       0.96      0.94      0.95       121\n",
      "          29       0.96      0.96      0.96       113\n",
      "          30       0.95      0.96      0.96       110\n",
      "          31       0.78      0.83      0.80       109\n",
      "          32       0.86      0.89      0.88        93\n",
      "          33       0.87      0.88      0.87       115\n",
      "          34       1.00      0.95      0.98       108\n",
      "          35       0.87      0.94      0.91       108\n",
      "          36       0.88      0.84      0.86        99\n",
      "          37       0.89      0.84      0.87       101\n",
      "          38       0.88      0.92      0.90        96\n",
      "          39       0.96      0.93      0.94        99\n",
      "          40       0.87      0.95      0.91       111\n",
      "          41       0.86      0.86      0.86       107\n",
      "          42       0.93      0.98      0.96       100\n",
      "          43       0.96      0.91      0.93       108\n",
      "          44       0.92      0.89      0.91       108\n",
      "          45       0.99      0.99      0.99        93\n",
      "          46       0.98      0.96      0.97       104\n",
      "          47       0.93      0.89      0.91       131\n",
      "          48       0.88      0.83      0.85       103\n",
      "          49       0.89      0.87      0.88       110\n",
      "          50       0.58      0.63      0.61       100\n",
      "          51       0.98      1.00      0.99        59\n",
      "          52       0.97      0.99      0.98        84\n",
      "          53       0.88      0.83      0.85       115\n",
      "\n",
      "    accuracy                           0.90      5825\n",
      "   macro avg       0.91      0.91      0.91      5825\n",
      "weighted avg       0.91      0.90      0.90      5825\n",
      "\n"
     ]
    }
   ],
   "source": [
    "rf=RandomForestClassifier()\n",
    "rf.fit(x_train,y_train)\n",
    "pred=rf.predict(x_test)\n",
    "print('Acuracy_score',accuracy_score(y_test,pred))\n",
    "print(classification_report(y_test,pred))"
   ]
  },
  {
   "cell_type": "code",
   "execution_count": 85,
   "id": "05276af0",
   "metadata": {},
   "outputs": [
    {
     "name": "stdout",
     "output_type": "stream",
     "text": [
      "Acuracy_score 0.46626609442060085\n",
      "              precision    recall  f1-score   support\n",
      "\n",
      "           0       0.45      0.37      0.41       130\n",
      "           1       0.81      0.35      0.49       109\n",
      "           2       0.61      0.56      0.58       111\n",
      "           3       0.52      0.35      0.42       113\n",
      "           4       0.77      0.41      0.53       116\n",
      "           5       0.40      0.35      0.38       116\n",
      "           6       0.91      0.64      0.75        95\n",
      "           7       0.27      0.28      0.28       117\n",
      "           8       0.60      0.82      0.69       113\n",
      "           9       0.93      0.39      0.55       131\n",
      "          10       0.40      0.17      0.24        98\n",
      "          11       0.43      0.58      0.50       121\n",
      "          12       0.65      0.66      0.65        99\n",
      "          13       0.67      0.33      0.44       108\n",
      "          14       0.89      0.21      0.34       118\n",
      "          15       0.68      0.68      0.68        78\n",
      "          16       0.46      0.38      0.42       115\n",
      "          17       0.36      0.68      0.47       104\n",
      "          18       0.31      0.55      0.40       118\n",
      "          19       0.36      0.34      0.35       113\n",
      "          20       0.31      0.40      0.35       112\n",
      "          21       0.81      0.30      0.43       115\n",
      "          22       0.65      0.76      0.70       109\n",
      "          23       0.49      0.36      0.41       126\n",
      "          24       0.63      0.31      0.42       106\n",
      "          25       0.67      0.74      0.70       114\n",
      "          26       0.41      0.37      0.39       100\n",
      "          27       0.51      0.22      0.30       115\n",
      "          28       0.63      0.89      0.74       121\n",
      "          29       0.80      0.92      0.86       113\n",
      "          30       0.23      0.42      0.30       110\n",
      "          31       0.16      0.19      0.18       109\n",
      "          32       0.24      0.49      0.32        93\n",
      "          33       0.70      0.32      0.44       115\n",
      "          34       0.16      0.39      0.23       108\n",
      "          35       0.65      0.76      0.70       108\n",
      "          36       0.76      0.32      0.45        99\n",
      "          37       0.32      0.38      0.35       101\n",
      "          38       0.14      0.50      0.22        96\n",
      "          39       0.22      0.44      0.30        99\n",
      "          40       0.48      0.50      0.49       111\n",
      "          41       0.70      0.49      0.57       107\n",
      "          42       0.79      0.63      0.70       100\n",
      "          43       0.87      0.50      0.64       108\n",
      "          44       0.36      0.36      0.36       108\n",
      "          45       0.74      0.63      0.68        93\n",
      "          46       0.77      0.61      0.68       104\n",
      "          47       0.24      0.04      0.07       131\n",
      "          48       0.56      0.21      0.31       103\n",
      "          49       0.31      0.56      0.40       110\n",
      "          50       0.20      0.25      0.23       100\n",
      "          51       1.00      1.00      1.00        59\n",
      "          52       0.97      0.88      0.93        84\n",
      "          53       0.75      0.45      0.57       115\n",
      "\n",
      "    accuracy                           0.47      5825\n",
      "   macro avg       0.55      0.48      0.48      5825\n",
      "weighted avg       0.55      0.47      0.47      5825\n",
      "\n"
     ]
    }
   ],
   "source": [
    "svc=SVC()\n",
    "svc.fit(x_train,y_train)\n",
    "pred=svc.predict(x_test)\n",
    "print('Acuracy_score',accuracy_score(y_test,pred))\n",
    "print(classification_report(y_test,pred))"
   ]
  },
  {
   "cell_type": "code",
   "execution_count": 86,
   "id": "28504a64",
   "metadata": {},
   "outputs": [
    {
     "name": "stdout",
     "output_type": "stream",
     "text": [
      "Acuracy_score 0.5975965665236052\n",
      "              precision    recall  f1-score   support\n",
      "\n",
      "           0       0.52      0.57      0.55       130\n",
      "           1       0.35      0.53      0.42       109\n",
      "           2       0.61      0.74      0.67       111\n",
      "           3       0.55      0.61      0.58       113\n",
      "           4       0.49      0.62      0.55       116\n",
      "           5       0.43      0.53      0.48       116\n",
      "           6       0.87      0.81      0.84        95\n",
      "           7       0.46      0.68      0.55       117\n",
      "           8       0.76      0.83      0.79       113\n",
      "           9       0.49      0.52      0.50       131\n",
      "          10       0.28      0.42      0.34        98\n",
      "          11       0.61      0.76      0.67       121\n",
      "          12       0.65      0.69      0.67        99\n",
      "          13       0.49      0.43      0.46       108\n",
      "          14       0.48      0.47      0.47       118\n",
      "          15       0.81      0.85      0.83        78\n",
      "          16       0.50      0.56      0.53       115\n",
      "          17       0.56      0.65      0.60       104\n",
      "          18       0.66      0.57      0.61       118\n",
      "          19       0.47      0.45      0.46       113\n",
      "          20       0.50      0.54      0.52       112\n",
      "          21       0.56      0.44      0.50       115\n",
      "          22       0.75      0.93      0.83       109\n",
      "          23       0.59      0.54      0.56       126\n",
      "          24       0.51      0.41      0.45       106\n",
      "          25       0.85      0.82      0.84       114\n",
      "          26       0.51      0.48      0.49       100\n",
      "          27       0.53      0.45      0.49       115\n",
      "          28       0.82      0.81      0.81       121\n",
      "          29       0.91      0.94      0.93       113\n",
      "          30       0.66      0.56      0.61       110\n",
      "          31       0.37      0.39      0.38       109\n",
      "          32       0.55      0.53      0.54        93\n",
      "          33       0.55      0.51      0.53       115\n",
      "          34       0.55      0.61      0.58       108\n",
      "          35       0.78      0.92      0.84       108\n",
      "          36       0.70      0.60      0.64        99\n",
      "          37       0.57      0.48      0.52       101\n",
      "          38       0.47      0.54      0.50        96\n",
      "          39       0.52      0.44      0.48        99\n",
      "          40       0.63      0.61      0.62       111\n",
      "          41       0.70      0.57      0.63       107\n",
      "          42       0.76      0.71      0.74       100\n",
      "          43       0.84      0.56      0.67       108\n",
      "          44       0.55      0.41      0.47       108\n",
      "          45       0.87      0.81      0.84        93\n",
      "          46       0.88      0.74      0.80       104\n",
      "          47       0.58      0.49      0.53       131\n",
      "          48       0.55      0.37      0.44       103\n",
      "          49       0.56      0.45      0.50       110\n",
      "          50       0.33      0.30      0.31       100\n",
      "          51       1.00      1.00      1.00        59\n",
      "          52       0.96      0.89      0.93        84\n",
      "          53       0.64      0.46      0.54       115\n",
      "\n",
      "    accuracy                           0.60      5825\n",
      "   macro avg       0.61      0.60      0.60      5825\n",
      "weighted avg       0.61      0.60      0.60      5825\n",
      "\n"
     ]
    }
   ],
   "source": [
    "kn=KNeighborsClassifier()\n",
    "kn.fit(x_train,y_train)\n",
    "pred=kn.predict(x_test)\n",
    "print('Acuracy_score',accuracy_score(y_test,pred))\n",
    "print(classification_report(y_test,pred))"
   ]
  },
  {
   "cell_type": "markdown",
   "id": "24c01e87",
   "metadata": {},
   "source": [
    "# Cross Validation"
   ]
  },
  {
   "cell_type": "code",
   "execution_count": 25,
   "id": "18bbb9c4",
   "metadata": {},
   "outputs": [],
   "source": [
    "from sklearn.model_selection import cross_val_score"
   ]
  },
  {
   "cell_type": "code",
   "execution_count": 96,
   "id": "710bb851",
   "metadata": {},
   "outputs": [
    {
     "name": "stdout",
     "output_type": "stream",
     "text": [
      "0.34869987636819333\n"
     ]
    }
   ],
   "source": [
    "print(cross_val_score(lg,x,y,cv=5).mean())"
   ]
  },
  {
   "cell_type": "code",
   "execution_count": 97,
   "id": "fd07d891",
   "metadata": {},
   "outputs": [
    {
     "name": "stdout",
     "output_type": "stream",
     "text": [
      "0.5518143549283842\n"
     ]
    }
   ],
   "source": [
    "print(cross_val_score(dt,x,y,cv=5).mean())"
   ]
  },
  {
   "cell_type": "code",
   "execution_count": 98,
   "id": "3a99f396",
   "metadata": {},
   "outputs": [
    {
     "name": "stdout",
     "output_type": "stream",
     "text": [
      "0.6724296578343333\n"
     ]
    }
   ],
   "source": [
    "print(cross_val_score(rf,x,y,cv=5).mean())"
   ]
  },
  {
   "cell_type": "code",
   "execution_count": 99,
   "id": "7d1a3f11",
   "metadata": {},
   "outputs": [
    {
     "name": "stdout",
     "output_type": "stream",
     "text": [
      "0.3562354154983421\n"
     ]
    }
   ],
   "source": [
    "print(cross_val_score(svc,x,y,cv=5).mean())"
   ]
  },
  {
   "cell_type": "code",
   "execution_count": 100,
   "id": "ef33c23b",
   "metadata": {},
   "outputs": [
    {
     "name": "stdout",
     "output_type": "stream",
     "text": [
      "0.33221068271874443\n"
     ]
    }
   ],
   "source": [
    "print(cross_val_score(kn,x,y,cv=5).mean())"
   ]
  },
  {
   "cell_type": "markdown",
   "id": "17de80d3",
   "metadata": {},
   "source": [
    "# AUC ROC Curve"
   ]
  },
  {
   "cell_type": "code",
   "execution_count": 101,
   "id": "bfcdff42",
   "metadata": {},
   "outputs": [],
   "source": [
    "from sklearn.metrics import roc_curve\n",
    "from sklearn.metrics import roc_auc_score"
   ]
  },
  {
   "cell_type": "code",
   "execution_count": 114,
   "id": "a9b36d9b",
   "metadata": {},
   "outputs": [
    {
     "data": {
      "text/plain": [
       "array([[0., 0., 0., ..., 0., 0., 0.],\n",
       "       [0., 0., 0., ..., 0., 0., 0.],\n",
       "       [0., 0., 0., ..., 0., 0., 0.],\n",
       "       ...,\n",
       "       [0., 0., 0., ..., 0., 0., 0.],\n",
       "       [0., 0., 1., ..., 0., 0., 0.],\n",
       "       [0., 0., 0., ..., 0., 0., 0.]])"
      ]
     },
     "execution_count": 114,
     "metadata": {},
     "output_type": "execute_result"
    }
   ],
   "source": [
    "y_pred_prob=dt.predict_proba(x_test)\n",
    "y_pred_prob"
   ]
  },
  {
   "cell_type": "code",
   "execution_count": 112,
   "id": "e08ed1ae",
   "metadata": {},
   "outputs": [
    {
     "data": {
      "text/plain": [
       "(5825,)"
      ]
     },
     "execution_count": 112,
     "metadata": {},
     "output_type": "execute_result"
    }
   ],
   "source": [
    "y_pred_prob.shape"
   ]
  },
  {
   "cell_type": "code",
   "execution_count": 115,
   "id": "09873fc0",
   "metadata": {},
   "outputs": [],
   "source": [
    "auc_score=roc_auc_score(y_test, y_pred_prob, multi_class='ovo', average='weighted')"
   ]
  },
  {
   "cell_type": "code",
   "execution_count": 116,
   "id": "1fcec93d",
   "metadata": {},
   "outputs": [
    {
     "data": {
      "text/plain": [
       "0.8928119510709601"
      ]
     },
     "execution_count": 116,
     "metadata": {},
     "output_type": "execute_result"
    }
   ],
   "source": [
    "auc_score"
   ]
  },
  {
   "cell_type": "code",
   "execution_count": 117,
   "id": "6aa7471c",
   "metadata": {},
   "outputs": [
    {
     "data": {
      "text/plain": [
       "<bound method NDFrame._add_numeric_operations.<locals>.max of 0         0\n",
       "1         0\n",
       "2         0\n",
       "3         0\n",
       "4         0\n",
       "         ..\n",
       "18244    53\n",
       "18245    53\n",
       "18246    53\n",
       "18247    53\n",
       "18248    53\n",
       "Name: region, Length: 17651, dtype: int32>"
      ]
     },
     "execution_count": 117,
     "metadata": {},
     "output_type": "execute_result"
    }
   ],
   "source": [
    "df['region'].max"
   ]
  },
  {
   "cell_type": "code",
   "execution_count": 119,
   "id": "ba19af6a",
   "metadata": {},
   "outputs": [
    {
     "data": {
      "image/png": "[encoded data removed]",
      "text/plain": [
       "<Figure size 432x288 with 1 Axes>"
      ]
     },
     "metadata": {
      "needs_background": "light"
     },
     "output_type": "display_data"
    }
   ],
   "source": [
    "fpr = {}\n",
    "tpr = {}\n",
    "thresh ={}\n",
    "\n",
    "n_class = 53\n",
    "\n",
    "for i in range(n_class):    \n",
    "    fpr[i], tpr[i], thresh[i] = roc_curve(y_test, y_pred_prob[:,i], pos_label=i)\n",
    "    \n",
    "# plotting    \n",
    "plt.plot(fpr[0], tpr[0], linestyle='--',color='orange', label='Class 0 vs Rest')\n",
    "plt.plot(fpr[1], tpr[1], linestyle='--',color='green', label='Class 1 vs Rest')\n",
    "plt.plot(fpr[2], tpr[2], linestyle='--',color='blue', label='Class 2 vs Rest')\n",
    "plt.plot(fpr[3], tpr[3], linestyle='--',color='yellow', label='Class 3 vs Rest')\n",
    "plt.title('Multiclass ROC curve')\n",
    "plt.xlabel('False Positive Rate')\n",
    "plt.ylabel('True Positive rate')\n",
    "plt.legend(loc='best')\n",
    "plt.savefig('Multiclass ROC',dpi=300);    "
   ]
  },
  {
   "cell_type": "markdown",
   "id": "6a608d13",
   "metadata": {},
   "source": [
    "# Hyper Parameter Tuning"
   ]
  },
  {
   "cell_type": "code",
   "execution_count": null,
   "id": "af14c962",
   "metadata": {},
   "outputs": [],
   "source": [
    "parameter = {'n_estimators':[100,200, 400, 600, 800, 1000],'max_depth': [10, 20, 30, 40, 50, 60, 70, 80, 90, 100,None],'criterion':{'gini', 'entropy'},'min_samples_split': [2, 5, 10]}"
   ]
  },
  {
   "cell_type": "code",
   "execution_count": null,
   "id": "31ad8844",
   "metadata": {},
   "outputs": [],
   "source": [
    "from sklearn.model_selection import GridSearchCV\n",
    "GV=GridSearchCV(rf,parameter,cv=5)"
   ]
  },
  {
   "cell_type": "code",
   "execution_count": null,
   "id": "f0c433c2",
   "metadata": {},
   "outputs": [],
   "source": [
    "GV.fit(x_train,y_train)"
   ]
  },
  {
   "cell_type": "code",
   "execution_count": null,
   "id": "facd2805",
   "metadata": {},
   "outputs": [],
   "source": [
    "GV.best_params_"
   ]
  },
  {
   "cell_type": "code",
   "execution_count": 43,
   "id": "719d45e4",
   "metadata": {},
   "outputs": [
    {
     "name": "stdout",
     "output_type": "stream",
     "text": [
      "Acuracy_score 0.7668669527896995\n",
      "              precision    recall  f1-score   support\n",
      "\n",
      "           0       1.00      1.00      1.00       141\n",
      "           1       1.00      1.00      1.00       140\n",
      "           2       1.00      1.00      1.00       129\n",
      "           3       0.99      0.99      0.99       139\n",
      "           4       0.98      0.99      0.99       135\n",
      "           5       0.98      0.98      0.98       121\n",
      "           6       0.99      0.95      0.97       147\n",
      "           7       0.94      0.95      0.94       141\n",
      "           8       0.88      0.93      0.90       134\n",
      "           9       0.92      0.90      0.91       150\n",
      "          10       0.92      0.87      0.90       153\n",
      "          11       0.82      0.89      0.85       122\n",
      "          12       0.82      0.82      0.82       126\n",
      "          13       0.81      0.78      0.79       120\n",
      "          14       0.80      0.77      0.78       108\n",
      "          15       0.67      0.71      0.69       105\n",
      "          16       0.67      0.59      0.63       117\n",
      "          17       0.63      0.63      0.63       101\n",
      "          18       0.68      0.78      0.72        99\n",
      "          19       0.71      0.71      0.71        95\n",
      "          20       0.75      0.70      0.73        94\n",
      "          21       0.75      0.73      0.74       112\n",
      "          22       0.72      0.77      0.74       107\n",
      "          23       0.66      0.67      0.66        94\n",
      "          24       0.74      0.75      0.74        95\n",
      "          25       0.64      0.67      0.66        88\n",
      "          26       0.58      0.60      0.59       104\n",
      "          27       0.43      0.57      0.49        84\n",
      "          28       0.55      0.55      0.55       105\n",
      "          29       0.39      0.29      0.33       113\n",
      "          30       0.35      0.36      0.35       109\n",
      "          31       0.35      0.41      0.38       104\n",
      "          32       0.49      0.41      0.45       113\n",
      "          33       0.58      0.53      0.55       118\n",
      "          34       0.47      0.57      0.52        94\n",
      "          35       0.52      0.41      0.46       109\n",
      "          36       0.43      0.51      0.47       105\n",
      "          37       0.60      0.51      0.55       108\n",
      "          38       0.67      0.65      0.66       104\n",
      "          39       0.67      0.69      0.68        94\n",
      "          40       0.76      0.75      0.75       103\n",
      "          41       0.75      0.83      0.79       103\n",
      "          42       0.78      0.82      0.80        92\n",
      "          43       0.90      0.83      0.86       111\n",
      "          44       0.87      0.90      0.89       100\n",
      "          45       0.95      0.88      0.91       103\n",
      "          46       0.99      0.96      0.97       100\n",
      "          47       1.00      0.98      0.99        87\n",
      "          48       0.87      0.98      0.92        92\n",
      "          49       0.94      0.90      0.92       113\n",
      "          50       0.95      0.92      0.94       111\n",
      "          51       0.92      0.96      0.94       101\n",
      "          52       0.92      0.72      0.81        32\n",
      "\n",
      "    accuracy                           0.77      5825\n",
      "   macro avg       0.76      0.76      0.75      5825\n",
      "weighted avg       0.77      0.77      0.77      5825\n",
      "\n"
     ]
    }
   ],
   "source": [
    "rf=RandomForestClassifier(n_estimators=200,max_depth=80,criterion='gini',min_samples_split=5)\n",
    "rf.fit(x_train,y_train)\n",
    "pred=rf.predict(x_test)\n",
    "print('Acuracy_score',accuracy_score(y_test,pred))\n",
    "print(classification_report(y_test,pred))"
   ]
  },
  {
   "cell_type": "markdown",
   "id": "6f371ecc",
   "metadata": {},
   "source": [
    "# Regression"
   ]
  },
  {
   "cell_type": "code",
   "execution_count": 12,
   "id": "9aa0b6b0",
   "metadata": {},
   "outputs": [
    {
     "data": {
      "text/html": [
       "<div>\n",
       "<style scoped>\n",
       "    .dataframe tbody tr th:only-of-type {\n",
       "        vertical-align: middle;\n",
       "    }\n",
       "\n",
       "    .dataframe tbody tr th {\n",
       "        vertical-align: top;\n",
       "    }\n",
       "\n",
       "    .dataframe thead th {\n",
       "        text-align: right;\n",
       "    }\n",
       "</style>\n",
       "<table border=\"1\" class=\"dataframe\">\n",
       "  <thead>\n",
       "    <tr style=\"text-align: right;\">\n",
       "      <th></th>\n",
       "      <th>AveragePrice</th>\n",
       "      <th>Total Volume</th>\n",
       "      <th>4046</th>\n",
       "      <th>4225</th>\n",
       "      <th>4770</th>\n",
       "      <th>Total Bags</th>\n",
       "      <th>Small Bags</th>\n",
       "      <th>Large Bags</th>\n",
       "      <th>XLarge Bags</th>\n",
       "      <th>type</th>\n",
       "      <th>year</th>\n",
       "    </tr>\n",
       "  </thead>\n",
       "  <tbody>\n",
       "    <tr>\n",
       "      <th>0</th>\n",
       "      <td>1.33</td>\n",
       "      <td>11.070329</td>\n",
       "      <td>1036.74</td>\n",
       "      <td>54454.85</td>\n",
       "      <td>48.16</td>\n",
       "      <td>8696.87</td>\n",
       "      <td>8603.62</td>\n",
       "      <td>93.25</td>\n",
       "      <td>0.0</td>\n",
       "      <td>0</td>\n",
       "      <td>2015</td>\n",
       "    </tr>\n",
       "    <tr>\n",
       "      <th>1</th>\n",
       "      <td>1.35</td>\n",
       "      <td>10.912849</td>\n",
       "      <td>674.28</td>\n",
       "      <td>44638.81</td>\n",
       "      <td>58.33</td>\n",
       "      <td>9505.56</td>\n",
       "      <td>9408.07</td>\n",
       "      <td>97.49</td>\n",
       "      <td>0.0</td>\n",
       "      <td>0</td>\n",
       "      <td>2015</td>\n",
       "    </tr>\n",
       "    <tr>\n",
       "      <th>2</th>\n",
       "      <td>0.93</td>\n",
       "      <td>11.680304</td>\n",
       "      <td>794.70</td>\n",
       "      <td>109149.67</td>\n",
       "      <td>130.50</td>\n",
       "      <td>8145.35</td>\n",
       "      <td>8042.21</td>\n",
       "      <td>103.14</td>\n",
       "      <td>0.0</td>\n",
       "      <td>0</td>\n",
       "      <td>2015</td>\n",
       "    </tr>\n",
       "    <tr>\n",
       "      <th>3</th>\n",
       "      <td>1.08</td>\n",
       "      <td>11.277104</td>\n",
       "      <td>1132.00</td>\n",
       "      <td>71976.41</td>\n",
       "      <td>72.58</td>\n",
       "      <td>5811.16</td>\n",
       "      <td>5677.40</td>\n",
       "      <td>133.76</td>\n",
       "      <td>0.0</td>\n",
       "      <td>0</td>\n",
       "      <td>2015</td>\n",
       "    </tr>\n",
       "    <tr>\n",
       "      <th>4</th>\n",
       "      <td>1.28</td>\n",
       "      <td>10.840357</td>\n",
       "      <td>941.48</td>\n",
       "      <td>43838.39</td>\n",
       "      <td>75.78</td>\n",
       "      <td>6183.95</td>\n",
       "      <td>5986.26</td>\n",
       "      <td>197.69</td>\n",
       "      <td>0.0</td>\n",
       "      <td>0</td>\n",
       "      <td>2015</td>\n",
       "    </tr>\n",
       "    <tr>\n",
       "      <th>...</th>\n",
       "      <td>...</td>\n",
       "      <td>...</td>\n",
       "      <td>...</td>\n",
       "      <td>...</td>\n",
       "      <td>...</td>\n",
       "      <td>...</td>\n",
       "      <td>...</td>\n",
       "      <td>...</td>\n",
       "      <td>...</td>\n",
       "      <td>...</td>\n",
       "      <td>...</td>\n",
       "    </tr>\n",
       "    <tr>\n",
       "      <th>18244</th>\n",
       "      <td>1.63</td>\n",
       "      <td>9.745361</td>\n",
       "      <td>2046.96</td>\n",
       "      <td>1529.20</td>\n",
       "      <td>0.00</td>\n",
       "      <td>13498.67</td>\n",
       "      <td>13066.82</td>\n",
       "      <td>431.85</td>\n",
       "      <td>0.0</td>\n",
       "      <td>1</td>\n",
       "      <td>2018</td>\n",
       "    </tr>\n",
       "    <tr>\n",
       "      <th>18245</th>\n",
       "      <td>1.71</td>\n",
       "      <td>9.538783</td>\n",
       "      <td>1191.70</td>\n",
       "      <td>3431.50</td>\n",
       "      <td>0.00</td>\n",
       "      <td>9264.84</td>\n",
       "      <td>8940.04</td>\n",
       "      <td>324.80</td>\n",
       "      <td>0.0</td>\n",
       "      <td>1</td>\n",
       "      <td>2018</td>\n",
       "    </tr>\n",
       "    <tr>\n",
       "      <th>18246</th>\n",
       "      <td>1.87</td>\n",
       "      <td>9.530012</td>\n",
       "      <td>1191.92</td>\n",
       "      <td>2452.79</td>\n",
       "      <td>727.94</td>\n",
       "      <td>9394.11</td>\n",
       "      <td>9351.80</td>\n",
       "      <td>42.31</td>\n",
       "      <td>0.0</td>\n",
       "      <td>1</td>\n",
       "      <td>2018</td>\n",
       "    </tr>\n",
       "    <tr>\n",
       "      <th>18247</th>\n",
       "      <td>1.93</td>\n",
       "      <td>9.693089</td>\n",
       "      <td>1527.63</td>\n",
       "      <td>2981.04</td>\n",
       "      <td>727.01</td>\n",
       "      <td>10969.54</td>\n",
       "      <td>10919.54</td>\n",
       "      <td>50.00</td>\n",
       "      <td>0.0</td>\n",
       "      <td>1</td>\n",
       "      <td>2018</td>\n",
       "    </tr>\n",
       "    <tr>\n",
       "      <th>18248</th>\n",
       "      <td>1.62</td>\n",
       "      <td>9.769361</td>\n",
       "      <td>2894.77</td>\n",
       "      <td>2356.13</td>\n",
       "      <td>224.53</td>\n",
       "      <td>12014.15</td>\n",
       "      <td>11988.14</td>\n",
       "      <td>26.01</td>\n",
       "      <td>0.0</td>\n",
       "      <td>1</td>\n",
       "      <td>2018</td>\n",
       "    </tr>\n",
       "  </tbody>\n",
       "</table>\n",
       "<p>17651 rows × 11 columns</p>\n",
       "</div>"
      ],
      "text/plain": [
       "       AveragePrice  Total Volume     4046       4225    4770  Total Bags  \\\n",
       "0              1.33     11.070329  1036.74   54454.85   48.16     8696.87   \n",
       "1              1.35     10.912849   674.28   44638.81   58.33     9505.56   \n",
       "2              0.93     11.680304   794.70  109149.67  130.50     8145.35   \n",
       "3              1.08     11.277104  1132.00   71976.41   72.58     5811.16   \n",
       "4              1.28     10.840357   941.48   43838.39   75.78     6183.95   \n",
       "...             ...           ...      ...        ...     ...         ...   \n",
       "18244          1.63      9.745361  2046.96    1529.20    0.00    13498.67   \n",
       "18245          1.71      9.538783  1191.70    3431.50    0.00     9264.84   \n",
       "18246          1.87      9.530012  1191.92    2452.79  727.94     9394.11   \n",
       "18247          1.93      9.693089  1527.63    2981.04  727.01    10969.54   \n",
       "18248          1.62      9.769361  2894.77    2356.13  224.53    12014.15   \n",
       "\n",
       "       Small Bags  Large Bags  XLarge Bags  type  year  \n",
       "0         8603.62       93.25          0.0     0  2015  \n",
       "1         9408.07       97.49          0.0     0  2015  \n",
       "2         8042.21      103.14          0.0     0  2015  \n",
       "3         5677.40      133.76          0.0     0  2015  \n",
       "4         5986.26      197.69          0.0     0  2015  \n",
       "...           ...         ...          ...   ...   ...  \n",
       "18244    13066.82      431.85          0.0     1  2018  \n",
       "18245     8940.04      324.80          0.0     1  2018  \n",
       "18246     9351.80       42.31          0.0     1  2018  \n",
       "18247    10919.54       50.00          0.0     1  2018  \n",
       "18248    11988.14       26.01          0.0     1  2018  \n",
       "\n",
       "[17651 rows x 11 columns]"
      ]
     },
     "execution_count": 12,
     "metadata": {},
     "output_type": "execute_result"
    }
   ],
   "source": [
    "x=df.iloc[:,1:12]\n",
    "x"
   ]
  },
  {
   "cell_type": "code",
   "execution_count": 13,
   "id": "b7e33c01",
   "metadata": {},
   "outputs": [
    {
     "data": {
      "text/plain": [
       "0         0\n",
       "1         1\n",
       "2         2\n",
       "3         3\n",
       "4         4\n",
       "         ..\n",
       "18244     7\n",
       "18245     8\n",
       "18246     9\n",
       "18247    10\n",
       "18248    11\n",
       "Name: Unnamed: 0, Length: 17651, dtype: int64"
      ]
     },
     "execution_count": 13,
     "metadata": {},
     "output_type": "execute_result"
    }
   ],
   "source": [
    "y=df.iloc[:,0]\n",
    "y"
   ]
  },
  {
   "cell_type": "code",
   "execution_count": 16,
   "id": "cf8fc592",
   "metadata": {},
   "outputs": [
    {
     "data": {
      "text/plain": [
       "array([[-0.19535234, -0.06192594, -0.34945151, ..., -0.25902684,\n",
       "        -1.01904715, -1.21001338],\n",
       "       [-0.1435096 , -0.13426234, -0.3502761 , ..., -0.25902684,\n",
       "        -1.01904715, -1.21001338],\n",
       "       [-1.2322071 ,  0.2182594 , -0.35000214, ..., -0.25902684,\n",
       "        -1.01904715, -1.21001338],\n",
       "       ...,\n",
       "       [ 1.20440158, -0.76945261, -0.34909848, ..., -0.25902684,\n",
       "         0.98130886,  1.98075592],\n",
       "       [ 1.35992979, -0.69454533, -0.34833475, ..., -0.25902684,\n",
       "         0.98130886,  1.98075592],\n",
       "       [ 0.55636736, -0.65951072, -0.34522454, ..., -0.25902684,\n",
       "         0.98130886,  1.98075592]])"
      ]
     },
     "execution_count": 16,
     "metadata": {},
     "output_type": "execute_result"
    }
   ],
   "source": [
    "scale=StandardScaler()\n",
    "x=scale.fit_transform(x)\n",
    "x"
   ]
  },
  {
   "cell_type": "code",
   "execution_count": 17,
   "id": "3c8111ce",
   "metadata": {},
   "outputs": [],
   "source": [
    "x_train,x_test,y_train,y_test=train_test_split(x,y,test_size=.33,random_state=71)"
   ]
  },
  {
   "cell_type": "code",
   "execution_count": 18,
   "id": "555ed090",
   "metadata": {},
   "outputs": [],
   "source": [
    "from sklearn.metrics import r2_score\n",
    "import warnings\n",
    "warnings.filterwarnings('ignore')"
   ]
  },
  {
   "cell_type": "code",
   "execution_count": 19,
   "id": "5cdbc3c2",
   "metadata": {},
   "outputs": [],
   "source": [
    "from sklearn.linear_model import LinearRegression\n",
    "from sklearn.ensemble import RandomForestRegressor\n",
    "from sklearn.tree import DecisionTreeRegressor\n",
    "from sklearn.svm import SVR\n",
    "from sklearn.metrics import mean_squared_error,mean_absolute_error"
   ]
  },
  {
   "cell_type": "code",
   "execution_count": 20,
   "id": "8a433f57",
   "metadata": {},
   "outputs": [
    {
     "name": "stdout",
     "output_type": "stream",
     "text": [
      "0.05535796650626701\n",
      "Mean absolute error 12.904040379533209\n",
      "Mean Sqared error 225.313592624197\n"
     ]
    }
   ],
   "source": [
    "lr=LinearRegression()\n",
    "lr.fit(x_train,y_train)\n",
    "lr.score(x_train,y_train)\n",
    "pred=lr.predict(x_test)\n",
    "print(r2_score(y_test,pred))\n",
    "print('Mean absolute error',mean_absolute_error(y_test,pred))\n",
    "print('Mean Sqared error',mean_squared_error(y_test,pred))"
   ]
  },
  {
   "cell_type": "code",
   "execution_count": 21,
   "id": "97d722f2",
   "metadata": {},
   "outputs": [
    {
     "name": "stdout",
     "output_type": "stream",
     "text": [
      "0.05535796650626701\n",
      "Mean absolute error 9.301802575107295\n",
      "Mean Sqared error 206.5062660944206\n"
     ]
    }
   ],
   "source": [
    "dt=DecisionTreeRegressor()\n",
    "dt.fit(x_train,y_train)\n",
    "pred1=dt.predict(x_test)\n",
    "print(r2_score(y_test,pred))\n",
    "print('Mean absolute error',mean_absolute_error(y_test,pred1))\n",
    "print('Mean Sqared error',mean_squared_error(y_test,pred1))"
   ]
  },
  {
   "cell_type": "code",
   "execution_count": 22,
   "id": "37c4845b",
   "metadata": {},
   "outputs": [
    {
     "name": "stdout",
     "output_type": "stream",
     "text": [
      "0.05535796650626701\n",
      "Mean absolute error 7.449163948497855\n",
      "Mean Sqared error 103.20944535622317\n"
     ]
    }
   ],
   "source": [
    "rfr=RandomForestRegressor()\n",
    "rfr.fit(x_train,y_train)\n",
    "pred1=rfr.predict(x_test)\n",
    "print(r2_score(y_test,pred))\n",
    "print('Mean absolute error',mean_absolute_error(y_test,pred1))\n",
    "print('Mean Sqared error',mean_squared_error(y_test,pred1))"
   ]
  },
  {
   "cell_type": "code",
   "execution_count": 23,
   "id": "176f014f",
   "metadata": {},
   "outputs": [
    {
     "name": "stdout",
     "output_type": "stream",
     "text": [
      "0.05535796650626701\n",
      "Mean absolute error 11.761611130385964\n",
      "Mean Sqared error 202.59127444252073\n"
     ]
    }
   ],
   "source": [
    "sv=SVR()\n",
    "sv.fit(x_train,y_train)\n",
    "pred1=sv.predict(x_test)\n",
    "print(r2_score(y_test,pred))\n",
    "print('Mean absolute error',mean_absolute_error(y_test,pred1))\n",
    "print('Mean Sqared error',mean_squared_error(y_test,pred1))"
   ]
  },
  {
   "cell_type": "code",
   "execution_count": 26,
   "id": "5880ba9d",
   "metadata": {},
   "outputs": [
    {
     "name": "stdout",
     "output_type": "stream",
     "text": [
      "-0.033299054196873824\n"
     ]
    }
   ],
   "source": [
    "print(cross_val_score(lr,x,y,cv=5).mean())"
   ]
  },
  {
   "cell_type": "code",
   "execution_count": 27,
   "id": "b420c39c",
   "metadata": {},
   "outputs": [
    {
     "name": "stdout",
     "output_type": "stream",
     "text": [
      "-0.9769014724315859\n"
     ]
    }
   ],
   "source": [
    "print(cross_val_score(dt,x,y,cv=5).mean())"
   ]
  },
  {
   "cell_type": "code",
   "execution_count": 28,
   "id": "c4feab79",
   "metadata": {},
   "outputs": [
    {
     "name": "stdout",
     "output_type": "stream",
     "text": [
      "-0.019010929568881552\n"
     ]
    }
   ],
   "source": [
    "print(cross_val_score(rfr,x,y,cv=5).mean())"
   ]
  },
  {
   "cell_type": "code",
   "execution_count": 29,
   "id": "b7857b3d",
   "metadata": {},
   "outputs": [
    {
     "name": "stdout",
     "output_type": "stream",
     "text": [
      "-0.08575028486343542\n"
     ]
    }
   ],
   "source": [
    "print(cross_val_score(sv,x,y,cv=5).mean())"
   ]
  },
  {
   "cell_type": "markdown",
   "id": "86914319",
   "metadata": {},
   "source": [
    "# Regularization"
   ]
  },
  {
   "cell_type": "code",
   "execution_count": 30,
   "id": "e7c892b0",
   "metadata": {},
   "outputs": [],
   "source": [
    "from sklearn.linear_model import Lasso,Ridge,ElasticNet\n",
    "from sklearn.model_selection import GridSearchCV"
   ]
  },
  {
   "cell_type": "code",
   "execution_count": 31,
   "id": "3b45e4c6",
   "metadata": {},
   "outputs": [
    {
     "name": "stdout",
     "output_type": "stream",
     "text": [
      "{'alpha': 0.01, 'random_state': 0}\n"
     ]
    }
   ],
   "source": [
    "parameters = {'alpha':[.0001, .001, .01, .1, 1, 10],'random_state':list(range(0,10))}\n",
    "ls = Lasso()\n",
    "gv = GridSearchCV(ls,parameters)\n",
    "gv.fit(x_train,y_train)\n",
    "\n",
    "print(gv.best_params_)"
   ]
  },
  {
   "cell_type": "code",
   "execution_count": 34,
   "id": "0b48c8fa",
   "metadata": {},
   "outputs": [
    {
     "name": "stdout",
     "output_type": "stream",
     "text": [
      "0.05532396950904128\n"
     ]
    }
   ],
   "source": [
    "ls = Lasso(alpha=0.01,random_state=0)\n",
    "ls.fit(x_train,y_train)\n",
    "ls.score(x_train,y_train)\n",
    "pred_ls = ls.predict(x_test)\n",
    "Model=r2_score(y_test,pred_ls)\n",
    "print(Model)"
   ]
  },
  {
   "cell_type": "code",
   "execution_count": 35,
   "id": "70dc2c92",
   "metadata": {},
   "outputs": [
    {
     "name": "stdout",
     "output_type": "stream",
     "text": [
      "-0.030840785210430675\n"
     ]
    }
   ],
   "source": [
    "print(cross_val_score(ls,x,y,cv=5).mean())"
   ]
  },
  {
   "cell_type": "markdown",
   "id": "b289b2d1",
   "metadata": {},
   "source": [
    "# Saving Model"
   ]
  },
  {
   "cell_type": "code",
   "execution_count": 39,
   "id": "7444462e",
   "metadata": {},
   "outputs": [],
   "source": [
    "import pickle\n",
    "filename = 'AvocadoClassifier.pkl'\n",
    "pickle.dump(rf, open(filename, 'wb'))"
   ]
  },
  {
   "cell_type": "code",
   "execution_count": 45,
   "id": "f345936a",
   "metadata": {},
   "outputs": [],
   "source": [
    "filename = 'AvocadoRegressor.pkl'\n",
    "pickle.dump(ls, open(filename, 'wb'))"
   ]
  },
  {
   "cell_type": "code",
   "execution_count": null,
   "id": "a21229b4",
   "metadata": {},
   "outputs": [],
   "source": []
  }
 ],
 "metadata": {
  "kernelspec": {
   "display_name": "Python 3",
   "language": "python",
   "name": "python3"
  },
  "language_info": {
   "codemirror_mode": {
    "name": "ipython",
    "version": 3
   },
   "file_extension": ".py",
   "mimetype": "text/x-python",
   "name": "python",
   "nbconvert_exporter": "python",
   "pygments_lexer": "ipython3",
   "version": "3.8.8"
  }
 },
 "nbformat": 4,
 "nbformat_minor": 5
}
