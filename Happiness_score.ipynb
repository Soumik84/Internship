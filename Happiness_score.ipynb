{
 "cells": [
  {
   "cell_type": "code",
   "execution_count": 1,
   "id": "c4809b26",
   "metadata": {},
   "outputs": [],
   "source": [
    "import pandas as pd\n",
    "import numpy as np\n",
    "import sklearn \n",
    "import seaborn as sn\n",
    "import matplotlib.pyplot as plt\n",
    "from sklearn.linear_model import LinearRegression\n",
    "from sklearn.metrics import mean_squared_error,mean_absolute_error\n",
    "from sklearn.model_selection import train_test_split\n"
   ]
  },
  {
   "cell_type": "code",
   "execution_count": 2,
   "id": "63ff16e0",
   "metadata": {},
   "outputs": [
    {
     "data": {
      "text/html": [
       "<div>\n",
       "<style scoped>\n",
       "    .dataframe tbody tr th:only-of-type {\n",
       "        vertical-align: middle;\n",
       "    }\n",
       "\n",
       "    .dataframe tbody tr th {\n",
       "        vertical-align: top;\n",
       "    }\n",
       "\n",
       "    .dataframe thead th {\n",
       "        text-align: right;\n",
       "    }\n",
       "</style>\n",
       "<table border=\"1\" class=\"dataframe\">\n",
       "  <thead>\n",
       "    <tr style=\"text-align: right;\">\n",
       "      <th></th>\n",
       "      <th>Country</th>\n",
       "      <th>Region</th>\n",
       "      <th>Happiness Rank</th>\n",
       "      <th>Happiness Score</th>\n",
       "      <th>Standard Error</th>\n",
       "      <th>Economy (GDP per Capita)</th>\n",
       "      <th>Family</th>\n",
       "      <th>Health (Life Expectancy)</th>\n",
       "      <th>Freedom</th>\n",
       "      <th>Trust (Government Corruption)</th>\n",
       "      <th>Generosity</th>\n",
       "      <th>Dystopia Residual</th>\n",
       "    </tr>\n",
       "  </thead>\n",
       "  <tbody>\n",
       "    <tr>\n",
       "      <th>0</th>\n",
       "      <td>Switzerland</td>\n",
       "      <td>Western Europe</td>\n",
       "      <td>1</td>\n",
       "      <td>7.587</td>\n",
       "      <td>0.03411</td>\n",
       "      <td>1.39651</td>\n",
       "      <td>1.34951</td>\n",
       "      <td>0.94143</td>\n",
       "      <td>0.66557</td>\n",
       "      <td>0.41978</td>\n",
       "      <td>0.29678</td>\n",
       "      <td>2.51738</td>\n",
       "    </tr>\n",
       "    <tr>\n",
       "      <th>1</th>\n",
       "      <td>Iceland</td>\n",
       "      <td>Western Europe</td>\n",
       "      <td>2</td>\n",
       "      <td>7.561</td>\n",
       "      <td>0.04884</td>\n",
       "      <td>1.30232</td>\n",
       "      <td>1.40223</td>\n",
       "      <td>0.94784</td>\n",
       "      <td>0.62877</td>\n",
       "      <td>0.14145</td>\n",
       "      <td>0.43630</td>\n",
       "      <td>2.70201</td>\n",
       "    </tr>\n",
       "    <tr>\n",
       "      <th>2</th>\n",
       "      <td>Denmark</td>\n",
       "      <td>Western Europe</td>\n",
       "      <td>3</td>\n",
       "      <td>7.527</td>\n",
       "      <td>0.03328</td>\n",
       "      <td>1.32548</td>\n",
       "      <td>1.36058</td>\n",
       "      <td>0.87464</td>\n",
       "      <td>0.64938</td>\n",
       "      <td>0.48357</td>\n",
       "      <td>0.34139</td>\n",
       "      <td>2.49204</td>\n",
       "    </tr>\n",
       "    <tr>\n",
       "      <th>3</th>\n",
       "      <td>Norway</td>\n",
       "      <td>Western Europe</td>\n",
       "      <td>4</td>\n",
       "      <td>7.522</td>\n",
       "      <td>0.03880</td>\n",
       "      <td>1.45900</td>\n",
       "      <td>1.33095</td>\n",
       "      <td>0.88521</td>\n",
       "      <td>0.66973</td>\n",
       "      <td>0.36503</td>\n",
       "      <td>0.34699</td>\n",
       "      <td>2.46531</td>\n",
       "    </tr>\n",
       "    <tr>\n",
       "      <th>4</th>\n",
       "      <td>Canada</td>\n",
       "      <td>North America</td>\n",
       "      <td>5</td>\n",
       "      <td>7.427</td>\n",
       "      <td>0.03553</td>\n",
       "      <td>1.32629</td>\n",
       "      <td>1.32261</td>\n",
       "      <td>0.90563</td>\n",
       "      <td>0.63297</td>\n",
       "      <td>0.32957</td>\n",
       "      <td>0.45811</td>\n",
       "      <td>2.45176</td>\n",
       "    </tr>\n",
       "  </tbody>\n",
       "</table>\n",
       "</div>"
      ],
      "text/plain": [
       "       Country          Region  Happiness Rank  Happiness Score  \\\n",
       "0  Switzerland  Western Europe               1            7.587   \n",
       "1      Iceland  Western Europe               2            7.561   \n",
       "2      Denmark  Western Europe               3            7.527   \n",
       "3       Norway  Western Europe               4            7.522   \n",
       "4       Canada   North America               5            7.427   \n",
       "\n",
       "   Standard Error  Economy (GDP per Capita)   Family  \\\n",
       "0         0.03411                   1.39651  1.34951   \n",
       "1         0.04884                   1.30232  1.40223   \n",
       "2         0.03328                   1.32548  1.36058   \n",
       "3         0.03880                   1.45900  1.33095   \n",
       "4         0.03553                   1.32629  1.32261   \n",
       "\n",
       "   Health (Life Expectancy)  Freedom  Trust (Government Corruption)  \\\n",
       "0                   0.94143  0.66557                        0.41978   \n",
       "1                   0.94784  0.62877                        0.14145   \n",
       "2                   0.87464  0.64938                        0.48357   \n",
       "3                   0.88521  0.66973                        0.36503   \n",
       "4                   0.90563  0.63297                        0.32957   \n",
       "\n",
       "   Generosity  Dystopia Residual  \n",
       "0     0.29678            2.51738  \n",
       "1     0.43630            2.70201  \n",
       "2     0.34139            2.49204  \n",
       "3     0.34699            2.46531  \n",
       "4     0.45811            2.45176  "
      ]
     },
     "execution_count": 2,
     "metadata": {},
     "output_type": "execute_result"
    }
   ],
   "source": [
    "df=pd.read_csv('happiness_score.csv')\n",
    "df.head()"
   ]
  },
  {
   "cell_type": "code",
   "execution_count": 3,
   "id": "c654c3c4",
   "metadata": {},
   "outputs": [
    {
     "data": {
      "text/plain": [
       "(158, 12)"
      ]
     },
     "execution_count": 3,
     "metadata": {},
     "output_type": "execute_result"
    }
   ],
   "source": [
    "df.shape"
   ]
  },
  {
   "cell_type": "code",
   "execution_count": 4,
   "id": "e3983ed9",
   "metadata": {},
   "outputs": [
    {
     "data": {
      "text/plain": [
       "Country                           object\n",
       "Region                            object\n",
       "Happiness Rank                     int64\n",
       "Happiness Score                  float64\n",
       "Standard Error                   float64\n",
       "Economy (GDP per Capita)         float64\n",
       "Family                           float64\n",
       "Health (Life Expectancy)         float64\n",
       "Freedom                          float64\n",
       "Trust (Government Corruption)    float64\n",
       "Generosity                       float64\n",
       "Dystopia Residual                float64\n",
       "dtype: object"
      ]
     },
     "execution_count": 4,
     "metadata": {},
     "output_type": "execute_result"
    }
   ],
   "source": [
    "df.dtypes"
   ]
  },
  {
   "cell_type": "code",
   "execution_count": 5,
   "id": "3bab95b0",
   "metadata": {},
   "outputs": [
    {
     "data": {
      "text/plain": [
       "Index(['Country', 'Region', 'Happiness Rank', 'Happiness Score',\n",
       "       'Standard Error', 'Economy (GDP per Capita)', 'Family',\n",
       "       'Health (Life Expectancy)', 'Freedom', 'Trust (Government Corruption)',\n",
       "       'Generosity', 'Dystopia Residual'],\n",
       "      dtype='object')"
      ]
     },
     "execution_count": 5,
     "metadata": {},
     "output_type": "execute_result"
    }
   ],
   "source": [
    "df.columns"
   ]
  },
  {
   "cell_type": "code",
   "execution_count": 6,
   "id": "82a09388",
   "metadata": {},
   "outputs": [
    {
     "data": {
      "text/plain": [
       "Country                          0\n",
       "Region                           0\n",
       "Happiness Rank                   0\n",
       "Happiness Score                  0\n",
       "Standard Error                   0\n",
       "Economy (GDP per Capita)         0\n",
       "Family                           0\n",
       "Health (Life Expectancy)         0\n",
       "Freedom                          0\n",
       "Trust (Government Corruption)    0\n",
       "Generosity                       0\n",
       "Dystopia Residual                0\n",
       "dtype: int64"
      ]
     },
     "execution_count": 6,
     "metadata": {},
     "output_type": "execute_result"
    }
   ],
   "source": [
    "df.isnull().sum()"
   ]
  },
  {
   "cell_type": "code",
   "execution_count": 7,
   "id": "a0228738",
   "metadata": {},
   "outputs": [
    {
     "data": {
      "text/plain": [
       "<AxesSubplot:>"
      ]
     },
     "execution_count": 7,
     "metadata": {},
     "output_type": "execute_result"
    },
    {
     "data": {
      "image/png": "[encoded data removed]",
      "text/plain": [
       "<Figure size 432x288 with 2 Axes>"
      ]
     },
     "metadata": {
      "needs_background": "light"
     },
     "output_type": "display_data"
    }
   ],
   "source": [
    "sn.heatmap(df.isnull())"
   ]
  },
  {
   "cell_type": "markdown",
   "id": "f82a140b",
   "metadata": {},
   "source": [
    "There is no null value"
   ]
  },
  {
   "cell_type": "code",
   "execution_count": 9,
   "id": "d5db0dc0",
   "metadata": {},
   "outputs": [
    {
     "data": {
      "text/html": [
       "<div>\n",
       "<style scoped>\n",
       "    .dataframe tbody tr th:only-of-type {\n",
       "        vertical-align: middle;\n",
       "    }\n",
       "\n",
       "    .dataframe tbody tr th {\n",
       "        vertical-align: top;\n",
       "    }\n",
       "\n",
       "    .dataframe thead th {\n",
       "        text-align: right;\n",
       "    }\n",
       "</style>\n",
       "<table border=\"1\" class=\"dataframe\">\n",
       "  <thead>\n",
       "    <tr style=\"text-align: right;\">\n",
       "      <th></th>\n",
       "      <th>Country</th>\n",
       "      <th>Region</th>\n",
       "      <th>Happiness Rank</th>\n",
       "      <th>Happiness Score</th>\n",
       "      <th>Standard Error</th>\n",
       "      <th>Economy (GDP per Capita)</th>\n",
       "      <th>Family</th>\n",
       "      <th>Health (Life Expectancy)</th>\n",
       "      <th>Freedom</th>\n",
       "      <th>Trust (Government Corruption)</th>\n",
       "      <th>Generosity</th>\n",
       "      <th>Dystopia Residual</th>\n",
       "    </tr>\n",
       "  </thead>\n",
       "  <tbody>\n",
       "  </tbody>\n",
       "</table>\n",
       "</div>"
      ],
      "text/plain": [
       "Empty DataFrame\n",
       "Columns: [Country, Region, Happiness Rank, Happiness Score, Standard Error, Economy (GDP per Capita), Family, Health (Life Expectancy), Freedom, Trust (Government Corruption), Generosity, Dystopia Residual]\n",
       "Index: []"
      ]
     },
     "execution_count": 9,
     "metadata": {},
     "output_type": "execute_result"
    }
   ],
   "source": [
    "df.loc[df['Dystopia Residual']== \" \"]"
   ]
  },
  {
   "cell_type": "code",
   "execution_count": 10,
   "id": "4eea807a",
   "metadata": {},
   "outputs": [],
   "source": [
    "from sklearn.preprocessing import LabelEncoder"
   ]
  },
  {
   "cell_type": "code",
   "execution_count": 11,
   "id": "4ef08ee3",
   "metadata": {},
   "outputs": [],
   "source": [
    "lb=LabelEncoder()\n",
    "df['Country']=lb.fit_transform(df['Country'])\n",
    "df['Region']=lb.fit_transform(df['Region'])"
   ]
  },
  {
   "cell_type": "code",
   "execution_count": 12,
   "id": "c7a5ba02",
   "metadata": {},
   "outputs": [
    {
     "data": {
      "text/html": [
       "<div>\n",
       "<style scoped>\n",
       "    .dataframe tbody tr th:only-of-type {\n",
       "        vertical-align: middle;\n",
       "    }\n",
       "\n",
       "    .dataframe tbody tr th {\n",
       "        vertical-align: top;\n",
       "    }\n",
       "\n",
       "    .dataframe thead th {\n",
       "        text-align: right;\n",
       "    }\n",
       "</style>\n",
       "<table border=\"1\" class=\"dataframe\">\n",
       "  <thead>\n",
       "    <tr style=\"text-align: right;\">\n",
       "      <th></th>\n",
       "      <th>Country</th>\n",
       "      <th>Region</th>\n",
       "      <th>Happiness Rank</th>\n",
       "      <th>Happiness Score</th>\n",
       "      <th>Standard Error</th>\n",
       "      <th>Economy (GDP per Capita)</th>\n",
       "      <th>Family</th>\n",
       "      <th>Health (Life Expectancy)</th>\n",
       "      <th>Freedom</th>\n",
       "      <th>Trust (Government Corruption)</th>\n",
       "      <th>Generosity</th>\n",
       "      <th>Dystopia Residual</th>\n",
       "    </tr>\n",
       "  </thead>\n",
       "  <tbody>\n",
       "    <tr>\n",
       "      <th>0</th>\n",
       "      <td>135</td>\n",
       "      <td>9</td>\n",
       "      <td>1</td>\n",
       "      <td>7.587</td>\n",
       "      <td>0.03411</td>\n",
       "      <td>1.39651</td>\n",
       "      <td>1.34951</td>\n",
       "      <td>0.94143</td>\n",
       "      <td>0.66557</td>\n",
       "      <td>0.41978</td>\n",
       "      <td>0.29678</td>\n",
       "      <td>2.51738</td>\n",
       "    </tr>\n",
       "    <tr>\n",
       "      <th>1</th>\n",
       "      <td>58</td>\n",
       "      <td>9</td>\n",
       "      <td>2</td>\n",
       "      <td>7.561</td>\n",
       "      <td>0.04884</td>\n",
       "      <td>1.30232</td>\n",
       "      <td>1.40223</td>\n",
       "      <td>0.94784</td>\n",
       "      <td>0.62877</td>\n",
       "      <td>0.14145</td>\n",
       "      <td>0.43630</td>\n",
       "      <td>2.70201</td>\n",
       "    </tr>\n",
       "    <tr>\n",
       "      <th>2</th>\n",
       "      <td>37</td>\n",
       "      <td>9</td>\n",
       "      <td>3</td>\n",
       "      <td>7.527</td>\n",
       "      <td>0.03328</td>\n",
       "      <td>1.32548</td>\n",
       "      <td>1.36058</td>\n",
       "      <td>0.87464</td>\n",
       "      <td>0.64938</td>\n",
       "      <td>0.48357</td>\n",
       "      <td>0.34139</td>\n",
       "      <td>2.49204</td>\n",
       "    </tr>\n",
       "    <tr>\n",
       "      <th>3</th>\n",
       "      <td>105</td>\n",
       "      <td>9</td>\n",
       "      <td>4</td>\n",
       "      <td>7.522</td>\n",
       "      <td>0.03880</td>\n",
       "      <td>1.45900</td>\n",
       "      <td>1.33095</td>\n",
       "      <td>0.88521</td>\n",
       "      <td>0.66973</td>\n",
       "      <td>0.36503</td>\n",
       "      <td>0.34699</td>\n",
       "      <td>2.46531</td>\n",
       "    </tr>\n",
       "    <tr>\n",
       "      <th>4</th>\n",
       "      <td>24</td>\n",
       "      <td>5</td>\n",
       "      <td>5</td>\n",
       "      <td>7.427</td>\n",
       "      <td>0.03553</td>\n",
       "      <td>1.32629</td>\n",
       "      <td>1.32261</td>\n",
       "      <td>0.90563</td>\n",
       "      <td>0.63297</td>\n",
       "      <td>0.32957</td>\n",
       "      <td>0.45811</td>\n",
       "      <td>2.45176</td>\n",
       "    </tr>\n",
       "  </tbody>\n",
       "</table>\n",
       "</div>"
      ],
      "text/plain": [
       "   Country  Region  Happiness Rank  Happiness Score  Standard Error  \\\n",
       "0      135       9               1            7.587         0.03411   \n",
       "1       58       9               2            7.561         0.04884   \n",
       "2       37       9               3            7.527         0.03328   \n",
       "3      105       9               4            7.522         0.03880   \n",
       "4       24       5               5            7.427         0.03553   \n",
       "\n",
       "   Economy (GDP per Capita)   Family  Health (Life Expectancy)  Freedom  \\\n",
       "0                   1.39651  1.34951                   0.94143  0.66557   \n",
       "1                   1.30232  1.40223                   0.94784  0.62877   \n",
       "2                   1.32548  1.36058                   0.87464  0.64938   \n",
       "3                   1.45900  1.33095                   0.88521  0.66973   \n",
       "4                   1.32629  1.32261                   0.90563  0.63297   \n",
       "\n",
       "   Trust (Government Corruption)  Generosity  Dystopia Residual  \n",
       "0                        0.41978     0.29678            2.51738  \n",
       "1                        0.14145     0.43630            2.70201  \n",
       "2                        0.48357     0.34139            2.49204  \n",
       "3                        0.36503     0.34699            2.46531  \n",
       "4                        0.32957     0.45811            2.45176  "
      ]
     },
     "execution_count": 12,
     "metadata": {},
     "output_type": "execute_result"
    }
   ],
   "source": [
    "df.head()"
   ]
  },
  {
   "cell_type": "code",
   "execution_count": null,
   "id": "96f04542",
   "metadata": {},
   "outputs": [],
   "source": [
    "df.dtypes"
   ]
  },
  {
   "cell_type": "markdown",
   "id": "d118ba33",
   "metadata": {},
   "source": [
    "# Visualization"
   ]
  },
  {
   "cell_type": "code",
   "execution_count": null,
   "id": "b3fda363",
   "metadata": {},
   "outputs": [],
   "source": [
    "sn.countplot(x=\"Region\", data=df)\n",
    "print(df['Region'].value_counts())"
   ]
  },
  {
   "cell_type": "markdown",
   "id": "e94a6f9d",
   "metadata": {},
   "source": [
    "From the above observations we get more pople are from region 8 and region 1"
   ]
  },
  {
   "cell_type": "code",
   "execution_count": null,
   "id": "a8a00dca",
   "metadata": {},
   "outputs": [],
   "source": [
    "sn.distplot(df['Happiness Score'], kde=True)"
   ]
  },
  {
   "cell_type": "code",
   "execution_count": null,
   "id": "840ada05",
   "metadata": {},
   "outputs": [],
   "source": [
    "sn.distplot(df['Standard Error'], kde=True)"
   ]
  },
  {
   "cell_type": "code",
   "execution_count": null,
   "id": "0cb0984d",
   "metadata": {},
   "outputs": [],
   "source": [
    "sn.distplot(df['Economy (GDP per Capita)'], kde=True)"
   ]
  },
  {
   "cell_type": "code",
   "execution_count": null,
   "id": "f561e79a",
   "metadata": {},
   "outputs": [],
   "source": [
    "sn.distplot(df['Family'], kde=True)"
   ]
  },
  {
   "cell_type": "code",
   "execution_count": null,
   "id": "9cb6ec18",
   "metadata": {},
   "outputs": [],
   "source": [
    "sn.distplot(df['Health (Life Expectancy)'], kde=True)"
   ]
  },
  {
   "cell_type": "code",
   "execution_count": null,
   "id": "adcbb16d",
   "metadata": {},
   "outputs": [],
   "source": [
    "sn.distplot(df['Freedom'], kde=True)"
   ]
  },
  {
   "cell_type": "code",
   "execution_count": null,
   "id": "603e673e",
   "metadata": {},
   "outputs": [],
   "source": [
    "sn.distplot(df['Trust (Government Corruption)'], kde=True)"
   ]
  },
  {
   "cell_type": "code",
   "execution_count": null,
   "id": "a9d8b00c",
   "metadata": {},
   "outputs": [],
   "source": [
    "sn.distplot(df['Generosity'], kde=True)"
   ]
  },
  {
   "cell_type": "code",
   "execution_count": null,
   "id": "8d43db78",
   "metadata": {},
   "outputs": [],
   "source": [
    "sn.distplot(df['Dystopia Residual'], kde=True)"
   ]
  },
  {
   "cell_type": "code",
   "execution_count": null,
   "id": "6276a8d8",
   "metadata": {},
   "outputs": [],
   "source": [
    "sn.pairplot(df,hue=\"Dystopia Residual\")"
   ]
  },
  {
   "cell_type": "markdown",
   "id": "a04ddec8",
   "metadata": {},
   "source": [
    "# Checking Outlier"
   ]
  },
  {
   "cell_type": "code",
   "execution_count": 13,
   "id": "967ea1f1",
   "metadata": {},
   "outputs": [
    {
     "data": {
      "text/plain": [
       "Country                             AxesSubplot(0.125,0.536818;0.110714x0.343182)\n",
       "Region                           AxesSubplot(0.257857,0.536818;0.110714x0.343182)\n",
       "Happiness Rank                   AxesSubplot(0.390714,0.536818;0.110714x0.343182)\n",
       "Happiness Score                  AxesSubplot(0.523571,0.536818;0.110714x0.343182)\n",
       "Standard Error                   AxesSubplot(0.656429,0.536818;0.110714x0.343182)\n",
       "Economy (GDP per Capita)         AxesSubplot(0.789286,0.536818;0.110714x0.343182)\n",
       "Family                                 AxesSubplot(0.125,0.125;0.110714x0.343182)\n",
       "Health (Life Expectancy)            AxesSubplot(0.257857,0.125;0.110714x0.343182)\n",
       "Freedom                             AxesSubplot(0.390714,0.125;0.110714x0.343182)\n",
       "Trust (Government Corruption)       AxesSubplot(0.523571,0.125;0.110714x0.343182)\n",
       "Generosity                          AxesSubplot(0.656429,0.125;0.110714x0.343182)\n",
       "Dystopia Residual                   AxesSubplot(0.789286,0.125;0.110714x0.343182)\n",
       "dtype: object"
      ]
     },
     "execution_count": 13,
     "metadata": {},
     "output_type": "execute_result"
    },
    {
     "data": {
      "image/png": "[encoded data removed]",
      "text/plain": [
       "<Figure size 432x288 with 12 Axes>"
      ]
     },
     "metadata": {
      "needs_background": "light"
     },
     "output_type": "display_data"
    }
   ],
   "source": [
    "\n",
    "df.plot(kind='box',subplots=True,layout=(2,6))"
   ]
  },
  {
   "cell_type": "code",
   "execution_count": 14,
   "id": "85341575",
   "metadata": {},
   "outputs": [
    {
     "data": {
      "text/plain": [
       "<AxesSubplot:>"
      ]
     },
     "execution_count": 14,
     "metadata": {},
     "output_type": "execute_result"
    },
    {
     "data": {
      "image/png": "[encoded data removed]",
      "text/plain": [
       "<Figure size 432x288 with 1 Axes>"
      ]
     },
     "metadata": {
      "needs_background": "light"
     },
     "output_type": "display_data"
    }
   ],
   "source": [
    "df['Standard Error'].plot.box()"
   ]
  },
  {
   "cell_type": "code",
   "execution_count": null,
   "id": "76602f99",
   "metadata": {},
   "outputs": [],
   "source": [
    "df['Trust (Government Corruption)'].plot.box()"
   ]
  },
  {
   "cell_type": "code",
   "execution_count": null,
   "id": "1d8b13e2",
   "metadata": {},
   "outputs": [],
   "source": [
    "df['Dystopia Residual'].plot.box()"
   ]
  },
  {
   "cell_type": "markdown",
   "id": "a0a47d77",
   "metadata": {},
   "source": [
    "# Outlier Handling with Zscore"
   ]
  },
  {
   "cell_type": "code",
   "execution_count": 15,
   "id": "d72ec0d3",
   "metadata": {},
   "outputs": [
    {
     "data": {
      "text/plain": [
       "(array([ 27,  40,  64, 115, 128, 147, 153, 155, 157], dtype=int64),\n",
       " array([ 9,  4,  4,  4, 10,  6,  9, 11,  6], dtype=int64))"
      ]
     },
     "execution_count": 15,
     "metadata": {},
     "output_type": "execute_result"
    }
   ],
   "source": [
    "from scipy.stats import zscore\n",
    "import numpy as np\n",
    "z=np.abs(zscore(df))\n",
    "threshold=3\n",
    "np.where(z>3)"
   ]
  },
  {
   "cell_type": "code",
   "execution_count": 16,
   "id": "a2b477af",
   "metadata": {},
   "outputs": [
    {
     "data": {
      "text/html": [
       "<div>\n",
       "<style scoped>\n",
       "    .dataframe tbody tr th:only-of-type {\n",
       "        vertical-align: middle;\n",
       "    }\n",
       "\n",
       "    .dataframe tbody tr th {\n",
       "        vertical-align: top;\n",
       "    }\n",
       "\n",
       "    .dataframe thead th {\n",
       "        text-align: right;\n",
       "    }\n",
       "</style>\n",
       "<table border=\"1\" class=\"dataframe\">\n",
       "  <thead>\n",
       "    <tr style=\"text-align: right;\">\n",
       "      <th></th>\n",
       "      <th>Country</th>\n",
       "      <th>Region</th>\n",
       "      <th>Happiness Rank</th>\n",
       "      <th>Happiness Score</th>\n",
       "      <th>Standard Error</th>\n",
       "      <th>Economy (GDP per Capita)</th>\n",
       "      <th>Family</th>\n",
       "      <th>Health (Life Expectancy)</th>\n",
       "      <th>Freedom</th>\n",
       "      <th>Trust (Government Corruption)</th>\n",
       "      <th>Generosity</th>\n",
       "      <th>Dystopia Residual</th>\n",
       "    </tr>\n",
       "  </thead>\n",
       "  <tbody>\n",
       "    <tr>\n",
       "      <th>0</th>\n",
       "      <td>135</td>\n",
       "      <td>9</td>\n",
       "      <td>1</td>\n",
       "      <td>7.587</td>\n",
       "      <td>0.03411</td>\n",
       "      <td>1.39651</td>\n",
       "      <td>1.34951</td>\n",
       "      <td>0.94143</td>\n",
       "      <td>0.66557</td>\n",
       "      <td>0.41978</td>\n",
       "      <td>0.29678</td>\n",
       "      <td>2.51738</td>\n",
       "    </tr>\n",
       "    <tr>\n",
       "      <th>1</th>\n",
       "      <td>58</td>\n",
       "      <td>9</td>\n",
       "      <td>2</td>\n",
       "      <td>7.561</td>\n",
       "      <td>0.04884</td>\n",
       "      <td>1.30232</td>\n",
       "      <td>1.40223</td>\n",
       "      <td>0.94784</td>\n",
       "      <td>0.62877</td>\n",
       "      <td>0.14145</td>\n",
       "      <td>0.43630</td>\n",
       "      <td>2.70201</td>\n",
       "    </tr>\n",
       "    <tr>\n",
       "      <th>2</th>\n",
       "      <td>37</td>\n",
       "      <td>9</td>\n",
       "      <td>3</td>\n",
       "      <td>7.527</td>\n",
       "      <td>0.03328</td>\n",
       "      <td>1.32548</td>\n",
       "      <td>1.36058</td>\n",
       "      <td>0.87464</td>\n",
       "      <td>0.64938</td>\n",
       "      <td>0.48357</td>\n",
       "      <td>0.34139</td>\n",
       "      <td>2.49204</td>\n",
       "    </tr>\n",
       "    <tr>\n",
       "      <th>3</th>\n",
       "      <td>105</td>\n",
       "      <td>9</td>\n",
       "      <td>4</td>\n",
       "      <td>7.522</td>\n",
       "      <td>0.03880</td>\n",
       "      <td>1.45900</td>\n",
       "      <td>1.33095</td>\n",
       "      <td>0.88521</td>\n",
       "      <td>0.66973</td>\n",
       "      <td>0.36503</td>\n",
       "      <td>0.34699</td>\n",
       "      <td>2.46531</td>\n",
       "    </tr>\n",
       "    <tr>\n",
       "      <th>4</th>\n",
       "      <td>24</td>\n",
       "      <td>5</td>\n",
       "      <td>5</td>\n",
       "      <td>7.427</td>\n",
       "      <td>0.03553</td>\n",
       "      <td>1.32629</td>\n",
       "      <td>1.32261</td>\n",
       "      <td>0.90563</td>\n",
       "      <td>0.63297</td>\n",
       "      <td>0.32957</td>\n",
       "      <td>0.45811</td>\n",
       "      <td>2.45176</td>\n",
       "    </tr>\n",
       "    <tr>\n",
       "      <th>...</th>\n",
       "      <td>...</td>\n",
       "      <td>...</td>\n",
       "      <td>...</td>\n",
       "      <td>...</td>\n",
       "      <td>...</td>\n",
       "      <td>...</td>\n",
       "      <td>...</td>\n",
       "      <td>...</td>\n",
       "      <td>...</td>\n",
       "      <td>...</td>\n",
       "      <td>...</td>\n",
       "      <td>...</td>\n",
       "    </tr>\n",
       "    <tr>\n",
       "      <th>150</th>\n",
       "      <td>66</td>\n",
       "      <td>8</td>\n",
       "      <td>151</td>\n",
       "      <td>3.655</td>\n",
       "      <td>0.05141</td>\n",
       "      <td>0.46534</td>\n",
       "      <td>0.77115</td>\n",
       "      <td>0.15185</td>\n",
       "      <td>0.46866</td>\n",
       "      <td>0.17922</td>\n",
       "      <td>0.20165</td>\n",
       "      <td>1.41723</td>\n",
       "    </tr>\n",
       "    <tr>\n",
       "      <th>151</th>\n",
       "      <td>20</td>\n",
       "      <td>8</td>\n",
       "      <td>152</td>\n",
       "      <td>3.587</td>\n",
       "      <td>0.04324</td>\n",
       "      <td>0.25812</td>\n",
       "      <td>0.85188</td>\n",
       "      <td>0.27125</td>\n",
       "      <td>0.39493</td>\n",
       "      <td>0.12832</td>\n",
       "      <td>0.21747</td>\n",
       "      <td>1.46494</td>\n",
       "    </tr>\n",
       "    <tr>\n",
       "      <th>152</th>\n",
       "      <td>0</td>\n",
       "      <td>7</td>\n",
       "      <td>153</td>\n",
       "      <td>3.575</td>\n",
       "      <td>0.03084</td>\n",
       "      <td>0.31982</td>\n",
       "      <td>0.30285</td>\n",
       "      <td>0.30335</td>\n",
       "      <td>0.23414</td>\n",
       "      <td>0.09719</td>\n",
       "      <td>0.36510</td>\n",
       "      <td>1.95210</td>\n",
       "    </tr>\n",
       "    <tr>\n",
       "      <th>154</th>\n",
       "      <td>13</td>\n",
       "      <td>8</td>\n",
       "      <td>155</td>\n",
       "      <td>3.340</td>\n",
       "      <td>0.03656</td>\n",
       "      <td>0.28665</td>\n",
       "      <td>0.35386</td>\n",
       "      <td>0.31910</td>\n",
       "      <td>0.48450</td>\n",
       "      <td>0.08010</td>\n",
       "      <td>0.18260</td>\n",
       "      <td>1.63328</td>\n",
       "    </tr>\n",
       "    <tr>\n",
       "      <th>156</th>\n",
       "      <td>21</td>\n",
       "      <td>8</td>\n",
       "      <td>157</td>\n",
       "      <td>2.905</td>\n",
       "      <td>0.08658</td>\n",
       "      <td>0.01530</td>\n",
       "      <td>0.41587</td>\n",
       "      <td>0.22396</td>\n",
       "      <td>0.11850</td>\n",
       "      <td>0.10062</td>\n",
       "      <td>0.19727</td>\n",
       "      <td>1.83302</td>\n",
       "    </tr>\n",
       "  </tbody>\n",
       "</table>\n",
       "<p>149 rows × 12 columns</p>\n",
       "</div>"
      ],
      "text/plain": [
       "     Country  Region  Happiness Rank  Happiness Score  Standard Error  \\\n",
       "0        135       9               1            7.587         0.03411   \n",
       "1         58       9               2            7.561         0.04884   \n",
       "2         37       9               3            7.527         0.03328   \n",
       "3        105       9               4            7.522         0.03880   \n",
       "4         24       5               5            7.427         0.03553   \n",
       "..       ...     ...             ...              ...             ...   \n",
       "150       66       8             151            3.655         0.05141   \n",
       "151       20       8             152            3.587         0.04324   \n",
       "152        0       7             153            3.575         0.03084   \n",
       "154       13       8             155            3.340         0.03656   \n",
       "156       21       8             157            2.905         0.08658   \n",
       "\n",
       "     Economy (GDP per Capita)   Family  Health (Life Expectancy)  Freedom  \\\n",
       "0                     1.39651  1.34951                   0.94143  0.66557   \n",
       "1                     1.30232  1.40223                   0.94784  0.62877   \n",
       "2                     1.32548  1.36058                   0.87464  0.64938   \n",
       "3                     1.45900  1.33095                   0.88521  0.66973   \n",
       "4                     1.32629  1.32261                   0.90563  0.63297   \n",
       "..                        ...      ...                       ...      ...   \n",
       "150                   0.46534  0.77115                   0.15185  0.46866   \n",
       "151                   0.25812  0.85188                   0.27125  0.39493   \n",
       "152                   0.31982  0.30285                   0.30335  0.23414   \n",
       "154                   0.28665  0.35386                   0.31910  0.48450   \n",
       "156                   0.01530  0.41587                   0.22396  0.11850   \n",
       "\n",
       "     Trust (Government Corruption)  Generosity  Dystopia Residual  \n",
       "0                          0.41978     0.29678            2.51738  \n",
       "1                          0.14145     0.43630            2.70201  \n",
       "2                          0.48357     0.34139            2.49204  \n",
       "3                          0.36503     0.34699            2.46531  \n",
       "4                          0.32957     0.45811            2.45176  \n",
       "..                             ...         ...                ...  \n",
       "150                        0.17922     0.20165            1.41723  \n",
       "151                        0.12832     0.21747            1.46494  \n",
       "152                        0.09719     0.36510            1.95210  \n",
       "154                        0.08010     0.18260            1.63328  \n",
       "156                        0.10062     0.19727            1.83302  \n",
       "\n",
       "[149 rows x 12 columns]"
      ]
     },
     "execution_count": 16,
     "metadata": {},
     "output_type": "execute_result"
    }
   ],
   "source": [
    "df1=df[(z<3).all(axis=1)]\n",
    "df1"
   ]
  },
  {
   "cell_type": "markdown",
   "id": "bc281569",
   "metadata": {},
   "source": [
    "As data loss is less than 10 percent so we wil work with new dataframe"
   ]
  },
  {
   "cell_type": "code",
   "execution_count": 17,
   "id": "cae8790b",
   "metadata": {},
   "outputs": [
    {
     "data": {
      "text/plain": [
       "Country                          0.048701\n",
       "Region                          -0.096985\n",
       "Happiness Rank                   0.003268\n",
       "Happiness Score                  0.169740\n",
       "Standard Error                   1.243048\n",
       "Economy (GDP per Capita)        -0.390657\n",
       "Family                          -0.811340\n",
       "Health (Life Expectancy)        -0.747711\n",
       "Freedom                         -0.400867\n",
       "Trust (Government Corruption)    1.272530\n",
       "Generosity                       0.654710\n",
       "Dystopia Residual               -0.021144\n",
       "dtype: float64"
      ]
     },
     "execution_count": 17,
     "metadata": {},
     "output_type": "execute_result"
    }
   ],
   "source": [
    "df1.skew()"
   ]
  },
  {
   "cell_type": "code",
   "execution_count": 18,
   "id": "2ff7886a",
   "metadata": {},
   "outputs": [
    {
     "name": "stderr",
     "output_type": "stream",
     "text": [
      "<ipython-input-18-f5fb464e8a94>:3: SettingWithCopyWarning: \n",
      "A value is trying to be set on a copy of a slice from a DataFrame.\n",
      "Try using .loc[row_indexer,col_indexer] = value instead\n",
      "\n",
      "See the caveats in the documentation: https://pandas.pydata.org/pandas-docs/stable/user_guide/indexing.html#returning-a-view-versus-a-copy\n",
      "  df1['Family']=boxcox(df1['Family'],0)\n"
     ]
    }
   ],
   "source": [
    "from scipy.stats import boxcox\n",
    "#0- Log transform(to remove sckewness)\n",
    "df1['Family']=boxcox(df1['Family'],0)"
   ]
  },
  {
   "cell_type": "code",
   "execution_count": 19,
   "id": "6cd5373a",
   "metadata": {},
   "outputs": [
    {
     "name": "stderr",
     "output_type": "stream",
     "text": [
      "C:\\Users\\rupam\\Anaconda3\\lib\\site-packages\\seaborn\\distributions.py:2557: FutureWarning: `distplot` is a deprecated function and will be removed in a future version. Please adapt your code to use either `displot` (a figure-level function with similar flexibility) or `histplot` (an axes-level function for histograms).\n",
      "  warnings.warn(msg, FutureWarning)\n"
     ]
    },
    {
     "data": {
      "text/plain": [
       "<AxesSubplot:xlabel='Family', ylabel='Density'>"
      ]
     },
     "execution_count": 19,
     "metadata": {},
     "output_type": "execute_result"
    },
    {
     "data": {
      "image/png": "[encoded data removed]",
      "text/plain": [
       "<Figure size 432x288 with 1 Axes>"
      ]
     },
     "metadata": {
      "needs_background": "light"
     },
     "output_type": "display_data"
    }
   ],
   "source": [
    "sn.distplot(df1['Family'], kde=True)"
   ]
  },
  {
   "cell_type": "code",
   "execution_count": 20,
   "id": "e781abab",
   "metadata": {},
   "outputs": [
    {
     "ename": "ValueError",
     "evalue": "Data must be positive.",
     "output_type": "error",
     "traceback": [
      "\u001b[1;31m---------------------------------------------------------------------------\u001b[0m",
      "\u001b[1;31mValueError\u001b[0m                                Traceback (most recent call last)",
      "\u001b[1;32m<ipython-input-20-6e2e8f1de36f>\u001b[0m in \u001b[0;36m<module>\u001b[1;34m\u001b[0m\n\u001b[1;32m----> 1\u001b[1;33m \u001b[0mdf1\u001b[0m\u001b[1;33m[\u001b[0m\u001b[1;34m'Trust (Government Corruption)'\u001b[0m\u001b[1;33m]\u001b[0m\u001b[1;33m=\u001b[0m\u001b[0mboxcox\u001b[0m\u001b[1;33m(\u001b[0m\u001b[0mdf1\u001b[0m\u001b[1;33m[\u001b[0m\u001b[1;34m'Trust (Government Corruption)'\u001b[0m\u001b[1;33m]\u001b[0m\u001b[1;33m,\u001b[0m\u001b[1;36m0\u001b[0m\u001b[1;33m)\u001b[0m\u001b[1;33m\u001b[0m\u001b[1;33m\u001b[0m\u001b[0m\n\u001b[0m",
      "\u001b[1;32m~\\Anaconda3\\lib\\site-packages\\scipy\\stats\\morestats.py\u001b[0m in \u001b[0;36mboxcox\u001b[1;34m(x, lmbda, alpha)\u001b[0m\n\u001b[0;32m   1041\u001b[0m \u001b[1;33m\u001b[0m\u001b[0m\n\u001b[0;32m   1042\u001b[0m     \u001b[1;32mif\u001b[0m \u001b[0many\u001b[0m\u001b[1;33m(\u001b[0m\u001b[0mx\u001b[0m \u001b[1;33m<=\u001b[0m \u001b[1;36m0\u001b[0m\u001b[1;33m)\u001b[0m\u001b[1;33m:\u001b[0m\u001b[1;33m\u001b[0m\u001b[1;33m\u001b[0m\u001b[0m\n\u001b[1;32m-> 1043\u001b[1;33m         \u001b[1;32mraise\u001b[0m \u001b[0mValueError\u001b[0m\u001b[1;33m(\u001b[0m\u001b[1;34m\"Data must be positive.\"\u001b[0m\u001b[1;33m)\u001b[0m\u001b[1;33m\u001b[0m\u001b[1;33m\u001b[0m\u001b[0m\n\u001b[0m\u001b[0;32m   1044\u001b[0m \u001b[1;33m\u001b[0m\u001b[0m\n\u001b[0;32m   1045\u001b[0m     \u001b[1;32mif\u001b[0m \u001b[0mlmbda\u001b[0m \u001b[1;32mis\u001b[0m \u001b[1;32mnot\u001b[0m \u001b[1;32mNone\u001b[0m\u001b[1;33m:\u001b[0m  \u001b[1;31m# single transformation\u001b[0m\u001b[1;33m\u001b[0m\u001b[1;33m\u001b[0m\u001b[0m\n",
      "\u001b[1;31mValueError\u001b[0m: Data must be positive."
     ]
    }
   ],
   "source": [
    "df1['Trust (Government Corruption)']=boxcox(df1['Trust (Government Corruption)'],0)"
   ]
  },
  {
   "cell_type": "code",
   "execution_count": 21,
   "id": "71371d82",
   "metadata": {},
   "outputs": [
    {
     "data": {
      "text/html": [
       "<div>\n",
       "<style scoped>\n",
       "    .dataframe tbody tr th:only-of-type {\n",
       "        vertical-align: middle;\n",
       "    }\n",
       "\n",
       "    .dataframe tbody tr th {\n",
       "        vertical-align: top;\n",
       "    }\n",
       "\n",
       "    .dataframe thead th {\n",
       "        text-align: right;\n",
       "    }\n",
       "</style>\n",
       "<table border=\"1\" class=\"dataframe\">\n",
       "  <thead>\n",
       "    <tr style=\"text-align: right;\">\n",
       "      <th></th>\n",
       "      <th>Country</th>\n",
       "      <th>Region</th>\n",
       "      <th>Happiness Rank</th>\n",
       "      <th>Happiness Score</th>\n",
       "      <th>Standard Error</th>\n",
       "      <th>Economy (GDP per Capita)</th>\n",
       "      <th>Family</th>\n",
       "      <th>Health (Life Expectancy)</th>\n",
       "      <th>Freedom</th>\n",
       "      <th>Trust (Government Corruption)</th>\n",
       "      <th>Generosity</th>\n",
       "      <th>Dystopia Residual</th>\n",
       "    </tr>\n",
       "  </thead>\n",
       "  <tbody>\n",
       "    <tr>\n",
       "      <th>count</th>\n",
       "      <td>149.000000</td>\n",
       "      <td>149.000000</td>\n",
       "      <td>149.000000</td>\n",
       "      <td>149.000000</td>\n",
       "      <td>149.000000</td>\n",
       "      <td>149.000000</td>\n",
       "      <td>149.000000</td>\n",
       "      <td>149.000000</td>\n",
       "      <td>149.000000</td>\n",
       "      <td>149.000000</td>\n",
       "      <td>149.000000</td>\n",
       "      <td>149.000000</td>\n",
       "    </tr>\n",
       "    <tr>\n",
       "      <th>mean</th>\n",
       "      <td>77.067114</td>\n",
       "      <td>5.080537</td>\n",
       "      <td>77.617450</td>\n",
       "      <td>5.429611</td>\n",
       "      <td>0.046241</td>\n",
       "      <td>0.862163</td>\n",
       "      <td>-0.031908</td>\n",
       "      <td>0.638624</td>\n",
       "      <td>0.427449</td>\n",
       "      <td>0.140405</td>\n",
       "      <td>0.231500</td>\n",
       "      <td>2.120862</td>\n",
       "    </tr>\n",
       "    <tr>\n",
       "      <th>std</th>\n",
       "      <td>45.833079</td>\n",
       "      <td>3.032519</td>\n",
       "      <td>44.854208</td>\n",
       "      <td>1.111256</td>\n",
       "      <td>0.014043</td>\n",
       "      <td>0.387975</td>\n",
       "      <td>0.308696</td>\n",
       "      <td>0.245937</td>\n",
       "      <td>0.150864</td>\n",
       "      <td>0.113385</td>\n",
       "      <td>0.119897</td>\n",
       "      <td>0.525654</td>\n",
       "    </tr>\n",
       "    <tr>\n",
       "      <th>min</th>\n",
       "      <td>0.000000</td>\n",
       "      <td>0.000000</td>\n",
       "      <td>1.000000</td>\n",
       "      <td>2.905000</td>\n",
       "      <td>0.018480</td>\n",
       "      <td>0.000000</td>\n",
       "      <td>-1.194518</td>\n",
       "      <td>0.000000</td>\n",
       "      <td>0.000000</td>\n",
       "      <td>0.000000</td>\n",
       "      <td>0.000000</td>\n",
       "      <td>0.654290</td>\n",
       "    </tr>\n",
       "    <tr>\n",
       "      <th>25%</th>\n",
       "      <td>38.000000</td>\n",
       "      <td>3.000000</td>\n",
       "      <td>39.000000</td>\n",
       "      <td>4.610000</td>\n",
       "      <td>0.036800</td>\n",
       "      <td>0.593250</td>\n",
       "      <td>-0.121174</td>\n",
       "      <td>0.467210</td>\n",
       "      <td>0.328180</td>\n",
       "      <td>0.061460</td>\n",
       "      <td>0.142720</td>\n",
       "      <td>1.792930</td>\n",
       "    </tr>\n",
       "    <tr>\n",
       "      <th>50%</th>\n",
       "      <td>76.000000</td>\n",
       "      <td>4.000000</td>\n",
       "      <td>78.000000</td>\n",
       "      <td>5.268000</td>\n",
       "      <td>0.043610</td>\n",
       "      <td>0.920490</td>\n",
       "      <td>0.034556</td>\n",
       "      <td>0.703800</td>\n",
       "      <td>0.434500</td>\n",
       "      <td>0.107130</td>\n",
       "      <td>0.213330</td>\n",
       "      <td>2.100170</td>\n",
       "    </tr>\n",
       "    <tr>\n",
       "      <th>75%</th>\n",
       "      <td>116.000000</td>\n",
       "      <td>8.000000</td>\n",
       "      <td>115.000000</td>\n",
       "      <td>6.295000</td>\n",
       "      <td>0.050690</td>\n",
       "      <td>1.159910</td>\n",
       "      <td>0.202067</td>\n",
       "      <td>0.814440</td>\n",
       "      <td>0.546040</td>\n",
       "      <td>0.175210</td>\n",
       "      <td>0.300300</td>\n",
       "      <td>2.465310</td>\n",
       "    </tr>\n",
       "    <tr>\n",
       "      <th>max</th>\n",
       "      <td>157.000000</td>\n",
       "      <td>9.000000</td>\n",
       "      <td>157.000000</td>\n",
       "      <td>7.587000</td>\n",
       "      <td>0.098110</td>\n",
       "      <td>1.563910</td>\n",
       "      <td>0.338064</td>\n",
       "      <td>1.025250</td>\n",
       "      <td>0.669730</td>\n",
       "      <td>0.492100</td>\n",
       "      <td>0.576300</td>\n",
       "      <td>3.602140</td>\n",
       "    </tr>\n",
       "  </tbody>\n",
       "</table>\n",
       "</div>"
      ],
      "text/plain": [
       "          Country      Region  Happiness Rank  Happiness Score  \\\n",
       "count  149.000000  149.000000      149.000000       149.000000   \n",
       "mean    77.067114    5.080537       77.617450         5.429611   \n",
       "std     45.833079    3.032519       44.854208         1.111256   \n",
       "min      0.000000    0.000000        1.000000         2.905000   \n",
       "25%     38.000000    3.000000       39.000000         4.610000   \n",
       "50%     76.000000    4.000000       78.000000         5.268000   \n",
       "75%    116.000000    8.000000      115.000000         6.295000   \n",
       "max    157.000000    9.000000      157.000000         7.587000   \n",
       "\n",
       "       Standard Error  Economy (GDP per Capita)      Family  \\\n",
       "count      149.000000                149.000000  149.000000   \n",
       "mean         0.046241                  0.862163   -0.031908   \n",
       "std          0.014043                  0.387975    0.308696   \n",
       "min          0.018480                  0.000000   -1.194518   \n",
       "25%          0.036800                  0.593250   -0.121174   \n",
       "50%          0.043610                  0.920490    0.034556   \n",
       "75%          0.050690                  1.159910    0.202067   \n",
       "max          0.098110                  1.563910    0.338064   \n",
       "\n",
       "       Health (Life Expectancy)     Freedom  Trust (Government Corruption)  \\\n",
       "count                149.000000  149.000000                     149.000000   \n",
       "mean                   0.638624    0.427449                       0.140405   \n",
       "std                    0.245937    0.150864                       0.113385   \n",
       "min                    0.000000    0.000000                       0.000000   \n",
       "25%                    0.467210    0.328180                       0.061460   \n",
       "50%                    0.703800    0.434500                       0.107130   \n",
       "75%                    0.814440    0.546040                       0.175210   \n",
       "max                    1.025250    0.669730                       0.492100   \n",
       "\n",
       "       Generosity  Dystopia Residual  \n",
       "count  149.000000         149.000000  \n",
       "mean     0.231500           2.120862  \n",
       "std      0.119897           0.525654  \n",
       "min      0.000000           0.654290  \n",
       "25%      0.142720           1.792930  \n",
       "50%      0.213330           2.100170  \n",
       "75%      0.300300           2.465310  \n",
       "max      0.576300           3.602140  "
      ]
     },
     "execution_count": 21,
     "metadata": {},
     "output_type": "execute_result"
    }
   ],
   "source": [
    "df1.describe()"
   ]
  },
  {
   "cell_type": "code",
   "execution_count": 22,
   "id": "bcde7720",
   "metadata": {},
   "outputs": [
    {
     "data": {
      "text/html": [
       "<div>\n",
       "<style scoped>\n",
       "    .dataframe tbody tr th:only-of-type {\n",
       "        vertical-align: middle;\n",
       "    }\n",
       "\n",
       "    .dataframe tbody tr th {\n",
       "        vertical-align: top;\n",
       "    }\n",
       "\n",
       "    .dataframe thead th {\n",
       "        text-align: right;\n",
       "    }\n",
       "</style>\n",
       "<table border=\"1\" class=\"dataframe\">\n",
       "  <thead>\n",
       "    <tr style=\"text-align: right;\">\n",
       "      <th></th>\n",
       "      <th>Country</th>\n",
       "      <th>Region</th>\n",
       "      <th>Happiness Rank</th>\n",
       "      <th>Happiness Score</th>\n",
       "      <th>Standard Error</th>\n",
       "      <th>Economy (GDP per Capita)</th>\n",
       "      <th>Family</th>\n",
       "      <th>Health (Life Expectancy)</th>\n",
       "      <th>Freedom</th>\n",
       "      <th>Trust (Government Corruption)</th>\n",
       "      <th>Generosity</th>\n",
       "      <th>Dystopia Residual</th>\n",
       "    </tr>\n",
       "  </thead>\n",
       "  <tbody>\n",
       "    <tr>\n",
       "      <th>Country</th>\n",
       "      <td>1.000000</td>\n",
       "      <td>0.007739</td>\n",
       "      <td>-0.125380</td>\n",
       "      <td>0.120109</td>\n",
       "      <td>0.003898</td>\n",
       "      <td>0.039300</td>\n",
       "      <td>0.221999</td>\n",
       "      <td>0.036875</td>\n",
       "      <td>0.091495</td>\n",
       "      <td>0.062379</td>\n",
       "      <td>0.096685</td>\n",
       "      <td>0.048980</td>\n",
       "    </tr>\n",
       "    <tr>\n",
       "      <th>Region</th>\n",
       "      <td>0.007739</td>\n",
       "      <td>1.000000</td>\n",
       "      <td>0.184520</td>\n",
       "      <td>-0.145850</td>\n",
       "      <td>-0.013860</td>\n",
       "      <td>-0.224928</td>\n",
       "      <td>-0.146619</td>\n",
       "      <td>-0.334531</td>\n",
       "      <td>0.101335</td>\n",
       "      <td>0.167550</td>\n",
       "      <td>0.305791</td>\n",
       "      <td>-0.059494</td>\n",
       "    </tr>\n",
       "    <tr>\n",
       "      <th>Happiness Rank</th>\n",
       "      <td>-0.125380</td>\n",
       "      <td>0.184520</td>\n",
       "      <td>1.000000</td>\n",
       "      <td>-0.992921</td>\n",
       "      <td>0.212085</td>\n",
       "      <td>-0.773651</td>\n",
       "      <td>-0.663432</td>\n",
       "      <td>-0.736758</td>\n",
       "      <td>-0.571089</td>\n",
       "      <td>-0.445743</td>\n",
       "      <td>-0.225626</td>\n",
       "      <td>-0.526680</td>\n",
       "    </tr>\n",
       "    <tr>\n",
       "      <th>Happiness Score</th>\n",
       "      <td>0.120109</td>\n",
       "      <td>-0.145850</td>\n",
       "      <td>-0.992921</td>\n",
       "      <td>1.000000</td>\n",
       "      <td>-0.230252</td>\n",
       "      <td>0.773577</td>\n",
       "      <td>0.663219</td>\n",
       "      <td>0.729191</td>\n",
       "      <td>0.585066</td>\n",
       "      <td>0.477692</td>\n",
       "      <td>0.250903</td>\n",
       "      <td>0.528334</td>\n",
       "    </tr>\n",
       "    <tr>\n",
       "      <th>Standard Error</th>\n",
       "      <td>0.003898</td>\n",
       "      <td>-0.013860</td>\n",
       "      <td>0.212085</td>\n",
       "      <td>-0.230252</td>\n",
       "      <td>1.000000</td>\n",
       "      <td>-0.251749</td>\n",
       "      <td>-0.077959</td>\n",
       "      <td>-0.356444</td>\n",
       "      <td>-0.186465</td>\n",
       "      <td>-0.140156</td>\n",
       "      <td>-0.131970</td>\n",
       "      <td>0.045722</td>\n",
       "    </tr>\n",
       "    <tr>\n",
       "      <th>Economy (GDP per Capita)</th>\n",
       "      <td>0.039300</td>\n",
       "      <td>-0.224928</td>\n",
       "      <td>-0.773651</td>\n",
       "      <td>0.773577</td>\n",
       "      <td>-0.251749</td>\n",
       "      <td>1.000000</td>\n",
       "      <td>0.588876</td>\n",
       "      <td>0.817470</td>\n",
       "      <td>0.376780</td>\n",
       "      <td>0.342269</td>\n",
       "      <td>0.020730</td>\n",
       "      <td>0.026936</td>\n",
       "    </tr>\n",
       "    <tr>\n",
       "      <th>Family</th>\n",
       "      <td>0.221999</td>\n",
       "      <td>-0.146619</td>\n",
       "      <td>-0.663432</td>\n",
       "      <td>0.663219</td>\n",
       "      <td>-0.077959</td>\n",
       "      <td>0.588876</td>\n",
       "      <td>1.000000</td>\n",
       "      <td>0.462062</td>\n",
       "      <td>0.414559</td>\n",
       "      <td>0.206289</td>\n",
       "      <td>0.104280</td>\n",
       "      <td>0.094551</td>\n",
       "    </tr>\n",
       "    <tr>\n",
       "      <th>Health (Life Expectancy)</th>\n",
       "      <td>0.036875</td>\n",
       "      <td>-0.334531</td>\n",
       "      <td>-0.736758</td>\n",
       "      <td>0.729191</td>\n",
       "      <td>-0.356444</td>\n",
       "      <td>0.817470</td>\n",
       "      <td>0.462062</td>\n",
       "      <td>1.000000</td>\n",
       "      <td>0.382595</td>\n",
       "      <td>0.270605</td>\n",
       "      <td>0.129328</td>\n",
       "      <td>0.031212</td>\n",
       "    </tr>\n",
       "    <tr>\n",
       "      <th>Freedom</th>\n",
       "      <td>0.091495</td>\n",
       "      <td>0.101335</td>\n",
       "      <td>-0.571089</td>\n",
       "      <td>0.585066</td>\n",
       "      <td>-0.186465</td>\n",
       "      <td>0.376780</td>\n",
       "      <td>0.414559</td>\n",
       "      <td>0.382595</td>\n",
       "      <td>1.000000</td>\n",
       "      <td>0.506373</td>\n",
       "      <td>0.428718</td>\n",
       "      <td>0.058596</td>\n",
       "    </tr>\n",
       "    <tr>\n",
       "      <th>Trust (Government Corruption)</th>\n",
       "      <td>0.062379</td>\n",
       "      <td>0.167550</td>\n",
       "      <td>-0.445743</td>\n",
       "      <td>0.477692</td>\n",
       "      <td>-0.140156</td>\n",
       "      <td>0.342269</td>\n",
       "      <td>0.206289</td>\n",
       "      <td>0.270605</td>\n",
       "      <td>0.506373</td>\n",
       "      <td>1.000000</td>\n",
       "      <td>0.296450</td>\n",
       "      <td>0.078080</td>\n",
       "    </tr>\n",
       "    <tr>\n",
       "      <th>Generosity</th>\n",
       "      <td>0.096685</td>\n",
       "      <td>0.305791</td>\n",
       "      <td>-0.225626</td>\n",
       "      <td>0.250903</td>\n",
       "      <td>-0.131970</td>\n",
       "      <td>0.020730</td>\n",
       "      <td>0.104280</td>\n",
       "      <td>0.129328</td>\n",
       "      <td>0.428718</td>\n",
       "      <td>0.296450</td>\n",
       "      <td>1.000000</td>\n",
       "      <td>-0.034239</td>\n",
       "    </tr>\n",
       "    <tr>\n",
       "      <th>Dystopia Residual</th>\n",
       "      <td>0.048980</td>\n",
       "      <td>-0.059494</td>\n",
       "      <td>-0.526680</td>\n",
       "      <td>0.528334</td>\n",
       "      <td>0.045722</td>\n",
       "      <td>0.026936</td>\n",
       "      <td>0.094551</td>\n",
       "      <td>0.031212</td>\n",
       "      <td>0.058596</td>\n",
       "      <td>0.078080</td>\n",
       "      <td>-0.034239</td>\n",
       "      <td>1.000000</td>\n",
       "    </tr>\n",
       "  </tbody>\n",
       "</table>\n",
       "</div>"
      ],
      "text/plain": [
       "                                Country    Region  Happiness Rank  \\\n",
       "Country                        1.000000  0.007739       -0.125380   \n",
       "Region                         0.007739  1.000000        0.184520   \n",
       "Happiness Rank                -0.125380  0.184520        1.000000   \n",
       "Happiness Score                0.120109 -0.145850       -0.992921   \n",
       "Standard Error                 0.003898 -0.013860        0.212085   \n",
       "Economy (GDP per Capita)       0.039300 -0.224928       -0.773651   \n",
       "Family                         0.221999 -0.146619       -0.663432   \n",
       "Health (Life Expectancy)       0.036875 -0.334531       -0.736758   \n",
       "Freedom                        0.091495  0.101335       -0.571089   \n",
       "Trust (Government Corruption)  0.062379  0.167550       -0.445743   \n",
       "Generosity                     0.096685  0.305791       -0.225626   \n",
       "Dystopia Residual              0.048980 -0.059494       -0.526680   \n",
       "\n",
       "                               Happiness Score  Standard Error  \\\n",
       "Country                               0.120109        0.003898   \n",
       "Region                               -0.145850       -0.013860   \n",
       "Happiness Rank                       -0.992921        0.212085   \n",
       "Happiness Score                       1.000000       -0.230252   \n",
       "Standard Error                       -0.230252        1.000000   \n",
       "Economy (GDP per Capita)              0.773577       -0.251749   \n",
       "Family                                0.663219       -0.077959   \n",
       "Health (Life Expectancy)              0.729191       -0.356444   \n",
       "Freedom                               0.585066       -0.186465   \n",
       "Trust (Government Corruption)         0.477692       -0.140156   \n",
       "Generosity                            0.250903       -0.131970   \n",
       "Dystopia Residual                     0.528334        0.045722   \n",
       "\n",
       "                               Economy (GDP per Capita)    Family  \\\n",
       "Country                                        0.039300  0.221999   \n",
       "Region                                        -0.224928 -0.146619   \n",
       "Happiness Rank                                -0.773651 -0.663432   \n",
       "Happiness Score                                0.773577  0.663219   \n",
       "Standard Error                                -0.251749 -0.077959   \n",
       "Economy (GDP per Capita)                       1.000000  0.588876   \n",
       "Family                                         0.588876  1.000000   \n",
       "Health (Life Expectancy)                       0.817470  0.462062   \n",
       "Freedom                                        0.376780  0.414559   \n",
       "Trust (Government Corruption)                  0.342269  0.206289   \n",
       "Generosity                                     0.020730  0.104280   \n",
       "Dystopia Residual                              0.026936  0.094551   \n",
       "\n",
       "                               Health (Life Expectancy)   Freedom  \\\n",
       "Country                                        0.036875  0.091495   \n",
       "Region                                        -0.334531  0.101335   \n",
       "Happiness Rank                                -0.736758 -0.571089   \n",
       "Happiness Score                                0.729191  0.585066   \n",
       "Standard Error                                -0.356444 -0.186465   \n",
       "Economy (GDP per Capita)                       0.817470  0.376780   \n",
       "Family                                         0.462062  0.414559   \n",
       "Health (Life Expectancy)                       1.000000  0.382595   \n",
       "Freedom                                        0.382595  1.000000   \n",
       "Trust (Government Corruption)                  0.270605  0.506373   \n",
       "Generosity                                     0.129328  0.428718   \n",
       "Dystopia Residual                              0.031212  0.058596   \n",
       "\n",
       "                               Trust (Government Corruption)  Generosity  \\\n",
       "Country                                             0.062379    0.096685   \n",
       "Region                                              0.167550    0.305791   \n",
       "Happiness Rank                                     -0.445743   -0.225626   \n",
       "Happiness Score                                     0.477692    0.250903   \n",
       "Standard Error                                     -0.140156   -0.131970   \n",
       "Economy (GDP per Capita)                            0.342269    0.020730   \n",
       "Family                                              0.206289    0.104280   \n",
       "Health (Life Expectancy)                            0.270605    0.129328   \n",
       "Freedom                                             0.506373    0.428718   \n",
       "Trust (Government Corruption)                       1.000000    0.296450   \n",
       "Generosity                                          0.296450    1.000000   \n",
       "Dystopia Residual                                   0.078080   -0.034239   \n",
       "\n",
       "                               Dystopia Residual  \n",
       "Country                                 0.048980  \n",
       "Region                                 -0.059494  \n",
       "Happiness Rank                         -0.526680  \n",
       "Happiness Score                         0.528334  \n",
       "Standard Error                          0.045722  \n",
       "Economy (GDP per Capita)                0.026936  \n",
       "Family                                  0.094551  \n",
       "Health (Life Expectancy)                0.031212  \n",
       "Freedom                                 0.058596  \n",
       "Trust (Government Corruption)           0.078080  \n",
       "Generosity                             -0.034239  \n",
       "Dystopia Residual                       1.000000  "
      ]
     },
     "execution_count": 22,
     "metadata": {},
     "output_type": "execute_result"
    }
   ],
   "source": [
    "df1.corr()"
   ]
  },
  {
   "cell_type": "code",
   "execution_count": 23,
   "id": "471fdde3",
   "metadata": {},
   "outputs": [
    {
     "data": {
      "text/plain": [
       "<AxesSubplot:>"
      ]
     },
     "execution_count": 23,
     "metadata": {},
     "output_type": "execute_result"
    },
    {
     "data": {
      "image/png": "[encoded data removed]",
      "text/plain": [
       "<Figure size 1584x504 with 2 Axes>"
      ]
     },
     "metadata": {
      "needs_background": "light"
     },
     "output_type": "display_data"
    }
   ],
   "source": [
    "plt.figure(figsize=(22,7))\n",
    "sn.heatmap(df1.corr(),annot=True,linewidths=0.1,linecolor=\"black\",fmt=\"0.2f\")"
   ]
  },
  {
   "cell_type": "code",
   "execution_count": 24,
   "id": "859c648c",
   "metadata": {},
   "outputs": [
    {
     "data": {
      "image/png": "[encoded data removed]",
      "text/plain": [
       "<Figure size 1584x504 with 1 Axes>"
      ]
     },
     "metadata": {
      "needs_background": "light"
     },
     "output_type": "display_data"
    }
   ],
   "source": [
    "plt.figure(figsize=(22,7))\n",
    "df1.corr()['Dystopia Residual'].sort_values(ascending=False).drop(['Dystopia Residual']).plot(kind='bar',color='c')\n",
    "plt.xlabel('Feature',fontsize=14)\n",
    "plt.ylabel('column with target names',fontsize=14)\n",
    "plt.title('correlation',fontsize=18)\n",
    "plt.show()"
   ]
  },
  {
   "cell_type": "code",
   "execution_count": 25,
   "id": "a8538332",
   "metadata": {},
   "outputs": [
    {
     "data": {
      "text/html": [
       "<div>\n",
       "<style scoped>\n",
       "    .dataframe tbody tr th:only-of-type {\n",
       "        vertical-align: middle;\n",
       "    }\n",
       "\n",
       "    .dataframe tbody tr th {\n",
       "        vertical-align: top;\n",
       "    }\n",
       "\n",
       "    .dataframe thead th {\n",
       "        text-align: right;\n",
       "    }\n",
       "</style>\n",
       "<table border=\"1\" class=\"dataframe\">\n",
       "  <thead>\n",
       "    <tr style=\"text-align: right;\">\n",
       "      <th></th>\n",
       "      <th>Country</th>\n",
       "      <th>Region</th>\n",
       "      <th>Happiness Rank</th>\n",
       "      <th>Happiness Score</th>\n",
       "      <th>Standard Error</th>\n",
       "      <th>Economy (GDP per Capita)</th>\n",
       "      <th>Family</th>\n",
       "      <th>Health (Life Expectancy)</th>\n",
       "      <th>Freedom</th>\n",
       "      <th>Trust (Government Corruption)</th>\n",
       "      <th>Generosity</th>\n",
       "    </tr>\n",
       "  </thead>\n",
       "  <tbody>\n",
       "    <tr>\n",
       "      <th>0</th>\n",
       "      <td>135</td>\n",
       "      <td>9</td>\n",
       "      <td>1</td>\n",
       "      <td>7.587</td>\n",
       "      <td>0.03411</td>\n",
       "      <td>1.39651</td>\n",
       "      <td>0.299742</td>\n",
       "      <td>0.94143</td>\n",
       "      <td>0.66557</td>\n",
       "      <td>0.41978</td>\n",
       "      <td>0.29678</td>\n",
       "    </tr>\n",
       "    <tr>\n",
       "      <th>1</th>\n",
       "      <td>58</td>\n",
       "      <td>9</td>\n",
       "      <td>2</td>\n",
       "      <td>7.561</td>\n",
       "      <td>0.04884</td>\n",
       "      <td>1.30232</td>\n",
       "      <td>0.338064</td>\n",
       "      <td>0.94784</td>\n",
       "      <td>0.62877</td>\n",
       "      <td>0.14145</td>\n",
       "      <td>0.43630</td>\n",
       "    </tr>\n",
       "    <tr>\n",
       "      <th>2</th>\n",
       "      <td>37</td>\n",
       "      <td>9</td>\n",
       "      <td>3</td>\n",
       "      <td>7.527</td>\n",
       "      <td>0.03328</td>\n",
       "      <td>1.32548</td>\n",
       "      <td>0.307911</td>\n",
       "      <td>0.87464</td>\n",
       "      <td>0.64938</td>\n",
       "      <td>0.48357</td>\n",
       "      <td>0.34139</td>\n",
       "    </tr>\n",
       "    <tr>\n",
       "      <th>3</th>\n",
       "      <td>105</td>\n",
       "      <td>9</td>\n",
       "      <td>4</td>\n",
       "      <td>7.522</td>\n",
       "      <td>0.03880</td>\n",
       "      <td>1.45900</td>\n",
       "      <td>0.285893</td>\n",
       "      <td>0.88521</td>\n",
       "      <td>0.66973</td>\n",
       "      <td>0.36503</td>\n",
       "      <td>0.34699</td>\n",
       "    </tr>\n",
       "    <tr>\n",
       "      <th>4</th>\n",
       "      <td>24</td>\n",
       "      <td>5</td>\n",
       "      <td>5</td>\n",
       "      <td>7.427</td>\n",
       "      <td>0.03553</td>\n",
       "      <td>1.32629</td>\n",
       "      <td>0.279607</td>\n",
       "      <td>0.90563</td>\n",
       "      <td>0.63297</td>\n",
       "      <td>0.32957</td>\n",
       "      <td>0.45811</td>\n",
       "    </tr>\n",
       "  </tbody>\n",
       "</table>\n",
       "</div>"
      ],
      "text/plain": [
       "   Country  Region  Happiness Rank  Happiness Score  Standard Error  \\\n",
       "0      135       9               1            7.587         0.03411   \n",
       "1       58       9               2            7.561         0.04884   \n",
       "2       37       9               3            7.527         0.03328   \n",
       "3      105       9               4            7.522         0.03880   \n",
       "4       24       5               5            7.427         0.03553   \n",
       "\n",
       "   Economy (GDP per Capita)    Family  Health (Life Expectancy)  Freedom  \\\n",
       "0                   1.39651  0.299742                   0.94143  0.66557   \n",
       "1                   1.30232  0.338064                   0.94784  0.62877   \n",
       "2                   1.32548  0.307911                   0.87464  0.64938   \n",
       "3                   1.45900  0.285893                   0.88521  0.66973   \n",
       "4                   1.32629  0.279607                   0.90563  0.63297   \n",
       "\n",
       "   Trust (Government Corruption)  Generosity  \n",
       "0                        0.41978     0.29678  \n",
       "1                        0.14145     0.43630  \n",
       "2                        0.48357     0.34139  \n",
       "3                        0.36503     0.34699  \n",
       "4                        0.32957     0.45811  "
      ]
     },
     "execution_count": 25,
     "metadata": {},
     "output_type": "execute_result"
    }
   ],
   "source": [
    "x=df1.iloc[:,0:-1]\n",
    "x.head()"
   ]
  },
  {
   "cell_type": "code",
   "execution_count": 26,
   "id": "07edcc0c",
   "metadata": {},
   "outputs": [
    {
     "data": {
      "text/plain": [
       "(149, 11)"
      ]
     },
     "execution_count": 26,
     "metadata": {},
     "output_type": "execute_result"
    }
   ],
   "source": [
    "x.shape"
   ]
  },
  {
   "cell_type": "code",
   "execution_count": 27,
   "id": "2517db39",
   "metadata": {},
   "outputs": [
    {
     "data": {
      "text/plain": [
       "0    2.51738\n",
       "1    2.70201\n",
       "2    2.49204\n",
       "3    2.46531\n",
       "4    2.45176\n",
       "Name: Dystopia Residual, dtype: float64"
      ]
     },
     "execution_count": 27,
     "metadata": {},
     "output_type": "execute_result"
    }
   ],
   "source": [
    "y=df1.iloc[:,-1]\n",
    "y.head()"
   ]
  },
  {
   "cell_type": "code",
   "execution_count": 28,
   "id": "51a2237f",
   "metadata": {},
   "outputs": [
    {
     "data": {
      "text/plain": [
       "(149,)"
      ]
     },
     "execution_count": 28,
     "metadata": {},
     "output_type": "execute_result"
    }
   ],
   "source": [
    "y.shape"
   ]
  },
  {
   "cell_type": "code",
   "execution_count": 31,
   "id": "748486bb",
   "metadata": {},
   "outputs": [],
   "source": [
    "\n",
    "from sklearn.metrics import r2_score\n",
    "import warnings\n",
    "warnings.filterwarnings('ignore')"
   ]
  },
  {
   "cell_type": "code",
   "execution_count": 30,
   "id": "caa7e87c",
   "metadata": {},
   "outputs": [],
   "source": [
    "lr=LinearRegression()"
   ]
  },
  {
   "cell_type": "code",
   "execution_count": 32,
   "id": "c9fb33f0",
   "metadata": {},
   "outputs": [
    {
     "name": "stdout",
     "output_type": "stream",
     "text": [
      "At random state 0,the training accuracy is:- 0.9933289460409357\n",
      "At random state 0,the testing accuracy is:- 0.9950226790382052\n",
      "\n",
      "\n",
      "At random state 1,the training accuracy is:- 0.9934168720355535\n",
      "At random state 1,the testing accuracy is:- 0.9945500739974267\n",
      "\n",
      "\n",
      "At random state 2,the training accuracy is:- 0.9934275172992056\n",
      "At random state 2,the testing accuracy is:- 0.9947084816943593\n",
      "\n",
      "\n",
      "At random state 3,the training accuracy is:- 0.9929976227168231\n",
      "At random state 3,the testing accuracy is:- 0.9952179158878264\n",
      "\n",
      "\n",
      "At random state 4,the training accuracy is:- 0.9946153177958587\n",
      "At random state 4,the testing accuracy is:- 0.9819778811124865\n",
      "\n",
      "\n",
      "At random state 5,the training accuracy is:- 0.9948176476310465\n",
      "At random state 5,the testing accuracy is:- 0.979535988197469\n",
      "\n",
      "\n",
      "At random state 6,the training accuracy is:- 0.9955535441671736\n",
      "At random state 6,the testing accuracy is:- 0.9774371258311112\n",
      "\n",
      "\n",
      "At random state 7,the training accuracy is:- 0.9928380707165498\n",
      "At random state 7,the testing accuracy is:- 0.9934895718851392\n",
      "\n",
      "\n",
      "At random state 8,the training accuracy is:- 0.9948657284758133\n",
      "At random state 8,the testing accuracy is:- 0.9857108938443524\n",
      "\n",
      "\n",
      "At random state 9,the training accuracy is:- 0.9936529141700601\n",
      "At random state 9,the testing accuracy is:- 0.9931061263952831\n",
      "\n",
      "\n",
      "At random state 10,the training accuracy is:- 0.9937680337358242\n",
      "At random state 10,the testing accuracy is:- 0.9931003286148044\n",
      "\n",
      "\n",
      "At random state 11,the training accuracy is:- 0.9934440542639963\n",
      "At random state 11,the testing accuracy is:- 0.9940338994876193\n",
      "\n",
      "\n",
      "At random state 12,the training accuracy is:- 0.9936481259367866\n",
      "At random state 12,the testing accuracy is:- 0.9930179832133442\n",
      "\n",
      "\n",
      "At random state 13,the training accuracy is:- 0.993596975103852\n",
      "At random state 13,the testing accuracy is:- 0.9944910364263502\n",
      "\n",
      "\n",
      "At random state 14,the training accuracy is:- 0.9943928826503887\n",
      "At random state 14,the testing accuracy is:- 0.9884818887364913\n",
      "\n",
      "\n",
      "At random state 15,the training accuracy is:- 0.9941233830242112\n",
      "At random state 15,the testing accuracy is:- 0.9907272871915812\n",
      "\n",
      "\n",
      "At random state 16,the training accuracy is:- 0.9941423434459326\n",
      "At random state 16,the testing accuracy is:- 0.9913145866796845\n",
      "\n",
      "\n",
      "At random state 17,the training accuracy is:- 0.9940349059079095\n",
      "At random state 17,the testing accuracy is:- 0.9914478192570441\n",
      "\n",
      "\n",
      "At random state 18,the training accuracy is:- 0.9936197521067379\n",
      "At random state 18,the testing accuracy is:- 0.9935589669112217\n",
      "\n",
      "\n",
      "At random state 19,the training accuracy is:- 0.9957520461897985\n",
      "At random state 19,the testing accuracy is:- 0.9624980590069604\n",
      "\n",
      "\n",
      "At random state 20,the training accuracy is:- 0.994264703915881\n",
      "At random state 20,the testing accuracy is:- 0.9894068918531632\n",
      "\n",
      "\n",
      "At random state 21,the training accuracy is:- 0.9936959270419292\n",
      "At random state 21,the testing accuracy is:- 0.9927139947832191\n",
      "\n",
      "\n",
      "At random state 22,the training accuracy is:- 0.9956021806473755\n",
      "At random state 22,the testing accuracy is:- 0.9763571851329237\n",
      "\n",
      "\n",
      "At random state 23,the training accuracy is:- 0.9932657951718273\n",
      "At random state 23,the testing accuracy is:- 0.9953713779597806\n",
      "\n",
      "\n",
      "At random state 24,the training accuracy is:- 0.9940539189010696\n",
      "At random state 24,the testing accuracy is:- 0.9916784544056594\n",
      "\n",
      "\n",
      "At random state 25,the training accuracy is:- 0.9943211925689971\n",
      "At random state 25,the testing accuracy is:- 0.9888640334537951\n",
      "\n",
      "\n",
      "At random state 26,the training accuracy is:- 0.9943641106654305\n",
      "At random state 26,the testing accuracy is:- 0.9892248115044759\n",
      "\n",
      "\n",
      "At random state 27,the training accuracy is:- 0.9935287523349402\n",
      "At random state 27,the testing accuracy is:- 0.9938091577998747\n",
      "\n",
      "\n",
      "At random state 28,the training accuracy is:- 0.9941455123584679\n",
      "At random state 28,the testing accuracy is:- 0.9916186446320735\n",
      "\n",
      "\n",
      "At random state 29,the training accuracy is:- 0.9947273956475037\n",
      "At random state 29,the testing accuracy is:- 0.9856585586036094\n",
      "\n",
      "\n",
      "At random state 30,the training accuracy is:- 0.9943629167948116\n",
      "At random state 30,the testing accuracy is:- 0.9885059522953027\n",
      "\n",
      "\n",
      "At random state 31,the training accuracy is:- 0.9930469846930096\n",
      "At random state 31,the testing accuracy is:- 0.9951385250315696\n",
      "\n",
      "\n",
      "At random state 32,the training accuracy is:- 0.9944968812849232\n",
      "At random state 32,the testing accuracy is:- 0.9907562784571223\n",
      "\n",
      "\n",
      "At random state 33,the training accuracy is:- 0.9950180719581829\n",
      "At random state 33,the testing accuracy is:- 0.9868882717646307\n",
      "\n",
      "\n",
      "At random state 34,the training accuracy is:- 0.9941172571435312\n",
      "At random state 34,the testing accuracy is:- 0.9894284040955357\n",
      "\n",
      "\n",
      "At random state 35,the training accuracy is:- 0.9938972487363507\n",
      "At random state 35,the testing accuracy is:- 0.992090220761502\n",
      "\n",
      "\n",
      "At random state 36,the training accuracy is:- 0.9948029506324189\n",
      "At random state 36,the testing accuracy is:- 0.9873147264750269\n",
      "\n",
      "\n",
      "At random state 37,the training accuracy is:- 0.9937953958767792\n",
      "At random state 37,the testing accuracy is:- 0.9922828754253166\n",
      "\n",
      "\n",
      "At random state 38,the training accuracy is:- 0.9939653462399719\n",
      "At random state 38,the testing accuracy is:- 0.9914202350925921\n",
      "\n",
      "\n",
      "At random state 39,the training accuracy is:- 0.9935583434550633\n",
      "At random state 39,the testing accuracy is:- 0.9939760980930046\n",
      "\n",
      "\n",
      "At random state 40,the training accuracy is:- 0.992110630149458\n",
      "At random state 40,the testing accuracy is:- 0.9964768535585635\n",
      "\n",
      "\n",
      "At random state 41,the training accuracy is:- 0.9939806692136857\n",
      "At random state 41,the testing accuracy is:- 0.9913767067504564\n",
      "\n",
      "\n",
      "At random state 42,the training accuracy is:- 0.9930808569224633\n",
      "At random state 42,the testing accuracy is:- 0.9960410681945323\n",
      "\n",
      "\n",
      "At random state 43,the training accuracy is:- 0.9927533692614581\n",
      "At random state 43,the testing accuracy is:- 0.995603344824961\n",
      "\n",
      "\n",
      "At random state 44,the training accuracy is:- 0.9940829111411187\n",
      "At random state 44,the testing accuracy is:- 0.9899492852292869\n",
      "\n",
      "\n",
      "At random state 45,the training accuracy is:- 0.9931682539371864\n",
      "At random state 45,the testing accuracy is:- 0.9951079761288665\n",
      "\n",
      "\n",
      "At random state 46,the training accuracy is:- 0.9932035110578212\n",
      "At random state 46,the testing accuracy is:- 0.9944320121551293\n",
      "\n",
      "\n",
      "At random state 47,the training accuracy is:- 0.993675239013641\n",
      "At random state 47,the testing accuracy is:- 0.9924981541608379\n",
      "\n",
      "\n",
      "At random state 48,the training accuracy is:- 0.9943617094837017\n",
      "At random state 48,the testing accuracy is:- 0.9894287090325525\n",
      "\n",
      "\n",
      "At random state 49,the training accuracy is:- 0.9932254624068382\n",
      "At random state 49,the testing accuracy is:- 0.9952632536261184\n",
      "\n",
      "\n",
      "At random state 50,the training accuracy is:- 0.9951302768727283\n",
      "At random state 50,the testing accuracy is:- 0.9744222170480594\n",
      "\n",
      "\n",
      "At random state 51,the training accuracy is:- 0.9931339249932336\n",
      "At random state 51,the testing accuracy is:- 0.9955673603789024\n",
      "\n",
      "\n",
      "At random state 52,the training accuracy is:- 0.9938847231130041\n",
      "At random state 52,the testing accuracy is:- 0.991909543073863\n",
      "\n",
      "\n",
      "At random state 53,the training accuracy is:- 0.9936345110726615\n",
      "At random state 53,the testing accuracy is:- 0.9935767650168442\n",
      "\n",
      "\n",
      "At random state 54,the training accuracy is:- 0.9933553388318953\n",
      "At random state 54,the testing accuracy is:- 0.9941488048264023\n",
      "\n",
      "\n",
      "At random state 55,the training accuracy is:- 0.9944241344351711\n",
      "At random state 55,the testing accuracy is:- 0.9890227014938976\n",
      "\n",
      "\n",
      "At random state 56,the training accuracy is:- 0.9932416095839495\n",
      "At random state 56,the testing accuracy is:- 0.9951249367103849\n",
      "\n",
      "\n",
      "At random state 57,the training accuracy is:- 0.9934796110501398\n",
      "At random state 57,the testing accuracy is:- 0.9938837525915014\n",
      "\n",
      "\n",
      "At random state 58,the training accuracy is:- 0.9943302857135893\n",
      "At random state 58,the testing accuracy is:- 0.990579403726275\n",
      "\n",
      "\n",
      "At random state 59,the training accuracy is:- 0.9941517548587622\n",
      "At random state 59,the testing accuracy is:- 0.9909069802109336\n",
      "\n",
      "\n",
      "At random state 60,the training accuracy is:- 0.9941577391685755\n",
      "At random state 60,the testing accuracy is:- 0.9908445127175406\n",
      "\n",
      "\n",
      "At random state 61,the training accuracy is:- 0.995323716033722\n",
      "At random state 61,the testing accuracy is:- 0.9826579369728804\n",
      "\n",
      "\n",
      "At random state 62,the training accuracy is:- 0.9942074710654782\n",
      "At random state 62,the testing accuracy is:- 0.9906772740895371\n",
      "\n",
      "\n",
      "At random state 63,the training accuracy is:- 0.99255785661966\n",
      "At random state 63,the testing accuracy is:- 0.9960543947652691\n",
      "\n",
      "\n",
      "At random state 64,the training accuracy is:- 0.9947903750140178\n",
      "At random state 64,the testing accuracy is:- 0.9877899760948551\n",
      "\n",
      "\n",
      "At random state 65,the training accuracy is:- 0.9929348364813413\n",
      "At random state 65,the testing accuracy is:- 0.995926133785053\n",
      "\n",
      "\n",
      "At random state 66,the training accuracy is:- 0.993665432540562\n",
      "At random state 66,the testing accuracy is:- 0.9930802399503551\n",
      "\n",
      "\n",
      "At random state 67,the training accuracy is:- 0.9944479043701835\n",
      "At random state 67,the testing accuracy is:- 0.9884934392467466\n",
      "\n",
      "\n",
      "At random state 68,the training accuracy is:- 0.9946935362231841\n",
      "At random state 68,the testing accuracy is:- 0.9885823093062477\n",
      "\n",
      "\n",
      "At random state 69,the training accuracy is:- 0.9938443181642489\n",
      "At random state 69,the testing accuracy is:- 0.9930519137402558\n",
      "\n",
      "\n",
      "At random state 70,the training accuracy is:- 0.9942073811719274\n",
      "At random state 70,the testing accuracy is:- 0.9904082159217567\n",
      "\n",
      "\n",
      "At random state 71,the training accuracy is:- 0.994350589527854\n",
      "At random state 71,the testing accuracy is:- 0.9892254363798854\n",
      "\n",
      "\n",
      "At random state 72,the training accuracy is:- 0.9941998319711064\n",
      "At random state 72,the testing accuracy is:- 0.989689200011316\n",
      "\n",
      "\n",
      "At random state 73,the training accuracy is:- 0.9933074500957475\n",
      "At random state 73,the testing accuracy is:- 0.9947928259540874\n",
      "\n",
      "\n",
      "At random state 74,the training accuracy is:- 0.9939469707160971\n",
      "At random state 74,the testing accuracy is:- 0.9908644397184525\n",
      "\n",
      "\n",
      "At random state 75,the training accuracy is:- 0.9931796302389059\n",
      "At random state 75,the testing accuracy is:- 0.9953146329809014\n",
      "\n",
      "\n",
      "At random state 76,the training accuracy is:- 0.9935960276801974\n",
      "At random state 76,the testing accuracy is:- 0.9906120135708989\n",
      "\n",
      "\n",
      "At random state 77,the training accuracy is:- 0.9934221782656811\n",
      "At random state 77,the testing accuracy is:- 0.9936368677637879\n",
      "\n",
      "\n",
      "At random state 78,the training accuracy is:- 0.9944539742312765\n",
      "At random state 78,the testing accuracy is:- 0.9877490955210022\n",
      "\n",
      "\n",
      "At random state 79,the training accuracy is:- 0.9922513007645978\n",
      "At random state 79,the testing accuracy is:- 0.99643512056094\n",
      "\n",
      "\n",
      "At random state 80,the training accuracy is:- 0.9940802425294515\n",
      "At random state 80,the testing accuracy is:- 0.9864946148325577\n",
      "\n",
      "\n",
      "At random state 81,the training accuracy is:- 0.9935578158666122\n",
      "At random state 81,the testing accuracy is:- 0.9935154601837037\n",
      "\n",
      "\n",
      "At random state 82,the training accuracy is:- 0.9943718616003037\n",
      "At random state 82,the testing accuracy is:- 0.9888244425566253\n",
      "\n",
      "\n",
      "At random state 83,the training accuracy is:- 0.9944482594679012\n",
      "At random state 83,the testing accuracy is:- 0.9880118516549397\n",
      "\n",
      "\n",
      "At random state 84,the training accuracy is:- 0.9937197927944513\n",
      "At random state 84,the testing accuracy is:- 0.9925241947547475\n",
      "\n",
      "\n",
      "At random state 85,the training accuracy is:- 0.9946670225348607\n",
      "At random state 85,the testing accuracy is:- 0.9885340478131862\n",
      "\n",
      "\n",
      "At random state 86,the training accuracy is:- 0.9940630950817219\n",
      "At random state 86,the testing accuracy is:- 0.9909592624097318\n",
      "\n",
      "\n",
      "At random state 87,the training accuracy is:- 0.9932557744231864\n",
      "At random state 87,the testing accuracy is:- 0.9949622706215254\n",
      "\n",
      "\n",
      "At random state 88,the training accuracy is:- 0.9946968260588093\n",
      "At random state 88,the testing accuracy is:- 0.9862605561591424\n",
      "\n",
      "\n",
      "At random state 89,the training accuracy is:- 0.9939397452310054\n",
      "At random state 89,the testing accuracy is:- 0.9918581568447695\n",
      "\n",
      "\n",
      "At random state 90,the training accuracy is:- 0.9932123645865436\n",
      "At random state 90,the testing accuracy is:- 0.9945323579928539\n",
      "\n",
      "\n",
      "At random state 91,the training accuracy is:- 0.9934013974977987\n",
      "At random state 91,the testing accuracy is:- 0.9943890331984517\n",
      "\n",
      "\n"
     ]
    },
    {
     "name": "stdout",
     "output_type": "stream",
     "text": [
      "At random state 92,the training accuracy is:- 0.9933924442416878\n",
      "At random state 92,the testing accuracy is:- 0.994253348221899\n",
      "\n",
      "\n",
      "At random state 93,the training accuracy is:- 0.994458663700259\n",
      "At random state 93,the testing accuracy is:- 0.990073008743072\n",
      "\n",
      "\n",
      "At random state 94,the training accuracy is:- 0.9938224298696827\n",
      "At random state 94,the testing accuracy is:- 0.9929554732241855\n",
      "\n",
      "\n",
      "At random state 95,the training accuracy is:- 0.993822685587166\n",
      "At random state 95,the testing accuracy is:- 0.9925385454870151\n",
      "\n",
      "\n",
      "At random state 96,the training accuracy is:- 0.993512792680925\n",
      "At random state 96,the testing accuracy is:- 0.9921726677922381\n",
      "\n",
      "\n",
      "At random state 97,the training accuracy is:- 0.994559058563359\n",
      "At random state 97,the testing accuracy is:- 0.9883920454430576\n",
      "\n",
      "\n",
      "At random state 98,the training accuracy is:- 0.9927361115137896\n",
      "At random state 98,the testing accuracy is:- 0.9950258088175948\n",
      "\n",
      "\n",
      "At random state 99,the training accuracy is:- 0.99500983615959\n",
      "At random state 99,the testing accuracy is:- 0.9809867945922497\n",
      "\n",
      "\n"
     ]
    }
   ],
   "source": [
    "for i in range(0,100):\n",
    "    x_train,x_test,y_train,y_test=train_test_split(x,y,test_size=0.2,random_state=i)\n",
    "    lr.fit(x_train,y_train)\n",
    "    pred_train=lr.predict(x_train)\n",
    "    pred_test=lr.predict(x_test)\n",
    "    print(f\"At random state {i},the training accuracy is:- {r2_score(y_train,pred_train)}\")\n",
    "    print(f\"At random state {i},the testing accuracy is:- {r2_score(y_test,pred_test)}\")\n",
    "    print(\"\\n\")"
   ]
  },
  {
   "cell_type": "code",
   "execution_count": 33,
   "id": "9e18d756",
   "metadata": {},
   "outputs": [],
   "source": [
    "x_train,x_test,y_train,y_test=train_test_split(x,y,test_size=.33,random_state=27)"
   ]
  },
  {
   "cell_type": "code",
   "execution_count": 35,
   "id": "07ad3c4e",
   "metadata": {},
   "outputs": [
    {
     "data": {
      "text/plain": [
       "(99, 11)"
      ]
     },
     "execution_count": 35,
     "metadata": {},
     "output_type": "execute_result"
    }
   ],
   "source": [
    "x_train.shape"
   ]
  },
  {
   "cell_type": "code",
   "execution_count": 36,
   "id": "36a8c97e",
   "metadata": {},
   "outputs": [
    {
     "data": {
      "text/plain": [
       "(99,)"
      ]
     },
     "execution_count": 36,
     "metadata": {},
     "output_type": "execute_result"
    }
   ],
   "source": [
    "y_train.shape"
   ]
  },
  {
   "cell_type": "code",
   "execution_count": 37,
   "id": "b93c057a",
   "metadata": {},
   "outputs": [
    {
     "data": {
      "text/plain": [
       "LinearRegression()"
      ]
     },
     "execution_count": 37,
     "metadata": {},
     "output_type": "execute_result"
    }
   ],
   "source": [
    "lr.fit(x_train,y_train)"
   ]
  },
  {
   "cell_type": "code",
   "execution_count": 38,
   "id": "8a910815",
   "metadata": {},
   "outputs": [
    {
     "name": "stdout",
     "output_type": "stream",
     "text": [
      "0.9935760673874294\n",
      "Mean absolute error 0.03547603206580382\n",
      "Mean Sqared error 0.0017965535594189096\n"
     ]
    }
   ],
   "source": [
    "lr.score(x_train,y_train)\n",
    "pred=lr.predict(x_test)\n",
    "print(r2_score(y_test,pred))\n",
    "print('Mean absolute error',mean_absolute_error(y_test,pred))\n",
    "print('Mean Sqared error',mean_squared_error(y_test,pred))"
   ]
  },
  {
   "cell_type": "code",
   "execution_count": 61,
   "id": "06c83e9a",
   "metadata": {},
   "outputs": [
    {
     "data": {
      "image/png": "[encoded data removed]",
      "text/plain": [
       "<Figure size 576x432 with 1 Axes>"
      ]
     },
     "metadata": {
      "needs_background": "light"
     },
     "output_type": "display_data"
    }
   ],
   "source": [
    "\n",
    "plt.figure(figsize=(8,6))\n",
    "plt.scatter(x=y_test,y=pred, color='r')\n",
    "plt.plot(y_test,y_test, color='b')\n",
    "plt.xlabel('Actual Dystopia Residual',fontsize=14)\n",
    "plt.ylabel('Predicted Dystopia Residual',fontsize=14)\n",
    "plt.title('Linear Regression',fontsize=18)\n",
    "plt.show()"
   ]
  },
  {
   "cell_type": "code",
   "execution_count": 40,
   "id": "65de002a",
   "metadata": {},
   "outputs": [],
   "source": [
    "from sklearn.ensemble import RandomForestRegressor\n",
    "from sklearn.tree import DecisionTreeRegressor\n",
    "from sklearn.svm import SVR"
   ]
  },
  {
   "cell_type": "code",
   "execution_count": 49,
   "id": "b9ddf75a",
   "metadata": {},
   "outputs": [
    {
     "name": "stdout",
     "output_type": "stream",
     "text": [
      "0.28408705932323053\n",
      "Mean absolute error 0.35775180000000006\n",
      "Mean Sqared error 0.20131464925800002\n"
     ]
    }
   ],
   "source": [
    "dt=DecisionTreeRegressor()\n",
    "dt.fit(x_train,y_train)\n",
    "pred1=dt.predict(x_test)\n",
    "print(r2_score(y_test,pred))\n",
    "print('Mean absolute error',mean_absolute_error(y_test,pred1))\n",
    "print('Mean Sqared error',mean_squared_error(y_test,pred1))"
   ]
  },
  {
   "cell_type": "code",
   "execution_count": 45,
   "id": "b8f72dd6",
   "metadata": {},
   "outputs": [
    {
     "name": "stdout",
     "output_type": "stream",
     "text": [
      "0.28408705932323053\n",
      "Mean absolute error 0.30461726199999994\n",
      "Mean Sqared error 0.1549444764687822\n"
     ]
    }
   ],
   "source": [
    "rf=RandomForestRegressor()\n",
    "rf.fit(x_train,y_train)\n",
    "pred1=rf.predict(x_test)\n",
    "print(r2_score(y_test,pred))\n",
    "print('Mean absolute error',mean_absolute_error(y_test,pred1))\n",
    "print('Mean Sqared error',mean_squared_error(y_test,pred1))"
   ]
  },
  {
   "cell_type": "code",
   "execution_count": 46,
   "id": "ad939402",
   "metadata": {},
   "outputs": [
    {
     "name": "stdout",
     "output_type": "stream",
     "text": [
      "0.28408705932323053\n",
      "Mean absolute error 0.42609184179191645\n",
      "Mean Sqared error 0.2869912296197314\n"
     ]
    }
   ],
   "source": [
    "sv=SVR()\n",
    "sv.fit(x_train,y_train)\n",
    "pred1=sv.predict(x_test)\n",
    "print(r2_score(y_test,pred))\n",
    "print('Mean absolute error',mean_absolute_error(y_test,pred1))\n",
    "print('Mean Sqared error',mean_squared_error(y_test,pred1))"
   ]
  },
  {
   "cell_type": "code",
   "execution_count": 47,
   "id": "c1f44648",
   "metadata": {},
   "outputs": [],
   "source": [
    "from sklearn.model_selection import cross_val_score"
   ]
  },
  {
   "cell_type": "code",
   "execution_count": 50,
   "id": "54ab4cd3",
   "metadata": {},
   "outputs": [
    {
     "name": "stdout",
     "output_type": "stream",
     "text": [
      "-1.440074250666933\n"
     ]
    }
   ],
   "source": [
    "print(cross_val_score(dt,x,y,cv=5).mean())"
   ]
  },
  {
   "cell_type": "code",
   "execution_count": 51,
   "id": "e50cfb1a",
   "metadata": {},
   "outputs": [
    {
     "name": "stdout",
     "output_type": "stream",
     "text": [
      "-0.6187695941508183\n"
     ]
    }
   ],
   "source": [
    "print(cross_val_score(rf,x,y,cv=5).mean())"
   ]
  },
  {
   "cell_type": "code",
   "execution_count": 52,
   "id": "79fe2dc8",
   "metadata": {},
   "outputs": [
    {
     "name": "stdout",
     "output_type": "stream",
     "text": [
      "-0.5585735609222294\n"
     ]
    }
   ],
   "source": [
    "print(cross_val_score(sv,x,y,cv=5).mean())"
   ]
  },
  {
   "cell_type": "markdown",
   "id": "b9a74900",
   "metadata": {},
   "source": [
    "# Regularization"
   ]
  },
  {
   "cell_type": "code",
   "execution_count": 54,
   "id": "f7dc773d",
   "metadata": {},
   "outputs": [],
   "source": [
    "from sklearn.linear_model import Lasso,Ridge,ElasticNet\n",
    "from sklearn.model_selection import GridSearchCV"
   ]
  },
  {
   "cell_type": "code",
   "execution_count": 55,
   "id": "690c29a4",
   "metadata": {},
   "outputs": [
    {
     "name": "stdout",
     "output_type": "stream",
     "text": [
      "{'alpha': 0.0001, 'random_state': 0}\n"
     ]
    }
   ],
   "source": [
    "parameters = {'alpha':[.0001, .001, .01, .1, 1, 10],'random_state':list(range(0,10))}\n",
    "ls = Lasso()\n",
    "gv = GridSearchCV(ls,parameters)\n",
    "gv.fit(x_train,y_train)\n",
    "\n",
    "print(gv.best_params_)"
   ]
  },
  {
   "cell_type": "code",
   "execution_count": 62,
   "id": "eb7d65ce",
   "metadata": {},
   "outputs": [
    {
     "name": "stdout",
     "output_type": "stream",
     "text": [
      "0.9935804974531864\n"
     ]
    }
   ],
   "source": [
    "ls = Lasso(alpha=0.0001,random_state=0)\n",
    "ls.fit(x_train,y_train)\n",
    "ls.score(x_train,y_train)\n",
    "pred_ls = ls.predict(x_test)\n",
    "Model=r2_score(y_test,pred_ls)\n",
    "print(Model)"
   ]
  },
  {
   "cell_type": "code",
   "execution_count": 63,
   "id": "56c98727",
   "metadata": {},
   "outputs": [
    {
     "name": "stdout",
     "output_type": "stream",
     "text": [
      "0.978748883885169\n"
     ]
    }
   ],
   "source": [
    "print(cross_val_score(ls,x,y,cv=5).mean())"
   ]
  },
  {
   "cell_type": "markdown",
   "id": "bc6fe88d",
   "metadata": {},
   "source": [
    "# Saving Model"
   ]
  },
  {
   "cell_type": "code",
   "execution_count": 64,
   "id": "f3395164",
   "metadata": {},
   "outputs": [],
   "source": [
    "import pickle\n",
    "filename = 'Happiness.pkl'\n",
    "pickle.dump(ls, open(filename, 'wb'))"
   ]
  },
  {
   "cell_type": "code",
   "execution_count": 66,
   "id": "ec12d313",
   "metadata": {},
   "outputs": [
    {
     "name": "stdout",
     "output_type": "stream",
     "text": [
      "0.9935804974531864\n"
     ]
    }
   ],
   "source": [
    "loaded_model = pickle.load(open('Happiness.pkl', 'rb'))\n",
    "result = loaded_model.score(x_test, y_test)\n",
    "print(result)"
   ]
  },
  {
   "cell_type": "code",
   "execution_count": null,
   "id": "0fb2d3d8",
   "metadata": {},
   "outputs": [],
   "source": []
  }
 ],
 "metadata": {
  "kernelspec": {
   "display_name": "Python 3",
   "language": "python",
   "name": "python3"
  },
  "language_info": {
   "codemirror_mode": {
    "name": "ipython",
    "version": 3
   },
   "file_extension": ".py",
   "mimetype": "text/x-python",
   "name": "python",
   "nbconvert_exporter": "python",
   "pygments_lexer": "ipython3",
   "version": "3.8.8"
  }
 },
 "nbformat": 4,
 "nbformat_minor": 5
}
